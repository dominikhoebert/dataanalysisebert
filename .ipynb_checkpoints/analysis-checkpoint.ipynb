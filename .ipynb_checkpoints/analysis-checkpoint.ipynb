{
 "cells": [
  {
   "cell_type": "code",
   "execution_count": 1,
   "metadata": {},
   "outputs": [
    {
     "data": {
      "text/html": [
       "        <script type=\"text/javascript\">\n",
       "        window.PlotlyConfig = {MathJaxConfig: 'local'};\n",
       "        if (window.MathJax) {MathJax.Hub.Config({SVG: {font: \"STIX-Web\"}});}\n",
       "        if (typeof require !== 'undefined') {\n",
       "        require.undef(\"plotly\");\n",
       "        requirejs.config({\n",
       "            paths: {\n",
       "                'plotly': ['https://cdn.plot.ly/plotly-latest.min']\n",
       "            }\n",
       "        });\n",
       "        require(['plotly'], function(Plotly) {\n",
       "            window._Plotly = Plotly;\n",
       "        });\n",
       "        }\n",
       "        </script>\n",
       "        "
      ]
     },
     "metadata": {},
     "output_type": "display_data"
    },
    {
     "data": {
      "text/html": [
       "        <script type=\"text/javascript\">\n",
       "        window.PlotlyConfig = {MathJaxConfig: 'local'};\n",
       "        if (window.MathJax) {MathJax.Hub.Config({SVG: {font: \"STIX-Web\"}});}\n",
       "        if (typeof require !== 'undefined') {\n",
       "        require.undef(\"plotly\");\n",
       "        requirejs.config({\n",
       "            paths: {\n",
       "                'plotly': ['https://cdn.plot.ly/plotly-latest.min']\n",
       "            }\n",
       "        });\n",
       "        require(['plotly'], function(Plotly) {\n",
       "            window._Plotly = Plotly;\n",
       "        });\n",
       "        }\n",
       "        </script>\n",
       "        "
      ]
     },
     "metadata": {},
     "output_type": "display_data"
    }
   ],
   "source": [
    "import numpy as np\n",
    "import pandas as pd\n",
    "import cufflinks as cf\n",
    "import plotly\n",
    "from plotly.offline import iplot, init_notebook_mode\n",
    "cf.go_offline(connected=True)\n",
    "init_notebook_mode(connected=True)\n",
    "from ipywidgets import interact, interact_manual\n",
    "#from dataprep.eda import plot\n",
    "import datetime\n",
    "import ipywidgets as widgets\n",
    "from tqdm import tqdm\n",
    "import plotly.express as px\n",
    "save_images=True\n",
    "orientation='h'"
   ]
  },
  {
   "cell_type": "code",
   "execution_count": 2,
   "metadata": {},
   "outputs": [],
   "source": [
    "if orientation=='h':\n",
    "    x='x'\n",
    "    y='y'\n",
    "    shift='xshift'\n",
    "else:\n",
    "    x='y'\n",
    "    y='x'\n",
    "    shift='yshift'"
   ]
  },
  {
   "cell_type": "code",
   "execution_count": 3,
   "metadata": {},
   "outputs": [],
   "source": [
    "df = pd.read_csv(\"motivation.csv\").drop([\"Unnamed: 0\"], axis=1)"
   ]
  },
  {
   "cell_type": "markdown",
   "metadata": {},
   "source": [
    "### Frage Symbole:\n",
    "* F5-9, 16 ,17   s   Stars 1-5\n",
    "* F10-12         w   wichtig 'sehr wichtig', 'wichtig', 'egal', 'nicht wichtig', 'gar nicht wichtig'\n",
    "* F13, 15, Kommentare  t   text\n",
    "* F14            m   multiple choice"
   ]
  },
  {
   "cell_type": "code",
   "execution_count": 4,
   "metadata": {},
   "outputs": [],
   "source": [
    "df_columns=df.columns.tolist()\n",
    "new_columns=['ID', 'Startzeit', 'Fertigstellungszeit', 'Schulform', 'Alter', 'Schulstufe', 'Geschlecht', 'F5', 'F6', 'F7', 'F8', 'F9', 'F10a', 'F10b', 'F10c', 'F11a',\n",
    " 'F11b', 'F11c', 'F11d', 'F11e', 'F12a', 'F12b', 'F12c', 'F12d', 'F12e', 'F13', 'F14', 'F15', 'F16', 'F17', 'Kommentare', 'Schule']\n",
    "df.columns = new_columns\n",
    "groups=['Alter', 'Schulform', 'Geschlecht', 'Schule']"
   ]
  },
  {
   "cell_type": "code",
   "execution_count": 5,
   "metadata": {},
   "outputs": [],
   "source": [
    "known_schools=['HTL Spengergasse', 'bautechnikum', 'HTL Rennweg', 'TGM', 'hblva17']\n",
    "df.Schule[df.Schule=='l2']=\"Andere\"\n",
    "df.Schule[df.Schule.isnull()]=\"Andere\""
   ]
  },
  {
   "cell_type": "code",
   "execution_count": 6,
   "metadata": {},
   "outputs": [],
   "source": [
    "#plot(df.drop(['index', 'ID', 'Startzeit', 'Fertigstellungszeit', 'E-Mail', 'Name', 'F13', 'F14', 'F15', 'Kommentare', 'Klasse'], axis=1))"
   ]
  },
  {
   "cell_type": "code",
   "execution_count": 7,
   "metadata": {},
   "outputs": [
    {
     "ename": "ValueError",
     "evalue": "\nThe orca executable is required to export figures as static images,\nbut it could not be found on the system path.\n\nSearched for executable 'orca' on the following path:\n    /Users/dominik/anaconda3/bin\n    /Users/dominik/anaconda3/condabin\n    /usr/bin\n    /bin\n    /usr/sbin\n    /sbin\n\nIf you haven't installed orca yet, you can do so using conda as follows:\n\n    $ conda install -c plotly plotly-orca\n\nAlternatively, see other installation methods in the orca project README at\nhttps://github.com/plotly/orca\n\nAfter installation is complete, no further configuration should be needed.\n\nIf you have installed orca, then for some reason plotly.py was unable to\nlocate it. In this case, set the `plotly.io.orca.config.executable`\nproperty to the full path of your orca executable. For example:\n\n    >>> plotly.io.orca.config.executable = '/path/to/orca'\n\nAfter updating this executable property, try the export operation again.\nIf it is successful then you may want to save this configuration so that it\nwill be applied automatically in future sessions. You can do this as follows:\n\n    >>> plotly.io.orca.config.save()\n\nIf you're still having trouble, feel free to ask for help on the forums at\nhttps://community.plot.ly/c/api/python\n",
     "output_type": "error",
     "traceback": [
      "\u001b[0;31m---------------------------------------------------------------------------\u001b[0m",
      "\u001b[0;31mValueError\u001b[0m                                Traceback (most recent call last)",
      "\u001b[0;32m<ipython-input-7-40e42cafc266>\u001b[0m in \u001b[0;36m<module>\u001b[0;34m\u001b[0m\n\u001b[1;32m      4\u001b[0m \u001b[0mfig\u001b[0m\u001b[0;34m=\u001b[0m\u001b[0mpx\u001b[0m\u001b[0;34m.\u001b[0m\u001b[0mpie\u001b[0m\u001b[0;34m(\u001b[0m\u001b[0md\u001b[0m\u001b[0;34m,\u001b[0m \u001b[0mvalues\u001b[0m\u001b[0;34m=\u001b[0m\u001b[0;34m'Anzahl'\u001b[0m\u001b[0;34m,\u001b[0m \u001b[0mnames\u001b[0m\u001b[0;34m=\u001b[0m\u001b[0md\u001b[0m\u001b[0;34m.\u001b[0m\u001b[0mindex\u001b[0m\u001b[0;34m,\u001b[0m \u001b[0mwidth\u001b[0m\u001b[0;34m=\u001b[0m\u001b[0;36m500\u001b[0m\u001b[0;34m,\u001b[0m \u001b[0mheight\u001b[0m\u001b[0;34m=\u001b[0m\u001b[0;36m400\u001b[0m\u001b[0;34m,\u001b[0m \u001b[0mtitle\u001b[0m\u001b[0;34m=\u001b[0m\u001b[0;34m'Teilnehmer nach Geschlecht'\u001b[0m\u001b[0;34m)\u001b[0m\u001b[0;34m\u001b[0m\u001b[0;34m\u001b[0m\u001b[0m\n\u001b[1;32m      5\u001b[0m \u001b[0;32mif\u001b[0m \u001b[0msave_images\u001b[0m\u001b[0;34m:\u001b[0m\u001b[0;34m\u001b[0m\u001b[0;34m\u001b[0m\u001b[0m\n\u001b[0;32m----> 6\u001b[0;31m     \u001b[0mfig\u001b[0m\u001b[0;34m.\u001b[0m\u001b[0mwrite_image\u001b[0m\u001b[0;34m(\u001b[0m\u001b[0;34mf\"graphes/Teilnehmer nach Geschlecht.png\"\u001b[0m\u001b[0;34m)\u001b[0m\u001b[0;34m\u001b[0m\u001b[0;34m\u001b[0m\u001b[0m\n\u001b[0m\u001b[1;32m      7\u001b[0m \u001b[0mfig\u001b[0m\u001b[0;34m.\u001b[0m\u001b[0mshow\u001b[0m\u001b[0;34m(\u001b[0m\u001b[0;34m)\u001b[0m\u001b[0;34m\u001b[0m\u001b[0;34m\u001b[0m\u001b[0m\n\u001b[1;32m      8\u001b[0m \u001b[0md\u001b[0m\u001b[0;34m\u001b[0m\u001b[0;34m\u001b[0m\u001b[0m\n",
      "\u001b[0;32m~/anaconda3/lib/python3.7/site-packages/plotly/basedatatypes.py\u001b[0m in \u001b[0;36mwrite_image\u001b[0;34m(self, *args, **kwargs)\u001b[0m\n\u001b[1;32m   3804\u001b[0m         \u001b[0;32mimport\u001b[0m \u001b[0mplotly\u001b[0m\u001b[0;34m.\u001b[0m\u001b[0mio\u001b[0m \u001b[0;32mas\u001b[0m \u001b[0mpio\u001b[0m\u001b[0;34m\u001b[0m\u001b[0;34m\u001b[0m\u001b[0m\n\u001b[1;32m   3805\u001b[0m \u001b[0;34m\u001b[0m\u001b[0m\n\u001b[0;32m-> 3806\u001b[0;31m         \u001b[0;32mreturn\u001b[0m \u001b[0mpio\u001b[0m\u001b[0;34m.\u001b[0m\u001b[0mwrite_image\u001b[0m\u001b[0;34m(\u001b[0m\u001b[0mself\u001b[0m\u001b[0;34m,\u001b[0m \u001b[0;34m*\u001b[0m\u001b[0margs\u001b[0m\u001b[0;34m,\u001b[0m \u001b[0;34m**\u001b[0m\u001b[0mkwargs\u001b[0m\u001b[0;34m)\u001b[0m\u001b[0;34m\u001b[0m\u001b[0;34m\u001b[0m\u001b[0m\n\u001b[0m\u001b[1;32m   3807\u001b[0m \u001b[0;34m\u001b[0m\u001b[0m\n\u001b[1;32m   3808\u001b[0m     \u001b[0;31m# Static helpers\u001b[0m\u001b[0;34m\u001b[0m\u001b[0;34m\u001b[0m\u001b[0;34m\u001b[0m\u001b[0m\n",
      "\u001b[0;32m~/anaconda3/lib/python3.7/site-packages/plotly/io/_kaleido.py\u001b[0m in \u001b[0;36mwrite_image\u001b[0;34m(fig, file, format, scale, width, height, validate, engine)\u001b[0m\n\u001b[1;32m    250\u001b[0m         \u001b[0mheight\u001b[0m\u001b[0;34m=\u001b[0m\u001b[0mheight\u001b[0m\u001b[0;34m,\u001b[0m\u001b[0;34m\u001b[0m\u001b[0;34m\u001b[0m\u001b[0m\n\u001b[1;32m    251\u001b[0m         \u001b[0mvalidate\u001b[0m\u001b[0;34m=\u001b[0m\u001b[0mvalidate\u001b[0m\u001b[0;34m,\u001b[0m\u001b[0;34m\u001b[0m\u001b[0;34m\u001b[0m\u001b[0m\n\u001b[0;32m--> 252\u001b[0;31m         \u001b[0mengine\u001b[0m\u001b[0;34m=\u001b[0m\u001b[0mengine\u001b[0m\u001b[0;34m,\u001b[0m\u001b[0;34m\u001b[0m\u001b[0;34m\u001b[0m\u001b[0m\n\u001b[0m\u001b[1;32m    253\u001b[0m     )\n\u001b[1;32m    254\u001b[0m \u001b[0;34m\u001b[0m\u001b[0m\n",
      "\u001b[0;32m~/anaconda3/lib/python3.7/site-packages/plotly/io/_kaleido.py\u001b[0m in \u001b[0;36mto_image\u001b[0;34m(fig, format, width, height, scale, validate, engine)\u001b[0m\n\u001b[1;32m    107\u001b[0m             \u001b[0mheight\u001b[0m\u001b[0;34m=\u001b[0m\u001b[0mheight\u001b[0m\u001b[0;34m,\u001b[0m\u001b[0;34m\u001b[0m\u001b[0;34m\u001b[0m\u001b[0m\n\u001b[1;32m    108\u001b[0m             \u001b[0mscale\u001b[0m\u001b[0;34m=\u001b[0m\u001b[0mscale\u001b[0m\u001b[0;34m,\u001b[0m\u001b[0;34m\u001b[0m\u001b[0;34m\u001b[0m\u001b[0m\n\u001b[0;32m--> 109\u001b[0;31m             \u001b[0mvalidate\u001b[0m\u001b[0;34m=\u001b[0m\u001b[0mvalidate\u001b[0m\u001b[0;34m,\u001b[0m\u001b[0;34m\u001b[0m\u001b[0;34m\u001b[0m\u001b[0m\n\u001b[0m\u001b[1;32m    110\u001b[0m         )\n\u001b[1;32m    111\u001b[0m     \u001b[0;32melif\u001b[0m \u001b[0mengine\u001b[0m \u001b[0;34m!=\u001b[0m \u001b[0;34m\"kaleido\"\u001b[0m\u001b[0;34m:\u001b[0m\u001b[0;34m\u001b[0m\u001b[0;34m\u001b[0m\u001b[0m\n",
      "\u001b[0;32m~/anaconda3/lib/python3.7/site-packages/plotly/io/_orca.py\u001b[0m in \u001b[0;36mto_image\u001b[0;34m(fig, format, width, height, scale, validate)\u001b[0m\n\u001b[1;32m   1533\u001b[0m     \u001b[0;31m# Make sure orca sever is running\u001b[0m\u001b[0;34m\u001b[0m\u001b[0;34m\u001b[0m\u001b[0;34m\u001b[0m\u001b[0m\n\u001b[1;32m   1534\u001b[0m     \u001b[0;31m# -------------------------------\u001b[0m\u001b[0;34m\u001b[0m\u001b[0;34m\u001b[0m\u001b[0;34m\u001b[0m\u001b[0m\n\u001b[0;32m-> 1535\u001b[0;31m     \u001b[0mensure_server\u001b[0m\u001b[0;34m(\u001b[0m\u001b[0;34m)\u001b[0m\u001b[0;34m\u001b[0m\u001b[0;34m\u001b[0m\u001b[0m\n\u001b[0m\u001b[1;32m   1536\u001b[0m \u001b[0;34m\u001b[0m\u001b[0m\n\u001b[1;32m   1537\u001b[0m     \u001b[0;31m# Handle defaults\u001b[0m\u001b[0;34m\u001b[0m\u001b[0;34m\u001b[0m\u001b[0;34m\u001b[0m\u001b[0m\n",
      "\u001b[0;32m~/anaconda3/lib/python3.7/site-packages/plotly/io/_orca.py\u001b[0m in \u001b[0;36mensure_server\u001b[0;34m()\u001b[0m\n\u001b[1;32m   1388\u001b[0m         \u001b[0;31m# Validate orca executable only if server_url is not provided\u001b[0m\u001b[0;34m\u001b[0m\u001b[0;34m\u001b[0m\u001b[0;34m\u001b[0m\u001b[0m\n\u001b[1;32m   1389\u001b[0m         \u001b[0;32mif\u001b[0m \u001b[0mstatus\u001b[0m\u001b[0;34m.\u001b[0m\u001b[0mstate\u001b[0m \u001b[0;34m==\u001b[0m \u001b[0;34m\"unvalidated\"\u001b[0m\u001b[0;34m:\u001b[0m\u001b[0;34m\u001b[0m\u001b[0;34m\u001b[0m\u001b[0m\n\u001b[0;32m-> 1390\u001b[0;31m             \u001b[0mvalidate_executable\u001b[0m\u001b[0;34m(\u001b[0m\u001b[0;34m)\u001b[0m\u001b[0;34m\u001b[0m\u001b[0;34m\u001b[0m\u001b[0m\n\u001b[0m\u001b[1;32m   1391\u001b[0m         \u001b[0;31m# Acquire lock to make sure that we keep the properties of orca_state\u001b[0m\u001b[0;34m\u001b[0m\u001b[0;34m\u001b[0m\u001b[0;34m\u001b[0m\u001b[0m\n\u001b[1;32m   1392\u001b[0m         \u001b[0;31m# consistent across threads\u001b[0m\u001b[0;34m\u001b[0m\u001b[0;34m\u001b[0m\u001b[0;34m\u001b[0m\u001b[0m\n",
      "\u001b[0;32m~/anaconda3/lib/python3.7/site-packages/plotly/io/_orca.py\u001b[0m in \u001b[0;36mvalidate_executable\u001b[0;34m()\u001b[0m\n\u001b[1;32m   1085\u001b[0m                 \u001b[0mexecutable\u001b[0m\u001b[0;34m=\u001b[0m\u001b[0mconfig\u001b[0m\u001b[0;34m.\u001b[0m\u001b[0mexecutable\u001b[0m\u001b[0;34m,\u001b[0m\u001b[0;34m\u001b[0m\u001b[0;34m\u001b[0m\u001b[0m\n\u001b[1;32m   1086\u001b[0m                 \u001b[0mformatted_path\u001b[0m\u001b[0;34m=\u001b[0m\u001b[0mformatted_path\u001b[0m\u001b[0;34m,\u001b[0m\u001b[0;34m\u001b[0m\u001b[0;34m\u001b[0m\u001b[0m\n\u001b[0;32m-> 1087\u001b[0;31m                 \u001b[0minstructions\u001b[0m\u001b[0;34m=\u001b[0m\u001b[0minstall_location_instructions\u001b[0m\u001b[0;34m,\u001b[0m\u001b[0;34m\u001b[0m\u001b[0;34m\u001b[0m\u001b[0m\n\u001b[0m\u001b[1;32m   1088\u001b[0m             )\n\u001b[1;32m   1089\u001b[0m         )\n",
      "\u001b[0;31mValueError\u001b[0m: \nThe orca executable is required to export figures as static images,\nbut it could not be found on the system path.\n\nSearched for executable 'orca' on the following path:\n    /Users/dominik/anaconda3/bin\n    /Users/dominik/anaconda3/condabin\n    /usr/bin\n    /bin\n    /usr/sbin\n    /sbin\n\nIf you haven't installed orca yet, you can do so using conda as follows:\n\n    $ conda install -c plotly plotly-orca\n\nAlternatively, see other installation methods in the orca project README at\nhttps://github.com/plotly/orca\n\nAfter installation is complete, no further configuration should be needed.\n\nIf you have installed orca, then for some reason plotly.py was unable to\nlocate it. In this case, set the `plotly.io.orca.config.executable`\nproperty to the full path of your orca executable. For example:\n\n    >>> plotly.io.orca.config.executable = '/path/to/orca'\n\nAfter updating this executable property, try the export operation again.\nIf it is successful then you may want to save this configuration so that it\nwill be applied automatically in future sessions. You can do this as follows:\n\n    >>> plotly.io.orca.config.save()\n\nIf you're still having trouble, feel free to ask for help on the forums at\nhttps://community.plot.ly/c/api/python\n"
     ]
    }
   ],
   "source": [
    "d=df[['Geschlecht', 'ID']]\n",
    "d=d.groupby(['Geschlecht']).count()\n",
    "d=d.rename(columns={'ID':'Anzahl'})\n",
    "fig=px.pie(d, values='Anzahl', names=d.index, width=500, height=400, title='Teilnehmer nach Geschlecht')\n",
    "if save_images:\n",
    "    fig.write_image(f\"graphes/Teilnehmer nach Geschlecht.png\")\n",
    "fig.show()\n",
    "d"
   ]
  },
  {
   "cell_type": "code",
   "execution_count": null,
   "metadata": {},
   "outputs": [],
   "source": [
    "d=df[['Schulstufe', 'ID']]\n",
    "d=d.groupby(['Schulstufe']).count()\n",
    "d=d.rename(columns={'ID':'Anzahl'})\n",
    "fig=px.pie(d, values='Anzahl', names=d.index, width=500, height=400, title='Teilnehmer nach Schulstufe')\n",
    "if save_images:\n",
    "    fig.write_image(f\"graphes/Teilnehmer nach Schulstufe.png\")\n",
    "fig.show()\n",
    "d"
   ]
  },
  {
   "cell_type": "code",
   "execution_count": null,
   "metadata": {},
   "outputs": [],
   "source": [
    "d=df[['Schulform', 'ID']]\n",
    "d=d.groupby(['Schulform']).count()\n",
    "d=d.rename(columns={'ID':'Anzahl'})\n",
    "fig=px.pie(d, values='Anzahl', names=d.index, width=500, height=400, title='Teilnehmer nach Schulform')\n",
    "if save_images:\n",
    "    fig.write_image(f\"graphes/Teilnehmer nach Schulform.png\")\n",
    "fig.show()\n",
    "d"
   ]
  },
  {
   "cell_type": "code",
   "execution_count": null,
   "metadata": {},
   "outputs": [],
   "source": [
    "d=df[['Alter', 'ID']]\n",
    "d=d.groupby(['Alter']).count()\n",
    "d=d.rename(columns={'ID':'Anzahl'})\n",
    "fig=px.pie(d, values='Anzahl', names=d.index, width=500, height=400, title='Teilnehmer nach Alter')\n",
    "if save_images:\n",
    "    fig.write_image(f\"graphes/Teilnehmer nach Alter.png\")\n",
    "fig.show()\n",
    "d"
   ]
  },
  {
   "cell_type": "code",
   "execution_count": null,
   "metadata": {},
   "outputs": [],
   "source": [
    "d=df[['ID', 'Alter', 'Schulstufe', 'Schulform', 'Geschlecht', 'Schule']]\n",
    "d1=d[['ID', 'Alter']].groupby(['Alter']).count().reset_index().rename(columns={'Alter':'Legende'})\n",
    "d1['Merkmal']='Alter'\n",
    "d1['Prozent']=d1.ID/d1.ID.sum()\n",
    "\n",
    "d2=d[['ID', 'Schulstufe']].groupby(['Schulstufe']).count().reset_index().rename(columns={'Schulstufe':'Legende'})\n",
    "d2['Merkmal']='Schulstufe'\n",
    "d2['Legende'] = pd.Categorical(d2['Legende'], [\"9\", \"10\", \"11\", \"12\", \"13\", \">13\"])\n",
    "d2=d2.sort_values(\"Legende\")\n",
    "d2['Prozent']=d2.ID/d2.ID.sum()\n",
    "\n",
    "d3=d[['ID', 'Schule']].groupby(['Schule']).count().reset_index().rename(columns={'Schule':'Legende'})\n",
    "d3['Merkmal']='Schule'\n",
    "d3['Prozent']=d3.ID/d3.ID.sum()\n",
    "\n",
    "d4=d[['ID', 'Schulform']].groupby(['Schulform']).count().reset_index().rename(columns={'Schulform':'Legende'})\n",
    "d4['Merkmal']='Schulform'\n",
    "d4['Prozent']=d4.ID/d4.ID.sum()\n",
    "\n",
    "d5=d[['ID', 'Geschlecht']].groupby(['Geschlecht']).count().reset_index().rename(columns={'Geschlecht':'Legende'})\n",
    "d5['Merkmal']='Geschlecht'\n",
    "d5['Prozent']=d5.ID/d5.ID.sum()\n",
    "\n",
    "\n",
    "d=pd.concat([d1, d2, d3, d4, d5]).rename(columns={'ID':'Anzahl'})\n",
    "fig = px.bar(d, x=\"Merkmal\", y=\"Anzahl\", color=\"Legende\", title=\"Teilnehmer\", text='Prozent', width=700, height=700)\n",
    "fig.update_traces(texttemplate='%{text:.3p}')\n",
    "fig.show()\n",
    "if save_images:\n",
    "    fig.write_image(f\"graphes/Teilnehmer.png\")\n",
    "d[['Merkmal', 'Legende', 'Anzahl', 'Prozent']]"
   ]
  },
  {
   "cell_type": "code",
   "execution_count": null,
   "metadata": {},
   "outputs": [],
   "source": [
    "d=df[['F5', 'F6', 'F7', 'F8', 'F9', 'F16', 'F17']]\n",
    "titles={'F5':'Genau so gut wie Präsenz', 'F6':'Bedingungen zuhause', 'F7':'Laptop von zuhause', 'F8':'Online anstrengender', 'F9':'Arbeitbelastung stärker', \n",
    "        'F16':'Ältere Lehrkräfte', 'F17': 'Zukunft online'}\n",
    "d.rename(columns=titles, inplace=True)\n",
    "_data=d.iplot(kind='box', dimensions=(800, 500), title='Fragen 5, 6, 7, 8, 9, 16, 17 (5 Sterne = trifft voll zu)', asFigure=True, orientation=orientation)\n",
    "_data.update_layout(showlegend=False)\n",
    "mean=d.mean()\n",
    "std=d.std()\n",
    "for c in d.columns:\n",
    "    a={x:5, y:c, 'text':f'\\u2300{mean[c]:.2}\\u00B1{std[c]:.2}', 'showarrow': False, shift:40}\n",
    "    _data.add_annotation(a)\n",
    "_data.iplot()\n",
    "if save_images:\n",
    "    _data.write_image(f\"graphes/Fragen 5, 6, 7, 8, 9, 16, 17.png\")"
   ]
  },
  {
   "cell_type": "code",
   "execution_count": null,
   "metadata": {},
   "outputs": [],
   "source": [
    "def ploting5_17(Frage='F5', Gruppieren='Geschlecht'):\n",
    "    d=df[[Frage, Gruppieren]].pivot(columns=Gruppieren, values=Frage)\n",
    "    d.drop([np.nan], axis=1, inplace=True, errors='ignore')\n",
    "    title=df_columns[new_columns.index(Frage)]\n",
    "    title=title[:90] + \"-<br>\" + title[90:]\n",
    "    _data=d.iplot(kind='box', dimensions=(700, 400), title=f'{Frage} {title}', xTitle=f'Gruppiert nach {Gruppieren}', asFigure=True, orientation=orientation)\n",
    "    _data['layout']['title']['font'] = dict(size=12)\n",
    "    _data.update_layout(showlegend=False)\n",
    "    mean=d.mean()\n",
    "    std=d.std()\n",
    "    for c in d.columns:\n",
    "        a={x:5, y:c, 'text':f'\\u2300{mean[c]:.2}\\u00B1{std[c]:.2}', 'showarrow': False, shift:40}\n",
    "        _data.add_annotation(a)\n",
    "    _data.iplot()\n",
    "    if save_images:\n",
    "        _data.write_image(f\"graphes/{Frage} nach {Gruppieren}.png\")\n",
    "\n",
    "interact(ploting5_17, Frage=['F5', 'F6', 'F7', 'F8', 'F9', 'F16', 'F17'], Gruppieren=groups)"
   ]
  },
  {
   "cell_type": "code",
   "execution_count": null,
   "metadata": {},
   "outputs": [],
   "source": [
    "for f in ['F5', 'F6', 'F7', 'F8', 'F9', 'F16', 'F17']:\n",
    "    for gr in groups:\n",
    "        ploting5_17(f, gr)"
   ]
  },
  {
   "cell_type": "code",
   "execution_count": null,
   "metadata": {},
   "outputs": [],
   "source": [
    "wichtig_values = {'sehr wichtig': 5, 'wichtig': 4, 'egal': 3, 'nicht wichtig': 2, 'gar nicht wichtig': 1}\n",
    "fragen=['F10a', 'F10b', 'F10c', 'F11a', 'F11b', 'F11c', 'F11d', 'F11e', 'F12a', 'F12b', 'F12c', 'F12d', 'F12e']\n",
    "titles={'F10a': 'früh', 'F10b':'Ruhe', 'F10c':'Pausen', 'F11a':'strukturiert', 'F11b':'Übungen', 'F11c':'Spiele', 'F11d':'Gruppenarbeiten', 'F11e':'Klarheit', 'F12a':'privates', 'F12b':'namentlich', 'F12c':'zugibt nicht auskennen', 'F12d':'ich gelobt werde', 'F12e':'andere gelobt werden'}\n",
    "d=df[fragen]\n",
    "for f in fragen:\n",
    "    d[f].replace(wichtig_values, inplace=True)\n",
    "d.rename(columns=titles, inplace=True)\n",
    "_data=d.iplot(kind='box', dimensions=(800, 550), title='Fragen 10, 11, 12 (5 = sehr wichtig)', asFigure=True, orientation=orientation)\n",
    "_data['layout']['title']['font'] = dict(size=12)\n",
    "_data.update_layout(showlegend=False)\n",
    "mean=d.mean()\n",
    "std=d.std()\n",
    "for c in d.columns:\n",
    "    a={x:5, y:c, 'text':f'\\u2300{mean[c]:.2}\\u00B1{std[c]:.2}', 'showarrow': False, shift:40}\n",
    "    _data.add_annotation(a)\n",
    "_data.iplot()\n",
    "if save_images:\n",
    "    _data.write_image(f\"graphes/Fragen 10, 11, 12.png\")"
   ]
  },
  {
   "cell_type": "code",
   "execution_count": null,
   "metadata": {},
   "outputs": [],
   "source": [
    "def ploting10_11_12(Frage='F10a', Gruppieren='Geschlecht'):\n",
    "    d=df[[Frage, Gruppieren]]\n",
    "    d[Frage].replace(wichtig_values, inplace=True)\n",
    "    d=d.pivot(columns=Gruppieren, values=Frage)\n",
    "    d.drop([np.nan], axis=1, inplace=True, errors='ignore')\n",
    "    title=df_columns[new_columns.index(Frage)]\n",
    "    title=title[:90] + \"-<br>\" + title[90:]\n",
    "    _data=d.iplot(kind='box', dimensions=(700, 400), title=f'{Frage} {title}', xTitle=f'Gruppiert nach {Gruppieren}', asFigure=True, orientation=orientation)\n",
    "    _data['layout']['title']['font'] = dict(size=12)\n",
    "    _data.update_layout(showlegend=False)\n",
    "    mean=d.mean()\n",
    "    std=d.std()\n",
    "    for c in d.columns:\n",
    "        a={x:5, y:c, 'text':f'\\u2300{mean[c]:.2}\\u00B1{std[c]:.2}', 'showarrow': False, shift:40}\n",
    "        _data.add_annotation(a)\n",
    "    _data.iplot()\n",
    "    if save_images:\n",
    "        _data.write_image(f\"graphes/{Frage} nach {Gruppieren}.png\")\n",
    "\n",
    "interact(ploting10_11_12, Frage=fragen, Gruppieren=groups)"
   ]
  },
  {
   "cell_type": "code",
   "execution_count": null,
   "metadata": {},
   "outputs": [],
   "source": [
    "for f in fragen:\n",
    "    for gr in groups:\n",
    "        ploting10_11_12(f, gr)"
   ]
  },
  {
   "cell_type": "code",
   "execution_count": null,
   "metadata": {},
   "outputs": [],
   "source": [
    "df.F14=df.F14.str.split(';')"
   ]
  },
  {
   "cell_type": "code",
   "execution_count": null,
   "metadata": {},
   "outputs": [],
   "source": [
    "f14_answers=['direktes Gespräch mit Lehrkraft möglich',\n",
    " 'keine technischen Fertigkeiten (Computerbedienung) dafür erforderlich',\n",
    " 'Reaktion der Lehrkraft auf das Verhalten der Schüler/innen besser erkennbar',\n",
    " 'Zusammenarbeit mit Mitschüler/innen einfacher',\n",
    " 'Nachfragen einfacher',\n",
    " 'ruhigere Arbeitsumgebung als zuhause',\n",
    " 'Sonstige']"
   ]
  },
  {
   "cell_type": "code",
   "execution_count": null,
   "metadata": {},
   "outputs": [],
   "source": [
    "gesamt_anzahl=len(df)\n",
    "d=df[['Alter', 'Schulform', 'Geschlecht', 'Schule', 'F14']]\n",
    "for a in f14_answers:\n",
    "    d[a]=0\n",
    "for i, r in d.iterrows():\n",
    "    if isinstance(r.F14, list):\n",
    "        for a in f14_answers:\n",
    "            if a in r.F14:\n",
    "                d.at[i, a]=1\n",
    "d1=d.drop(['Alter', 'Schulform', 'Geschlecht', 'Schule', 'F14'], axis=1).sum().to_frame().rename(columns={0: 'Anzahl'})\n",
    "d1['Prozent']=d1.Anzahl/gesamt_anzahl\n",
    "_data=d1.drop(['Anzahl'], axis=1).T.iplot(kind='bar', asFigure=True, dimensions=(1300, 500),\n",
    "                                          title=\"F14 Kreuze an, welche Vorteile der Unterricht im Klassenzimmer gegenüber dem Onlineunterricht hat.\")\n",
    "_data.iplot()\n",
    "if save_images:\n",
    "    _data.write_image(f\"graphes/F14.png\")\n",
    "d1"
   ]
  },
  {
   "cell_type": "code",
   "execution_count": null,
   "metadata": {},
   "outputs": [],
   "source": [
    "def ploting14(Gruppieren='Geschlecht'):\n",
    "    l=groups.copy()\n",
    "    l.remove(Gruppieren)\n",
    "    d1=d.drop(l, axis=1).drop('F14', axis=1)\n",
    "    counts=d1[Gruppieren].value_counts()\n",
    "    d1=d1.groupby(Gruppieren).sum()\n",
    "    d1['sum']=counts\n",
    "    cols=d1.columns.tolist()\n",
    "    cols.remove('sum')\n",
    "    for c in cols:\n",
    "        d1[c]=d1[c]/d1['sum']\n",
    "    _data=d1.drop(['sum'], axis=1).iplot(kind='bar', dimensions=(1300, 500), title=f'F14 in Prozent: Kreuze an, welche Vorteile der Unterricht im' \n",
    "                                         +'Klassenzimmer gegenüber dem Onlineunterricht hat.', xTitle=f'Gruppiert nach {Gruppieren}', asFigure=True)\n",
    "    _data.iplot()\n",
    "    if save_images:\n",
    "        _data.write_image(f\"graphes/F14 nach {Gruppieren}.png\")\n",
    "\n",
    "interact(ploting14, Gruppieren=groups)"
   ]
  },
  {
   "cell_type": "code",
   "execution_count": null,
   "metadata": {},
   "outputs": [],
   "source": [
    "for gr in groups:\n",
    "    ploting14(gr)"
   ]
  },
  {
   "cell_type": "code",
   "execution_count": null,
   "metadata": {},
   "outputs": [],
   "source": []
  }
 ],
 "metadata": {
  "kernelspec": {
   "display_name": "Python 3",
   "language": "python",
   "name": "python3"
  },
  "language_info": {
   "codemirror_mode": {
    "name": "ipython",
    "version": 3
   },
   "file_extension": ".py",
   "mimetype": "text/x-python",
   "name": "python",
   "nbconvert_exporter": "python",
   "pygments_lexer": "ipython3",
   "version": "3.7.4"
  }
 },
 "nbformat": 4,
 "nbformat_minor": 4
}
