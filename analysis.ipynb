{
 "cells": [
  {
   "cell_type": "code",
   "execution_count": 1,
   "metadata": {},
   "outputs": [
    {
     "data": {
      "text/html": [
       "        <script type=\"text/javascript\">\n",
       "        window.PlotlyConfig = {MathJaxConfig: 'local'};\n",
       "        if (window.MathJax) {MathJax.Hub.Config({SVG: {font: \"STIX-Web\"}});}\n",
       "        if (typeof require !== 'undefined') {\n",
       "        require.undef(\"plotly\");\n",
       "        requirejs.config({\n",
       "            paths: {\n",
       "                'plotly': ['https://cdn.plot.ly/plotly-latest.min']\n",
       "            }\n",
       "        });\n",
       "        require(['plotly'], function(Plotly) {\n",
       "            window._Plotly = Plotly;\n",
       "        });\n",
       "        }\n",
       "        </script>\n",
       "        "
      ]
     },
     "metadata": {},
     "output_type": "display_data"
    },
    {
     "data": {
      "text/html": [
       "        <script type=\"text/javascript\">\n",
       "        window.PlotlyConfig = {MathJaxConfig: 'local'};\n",
       "        if (window.MathJax) {MathJax.Hub.Config({SVG: {font: \"STIX-Web\"}});}\n",
       "        if (typeof require !== 'undefined') {\n",
       "        require.undef(\"plotly\");\n",
       "        requirejs.config({\n",
       "            paths: {\n",
       "                'plotly': ['https://cdn.plot.ly/plotly-latest.min']\n",
       "            }\n",
       "        });\n",
       "        require(['plotly'], function(Plotly) {\n",
       "            window._Plotly = Plotly;\n",
       "        });\n",
       "        }\n",
       "        </script>\n",
       "        "
      ]
     },
     "metadata": {},
     "output_type": "display_data"
    },
    {
     "data": {
      "application/javascript": [
       "\n",
       "(function(root) {\n",
       "  function now() {\n",
       "    return new Date();\n",
       "  }\n",
       "\n",
       "  var force = true;\n",
       "\n",
       "  if (typeof root._bokeh_onload_callbacks === \"undefined\" || force === true) {\n",
       "    root._bokeh_onload_callbacks = [];\n",
       "    root._bokeh_is_loading = undefined;\n",
       "  }\n",
       "\n",
       "  var JS_MIME_TYPE = 'application/javascript';\n",
       "  var HTML_MIME_TYPE = 'text/html';\n",
       "  var EXEC_MIME_TYPE = 'application/vnd.bokehjs_exec.v0+json';\n",
       "  var CLASS_NAME = 'output_bokeh rendered_html';\n",
       "\n",
       "  /**\n",
       "   * Render data to the DOM node\n",
       "   */\n",
       "  function render(props, node) {\n",
       "    var script = document.createElement(\"script\");\n",
       "    node.appendChild(script);\n",
       "  }\n",
       "\n",
       "  /**\n",
       "   * Handle when an output is cleared or removed\n",
       "   */\n",
       "  function handleClearOutput(event, handle) {\n",
       "    var cell = handle.cell;\n",
       "\n",
       "    var id = cell.output_area._bokeh_element_id;\n",
       "    var server_id = cell.output_area._bokeh_server_id;\n",
       "    // Clean up Bokeh references\n",
       "    if (id != null && id in Bokeh.index) {\n",
       "      Bokeh.index[id].model.document.clear();\n",
       "      delete Bokeh.index[id];\n",
       "    }\n",
       "\n",
       "    if (server_id !== undefined) {\n",
       "      // Clean up Bokeh references\n",
       "      var cmd = \"from bokeh.io.state import curstate; print(curstate().uuid_to_server['\" + server_id + \"'].get_sessions()[0].document.roots[0]._id)\";\n",
       "      cell.notebook.kernel.execute(cmd, {\n",
       "        iopub: {\n",
       "          output: function(msg) {\n",
       "            var id = msg.content.text.trim();\n",
       "            if (id in Bokeh.index) {\n",
       "              Bokeh.index[id].model.document.clear();\n",
       "              delete Bokeh.index[id];\n",
       "            }\n",
       "          }\n",
       "        }\n",
       "      });\n",
       "      // Destroy server and session\n",
       "      var cmd = \"import bokeh.io.notebook as ion; ion.destroy_server('\" + server_id + \"')\";\n",
       "      cell.notebook.kernel.execute(cmd);\n",
       "    }\n",
       "  }\n",
       "\n",
       "  /**\n",
       "   * Handle when a new output is added\n",
       "   */\n",
       "  function handleAddOutput(event, handle) {\n",
       "    var output_area = handle.output_area;\n",
       "    var output = handle.output;\n",
       "\n",
       "    // limit handleAddOutput to display_data with EXEC_MIME_TYPE content only\n",
       "    if ((output.output_type != \"display_data\") || (!output.data.hasOwnProperty(EXEC_MIME_TYPE))) {\n",
       "      return\n",
       "    }\n",
       "\n",
       "    var toinsert = output_area.element.find(\".\" + CLASS_NAME.split(' ')[0]);\n",
       "\n",
       "    if (output.metadata[EXEC_MIME_TYPE][\"id\"] !== undefined) {\n",
       "      toinsert[toinsert.length - 1].firstChild.textContent = output.data[JS_MIME_TYPE];\n",
       "      // store reference to embed id on output_area\n",
       "      output_area._bokeh_element_id = output.metadata[EXEC_MIME_TYPE][\"id\"];\n",
       "    }\n",
       "    if (output.metadata[EXEC_MIME_TYPE][\"server_id\"] !== undefined) {\n",
       "      var bk_div = document.createElement(\"div\");\n",
       "      bk_div.innerHTML = output.data[HTML_MIME_TYPE];\n",
       "      var script_attrs = bk_div.children[0].attributes;\n",
       "      for (var i = 0; i < script_attrs.length; i++) {\n",
       "        toinsert[toinsert.length - 1].firstChild.setAttribute(script_attrs[i].name, script_attrs[i].value);\n",
       "        toinsert[toinsert.length - 1].firstChild.textContent = bk_div.children[0].textContent\n",
       "      }\n",
       "      // store reference to server id on output_area\n",
       "      output_area._bokeh_server_id = output.metadata[EXEC_MIME_TYPE][\"server_id\"];\n",
       "    }\n",
       "  }\n",
       "\n",
       "  function register_renderer(events, OutputArea) {\n",
       "\n",
       "    function append_mime(data, metadata, element) {\n",
       "      // create a DOM node to render to\n",
       "      var toinsert = this.create_output_subarea(\n",
       "        metadata,\n",
       "        CLASS_NAME,\n",
       "        EXEC_MIME_TYPE\n",
       "      );\n",
       "      this.keyboard_manager.register_events(toinsert);\n",
       "      // Render to node\n",
       "      var props = {data: data, metadata: metadata[EXEC_MIME_TYPE]};\n",
       "      render(props, toinsert[toinsert.length - 1]);\n",
       "      element.append(toinsert);\n",
       "      return toinsert\n",
       "    }\n",
       "\n",
       "    /* Handle when an output is cleared or removed */\n",
       "    events.on('clear_output.CodeCell', handleClearOutput);\n",
       "    events.on('delete.Cell', handleClearOutput);\n",
       "\n",
       "    /* Handle when a new output is added */\n",
       "    events.on('output_added.OutputArea', handleAddOutput);\n",
       "\n",
       "    /**\n",
       "     * Register the mime type and append_mime function with output_area\n",
       "     */\n",
       "    OutputArea.prototype.register_mime_type(EXEC_MIME_TYPE, append_mime, {\n",
       "      /* Is output safe? */\n",
       "      safe: true,\n",
       "      /* Index of renderer in `output_area.display_order` */\n",
       "      index: 0\n",
       "    });\n",
       "  }\n",
       "\n",
       "  // register the mime type if in Jupyter Notebook environment and previously unregistered\n",
       "  if (root.Jupyter !== undefined) {\n",
       "    var events = require('base/js/events');\n",
       "    var OutputArea = require('notebook/js/outputarea').OutputArea;\n",
       "\n",
       "    if (OutputArea.prototype.mime_types().indexOf(EXEC_MIME_TYPE) == -1) {\n",
       "      register_renderer(events, OutputArea);\n",
       "    }\n",
       "  }\n",
       "\n",
       "  \n",
       "  if (typeof (root._bokeh_timeout) === \"undefined\" || force === true) {\n",
       "    root._bokeh_timeout = Date.now() + 5000;\n",
       "    root._bokeh_failed_load = false;\n",
       "  }\n",
       "\n",
       "  var NB_LOAD_WARNING = {'data': {'text/html':\n",
       "     \"<div style='background-color: #fdd'>\\n\"+\n",
       "     \"<p>\\n\"+\n",
       "     \"BokehJS does not appear to have successfully loaded. If loading BokehJS from CDN, this \\n\"+\n",
       "     \"may be due to a slow or bad network connection. Possible fixes:\\n\"+\n",
       "     \"</p>\\n\"+\n",
       "     \"<ul>\\n\"+\n",
       "     \"<li>re-rerun `output_notebook()` to attempt to load from CDN again, or</li>\\n\"+\n",
       "     \"<li>use INLINE resources instead, as so:</li>\\n\"+\n",
       "     \"</ul>\\n\"+\n",
       "     \"<code>\\n\"+\n",
       "     \"from bokeh.resources import INLINE\\n\"+\n",
       "     \"output_notebook(resources=INLINE)\\n\"+\n",
       "     \"</code>\\n\"+\n",
       "     \"</div>\"}};\n",
       "\n",
       "  function display_loaded() {\n",
       "    var el = document.getElementById(null);\n",
       "    if (el != null) {\n",
       "      el.textContent = \"BokehJS is loading...\";\n",
       "    }\n",
       "    if (root.Bokeh !== undefined) {\n",
       "      if (el != null) {\n",
       "        el.textContent = \"BokehJS \" + root.Bokeh.version + \" successfully loaded.\";\n",
       "      }\n",
       "    } else if (Date.now() < root._bokeh_timeout) {\n",
       "      setTimeout(display_loaded, 100)\n",
       "    }\n",
       "  }\n",
       "\n",
       "\n",
       "  function run_callbacks() {\n",
       "    try {\n",
       "      root._bokeh_onload_callbacks.forEach(function(callback) {\n",
       "        if (callback != null)\n",
       "          callback();\n",
       "      });\n",
       "    } finally {\n",
       "      delete root._bokeh_onload_callbacks\n",
       "    }\n",
       "    console.debug(\"Bokeh: all callbacks have finished\");\n",
       "  }\n",
       "\n",
       "  function load_libs(css_urls, js_urls, callback) {\n",
       "    if (css_urls == null) css_urls = [];\n",
       "    if (js_urls == null) js_urls = [];\n",
       "\n",
       "    root._bokeh_onload_callbacks.push(callback);\n",
       "    if (root._bokeh_is_loading > 0) {\n",
       "      console.debug(\"Bokeh: BokehJS is being loaded, scheduling callback at\", now());\n",
       "      return null;\n",
       "    }\n",
       "    if (js_urls == null || js_urls.length === 0) {\n",
       "      run_callbacks();\n",
       "      return null;\n",
       "    }\n",
       "    console.debug(\"Bokeh: BokehJS not loaded, scheduling load and callback at\", now());\n",
       "    root._bokeh_is_loading = css_urls.length + js_urls.length;\n",
       "\n",
       "    function on_load() {\n",
       "      root._bokeh_is_loading--;\n",
       "      if (root._bokeh_is_loading === 0) {\n",
       "        console.debug(\"Bokeh: all BokehJS libraries/stylesheets loaded\");\n",
       "        run_callbacks()\n",
       "      }\n",
       "    }\n",
       "\n",
       "    function on_error() {\n",
       "      console.error(\"failed to load \" + url);\n",
       "    }\n",
       "\n",
       "    for (var i = 0; i < css_urls.length; i++) {\n",
       "      var url = css_urls[i];\n",
       "      const element = document.createElement(\"link\");\n",
       "      element.onload = on_load;\n",
       "      element.onerror = on_error;\n",
       "      element.rel = \"stylesheet\";\n",
       "      element.type = \"text/css\";\n",
       "      element.href = url;\n",
       "      console.debug(\"Bokeh: injecting link tag for BokehJS stylesheet: \", url);\n",
       "      document.body.appendChild(element);\n",
       "    }\n",
       "\n",
       "    const hashes = {\"https://cdn.bokeh.org/bokeh/release/bokeh-2.0.2.min.js\": \"ufR9RFnRs6lniiaFvtJziE0YeidtAgBRH6ux2oUItHw5WTvE1zuk9uzhUU/FJXDp\", \"https://cdn.bokeh.org/bokeh/release/bokeh-widgets-2.0.2.min.js\": \"8QM/PGWBT+IssZuRcDcjzwIh1mkOmJSoNMmyYDZbCfXJg3Ap1lEvdVgFuSAwhb/J\", \"https://cdn.bokeh.org/bokeh/release/bokeh-tables-2.0.2.min.js\": \"Jm8cH3Rg0P6UeZhVY5cLy1WzKajUT9KImCY+76hEqrcJt59/d8GPvFHjCkYgnSIn\", \"https://cdn.bokeh.org/bokeh/release/bokeh-gl-2.0.2.min.js\": \"Ozhzj+SI7ywm74aOI/UajcWz+C0NjsPunEVyVIrxzYkB+jA+2tUw8x5xJCbVtK5I\"};\n",
       "\n",
       "    for (var i = 0; i < js_urls.length; i++) {\n",
       "      var url = js_urls[i];\n",
       "      var element = document.createElement('script');\n",
       "      element.onload = on_load;\n",
       "      element.onerror = on_error;\n",
       "      element.async = false;\n",
       "      element.src = url;\n",
       "      if (url in hashes) {\n",
       "        element.crossOrigin = \"anonymous\";\n",
       "        element.integrity = \"sha384-\" + hashes[url];\n",
       "      }\n",
       "      console.debug(\"Bokeh: injecting script tag for BokehJS library: \", url);\n",
       "      document.head.appendChild(element);\n",
       "    }\n",
       "  };\n",
       "\n",
       "  function inject_raw_css(css) {\n",
       "    const element = document.createElement(\"style\");\n",
       "    element.appendChild(document.createTextNode(css));\n",
       "    document.body.appendChild(element);\n",
       "  }\n",
       "\n",
       "  \n",
       "  var js_urls = [\"https://cdn.bokeh.org/bokeh/release/bokeh-2.0.2.min.js\", \"https://cdn.bokeh.org/bokeh/release/bokeh-widgets-2.0.2.min.js\", \"https://cdn.bokeh.org/bokeh/release/bokeh-tables-2.0.2.min.js\", \"https://cdn.bokeh.org/bokeh/release/bokeh-gl-2.0.2.min.js\"];\n",
       "  var css_urls = [];\n",
       "  \n",
       "\n",
       "  var inline_js = [\n",
       "    function(Bokeh) {\n",
       "      Bokeh.set_log_level(\"info\");\n",
       "    },\n",
       "    function(Bokeh) {\n",
       "    \n",
       "    \n",
       "    }\n",
       "  ];\n",
       "\n",
       "  function run_inline_js() {\n",
       "    \n",
       "    if (root.Bokeh !== undefined || force === true) {\n",
       "      \n",
       "    for (var i = 0; i < inline_js.length; i++) {\n",
       "      inline_js[i].call(root, root.Bokeh);\n",
       "    }\n",
       "    } else if (Date.now() < root._bokeh_timeout) {\n",
       "      setTimeout(run_inline_js, 100);\n",
       "    } else if (!root._bokeh_failed_load) {\n",
       "      console.log(\"Bokeh: BokehJS failed to load within specified timeout.\");\n",
       "      root._bokeh_failed_load = true;\n",
       "    } else if (force !== true) {\n",
       "      var cell = $(document.getElementById(null)).parents('.cell').data().cell;\n",
       "      cell.output_area.append_execute_result(NB_LOAD_WARNING)\n",
       "    }\n",
       "\n",
       "  }\n",
       "\n",
       "  if (root._bokeh_is_loading === 0) {\n",
       "    console.debug(\"Bokeh: BokehJS loaded, going straight to plotting\");\n",
       "    run_inline_js();\n",
       "  } else {\n",
       "    load_libs(css_urls, js_urls, function() {\n",
       "      console.debug(\"Bokeh: BokehJS plotting callback run at\", now());\n",
       "      run_inline_js();\n",
       "    });\n",
       "  }\n",
       "}(window));"
      ],
      "application/vnd.bokehjs_load.v0+json": "\n(function(root) {\n  function now() {\n    return new Date();\n  }\n\n  var force = true;\n\n  if (typeof root._bokeh_onload_callbacks === \"undefined\" || force === true) {\n    root._bokeh_onload_callbacks = [];\n    root._bokeh_is_loading = undefined;\n  }\n\n  \n\n  \n  if (typeof (root._bokeh_timeout) === \"undefined\" || force === true) {\n    root._bokeh_timeout = Date.now() + 5000;\n    root._bokeh_failed_load = false;\n  }\n\n  var NB_LOAD_WARNING = {'data': {'text/html':\n     \"<div style='background-color: #fdd'>\\n\"+\n     \"<p>\\n\"+\n     \"BokehJS does not appear to have successfully loaded. If loading BokehJS from CDN, this \\n\"+\n     \"may be due to a slow or bad network connection. Possible fixes:\\n\"+\n     \"</p>\\n\"+\n     \"<ul>\\n\"+\n     \"<li>re-rerun `output_notebook()` to attempt to load from CDN again, or</li>\\n\"+\n     \"<li>use INLINE resources instead, as so:</li>\\n\"+\n     \"</ul>\\n\"+\n     \"<code>\\n\"+\n     \"from bokeh.resources import INLINE\\n\"+\n     \"output_notebook(resources=INLINE)\\n\"+\n     \"</code>\\n\"+\n     \"</div>\"}};\n\n  function display_loaded() {\n    var el = document.getElementById(null);\n    if (el != null) {\n      el.textContent = \"BokehJS is loading...\";\n    }\n    if (root.Bokeh !== undefined) {\n      if (el != null) {\n        el.textContent = \"BokehJS \" + root.Bokeh.version + \" successfully loaded.\";\n      }\n    } else if (Date.now() < root._bokeh_timeout) {\n      setTimeout(display_loaded, 100)\n    }\n  }\n\n\n  function run_callbacks() {\n    try {\n      root._bokeh_onload_callbacks.forEach(function(callback) {\n        if (callback != null)\n          callback();\n      });\n    } finally {\n      delete root._bokeh_onload_callbacks\n    }\n    console.debug(\"Bokeh: all callbacks have finished\");\n  }\n\n  function load_libs(css_urls, js_urls, callback) {\n    if (css_urls == null) css_urls = [];\n    if (js_urls == null) js_urls = [];\n\n    root._bokeh_onload_callbacks.push(callback);\n    if (root._bokeh_is_loading > 0) {\n      console.debug(\"Bokeh: BokehJS is being loaded, scheduling callback at\", now());\n      return null;\n    }\n    if (js_urls == null || js_urls.length === 0) {\n      run_callbacks();\n      return null;\n    }\n    console.debug(\"Bokeh: BokehJS not loaded, scheduling load and callback at\", now());\n    root._bokeh_is_loading = css_urls.length + js_urls.length;\n\n    function on_load() {\n      root._bokeh_is_loading--;\n      if (root._bokeh_is_loading === 0) {\n        console.debug(\"Bokeh: all BokehJS libraries/stylesheets loaded\");\n        run_callbacks()\n      }\n    }\n\n    function on_error() {\n      console.error(\"failed to load \" + url);\n    }\n\n    for (var i = 0; i < css_urls.length; i++) {\n      var url = css_urls[i];\n      const element = document.createElement(\"link\");\n      element.onload = on_load;\n      element.onerror = on_error;\n      element.rel = \"stylesheet\";\n      element.type = \"text/css\";\n      element.href = url;\n      console.debug(\"Bokeh: injecting link tag for BokehJS stylesheet: \", url);\n      document.body.appendChild(element);\n    }\n\n    const hashes = {\"https://cdn.bokeh.org/bokeh/release/bokeh-2.0.2.min.js\": \"ufR9RFnRs6lniiaFvtJziE0YeidtAgBRH6ux2oUItHw5WTvE1zuk9uzhUU/FJXDp\", \"https://cdn.bokeh.org/bokeh/release/bokeh-widgets-2.0.2.min.js\": \"8QM/PGWBT+IssZuRcDcjzwIh1mkOmJSoNMmyYDZbCfXJg3Ap1lEvdVgFuSAwhb/J\", \"https://cdn.bokeh.org/bokeh/release/bokeh-tables-2.0.2.min.js\": \"Jm8cH3Rg0P6UeZhVY5cLy1WzKajUT9KImCY+76hEqrcJt59/d8GPvFHjCkYgnSIn\", \"https://cdn.bokeh.org/bokeh/release/bokeh-gl-2.0.2.min.js\": \"Ozhzj+SI7ywm74aOI/UajcWz+C0NjsPunEVyVIrxzYkB+jA+2tUw8x5xJCbVtK5I\"};\n\n    for (var i = 0; i < js_urls.length; i++) {\n      var url = js_urls[i];\n      var element = document.createElement('script');\n      element.onload = on_load;\n      element.onerror = on_error;\n      element.async = false;\n      element.src = url;\n      if (url in hashes) {\n        element.crossOrigin = \"anonymous\";\n        element.integrity = \"sha384-\" + hashes[url];\n      }\n      console.debug(\"Bokeh: injecting script tag for BokehJS library: \", url);\n      document.head.appendChild(element);\n    }\n  };\n\n  function inject_raw_css(css) {\n    const element = document.createElement(\"style\");\n    element.appendChild(document.createTextNode(css));\n    document.body.appendChild(element);\n  }\n\n  \n  var js_urls = [\"https://cdn.bokeh.org/bokeh/release/bokeh-2.0.2.min.js\", \"https://cdn.bokeh.org/bokeh/release/bokeh-widgets-2.0.2.min.js\", \"https://cdn.bokeh.org/bokeh/release/bokeh-tables-2.0.2.min.js\", \"https://cdn.bokeh.org/bokeh/release/bokeh-gl-2.0.2.min.js\"];\n  var css_urls = [];\n  \n\n  var inline_js = [\n    function(Bokeh) {\n      Bokeh.set_log_level(\"info\");\n    },\n    function(Bokeh) {\n    \n    \n    }\n  ];\n\n  function run_inline_js() {\n    \n    if (root.Bokeh !== undefined || force === true) {\n      \n    for (var i = 0; i < inline_js.length; i++) {\n      inline_js[i].call(root, root.Bokeh);\n    }\n    } else if (Date.now() < root._bokeh_timeout) {\n      setTimeout(run_inline_js, 100);\n    } else if (!root._bokeh_failed_load) {\n      console.log(\"Bokeh: BokehJS failed to load within specified timeout.\");\n      root._bokeh_failed_load = true;\n    } else if (force !== true) {\n      var cell = $(document.getElementById(null)).parents('.cell').data().cell;\n      cell.output_area.append_execute_result(NB_LOAD_WARNING)\n    }\n\n  }\n\n  if (root._bokeh_is_loading === 0) {\n    console.debug(\"Bokeh: BokehJS loaded, going straight to plotting\");\n    run_inline_js();\n  } else {\n    load_libs(css_urls, js_urls, function() {\n      console.debug(\"Bokeh: BokehJS plotting callback run at\", now());\n      run_inline_js();\n    });\n  }\n}(window));"
     },
     "metadata": {},
     "output_type": "display_data"
    }
   ],
   "source": [
    "import numpy as np\n",
    "import pandas as pd\n",
    "import cufflinks as cf\n",
    "import plotly\n",
    "from plotly.offline import iplot, init_notebook_mode\n",
    "cf.go_offline(connected=True)\n",
    "init_notebook_mode(connected=True)\n",
    "from ipywidgets import interact, interact_manual\n",
    "from dataprep.eda import plot\n",
    "import datetime\n",
    "import ipywidgets as widgets\n",
    "from tqdm import tqdm"
   ]
  },
  {
   "cell_type": "code",
   "execution_count": 4,
   "metadata": {},
   "outputs": [],
   "source": [
    "df = pd.read_csv(\"motivation.csv\").drop([\"Unnamed: 0\"], axis=1)"
   ]
  },
  {
   "cell_type": "code",
   "execution_count": 9,
   "metadata": {},
   "outputs": [
    {
     "data": {
      "text/html": [
       "<div>\n",
       "<style scoped>\n",
       "    .dataframe tbody tr th:only-of-type {\n",
       "        vertical-align: middle;\n",
       "    }\n",
       "\n",
       "    .dataframe tbody tr th {\n",
       "        vertical-align: top;\n",
       "    }\n",
       "\n",
       "    .dataframe thead th {\n",
       "        text-align: right;\n",
       "    }\n",
       "</style>\n",
       "<table border=\"1\" class=\"dataframe\">\n",
       "  <thead>\n",
       "    <tr style=\"text-align: right;\">\n",
       "      <th></th>\n",
       "      <th>index</th>\n",
       "      <th>ID</th>\n",
       "      <th>Ich finde Onlineunterricht (alle Schüler/innen/Studierende sind zuhause) im Allgemeinen genauso gut wie normalen Unterricht (Präsenzunterricht). 5 Sterne = trifft voll zu</th>\n",
       "      <th>Gib an, wie gut deine Bedingungen zum Onlinelernen zuhause sind (Computer, Internet, angenehmer Arbeitsplatz). 5 Sterne = sehr gut</th>\n",
       "      <th>Ich nehme am Onlineunterricht normalerweise über einen Laptop von zuhause aus teil. (5 trifft voll zu)</th>\n",
       "      <th>Gib an, ob der Onlineunterricht für dich im Allgemeinen anstrengender ist als Präsenzunterricht (5 Sterne = trifft voll zu)</th>\n",
       "      <th>Gib an, ob die Arbeitsbelastung für die Schule durch den Onlineunterricht im Allgemeinen  zunimmt (5 Sterne = sehr stark)</th>\n",
       "      <th>Hast du den Eindruck, dass  ältere Lehrkräfte (&gt;35 Jahre) im Allgemeinen schlechter mit der Gestaltung des  Onlineunterrichts zurecht kommen tun als jüngere Lehrkräfte? (5 Sterne= trifft voll zu)</th>\n",
       "      <th>Ich fände es gut, wenn auch in Zukunft ein Teil des Unterrichts online stattfindet (5 Sterne = trifft voll zu)</th>\n",
       "    </tr>\n",
       "  </thead>\n",
       "  <tbody>\n",
       "    <tr>\n",
       "      <th>count</th>\n",
       "      <td>640.000000</td>\n",
       "      <td>640.000000</td>\n",
       "      <td>637.000000</td>\n",
       "      <td>637.000000</td>\n",
       "      <td>638.000000</td>\n",
       "      <td>639.000000</td>\n",
       "      <td>633.000000</td>\n",
       "      <td>629.000000</td>\n",
       "      <td>621.000000</td>\n",
       "    </tr>\n",
       "    <tr>\n",
       "      <th>mean</th>\n",
       "      <td>22.542188</td>\n",
       "      <td>22.846875</td>\n",
       "      <td>3.015699</td>\n",
       "      <td>4.095761</td>\n",
       "      <td>4.355799</td>\n",
       "      <td>3.189358</td>\n",
       "      <td>3.475513</td>\n",
       "      <td>2.823529</td>\n",
       "      <td>3.191626</td>\n",
       "    </tr>\n",
       "    <tr>\n",
       "      <th>std</th>\n",
       "      <td>17.648226</td>\n",
       "      <td>17.846283</td>\n",
       "      <td>1.312640</td>\n",
       "      <td>1.025737</td>\n",
       "      <td>1.231605</td>\n",
       "      <td>1.335603</td>\n",
       "      <td>1.212977</td>\n",
       "      <td>1.269066</td>\n",
       "      <td>1.586331</td>\n",
       "    </tr>\n",
       "    <tr>\n",
       "      <th>min</th>\n",
       "      <td>0.000000</td>\n",
       "      <td>1.000000</td>\n",
       "      <td>1.000000</td>\n",
       "      <td>1.000000</td>\n",
       "      <td>1.000000</td>\n",
       "      <td>1.000000</td>\n",
       "      <td>1.000000</td>\n",
       "      <td>1.000000</td>\n",
       "      <td>1.000000</td>\n",
       "    </tr>\n",
       "    <tr>\n",
       "      <th>25%</th>\n",
       "      <td>8.000000</td>\n",
       "      <td>8.000000</td>\n",
       "      <td>2.000000</td>\n",
       "      <td>3.000000</td>\n",
       "      <td>4.000000</td>\n",
       "      <td>2.000000</td>\n",
       "      <td>3.000000</td>\n",
       "      <td>2.000000</td>\n",
       "      <td>2.000000</td>\n",
       "    </tr>\n",
       "    <tr>\n",
       "      <th>50%</th>\n",
       "      <td>19.000000</td>\n",
       "      <td>18.000000</td>\n",
       "      <td>3.000000</td>\n",
       "      <td>4.000000</td>\n",
       "      <td>5.000000</td>\n",
       "      <td>3.000000</td>\n",
       "      <td>4.000000</td>\n",
       "      <td>3.000000</td>\n",
       "      <td>3.000000</td>\n",
       "    </tr>\n",
       "    <tr>\n",
       "      <th>75%</th>\n",
       "      <td>33.250000</td>\n",
       "      <td>34.000000</td>\n",
       "      <td>4.000000</td>\n",
       "      <td>5.000000</td>\n",
       "      <td>5.000000</td>\n",
       "      <td>4.000000</td>\n",
       "      <td>4.000000</td>\n",
       "      <td>4.000000</td>\n",
       "      <td>5.000000</td>\n",
       "    </tr>\n",
       "    <tr>\n",
       "      <th>max</th>\n",
       "      <td>80.000000</td>\n",
       "      <td>81.000000</td>\n",
       "      <td>5.000000</td>\n",
       "      <td>5.000000</td>\n",
       "      <td>5.000000</td>\n",
       "      <td>5.000000</td>\n",
       "      <td>5.000000</td>\n",
       "      <td>5.000000</td>\n",
       "      <td>5.000000</td>\n",
       "    </tr>\n",
       "  </tbody>\n",
       "</table>\n",
       "</div>"
      ],
      "text/plain": [
       "            index          ID  \\\n",
       "count  640.000000  640.000000   \n",
       "mean    22.542188   22.846875   \n",
       "std     17.648226   17.846283   \n",
       "min      0.000000    1.000000   \n",
       "25%      8.000000    8.000000   \n",
       "50%     19.000000   18.000000   \n",
       "75%     33.250000   34.000000   \n",
       "max     80.000000   81.000000   \n",
       "\n",
       "       Ich finde Onlineunterricht (alle Schüler/innen/Studierende sind zuhause) im Allgemeinen genauso gut wie normalen Unterricht (Präsenzunterricht). 5 Sterne = trifft voll zu  \\\n",
       "count                                         637.000000                                                                                                                            \n",
       "mean                                            3.015699                                                                                                                            \n",
       "std                                             1.312640                                                                                                                            \n",
       "min                                             1.000000                                                                                                                            \n",
       "25%                                             2.000000                                                                                                                            \n",
       "50%                                             3.000000                                                                                                                            \n",
       "75%                                             4.000000                                                                                                                            \n",
       "max                                             5.000000                                                                                                                            \n",
       "\n",
       "       Gib an, wie gut deine Bedingungen zum Onlinelernen zuhause sind (Computer, Internet, angenehmer Arbeitsplatz). 5 Sterne = sehr gut  \\\n",
       "count                                         637.000000                                                                                    \n",
       "mean                                            4.095761                                                                                    \n",
       "std                                             1.025737                                                                                    \n",
       "min                                             1.000000                                                                                    \n",
       "25%                                             3.000000                                                                                    \n",
       "50%                                             4.000000                                                                                    \n",
       "75%                                             5.000000                                                                                    \n",
       "max                                             5.000000                                                                                    \n",
       "\n",
       "       Ich nehme am Onlineunterricht normalerweise über einen Laptop von zuhause aus teil. (5 trifft voll zu)  \\\n",
       "count                                         638.000000                                                        \n",
       "mean                                            4.355799                                                        \n",
       "std                                             1.231605                                                        \n",
       "min                                             1.000000                                                        \n",
       "25%                                             4.000000                                                        \n",
       "50%                                             5.000000                                                        \n",
       "75%                                             5.000000                                                        \n",
       "max                                             5.000000                                                        \n",
       "\n",
       "       Gib an, ob der Onlineunterricht für dich im Allgemeinen anstrengender ist als Präsenzunterricht (5 Sterne = trifft voll zu)  \\\n",
       "count                                         639.000000                                                                             \n",
       "mean                                            3.189358                                                                             \n",
       "std                                             1.335603                                                                             \n",
       "min                                             1.000000                                                                             \n",
       "25%                                             2.000000                                                                             \n",
       "50%                                             3.000000                                                                             \n",
       "75%                                             4.000000                                                                             \n",
       "max                                             5.000000                                                                             \n",
       "\n",
       "       Gib an, ob die Arbeitsbelastung für die Schule durch den Onlineunterricht im Allgemeinen  zunimmt (5 Sterne = sehr stark)  \\\n",
       "count                                         633.000000                                                                           \n",
       "mean                                            3.475513                                                                           \n",
       "std                                             1.212977                                                                           \n",
       "min                                             1.000000                                                                           \n",
       "25%                                             3.000000                                                                           \n",
       "50%                                             4.000000                                                                           \n",
       "75%                                             4.000000                                                                           \n",
       "max                                             5.000000                                                                           \n",
       "\n",
       "       Hast du den Eindruck, dass  ältere Lehrkräfte (>35 Jahre) im Allgemeinen schlechter mit der Gestaltung des  Onlineunterrichts zurecht kommen tun als jüngere Lehrkräfte? (5 Sterne= trifft voll zu)  \\\n",
       "count                                         629.000000                                                                                                                                                     \n",
       "mean                                            2.823529                                                                                                                                                     \n",
       "std                                             1.269066                                                                                                                                                     \n",
       "min                                             1.000000                                                                                                                                                     \n",
       "25%                                             2.000000                                                                                                                                                     \n",
       "50%                                             3.000000                                                                                                                                                     \n",
       "75%                                             4.000000                                                                                                                                                     \n",
       "max                                             5.000000                                                                                                                                                     \n",
       "\n",
       "       Ich fände es gut, wenn auch in Zukunft ein Teil des Unterrichts online stattfindet (5 Sterne = trifft voll zu)  \n",
       "count                                         621.000000                                                               \n",
       "mean                                            3.191626                                                               \n",
       "std                                             1.586331                                                               \n",
       "min                                             1.000000                                                               \n",
       "25%                                             2.000000                                                               \n",
       "50%                                             3.000000                                                               \n",
       "75%                                             5.000000                                                               \n",
       "max                                             5.000000                                                               "
      ]
     },
     "execution_count": 9,
     "metadata": {},
     "output_type": "execute_result"
    }
   ],
   "source": [
    "df.describe()"
   ]
  },
  {
   "cell_type": "code",
   "execution_count": 13,
   "metadata": {},
   "outputs": [
    {
     "name": "stdout",
     "output_type": "stream",
     "text": [
      "<class 'pandas.core.frame.DataFrame'>\n",
      "RangeIndex: 640 entries, 0 to 639\n",
      "Data columns (total 36 columns):\n",
      " #   Column                                                                                                                                                                                               Non-Null Count  Dtype  \n",
      "---  ------                                                                                                                                                                                               --------------  -----  \n",
      " 0   index                                                                                                                                                                                                640 non-null    int64  \n",
      " 1   ID                                                                                                                                                                                                   640 non-null    int64  \n",
      " 2   Startzeit                                                                                                                                                                                            640 non-null    object \n",
      " 3   Fertigstellungszeit                                                                                                                                                                                  640 non-null    object \n",
      " 4   E-Mail                                                                                                                                                                                               640 non-null    object \n",
      " 5   Name                                                                                                                                                                                                 36 non-null     object \n",
      " 6   Schulform                                                                                                                                                                                            640 non-null    object \n",
      " 7   Alter                                                                                                                                                                                                639 non-null    object \n",
      " 8   Schulstufe (1. Jg HTL oder Fachschule = 9. Schulstufe, 4. Jg = 12. Schulstufe); für Kolleg bzw. Tageskolleg bitte >13 wählen                                                                         638 non-null    object \n",
      " 9   Geschlecht                                                                                                                                                                                           633 non-null    object \n",
      " 10  Ich finde Onlineunterricht (alle Schüler/innen/Studierende sind zuhause) im Allgemeinen genauso gut wie normalen Unterricht (Präsenzunterricht). 5 Sterne = trifft voll zu                           637 non-null    float64\n",
      " 11  Gib an, wie gut deine Bedingungen zum Onlinelernen zuhause sind (Computer, Internet, angenehmer Arbeitsplatz). 5 Sterne = sehr gut                                                                   637 non-null    float64\n",
      " 12  Ich nehme am Onlineunterricht normalerweise über einen Laptop von zuhause aus teil. (5 trifft voll zu)                                                                                               638 non-null    float64\n",
      " 13  Gib an, ob der Onlineunterricht für dich im Allgemeinen anstrengender ist als Präsenzunterricht (5 Sterne = trifft voll zu)                                                                          639 non-null    float64\n",
      " 14  Gib an, ob die Arbeitsbelastung für die Schule durch den Onlineunterricht im Allgemeinen  zunimmt (5 Sterne = sehr stark)                                                                            633 non-null    float64\n",
      " 15  dass er nicht zeitig in der Früh ist                                                                                                                                                                 638 non-null    object \n",
      " 16  dass ich zuhause Ruhe habe                                                                                                                                                                           625 non-null    object \n",
      " 17  dass oft genug eine Pause eingelegt wird                                                                                                                                                             623 non-null    object \n",
      " 18  dass der Unterricht gut strukturiert ist                                                                                                                                                             635 non-null    object \n",
      " 19  dass Onlineübungen eingebunden sind, die nicht bewertet sind, z.B. ein paar Fragen, wo man erfährt, ob sie stimmen, oder nicht, die aber nicht bewertet werden                                       629 non-null    object \n",
      " 20  dass Spiele in den Unterricht eingebunden werden                                                                                                                                                     626 non-null    object \n",
      " 21  dass es Arbeitsaufträge gibt, bei denen ich mit einem oder mehreren meiner Mitschüler/innen zusammenarbeite                                                                                          626 non-null    object \n",
      " 22  dass klar ist, welche Leistungen zu erbringen sind                                                                                                                                                   626 non-null    object \n",
      " 23  Wenn ich etwas Privates vom Lehrer/der Lehrerin mitbekomme (z.B. Kinder, Haustiere im Hintergrund etc.)                                                                                              631 non-null    object \n",
      " 24  wenn ich im Onlineunterricht namentlich angesprochen werden                                                                                                                                          627 non-null    object \n",
      " 25  wenn der Lehrer/die Lehrerin zeigt bzw. zugibt, dass sie sich irgendwo nicht auskennt                                                                                                                626 non-null    object \n",
      " 26  wenn ich im Unterricht gelobt werde                                                                                                                                                                  626 non-null    object \n",
      " 27  wenn andere im Onlineunterricht gelobt werden                                                                                                                                                        627 non-null    object \n",
      " 28  Ergänze hier Faktoren, die deine Freude am Onlineunterricht erhöhen, die bei Frage 12 nicht genannt sind.                                                                                            245 non-null    object \n",
      " 29  Kreuze an, welche Vorteile der Unterricht im Klassenzimmer gegenüber dem Onlineunterricht hat.                                                                                                       615 non-null    object \n",
      " 30  Wenn du bei Frage 14 \"Sonstige\" angekreuzt hast, gib an, was du dabei gemeint hast.                                                                                                                  126 non-null    object \n",
      " 31  Hast du den Eindruck, dass  ältere Lehrkräfte (>35 Jahre) im Allgemeinen schlechter mit der Gestaltung des  Onlineunterrichts zurecht kommen tun als jüngere Lehrkräfte? (5 Sterne= trifft voll zu)  629 non-null    float64\n",
      " 32  Ich fände es gut, wenn auch in Zukunft ein Teil des Unterrichts online stattfindet (5 Sterne = trifft voll zu)                                                                                       621 non-null    float64\n",
      " 33  Kommentare                                                                                                                                                                                           148 non-null    object \n",
      " 34  Schule                                                                                                                                                                                               582 non-null    object \n",
      " 35  Klasse                                                                                                                                                                                               451 non-null    object \n",
      "dtypes: float64(7), int64(2), object(27)\n",
      "memory usage: 180.1+ KB\n"
     ]
    }
   ],
   "source": [
    "df.info()"
   ]
  },
  {
   "cell_type": "markdown",
   "metadata": {},
   "source": [
    "Frage Symbole:\n",
    "F5-9, 16 ,17   s   Stars 1-5\n",
    "F10-12         w   wichtig 'sehr wichtig', 'wichtig', 'egal', 'nicht wichtig', 'gar nicht wichtig'\n",
    "F13, 15, Kom.  t   text\n",
    "F14            m   multiple choice"
   ]
  },
  {
   "cell_type": "code",
   "execution_count": 32,
   "metadata": {},
   "outputs": [],
   "source": [
    "df_columns=df.columns.tolist()\n",
    "new_columns=['index', 'ID', 'Startzeit', 'Fertigstellungszeit', 'E-Mail', 'Name', 'Schulform', 'Alter', 'Schulstufe', 'Geschlecht', 'F5', 'F6', 'F7', 'F8', 'F9', 'F10a', 'F10b', 'F10c', 'F11a',\n",
    " 'F11b', 'F11c', 'F11d', 'F11e', 'F12a', 'F12b', 'F12c', 'F12d', 'F12e', 'F13', 'F14', 'F15', 'F16', 'F17', 'Kommentare', 'Schule', 'Klasse']\n",
    "df.columns = new_columns"
   ]
  },
  {
   "cell_type": "code",
   "execution_count": 39,
   "metadata": {},
   "outputs": [],
   "source": [
    "known_schools=['HTL Spengergasse', 'bautechnikum', 'HTL Rennweg', 'TGM', 'hblva17']\n",
    "df.Schule[df.Schule=='l2']=\"Andere\"\n",
    "df.Schule[df.Schule.isnull()]=\"Andere\""
   ]
  },
  {
   "cell_type": "code",
   "execution_count": 37,
   "metadata": {},
   "outputs": [
    {
     "data": {
      "text/html": [
       "\n",
       "\n",
       "\n",
       "    \n",
       "    \n",
       "        \n",
       "        \n",
       "        \n",
       "            <div class=\"bk-root\" id=\"664eb061-fb4f-4b1c-b83a-96647303dbf8\" data-root-id=\"8185\"></div>\n",
       "        \n",
       "        \n",
       "    \n",
       "    \n",
       "    \n",
       "        <script type=\"application/json\" id=\"9836\">\n",
       "          {\"27f56c35-1545-4390-98fe-c069de9181b5\":{\"roots\":{\"references\":[{\"attributes\":{},\"id\":\"8137\",\"type\":\"UnionRenderers\"},{\"attributes\":{},\"id\":\"8138\",\"type\":\"Selection\"},{\"attributes\":{},\"id\":\"8093\",\"type\":\"BasicTickFormatter\"},{\"attributes\":{\"axis\":{\"id\":\"7460\"},\"dimension\":1,\"grid_line_color\":null,\"ticker\":null},\"id\":\"7463\",\"type\":\"Grid\"},{\"attributes\":{},\"id\":\"7461\",\"type\":\"BasicTicker\"},{\"attributes\":{},\"id\":\"8095\",\"type\":\"UnionRenderers\"},{\"attributes\":{\"axis\":{\"id\":\"7456\"},\"grid_line_color\":null,\"ticker\":{\"id\":\"7473\"}},\"id\":\"7459\",\"type\":\"Grid\"},{\"attributes\":{\"axis\":{\"id\":\"7278\"},\"grid_line_color\":null,\"ticker\":null},\"id\":\"7280\",\"type\":\"Grid\"},{\"attributes\":{},\"id\":\"8096\",\"type\":\"Selection\"},{\"attributes\":{\"bottom\":{\"value\":0},\"fill_alpha\":{\"value\":0.5},\"fill_color\":{\"value\":\"#6baed6\"},\"left\":{\"field\":\"left\"},\"line_alpha\":{\"value\":0.5},\"line_color\":{\"value\":\"#1f77b4\"},\"right\":{\"field\":\"right\"},\"top\":{\"field\":\"freq\"}},\"id\":\"7436\",\"type\":\"Quad\"},{\"attributes\":{\"formatter\":{\"id\":\"7594\"},\"major_label_orientation\":1.0471975511965976,\"major_label_text_font_size\":\"9pt\",\"minor_tick_line_color\":\"white\",\"ticker\":{\"id\":\"7579\"}},\"id\":\"7578\",\"type\":\"CategoricalAxis\"},{\"attributes\":{},\"id\":\"7305\",\"type\":\"LinearScale\"},{\"attributes\":{\"text\":\"F10a (0.3% missing)\",\"text_font_size\":{\"value\":\"10pt\"}},\"id\":\"7539\",\"type\":\"Title\"},{\"attributes\":{},\"id\":\"7303\",\"type\":\"CategoricalScale\"},{\"attributes\":{},\"id\":\"7576\",\"type\":\"LinearScale\"},{\"attributes\":{\"active_drag\":\"auto\",\"active_inspect\":\"auto\",\"active_multi\":null,\"active_scroll\":\"auto\",\"active_tap\":\"auto\",\"tools\":[{\"id\":\"7440\"}]},\"id\":\"7433\",\"type\":\"Toolbar\"},{\"attributes\":{\"data\":{\"freq\":[47,0,29,0,0,41,0,54,0,467],\"index\":[0,1,2,3,4,5,6,7,8,9],\"intvl\":[\"[1, 1.4)\",\"[1.4, 1.8)\",\"[1.8, 2.2)\",\"[2.2, 2.6)\",\"[2.6, 3)\",\"[3, 3.4)\",\"[3.4, 3.8)\",\"[3.8, 4.2)\",\"[4.2, 4.6)\",\"[4.6,5]\"],\"left\":{\"__ndarray__\":\"AAAAAAAA8D9mZmZmZmb2P83MzMzMzPw/mpmZmZmZAUDNzMzMzMwEQAAAAAAAAAhANDMzMzMzC0BnZmZmZmYOQM3MzMzMzBBAZmZmZmZmEkA=\",\"dtype\":\"float64\",\"shape\":[10]},\"pct\":{\"__ndarray__\":\"AAAAAABgHUAAAAAAAAAAAAAAAAAAIBJAAAAAAAAAAAAAAAAAAAAAAP//////nxlAAAAAAAAAAAAAAAAAAOAgQAAAAAAAAAAAAAAAAAA+UkA=\",\"dtype\":\"float64\",\"shape\":[10]},\"right\":{\"__ndarray__\":\"ZmZmZmZm9j/NzMzMzMz8P5qZmZmZmQFAzczMzMzMBEAAAAAAAAAIQDQzMzMzMwtAZ2ZmZmZmDkDNzMzMzMwQQGZmZmZmZhJAAAAAAAAAFEA=\",\"dtype\":\"float64\",\"shape\":[10]}},\"selected\":{\"id\":\"8054\"},\"selection_policy\":{\"id\":\"8053\"}},\"id\":\"7465\",\"type\":\"ColumnDataSource\"},{\"attributes\":{\"callback\":null,\"mode\":\"vline\",\"tooltips\":[[\"Bin\",\"@intvl\"],[\"Frequency\",\"@freq\"],[\"Percent\",\"@pct{0.2f}%\"]]},\"id\":\"7440\",\"type\":\"HoverTool\"},{\"attributes\":{\"below\":[{\"id\":\"7487\"}],\"center\":[{\"id\":\"7490\"},{\"id\":\"7494\"}],\"left\":[{\"id\":\"7491\"}],\"plot_height\":300,\"plot_width\":324,\"renderers\":[{\"id\":\"7500\"}],\"title\":{\"id\":\"7477\"},\"toolbar\":{\"id\":\"7495\"},\"toolbar_location\":null,\"x_range\":{\"id\":\"7479\"},\"x_scale\":{\"id\":\"7483\"},\"y_range\":{\"id\":\"7481\"},\"y_scale\":{\"id\":\"7485\"}},\"id\":\"7476\",\"subtype\":\"Figure\",\"type\":\"Plot\"},{\"attributes\":{\"source\":{\"id\":\"7434\"}},\"id\":\"7439\",\"type\":\"CDSView\"},{\"attributes\":{\"children\":[[{\"id\":\"7267\"},0,0],[{\"id\":\"7296\"},0,1],[{\"id\":\"7325\"},0,2],[{\"id\":\"7354\"},1,0],[{\"id\":\"7383\"},1,1],[{\"id\":\"7414\"},1,2],[{\"id\":\"7445\"},2,0],[{\"id\":\"7476\"},2,1],[{\"id\":\"7507\"},2,2],[{\"id\":\"7538\"},3,0],[{\"id\":\"7567\"},3,1],[{\"id\":\"7596\"},3,2],[{\"id\":\"7625\"},4,0],[{\"id\":\"7654\"},4,1],[{\"id\":\"7683\"},4,2],[{\"id\":\"7712\"},5,0],[{\"id\":\"7741\"},5,1],[{\"id\":\"7770\"},5,2],[{\"id\":\"7799\"},6,0],[{\"id\":\"7828\"},6,1],[{\"id\":\"7857\"},6,2],[{\"id\":\"7886\"},7,0],[{\"id\":\"7915\"},7,1],[{\"id\":\"7946\"},7,2],[{\"id\":\"7977\"},8,0]]},\"id\":\"8182\",\"type\":\"GridBox\"},{\"attributes\":{\"formatter\":{\"id\":\"7323\"},\"major_label_orientation\":1.0471975511965976,\"major_label_text_font_size\":\"9pt\",\"minor_tick_line_color\":\"white\",\"ticker\":{\"id\":\"7308\"}},\"id\":\"7307\",\"type\":\"CategoricalAxis\"},{\"attributes\":{\"bottom\":{\"value\":0},\"fill_alpha\":{\"value\":0.1},\"fill_color\":{\"value\":\"#6baed6\"},\"left\":{\"field\":\"left\"},\"line_alpha\":{\"value\":0.1},\"line_color\":{\"value\":\"#1f77b4\"},\"right\":{\"field\":\"right\"},\"top\":{\"field\":\"freq\"}},\"id\":\"7437\",\"type\":\"Quad\"},{\"attributes\":{},\"id\":\"7579\",\"type\":\"CategoricalTicker\"},{\"attributes\":{},\"id\":\"8142\",\"type\":\"BasicTickFormatter\"},{\"attributes\":{},\"id\":\"8144\",\"type\":\"UnionRenderers\"},{\"attributes\":{},\"id\":\"8145\",\"type\":\"Selection\"},{\"attributes\":{\"bottom\":{\"value\":0.01},\"fill_color\":{\"value\":\"#1f77b4\"},\"line_color\":{\"value\":\"#1f77b4\"},\"top\":{\"field\":\"Alter\"},\"width\":{\"value\":0.9},\"x\":{\"field\":\"index\"}},\"id\":\"7319\",\"type\":\"VBar\"},{\"attributes\":{\"active_drag\":\"auto\",\"active_inspect\":\"auto\",\"active_multi\":null,\"active_scroll\":\"auto\",\"active_tap\":\"auto\",\"tools\":[{\"id\":\"7471\"}]},\"id\":\"7464\",\"type\":\"Toolbar\"},{\"attributes\":{},\"id\":\"8100\",\"type\":\"BasicTickFormatter\"},{\"attributes\":{\"data_source\":{\"id\":\"7434\"},\"glyph\":{\"id\":\"7436\"},\"hover_glyph\":null,\"muted_glyph\":null,\"nonselection_glyph\":{\"id\":\"7437\"},\"selection_glyph\":null,\"view\":{\"id\":\"7439\"}},\"id\":\"7438\",\"type\":\"GlyphRenderer\"},{\"attributes\":{},\"id\":\"8102\",\"type\":\"UnionRenderers\"},{\"attributes\":{},\"id\":\"7634\",\"type\":\"LinearScale\"},{\"attributes\":{\"formatter\":{\"id\":\"8162\"},\"major_label_overrides\":{\"1\":\"1\",\"1.9\":\"1.9\",\"2.8\":\"2.8\",\"3.7\":\"3.7\",\"4.6\":\"4.6\"},\"major_label_standoff\":7,\"major_label_text_font_size\":\"10pt\",\"major_tick_line_color\":null,\"minor_tick_line_color\":\"white\",\"ticker\":{\"id\":\"7944\"}},\"id\":\"7926\",\"type\":\"LinearAxis\"},{\"attributes\":{\"callback\":null,\"tooltips\":[[\"F11a\",\"@index\"],[\"Count\",\"@F11a\"],[\"Percent\",\"@pct{0.2f}%\"]]},\"id\":\"7643\",\"type\":\"HoverTool\"},{\"attributes\":{\"button_type\":\"primary\",\"icon\":null,\"js_event_callbacks\":{\"button_click\":[{\"id\":\"8184\"}]},\"label\":\"Show Stats Info\",\"width\":972},\"id\":\"8183\",\"type\":\"Button\"},{\"attributes\":{\"source\":{\"id\":\"7998\"}},\"id\":\"8003\",\"type\":\"CDSView\"},{\"attributes\":{\"axis_label\":\"Frequency\",\"formatter\":{\"id\":\"8163\"},\"major_label_text_font_size\":\"0pt\",\"major_tick_line_color\":null,\"minor_tick_line_color\":\"white\",\"ticker\":{\"id\":\"7931\"}},\"id\":\"7930\",\"type\":\"LinearAxis\"},{\"attributes\":{\"data_source\":{\"id\":\"7998\"},\"glyph\":{\"id\":\"8000\"},\"hover_glyph\":null,\"muted_glyph\":null,\"nonselection_glyph\":{\"id\":\"8001\"},\"selection_glyph\":null,\"view\":{\"id\":\"8003\"}},\"id\":\"8002\",\"type\":\"GlyphRenderer\"},{\"attributes\":{\"bottom\":{\"value\":0.01},\"fill_alpha\":{\"value\":0.1},\"fill_color\":{\"value\":\"#1f77b4\"},\"line_alpha\":{\"value\":0.1},\"line_color\":{\"value\":\"#1f77b4\"},\"top\":{\"field\":\"F11a\"},\"width\":{\"value\":0.9},\"x\":{\"field\":\"index\"}},\"id\":\"7649\",\"type\":\"VBar\"},{\"attributes\":{},\"id\":\"7931\",\"type\":\"BasicTicker\"},{\"attributes\":{},\"id\":\"7924\",\"type\":\"LinearScale\"},{\"attributes\":{},\"id\":\"8169\",\"type\":\"BasicTickFormatter\"},{\"attributes\":{\"data_source\":{\"id\":\"7465\"},\"glyph\":{\"id\":\"7467\"},\"hover_glyph\":null,\"muted_glyph\":null,\"nonselection_glyph\":{\"id\":\"7468\"},\"selection_glyph\":null,\"view\":{\"id\":\"7470\"}},\"id\":\"7469\",\"type\":\"GlyphRenderer\"},{\"attributes\":{},\"id\":\"7922\",\"type\":\"LinearScale\"},{\"attributes\":{},\"id\":\"8032\",\"type\":\"UnionRenderers\"},{\"attributes\":{},\"id\":\"8170\",\"type\":\"BasicTickFormatter\"},{\"attributes\":{},\"id\":\"7637\",\"type\":\"CategoricalTicker\"},{\"attributes\":{\"text\":\"Schulform\",\"text_font_size\":{\"value\":\"10pt\"}},\"id\":\"7268\",\"type\":\"Title\"},{\"attributes\":{\"active_drag\":\"auto\",\"active_inspect\":\"auto\",\"active_multi\":null,\"active_scroll\":\"auto\",\"active_tap\":\"auto\",\"tools\":[{\"id\":\"7904\"}]},\"id\":\"7905\",\"type\":\"Toolbar\"},{\"attributes\":{\"data\":{\"Schulform\":[386,110,107,37],\"index\":[\"HTL\",\"Fachschule\",\"Tageskolleg\",\"Abendkolleg\"],\"pct\":{\"__ndarray__\":\"AAAAAAAoTkAAAAAAADAxQAAAAAAAuDBAAAAAAAAgF0A=\",\"dtype\":\"float64\",\"shape\":[4]}},\"selected\":{\"id\":\"8012\"},\"selection_policy\":{\"id\":\"8011\"}},\"id\":\"7288\",\"type\":\"ColumnDataSource\"},{\"attributes\":{},\"id\":\"7630\",\"type\":\"DataRange1d\"},{\"attributes\":{\"active_drag\":\"auto\",\"active_inspect\":\"auto\",\"active_multi\":null,\"active_scroll\":\"auto\",\"active_tap\":\"auto\",\"tools\":[{\"id\":\"7643\"}]},\"id\":\"7644\",\"type\":\"Toolbar\"},{\"attributes\":{},\"id\":\"8172\",\"type\":\"UnionRenderers\"},{\"attributes\":{\"bottom\":{\"value\":0.01},\"fill_alpha\":{\"value\":0.1},\"fill_color\":{\"value\":\"#1f77b4\"},\"line_alpha\":{\"value\":0.1},\"line_color\":{\"value\":\"#1f77b4\"},\"top\":{\"field\":\"Geschlecht\"},\"width\":{\"value\":0.9},\"x\":{\"field\":\"index\"}},\"id\":\"7378\",\"type\":\"VBar\"},{\"attributes\":{},\"id\":\"8173\",\"type\":\"Selection\"},{\"attributes\":{},\"id\":\"8011\",\"type\":\"UnionRenderers\"},{\"attributes\":{\"axis\":{\"id\":\"7639\"},\"dimension\":1,\"grid_line_color\":null,\"ticker\":null},\"id\":\"7642\",\"type\":\"Grid\"},{\"attributes\":{\"bottom\":{\"value\":0.01},\"fill_alpha\":{\"value\":0.1},\"fill_color\":{\"value\":\"#1f77b4\"},\"line_alpha\":{\"value\":0.1},\"line_color\":{\"value\":\"#1f77b4\"},\"top\":{\"field\":\"Schule\"},\"width\":{\"value\":0.9},\"x\":{\"field\":\"index\"}},\"id\":\"8001\",\"type\":\"VBar\"},{\"attributes\":{\"source\":{\"id\":\"7646\"}},\"id\":\"7651\",\"type\":\"CDSView\"},{\"attributes\":{\"axis\":{\"id\":\"7926\"},\"grid_line_color\":null,\"ticker\":{\"id\":\"7943\"}},\"id\":\"7929\",\"type\":\"Grid\"},{\"attributes\":{},\"id\":\"7632\",\"type\":\"CategoricalScale\"},{\"attributes\":{},\"id\":\"7640\",\"type\":\"BasicTicker\"},{\"attributes\":{\"axis\":{\"id\":\"7930\"},\"dimension\":1,\"grid_line_color\":null,\"ticker\":null},\"id\":\"7933\",\"type\":\"Grid\"},{\"attributes\":{\"code\":\"\\n            if (tick.length &gt; 15) return tick.substring(0, 15-2) + '...';\\n            else return tick;\\n        \"},\"id\":\"7652\",\"type\":\"FuncTickFormatter\"},{\"attributes\":{},\"id\":\"8012\",\"type\":\"Selection\"},{\"attributes\":{\"data_source\":{\"id\":\"7646\"},\"glyph\":{\"id\":\"7648\"},\"hover_glyph\":null,\"muted_glyph\":null,\"nonselection_glyph\":{\"id\":\"7649\"},\"selection_glyph\":null,\"view\":{\"id\":\"7651\"}},\"id\":\"7650\",\"type\":\"GlyphRenderer\"},{\"attributes\":{},\"id\":\"8030\",\"type\":\"BasicTickFormatter\"},{\"attributes\":{\"source\":{\"id\":\"7465\"}},\"id\":\"7470\",\"type\":\"CDSView\"},{\"attributes\":{},\"id\":\"7920\",\"type\":\"DataRange1d\"},{\"attributes\":{\"axis_label\":\"Count\",\"formatter\":{\"id\":\"8093\"},\"major_label_text_font_size\":\"0pt\",\"major_tick_line_color\":null,\"minor_tick_line_color\":\"white\",\"ticker\":{\"id\":\"7640\"}},\"id\":\"7639\",\"type\":\"LinearAxis\"},{\"attributes\":{\"text\":\"F11b (1.7% missing)\",\"text_font_size\":{\"value\":\"10pt\"}},\"id\":\"7655\",\"type\":\"Title\"},{\"attributes\":{\"axis\":{\"id\":\"7636\"},\"grid_line_color\":null,\"ticker\":null},\"id\":\"7638\",\"type\":\"Grid\"},{\"attributes\":{\"formatter\":{\"id\":\"7652\"},\"major_label_orientation\":1.0471975511965976,\"major_label_text_font_size\":\"9pt\",\"minor_tick_line_color\":\"white\",\"ticker\":{\"id\":\"7637\"}},\"id\":\"7636\",\"type\":\"CategoricalAxis\"},{\"attributes\":{},\"id\":\"7918\",\"type\":\"DataRange1d\"},{\"attributes\":{},\"id\":\"8009\",\"type\":\"BasicTickFormatter\"},{\"attributes\":{},\"id\":\"8033\",\"type\":\"Selection\"},{\"attributes\":{},\"id\":\"7719\",\"type\":\"CategoricalScale\"},{\"attributes\":{\"source\":{\"id\":\"7317\"}},\"id\":\"7322\",\"type\":\"CDSView\"},{\"attributes\":{\"data_source\":{\"id\":\"7907\"},\"glyph\":{\"id\":\"7909\"},\"hover_glyph\":null,\"muted_glyph\":null,\"nonselection_glyph\":{\"id\":\"7910\"},\"selection_glyph\":null,\"view\":{\"id\":\"7912\"}},\"id\":\"7911\",\"type\":\"GlyphRenderer\"},{\"attributes\":{},\"id\":\"7721\",\"type\":\"LinearScale\"},{\"attributes\":{\"source\":{\"id\":\"7675\"}},\"id\":\"7680\",\"type\":\"CDSView\"},{\"attributes\":{\"factors\":[\"16-17\",\"18-20\",\"14-15\",\"&gt;20\"]},\"id\":\"7299\",\"type\":\"FactorRange\"},{\"attributes\":{\"bottom\":{\"value\":0.01},\"fill_alpha\":{\"value\":0.1},\"fill_color\":{\"value\":\"#1f77b4\"},\"line_alpha\":{\"value\":0.1},\"line_color\":{\"value\":\"#1f77b4\"},\"top\":{\"field\":\"F11d\"},\"width\":{\"value\":0.9},\"x\":{\"field\":\"index\"}},\"id\":\"7736\",\"type\":\"VBar\"},{\"attributes\":{\"axis\":{\"id\":\"7988\"},\"grid_line_color\":null,\"ticker\":null},\"id\":\"7990\",\"type\":\"Grid\"},{\"attributes\":{\"callback\":null,\"tooltips\":[[\"F11d\",\"@index\"],[\"Count\",\"@F11d\"],[\"Percent\",\"@pct{0.2f}%\"]]},\"id\":\"7730\",\"type\":\"HoverTool\"},{\"attributes\":{\"callback\":null,\"mode\":\"vline\",\"tooltips\":[[\"Bin\",\"@intvl\"],[\"Frequency\",\"@freq\"],[\"Percent\",\"@pct{0.2f}%\"]]},\"id\":\"7972\",\"type\":\"HoverTool\"},{\"attributes\":{},\"id\":\"7989\",\"type\":\"CategoricalTicker\"},{\"attributes\":{\"data_source\":{\"id\":\"7733\"},\"glyph\":{\"id\":\"7735\"},\"hover_glyph\":null,\"muted_glyph\":null,\"nonselection_glyph\":{\"id\":\"7736\"},\"selection_glyph\":null,\"view\":{\"id\":\"7738\"}},\"id\":\"7737\",\"type\":\"GlyphRenderer\"},{\"attributes\":{\"callback\":null,\"tooltips\":[[\"Schule\",\"@index\"],[\"Count\",\"@Schule\"],[\"Percent\",\"@pct{0.2f}%\"]]},\"id\":\"7995\",\"type\":\"HoverTool\"},{\"attributes\":{\"text\":\"F11d (2.2% missing)\",\"text_font_size\":{\"value\":\"10pt\"}},\"id\":\"7713\",\"type\":\"Title\"},{\"attributes\":{},\"id\":\"7337\",\"type\":\"CategoricalTicker\"},{\"attributes\":{\"ticks\":[1,1.9,2.8,3.7,4.6]},\"id\":\"7975\",\"type\":\"FixedTicker\"},{\"attributes\":{},\"id\":\"7698\",\"type\":\"BasicTicker\"},{\"attributes\":{\"code\":\"\\n            if (tick.length &gt; 15) return tick.substring(0, 15-2) + '...';\\n            else return tick;\\n        \"},\"id\":\"7681\",\"type\":\"FuncTickFormatter\"},{\"attributes\":{\"bottom\":{\"value\":0},\"fill_alpha\":{\"value\":0.1},\"fill_color\":{\"value\":\"#6baed6\"},\"left\":{\"field\":\"left\"},\"line_alpha\":{\"value\":0.1},\"line_color\":{\"value\":\"#1f77b4\"},\"right\":{\"field\":\"right\"},\"top\":{\"field\":\"freq\"}},\"id\":\"7969\",\"type\":\"Quad\"},{\"attributes\":{\"factors\":[\"egal\",\"nicht wichtig\",\"wichtig\",\"sehr wichtig\",\"gar nicht wichtig\"]},\"id\":\"7686\",\"type\":\"FactorRange\"},{\"attributes\":{},\"id\":\"8064\",\"type\":\"BasicTickFormatter\"},{\"attributes\":{\"factors\":[\"11\",\"&gt;13\",\"9\",\"10\",\"12\",\"13\"]},\"id\":\"7328\",\"type\":\"FactorRange\"},{\"attributes\":{\"axis\":{\"id\":\"7694\"},\"grid_line_color\":null,\"ticker\":null},\"id\":\"7696\",\"type\":\"Grid\"},{\"attributes\":{},\"id\":\"7301\",\"type\":\"DataRange1d\"},{\"attributes\":{\"formatter\":{\"id\":\"7739\"},\"major_label_orientation\":1.0471975511965976,\"major_label_text_font_size\":\"9pt\",\"minor_tick_line_color\":\"white\",\"ticker\":{\"id\":\"7724\"}},\"id\":\"7723\",\"type\":\"CategoricalAxis\"},{\"attributes\":{},\"id\":\"7332\",\"type\":\"CategoricalScale\"},{\"attributes\":{},\"id\":\"8065\",\"type\":\"BasicTickFormatter\"},{\"attributes\":{\"data_source\":{\"id\":\"7704\"},\"glyph\":{\"id\":\"7706\"},\"hover_glyph\":null,\"muted_glyph\":null,\"nonselection_glyph\":{\"id\":\"7707\"},\"selection_glyph\":null,\"view\":{\"id\":\"7709\"}},\"id\":\"7708\",\"type\":\"GlyphRenderer\"},{\"attributes\":{\"source\":{\"id\":\"7733\"}},\"id\":\"7738\",\"type\":\"CDSView\"},{\"attributes\":{\"axis\":{\"id\":\"7723\"},\"grid_line_color\":null,\"ticker\":null},\"id\":\"7725\",\"type\":\"Grid\"},{\"attributes\":{\"ticks\":[1,1.9,2.8,3.7,4.6]},\"id\":\"7473\",\"type\":\"FixedTicker\"},{\"attributes\":{},\"id\":\"7717\",\"type\":\"DataRange1d\"},{\"attributes\":{},\"id\":\"7334\",\"type\":\"LinearScale\"},{\"attributes\":{\"code\":\"\\n            if (tick.length &gt; 15) return tick.substring(0, 15-2) + '...';\\n            else return tick;\\n        \"},\"id\":\"7710\",\"type\":\"FuncTickFormatter\"},{\"attributes\":{\"formatter\":{\"id\":\"7710\"},\"major_label_orientation\":1.0471975511965976,\"major_label_text_font_size\":\"9pt\",\"minor_tick_line_color\":\"white\",\"ticker\":{\"id\":\"7695\"}},\"id\":\"7694\",\"type\":\"CategoricalAxis\"},{\"attributes\":{\"data_source\":{\"id\":\"7966\"},\"glyph\":{\"id\":\"7968\"},\"hover_glyph\":null,\"muted_glyph\":null,\"nonselection_glyph\":{\"id\":\"7969\"},\"selection_glyph\":null,\"view\":{\"id\":\"7971\"}},\"id\":\"7970\",\"type\":\"GlyphRenderer\"},{\"attributes\":{},\"id\":\"7724\",\"type\":\"CategoricalTicker\"},{\"attributes\":{\"data_source\":{\"id\":\"7317\"},\"glyph\":{\"id\":\"7319\"},\"hover_glyph\":null,\"muted_glyph\":null,\"nonselection_glyph\":{\"id\":\"7320\"},\"selection_glyph\":null,\"view\":{\"id\":\"7322\"}},\"id\":\"7321\",\"type\":\"GlyphRenderer\"},{\"attributes\":{\"callback\":null,\"tooltips\":[[\"F11c\",\"@index\"],[\"Count\",\"@F11c\"],[\"Percent\",\"@pct{0.2f}%\"]]},\"id\":\"7701\",\"type\":\"HoverTool\"},{\"attributes\":{\"active_drag\":\"auto\",\"active_inspect\":\"auto\",\"active_multi\":null,\"active_scroll\":\"auto\",\"active_tap\":\"auto\",\"tools\":[{\"id\":\"7730\"}]},\"id\":\"7731\",\"type\":\"Toolbar\"},{\"attributes\":{\"source\":{\"id\":\"7966\"}},\"id\":\"7971\",\"type\":\"CDSView\"},{\"attributes\":{\"ticks\":[1,1.9,2.8,3.7,4.6]},\"id\":\"7474\",\"type\":\"FixedTicker\"},{\"attributes\":{\"bottom\":{\"value\":0.01},\"fill_alpha\":{\"value\":0.1},\"fill_color\":{\"value\":\"#1f77b4\"},\"line_alpha\":{\"value\":0.1},\"line_color\":{\"value\":\"#1f77b4\"},\"top\":{\"field\":\"Alter\"},\"width\":{\"value\":0.9},\"x\":{\"field\":\"index\"}},\"id\":\"7320\",\"type\":\"VBar\"},{\"attributes\":{},\"id\":\"7330\",\"type\":\"DataRange1d\"},{\"attributes\":{},\"id\":\"7688\",\"type\":\"DataRange1d\"},{\"attributes\":{},\"id\":\"8067\",\"type\":\"UnionRenderers\"},{\"attributes\":{},\"id\":\"7692\",\"type\":\"LinearScale\"},{\"attributes\":{},\"id\":\"7986\",\"type\":\"LinearScale\"},{\"attributes\":{\"text\":\"Schulstufe (0.3% missing)\",\"text_font_size\":{\"value\":\"10pt\"}},\"id\":\"7326\",\"type\":\"Title\"},{\"attributes\":{},\"id\":\"8068\",\"type\":\"Selection\"},{\"attributes\":{\"code\":\"\\n            if (tick.length &gt; 15) return tick.substring(0, 15-2) + '...';\\n            else return tick;\\n        \"},\"id\":\"7323\",\"type\":\"FuncTickFormatter\"},{\"attributes\":{\"factors\":[\"wichtig\",\"egal\",\"sehr wichtig\",\"nicht wichtig\",\"gar nicht wichtig\"]},\"id\":\"7715\",\"type\":\"FactorRange\"},{\"attributes\":{\"axis\":{\"id\":\"7697\"},\"dimension\":1,\"grid_line_color\":null,\"ticker\":null},\"id\":\"7700\",\"type\":\"Grid\"},{\"attributes\":{\"source\":{\"id\":\"7704\"}},\"id\":\"7709\",\"type\":\"CDSView\"},{\"attributes\":{\"data\":{\"F11e\":[415,185,21,3,2],\"index\":[\"sehr wichtig\",\"wichtig\",\"egal\",\"gar nicht wichtig\",\"nicht wichtig\"],\"pct\":{\"__ndarray__\":\"AAAAAAA2UEAAAAAAAOg8QAAAAAAAQApAAAAAAAAA3j8AAAAAAADUPw==\",\"dtype\":\"float64\",\"shape\":[5]}},\"selected\":{\"id\":\"8124\"},\"selection_policy\":{\"id\":\"8123\"}},\"id\":\"7762\",\"type\":\"ColumnDataSource\"},{\"attributes\":{\"axis_label\":\"Count\",\"formatter\":{\"id\":\"8107\"},\"major_label_text_font_size\":\"0pt\",\"major_tick_line_color\":null,\"minor_tick_line_color\":\"white\",\"ticker\":{\"id\":\"7698\"}},\"id\":\"7697\",\"type\":\"LinearAxis\"},{\"attributes\":{\"axis_label\":\"Count\",\"formatter\":{\"id\":\"8114\"},\"major_label_text_font_size\":\"0pt\",\"major_tick_line_color\":null,\"minor_tick_line_color\":\"white\",\"ticker\":{\"id\":\"7727\"}},\"id\":\"7726\",\"type\":\"LinearAxis\"},{\"attributes\":{\"bottom\":{\"value\":0.01},\"fill_alpha\":{\"value\":0.1},\"fill_color\":{\"value\":\"#1f77b4\"},\"line_alpha\":{\"value\":0.1},\"line_color\":{\"value\":\"#1f77b4\"},\"top\":{\"field\":\"F12e\"},\"width\":{\"value\":0.9},\"x\":{\"field\":\"index\"}},\"id\":\"7910\",\"type\":\"VBar\"},{\"attributes\":{\"formatter\":{\"id\":\"7352\"},\"major_label_orientation\":1.0471975511965976,\"major_label_text_font_size\":\"9pt\",\"minor_tick_line_color\":\"white\",\"ticker\":{\"id\":\"7337\"}},\"id\":\"7336\",\"type\":\"CategoricalAxis\"},{\"attributes\":{},\"id\":\"7690\",\"type\":\"CategoricalScale\"},{\"attributes\":{\"active_drag\":\"auto\",\"active_inspect\":\"auto\",\"active_multi\":null,\"active_scroll\":\"auto\",\"active_tap\":\"auto\",\"tools\":[{\"id\":\"7995\"}]},\"id\":\"7996\",\"type\":\"Toolbar\"},{\"attributes\":{},\"id\":\"7695\",\"type\":\"CategoricalTicker\"},{\"attributes\":{\"text\":\"F11c (2.2% missing)\",\"text_font_size\":{\"value\":\"10pt\"}},\"id\":\"7684\",\"type\":\"Title\"},{\"attributes\":{\"axis\":{\"id\":\"7726\"},\"dimension\":1,\"grid_line_color\":null,\"ticker\":null},\"id\":\"7729\",\"type\":\"Grid\"},{\"attributes\":{\"active_drag\":\"auto\",\"active_inspect\":\"auto\",\"active_multi\":null,\"active_scroll\":\"auto\",\"active_tap\":\"auto\",\"tools\":[{\"id\":\"7372\"}]},\"id\":\"7373\",\"type\":\"Toolbar\"},{\"attributes\":{},\"id\":\"7276\",\"type\":\"LinearScale\"},{\"attributes\":{\"axis\":{\"id\":\"7991\"},\"dimension\":1,\"grid_line_color\":null,\"ticker\":null},\"id\":\"7994\",\"type\":\"Grid\"},{\"attributes\":{},\"id\":\"7727\",\"type\":\"BasicTicker\"},{\"attributes\":{\"axis_label\":\"Count\",\"formatter\":{\"id\":\"8177\"},\"major_label_text_font_size\":\"0pt\",\"major_tick_line_color\":null,\"minor_tick_line_color\":\"white\",\"ticker\":{\"id\":\"7992\"}},\"id\":\"7991\",\"type\":\"LinearAxis\"},{\"attributes\":{\"code\":\"\\n            if (tick.length &gt; 15) return tick.substring(0, 15-2) + '...';\\n            else return tick;\\n        \"},\"id\":\"7739\",\"type\":\"FuncTickFormatter\"},{\"attributes\":{\"ticks\":[1,1.9,2.8,3.7,4.6]},\"id\":\"7974\",\"type\":\"FixedTicker\"},{\"attributes\":{\"formatter\":{\"id\":\"8004\"},\"major_label_orientation\":1.0471975511965976,\"major_label_text_font_size\":\"9pt\",\"minor_tick_line_color\":\"white\",\"ticker\":{\"id\":\"7989\"}},\"id\":\"7988\",\"type\":\"CategoricalAxis\"},{\"attributes\":{\"bottom\":{\"value\":0.01},\"fill_alpha\":{\"value\":0.1},\"fill_color\":{\"value\":\"#1f77b4\"},\"line_alpha\":{\"value\":0.1},\"line_color\":{\"value\":\"#1f77b4\"},\"top\":{\"field\":\"F11c\"},\"width\":{\"value\":0.9},\"x\":{\"field\":\"index\"}},\"id\":\"7707\",\"type\":\"VBar\"},{\"attributes\":{},\"id\":\"7992\",\"type\":\"BasicTicker\"},{\"attributes\":{\"factors\":[\"egal\",\"wichtig\",\"sehr wichtig\",\"nicht wichtig\",\"gar nicht wichtig\"]},\"id\":\"7831\",\"type\":\"FactorRange\"},{\"attributes\":{\"text\":\"F12a (1.4% missing)\",\"text_font_size\":{\"value\":\"10pt\"}},\"id\":\"7771\",\"type\":\"Title\"},{\"attributes\":{},\"id\":\"7274\",\"type\":\"CategoricalScale\"},{\"attributes\":{\"axis\":{\"id\":\"7784\"},\"dimension\":1,\"grid_line_color\":null,\"ticker\":null},\"id\":\"7787\",\"type\":\"Grid\"},{\"attributes\":{\"callback\":null,\"tooltips\":[[\"F12c\",\"@index\"],[\"Count\",\"@F12c\"],[\"Percent\",\"@pct{0.2f}%\"]]},\"id\":\"7846\",\"type\":\"HoverTool\"},{\"attributes\":{\"source\":{\"id\":\"7762\"}},\"id\":\"7767\",\"type\":\"CDSView\"},{\"attributes\":{},\"id\":\"7369\",\"type\":\"BasicTicker\"},{\"attributes\":{\"data\":{\"freq\":[150,0,79,0,0,97,0,92,0,203],\"index\":[0,1,2,3,4,5,6,7,8,9],\"intvl\":[\"[1, 1.4)\",\"[1.4, 1.8)\",\"[1.8, 2.2)\",\"[2.2, 2.6)\",\"[2.6, 3)\",\"[3, 3.4)\",\"[3.4, 3.8)\",\"[3.8, 4.2)\",\"[4.2, 4.6)\",\"[4.6,5]\"],\"left\":{\"__ndarray__\":\"AAAAAAAA8D9mZmZmZmb2P83MzMzMzPw/mpmZmZmZAUDNzMzMzMwEQAAAAAAAAAhANDMzMzMzC0BnZmZmZmYOQM3MzMzMzBBAZmZmZmZmEkA=\",\"dtype\":\"float64\",\"shape\":[10]},\"pct\":{\"__ndarray__\":\"AAAAAABwN0AAAAAAAAAAAAAAAAAAsChAAAAAAAAAAAAAAAAAAAAAAP//////Ty5AAAAAAAAAAAD//////78sQAAAAAAAAAAAAAAAAAC4P0A=\",\"dtype\":\"float64\",\"shape\":[10]},\"right\":{\"__ndarray__\":\"ZmZmZmZm9j/NzMzMzMz8P5qZmZmZmQFAzczMzMzMBEAAAAAAAAAIQDQzMzMzMwtAZ2ZmZmZmDkDNzMzMzMwQQGZmZmZmZhJAAAAAAAAAFEA=\",\"dtype\":\"float64\",\"shape\":[10]}},\"selected\":{\"id\":\"8173\"},\"selection_policy\":{\"id\":\"8172\"}},\"id\":\"7966\",\"type\":\"ColumnDataSource\"},{\"attributes\":{},\"id\":\"8053\",\"type\":\"UnionRenderers\"},{\"attributes\":{},\"id\":\"7833\",\"type\":\"DataRange1d\"},{\"attributes\":{},\"id\":\"8054\",\"type\":\"Selection\"},{\"attributes\":{\"axis_label\":\"Frequency\",\"formatter\":{\"id\":\"8051\"},\"major_label_text_font_size\":\"0pt\",\"major_tick_line_color\":null,\"minor_tick_line_color\":\"white\",\"ticker\":{\"id\":\"7461\"}},\"id\":\"7460\",\"type\":\"LinearAxis\"},{\"attributes\":{\"active_drag\":\"auto\",\"active_inspect\":\"auto\",\"active_multi\":null,\"active_scroll\":\"auto\",\"active_tap\":\"auto\",\"tools\":[{\"id\":\"7285\"}]},\"id\":\"7286\",\"type\":\"Toolbar\"},{\"attributes\":{\"data_source\":{\"id\":\"7762\"},\"glyph\":{\"id\":\"7764\"},\"hover_glyph\":null,\"muted_glyph\":null,\"nonselection_glyph\":{\"id\":\"7765\"},\"selection_glyph\":null,\"view\":{\"id\":\"7767\"}},\"id\":\"7766\",\"type\":\"GlyphRenderer\"},{\"attributes\":{\"code\":\"\\n            if (tick.length &gt; 15) return tick.substring(0, 15-2) + '...';\\n            else return tick;\\n        \"},\"id\":\"7768\",\"type\":\"FuncTickFormatter\"},{\"attributes\":{\"axis\":{\"id\":\"7842\"},\"dimension\":1,\"grid_line_color\":null,\"ticker\":null},\"id\":\"7845\",\"type\":\"Grid\"},{\"attributes\":{\"bottom\":{\"value\":0.01},\"fill_alpha\":{\"value\":0.1},\"fill_color\":{\"value\":\"#1f77b4\"},\"line_alpha\":{\"value\":0.1},\"line_color\":{\"value\":\"#1f77b4\"},\"top\":{\"field\":\"F11e\"},\"width\":{\"value\":0.9},\"x\":{\"field\":\"index\"}},\"id\":\"7765\",\"type\":\"VBar\"},{\"attributes\":{},\"id\":\"7835\",\"type\":\"CategoricalScale\"},{\"attributes\":{\"axis\":{\"id\":\"7839\"},\"grid_line_color\":null,\"ticker\":null},\"id\":\"7841\",\"type\":\"Grid\"},{\"attributes\":{\"active_drag\":\"auto\",\"active_inspect\":\"auto\",\"active_multi\":null,\"active_scroll\":\"auto\",\"active_tap\":\"auto\",\"tools\":[{\"id\":\"7817\"}]},\"id\":\"7818\",\"type\":\"Toolbar\"},{\"attributes\":{},\"id\":\"8036\",\"type\":\"BasicTickFormatter\"},{\"attributes\":{},\"id\":\"7843\",\"type\":\"BasicTicker\"},{\"attributes\":{},\"id\":\"7782\",\"type\":\"CategoricalTicker\"},{\"attributes\":{},\"id\":\"8037\",\"type\":\"BasicTickFormatter\"},{\"attributes\":{\"code\":\"\\n            if (tick.length &gt; 15) return tick.substring(0, 15-2) + '...';\\n            else return tick;\\n        \"},\"id\":\"7913\",\"type\":\"FuncTickFormatter\"},{\"attributes\":{\"axis_label\":\"Count\",\"formatter\":{\"id\":\"8142\"},\"major_label_text_font_size\":\"0pt\",\"major_tick_line_color\":null,\"minor_tick_line_color\":\"white\",\"ticker\":{\"id\":\"7843\"}},\"id\":\"7842\",\"type\":\"LinearAxis\"},{\"attributes\":{\"formatter\":{\"id\":\"7855\"},\"major_label_orientation\":1.0471975511965976,\"major_label_text_font_size\":\"9pt\",\"minor_tick_line_color\":\"white\",\"ticker\":{\"id\":\"7840\"}},\"id\":\"7839\",\"type\":\"CategoricalAxis\"},{\"attributes\":{\"axis\":{\"id\":\"7755\"},\"dimension\":1,\"grid_line_color\":null,\"ticker\":null},\"id\":\"7758\",\"type\":\"Grid\"},{\"attributes\":{},\"id\":\"8057\",\"type\":\"BasicTickFormatter\"},{\"attributes\":{\"active_drag\":\"auto\",\"active_inspect\":\"auto\",\"active_multi\":null,\"active_scroll\":\"auto\",\"active_tap\":\"auto\",\"tools\":[{\"id\":\"7585\"}]},\"id\":\"7586\",\"type\":\"Toolbar\"},{\"attributes\":{\"active_drag\":\"auto\",\"active_inspect\":\"auto\",\"active_multi\":null,\"active_scroll\":\"auto\",\"active_tap\":\"auto\",\"tools\":[{\"id\":\"7846\"}]},\"id\":\"7847\",\"type\":\"Toolbar\"},{\"attributes\":{},\"id\":\"8039\",\"type\":\"UnionRenderers\"},{\"attributes\":{},\"id\":\"8058\",\"type\":\"BasicTickFormatter\"},{\"attributes\":{\"active_drag\":\"auto\",\"active_inspect\":\"auto\",\"active_multi\":null,\"active_scroll\":\"auto\",\"active_tap\":\"auto\",\"tools\":[{\"id\":\"7759\"}]},\"id\":\"7760\",\"type\":\"Toolbar\"},{\"attributes\":{\"active_drag\":\"auto\",\"active_inspect\":\"auto\",\"active_multi\":null,\"active_scroll\":\"auto\",\"active_tap\":\"auto\",\"tools\":[{\"id\":\"7314\"}]},\"id\":\"7315\",\"type\":\"Toolbar\"},{\"attributes\":{\"source\":{\"id\":\"7907\"}},\"id\":\"7912\",\"type\":\"CDSView\"},{\"attributes\":{},\"id\":\"8040\",\"type\":\"Selection\"},{\"attributes\":{},\"id\":\"7272\",\"type\":\"DataRange1d\"},{\"attributes\":{\"axis\":{\"id\":\"7781\"},\"grid_line_color\":null,\"ticker\":null},\"id\":\"7783\",\"type\":\"Grid\"},{\"attributes\":{\"factors\":[\"egal\",\"gar nicht wichtig\",\"nicht wichtig\",\"wichtig\",\"sehr wichtig\"]},\"id\":\"7773\",\"type\":\"FactorRange\"},{\"attributes\":{\"formatter\":{\"id\":\"7797\"},\"major_label_orientation\":1.0471975511965976,\"major_label_text_font_size\":\"9pt\",\"minor_tick_line_color\":\"white\",\"ticker\":{\"id\":\"7782\"}},\"id\":\"7781\",\"type\":\"CategoricalAxis\"},{\"attributes\":{},\"id\":\"7775\",\"type\":\"DataRange1d\"},{\"attributes\":{\"below\":[{\"id\":\"7926\"}],\"center\":[{\"id\":\"7929\"},{\"id\":\"7933\"}],\"left\":[{\"id\":\"7930\"}],\"plot_height\":300,\"plot_width\":324,\"renderers\":[{\"id\":\"7939\"}],\"title\":{\"id\":\"7916\"},\"toolbar\":{\"id\":\"7934\"},\"toolbar_location\":null,\"x_range\":{\"id\":\"7918\"},\"x_scale\":{\"id\":\"7922\"},\"y_range\":{\"id\":\"7920\"},\"y_scale\":{\"id\":\"7924\"}},\"id\":\"7915\",\"subtype\":\"Figure\",\"type\":\"Plot\"},{\"attributes\":{},\"id\":\"7840\",\"type\":\"CategoricalTicker\"},{\"attributes\":{},\"id\":\"7837\",\"type\":\"LinearScale\"},{\"attributes\":{\"text\":\"F8 (0.2% missing)\",\"text_font_size\":{\"value\":\"10pt\"}},\"id\":\"7477\",\"type\":\"Title\"},{\"attributes\":{\"bottom\":{\"value\":0.01},\"fill_color\":{\"value\":\"#1f77b4\"},\"line_color\":{\"value\":\"#1f77b4\"},\"top\":{\"field\":\"F11a\"},\"width\":{\"value\":0.9},\"x\":{\"field\":\"index\"}},\"id\":\"7648\",\"type\":\"VBar\"},{\"attributes\":{\"below\":[{\"id\":\"7781\"}],\"center\":[{\"id\":\"7783\"},{\"id\":\"7787\"}],\"left\":[{\"id\":\"7784\"}],\"plot_height\":300,\"plot_width\":324,\"renderers\":[{\"id\":\"7795\"}],\"title\":{\"id\":\"7771\"},\"toolbar\":{\"id\":\"7789\"},\"toolbar_location\":null,\"x_range\":{\"id\":\"7773\"},\"x_scale\":{\"id\":\"7777\"},\"y_range\":{\"id\":\"7775\"},\"y_scale\":{\"id\":\"7779\"}},\"id\":\"7770\",\"subtype\":\"Figure\",\"type\":\"Plot\"},{\"attributes\":{\"source\":{\"id\":\"7820\"}},\"id\":\"7825\",\"type\":\"CDSView\"},{\"attributes\":{},\"id\":\"7785\",\"type\":\"BasicTicker\"},{\"attributes\":{},\"id\":\"8060\",\"type\":\"UnionRenderers\"},{\"attributes\":{\"axis_label\":\"Count\",\"formatter\":{\"id\":\"8128\"},\"major_label_text_font_size\":\"0pt\",\"major_tick_line_color\":null,\"minor_tick_line_color\":\"white\",\"ticker\":{\"id\":\"7785\"}},\"id\":\"7784\",\"type\":\"LinearAxis\"},{\"attributes\":{\"callback\":null,\"tooltips\":[[\"F11e\",\"@index\"],[\"Count\",\"@F11e\"],[\"Percent\",\"@pct{0.2f}%\"]]},\"id\":\"7759\",\"type\":\"HoverTool\"},{\"attributes\":{},\"id\":\"7777\",\"type\":\"CategoricalScale\"},{\"attributes\":{},\"id\":\"8061\",\"type\":\"Selection\"},{\"attributes\":{\"axis_label\":\"Count\",\"formatter\":{\"id\":\"8030\"},\"major_label_text_font_size\":\"0pt\",\"major_tick_line_color\":null,\"minor_tick_line_color\":\"white\",\"ticker\":{\"id\":\"7369\"}},\"id\":\"7368\",\"type\":\"LinearAxis\"},{\"attributes\":{\"callback\":null,\"tooltips\":[[\"F12a\",\"@index\"],[\"Count\",\"@F12a\"],[\"Percent\",\"@pct{0.2f}%\"]]},\"id\":\"7788\",\"type\":\"HoverTool\"},{\"attributes\":{},\"id\":\"7779\",\"type\":\"LinearScale\"},{\"attributes\":{\"active_drag\":\"auto\",\"active_inspect\":\"auto\",\"active_multi\":null,\"active_scroll\":\"auto\",\"active_tap\":\"auto\",\"tools\":[{\"id\":\"7788\"}]},\"id\":\"7789\",\"type\":\"Toolbar\"},{\"attributes\":{\"text\":\"F12d (2.2% missing)\",\"text_font_size\":{\"value\":\"10pt\"}},\"id\":\"7858\",\"type\":\"Title\"},{\"attributes\":{},\"id\":\"8082\",\"type\":\"Selection\"},{\"attributes\":{\"axis\":{\"id\":\"7868\"},\"grid_line_color\":null,\"ticker\":null},\"id\":\"7870\",\"type\":\"Grid\"},{\"attributes\":{\"data_source\":{\"id\":\"7849\"},\"glyph\":{\"id\":\"7851\"},\"hover_glyph\":null,\"muted_glyph\":null,\"nonselection_glyph\":{\"id\":\"7852\"},\"selection_glyph\":null,\"view\":{\"id\":\"7854\"}},\"id\":\"7853\",\"type\":\"GlyphRenderer\"},{\"attributes\":{\"below\":[{\"id\":\"7957\"}],\"center\":[{\"id\":\"7960\"},{\"id\":\"7964\"}],\"left\":[{\"id\":\"7961\"}],\"plot_height\":300,\"plot_width\":324,\"renderers\":[{\"id\":\"7970\"}],\"title\":{\"id\":\"7947\"},\"toolbar\":{\"id\":\"7965\"},\"toolbar_location\":null,\"x_range\":{\"id\":\"7949\"},\"x_scale\":{\"id\":\"7953\"},\"y_range\":{\"id\":\"7951\"},\"y_scale\":{\"id\":\"7955\"}},\"id\":\"7946\",\"subtype\":\"Figure\",\"type\":\"Plot\"},{\"attributes\":{},\"id\":\"8158\",\"type\":\"UnionRenderers\"},{\"attributes\":{},\"id\":\"8159\",\"type\":\"Selection\"},{\"attributes\":{},\"id\":\"7869\",\"type\":\"CategoricalTicker\"},{\"attributes\":{\"axis_label\":\"Count\",\"formatter\":{\"id\":\"8135\"},\"major_label_text_font_size\":\"0pt\",\"major_tick_line_color\":null,\"minor_tick_line_color\":\"white\",\"ticker\":{\"id\":\"7814\"}},\"id\":\"7813\",\"type\":\"LinearAxis\"},{\"attributes\":{\"data\":{\"freq\":[125,0,126,0,0,183,0,125,0,70],\"index\":[0,1,2,3,4,5,6,7,8,9],\"intvl\":[\"[1, 1.4)\",\"[1.4, 1.8)\",\"[1.8, 2.2)\",\"[2.2, 2.6)\",\"[2.6, 3)\",\"[3, 3.4)\",\"[3.4, 3.8)\",\"[3.8, 4.2)\",\"[4.2, 4.6)\",\"[4.6,5]\"],\"left\":{\"__ndarray__\":\"AAAAAAAA8D9mZmZmZmb2P83MzMzMzPw/mpmZmZmZAUDNzMzMzMwEQAAAAAAAAAhANDMzMzMzC0BnZmZmZmYOQM3MzMzMzBBAZmZmZmZmEkA=\",\"dtype\":\"float64\",\"shape\":[10]},\"pct\":{\"__ndarray__\":\"AAAAAACIM0AAAAAAAAAAAAAAAAAAsDNAAAAAAAAAAAAAAAAAAAAAAAAAAAAAmDxAAAAAAAAAAAAAAAAAAIgzQAAAAAAAAAAAAAAAAADgJUA=\",\"dtype\":\"float64\",\"shape\":[10]},\"right\":{\"__ndarray__\":\"ZmZmZmZm9j/NzMzMzMz8P5qZmZmZmQFAzczMzMzMBEAAAAAAAAAIQDQzMzMzMwtAZ2ZmZmZmDkDNzMzMzMwQQGZmZmZmZhJAAAAAAAAAFEA=\",\"dtype\":\"float64\",\"shape\":[10]}},\"selected\":{\"id\":\"8166\"},\"selection_policy\":{\"id\":\"8165\"}},\"id\":\"7935\",\"type\":\"ColumnDataSource\"},{\"attributes\":{\"axis\":{\"id\":\"7813\"},\"dimension\":1,\"grid_line_color\":null,\"ticker\":null},\"id\":\"7816\",\"type\":\"Grid\"},{\"attributes\":{\"source\":{\"id\":\"7346\"}},\"id\":\"7351\",\"type\":\"CDSView\"},{\"attributes\":{\"source\":{\"id\":\"7791\"}},\"id\":\"7796\",\"type\":\"CDSView\"},{\"attributes\":{},\"id\":\"8128\",\"type\":\"BasicTickFormatter\"},{\"attributes\":{\"code\":\"\\n            if (tick.length &gt; 15) return tick.substring(0, 15-2) + '...';\\n            else return tick;\\n        \"},\"id\":\"7352\",\"type\":\"FuncTickFormatter\"},{\"attributes\":{\"formatter\":{\"id\":\"7884\"},\"major_label_orientation\":1.0471975511965976,\"major_label_text_font_size\":\"9pt\",\"minor_tick_line_color\":\"white\",\"ticker\":{\"id\":\"7869\"}},\"id\":\"7868\",\"type\":\"CategoricalAxis\"},{\"attributes\":{},\"id\":\"7804\",\"type\":\"DataRange1d\"},{\"attributes\":{\"bottom\":{\"value\":0.01},\"fill_alpha\":{\"value\":0.1},\"fill_color\":{\"value\":\"#1f77b4\"},\"line_alpha\":{\"value\":0.1},\"line_color\":{\"value\":\"#1f77b4\"},\"top\":{\"field\":\"Schulstufe\"},\"width\":{\"value\":0.9},\"x\":{\"field\":\"index\"}},\"id\":\"7349\",\"type\":\"VBar\"},{\"attributes\":{\"data_source\":{\"id\":\"7346\"},\"glyph\":{\"id\":\"7348\"},\"hover_glyph\":null,\"muted_glyph\":null,\"nonselection_glyph\":{\"id\":\"7349\"},\"selection_glyph\":null,\"view\":{\"id\":\"7351\"}},\"id\":\"7350\",\"type\":\"GlyphRenderer\"},{\"attributes\":{\"formatter\":{\"id\":\"7681\"},\"major_label_orientation\":1.0471975511965976,\"major_label_text_font_size\":\"9pt\",\"minor_tick_line_color\":\"white\",\"ticker\":{\"id\":\"7666\"}},\"id\":\"7665\",\"type\":\"CategoricalAxis\"},{\"attributes\":{\"data\":{\"F12a\":[313,121,82,76,39],\"index\":[\"egal\",\"gar nicht wichtig\",\"nicht wichtig\",\"wichtig\",\"sehr wichtig\"],\"pct\":{\"__ndarray__\":\"AAAAAAB0SEAAAAAAAOgyQP//////nylAAAAAAADAJ0AAAAAAAGAYQA==\",\"dtype\":\"float64\",\"shape\":[5]}},\"selected\":{\"id\":\"8131\"},\"selection_policy\":{\"id\":\"8130\"}},\"id\":\"7791\",\"type\":\"ColumnDataSource\"},{\"attributes\":{\"bottom\":{\"value\":0.01},\"fill_alpha\":{\"value\":0.1},\"fill_color\":{\"value\":\"#1f77b4\"},\"line_alpha\":{\"value\":0.1},\"line_color\":{\"value\":\"#1f77b4\"},\"top\":{\"field\":\"F12a\"},\"width\":{\"value\":0.9},\"x\":{\"field\":\"index\"}},\"id\":\"7794\",\"type\":\"VBar\"},{\"attributes\":{\"factors\":[\"egal\",\"wichtig\",\"sehr wichtig\",\"nicht wichtig\",\"gar nicht wichtig\"]},\"id\":\"7860\",\"type\":\"FactorRange\"},{\"attributes\":{\"callback\":null,\"mode\":\"vline\",\"tooltips\":[[\"Bin\",\"@intvl\"],[\"Frequency\",\"@freq\"],[\"Percent\",\"@pct{0.2f}%\"]]},\"id\":\"7471\",\"type\":\"HoverTool\"},{\"attributes\":{},\"id\":\"8130\",\"type\":\"UnionRenderers\"},{\"attributes\":{\"bottom\":{\"value\":0.01},\"fill_color\":{\"value\":\"#1f77b4\"},\"line_color\":{\"value\":\"#1f77b4\"},\"top\":{\"field\":\"F12a\"},\"width\":{\"value\":0.9},\"x\":{\"field\":\"index\"}},\"id\":\"7793\",\"type\":\"VBar\"},{\"attributes\":{},\"id\":\"8131\",\"type\":\"Selection\"},{\"attributes\":{\"factors\":[\"egal\",\"wichtig\",\"nicht wichtig\",\"gar nicht wichtig\",\"sehr wichtig\"]},\"id\":\"7802\",\"type\":\"FactorRange\"},{\"attributes\":{},\"id\":\"8086\",\"type\":\"BasicTickFormatter\"},{\"attributes\":{\"callback\":null,\"tooltips\":[[\"Alter\",\"@index\"],[\"Count\",\"@Alter\"],[\"Percent\",\"@pct{0.2f}%\"]]},\"id\":\"7314\",\"type\":\"HoverTool\"},{\"attributes\":{\"below\":[{\"id\":\"7518\"}],\"center\":[{\"id\":\"7521\"},{\"id\":\"7525\"}],\"left\":[{\"id\":\"7522\"}],\"plot_height\":300,\"plot_width\":324,\"renderers\":[{\"id\":\"7531\"}],\"title\":{\"id\":\"7508\"},\"toolbar\":{\"id\":\"7526\"},\"toolbar_location\":null,\"x_range\":{\"id\":\"7510\"},\"x_scale\":{\"id\":\"7514\"},\"y_range\":{\"id\":\"7512\"},\"y_scale\":{\"id\":\"7516\"}},\"id\":\"7507\",\"subtype\":\"Figure\",\"type\":\"Plot\"},{\"attributes\":{},\"id\":\"8162\",\"type\":\"BasicTickFormatter\"},{\"attributes\":{},\"id\":\"7866\",\"type\":\"LinearScale\"},{\"attributes\":{\"bottom\":{\"value\":0.01},\"fill_color\":{\"value\":\"#1f77b4\"},\"line_color\":{\"value\":\"#1f77b4\"},\"top\":{\"field\":\"Schulstufe\"},\"width\":{\"value\":0.9},\"x\":{\"field\":\"index\"}},\"id\":\"7348\",\"type\":\"VBar\"},{\"attributes\":{},\"id\":\"7390\",\"type\":\"LinearScale\"},{\"attributes\":{},\"id\":\"7814\",\"type\":\"BasicTicker\"},{\"attributes\":{\"bottom\":{\"value\":0},\"fill_alpha\":{\"value\":0.5},\"fill_color\":{\"value\":\"#6baed6\"},\"left\":{\"field\":\"left\"},\"line_alpha\":{\"value\":0.5},\"line_color\":{\"value\":\"#1f77b4\"},\"right\":{\"field\":\"right\"},\"top\":{\"field\":\"freq\"}},\"id\":\"7405\",\"type\":\"Quad\"},{\"attributes\":{},\"id\":\"7862\",\"type\":\"DataRange1d\"},{\"attributes\":{\"bottom\":{\"value\":0.01},\"fill_alpha\":{\"value\":0.1},\"fill_color\":{\"value\":\"#1f77b4\"},\"line_alpha\":{\"value\":0.1},\"line_color\":{\"value\":\"#1f77b4\"},\"top\":{\"field\":\"F12c\"},\"width\":{\"value\":0.9},\"x\":{\"field\":\"index\"}},\"id\":\"7852\",\"type\":\"VBar\"},{\"attributes\":{\"axis\":{\"id\":\"7871\"},\"dimension\":1,\"grid_line_color\":null,\"ticker\":null},\"id\":\"7874\",\"type\":\"Grid\"},{\"attributes\":{\"data\":{\"freq\":[90,0,113,0,0,159,0,140,0,137],\"index\":[0,1,2,3,4,5,6,7,8,9],\"intvl\":[\"[1, 1.4)\",\"[1.4, 1.8)\",\"[1.8, 2.2)\",\"[2.2, 2.6)\",\"[2.6, 3)\",\"[3, 3.4)\",\"[3.4, 3.8)\",\"[3.8, 4.2)\",\"[4.2, 4.6)\",\"[4.6,5]\"],\"left\":{\"__ndarray__\":\"AAAAAAAA8D9mZmZmZmb2P83MzMzMzPw/mpmZmZmZAUDNzMzMzMwEQAAAAAAAAAhANDMzMzMzC0BnZmZmZmYOQM3MzMzMzBBAZmZmZmZmEkA=\",\"dtype\":\"float64\",\"shape\":[10]},\"pct\":{\"__ndarray__\":\"AAAAAAAgLEAAAAAAAAAAAAAAAAAAqDFAAAAAAAAAAAAAAAAAAAAAAAAAAAAA2DhAAAAAAAAAAAAAAAAAAOA1QAAAAAAAAAAAAAAAAABoNUA=\",\"dtype\":\"float64\",\"shape\":[10]},\"right\":{\"__ndarray__\":\"ZmZmZmZm9j/NzMzMzMz8P5qZmZmZmQFAzczMzMzMBEAAAAAAAAAIQDQzMzMzMwtAZ2ZmZmZmDkDNzMzMzMwQQGZmZmZmZhJAAAAAAAAAFEA=\",\"dtype\":\"float64\",\"shape\":[10]}},\"selected\":{\"id\":\"8061\"},\"selection_policy\":{\"id\":\"8060\"}},\"id\":\"7496\",\"type\":\"ColumnDataSource\"},{\"attributes\":{},\"id\":\"8163\",\"type\":\"BasicTickFormatter\"},{\"attributes\":{},\"id\":\"7574\",\"type\":\"CategoricalScale\"},{\"attributes\":{\"below\":[{\"id\":\"7425\"}],\"center\":[{\"id\":\"7428\"},{\"id\":\"7432\"}],\"left\":[{\"id\":\"7429\"}],\"plot_height\":300,\"plot_width\":324,\"renderers\":[{\"id\":\"7438\"}],\"title\":{\"id\":\"7415\"},\"toolbar\":{\"id\":\"7433\"},\"toolbar_location\":null,\"x_range\":{\"id\":\"7417\"},\"x_scale\":{\"id\":\"7421\"},\"y_range\":{\"id\":\"7419\"},\"y_scale\":{\"id\":\"7423\"}},\"id\":\"7414\",\"subtype\":\"Figure\",\"type\":\"Plot\"},{\"attributes\":{},\"id\":\"8088\",\"type\":\"UnionRenderers\"},{\"attributes\":{\"data\":{\"F12b\":[262,144,84,73,64],\"index\":[\"egal\",\"wichtig\",\"nicht wichtig\",\"gar nicht wichtig\",\"sehr wichtig\"],\"pct\":{\"__ndarray__\":\"AAAAAAB4REAAAAAAAIA2QAAAAAAAQCpAAAAAAADQJkAAAAAAAAAkQA==\",\"dtype\":\"float64\",\"shape\":[5]}},\"selected\":{\"id\":\"8138\"},\"selection_policy\":{\"id\":\"8137\"}},\"id\":\"7820\",\"type\":\"ColumnDataSource\"},{\"attributes\":{},\"id\":\"7386\",\"type\":\"DataRange1d\"},{\"attributes\":{},\"id\":\"8089\",\"type\":\"Selection\"},{\"attributes\":{\"below\":[{\"id\":\"7456\"}],\"center\":[{\"id\":\"7459\"},{\"id\":\"7463\"}],\"left\":[{\"id\":\"7460\"}],\"plot_height\":300,\"plot_width\":324,\"renderers\":[{\"id\":\"7469\"}],\"title\":{\"id\":\"7446\"},\"toolbar\":{\"id\":\"7464\"},\"toolbar_location\":null,\"x_range\":{\"id\":\"7448\"},\"x_scale\":{\"id\":\"7452\"},\"y_range\":{\"id\":\"7450\"},\"y_scale\":{\"id\":\"7454\"}},\"id\":\"7445\",\"subtype\":\"Figure\",\"type\":\"Plot\"},{\"attributes\":{\"factors\":[\"bautechnikum\",\"HTL Spengergasse\",\"TGM\",\"hblva17\",\"Andere\",\"HTL Rennweg\"]},\"id\":\"7980\",\"type\":\"FactorRange\"},{\"attributes\":{\"below\":[{\"id\":\"7810\"}],\"center\":[{\"id\":\"7812\"},{\"id\":\"7816\"}],\"left\":[{\"id\":\"7813\"}],\"plot_height\":300,\"plot_width\":324,\"renderers\":[{\"id\":\"7824\"}],\"title\":{\"id\":\"7800\"},\"toolbar\":{\"id\":\"7818\"},\"toolbar_location\":null,\"x_range\":{\"id\":\"7802\"},\"x_scale\":{\"id\":\"7806\"},\"y_range\":{\"id\":\"7804\"},\"y_scale\":{\"id\":\"7808\"}},\"id\":\"7799\",\"subtype\":\"Figure\",\"type\":\"Plot\"},{\"attributes\":{\"data\":{\"freq\":[104,0,125,0,0,171,0,131,0,106],\"index\":[0,1,2,3,4,5,6,7,8,9],\"intvl\":[\"[1, 1.4)\",\"[1.4, 1.8)\",\"[1.8, 2.2)\",\"[2.2, 2.6)\",\"[2.6, 3)\",\"[3, 3.4)\",\"[3.4, 3.8)\",\"[3.8, 4.2)\",\"[4.2, 4.6)\",\"[4.6,5]\"],\"left\":{\"__ndarray__\":\"AAAAAAAA8D9mZmZmZmb2P83MzMzMzPw/mpmZmZmZAUDNzMzMzMwEQAAAAAAAAAhANDMzMzMzC0BnZmZmZmYOQM3MzMzMzBBAZmZmZmZmEkA=\",\"dtype\":\"float64\",\"shape\":[10]},\"pct\":{\"__ndarray__\":\"AAAAAABAMEAAAAAAAAAAAAAAAAAAiDNAAAAAAAAAAAAAAAAAAAAAAAEAAAAAuDpAAAAAAAAAAAAAAAAAAHg0QAAAAAAAAAAAAAAAAACQMEA=\",\"dtype\":\"float64\",\"shape\":[10]},\"right\":{\"__ndarray__\":\"ZmZmZmZm9j/NzMzMzMz8P5qZmZmZmQFAzczMzMzMBEAAAAAAAAAIQDQzMzMzMwtAZ2ZmZmZmDkDNzMzMzMwQQGZmZmZmZhJAAAAAAAAAFEA=\",\"dtype\":\"float64\",\"shape\":[10]}},\"selected\":{\"id\":\"8040\"},\"selection_policy\":{\"id\":\"8039\"}},\"id\":\"7403\",\"type\":\"ColumnDataSource\"},{\"attributes\":{\"axis\":{\"id\":\"7368\"},\"dimension\":1,\"grid_line_color\":null,\"ticker\":null},\"id\":\"7371\",\"type\":\"Grid\"},{\"attributes\":{\"axis\":{\"id\":\"7578\"},\"grid_line_color\":null,\"ticker\":null},\"id\":\"7580\",\"type\":\"Grid\"},{\"attributes\":{\"formatter\":{\"id\":\"8036\"},\"major_label_overrides\":{\"1\":\"1\",\"1.9\":\"1.9\",\"2.8\":\"2.8\",\"3.7\":\"3.7\",\"4.6\":\"4.6\"},\"major_label_standoff\":7,\"major_label_text_font_size\":\"10pt\",\"major_tick_line_color\":null,\"minor_tick_line_color\":\"white\",\"ticker\":{\"id\":\"7412\"}},\"id\":\"7394\",\"type\":\"LinearAxis\"},{\"attributes\":{\"source\":{\"id\":\"7849\"}},\"id\":\"7854\",\"type\":\"CDSView\"},{\"attributes\":{},\"id\":\"7872\",\"type\":\"BasicTicker\"},{\"attributes\":{\"axis\":{\"id\":\"7394\"},\"grid_line_color\":null,\"ticker\":{\"id\":\"7411\"}},\"id\":\"7397\",\"type\":\"Grid\"},{\"attributes\":{\"code\":\"\\n            if (tick.length &gt; 15) return tick.substring(0, 15-2) + '...';\\n            else return tick;\\n        \"},\"id\":\"7855\",\"type\":\"FuncTickFormatter\"},{\"attributes\":{\"axis_label\":\"Frequency\",\"formatter\":{\"id\":\"8037\"},\"major_label_text_font_size\":\"0pt\",\"major_tick_line_color\":null,\"minor_tick_line_color\":\"white\",\"ticker\":{\"id\":\"7399\"}},\"id\":\"7398\",\"type\":\"LinearAxis\"},{\"attributes\":{},\"id\":\"7864\",\"type\":\"CategoricalScale\"},{\"attributes\":{},\"id\":\"7808\",\"type\":\"LinearScale\"},{\"attributes\":{},\"id\":\"8165\",\"type\":\"UnionRenderers\"},{\"attributes\":{\"code\":\"\\n            if (tick.length &gt; 15) return tick.substring(0, 15-2) + '...';\\n            else return tick;\\n        \"},\"id\":\"7826\",\"type\":\"FuncTickFormatter\"},{\"attributes\":{},\"id\":\"7811\",\"type\":\"CategoricalTicker\"},{\"attributes\":{\"axis_label\":\"Count\",\"formatter\":{\"id\":\"8079\"},\"major_label_text_font_size\":\"0pt\",\"major_tick_line_color\":null,\"minor_tick_line_color\":\"white\",\"ticker\":{\"id\":\"7582\"}},\"id\":\"7581\",\"type\":\"LinearAxis\"},{\"attributes\":{\"axis\":{\"id\":\"7810\"},\"grid_line_color\":null,\"ticker\":null},\"id\":\"7812\",\"type\":\"Grid\"},{\"attributes\":{},\"id\":\"7388\",\"type\":\"DataRange1d\"},{\"attributes\":{},\"id\":\"7806\",\"type\":\"CategoricalScale\"},{\"attributes\":{},\"id\":\"8166\",\"type\":\"Selection\"},{\"attributes\":{\"axis\":{\"id\":\"7398\"},\"dimension\":1,\"grid_line_color\":null,\"ticker\":null},\"id\":\"7401\",\"type\":\"Grid\"},{\"attributes\":{\"formatter\":{\"id\":\"7826\"},\"major_label_orientation\":1.0471975511965976,\"major_label_text_font_size\":\"9pt\",\"minor_tick_line_color\":\"white\",\"ticker\":{\"id\":\"7811\"}},\"id\":\"7810\",\"type\":\"CategoricalAxis\"},{\"attributes\":{\"below\":[{\"id\":\"7394\"}],\"center\":[{\"id\":\"7397\"},{\"id\":\"7401\"}],\"left\":[{\"id\":\"7398\"}],\"plot_height\":300,\"plot_width\":324,\"renderers\":[{\"id\":\"7407\"}],\"title\":{\"id\":\"7384\"},\"toolbar\":{\"id\":\"7402\"},\"toolbar_location\":null,\"x_range\":{\"id\":\"7386\"},\"x_scale\":{\"id\":\"7390\"},\"y_range\":{\"id\":\"7388\"},\"y_scale\":{\"id\":\"7392\"}},\"id\":\"7383\",\"subtype\":\"Figure\",\"type\":\"Plot\"},{\"attributes\":{\"data\":{\"freq\":[53,0,73,0,0,181,0,172,0,154],\"index\":[0,1,2,3,4,5,6,7,8,9],\"intvl\":[\"[1, 1.4)\",\"[1.4, 1.8)\",\"[1.8, 2.2)\",\"[2.2, 2.6)\",\"[2.6, 3)\",\"[3, 3.4)\",\"[3.4, 3.8)\",\"[3.8, 4.2)\",\"[4.2, 4.6)\",\"[4.6,5]\"],\"left\":{\"__ndarray__\":\"AAAAAAAA8D9mZmZmZmb2P83MzMzMzPw/mpmZmZmZAUDNzMzMzMwEQAAAAAAAAAhANDMzMzMzC0BnZmZmZmYOQM3MzMzMzBBAZmZmZmZmEkA=\",\"dtype\":\"float64\",\"shape\":[10]},\"pct\":{\"__ndarray__\":\"AAAAAACQIEAAAAAAAAAAAAAAAAAA0CZAAAAAAAAAAAAAAAAAAAAAAAEAAAAASDxAAAAAAAAAAAAAAAAAAOA6QAAAAAAAAAAAAAAAAAAQOEA=\",\"dtype\":\"float64\",\"shape\":[10]},\"right\":{\"__ndarray__\":\"ZmZmZmZm9j/NzMzMzMz8P5qZmZmZmQFAzczMzMzMBEAAAAAAAAAIQDQzMzMzMwtAZ2ZmZmZmDkDNzMzMzMwQQGZmZmZmZhJAAAAAAAAAFEA=\",\"dtype\":\"float64\",\"shape\":[10]}},\"selected\":{\"id\":\"8068\"},\"selection_policy\":{\"id\":\"8067\"}},\"id\":\"7527\",\"type\":\"ColumnDataSource\"},{\"attributes\":{\"text\":\"F12b (2.0% missing)\",\"text_font_size\":{\"value\":\"10pt\"}},\"id\":\"7800\",\"type\":\"Title\"},{\"attributes\":{\"data\":{\"freq\":[15,0,36,0,0,109,0,190,0,287],\"index\":[0,1,2,3,4,5,6,7,8,9],\"intvl\":[\"[1, 1.4)\",\"[1.4, 1.8)\",\"[1.8, 2.2)\",\"[2.2, 2.6)\",\"[2.6, 3)\",\"[3, 3.4)\",\"[3.4, 3.8)\",\"[3.8, 4.2)\",\"[4.2, 4.6)\",\"[4.6,5]\"],\"left\":{\"__ndarray__\":\"AAAAAAAA8D9mZmZmZmb2P83MzMzMzPw/mpmZmZmZAUDNzMzMzMwEQAAAAAAAAAhANDMzMzMzC0BnZmZmZmYOQM3MzMzMzBBAZmZmZmZmEkA=\",\"dtype\":\"float64\",\"shape\":[10]},\"pct\":{\"__ndarray__\":\"AAAAAADAAkAAAAAAAAAAAAAAAAAAgBZAAAAAAAAAAAAAAAAAAAAAAAAAAAAACDFAAAAAAAAAAAAAAAAAALA9QAAAAAAAAAAAAAAAAABsRkA=\",\"dtype\":\"float64\",\"shape\":[10]},\"right\":{\"__ndarray__\":\"ZmZmZmZm9j/NzMzMzMz8P5qZmZmZmQFAzczMzMzMBEAAAAAAAAAIQDQzMzMzMwtAZ2ZmZmZmDkDNzMzMzMwQQGZmZmZmZhJAAAAAAAAAFEA=\",\"dtype\":\"float64\",\"shape\":[10]}},\"selected\":{\"id\":\"8047\"},\"selection_policy\":{\"id\":\"8046\"}},\"id\":\"7434\",\"type\":\"ColumnDataSource\"},{\"attributes\":{},\"id\":\"7572\",\"type\":\"DataRange1d\"},{\"attributes\":{},\"id\":\"7663\",\"type\":\"LinearScale\"},{\"attributes\":{\"code\":\"\\n            if (tick.length &gt; 15) return tick.substring(0, 15-2) + '...';\\n            else return tick;\\n        \"},\"id\":\"7797\",\"type\":\"FuncTickFormatter\"},{\"attributes\":{\"callback\":null,\"tooltips\":[[\"F12b\",\"@index\"],[\"Count\",\"@F12b\"],[\"Percent\",\"@pct{0.2f}%\"]]},\"id\":\"7817\",\"type\":\"HoverTool\"},{\"attributes\":{},\"id\":\"7392\",\"type\":\"LinearScale\"},{\"attributes\":{\"data_source\":{\"id\":\"7791\"},\"glyph\":{\"id\":\"7793\"},\"hover_glyph\":null,\"muted_glyph\":null,\"nonselection_glyph\":{\"id\":\"7794\"},\"selection_glyph\":null,\"view\":{\"id\":\"7796\"}},\"id\":\"7795\",\"type\":\"GlyphRenderer\"},{\"attributes\":{},\"id\":\"8135\",\"type\":\"BasicTickFormatter\"},{\"attributes\":{\"text\":\"F5 (0.5% missing)\",\"text_font_size\":{\"value\":\"10pt\"}},\"id\":\"7384\",\"type\":\"Title\"},{\"attributes\":{\"active_drag\":\"auto\",\"active_inspect\":\"auto\",\"active_multi\":null,\"active_scroll\":\"auto\",\"active_tap\":\"auto\",\"tools\":[{\"id\":\"7409\"}]},\"id\":\"7402\",\"type\":\"Toolbar\"},{\"attributes\":{\"axis_label\":\"Count\",\"formatter\":{\"id\":\"8149\"},\"major_label_text_font_size\":\"0pt\",\"major_tick_line_color\":null,\"minor_tick_line_color\":\"white\",\"ticker\":{\"id\":\"7872\"}},\"id\":\"7871\",\"type\":\"LinearAxis\"},{\"attributes\":{},\"id\":\"7666\",\"type\":\"CategoricalTicker\"},{\"attributes\":{\"callback\":null,\"tooltips\":[[\"Geschlecht\",\"@index\"],[\"Count\",\"@Geschlecht\"],[\"Percent\",\"@pct{0.2f}%\"]]},\"id\":\"7372\",\"type\":\"HoverTool\"},{\"attributes\":{},\"id\":\"7399\",\"type\":\"BasicTicker\"},{\"attributes\":{\"formatter\":{\"id\":\"8050\"},\"major_label_overrides\":{\"1\":\"1\",\"1.9\":\"1.9\",\"2.8\":\"2.8\",\"3.7\":\"3.7\",\"4.6\":\"4.6\"},\"major_label_standoff\":7,\"major_label_text_font_size\":\"10pt\",\"major_tick_line_color\":null,\"minor_tick_line_color\":\"white\",\"ticker\":{\"id\":\"7474\"}},\"id\":\"7456\",\"type\":\"LinearAxis\"},{\"attributes\":{},\"id\":\"7450\",\"type\":\"DataRange1d\"},{\"attributes\":{\"code\":\"\\n            if (tick.length &gt; 15) return tick.substring(0, 15-2) + '...';\\n            else return tick;\\n        \"},\"id\":\"7294\",\"type\":\"FuncTickFormatter\"},{\"attributes\":{\"text\":\"Geschlecht (1.1% missing)\",\"text_font_size\":{\"value\":\"10pt\"}},\"id\":\"7355\",\"type\":\"Title\"},{\"attributes\":{},\"id\":\"7750\",\"type\":\"LinearScale\"},{\"attributes\":{\"source\":{\"id\":\"7375\"}},\"id\":\"7380\",\"type\":\"CDSView\"},{\"attributes\":{\"below\":[{\"id\":\"7988\"}],\"center\":[{\"id\":\"7990\"},{\"id\":\"7994\"}],\"left\":[{\"id\":\"7991\"}],\"plot_height\":300,\"plot_width\":324,\"renderers\":[{\"id\":\"8002\"}],\"title\":{\"id\":\"7978\"},\"toolbar\":{\"id\":\"7996\"},\"toolbar_location\":null,\"x_range\":{\"id\":\"7980\"},\"x_scale\":{\"id\":\"7984\"},\"y_range\":{\"id\":\"7982\"},\"y_scale\":{\"id\":\"7986\"}},\"id\":\"7977\",\"subtype\":\"Figure\",\"type\":\"Plot\"},{\"attributes\":{\"data\":{\"F12d\":[234,211,123,34,24],\"index\":[\"egal\",\"wichtig\",\"sehr wichtig\",\"nicht wichtig\",\"gar nicht wichtig\"],\"pct\":{\"__ndarray__\":\"AAAAAABIQkAAAAAAAHxAQAAAAAAAODNAAAAAAABAFUAAAAAAAAAOQA==\",\"dtype\":\"float64\",\"shape\":[5]}},\"selected\":{\"id\":\"8152\"},\"selection_policy\":{\"id\":\"8151\"}},\"id\":\"7878\",\"type\":\"ColumnDataSource\"},{\"attributes\":{},\"id\":\"7417\",\"type\":\"DataRange1d\"},{\"attributes\":{\"factors\":[\"wichtig\",\"sehr wichtig\",\"egal\",\"nicht wichtig\",\"gar nicht wichtig\"]},\"id\":\"7628\",\"type\":\"FactorRange\"},{\"attributes\":{},\"id\":\"8026\",\"type\":\"Selection\"},{\"attributes\":{},\"id\":\"7746\",\"type\":\"DataRange1d\"},{\"attributes\":{},\"id\":\"8177\",\"type\":\"BasicTickFormatter\"},{\"attributes\":{\"text\":\"F12c (2.2% missing)\",\"text_font_size\":{\"value\":\"10pt\"}},\"id\":\"7829\",\"type\":\"Title\"},{\"attributes\":{\"bottom\":{\"value\":0.01},\"fill_color\":{\"value\":\"#1f77b4\"},\"line_color\":{\"value\":\"#1f77b4\"},\"top\":{\"field\":\"F12e\"},\"width\":{\"value\":0.9},\"x\":{\"field\":\"index\"}},\"id\":\"7909\",\"type\":\"VBar\"},{\"attributes\":{\"below\":[{\"id\":\"7665\"}],\"center\":[{\"id\":\"7667\"},{\"id\":\"7671\"}],\"left\":[{\"id\":\"7668\"}],\"plot_height\":300,\"plot_width\":324,\"renderers\":[{\"id\":\"7679\"}],\"title\":{\"id\":\"7655\"},\"toolbar\":{\"id\":\"7673\"},\"toolbar_location\":null,\"x_range\":{\"id\":\"7657\"},\"x_scale\":{\"id\":\"7661\"},\"y_range\":{\"id\":\"7659\"},\"y_scale\":{\"id\":\"7663\"}},\"id\":\"7654\",\"subtype\":\"Figure\",\"type\":\"Plot\"},{\"attributes\":{},\"id\":\"7543\",\"type\":\"DataRange1d\"},{\"attributes\":{},\"id\":\"7547\",\"type\":\"LinearScale\"},{\"attributes\":{},\"id\":\"8043\",\"type\":\"BasicTickFormatter\"},{\"attributes\":{\"code\":\"\\n            if (tick.length &gt; 15) return tick.substring(0, 15-2) + '...';\\n            else return tick;\\n        \"},\"id\":\"8004\",\"type\":\"FuncTickFormatter\"},{\"attributes\":{},\"id\":\"7492\",\"type\":\"BasicTicker\"},{\"attributes\":{\"axis\":{\"id\":\"7491\"},\"dimension\":1,\"grid_line_color\":null,\"ticker\":null},\"id\":\"7494\",\"type\":\"Grid\"},{\"attributes\":{},\"id\":\"7545\",\"type\":\"CategoricalScale\"},{\"attributes\":{\"code\":\"\\n            if (tick.length &gt; 15) return tick.substring(0, 15-2) + '...';\\n            else return tick;\\n        \"},\"id\":\"7623\",\"type\":\"FuncTickFormatter\"},{\"attributes\":{\"axis_label\":\"Frequency\",\"formatter\":{\"id\":\"8058\"},\"major_label_text_font_size\":\"0pt\",\"major_tick_line_color\":null,\"minor_tick_line_color\":\"white\",\"ticker\":{\"id\":\"7492\"}},\"id\":\"7491\",\"type\":\"LinearAxis\"},{\"attributes\":{\"bottom\":{\"value\":0.01},\"fill_color\":{\"value\":\"#1f77b4\"},\"line_color\":{\"value\":\"#1f77b4\"},\"top\":{\"field\":\"F10a\"},\"width\":{\"value\":0.9},\"x\":{\"field\":\"index\"}},\"id\":\"7561\",\"type\":\"VBar\"},{\"attributes\":{},\"id\":\"8025\",\"type\":\"UnionRenderers\"},{\"attributes\":{\"below\":[{\"id\":\"7307\"}],\"center\":[{\"id\":\"7309\"},{\"id\":\"7313\"}],\"left\":[{\"id\":\"7310\"}],\"plot_height\":300,\"plot_width\":324,\"renderers\":[{\"id\":\"7321\"}],\"title\":{\"id\":\"7297\"},\"toolbar\":{\"id\":\"7315\"},\"toolbar_location\":null,\"x_range\":{\"id\":\"7299\"},\"x_scale\":{\"id\":\"7303\"},\"y_range\":{\"id\":\"7301\"},\"y_scale\":{\"id\":\"7305\"}},\"id\":\"7296\",\"subtype\":\"Figure\",\"type\":\"Plot\"},{\"attributes\":{\"callback\":null,\"mode\":\"vline\",\"tooltips\":[[\"Bin\",\"@intvl\"],[\"Frequency\",\"@freq\"],[\"Percent\",\"@pct{0.2f}%\"]]},\"id\":\"7533\",\"type\":\"HoverTool\"},{\"attributes\":{\"data_source\":{\"id\":\"7617\"},\"glyph\":{\"id\":\"7619\"},\"hover_glyph\":null,\"muted_glyph\":null,\"nonselection_glyph\":{\"id\":\"7620\"},\"selection_glyph\":null,\"view\":{\"id\":\"7622\"}},\"id\":\"7621\",\"type\":\"GlyphRenderer\"},{\"attributes\":{},\"id\":\"7279\",\"type\":\"CategoricalTicker\"},{\"attributes\":{\"below\":[{\"id\":\"7278\"}],\"center\":[{\"id\":\"7280\"},{\"id\":\"7284\"}],\"left\":[{\"id\":\"7281\"}],\"plot_height\":300,\"plot_width\":324,\"renderers\":[{\"id\":\"7292\"}],\"title\":{\"id\":\"7268\"},\"toolbar\":{\"id\":\"7286\"},\"toolbar_location\":null,\"x_range\":{\"id\":\"7270\"},\"x_scale\":{\"id\":\"7274\"},\"y_range\":{\"id\":\"7272\"},\"y_scale\":{\"id\":\"7276\"}},\"id\":\"7267\",\"subtype\":\"Figure\",\"type\":\"Plot\"},{\"attributes\":{},\"id\":\"8044\",\"type\":\"BasicTickFormatter\"},{\"attributes\":{},\"id\":\"8179\",\"type\":\"UnionRenderers\"},{\"attributes\":{\"text\":\"F11a (0.8% missing)\",\"text_font_size\":{\"value\":\"10pt\"}},\"id\":\"7626\",\"type\":\"Title\"},{\"attributes\":{},\"id\":\"7363\",\"type\":\"LinearScale\"},{\"attributes\":{\"code\":\"\\n            if (tick.length &gt; 15) return tick.substring(0, 15-2) + '...';\\n            else return tick;\\n        \"},\"id\":\"7381\",\"type\":\"FuncTickFormatter\"},{\"attributes\":{\"data\":{\"F11b\":[241,171,169,34,14],\"index\":[\"wichtig\",\"egal\",\"sehr wichtig\",\"nicht wichtig\",\"gar nicht wichtig\"],\"pct\":{\"__ndarray__\":\"AAAAAADUQkABAAAAALg6QP//////ZzpAAAAAAABAFUAAAAAAAIABQA==\",\"dtype\":\"float64\",\"shape\":[5]}},\"selected\":{\"id\":\"8103\"},\"selection_policy\":{\"id\":\"8102\"}},\"id\":\"7675\",\"type\":\"ColumnDataSource\"},{\"attributes\":{\"active_drag\":\"auto\",\"active_inspect\":\"auto\",\"active_multi\":null,\"active_scroll\":\"auto\",\"active_tap\":\"auto\",\"tools\":[{\"id\":\"7701\"}]},\"id\":\"7702\",\"type\":\"Toolbar\"},{\"attributes\":{},\"id\":\"8180\",\"type\":\"Selection\"},{\"attributes\":{},\"id\":\"7661\",\"type\":\"CategoricalScale\"},{\"attributes\":{\"data\":{\"F11a\":[298,288,40,6,3],\"index\":[\"wichtig\",\"sehr wichtig\",\"egal\",\"nicht wichtig\",\"gar nicht wichtig\"],\"pct\":{\"__ndarray__\":\"AAAAAABIR0AAAAAAAIBGQAAAAAAAABlAAAAAAAAA7j8AAAAAAADePw==\",\"dtype\":\"float64\",\"shape\":[5]}},\"selected\":{\"id\":\"8096\"},\"selection_policy\":{\"id\":\"8095\"}},\"id\":\"7646\",\"type\":\"ColumnDataSource\"},{\"attributes\":{\"axis_label\":\"Frequency\",\"formatter\":{\"id\":\"8044\"},\"major_label_text_font_size\":\"0pt\",\"major_tick_line_color\":null,\"minor_tick_line_color\":\"white\",\"ticker\":{\"id\":\"7430\"}},\"id\":\"7429\",\"type\":\"LinearAxis\"},{\"attributes\":{\"below\":[{\"id\":\"7336\"}],\"center\":[{\"id\":\"7338\"},{\"id\":\"7342\"}],\"left\":[{\"id\":\"7339\"}],\"plot_height\":300,\"plot_width\":324,\"renderers\":[{\"id\":\"7350\"}],\"title\":{\"id\":\"7326\"},\"toolbar\":{\"id\":\"7344\"},\"toolbar_location\":null,\"x_range\":{\"id\":\"7328\"},\"x_scale\":{\"id\":\"7332\"},\"y_range\":{\"id\":\"7330\"},\"y_scale\":{\"id\":\"7334\"}},\"id\":\"7325\",\"subtype\":\"Figure\",\"type\":\"Plot\"},{\"attributes\":{\"source\":{\"id\":\"7617\"}},\"id\":\"7622\",\"type\":\"CDSView\"},{\"attributes\":{},\"id\":\"7359\",\"type\":\"DataRange1d\"},{\"attributes\":{\"below\":[{\"id\":\"7839\"}],\"center\":[{\"id\":\"7841\"},{\"id\":\"7845\"}],\"left\":[{\"id\":\"7842\"}],\"plot_height\":300,\"plot_width\":324,\"renderers\":[{\"id\":\"7853\"}],\"title\":{\"id\":\"7829\"},\"toolbar\":{\"id\":\"7847\"},\"toolbar_location\":null,\"x_range\":{\"id\":\"7831\"},\"x_scale\":{\"id\":\"7835\"},\"y_range\":{\"id\":\"7833\"},\"y_scale\":{\"id\":\"7837\"}},\"id\":\"7828\",\"subtype\":\"Figure\",\"type\":\"Plot\"},{\"attributes\":{\"factors\":[\"sehr wichtig\",\"wichtig\",\"egal\",\"nicht wichtig\",\"gar nicht wichtig\"]},\"id\":\"7570\",\"type\":\"FactorRange\"},{\"attributes\":{\"bottom\":{\"value\":0.01},\"fill_color\":{\"value\":\"#1f77b4\"},\"line_color\":{\"value\":\"#1f77b4\"},\"top\":{\"field\":\"F11c\"},\"width\":{\"value\":0.9},\"x\":{\"field\":\"index\"}},\"id\":\"7706\",\"type\":\"VBar\"},{\"attributes\":{\"bottom\":{\"value\":0.01},\"fill_color\":{\"value\":\"#1f77b4\"},\"line_color\":{\"value\":\"#1f77b4\"},\"top\":{\"field\":\"Geschlecht\"},\"width\":{\"value\":0.9},\"x\":{\"field\":\"index\"}},\"id\":\"7377\",\"type\":\"VBar\"},{\"attributes\":{\"source\":{\"id\":\"7403\"}},\"id\":\"7408\",\"type\":\"CDSView\"},{\"attributes\":{\"data\":{\"Schulstufe\":[187,157,112,95,71,16],\"index\":[\"11\",\"&gt;13\",\"9\",\"10\",\"12\",\"13\"],\"pct\":{\"__ndarray__\":\"AAAAAAA4PUAAAAAAAIg4QAAAAAAAgDFAAAAAAACwLUAAAAAAADAmQAAAAAAAAARA\",\"dtype\":\"float64\",\"shape\":[6]}},\"selected\":{\"id\":\"8026\"},\"selection_policy\":{\"id\":\"8025\"}},\"id\":\"7346\",\"type\":\"ColumnDataSource\"},{\"attributes\":{\"data\":{\"F11d\":[182,162,141,74,67],\"index\":[\"wichtig\",\"egal\",\"sehr wichtig\",\"nicht wichtig\",\"gar nicht wichtig\"],\"pct\":{\"__ndarray__\":\"AAAAAABwPEAAAAAAAFA5QAAAAAAACDZAAAAAAAAgJ0AAAAAAAPAkQA==\",\"dtype\":\"float64\",\"shape\":[5]}},\"selected\":{\"id\":\"8117\"},\"selection_policy\":{\"id\":\"8116\"}},\"id\":\"7733\",\"type\":\"ColumnDataSource\"},{\"attributes\":{\"below\":[{\"id\":\"7636\"}],\"center\":[{\"id\":\"7638\"},{\"id\":\"7642\"}],\"left\":[{\"id\":\"7639\"}],\"plot_height\":300,\"plot_width\":324,\"renderers\":[{\"id\":\"7650\"}],\"title\":{\"id\":\"7626\"},\"toolbar\":{\"id\":\"7644\"},\"toolbar_location\":null,\"x_range\":{\"id\":\"7628\"},\"x_scale\":{\"id\":\"7632\"},\"y_range\":{\"id\":\"7630\"},\"y_scale\":{\"id\":\"7634\"}},\"id\":\"7625\",\"subtype\":\"Figure\",\"type\":\"Plot\"},{\"attributes\":{\"data_source\":{\"id\":\"7527\"},\"glyph\":{\"id\":\"7529\"},\"hover_glyph\":null,\"muted_glyph\":null,\"nonselection_glyph\":{\"id\":\"7530\"},\"selection_glyph\":null,\"view\":{\"id\":\"7532\"}},\"id\":\"7531\",\"type\":\"GlyphRenderer\"},{\"attributes\":{\"formatter\":{\"id\":\"7294\"},\"major_label_orientation\":1.0471975511965976,\"major_label_text_font_size\":\"9pt\",\"minor_tick_line_color\":\"white\",\"ticker\":{\"id\":\"7279\"}},\"id\":\"7278\",\"type\":\"CategoricalAxis\"},{\"attributes\":{},\"id\":\"8046\",\"type\":\"UnionRenderers\"},{\"attributes\":{\"data\":{\"Geschlecht\":[452,176,5],\"index\":[\"m\\u00e4nnlich\",\"weiblich\",\"divers\"],\"pct\":{\"__ndarray__\":\"AAAAAACoUUABAAAAAIA7QAAAAAAAAOk/\",\"dtype\":\"float64\",\"shape\":[3]}},\"selected\":{\"id\":\"8033\"},\"selection_policy\":{\"id\":\"8032\"}},\"id\":\"7375\",\"type\":\"ColumnDataSource\"},{\"attributes\":{\"below\":[{\"id\":\"7723\"}],\"center\":[{\"id\":\"7725\"},{\"id\":\"7729\"}],\"left\":[{\"id\":\"7726\"}],\"plot_height\":300,\"plot_width\":324,\"renderers\":[{\"id\":\"7737\"}],\"title\":{\"id\":\"7713\"},\"toolbar\":{\"id\":\"7731\"},\"toolbar_location\":null,\"x_range\":{\"id\":\"7715\"},\"x_scale\":{\"id\":\"7719\"},\"y_range\":{\"id\":\"7717\"},\"y_scale\":{\"id\":\"7721\"}},\"id\":\"7712\",\"subtype\":\"Figure\",\"type\":\"Plot\"},{\"attributes\":{\"text\":\"F16 (1.7% missing)\",\"text_font_size\":{\"value\":\"10pt\"}},\"id\":\"7916\",\"type\":\"Title\"},{\"attributes\":{},\"id\":\"8047\",\"type\":\"Selection\"},{\"attributes\":{\"factors\":[\"wichtig\",\"egal\",\"sehr wichtig\",\"nicht wichtig\",\"gar nicht wichtig\"]},\"id\":\"7657\",\"type\":\"FactorRange\"},{\"attributes\":{\"children\":[{\"id\":\"8183\"},{\"id\":\"8006\"},{\"id\":\"8182\"}]},\"id\":\"8185\",\"type\":\"Column\"},{\"attributes\":{},\"id\":\"7421\",\"type\":\"LinearScale\"},{\"attributes\":{\"text\":\"F7 (0.3% missing)\",\"text_font_size\":{\"value\":\"10pt\"}},\"id\":\"7446\",\"type\":\"Title\"},{\"attributes\":{\"formatter\":{\"id\":\"8057\"},\"major_label_overrides\":{\"1\":\"1\",\"1.9\":\"1.9\",\"2.8\":\"2.8\",\"3.7\":\"3.7\",\"4.6\":\"4.6\"},\"major_label_standoff\":7,\"major_label_text_font_size\":\"10pt\",\"major_tick_line_color\":null,\"minor_tick_line_color\":\"white\",\"ticker\":{\"id\":\"7505\"}},\"id\":\"7487\",\"type\":\"LinearAxis\"},{\"attributes\":{\"below\":[{\"id\":\"7578\"}],\"center\":[{\"id\":\"7580\"},{\"id\":\"7584\"}],\"left\":[{\"id\":\"7581\"}],\"plot_height\":300,\"plot_width\":324,\"renderers\":[{\"id\":\"7592\"}],\"title\":{\"id\":\"7568\"},\"toolbar\":{\"id\":\"7586\"},\"toolbar_location\":null,\"x_range\":{\"id\":\"7570\"},\"x_scale\":{\"id\":\"7574\"},\"y_range\":{\"id\":\"7572\"},\"y_scale\":{\"id\":\"7576\"}},\"id\":\"7567\",\"subtype\":\"Figure\",\"type\":\"Plot\"},{\"attributes\":{},\"id\":\"8023\",\"type\":\"BasicTickFormatter\"},{\"attributes\":{\"below\":[{\"id\":\"7897\"}],\"center\":[{\"id\":\"7899\"},{\"id\":\"7903\"}],\"left\":[{\"id\":\"7900\"}],\"plot_height\":300,\"plot_width\":324,\"renderers\":[{\"id\":\"7911\"}],\"title\":{\"id\":\"7887\"},\"toolbar\":{\"id\":\"7905\"},\"toolbar_location\":null,\"x_range\":{\"id\":\"7889\"},\"x_scale\":{\"id\":\"7893\"},\"y_range\":{\"id\":\"7891\"},\"y_scale\":{\"id\":\"7895\"}},\"id\":\"7886\",\"subtype\":\"Figure\",\"type\":\"Plot\"},{\"attributes\":{\"below\":[{\"id\":\"7752\"}],\"center\":[{\"id\":\"7754\"},{\"id\":\"7758\"}],\"left\":[{\"id\":\"7755\"}],\"plot_height\":300,\"plot_width\":324,\"renderers\":[{\"id\":\"7766\"}],\"title\":{\"id\":\"7742\"},\"toolbar\":{\"id\":\"7760\"},\"toolbar_location\":null,\"x_range\":{\"id\":\"7744\"},\"x_scale\":{\"id\":\"7748\"},\"y_range\":{\"id\":\"7746\"},\"y_scale\":{\"id\":\"7750\"}},\"id\":\"7741\",\"subtype\":\"Figure\",\"type\":\"Plot\"},{\"attributes\":{\"formatter\":{\"id\":\"7768\"},\"major_label_orientation\":1.0471975511965976,\"major_label_text_font_size\":\"9pt\",\"minor_tick_line_color\":\"white\",\"ticker\":{\"id\":\"7753\"}},\"id\":\"7752\",\"type\":\"CategoricalAxis\"},{\"attributes\":{\"ticks\":[1,1.9,2.8,3.7,4.6]},\"id\":\"7411\",\"type\":\"FixedTicker\"},{\"attributes\":{},\"id\":\"7483\",\"type\":\"LinearScale\"},{\"attributes\":{\"data\":{\"F10b\":[292,252,71,9,1],\"index\":[\"sehr wichtig\",\"wichtig\",\"egal\",\"nicht wichtig\",\"gar nicht wichtig\"],\"pct\":{\"__ndarray__\":\"AAAAAADQRkAAAAAAALBDQAAAAAAAMCZAAAAAAACA9j8AAAAAAADEPw==\",\"dtype\":\"float64\",\"shape\":[5]}},\"selected\":{\"id\":\"8082\"},\"selection_policy\":{\"id\":\"8081\"}},\"id\":\"7588\",\"type\":\"ColumnDataSource\"},{\"attributes\":{\"bottom\":{\"value\":0.01},\"fill_alpha\":{\"value\":0.1},\"fill_color\":{\"value\":\"#1f77b4\"},\"line_alpha\":{\"value\":0.1},\"line_color\":{\"value\":\"#1f77b4\"},\"top\":{\"field\":\"F10c\"},\"width\":{\"value\":0.9},\"x\":{\"field\":\"index\"}},\"id\":\"7620\",\"type\":\"VBar\"},{\"attributes\":{},\"id\":\"7481\",\"type\":\"DataRange1d\"},{\"attributes\":{},\"id\":\"7485\",\"type\":\"LinearScale\"},{\"attributes\":{\"data\":{\"F11c\":[247,115,110,90,64],\"index\":[\"egal\",\"nicht wichtig\",\"wichtig\",\"sehr wichtig\",\"gar nicht wichtig\"],\"pct\":{\"__ndarray__\":\"AAAAAABMQ0AAAAAAAPgxQAAAAAAAMDFAAAAAAAAgLEAAAAAAAAAkQA==\",\"dtype\":\"float64\",\"shape\":[5]}},\"selected\":{\"id\":\"8110\"},\"selection_policy\":{\"id\":\"8109\"}},\"id\":\"7704\",\"type\":\"ColumnDataSource\"},{\"attributes\":{},\"id\":\"7419\",\"type\":\"DataRange1d\"},{\"attributes\":{\"below\":[{\"id\":\"7694\"}],\"center\":[{\"id\":\"7696\"},{\"id\":\"7700\"}],\"left\":[{\"id\":\"7697\"}],\"plot_height\":300,\"plot_width\":324,\"renderers\":[{\"id\":\"7708\"}],\"title\":{\"id\":\"7684\"},\"toolbar\":{\"id\":\"7702\"},\"toolbar_location\":null,\"x_range\":{\"id\":\"7686\"},\"x_scale\":{\"id\":\"7690\"},\"y_range\":{\"id\":\"7688\"},\"y_scale\":{\"id\":\"7692\"}},\"id\":\"7683\",\"subtype\":\"Figure\",\"type\":\"Plot\"},{\"attributes\":{\"bottom\":{\"value\":0.01},\"fill_color\":{\"value\":\"#1f77b4\"},\"line_color\":{\"value\":\"#1f77b4\"},\"top\":{\"field\":\"Schulform\"},\"width\":{\"value\":0.9},\"x\":{\"field\":\"index\"}},\"id\":\"7290\",\"type\":\"VBar\"},{\"attributes\":{\"formatter\":{\"id\":\"8043\"},\"major_label_overrides\":{\"1\":\"1\",\"1.9\":\"1.9\",\"2.8\":\"2.8\",\"3.7\":\"3.7\",\"4.6\":\"4.6\"},\"major_label_standoff\":7,\"major_label_text_font_size\":\"10pt\",\"major_tick_line_color\":null,\"minor_tick_line_color\":\"white\",\"ticker\":{\"id\":\"7443\"}},\"id\":\"7425\",\"type\":\"LinearAxis\"},{\"attributes\":{\"factors\":[\"sehr wichtig\",\"wichtig\",\"egal\",\"gar nicht wichtig\",\"nicht wichtig\"]},\"id\":\"7744\",\"type\":\"FactorRange\"},{\"attributes\":{\"code\":\"\\n            if (tick.length &gt; 15) return tick.substring(0, 15-2) + '...';\\n            else return tick;\\n        \"},\"id\":\"7565\",\"type\":\"FuncTickFormatter\"},{\"attributes\":{\"data_source\":{\"id\":\"7559\"},\"glyph\":{\"id\":\"7561\"},\"hover_glyph\":null,\"muted_glyph\":null,\"nonselection_glyph\":{\"id\":\"7562\"},\"selection_glyph\":null,\"view\":{\"id\":\"7564\"}},\"id\":\"7563\",\"type\":\"GlyphRenderer\"},{\"attributes\":{\"factors\":[\"m\\u00e4nnlich\",\"weiblich\",\"divers\"]},\"id\":\"7357\",\"type\":\"FactorRange\"},{\"attributes\":{\"axis\":{\"id\":\"7425\"},\"grid_line_color\":null,\"ticker\":{\"id\":\"7442\"}},\"id\":\"7428\",\"type\":\"Grid\"},{\"attributes\":{},\"id\":\"7454\",\"type\":\"LinearScale\"},{\"attributes\":{},\"id\":\"7423\",\"type\":\"LinearScale\"},{\"attributes\":{\"bottom\":{\"value\":0.01},\"fill_color\":{\"value\":\"#1f77b4\"},\"line_color\":{\"value\":\"#1f77b4\"},\"top\":{\"field\":\"F11e\"},\"width\":{\"value\":0.9},\"x\":{\"field\":\"index\"}},\"id\":\"7764\",\"type\":\"VBar\"},{\"attributes\":{\"data\":{\"F12e\":[255,200,96,40,36],\"index\":[\"egal\",\"wichtig\",\"sehr wichtig\",\"gar nicht wichtig\",\"nicht wichtig\"],\"pct\":{\"__ndarray__\":\"AAAAAADsQ0AAAAAAAEA/QAAAAAAAAC5AAAAAAAAAGUAAAAAAAIAWQA==\",\"dtype\":\"float64\",\"shape\":[5]}},\"selected\":{\"id\":\"8159\"},\"selection_policy\":{\"id\":\"8158\"}},\"id\":\"7907\",\"type\":\"ColumnDataSource\"},{\"attributes\":{\"ticks\":[1,1.9,2.8,3.7,4.6]},\"id\":\"7412\",\"type\":\"FixedTicker\"},{\"attributes\":{\"below\":[{\"id\":\"7365\"}],\"center\":[{\"id\":\"7367\"},{\"id\":\"7371\"}],\"left\":[{\"id\":\"7368\"}],\"plot_height\":300,\"plot_width\":324,\"renderers\":[{\"id\":\"7379\"}],\"title\":{\"id\":\"7355\"},\"toolbar\":{\"id\":\"7373\"},\"toolbar_location\":null,\"x_range\":{\"id\":\"7357\"},\"x_scale\":{\"id\":\"7361\"},\"y_range\":{\"id\":\"7359\"},\"y_scale\":{\"id\":\"7363\"}},\"id\":\"7354\",\"subtype\":\"Figure\",\"type\":\"Plot\"},{\"attributes\":{\"data\":{\"F10a\":[234,172,126,56,50],\"index\":[\"egal\",\"wichtig\",\"sehr wichtig\",\"gar nicht wichtig\",\"nicht wichtig\"],\"pct\":{\"__ndarray__\":\"AAAAAABIQkAAAAAAAOA6QAAAAAAAsDNAAAAAAACAIUAAAAAAAEAfQA==\",\"dtype\":\"float64\",\"shape\":[5]}},\"selected\":{\"id\":\"8075\"},\"selection_policy\":{\"id\":\"8074\"}},\"id\":\"7559\",\"type\":\"ColumnDataSource\"},{\"attributes\":{\"data\":{\"F12c\":[218,194,141,41,32],\"index\":[\"egal\",\"wichtig\",\"sehr wichtig\",\"nicht wichtig\",\"gar nicht wichtig\"],\"pct\":{\"__ndarray__\":\"AAAAAAAIQUD//////08+QAAAAAAACDZA//////+fGUAAAAAAAAAUQA==\",\"dtype\":\"float64\",\"shape\":[5]}},\"selected\":{\"id\":\"8145\"},\"selection_policy\":{\"id\":\"8144\"}},\"id\":\"7849\",\"type\":\"ColumnDataSource\"},{\"attributes\":{\"source\":{\"id\":\"7527\"}},\"id\":\"7532\",\"type\":\"CDSView\"},{\"attributes\":{\"below\":[{\"id\":\"7868\"}],\"center\":[{\"id\":\"7870\"},{\"id\":\"7874\"}],\"left\":[{\"id\":\"7871\"}],\"plot_height\":300,\"plot_width\":324,\"renderers\":[{\"id\":\"7882\"}],\"title\":{\"id\":\"7858\"},\"toolbar\":{\"id\":\"7876\"},\"toolbar_location\":null,\"x_range\":{\"id\":\"7860\"},\"x_scale\":{\"id\":\"7864\"},\"y_range\":{\"id\":\"7862\"},\"y_scale\":{\"id\":\"7866\"}},\"id\":\"7857\",\"subtype\":\"Figure\",\"type\":\"Plot\"},{\"attributes\":{\"active_drag\":\"auto\",\"active_inspect\":\"auto\",\"active_multi\":null,\"active_scroll\":\"auto\",\"active_tap\":\"auto\",\"tools\":[{\"id\":\"7533\"}]},\"id\":\"7526\",\"type\":\"Toolbar\"},{\"attributes\":{\"bottom\":{\"value\":0},\"fill_alpha\":{\"value\":0.5},\"fill_color\":{\"value\":\"#6baed6\"},\"left\":{\"field\":\"left\"},\"line_alpha\":{\"value\":0.5},\"line_color\":{\"value\":\"#1f77b4\"},\"right\":{\"field\":\"right\"},\"top\":{\"field\":\"freq\"}},\"id\":\"7529\",\"type\":\"Quad\"},{\"attributes\":{\"below\":[{\"id\":\"7607\"}],\"center\":[{\"id\":\"7609\"},{\"id\":\"7613\"}],\"left\":[{\"id\":\"7610\"}],\"plot_height\":300,\"plot_width\":324,\"renderers\":[{\"id\":\"7621\"}],\"title\":{\"id\":\"7597\"},\"toolbar\":{\"id\":\"7615\"},\"toolbar_location\":null,\"x_range\":{\"id\":\"7599\"},\"x_scale\":{\"id\":\"7603\"},\"y_range\":{\"id\":\"7601\"},\"y_scale\":{\"id\":\"7605\"}},\"id\":\"7596\",\"subtype\":\"Figure\",\"type\":\"Plot\"},{\"attributes\":{\"source\":{\"id\":\"7559\"}},\"id\":\"7564\",\"type\":\"CDSView\"},{\"attributes\":{},\"id\":\"7479\",\"type\":\"DataRange1d\"},{\"attributes\":{\"bottom\":{\"value\":0.01},\"fill_color\":{\"value\":\"#1f77b4\"},\"line_color\":{\"value\":\"#1f77b4\"},\"top\":{\"field\":\"F12c\"},\"width\":{\"value\":0.9},\"x\":{\"field\":\"index\"}},\"id\":\"7851\",\"type\":\"VBar\"},{\"attributes\":{\"data_source\":{\"id\":\"7375\"},\"glyph\":{\"id\":\"7377\"},\"hover_glyph\":null,\"muted_glyph\":null,\"nonselection_glyph\":{\"id\":\"7378\"},\"selection_glyph\":null,\"view\":{\"id\":\"7380\"}},\"id\":\"7379\",\"type\":\"GlyphRenderer\"},{\"attributes\":{\"text\":\"F6 (0.5% missing)\",\"text_font_size\":{\"value\":\"10pt\"}},\"id\":\"7415\",\"type\":\"Title\"},{\"attributes\":{\"text\":\"F11e (2.2% missing)\",\"text_font_size\":{\"value\":\"10pt\"}},\"id\":\"7742\",\"type\":\"Title\"},{\"attributes\":{\"text\":\"Alter (0.2% missing)\",\"text_font_size\":{\"value\":\"10pt\"}},\"id\":\"7297\",\"type\":\"Title\"},{\"attributes\":{\"bottom\":{\"value\":0.01},\"fill_color\":{\"value\":\"#1f77b4\"},\"line_color\":{\"value\":\"#1f77b4\"},\"top\":{\"field\":\"Schule\"},\"width\":{\"value\":0.9},\"x\":{\"field\":\"index\"}},\"id\":\"8000\",\"type\":\"VBar\"},{\"attributes\":{\"axis\":{\"id\":\"7487\"},\"grid_line_color\":null,\"ticker\":{\"id\":\"7504\"}},\"id\":\"7490\",\"type\":\"Grid\"},{\"attributes\":{},\"id\":\"7748\",\"type\":\"CategoricalScale\"},{\"attributes\":{},\"id\":\"7448\",\"type\":\"DataRange1d\"},{\"attributes\":{},\"id\":\"7753\",\"type\":\"CategoricalTicker\"},{\"attributes\":{\"below\":[{\"id\":\"7549\"}],\"center\":[{\"id\":\"7551\"},{\"id\":\"7555\"}],\"left\":[{\"id\":\"7552\"}],\"plot_height\":300,\"plot_width\":324,\"renderers\":[{\"id\":\"7563\"}],\"title\":{\"id\":\"7539\"},\"toolbar\":{\"id\":\"7557\"},\"toolbar_location\":null,\"x_range\":{\"id\":\"7541\"},\"x_scale\":{\"id\":\"7545\"},\"y_range\":{\"id\":\"7543\"},\"y_scale\":{\"id\":\"7547\"}},\"id\":\"7538\",\"subtype\":\"Figure\",\"type\":\"Plot\"},{\"attributes\":{},\"id\":\"7659\",\"type\":\"DataRange1d\"},{\"attributes\":{\"bottom\":{\"value\":0},\"fill_alpha\":{\"value\":0.1},\"fill_color\":{\"value\":\"#6baed6\"},\"left\":{\"field\":\"left\"},\"line_alpha\":{\"value\":0.1},\"line_color\":{\"value\":\"#1f77b4\"},\"right\":{\"field\":\"right\"},\"top\":{\"field\":\"freq\"}},\"id\":\"7530\",\"type\":\"Quad\"},{\"attributes\":{\"data_source\":{\"id\":\"7675\"},\"glyph\":{\"id\":\"7677\"},\"hover_glyph\":null,\"muted_glyph\":null,\"nonselection_glyph\":{\"id\":\"7678\"},\"selection_glyph\":null,\"view\":{\"id\":\"7680\"}},\"id\":\"7679\",\"type\":\"GlyphRenderer\"},{\"attributes\":{\"ticks\":[1,1.9,2.8,3.7,4.6]},\"id\":\"7442\",\"type\":\"FixedTicker\"},{\"attributes\":{\"data_source\":{\"id\":\"7820\"},\"glyph\":{\"id\":\"7822\"},\"hover_glyph\":null,\"muted_glyph\":null,\"nonselection_glyph\":{\"id\":\"7823\"},\"selection_glyph\":null,\"view\":{\"id\":\"7825\"}},\"id\":\"7824\",\"type\":\"GlyphRenderer\"},{\"attributes\":{},\"id\":\"8050\",\"type\":\"BasicTickFormatter\"},{\"attributes\":{\"data\":{\"F10c\":[245,245,117,13,3],\"index\":[\"sehr wichtig\",\"wichtig\",\"egal\",\"nicht wichtig\",\"gar nicht wichtig\"],\"pct\":{\"__ndarray__\":\"AAAAAAAkQ0AAAAAAACRDQAAAAAAASDJAAAAAAABAAEAAAAAAAADePw==\",\"dtype\":\"float64\",\"shape\":[5]}},\"selected\":{\"id\":\"8089\"},\"selection_policy\":{\"id\":\"8088\"}},\"id\":\"7617\",\"type\":\"ColumnDataSource\"},{\"attributes\":{\"callback\":null,\"mode\":\"vline\",\"tooltips\":[[\"Bin\",\"@intvl\"],[\"Frequency\",\"@freq\"],[\"Percent\",\"@pct{0.2f}%\"]]},\"id\":\"7409\",\"type\":\"HoverTool\"},{\"attributes\":{\"bottom\":{\"value\":0.01},\"fill_alpha\":{\"value\":0.1},\"fill_color\":{\"value\":\"#1f77b4\"},\"line_alpha\":{\"value\":0.1},\"line_color\":{\"value\":\"#1f77b4\"},\"top\":{\"field\":\"F10a\"},\"width\":{\"value\":0.9},\"x\":{\"field\":\"index\"}},\"id\":\"7562\",\"type\":\"VBar\"},{\"attributes\":{},\"id\":\"7430\",\"type\":\"BasicTicker\"},{\"attributes\":{\"text\":\"Schule\",\"text_font_size\":{\"value\":\"10pt\"}},\"id\":\"7978\",\"type\":\"Title\"},{\"attributes\":{\"ticks\":[1,1.9,2.8,3.7,4.6]},\"id\":\"7443\",\"type\":\"FixedTicker\"},{\"attributes\":{\"bottom\":{\"value\":0.01},\"fill_alpha\":{\"value\":0.1},\"fill_color\":{\"value\":\"#1f77b4\"},\"line_alpha\":{\"value\":0.1},\"line_color\":{\"value\":\"#1f77b4\"},\"top\":{\"field\":\"F11b\"},\"width\":{\"value\":0.9},\"x\":{\"field\":\"index\"}},\"id\":\"7678\",\"type\":\"VBar\"},{\"attributes\":{\"bottom\":{\"value\":0.01},\"fill_color\":{\"value\":\"#1f77b4\"},\"line_color\":{\"value\":\"#1f77b4\"},\"top\":{\"field\":\"F12d\"},\"width\":{\"value\":0.9},\"x\":{\"field\":\"index\"}},\"id\":\"7880\",\"type\":\"VBar\"},{\"attributes\":{\"bottom\":{\"value\":0.01},\"fill_alpha\":{\"value\":0.1},\"fill_color\":{\"value\":\"#1f77b4\"},\"line_alpha\":{\"value\":0.1},\"line_color\":{\"value\":\"#1f77b4\"},\"top\":{\"field\":\"F12b\"},\"width\":{\"value\":0.9},\"x\":{\"field\":\"index\"}},\"id\":\"7823\",\"type\":\"VBar\"},{\"attributes\":{\"text\":\"F10b (2.3% missing)\",\"text_font_size\":{\"value\":\"10pt\"}},\"id\":\"7568\",\"type\":\"Title\"},{\"attributes\":{},\"id\":\"7361\",\"type\":\"CategoricalScale\"},{\"attributes\":{\"data\":{\"Alter\":[255,148,124,112],\"index\":[\"16-17\",\"18-20\",\"14-15\",\"&gt;20\"],\"pct\":{\"__ndarray__\":\"AAAAAADsQ0AAAAAAACA3QAAAAAAAYDNAAAAAAACAMUA=\",\"dtype\":\"float64\",\"shape\":[4]}},\"selected\":{\"id\":\"8019\"},\"selection_policy\":{\"id\":\"8018\"}},\"id\":\"7317\",\"type\":\"ColumnDataSource\"},{\"attributes\":{\"axis\":{\"id\":\"7429\"},\"dimension\":1,\"grid_line_color\":null,\"ticker\":null},\"id\":\"7432\",\"type\":\"Grid\"},{\"attributes\":{},\"id\":\"8051\",\"type\":\"BasicTickFormatter\"},{\"attributes\":{},\"id\":\"7452\",\"type\":\"LinearScale\"},{\"attributes\":{\"axis\":{\"id\":\"7339\"},\"dimension\":1,\"grid_line_color\":null,\"ticker\":null},\"id\":\"7342\",\"type\":\"Grid\"},{\"attributes\":{\"active_drag\":\"auto\",\"active_inspect\":\"auto\",\"active_multi\":null,\"active_scroll\":\"auto\",\"active_tap\":\"auto\",\"tools\":[{\"id\":\"7941\"}]},\"id\":\"7934\",\"type\":\"Toolbar\"},{\"attributes\":{\"data_source\":{\"id\":\"7403\"},\"glyph\":{\"id\":\"7405\"},\"hover_glyph\":null,\"muted_glyph\":null,\"nonselection_glyph\":{\"id\":\"7406\"},\"selection_glyph\":null,\"view\":{\"id\":\"7408\"}},\"id\":\"7407\",\"type\":\"GlyphRenderer\"},{\"attributes\":{},\"id\":\"8103\",\"type\":\"Selection\"},{\"attributes\":{\"axis_label\":\"Count\",\"formatter\":{\"id\":\"8023\"},\"major_label_text_font_size\":\"0pt\",\"major_tick_line_color\":null,\"minor_tick_line_color\":\"white\",\"ticker\":{\"id\":\"7340\"}},\"id\":\"7339\",\"type\":\"LinearAxis\"},{\"attributes\":{\"formatter\":{\"id\":\"8169\"},\"major_label_overrides\":{\"1\":\"1\",\"1.9\":\"1.9\",\"2.8\":\"2.8\",\"3.7\":\"3.7\",\"4.6\":\"4.6\"},\"major_label_standoff\":7,\"major_label_text_font_size\":\"10pt\",\"major_tick_line_color\":null,\"minor_tick_line_color\":\"white\",\"ticker\":{\"id\":\"7975\"}},\"id\":\"7957\",\"type\":\"LinearAxis\"},{\"attributes\":{\"callback\":null,\"tooltips\":[[\"Schulstufe\",\"@index\"],[\"Count\",\"@Schulstufe\"],[\"Percent\",\"@pct{0.2f}%\"]]},\"id\":\"7343\",\"type\":\"HoverTool\"},{\"attributes\":{\"axis\":{\"id\":\"7336\"},\"grid_line_color\":null,\"ticker\":null},\"id\":\"7338\",\"type\":\"Grid\"},{\"attributes\":{},\"id\":\"7898\",\"type\":\"CategoricalTicker\"},{\"attributes\":{},\"id\":\"7893\",\"type\":\"CategoricalScale\"},{\"attributes\":{\"callback\":null,\"tooltips\":[[\"F12e\",\"@index\"],[\"Count\",\"@F12e\"],[\"Percent\",\"@pct{0.2f}%\"]]},\"id\":\"7904\",\"type\":\"HoverTool\"},{\"attributes\":{},\"id\":\"7951\",\"type\":\"DataRange1d\"},{\"attributes\":{},\"id\":\"8116\",\"type\":\"UnionRenderers\"},{\"attributes\":{\"axis_label\":\"Count\",\"formatter\":{\"id\":\"8016\"},\"major_label_text_font_size\":\"0pt\",\"major_tick_line_color\":null,\"minor_tick_line_color\":\"white\",\"ticker\":{\"id\":\"7311\"}},\"id\":\"7310\",\"type\":\"LinearAxis\"},{\"attributes\":{},\"id\":\"7953\",\"type\":\"LinearScale\"},{\"attributes\":{},\"id\":\"8117\",\"type\":\"Selection\"},{\"attributes\":{\"axis_label\":\"Count\",\"formatter\":{\"id\":\"8156\"},\"major_label_text_font_size\":\"0pt\",\"major_tick_line_color\":null,\"minor_tick_line_color\":\"white\",\"ticker\":{\"id\":\"7901\"}},\"id\":\"7900\",\"type\":\"LinearAxis\"},{\"attributes\":{},\"id\":\"8072\",\"type\":\"BasicTickFormatter\"},{\"attributes\":{\"bottom\":{\"value\":0},\"fill_alpha\":{\"value\":0.5},\"fill_color\":{\"value\":\"#6baed6\"},\"left\":{\"field\":\"left\"},\"line_alpha\":{\"value\":0.5},\"line_color\":{\"value\":\"#1f77b4\"},\"right\":{\"field\":\"right\"},\"top\":{\"field\":\"freq\"}},\"id\":\"7937\",\"type\":\"Quad\"},{\"attributes\":{},\"id\":\"8019\",\"type\":\"Selection\"},{\"attributes\":{\"data_source\":{\"id\":\"7935\"},\"glyph\":{\"id\":\"7937\"},\"hover_glyph\":null,\"muted_glyph\":null,\"nonselection_glyph\":{\"id\":\"7938\"},\"selection_glyph\":null,\"view\":{\"id\":\"7940\"}},\"id\":\"7939\",\"type\":\"GlyphRenderer\"},{\"attributes\":{},\"id\":\"7891\",\"type\":\"DataRange1d\"},{\"attributes\":{\"axis\":{\"id\":\"7897\"},\"grid_line_color\":null,\"ticker\":null},\"id\":\"7899\",\"type\":\"Grid\"},{\"attributes\":{},\"id\":\"7901\",\"type\":\"BasicTicker\"},{\"attributes\":{\"axis_label\":\"Frequency\",\"formatter\":{\"id\":\"8170\"},\"major_label_text_font_size\":\"0pt\",\"major_tick_line_color\":null,\"minor_tick_line_color\":\"white\",\"ticker\":{\"id\":\"7962\"}},\"id\":\"7961\",\"type\":\"LinearAxis\"},{\"attributes\":{},\"id\":\"8018\",\"type\":\"UnionRenderers\"},{\"attributes\":{\"active_drag\":\"auto\",\"active_inspect\":\"auto\",\"active_multi\":null,\"active_scroll\":\"auto\",\"active_tap\":\"auto\",\"tools\":[{\"id\":\"7875\"}]},\"id\":\"7876\",\"type\":\"Toolbar\"},{\"attributes\":{},\"id\":\"8149\",\"type\":\"BasicTickFormatter\"},{\"attributes\":{},\"id\":\"7955\",\"type\":\"LinearScale\"},{\"attributes\":{},\"id\":\"8074\",\"type\":\"UnionRenderers\"},{\"attributes\":{\"axis_label\":\"Count\",\"formatter\":{\"id\":\"8009\"},\"major_label_text_font_size\":\"0pt\",\"major_tick_line_color\":null,\"minor_tick_line_color\":\"white\",\"ticker\":{\"id\":\"7282\"}},\"id\":\"7281\",\"type\":\"LinearAxis\"},{\"attributes\":{},\"id\":\"7311\",\"type\":\"BasicTicker\"},{\"attributes\":{\"ticks\":[1,1.9,2.8,3.7,4.6]},\"id\":\"7943\",\"type\":\"FixedTicker\"},{\"attributes\":{\"callback\":null,\"mode\":\"vline\",\"tooltips\":[[\"Bin\",\"@intvl\"],[\"Frequency\",\"@freq\"],[\"Percent\",\"@pct{0.2f}%\"]]},\"id\":\"7941\",\"type\":\"HoverTool\"},{\"attributes\":{},\"id\":\"8075\",\"type\":\"Selection\"},{\"attributes\":{},\"id\":\"7282\",\"type\":\"BasicTicker\"},{\"attributes\":{\"bottom\":{\"value\":0},\"fill_alpha\":{\"value\":0.1},\"fill_color\":{\"value\":\"#6baed6\"},\"left\":{\"field\":\"left\"},\"line_alpha\":{\"value\":0.1},\"line_color\":{\"value\":\"#1f77b4\"},\"right\":{\"field\":\"right\"},\"top\":{\"field\":\"freq\"}},\"id\":\"7938\",\"type\":\"Quad\"},{\"attributes\":{\"text\":\"F17 (3.0% missing)\",\"text_font_size\":{\"value\":\"10pt\"}},\"id\":\"7947\",\"type\":\"Title\"},{\"attributes\":{},\"id\":\"7984\",\"type\":\"CategoricalScale\"},{\"attributes\":{\"formatter\":{\"id\":\"7381\"},\"major_label_orientation\":1.0471975511965976,\"major_label_text_font_size\":\"9pt\",\"minor_tick_line_color\":\"white\",\"ticker\":{\"id\":\"7366\"}},\"id\":\"7365\",\"type\":\"CategoricalAxis\"},{\"attributes\":{},\"id\":\"8151\",\"type\":\"UnionRenderers\"},{\"attributes\":{},\"id\":\"8152\",\"type\":\"Selection\"},{\"attributes\":{},\"id\":\"7366\",\"type\":\"CategoricalTicker\"},{\"attributes\":{\"bottom\":{\"value\":0.01},\"fill_color\":{\"value\":\"#1f77b4\"},\"line_color\":{\"value\":\"#1f77b4\"},\"top\":{\"field\":\"F10b\"},\"width\":{\"value\":0.9},\"x\":{\"field\":\"index\"}},\"id\":\"7590\",\"type\":\"VBar\"},{\"attributes\":{\"bottom\":{\"value\":0},\"fill_alpha\":{\"value\":0.1},\"fill_color\":{\"value\":\"#6baed6\"},\"left\":{\"field\":\"left\"},\"line_alpha\":{\"value\":0.1},\"line_color\":{\"value\":\"#1f77b4\"},\"right\":{\"field\":\"right\"},\"top\":{\"field\":\"freq\"}},\"id\":\"7406\",\"type\":\"Quad\"},{\"attributes\":{\"formatter\":{\"id\":\"7913\"},\"major_label_orientation\":1.0471975511965976,\"major_label_text_font_size\":\"9pt\",\"minor_tick_line_color\":\"white\",\"ticker\":{\"id\":\"7898\"}},\"id\":\"7897\",\"type\":\"CategoricalAxis\"},{\"attributes\":{},\"id\":\"8107\",\"type\":\"BasicTickFormatter\"},{\"attributes\":{},\"id\":\"7895\",\"type\":\"LinearScale\"},{\"attributes\":{\"active_drag\":\"auto\",\"active_inspect\":\"auto\",\"active_multi\":null,\"active_scroll\":\"auto\",\"active_tap\":\"auto\",\"tools\":[{\"id\":\"7343\"}]},\"id\":\"7344\",\"type\":\"Toolbar\"},{\"attributes\":{},\"id\":\"7962\",\"type\":\"BasicTicker\"},{\"attributes\":{\"axis\":{\"id\":\"7961\"},\"dimension\":1,\"grid_line_color\":null,\"ticker\":null},\"id\":\"7964\",\"type\":\"Grid\"},{\"attributes\":{\"axis\":{\"id\":\"7365\"},\"grid_line_color\":null,\"ticker\":null},\"id\":\"7367\",\"type\":\"Grid\"},{\"attributes\":{},\"id\":\"7949\",\"type\":\"DataRange1d\"},{\"attributes\":{\"axis\":{\"id\":\"7957\"},\"grid_line_color\":null,\"ticker\":{\"id\":\"7974\"}},\"id\":\"7960\",\"type\":\"Grid\"},{\"attributes\":{\"code\":\"\\n            if (tick.length &gt; 15) return tick.substring(0, 15-2) + '...';\\n            else return tick;\\n        \"},\"id\":\"7884\",\"type\":\"FuncTickFormatter\"},{\"attributes\":{},\"id\":\"8121\",\"type\":\"BasicTickFormatter\"},{\"attributes\":{},\"id\":\"8109\",\"type\":\"UnionRenderers\"},{\"attributes\":{\"factors\":[\"egal\",\"wichtig\",\"sehr wichtig\",\"gar nicht wichtig\",\"nicht wichtig\"]},\"id\":\"7889\",\"type\":\"FactorRange\"},{\"attributes\":{},\"id\":\"7308\",\"type\":\"CategoricalTicker\"},{\"attributes\":{\"bottom\":{\"value\":0},\"fill_alpha\":{\"value\":0.5},\"fill_color\":{\"value\":\"#6baed6\"},\"left\":{\"field\":\"left\"},\"line_alpha\":{\"value\":0.5},\"line_color\":{\"value\":\"#1f77b4\"},\"right\":{\"field\":\"right\"},\"top\":{\"field\":\"freq\"}},\"id\":\"7968\",\"type\":\"Quad\"},{\"attributes\":{},\"id\":\"8110\",\"type\":\"Selection\"},{\"attributes\":{\"text\":\"F12e (2.0% missing)\",\"text_font_size\":{\"value\":\"10pt\"}},\"id\":\"7887\",\"type\":\"Title\"},{\"attributes\":{\"bottom\":{\"value\":0.01},\"fill_color\":{\"value\":\"#1f77b4\"},\"line_color\":{\"value\":\"#1f77b4\"},\"top\":{\"field\":\"F12b\"},\"width\":{\"value\":0.9},\"x\":{\"field\":\"index\"}},\"id\":\"7822\",\"type\":\"VBar\"},{\"attributes\":{},\"id\":\"8123\",\"type\":\"UnionRenderers\"},{\"attributes\":{},\"id\":\"7982\",\"type\":\"DataRange1d\"},{\"attributes\":{},\"id\":\"8124\",\"type\":\"Selection\"},{\"attributes\":{\"bottom\":{\"value\":0.01},\"fill_alpha\":{\"value\":0.1},\"fill_color\":{\"value\":\"#1f77b4\"},\"line_alpha\":{\"value\":0.1},\"line_color\":{\"value\":\"#1f77b4\"},\"top\":{\"field\":\"F12d\"},\"width\":{\"value\":0.9},\"x\":{\"field\":\"index\"}},\"id\":\"7881\",\"type\":\"VBar\"},{\"attributes\":{\"source\":{\"id\":\"7878\"}},\"id\":\"7883\",\"type\":\"CDSView\"},{\"attributes\":{\"data_source\":{\"id\":\"7878\"},\"glyph\":{\"id\":\"7880\"},\"hover_glyph\":null,\"muted_glyph\":null,\"nonselection_glyph\":{\"id\":\"7881\"},\"selection_glyph\":null,\"view\":{\"id\":\"7883\"}},\"id\":\"7882\",\"type\":\"GlyphRenderer\"},{\"attributes\":{},\"id\":\"8079\",\"type\":\"BasicTickFormatter\"},{\"attributes\":{\"source\":{\"id\":\"7288\"}},\"id\":\"7293\",\"type\":\"CDSView\"},{\"attributes\":{\"source\":{\"id\":\"7935\"}},\"id\":\"7940\",\"type\":\"CDSView\"},{\"attributes\":{\"axis\":{\"id\":\"7307\"},\"grid_line_color\":null,\"ticker\":null},\"id\":\"7309\",\"type\":\"Grid\"},{\"attributes\":{\"axis\":{\"id\":\"7581\"},\"dimension\":1,\"grid_line_color\":null,\"ticker\":null},\"id\":\"7584\",\"type\":\"Grid\"},{\"attributes\":{\"callback\":null,\"tooltips\":[[\"F10b\",\"@index\"],[\"Count\",\"@F10b\"],[\"Percent\",\"@pct{0.2f}%\"]]},\"id\":\"7585\",\"type\":\"HoverTool\"},{\"attributes\":{\"ticks\":[1,1.9,2.8,3.7,4.6]},\"id\":\"7944\",\"type\":\"FixedTicker\"},{\"attributes\":{\"axis\":{\"id\":\"7281\"},\"dimension\":1,\"grid_line_color\":null,\"ticker\":null},\"id\":\"7284\",\"type\":\"Grid\"},{\"attributes\":{\"callback\":null,\"tooltips\":[[\"F12d\",\"@index\"],[\"Count\",\"@F12d\"],[\"Percent\",\"@pct{0.2f}%\"]]},\"id\":\"7875\",\"type\":\"HoverTool\"},{\"attributes\":{\"axis\":{\"id\":\"7900\"},\"dimension\":1,\"grid_line_color\":null,\"ticker\":null},\"id\":\"7903\",\"type\":\"Grid\"},{\"attributes\":{},\"id\":\"7582\",\"type\":\"BasicTicker\"},{\"attributes\":{},\"id\":\"8156\",\"type\":\"BasicTickFormatter\"},{\"attributes\":{\"axis\":{\"id\":\"7310\"},\"dimension\":1,\"grid_line_color\":null,\"ticker\":null},\"id\":\"7313\",\"type\":\"Grid\"},{\"attributes\":{},\"id\":\"8016\",\"type\":\"BasicTickFormatter\"},{\"attributes\":{},\"id\":\"8114\",\"type\":\"BasicTickFormatter\"},{\"attributes\":{},\"id\":\"8081\",\"type\":\"UnionRenderers\"},{\"attributes\":{\"active_drag\":\"auto\",\"active_inspect\":\"auto\",\"active_multi\":null,\"active_scroll\":\"auto\",\"active_tap\":\"auto\",\"tools\":[{\"id\":\"7972\"}]},\"id\":\"7965\",\"type\":\"Toolbar\"},{\"attributes\":{},\"id\":\"7340\",\"type\":\"BasicTicker\"},{\"attributes\":{\"factors\":[\"HTL\",\"Fachschule\",\"Tageskolleg\",\"Abendkolleg\"]},\"id\":\"7270\",\"type\":\"FactorRange\"},{\"attributes\":{\"active_drag\":\"auto\",\"active_inspect\":\"auto\",\"active_multi\":null,\"active_scroll\":\"auto\",\"active_tap\":\"auto\",\"tools\":[{\"id\":\"7502\"}]},\"id\":\"7495\",\"type\":\"Toolbar\"},{\"attributes\":{\"bottom\":{\"value\":0.01},\"fill_alpha\":{\"value\":0.1},\"fill_color\":{\"value\":\"#1f77b4\"},\"line_alpha\":{\"value\":0.1},\"line_color\":{\"value\":\"#1f77b4\"},\"top\":{\"field\":\"F10b\"},\"width\":{\"value\":0.9},\"x\":{\"field\":\"index\"}},\"id\":\"7591\",\"type\":\"VBar\"},{\"attributes\":{\"active_drag\":\"auto\",\"active_inspect\":\"auto\",\"active_multi\":null,\"active_scroll\":\"auto\",\"active_tap\":\"auto\",\"tools\":[{\"id\":\"7556\"}]},\"id\":\"7557\",\"type\":\"Toolbar\"},{\"attributes\":{},\"id\":\"7605\",\"type\":\"LinearScale\"},{\"attributes\":{\"text\":\"F10c (2.7% missing)\",\"text_font_size\":{\"value\":\"10pt\"}},\"id\":\"7597\",\"type\":\"Title\"},{\"attributes\":{\"callback\":null,\"tooltips\":[[\"F10a\",\"@index\"],[\"Count\",\"@F10a\"],[\"Percent\",\"@pct{0.2f}%\"]]},\"id\":\"7556\",\"type\":\"HoverTool\"},{\"attributes\":{},\"id\":\"7603\",\"type\":\"CategoricalScale\"},{\"attributes\":{\"active_drag\":\"auto\",\"active_inspect\":\"auto\",\"active_multi\":null,\"active_scroll\":\"auto\",\"active_tap\":\"auto\",\"tools\":[{\"id\":\"7614\"}]},\"id\":\"7615\",\"type\":\"Toolbar\"},{\"attributes\":{\"axis_label\":\"Count\",\"formatter\":{\"id\":\"8086\"},\"major_label_text_font_size\":\"0pt\",\"major_tick_line_color\":null,\"minor_tick_line_color\":\"white\",\"ticker\":{\"id\":\"7611\"}},\"id\":\"7610\",\"type\":\"LinearAxis\"},{\"attributes\":{\"axis\":{\"id\":\"7610\"},\"dimension\":1,\"grid_line_color\":null,\"ticker\":null},\"id\":\"7613\",\"type\":\"Grid\"},{\"attributes\":{\"axis\":{\"id\":\"7668\"},\"dimension\":1,\"grid_line_color\":null,\"ticker\":null},\"id\":\"7671\",\"type\":\"Grid\"},{\"attributes\":{\"data\":{\"Schule\":[176,161,99,81,71,52],\"index\":[\"bautechnikum\",\"HTL Spengergasse\",\"TGM\",\"hblva17\",\"Andere\",\"HTL Rennweg\"],\"pct\":{\"__ndarray__\":\"AQAAAACAO0ABAAAAACg5QAAAAAAA8C5AAAAAAABQKUAAAAAAADAmQAAAAAAAQCBA\",\"dtype\":\"float64\",\"shape\":[6]}},\"selected\":{\"id\":\"8180\"},\"selection_policy\":{\"id\":\"8179\"}},\"id\":\"7998\",\"type\":\"ColumnDataSource\"},{\"attributes\":{\"source\":{\"id\":\"7588\"}},\"id\":\"7593\",\"type\":\"CDSView\"},{\"attributes\":{},\"id\":\"7514\",\"type\":\"LinearScale\"},{\"attributes\":{\"source\":{\"id\":\"7496\"}},\"id\":\"7501\",\"type\":\"CDSView\"},{\"attributes\":{\"bottom\":{\"value\":0},\"fill_alpha\":{\"value\":0.5},\"fill_color\":{\"value\":\"#6baed6\"},\"left\":{\"field\":\"left\"},\"line_alpha\":{\"value\":0.5},\"line_color\":{\"value\":\"#1f77b4\"},\"right\":{\"field\":\"right\"},\"top\":{\"field\":\"freq\"}},\"id\":\"7498\",\"type\":\"Quad\"},{\"attributes\":{},\"id\":\"7608\",\"type\":\"CategoricalTicker\"},{\"attributes\":{},\"id\":\"7601\",\"type\":\"DataRange1d\"},{\"attributes\":{\"callback\":null,\"tooltips\":[[\"Schulform\",\"@index\"],[\"Count\",\"@Schulform\"],[\"Percent\",\"@pct{0.2f}%\"]]},\"id\":\"7285\",\"type\":\"HoverTool\"},{\"attributes\":{\"callback\":null,\"mode\":\"vline\",\"tooltips\":[[\"Bin\",\"@intvl\"],[\"Frequency\",\"@freq\"],[\"Percent\",\"@pct{0.2f}%\"]]},\"id\":\"7502\",\"type\":\"HoverTool\"},{\"attributes\":{\"text\":\"F9 (1.1% missing)\",\"text_font_size\":{\"value\":\"10pt\"}},\"id\":\"7508\",\"type\":\"Title\"},{\"attributes\":{\"code\":\"\\n            if (tick.length &gt; 15) return tick.substring(0, 15-2) + '...';\\n            else return tick;\\n        \"},\"id\":\"7594\",\"type\":\"FuncTickFormatter\"},{\"attributes\":{\"data_source\":{\"id\":\"7288\"},\"glyph\":{\"id\":\"7290\"},\"hover_glyph\":null,\"muted_glyph\":null,\"nonselection_glyph\":{\"id\":\"7291\"},\"selection_glyph\":null,\"view\":{\"id\":\"7293\"}},\"id\":\"7292\",\"type\":\"GlyphRenderer\"},{\"attributes\":{\"callback\":null,\"tooltips\":[[\"F10c\",\"@index\"],[\"Count\",\"@F10c\"],[\"Percent\",\"@pct{0.2f}%\"]]},\"id\":\"7614\",\"type\":\"HoverTool\"},{\"attributes\":{\"axis\":{\"id\":\"7552\"},\"dimension\":1,\"grid_line_color\":null,\"ticker\":null},\"id\":\"7555\",\"type\":\"Grid\"},{\"attributes\":{\"axis\":{\"id\":\"7607\"},\"grid_line_color\":null,\"ticker\":null},\"id\":\"7609\",\"type\":\"Grid\"},{\"attributes\":{\"factors\":[\"sehr wichtig\",\"wichtig\",\"egal\",\"nicht wichtig\",\"gar nicht wichtig\"]},\"id\":\"7599\",\"type\":\"FactorRange\"},{\"attributes\":{\"ticks\":[1,1.9,2.8,3.7,4.6]},\"id\":\"7535\",\"type\":\"FixedTicker\"},{\"attributes\":{\"ticks\":[1,1.9,2.8,3.7,4.6]},\"id\":\"7504\",\"type\":\"FixedTicker\"},{\"attributes\":{\"data_source\":{\"id\":\"7496\"},\"glyph\":{\"id\":\"7498\"},\"hover_glyph\":null,\"muted_glyph\":null,\"nonselection_glyph\":{\"id\":\"7499\"},\"selection_glyph\":null,\"view\":{\"id\":\"7501\"}},\"id\":\"7500\",\"type\":\"GlyphRenderer\"},{\"attributes\":{\"axis\":{\"id\":\"7549\"},\"grid_line_color\":null,\"ticker\":null},\"id\":\"7551\",\"type\":\"Grid\"},{\"attributes\":{\"axis\":{\"id\":\"7752\"},\"grid_line_color\":null,\"ticker\":null},\"id\":\"7754\",\"type\":\"Grid\"},{\"attributes\":{\"bottom\":{\"value\":0.01},\"fill_alpha\":{\"value\":0.1},\"fill_color\":{\"value\":\"#1f77b4\"},\"line_alpha\":{\"value\":0.1},\"line_color\":{\"value\":\"#1f77b4\"},\"top\":{\"field\":\"Schulform\"},\"width\":{\"value\":0.9},\"x\":{\"field\":\"index\"}},\"id\":\"7291\",\"type\":\"VBar\"},{\"attributes\":{},\"id\":\"7553\",\"type\":\"BasicTicker\"},{\"attributes\":{\"bottom\":{\"value\":0},\"fill_alpha\":{\"value\":0.1},\"fill_color\":{\"value\":\"#6baed6\"},\"left\":{\"field\":\"left\"},\"line_alpha\":{\"value\":0.1},\"line_color\":{\"value\":\"#1f77b4\"},\"right\":{\"field\":\"right\"},\"top\":{\"field\":\"freq\"}},\"id\":\"7499\",\"type\":\"Quad\"},{\"attributes\":{},\"id\":\"7512\",\"type\":\"DataRange1d\"},{\"attributes\":{},\"id\":\"7669\",\"type\":\"BasicTicker\"},{\"attributes\":{\"factors\":[\"egal\",\"wichtig\",\"sehr wichtig\",\"gar nicht wichtig\",\"nicht wichtig\"]},\"id\":\"7541\",\"type\":\"FactorRange\"},{\"attributes\":{\"axis_label\":\"Count\",\"formatter\":{\"id\":\"8121\"},\"major_label_text_font_size\":\"0pt\",\"major_tick_line_color\":null,\"minor_tick_line_color\":\"white\",\"ticker\":{\"id\":\"7756\"}},\"id\":\"7755\",\"type\":\"LinearAxis\"},{\"attributes\":{\"axis_label\":\"Count\",\"formatter\":{\"id\":\"8072\"},\"major_label_text_font_size\":\"0pt\",\"major_tick_line_color\":null,\"minor_tick_line_color\":\"white\",\"ticker\":{\"id\":\"7553\"}},\"id\":\"7552\",\"type\":\"LinearAxis\"},{\"attributes\":{\"formatter\":{\"id\":\"7623\"},\"major_label_orientation\":1.0471975511965976,\"major_label_text_font_size\":\"9pt\",\"minor_tick_line_color\":\"white\",\"ticker\":{\"id\":\"7608\"}},\"id\":\"7607\",\"type\":\"CategoricalAxis\"},{\"attributes\":{\"axis\":{\"id\":\"7665\"},\"grid_line_color\":null,\"ticker\":null},\"id\":\"7667\",\"type\":\"Grid\"},{\"attributes\":{},\"id\":\"7756\",\"type\":\"BasicTicker\"},{\"attributes\":{\"bottom\":{\"value\":0.01},\"fill_color\":{\"value\":\"#1f77b4\"},\"line_color\":{\"value\":\"#1f77b4\"},\"top\":{\"field\":\"F11b\"},\"width\":{\"value\":0.9},\"x\":{\"field\":\"index\"}},\"id\":\"7677\",\"type\":\"VBar\"},{\"attributes\":{\"args\":{\"button\":{\"id\":\"8183\"},\"div\":{\"id\":\"8006\"}},\"code\":\"\\n        let buttonLabel = button.label;\\n        let isDivVisible = div.visible;\\n        div.visible = isDivVisible ? false : true;\\n        button.label = (buttonLabel === 'Show Stats Info') ? 'Hide Stats Info' : 'Show Stats Info';\\n    \"},\"id\":\"8184\",\"type\":\"CustomJS\"},{\"attributes\":{\"axis\":{\"id\":\"7518\"},\"grid_line_color\":null,\"ticker\":{\"id\":\"7535\"}},\"id\":\"7521\",\"type\":\"Grid\"},{\"attributes\":{\"formatter\":{\"id\":\"7565\"},\"major_label_orientation\":1.0471975511965976,\"major_label_text_font_size\":\"9pt\",\"minor_tick_line_color\":\"white\",\"ticker\":{\"id\":\"7550\"}},\"id\":\"7549\",\"type\":\"CategoricalAxis\"},{\"attributes\":{\"bottom\":{\"value\":0},\"fill_alpha\":{\"value\":0.5},\"fill_color\":{\"value\":\"#6baed6\"},\"left\":{\"field\":\"left\"},\"line_alpha\":{\"value\":0.5},\"line_color\":{\"value\":\"#1f77b4\"},\"right\":{\"field\":\"right\"},\"top\":{\"field\":\"freq\"}},\"id\":\"7467\",\"type\":\"Quad\"},{\"attributes\":{\"bottom\":{\"value\":0.01},\"fill_color\":{\"value\":\"#1f77b4\"},\"line_color\":{\"value\":\"#1f77b4\"},\"top\":{\"field\":\"F10c\"},\"width\":{\"value\":0.9},\"x\":{\"field\":\"index\"}},\"id\":\"7619\",\"type\":\"VBar\"},{\"attributes\":{},\"id\":\"7510\",\"type\":\"DataRange1d\"},{\"attributes\":{\"height\":280,\"style\":{\"width\":\"100%\"},\"text\":\"\\n    &lt;div style=\\\"display: flex;\\\"&gt;\\n        \\n    &lt;div style=\\\"flex: 50%; margin-right: 6px;\\\"&gt;\\n        &lt;table style=\\\"width: 100%; table-layout: auto;\\\"&gt;\\n            &lt;tbody&gt;&lt;h3 style=\\\"text-align:center;\\\"&gt;Dataset Statistics&lt;/h3&gt;\\n    &lt;tr style=\\\"border-bottom: 1px solid;\\\"&gt;\\n        &lt;th style=\\\"text-align: left\\\"&gt;Number of Variables&lt;/th&gt;\\n        &lt;td style=\\\"text-align: left\\\"&gt;25&lt;/td&gt;\\n    &lt;/tr&gt;\\n    \\n    &lt;tr style=\\\"border-bottom: 1px solid;\\\"&gt;\\n        &lt;th style=\\\"text-align: left\\\"&gt;Number of Observations&lt;/th&gt;\\n        &lt;td style=\\\"text-align: left\\\"&gt;640&lt;/td&gt;\\n    &lt;/tr&gt;\\n    \\n    &lt;tr style=\\\"border-bottom: 1px solid;\\\"&gt;\\n        &lt;th style=\\\"text-align: left\\\"&gt;Missing Cells&lt;/th&gt;\\n        &lt;td style=\\\"text-align: left\\\"&gt;211&lt;/td&gt;\\n    &lt;/tr&gt;\\n    \\n    &lt;tr style=\\\"border-bottom: 1px solid;\\\"&gt;\\n        &lt;th style=\\\"text-align: left\\\"&gt;Missing Cells (%)&lt;/th&gt;\\n        &lt;td style=\\\"text-align: left\\\"&gt;1.3%&lt;/td&gt;\\n    &lt;/tr&gt;\\n    \\n    &lt;tr style=\\\"border-bottom: 1px solid;\\\"&gt;\\n        &lt;th style=\\\"text-align: left\\\"&gt;Duplicate Rows&lt;/th&gt;\\n        &lt;td style=\\\"text-align: left\\\"&gt;18&lt;/td&gt;\\n    &lt;/tr&gt;\\n    \\n    &lt;tr style=\\\"border-bottom: 1px solid;\\\"&gt;\\n        &lt;th style=\\\"text-align: left\\\"&gt;Duplicate Rows (%)&lt;/th&gt;\\n        &lt;td style=\\\"text-align: left\\\"&gt;2.8%&lt;/td&gt;\\n    &lt;/tr&gt;\\n    \\n    &lt;tr style=\\\"border-bottom: 1px solid;\\\"&gt;\\n        &lt;th style=\\\"text-align: left\\\"&gt;Total Size in Memory&lt;/th&gt;\\n        &lt;td style=\\\"text-align: left\\\"&gt;775.2 KB&lt;/td&gt;\\n    &lt;/tr&gt;\\n    \\n    &lt;tr style=\\\"border-bottom: 1px solid;\\\"&gt;\\n        &lt;th style=\\\"text-align: left\\\"&gt;Average Record Size in Memory&lt;/th&gt;\\n        &lt;td style=\\\"text-align: left\\\"&gt;1.2 KB&lt;/td&gt;\\n    &lt;/tr&gt;\\n    &lt;/tbody&gt;\\n        &lt;/table&gt;\\n    &lt;/div&gt;\\n    \\n        \\n    &lt;div style=\\\"flex: 50%; margin-right: 6px;\\\"&gt;\\n        &lt;table style=\\\"width: 100%; table-layout: auto;\\\"&gt;\\n            &lt;tbody&gt;&lt;h3 style=\\\"text-align:center;\\\"&gt;Variable Types&lt;/h3&gt;\\n    &lt;tr style=\\\"border-bottom: 1px solid;\\\"&gt;\\n        &lt;th style=\\\"text-align: left\\\"&gt;Categorical&lt;/th&gt;\\n        &lt;td style=\\\"text-align: left\\\"&gt;18&lt;/td&gt;\\n    &lt;/tr&gt;\\n    \\n    &lt;tr style=\\\"border-bottom: 1px solid;\\\"&gt;\\n        &lt;th style=\\\"text-align: left\\\"&gt;Numerical&lt;/th&gt;\\n        &lt;td style=\\\"text-align: left\\\"&gt;7&lt;/td&gt;\\n    &lt;/tr&gt;\\n    &lt;/tbody&gt;\\n        &lt;/table&gt;\\n    &lt;/div&gt;\\n    \\n    &lt;/div&gt;\\n    \",\"visible\":false,\"width\":972},\"id\":\"8006\",\"type\":\"Div\"},{\"attributes\":{\"bottom\":{\"value\":0},\"fill_alpha\":{\"value\":0.1},\"fill_color\":{\"value\":\"#6baed6\"},\"left\":{\"field\":\"left\"},\"line_alpha\":{\"value\":0.1},\"line_color\":{\"value\":\"#1f77b4\"},\"right\":{\"field\":\"right\"},\"top\":{\"field\":\"freq\"}},\"id\":\"7468\",\"type\":\"Quad\"},{\"attributes\":{},\"id\":\"7516\",\"type\":\"LinearScale\"},{\"attributes\":{\"bottom\":{\"value\":0.01},\"fill_color\":{\"value\":\"#1f77b4\"},\"line_color\":{\"value\":\"#1f77b4\"},\"top\":{\"field\":\"F11d\"},\"width\":{\"value\":0.9},\"x\":{\"field\":\"index\"}},\"id\":\"7735\",\"type\":\"VBar\"},{\"attributes\":{\"axis_label\":\"Frequency\",\"formatter\":{\"id\":\"8065\"},\"major_label_text_font_size\":\"0pt\",\"major_tick_line_color\":null,\"minor_tick_line_color\":\"white\",\"ticker\":{\"id\":\"7523\"}},\"id\":\"7522\",\"type\":\"LinearAxis\"},{\"attributes\":{},\"id\":\"7550\",\"type\":\"CategoricalTicker\"},{\"attributes\":{\"ticks\":[1,1.9,2.8,3.7,4.6]},\"id\":\"7536\",\"type\":\"FixedTicker\"},{\"attributes\":{\"callback\":null,\"tooltips\":[[\"F11b\",\"@index\"],[\"Count\",\"@F11b\"],[\"Percent\",\"@pct{0.2f}%\"]]},\"id\":\"7672\",\"type\":\"HoverTool\"},{\"attributes\":{\"data_source\":{\"id\":\"7588\"},\"glyph\":{\"id\":\"7590\"},\"hover_glyph\":null,\"muted_glyph\":null,\"nonselection_glyph\":{\"id\":\"7591\"},\"selection_glyph\":null,\"view\":{\"id\":\"7593\"}},\"id\":\"7592\",\"type\":\"GlyphRenderer\"},{\"attributes\":{},\"id\":\"7611\",\"type\":\"BasicTicker\"},{\"attributes\":{\"axis_label\":\"Count\",\"formatter\":{\"id\":\"8100\"},\"major_label_text_font_size\":\"0pt\",\"major_tick_line_color\":null,\"minor_tick_line_color\":\"white\",\"ticker\":{\"id\":\"7669\"}},\"id\":\"7668\",\"type\":\"LinearAxis\"},{\"attributes\":{\"formatter\":{\"id\":\"8064\"},\"major_label_overrides\":{\"1\":\"1\",\"1.9\":\"1.9\",\"2.8\":\"2.8\",\"3.7\":\"3.7\",\"4.6\":\"4.6\"},\"major_label_standoff\":7,\"major_label_text_font_size\":\"10pt\",\"major_tick_line_color\":null,\"minor_tick_line_color\":\"white\",\"ticker\":{\"id\":\"7536\"}},\"id\":\"7518\",\"type\":\"LinearAxis\"},{\"attributes\":{},\"id\":\"7523\",\"type\":\"BasicTicker\"},{\"attributes\":{\"axis\":{\"id\":\"7522\"},\"dimension\":1,\"grid_line_color\":null,\"ticker\":null},\"id\":\"7525\",\"type\":\"Grid\"},{\"attributes\":{\"ticks\":[1,1.9,2.8,3.7,4.6]},\"id\":\"7505\",\"type\":\"FixedTicker\"},{\"attributes\":{\"active_drag\":\"auto\",\"active_inspect\":\"auto\",\"active_multi\":null,\"active_scroll\":\"auto\",\"active_tap\":\"auto\",\"tools\":[{\"id\":\"7672\"}]},\"id\":\"7673\",\"type\":\"Toolbar\"}],\"root_ids\":[\"8185\"]},\"title\":\"Bokeh Application\",\"version\":\"2.0.2\"}}\n",
       "        </script>\n",
       "        <script type=\"text/javascript\">\n",
       "          (function() {\n",
       "            var fn = function() {\n",
       "              var __dataprep_bokeh_fix = (f) => document.Bokeh === undefined ? setTimeout(f, 1000) : f(); __dataprep_bokeh_fix(function() {\n",
       "                (function(root) {\n",
       "                  function embed_document(root) {\n",
       "                    \n",
       "                  var docs_json = document.getElementById('9836').textContent;\n",
       "                  var render_items = [{\"docid\":\"27f56c35-1545-4390-98fe-c069de9181b5\",\"root_ids\":[\"8185\"],\"roots\":{\"8185\":\"664eb061-fb4f-4b1c-b83a-96647303dbf8\"}}];\n",
       "                  root.Bokeh.embed.embed_items(docs_json, render_items);\n",
       "                \n",
       "                  }\n",
       "                  if (root.Bokeh !== undefined) {\n",
       "                    embed_document(root);\n",
       "                  } else {\n",
       "                    var attempts = 0;\n",
       "                    var timer = setInterval(function(root) {\n",
       "                      if (root.Bokeh !== undefined) {\n",
       "                        clearInterval(timer);\n",
       "                        embed_document(root);\n",
       "                      } else {\n",
       "                        attempts++;\n",
       "                        if (attempts > 100) {\n",
       "                          clearInterval(timer);\n",
       "                          console.log(\"Bokeh: ERROR: Unable to run BokehJS code because BokehJS library is missing\");\n",
       "                        }\n",
       "                      }\n",
       "                    }, 10, root)\n",
       "                  }\n",
       "                })(window);\n",
       "              });\n",
       "            };\n",
       "            if (document.readyState != \"loading\") fn();\n",
       "            else document.addEventListener(\"DOMContentLoaded\", fn);\n",
       "          })();\n",
       "        </script>\n"
      ],
      "text/plain": [
       "<dataprep.eda.report.Report at 0x2dadf36d7f0>"
      ]
     },
     "execution_count": 37,
     "metadata": {},
     "output_type": "execute_result"
    }
   ],
   "source": [
    "plot(df.drop(['index', 'ID', 'Startzeit', 'Fertigstellungszeit', 'E-Mail', 'Name', 'F13', 'F14', 'F15', 'Kommentare', 'Klasse'], axis=1))"
   ]
  },
  {
   "cell_type": "code",
   "execution_count": 88,
   "metadata": {},
   "outputs": [
    {
     "data": {
      "application/vnd.plotly.v1+json": {
       "config": {
        "linkText": "Export to plot.ly",
        "plotlyServerURL": "https://plot.ly",
        "showLink": true
       },
       "data": [
        {
         "marker": {
          "color": "rgba(255, 153, 51, 0.6)",
          "line": {
           "color": "rgba(255, 153, 51, 1.0)",
           "width": 1
          }
         },
         "name": "divers",
         "orientation": "v",
         "text": "",
         "type": "bar",
         "x": [
          "14-15",
          "16-17",
          "18-20",
          ">20"
         ],
         "y": [
          "",
          "",
          1,
          4
         ]
        },
        {
         "marker": {
          "color": "rgba(55, 128, 191, 0.6)",
          "line": {
           "color": "rgba(55, 128, 191, 1.0)",
           "width": 1
          }
         },
         "name": "männlich",
         "orientation": "v",
         "text": "",
         "type": "bar",
         "x": [
          "14-15",
          "16-17",
          "18-20",
          ">20"
         ],
         "y": [
          97,
          191,
          98,
          65
         ]
        },
        {
         "marker": {
          "color": "rgba(50, 171, 96, 0.6)",
          "line": {
           "color": "rgba(50, 171, 96, 1.0)",
           "width": 1
          }
         },
         "name": "weiblich",
         "orientation": "v",
         "text": "",
         "type": "bar",
         "x": [
          "14-15",
          "16-17",
          "18-20",
          ">20"
         ],
         "y": [
          27,
          63,
          46,
          40
         ]
        }
       ],
       "layout": {
        "autosize": true,
        "legend": {
         "bgcolor": "#F5F6F9",
         "font": {
          "color": "#4D5663"
         }
        },
        "paper_bgcolor": "#F5F6F9",
        "plot_bgcolor": "#F5F6F9",
        "template": {
         "data": {
          "bar": [
           {
            "error_x": {
             "color": "#2a3f5f"
            },
            "error_y": {
             "color": "#2a3f5f"
            },
            "marker": {
             "line": {
              "color": "#E5ECF6",
              "width": 0.5
             }
            },
            "type": "bar"
           }
          ],
          "barpolar": [
           {
            "marker": {
             "line": {
              "color": "#E5ECF6",
              "width": 0.5
             }
            },
            "type": "barpolar"
           }
          ],
          "carpet": [
           {
            "aaxis": {
             "endlinecolor": "#2a3f5f",
             "gridcolor": "white",
             "linecolor": "white",
             "minorgridcolor": "white",
             "startlinecolor": "#2a3f5f"
            },
            "baxis": {
             "endlinecolor": "#2a3f5f",
             "gridcolor": "white",
             "linecolor": "white",
             "minorgridcolor": "white",
             "startlinecolor": "#2a3f5f"
            },
            "type": "carpet"
           }
          ],
          "choropleth": [
           {
            "colorbar": {
             "outlinewidth": 0,
             "ticks": ""
            },
            "type": "choropleth"
           }
          ],
          "contour": [
           {
            "colorbar": {
             "outlinewidth": 0,
             "ticks": ""
            },
            "colorscale": [
             [
              0,
              "#0d0887"
             ],
             [
              0.1111111111111111,
              "#46039f"
             ],
             [
              0.2222222222222222,
              "#7201a8"
             ],
             [
              0.3333333333333333,
              "#9c179e"
             ],
             [
              0.4444444444444444,
              "#bd3786"
             ],
             [
              0.5555555555555556,
              "#d8576b"
             ],
             [
              0.6666666666666666,
              "#ed7953"
             ],
             [
              0.7777777777777778,
              "#fb9f3a"
             ],
             [
              0.8888888888888888,
              "#fdca26"
             ],
             [
              1,
              "#f0f921"
             ]
            ],
            "type": "contour"
           }
          ],
          "contourcarpet": [
           {
            "colorbar": {
             "outlinewidth": 0,
             "ticks": ""
            },
            "type": "contourcarpet"
           }
          ],
          "heatmap": [
           {
            "colorbar": {
             "outlinewidth": 0,
             "ticks": ""
            },
            "colorscale": [
             [
              0,
              "#0d0887"
             ],
             [
              0.1111111111111111,
              "#46039f"
             ],
             [
              0.2222222222222222,
              "#7201a8"
             ],
             [
              0.3333333333333333,
              "#9c179e"
             ],
             [
              0.4444444444444444,
              "#bd3786"
             ],
             [
              0.5555555555555556,
              "#d8576b"
             ],
             [
              0.6666666666666666,
              "#ed7953"
             ],
             [
              0.7777777777777778,
              "#fb9f3a"
             ],
             [
              0.8888888888888888,
              "#fdca26"
             ],
             [
              1,
              "#f0f921"
             ]
            ],
            "type": "heatmap"
           }
          ],
          "heatmapgl": [
           {
            "colorbar": {
             "outlinewidth": 0,
             "ticks": ""
            },
            "colorscale": [
             [
              0,
              "#0d0887"
             ],
             [
              0.1111111111111111,
              "#46039f"
             ],
             [
              0.2222222222222222,
              "#7201a8"
             ],
             [
              0.3333333333333333,
              "#9c179e"
             ],
             [
              0.4444444444444444,
              "#bd3786"
             ],
             [
              0.5555555555555556,
              "#d8576b"
             ],
             [
              0.6666666666666666,
              "#ed7953"
             ],
             [
              0.7777777777777778,
              "#fb9f3a"
             ],
             [
              0.8888888888888888,
              "#fdca26"
             ],
             [
              1,
              "#f0f921"
             ]
            ],
            "type": "heatmapgl"
           }
          ],
          "histogram": [
           {
            "marker": {
             "colorbar": {
              "outlinewidth": 0,
              "ticks": ""
             }
            },
            "type": "histogram"
           }
          ],
          "histogram2d": [
           {
            "colorbar": {
             "outlinewidth": 0,
             "ticks": ""
            },
            "colorscale": [
             [
              0,
              "#0d0887"
             ],
             [
              0.1111111111111111,
              "#46039f"
             ],
             [
              0.2222222222222222,
              "#7201a8"
             ],
             [
              0.3333333333333333,
              "#9c179e"
             ],
             [
              0.4444444444444444,
              "#bd3786"
             ],
             [
              0.5555555555555556,
              "#d8576b"
             ],
             [
              0.6666666666666666,
              "#ed7953"
             ],
             [
              0.7777777777777778,
              "#fb9f3a"
             ],
             [
              0.8888888888888888,
              "#fdca26"
             ],
             [
              1,
              "#f0f921"
             ]
            ],
            "type": "histogram2d"
           }
          ],
          "histogram2dcontour": [
           {
            "colorbar": {
             "outlinewidth": 0,
             "ticks": ""
            },
            "colorscale": [
             [
              0,
              "#0d0887"
             ],
             [
              0.1111111111111111,
              "#46039f"
             ],
             [
              0.2222222222222222,
              "#7201a8"
             ],
             [
              0.3333333333333333,
              "#9c179e"
             ],
             [
              0.4444444444444444,
              "#bd3786"
             ],
             [
              0.5555555555555556,
              "#d8576b"
             ],
             [
              0.6666666666666666,
              "#ed7953"
             ],
             [
              0.7777777777777778,
              "#fb9f3a"
             ],
             [
              0.8888888888888888,
              "#fdca26"
             ],
             [
              1,
              "#f0f921"
             ]
            ],
            "type": "histogram2dcontour"
           }
          ],
          "mesh3d": [
           {
            "colorbar": {
             "outlinewidth": 0,
             "ticks": ""
            },
            "type": "mesh3d"
           }
          ],
          "parcoords": [
           {
            "line": {
             "colorbar": {
              "outlinewidth": 0,
              "ticks": ""
             }
            },
            "type": "parcoords"
           }
          ],
          "pie": [
           {
            "automargin": true,
            "type": "pie"
           }
          ],
          "scatter": [
           {
            "marker": {
             "colorbar": {
              "outlinewidth": 0,
              "ticks": ""
             }
            },
            "type": "scatter"
           }
          ],
          "scatter3d": [
           {
            "line": {
             "colorbar": {
              "outlinewidth": 0,
              "ticks": ""
             }
            },
            "marker": {
             "colorbar": {
              "outlinewidth": 0,
              "ticks": ""
             }
            },
            "type": "scatter3d"
           }
          ],
          "scattercarpet": [
           {
            "marker": {
             "colorbar": {
              "outlinewidth": 0,
              "ticks": ""
             }
            },
            "type": "scattercarpet"
           }
          ],
          "scattergeo": [
           {
            "marker": {
             "colorbar": {
              "outlinewidth": 0,
              "ticks": ""
             }
            },
            "type": "scattergeo"
           }
          ],
          "scattergl": [
           {
            "marker": {
             "colorbar": {
              "outlinewidth": 0,
              "ticks": ""
             }
            },
            "type": "scattergl"
           }
          ],
          "scattermapbox": [
           {
            "marker": {
             "colorbar": {
              "outlinewidth": 0,
              "ticks": ""
             }
            },
            "type": "scattermapbox"
           }
          ],
          "scatterpolar": [
           {
            "marker": {
             "colorbar": {
              "outlinewidth": 0,
              "ticks": ""
             }
            },
            "type": "scatterpolar"
           }
          ],
          "scatterpolargl": [
           {
            "marker": {
             "colorbar": {
              "outlinewidth": 0,
              "ticks": ""
             }
            },
            "type": "scatterpolargl"
           }
          ],
          "scatterternary": [
           {
            "marker": {
             "colorbar": {
              "outlinewidth": 0,
              "ticks": ""
             }
            },
            "type": "scatterternary"
           }
          ],
          "surface": [
           {
            "colorbar": {
             "outlinewidth": 0,
             "ticks": ""
            },
            "colorscale": [
             [
              0,
              "#0d0887"
             ],
             [
              0.1111111111111111,
              "#46039f"
             ],
             [
              0.2222222222222222,
              "#7201a8"
             ],
             [
              0.3333333333333333,
              "#9c179e"
             ],
             [
              0.4444444444444444,
              "#bd3786"
             ],
             [
              0.5555555555555556,
              "#d8576b"
             ],
             [
              0.6666666666666666,
              "#ed7953"
             ],
             [
              0.7777777777777778,
              "#fb9f3a"
             ],
             [
              0.8888888888888888,
              "#fdca26"
             ],
             [
              1,
              "#f0f921"
             ]
            ],
            "type": "surface"
           }
          ],
          "table": [
           {
            "cells": {
             "fill": {
              "color": "#EBF0F8"
             },
             "line": {
              "color": "white"
             }
            },
            "header": {
             "fill": {
              "color": "#C8D4E3"
             },
             "line": {
              "color": "white"
             }
            },
            "type": "table"
           }
          ]
         },
         "layout": {
          "annotationdefaults": {
           "arrowcolor": "#2a3f5f",
           "arrowhead": 0,
           "arrowwidth": 1
          },
          "coloraxis": {
           "colorbar": {
            "outlinewidth": 0,
            "ticks": ""
           }
          },
          "colorscale": {
           "diverging": [
            [
             0,
             "#8e0152"
            ],
            [
             0.1,
             "#c51b7d"
            ],
            [
             0.2,
             "#de77ae"
            ],
            [
             0.3,
             "#f1b6da"
            ],
            [
             0.4,
             "#fde0ef"
            ],
            [
             0.5,
             "#f7f7f7"
            ],
            [
             0.6,
             "#e6f5d0"
            ],
            [
             0.7,
             "#b8e186"
            ],
            [
             0.8,
             "#7fbc41"
            ],
            [
             0.9,
             "#4d9221"
            ],
            [
             1,
             "#276419"
            ]
           ],
           "sequential": [
            [
             0,
             "#0d0887"
            ],
            [
             0.1111111111111111,
             "#46039f"
            ],
            [
             0.2222222222222222,
             "#7201a8"
            ],
            [
             0.3333333333333333,
             "#9c179e"
            ],
            [
             0.4444444444444444,
             "#bd3786"
            ],
            [
             0.5555555555555556,
             "#d8576b"
            ],
            [
             0.6666666666666666,
             "#ed7953"
            ],
            [
             0.7777777777777778,
             "#fb9f3a"
            ],
            [
             0.8888888888888888,
             "#fdca26"
            ],
            [
             1,
             "#f0f921"
            ]
           ],
           "sequentialminus": [
            [
             0,
             "#0d0887"
            ],
            [
             0.1111111111111111,
             "#46039f"
            ],
            [
             0.2222222222222222,
             "#7201a8"
            ],
            [
             0.3333333333333333,
             "#9c179e"
            ],
            [
             0.4444444444444444,
             "#bd3786"
            ],
            [
             0.5555555555555556,
             "#d8576b"
            ],
            [
             0.6666666666666666,
             "#ed7953"
            ],
            [
             0.7777777777777778,
             "#fb9f3a"
            ],
            [
             0.8888888888888888,
             "#fdca26"
            ],
            [
             1,
             "#f0f921"
            ]
           ]
          },
          "colorway": [
           "#636efa",
           "#EF553B",
           "#00cc96",
           "#ab63fa",
           "#FFA15A",
           "#19d3f3",
           "#FF6692",
           "#B6E880",
           "#FF97FF",
           "#FECB52"
          ],
          "font": {
           "color": "#2a3f5f"
          },
          "geo": {
           "bgcolor": "white",
           "lakecolor": "white",
           "landcolor": "#E5ECF6",
           "showlakes": true,
           "showland": true,
           "subunitcolor": "white"
          },
          "hoverlabel": {
           "align": "left"
          },
          "hovermode": "closest",
          "mapbox": {
           "style": "light"
          },
          "paper_bgcolor": "white",
          "plot_bgcolor": "#E5ECF6",
          "polar": {
           "angularaxis": {
            "gridcolor": "white",
            "linecolor": "white",
            "ticks": ""
           },
           "bgcolor": "#E5ECF6",
           "radialaxis": {
            "gridcolor": "white",
            "linecolor": "white",
            "ticks": ""
           }
          },
          "scene": {
           "xaxis": {
            "backgroundcolor": "#E5ECF6",
            "gridcolor": "white",
            "gridwidth": 2,
            "linecolor": "white",
            "showbackground": true,
            "ticks": "",
            "zerolinecolor": "white"
           },
           "yaxis": {
            "backgroundcolor": "#E5ECF6",
            "gridcolor": "white",
            "gridwidth": 2,
            "linecolor": "white",
            "showbackground": true,
            "ticks": "",
            "zerolinecolor": "white"
           },
           "zaxis": {
            "backgroundcolor": "#E5ECF6",
            "gridcolor": "white",
            "gridwidth": 2,
            "linecolor": "white",
            "showbackground": true,
            "ticks": "",
            "zerolinecolor": "white"
           }
          },
          "shapedefaults": {
           "line": {
            "color": "#2a3f5f"
           }
          },
          "ternary": {
           "aaxis": {
            "gridcolor": "white",
            "linecolor": "white",
            "ticks": ""
           },
           "baxis": {
            "gridcolor": "white",
            "linecolor": "white",
            "ticks": ""
           },
           "bgcolor": "#E5ECF6",
           "caxis": {
            "gridcolor": "white",
            "linecolor": "white",
            "ticks": ""
           }
          },
          "title": {
           "x": 0.05
          },
          "xaxis": {
           "automargin": true,
           "gridcolor": "white",
           "linecolor": "white",
           "ticks": "",
           "title": {
            "standoff": 15
           },
           "zerolinecolor": "white",
           "zerolinewidth": 2
          },
          "yaxis": {
           "automargin": true,
           "gridcolor": "white",
           "linecolor": "white",
           "ticks": "",
           "title": {
            "standoff": 15
           },
           "zerolinecolor": "white",
           "zerolinewidth": 2
          }
         }
        },
        "title": {
         "font": {
          "color": "#4D5663"
         }
        },
        "xaxis": {
         "autorange": true,
         "gridcolor": "#E1E5ED",
         "range": [
          -0.5,
          3.5
         ],
         "showgrid": true,
         "tickfont": {
          "color": "#4D5663"
         },
         "title": {
          "font": {
           "color": "#4D5663"
          },
          "text": ""
         },
         "type": "category",
         "zerolinecolor": "#E1E5ED"
        },
        "yaxis": {
         "autorange": true,
         "gridcolor": "#E1E5ED",
         "range": [
          0,
          201.05263157894737
         ],
         "showgrid": true,
         "tickfont": {
          "color": "#4D5663"
         },
         "title": {
          "font": {
           "color": "#4D5663"
          },
          "text": ""
         },
         "type": "linear",
         "zerolinecolor": "#E1E5ED"
        }
       }
      },
      "image/png": "[encoded data removed]",
      "text/html": [
       "<div>\n",
       "        \n",
       "        \n",
       "            <div id=\"51ef2d64-ae3e-486c-9a09-017cde73af15\" class=\"plotly-graph-div\" style=\"height:525px; width:100%;\"></div>\n",
       "            <script type=\"text/javascript\">\n",
       "                require([\"plotly\"], function(Plotly) {\n",
       "                    window.PLOTLYENV=window.PLOTLYENV || {};\n",
       "                    window.PLOTLYENV.BASE_URL='https://plot.ly';\n",
       "                    \n",
       "                if (document.getElementById(\"51ef2d64-ae3e-486c-9a09-017cde73af15\")) {\n",
       "                    Plotly.newPlot(\n",
       "                        '51ef2d64-ae3e-486c-9a09-017cde73af15',\n",
       "                        [{\"marker\": {\"color\": \"rgba(255, 153, 51, 0.6)\", \"line\": {\"color\": \"rgba(255, 153, 51, 1.0)\", \"width\": 1}}, \"name\": \"divers\", \"orientation\": \"v\", \"text\": \"\", \"type\": \"bar\", \"x\": [\"14-15\", \"16-17\", \"18-20\", \">20\"], \"y\": [\"\", \"\", 1.0, 4.0]}, {\"marker\": {\"color\": \"rgba(55, 128, 191, 0.6)\", \"line\": {\"color\": \"rgba(55, 128, 191, 1.0)\", \"width\": 1}}, \"name\": \"m\\u00e4nnlich\", \"orientation\": \"v\", \"text\": \"\", \"type\": \"bar\", \"x\": [\"14-15\", \"16-17\", \"18-20\", \">20\"], \"y\": [97.0, 191.0, 98.0, 65.0]}, {\"marker\": {\"color\": \"rgba(50, 171, 96, 0.6)\", \"line\": {\"color\": \"rgba(50, 171, 96, 1.0)\", \"width\": 1}}, \"name\": \"weiblich\", \"orientation\": \"v\", \"text\": \"\", \"type\": \"bar\", \"x\": [\"14-15\", \"16-17\", \"18-20\", \">20\"], \"y\": [27.0, 63.0, 46.0, 40.0]}],\n",
       "                        {\"legend\": {\"bgcolor\": \"#F5F6F9\", \"font\": {\"color\": \"#4D5663\"}}, \"paper_bgcolor\": \"#F5F6F9\", \"plot_bgcolor\": \"#F5F6F9\", \"template\": {\"data\": {\"bar\": [{\"error_x\": {\"color\": \"#2a3f5f\"}, \"error_y\": {\"color\": \"#2a3f5f\"}, \"marker\": {\"line\": {\"color\": \"#E5ECF6\", \"width\": 0.5}}, \"type\": \"bar\"}], \"barpolar\": [{\"marker\": {\"line\": {\"color\": \"#E5ECF6\", \"width\": 0.5}}, \"type\": \"barpolar\"}], \"carpet\": [{\"aaxis\": {\"endlinecolor\": \"#2a3f5f\", \"gridcolor\": \"white\", \"linecolor\": \"white\", \"minorgridcolor\": \"white\", \"startlinecolor\": \"#2a3f5f\"}, \"baxis\": {\"endlinecolor\": \"#2a3f5f\", \"gridcolor\": \"white\", \"linecolor\": \"white\", \"minorgridcolor\": \"white\", \"startlinecolor\": \"#2a3f5f\"}, \"type\": \"carpet\"}], \"choropleth\": [{\"colorbar\": {\"outlinewidth\": 0, \"ticks\": \"\"}, \"type\": \"choropleth\"}], \"contour\": [{\"colorbar\": {\"outlinewidth\": 0, \"ticks\": \"\"}, \"colorscale\": [[0.0, \"#0d0887\"], [0.1111111111111111, \"#46039f\"], [0.2222222222222222, \"#7201a8\"], [0.3333333333333333, \"#9c179e\"], [0.4444444444444444, \"#bd3786\"], [0.5555555555555556, \"#d8576b\"], [0.6666666666666666, \"#ed7953\"], [0.7777777777777778, \"#fb9f3a\"], [0.8888888888888888, \"#fdca26\"], [1.0, \"#f0f921\"]], \"type\": \"contour\"}], \"contourcarpet\": [{\"colorbar\": {\"outlinewidth\": 0, \"ticks\": \"\"}, \"type\": \"contourcarpet\"}], \"heatmap\": [{\"colorbar\": {\"outlinewidth\": 0, \"ticks\": \"\"}, \"colorscale\": [[0.0, \"#0d0887\"], [0.1111111111111111, \"#46039f\"], [0.2222222222222222, \"#7201a8\"], [0.3333333333333333, \"#9c179e\"], [0.4444444444444444, \"#bd3786\"], [0.5555555555555556, \"#d8576b\"], [0.6666666666666666, \"#ed7953\"], [0.7777777777777778, \"#fb9f3a\"], [0.8888888888888888, \"#fdca26\"], [1.0, \"#f0f921\"]], \"type\": \"heatmap\"}], \"heatmapgl\": [{\"colorbar\": {\"outlinewidth\": 0, \"ticks\": \"\"}, \"colorscale\": [[0.0, \"#0d0887\"], [0.1111111111111111, \"#46039f\"], [0.2222222222222222, \"#7201a8\"], [0.3333333333333333, \"#9c179e\"], [0.4444444444444444, \"#bd3786\"], [0.5555555555555556, \"#d8576b\"], [0.6666666666666666, \"#ed7953\"], [0.7777777777777778, \"#fb9f3a\"], [0.8888888888888888, \"#fdca26\"], [1.0, \"#f0f921\"]], \"type\": \"heatmapgl\"}], \"histogram\": [{\"marker\": {\"colorbar\": {\"outlinewidth\": 0, \"ticks\": \"\"}}, \"type\": \"histogram\"}], \"histogram2d\": [{\"colorbar\": {\"outlinewidth\": 0, \"ticks\": \"\"}, \"colorscale\": [[0.0, \"#0d0887\"], [0.1111111111111111, \"#46039f\"], [0.2222222222222222, \"#7201a8\"], [0.3333333333333333, \"#9c179e\"], [0.4444444444444444, \"#bd3786\"], [0.5555555555555556, \"#d8576b\"], [0.6666666666666666, \"#ed7953\"], [0.7777777777777778, \"#fb9f3a\"], [0.8888888888888888, \"#fdca26\"], [1.0, \"#f0f921\"]], \"type\": \"histogram2d\"}], \"histogram2dcontour\": [{\"colorbar\": {\"outlinewidth\": 0, \"ticks\": \"\"}, \"colorscale\": [[0.0, \"#0d0887\"], [0.1111111111111111, \"#46039f\"], [0.2222222222222222, \"#7201a8\"], [0.3333333333333333, \"#9c179e\"], [0.4444444444444444, \"#bd3786\"], [0.5555555555555556, \"#d8576b\"], [0.6666666666666666, \"#ed7953\"], [0.7777777777777778, \"#fb9f3a\"], [0.8888888888888888, \"#fdca26\"], [1.0, \"#f0f921\"]], \"type\": \"histogram2dcontour\"}], \"mesh3d\": [{\"colorbar\": {\"outlinewidth\": 0, \"ticks\": \"\"}, \"type\": \"mesh3d\"}], \"parcoords\": [{\"line\": {\"colorbar\": {\"outlinewidth\": 0, \"ticks\": \"\"}}, \"type\": \"parcoords\"}], \"pie\": [{\"automargin\": true, \"type\": \"pie\"}], \"scatter\": [{\"marker\": {\"colorbar\": {\"outlinewidth\": 0, \"ticks\": \"\"}}, \"type\": \"scatter\"}], \"scatter3d\": [{\"line\": {\"colorbar\": {\"outlinewidth\": 0, \"ticks\": \"\"}}, \"marker\": {\"colorbar\": {\"outlinewidth\": 0, \"ticks\": \"\"}}, \"type\": \"scatter3d\"}], \"scattercarpet\": [{\"marker\": {\"colorbar\": {\"outlinewidth\": 0, \"ticks\": \"\"}}, \"type\": \"scattercarpet\"}], \"scattergeo\": [{\"marker\": {\"colorbar\": {\"outlinewidth\": 0, \"ticks\": \"\"}}, \"type\": \"scattergeo\"}], \"scattergl\": [{\"marker\": {\"colorbar\": {\"outlinewidth\": 0, \"ticks\": \"\"}}, \"type\": \"scattergl\"}], \"scattermapbox\": [{\"marker\": {\"colorbar\": {\"outlinewidth\": 0, \"ticks\": \"\"}}, \"type\": \"scattermapbox\"}], \"scatterpolar\": [{\"marker\": {\"colorbar\": {\"outlinewidth\": 0, \"ticks\": \"\"}}, \"type\": \"scatterpolar\"}], \"scatterpolargl\": [{\"marker\": {\"colorbar\": {\"outlinewidth\": 0, \"ticks\": \"\"}}, \"type\": \"scatterpolargl\"}], \"scatterternary\": [{\"marker\": {\"colorbar\": {\"outlinewidth\": 0, \"ticks\": \"\"}}, \"type\": \"scatterternary\"}], \"surface\": [{\"colorbar\": {\"outlinewidth\": 0, \"ticks\": \"\"}, \"colorscale\": [[0.0, \"#0d0887\"], [0.1111111111111111, \"#46039f\"], [0.2222222222222222, \"#7201a8\"], [0.3333333333333333, \"#9c179e\"], [0.4444444444444444, \"#bd3786\"], [0.5555555555555556, \"#d8576b\"], [0.6666666666666666, \"#ed7953\"], [0.7777777777777778, \"#fb9f3a\"], [0.8888888888888888, \"#fdca26\"], [1.0, \"#f0f921\"]], \"type\": \"surface\"}], \"table\": [{\"cells\": {\"fill\": {\"color\": \"#EBF0F8\"}, \"line\": {\"color\": \"white\"}}, \"header\": {\"fill\": {\"color\": \"#C8D4E3\"}, \"line\": {\"color\": \"white\"}}, \"type\": \"table\"}]}, \"layout\": {\"annotationdefaults\": {\"arrowcolor\": \"#2a3f5f\", \"arrowhead\": 0, \"arrowwidth\": 1}, \"coloraxis\": {\"colorbar\": {\"outlinewidth\": 0, \"ticks\": \"\"}}, \"colorscale\": {\"diverging\": [[0, \"#8e0152\"], [0.1, \"#c51b7d\"], [0.2, \"#de77ae\"], [0.3, \"#f1b6da\"], [0.4, \"#fde0ef\"], [0.5, \"#f7f7f7\"], [0.6, \"#e6f5d0\"], [0.7, \"#b8e186\"], [0.8, \"#7fbc41\"], [0.9, \"#4d9221\"], [1, \"#276419\"]], \"sequential\": [[0.0, \"#0d0887\"], [0.1111111111111111, \"#46039f\"], [0.2222222222222222, \"#7201a8\"], [0.3333333333333333, \"#9c179e\"], [0.4444444444444444, \"#bd3786\"], [0.5555555555555556, \"#d8576b\"], [0.6666666666666666, \"#ed7953\"], [0.7777777777777778, \"#fb9f3a\"], [0.8888888888888888, \"#fdca26\"], [1.0, \"#f0f921\"]], \"sequentialminus\": [[0.0, \"#0d0887\"], [0.1111111111111111, \"#46039f\"], [0.2222222222222222, \"#7201a8\"], [0.3333333333333333, \"#9c179e\"], [0.4444444444444444, \"#bd3786\"], [0.5555555555555556, \"#d8576b\"], [0.6666666666666666, \"#ed7953\"], [0.7777777777777778, \"#fb9f3a\"], [0.8888888888888888, \"#fdca26\"], [1.0, \"#f0f921\"]]}, \"colorway\": [\"#636efa\", \"#EF553B\", \"#00cc96\", \"#ab63fa\", \"#FFA15A\", \"#19d3f3\", \"#FF6692\", \"#B6E880\", \"#FF97FF\", \"#FECB52\"], \"font\": {\"color\": \"#2a3f5f\"}, \"geo\": {\"bgcolor\": \"white\", \"lakecolor\": \"white\", \"landcolor\": \"#E5ECF6\", \"showlakes\": true, \"showland\": true, \"subunitcolor\": \"white\"}, \"hoverlabel\": {\"align\": \"left\"}, \"hovermode\": \"closest\", \"mapbox\": {\"style\": \"light\"}, \"paper_bgcolor\": \"white\", \"plot_bgcolor\": \"#E5ECF6\", \"polar\": {\"angularaxis\": {\"gridcolor\": \"white\", \"linecolor\": \"white\", \"ticks\": \"\"}, \"bgcolor\": \"#E5ECF6\", \"radialaxis\": {\"gridcolor\": \"white\", \"linecolor\": \"white\", \"ticks\": \"\"}}, \"scene\": {\"xaxis\": {\"backgroundcolor\": \"#E5ECF6\", \"gridcolor\": \"white\", \"gridwidth\": 2, \"linecolor\": \"white\", \"showbackground\": true, \"ticks\": \"\", \"zerolinecolor\": \"white\"}, \"yaxis\": {\"backgroundcolor\": \"#E5ECF6\", \"gridcolor\": \"white\", \"gridwidth\": 2, \"linecolor\": \"white\", \"showbackground\": true, \"ticks\": \"\", \"zerolinecolor\": \"white\"}, \"zaxis\": {\"backgroundcolor\": \"#E5ECF6\", \"gridcolor\": \"white\", \"gridwidth\": 2, \"linecolor\": \"white\", \"showbackground\": true, \"ticks\": \"\", \"zerolinecolor\": \"white\"}}, \"shapedefaults\": {\"line\": {\"color\": \"#2a3f5f\"}}, \"ternary\": {\"aaxis\": {\"gridcolor\": \"white\", \"linecolor\": \"white\", \"ticks\": \"\"}, \"baxis\": {\"gridcolor\": \"white\", \"linecolor\": \"white\", \"ticks\": \"\"}, \"bgcolor\": \"#E5ECF6\", \"caxis\": {\"gridcolor\": \"white\", \"linecolor\": \"white\", \"ticks\": \"\"}}, \"title\": {\"x\": 0.05}, \"xaxis\": {\"automargin\": true, \"gridcolor\": \"white\", \"linecolor\": \"white\", \"ticks\": \"\", \"title\": {\"standoff\": 15}, \"zerolinecolor\": \"white\", \"zerolinewidth\": 2}, \"yaxis\": {\"automargin\": true, \"gridcolor\": \"white\", \"linecolor\": \"white\", \"ticks\": \"\", \"title\": {\"standoff\": 15}, \"zerolinecolor\": \"white\", \"zerolinewidth\": 2}}}, \"title\": {\"font\": {\"color\": \"#4D5663\"}}, \"xaxis\": {\"gridcolor\": \"#E1E5ED\", \"showgrid\": true, \"tickfont\": {\"color\": \"#4D5663\"}, \"title\": {\"font\": {\"color\": \"#4D5663\"}, \"text\": \"\"}, \"zerolinecolor\": \"#E1E5ED\"}, \"yaxis\": {\"gridcolor\": \"#E1E5ED\", \"showgrid\": true, \"tickfont\": {\"color\": \"#4D5663\"}, \"title\": {\"font\": {\"color\": \"#4D5663\"}, \"text\": \"\"}, \"zerolinecolor\": \"#E1E5ED\"}},\n",
       "                        {\"showLink\": true, \"linkText\": \"Export to plot.ly\", \"plotlyServerURL\": \"https://plot.ly\", \"responsive\": true}\n",
       "                    ).then(function(){\n",
       "                            \n",
       "var gd = document.getElementById('51ef2d64-ae3e-486c-9a09-017cde73af15');\n",
       "var x = new MutationObserver(function (mutations, observer) {{\n",
       "        var display = window.getComputedStyle(gd).display;\n",
       "        if (!display || display === 'none') {{\n",
       "            console.log([gd, 'removed!']);\n",
       "            Plotly.purge(gd);\n",
       "            observer.disconnect();\n",
       "        }}\n",
       "}});\n",
       "\n",
       "// Listen for the removal of the full notebook cells\n",
       "var notebookContainer = gd.closest('#notebook-container');\n",
       "if (notebookContainer) {{\n",
       "    x.observe(notebookContainer, {childList: true});\n",
       "}}\n",
       "\n",
       "// Listen for the clearing of the current output cell\n",
       "var outputEl = gd.closest('.output');\n",
       "if (outputEl) {{\n",
       "    x.observe(outputEl, {childList: true});\n",
       "}}\n",
       "\n",
       "                        })\n",
       "                };\n",
       "                });\n",
       "            </script>\n",
       "        </div>"
      ]
     },
     "metadata": {},
     "output_type": "display_data"
    },
    {
     "data": {
      "text/html": [
       "<div>\n",
       "<style scoped>\n",
       "    .dataframe tbody tr th:only-of-type {\n",
       "        vertical-align: middle;\n",
       "    }\n",
       "\n",
       "    .dataframe tbody tr th {\n",
       "        vertical-align: top;\n",
       "    }\n",
       "\n",
       "    .dataframe thead th {\n",
       "        text-align: right;\n",
       "    }\n",
       "</style>\n",
       "<table border=\"1\" class=\"dataframe\">\n",
       "  <thead>\n",
       "    <tr style=\"text-align: right;\">\n",
       "      <th>Geschlecht</th>\n",
       "      <th>divers</th>\n",
       "      <th>männlich</th>\n",
       "      <th>weiblich</th>\n",
       "    </tr>\n",
       "    <tr>\n",
       "      <th>Alter</th>\n",
       "      <th></th>\n",
       "      <th></th>\n",
       "      <th></th>\n",
       "    </tr>\n",
       "  </thead>\n",
       "  <tbody>\n",
       "    <tr>\n",
       "      <th>14-15</th>\n",
       "      <td>NaN</td>\n",
       "      <td>97.0</td>\n",
       "      <td>27.0</td>\n",
       "    </tr>\n",
       "    <tr>\n",
       "      <th>16-17</th>\n",
       "      <td>NaN</td>\n",
       "      <td>191.0</td>\n",
       "      <td>63.0</td>\n",
       "    </tr>\n",
       "    <tr>\n",
       "      <th>18-20</th>\n",
       "      <td>1.0</td>\n",
       "      <td>98.0</td>\n",
       "      <td>46.0</td>\n",
       "    </tr>\n",
       "    <tr>\n",
       "      <th>&gt;20</th>\n",
       "      <td>4.0</td>\n",
       "      <td>65.0</td>\n",
       "      <td>40.0</td>\n",
       "    </tr>\n",
       "  </tbody>\n",
       "</table>\n",
       "</div>"
      ],
      "text/plain": [
       "Geschlecht  divers  männlich  weiblich\n",
       "Alter                                 \n",
       "14-15          NaN      97.0      27.0\n",
       "16-17          NaN     191.0      63.0\n",
       "18-20          1.0      98.0      46.0\n",
       ">20            4.0      65.0      40.0"
      ]
     },
     "execution_count": 88,
     "metadata": {},
     "output_type": "execute_result"
    }
   ],
   "source": [
    "d=df[[\"Alter\", \"Geschlecht\", \"ID\"]]\n",
    "d=d.groupby([\"Alter\", \"Geschlecht\"]).count().unstack()\n",
    "d.ID.iplot(kind='bar')\n",
    "d.ID"
   ]
  },
  {
   "cell_type": "code",
   "execution_count": 122,
   "metadata": {},
   "outputs": [
    {
     "data": {
      "application/vnd.plotly.v1+json": {
       "config": {
        "linkText": "Export to plot.ly",
        "plotlyServerURL": "https://plot.ly",
        "showLink": true
       },
       "data": [
        {
         "marker": {
          "color": "rgba(255, 153, 51, 0.6)",
          "line": {
           "color": "rgba(255, 153, 51, 1.0)",
           "width": 1
          }
         },
         "name": "divers",
         "orientation": "v",
         "text": "",
         "type": "bar",
         "x": [
          "9.Schulstufe",
          "10.Schulstufe",
          "11.Schulstufe",
          "12.Schulstufe",
          "13.Schulstufe",
          "höher"
         ],
         "y": [
          "",
          "",
          "",
          "",
          "",
          5
         ]
        },
        {
         "marker": {
          "color": "rgba(55, 128, 191, 0.6)",
          "line": {
           "color": "rgba(55, 128, 191, 1.0)",
           "width": 1
          }
         },
         "name": "männlich",
         "orientation": "v",
         "text": "",
         "type": "bar",
         "x": [
          "9.Schulstufe",
          "10.Schulstufe",
          "11.Schulstufe",
          "12.Schulstufe",
          "13.Schulstufe",
          "höher"
         ],
         "y": [
          91,
          68,
          149,
          40,
          12,
          90
         ]
        },
        {
         "marker": {
          "color": "rgba(50, 171, 96, 0.6)",
          "line": {
           "color": "rgba(50, 171, 96, 1.0)",
           "width": 1
          }
         },
         "name": "weiblich",
         "orientation": "v",
         "text": "",
         "type": "bar",
         "x": [
          "9.Schulstufe",
          "10.Schulstufe",
          "11.Schulstufe",
          "12.Schulstufe",
          "13.Schulstufe",
          "höher"
         ],
         "y": [
          21,
          26,
          38,
          31,
          4,
          56
         ]
        }
       ],
       "layout": {
        "autosize": true,
        "legend": {
         "bgcolor": "#F5F6F9",
         "font": {
          "color": "#4D5663"
         }
        },
        "paper_bgcolor": "#F5F6F9",
        "plot_bgcolor": "#F5F6F9",
        "template": {
         "data": {
          "bar": [
           {
            "error_x": {
             "color": "#2a3f5f"
            },
            "error_y": {
             "color": "#2a3f5f"
            },
            "marker": {
             "line": {
              "color": "#E5ECF6",
              "width": 0.5
             }
            },
            "type": "bar"
           }
          ],
          "barpolar": [
           {
            "marker": {
             "line": {
              "color": "#E5ECF6",
              "width": 0.5
             }
            },
            "type": "barpolar"
           }
          ],
          "carpet": [
           {
            "aaxis": {
             "endlinecolor": "#2a3f5f",
             "gridcolor": "white",
             "linecolor": "white",
             "minorgridcolor": "white",
             "startlinecolor": "#2a3f5f"
            },
            "baxis": {
             "endlinecolor": "#2a3f5f",
             "gridcolor": "white",
             "linecolor": "white",
             "minorgridcolor": "white",
             "startlinecolor": "#2a3f5f"
            },
            "type": "carpet"
           }
          ],
          "choropleth": [
           {
            "colorbar": {
             "outlinewidth": 0,
             "ticks": ""
            },
            "type": "choropleth"
           }
          ],
          "contour": [
           {
            "colorbar": {
             "outlinewidth": 0,
             "ticks": ""
            },
            "colorscale": [
             [
              0,
              "#0d0887"
             ],
             [
              0.1111111111111111,
              "#46039f"
             ],
             [
              0.2222222222222222,
              "#7201a8"
             ],
             [
              0.3333333333333333,
              "#9c179e"
             ],
             [
              0.4444444444444444,
              "#bd3786"
             ],
             [
              0.5555555555555556,
              "#d8576b"
             ],
             [
              0.6666666666666666,
              "#ed7953"
             ],
             [
              0.7777777777777778,
              "#fb9f3a"
             ],
             [
              0.8888888888888888,
              "#fdca26"
             ],
             [
              1,
              "#f0f921"
             ]
            ],
            "type": "contour"
           }
          ],
          "contourcarpet": [
           {
            "colorbar": {
             "outlinewidth": 0,
             "ticks": ""
            },
            "type": "contourcarpet"
           }
          ],
          "heatmap": [
           {
            "colorbar": {
             "outlinewidth": 0,
             "ticks": ""
            },
            "colorscale": [
             [
              0,
              "#0d0887"
             ],
             [
              0.1111111111111111,
              "#46039f"
             ],
             [
              0.2222222222222222,
              "#7201a8"
             ],
             [
              0.3333333333333333,
              "#9c179e"
             ],
             [
              0.4444444444444444,
              "#bd3786"
             ],
             [
              0.5555555555555556,
              "#d8576b"
             ],
             [
              0.6666666666666666,
              "#ed7953"
             ],
             [
              0.7777777777777778,
              "#fb9f3a"
             ],
             [
              0.8888888888888888,
              "#fdca26"
             ],
             [
              1,
              "#f0f921"
             ]
            ],
            "type": "heatmap"
           }
          ],
          "heatmapgl": [
           {
            "colorbar": {
             "outlinewidth": 0,
             "ticks": ""
            },
            "colorscale": [
             [
              0,
              "#0d0887"
             ],
             [
              0.1111111111111111,
              "#46039f"
             ],
             [
              0.2222222222222222,
              "#7201a8"
             ],
             [
              0.3333333333333333,
              "#9c179e"
             ],
             [
              0.4444444444444444,
              "#bd3786"
             ],
             [
              0.5555555555555556,
              "#d8576b"
             ],
             [
              0.6666666666666666,
              "#ed7953"
             ],
             [
              0.7777777777777778,
              "#fb9f3a"
             ],
             [
              0.8888888888888888,
              "#fdca26"
             ],
             [
              1,
              "#f0f921"
             ]
            ],
            "type": "heatmapgl"
           }
          ],
          "histogram": [
           {
            "marker": {
             "colorbar": {
              "outlinewidth": 0,
              "ticks": ""
             }
            },
            "type": "histogram"
           }
          ],
          "histogram2d": [
           {
            "colorbar": {
             "outlinewidth": 0,
             "ticks": ""
            },
            "colorscale": [
             [
              0,
              "#0d0887"
             ],
             [
              0.1111111111111111,
              "#46039f"
             ],
             [
              0.2222222222222222,
              "#7201a8"
             ],
             [
              0.3333333333333333,
              "#9c179e"
             ],
             [
              0.4444444444444444,
              "#bd3786"
             ],
             [
              0.5555555555555556,
              "#d8576b"
             ],
             [
              0.6666666666666666,
              "#ed7953"
             ],
             [
              0.7777777777777778,
              "#fb9f3a"
             ],
             [
              0.8888888888888888,
              "#fdca26"
             ],
             [
              1,
              "#f0f921"
             ]
            ],
            "type": "histogram2d"
           }
          ],
          "histogram2dcontour": [
           {
            "colorbar": {
             "outlinewidth": 0,
             "ticks": ""
            },
            "colorscale": [
             [
              0,
              "#0d0887"
             ],
             [
              0.1111111111111111,
              "#46039f"
             ],
             [
              0.2222222222222222,
              "#7201a8"
             ],
             [
              0.3333333333333333,
              "#9c179e"
             ],
             [
              0.4444444444444444,
              "#bd3786"
             ],
             [
              0.5555555555555556,
              "#d8576b"
             ],
             [
              0.6666666666666666,
              "#ed7953"
             ],
             [
              0.7777777777777778,
              "#fb9f3a"
             ],
             [
              0.8888888888888888,
              "#fdca26"
             ],
             [
              1,
              "#f0f921"
             ]
            ],
            "type": "histogram2dcontour"
           }
          ],
          "mesh3d": [
           {
            "colorbar": {
             "outlinewidth": 0,
             "ticks": ""
            },
            "type": "mesh3d"
           }
          ],
          "parcoords": [
           {
            "line": {
             "colorbar": {
              "outlinewidth": 0,
              "ticks": ""
             }
            },
            "type": "parcoords"
           }
          ],
          "pie": [
           {
            "automargin": true,
            "type": "pie"
           }
          ],
          "scatter": [
           {
            "marker": {
             "colorbar": {
              "outlinewidth": 0,
              "ticks": ""
             }
            },
            "type": "scatter"
           }
          ],
          "scatter3d": [
           {
            "line": {
             "colorbar": {
              "outlinewidth": 0,
              "ticks": ""
             }
            },
            "marker": {
             "colorbar": {
              "outlinewidth": 0,
              "ticks": ""
             }
            },
            "type": "scatter3d"
           }
          ],
          "scattercarpet": [
           {
            "marker": {
             "colorbar": {
              "outlinewidth": 0,
              "ticks": ""
             }
            },
            "type": "scattercarpet"
           }
          ],
          "scattergeo": [
           {
            "marker": {
             "colorbar": {
              "outlinewidth": 0,
              "ticks": ""
             }
            },
            "type": "scattergeo"
           }
          ],
          "scattergl": [
           {
            "marker": {
             "colorbar": {
              "outlinewidth": 0,
              "ticks": ""
             }
            },
            "type": "scattergl"
           }
          ],
          "scattermapbox": [
           {
            "marker": {
             "colorbar": {
              "outlinewidth": 0,
              "ticks": ""
             }
            },
            "type": "scattermapbox"
           }
          ],
          "scatterpolar": [
           {
            "marker": {
             "colorbar": {
              "outlinewidth": 0,
              "ticks": ""
             }
            },
            "type": "scatterpolar"
           }
          ],
          "scatterpolargl": [
           {
            "marker": {
             "colorbar": {
              "outlinewidth": 0,
              "ticks": ""
             }
            },
            "type": "scatterpolargl"
           }
          ],
          "scatterternary": [
           {
            "marker": {
             "colorbar": {
              "outlinewidth": 0,
              "ticks": ""
             }
            },
            "type": "scatterternary"
           }
          ],
          "surface": [
           {
            "colorbar": {
             "outlinewidth": 0,
             "ticks": ""
            },
            "colorscale": [
             [
              0,
              "#0d0887"
             ],
             [
              0.1111111111111111,
              "#46039f"
             ],
             [
              0.2222222222222222,
              "#7201a8"
             ],
             [
              0.3333333333333333,
              "#9c179e"
             ],
             [
              0.4444444444444444,
              "#bd3786"
             ],
             [
              0.5555555555555556,
              "#d8576b"
             ],
             [
              0.6666666666666666,
              "#ed7953"
             ],
             [
              0.7777777777777778,
              "#fb9f3a"
             ],
             [
              0.8888888888888888,
              "#fdca26"
             ],
             [
              1,
              "#f0f921"
             ]
            ],
            "type": "surface"
           }
          ],
          "table": [
           {
            "cells": {
             "fill": {
              "color": "#EBF0F8"
             },
             "line": {
              "color": "white"
             }
            },
            "header": {
             "fill": {
              "color": "#C8D4E3"
             },
             "line": {
              "color": "white"
             }
            },
            "type": "table"
           }
          ]
         },
         "layout": {
          "annotationdefaults": {
           "arrowcolor": "#2a3f5f",
           "arrowhead": 0,
           "arrowwidth": 1
          },
          "coloraxis": {
           "colorbar": {
            "outlinewidth": 0,
            "ticks": ""
           }
          },
          "colorscale": {
           "diverging": [
            [
             0,
             "#8e0152"
            ],
            [
             0.1,
             "#c51b7d"
            ],
            [
             0.2,
             "#de77ae"
            ],
            [
             0.3,
             "#f1b6da"
            ],
            [
             0.4,
             "#fde0ef"
            ],
            [
             0.5,
             "#f7f7f7"
            ],
            [
             0.6,
             "#e6f5d0"
            ],
            [
             0.7,
             "#b8e186"
            ],
            [
             0.8,
             "#7fbc41"
            ],
            [
             0.9,
             "#4d9221"
            ],
            [
             1,
             "#276419"
            ]
           ],
           "sequential": [
            [
             0,
             "#0d0887"
            ],
            [
             0.1111111111111111,
             "#46039f"
            ],
            [
             0.2222222222222222,
             "#7201a8"
            ],
            [
             0.3333333333333333,
             "#9c179e"
            ],
            [
             0.4444444444444444,
             "#bd3786"
            ],
            [
             0.5555555555555556,
             "#d8576b"
            ],
            [
             0.6666666666666666,
             "#ed7953"
            ],
            [
             0.7777777777777778,
             "#fb9f3a"
            ],
            [
             0.8888888888888888,
             "#fdca26"
            ],
            [
             1,
             "#f0f921"
            ]
           ],
           "sequentialminus": [
            [
             0,
             "#0d0887"
            ],
            [
             0.1111111111111111,
             "#46039f"
            ],
            [
             0.2222222222222222,
             "#7201a8"
            ],
            [
             0.3333333333333333,
             "#9c179e"
            ],
            [
             0.4444444444444444,
             "#bd3786"
            ],
            [
             0.5555555555555556,
             "#d8576b"
            ],
            [
             0.6666666666666666,
             "#ed7953"
            ],
            [
             0.7777777777777778,
             "#fb9f3a"
            ],
            [
             0.8888888888888888,
             "#fdca26"
            ],
            [
             1,
             "#f0f921"
            ]
           ]
          },
          "colorway": [
           "#636efa",
           "#EF553B",
           "#00cc96",
           "#ab63fa",
           "#FFA15A",
           "#19d3f3",
           "#FF6692",
           "#B6E880",
           "#FF97FF",
           "#FECB52"
          ],
          "font": {
           "color": "#2a3f5f"
          },
          "geo": {
           "bgcolor": "white",
           "lakecolor": "white",
           "landcolor": "#E5ECF6",
           "showlakes": true,
           "showland": true,
           "subunitcolor": "white"
          },
          "hoverlabel": {
           "align": "left"
          },
          "hovermode": "closest",
          "mapbox": {
           "style": "light"
          },
          "paper_bgcolor": "white",
          "plot_bgcolor": "#E5ECF6",
          "polar": {
           "angularaxis": {
            "gridcolor": "white",
            "linecolor": "white",
            "ticks": ""
           },
           "bgcolor": "#E5ECF6",
           "radialaxis": {
            "gridcolor": "white",
            "linecolor": "white",
            "ticks": ""
           }
          },
          "scene": {
           "xaxis": {
            "backgroundcolor": "#E5ECF6",
            "gridcolor": "white",
            "gridwidth": 2,
            "linecolor": "white",
            "showbackground": true,
            "ticks": "",
            "zerolinecolor": "white"
           },
           "yaxis": {
            "backgroundcolor": "#E5ECF6",
            "gridcolor": "white",
            "gridwidth": 2,
            "linecolor": "white",
            "showbackground": true,
            "ticks": "",
            "zerolinecolor": "white"
           },
           "zaxis": {
            "backgroundcolor": "#E5ECF6",
            "gridcolor": "white",
            "gridwidth": 2,
            "linecolor": "white",
            "showbackground": true,
            "ticks": "",
            "zerolinecolor": "white"
           }
          },
          "shapedefaults": {
           "line": {
            "color": "#2a3f5f"
           }
          },
          "ternary": {
           "aaxis": {
            "gridcolor": "white",
            "linecolor": "white",
            "ticks": ""
           },
           "baxis": {
            "gridcolor": "white",
            "linecolor": "white",
            "ticks": ""
           },
           "bgcolor": "#E5ECF6",
           "caxis": {
            "gridcolor": "white",
            "linecolor": "white",
            "ticks": ""
           }
          },
          "title": {
           "x": 0.05
          },
          "xaxis": {
           "automargin": true,
           "gridcolor": "white",
           "linecolor": "white",
           "ticks": "",
           "title": {
            "standoff": 15
           },
           "zerolinecolor": "white",
           "zerolinewidth": 2
          },
          "yaxis": {
           "automargin": true,
           "gridcolor": "white",
           "linecolor": "white",
           "ticks": "",
           "title": {
            "standoff": 15
           },
           "zerolinecolor": "white",
           "zerolinewidth": 2
          }
         }
        },
        "title": {
         "font": {
          "color": "#4D5663"
         }
        },
        "xaxis": {
         "autorange": true,
         "gridcolor": "#E1E5ED",
         "range": [
          -0.5,
          5.5
         ],
         "showgrid": true,
         "tickfont": {
          "color": "#4D5663"
         },
         "title": {
          "font": {
           "color": "#4D5663"
          },
          "text": ""
         },
         "type": "category",
         "zerolinecolor": "#E1E5ED"
        },
        "yaxis": {
         "autorange": true,
         "gridcolor": "#E1E5ED",
         "range": [
          0,
          156.8421052631579
         ],
         "showgrid": true,
         "tickfont": {
          "color": "#4D5663"
         },
         "title": {
          "font": {
           "color": "#4D5663"
          },
          "text": ""
         },
         "type": "linear",
         "zerolinecolor": "#E1E5ED"
        }
       }
      },
      "image/png": "[encoded data removed]",
      "text/html": [
       "<div>\n",
       "        \n",
       "        \n",
       "            <div id=\"240bf1af-038d-4e75-ab04-8f09e77ac0bf\" class=\"plotly-graph-div\" style=\"height:525px; width:100%;\"></div>\n",
       "            <script type=\"text/javascript\">\n",
       "                require([\"plotly\"], function(Plotly) {\n",
       "                    window.PLOTLYENV=window.PLOTLYENV || {};\n",
       "                    window.PLOTLYENV.BASE_URL='https://plot.ly';\n",
       "                    \n",
       "                if (document.getElementById(\"240bf1af-038d-4e75-ab04-8f09e77ac0bf\")) {\n",
       "                    Plotly.newPlot(\n",
       "                        '240bf1af-038d-4e75-ab04-8f09e77ac0bf',\n",
       "                        [{\"marker\": {\"color\": \"rgba(255, 153, 51, 0.6)\", \"line\": {\"color\": \"rgba(255, 153, 51, 1.0)\", \"width\": 1}}, \"name\": \"divers\", \"orientation\": \"v\", \"text\": \"\", \"type\": \"bar\", \"x\": [\"9.Schulstufe\", \"10.Schulstufe\", \"11.Schulstufe\", \"12.Schulstufe\", \"13.Schulstufe\", \"h\\u00f6her\"], \"y\": [\"\", \"\", \"\", \"\", \"\", 5.0]}, {\"marker\": {\"color\": \"rgba(55, 128, 191, 0.6)\", \"line\": {\"color\": \"rgba(55, 128, 191, 1.0)\", \"width\": 1}}, \"name\": \"m\\u00e4nnlich\", \"orientation\": \"v\", \"text\": \"\", \"type\": \"bar\", \"x\": [\"9.Schulstufe\", \"10.Schulstufe\", \"11.Schulstufe\", \"12.Schulstufe\", \"13.Schulstufe\", \"h\\u00f6her\"], \"y\": [91.0, 68.0, 149.0, 40.0, 12.0, 90.0]}, {\"marker\": {\"color\": \"rgba(50, 171, 96, 0.6)\", \"line\": {\"color\": \"rgba(50, 171, 96, 1.0)\", \"width\": 1}}, \"name\": \"weiblich\", \"orientation\": \"v\", \"text\": \"\", \"type\": \"bar\", \"x\": [\"9.Schulstufe\", \"10.Schulstufe\", \"11.Schulstufe\", \"12.Schulstufe\", \"13.Schulstufe\", \"h\\u00f6her\"], \"y\": [21.0, 26.0, 38.0, 31.0, 4.0, 56.0]}],\n",
       "                        {\"legend\": {\"bgcolor\": \"#F5F6F9\", \"font\": {\"color\": \"#4D5663\"}}, \"paper_bgcolor\": \"#F5F6F9\", \"plot_bgcolor\": \"#F5F6F9\", \"template\": {\"data\": {\"bar\": [{\"error_x\": {\"color\": \"#2a3f5f\"}, \"error_y\": {\"color\": \"#2a3f5f\"}, \"marker\": {\"line\": {\"color\": \"#E5ECF6\", \"width\": 0.5}}, \"type\": \"bar\"}], \"barpolar\": [{\"marker\": {\"line\": {\"color\": \"#E5ECF6\", \"width\": 0.5}}, \"type\": \"barpolar\"}], \"carpet\": [{\"aaxis\": {\"endlinecolor\": \"#2a3f5f\", \"gridcolor\": \"white\", \"linecolor\": \"white\", \"minorgridcolor\": \"white\", \"startlinecolor\": \"#2a3f5f\"}, \"baxis\": {\"endlinecolor\": \"#2a3f5f\", \"gridcolor\": \"white\", \"linecolor\": \"white\", \"minorgridcolor\": \"white\", \"startlinecolor\": \"#2a3f5f\"}, \"type\": \"carpet\"}], \"choropleth\": [{\"colorbar\": {\"outlinewidth\": 0, \"ticks\": \"\"}, \"type\": \"choropleth\"}], \"contour\": [{\"colorbar\": {\"outlinewidth\": 0, \"ticks\": \"\"}, \"colorscale\": [[0.0, \"#0d0887\"], [0.1111111111111111, \"#46039f\"], [0.2222222222222222, \"#7201a8\"], [0.3333333333333333, \"#9c179e\"], [0.4444444444444444, \"#bd3786\"], [0.5555555555555556, \"#d8576b\"], [0.6666666666666666, \"#ed7953\"], [0.7777777777777778, \"#fb9f3a\"], [0.8888888888888888, \"#fdca26\"], [1.0, \"#f0f921\"]], \"type\": \"contour\"}], \"contourcarpet\": [{\"colorbar\": {\"outlinewidth\": 0, \"ticks\": \"\"}, \"type\": \"contourcarpet\"}], \"heatmap\": [{\"colorbar\": {\"outlinewidth\": 0, \"ticks\": \"\"}, \"colorscale\": [[0.0, \"#0d0887\"], [0.1111111111111111, \"#46039f\"], [0.2222222222222222, \"#7201a8\"], [0.3333333333333333, \"#9c179e\"], [0.4444444444444444, \"#bd3786\"], [0.5555555555555556, \"#d8576b\"], [0.6666666666666666, \"#ed7953\"], [0.7777777777777778, \"#fb9f3a\"], [0.8888888888888888, \"#fdca26\"], [1.0, \"#f0f921\"]], \"type\": \"heatmap\"}], \"heatmapgl\": [{\"colorbar\": {\"outlinewidth\": 0, \"ticks\": \"\"}, \"colorscale\": [[0.0, \"#0d0887\"], [0.1111111111111111, \"#46039f\"], [0.2222222222222222, \"#7201a8\"], [0.3333333333333333, \"#9c179e\"], [0.4444444444444444, \"#bd3786\"], [0.5555555555555556, \"#d8576b\"], [0.6666666666666666, \"#ed7953\"], [0.7777777777777778, \"#fb9f3a\"], [0.8888888888888888, \"#fdca26\"], [1.0, \"#f0f921\"]], \"type\": \"heatmapgl\"}], \"histogram\": [{\"marker\": {\"colorbar\": {\"outlinewidth\": 0, \"ticks\": \"\"}}, \"type\": \"histogram\"}], \"histogram2d\": [{\"colorbar\": {\"outlinewidth\": 0, \"ticks\": \"\"}, \"colorscale\": [[0.0, \"#0d0887\"], [0.1111111111111111, \"#46039f\"], [0.2222222222222222, \"#7201a8\"], [0.3333333333333333, \"#9c179e\"], [0.4444444444444444, \"#bd3786\"], [0.5555555555555556, \"#d8576b\"], [0.6666666666666666, \"#ed7953\"], [0.7777777777777778, \"#fb9f3a\"], [0.8888888888888888, \"#fdca26\"], [1.0, \"#f0f921\"]], \"type\": \"histogram2d\"}], \"histogram2dcontour\": [{\"colorbar\": {\"outlinewidth\": 0, \"ticks\": \"\"}, \"colorscale\": [[0.0, \"#0d0887\"], [0.1111111111111111, \"#46039f\"], [0.2222222222222222, \"#7201a8\"], [0.3333333333333333, \"#9c179e\"], [0.4444444444444444, \"#bd3786\"], [0.5555555555555556, \"#d8576b\"], [0.6666666666666666, \"#ed7953\"], [0.7777777777777778, \"#fb9f3a\"], [0.8888888888888888, \"#fdca26\"], [1.0, \"#f0f921\"]], \"type\": \"histogram2dcontour\"}], \"mesh3d\": [{\"colorbar\": {\"outlinewidth\": 0, \"ticks\": \"\"}, \"type\": \"mesh3d\"}], \"parcoords\": [{\"line\": {\"colorbar\": {\"outlinewidth\": 0, \"ticks\": \"\"}}, \"type\": \"parcoords\"}], \"pie\": [{\"automargin\": true, \"type\": \"pie\"}], \"scatter\": [{\"marker\": {\"colorbar\": {\"outlinewidth\": 0, \"ticks\": \"\"}}, \"type\": \"scatter\"}], \"scatter3d\": [{\"line\": {\"colorbar\": {\"outlinewidth\": 0, \"ticks\": \"\"}}, \"marker\": {\"colorbar\": {\"outlinewidth\": 0, \"ticks\": \"\"}}, \"type\": \"scatter3d\"}], \"scattercarpet\": [{\"marker\": {\"colorbar\": {\"outlinewidth\": 0, \"ticks\": \"\"}}, \"type\": \"scattercarpet\"}], \"scattergeo\": [{\"marker\": {\"colorbar\": {\"outlinewidth\": 0, \"ticks\": \"\"}}, \"type\": \"scattergeo\"}], \"scattergl\": [{\"marker\": {\"colorbar\": {\"outlinewidth\": 0, \"ticks\": \"\"}}, \"type\": \"scattergl\"}], \"scattermapbox\": [{\"marker\": {\"colorbar\": {\"outlinewidth\": 0, \"ticks\": \"\"}}, \"type\": \"scattermapbox\"}], \"scatterpolar\": [{\"marker\": {\"colorbar\": {\"outlinewidth\": 0, \"ticks\": \"\"}}, \"type\": \"scatterpolar\"}], \"scatterpolargl\": [{\"marker\": {\"colorbar\": {\"outlinewidth\": 0, \"ticks\": \"\"}}, \"type\": \"scatterpolargl\"}], \"scatterternary\": [{\"marker\": {\"colorbar\": {\"outlinewidth\": 0, \"ticks\": \"\"}}, \"type\": \"scatterternary\"}], \"surface\": [{\"colorbar\": {\"outlinewidth\": 0, \"ticks\": \"\"}, \"colorscale\": [[0.0, \"#0d0887\"], [0.1111111111111111, \"#46039f\"], [0.2222222222222222, \"#7201a8\"], [0.3333333333333333, \"#9c179e\"], [0.4444444444444444, \"#bd3786\"], [0.5555555555555556, \"#d8576b\"], [0.6666666666666666, \"#ed7953\"], [0.7777777777777778, \"#fb9f3a\"], [0.8888888888888888, \"#fdca26\"], [1.0, \"#f0f921\"]], \"type\": \"surface\"}], \"table\": [{\"cells\": {\"fill\": {\"color\": \"#EBF0F8\"}, \"line\": {\"color\": \"white\"}}, \"header\": {\"fill\": {\"color\": \"#C8D4E3\"}, \"line\": {\"color\": \"white\"}}, \"type\": \"table\"}]}, \"layout\": {\"annotationdefaults\": {\"arrowcolor\": \"#2a3f5f\", \"arrowhead\": 0, \"arrowwidth\": 1}, \"coloraxis\": {\"colorbar\": {\"outlinewidth\": 0, \"ticks\": \"\"}}, \"colorscale\": {\"diverging\": [[0, \"#8e0152\"], [0.1, \"#c51b7d\"], [0.2, \"#de77ae\"], [0.3, \"#f1b6da\"], [0.4, \"#fde0ef\"], [0.5, \"#f7f7f7\"], [0.6, \"#e6f5d0\"], [0.7, \"#b8e186\"], [0.8, \"#7fbc41\"], [0.9, \"#4d9221\"], [1, \"#276419\"]], \"sequential\": [[0.0, \"#0d0887\"], [0.1111111111111111, \"#46039f\"], [0.2222222222222222, \"#7201a8\"], [0.3333333333333333, \"#9c179e\"], [0.4444444444444444, \"#bd3786\"], [0.5555555555555556, \"#d8576b\"], [0.6666666666666666, \"#ed7953\"], [0.7777777777777778, \"#fb9f3a\"], [0.8888888888888888, \"#fdca26\"], [1.0, \"#f0f921\"]], \"sequentialminus\": [[0.0, \"#0d0887\"], [0.1111111111111111, \"#46039f\"], [0.2222222222222222, \"#7201a8\"], [0.3333333333333333, \"#9c179e\"], [0.4444444444444444, \"#bd3786\"], [0.5555555555555556, \"#d8576b\"], [0.6666666666666666, \"#ed7953\"], [0.7777777777777778, \"#fb9f3a\"], [0.8888888888888888, \"#fdca26\"], [1.0, \"#f0f921\"]]}, \"colorway\": [\"#636efa\", \"#EF553B\", \"#00cc96\", \"#ab63fa\", \"#FFA15A\", \"#19d3f3\", \"#FF6692\", \"#B6E880\", \"#FF97FF\", \"#FECB52\"], \"font\": {\"color\": \"#2a3f5f\"}, \"geo\": {\"bgcolor\": \"white\", \"lakecolor\": \"white\", \"landcolor\": \"#E5ECF6\", \"showlakes\": true, \"showland\": true, \"subunitcolor\": \"white\"}, \"hoverlabel\": {\"align\": \"left\"}, \"hovermode\": \"closest\", \"mapbox\": {\"style\": \"light\"}, \"paper_bgcolor\": \"white\", \"plot_bgcolor\": \"#E5ECF6\", \"polar\": {\"angularaxis\": {\"gridcolor\": \"white\", \"linecolor\": \"white\", \"ticks\": \"\"}, \"bgcolor\": \"#E5ECF6\", \"radialaxis\": {\"gridcolor\": \"white\", \"linecolor\": \"white\", \"ticks\": \"\"}}, \"scene\": {\"xaxis\": {\"backgroundcolor\": \"#E5ECF6\", \"gridcolor\": \"white\", \"gridwidth\": 2, \"linecolor\": \"white\", \"showbackground\": true, \"ticks\": \"\", \"zerolinecolor\": \"white\"}, \"yaxis\": {\"backgroundcolor\": \"#E5ECF6\", \"gridcolor\": \"white\", \"gridwidth\": 2, \"linecolor\": \"white\", \"showbackground\": true, \"ticks\": \"\", \"zerolinecolor\": \"white\"}, \"zaxis\": {\"backgroundcolor\": \"#E5ECF6\", \"gridcolor\": \"white\", \"gridwidth\": 2, \"linecolor\": \"white\", \"showbackground\": true, \"ticks\": \"\", \"zerolinecolor\": \"white\"}}, \"shapedefaults\": {\"line\": {\"color\": \"#2a3f5f\"}}, \"ternary\": {\"aaxis\": {\"gridcolor\": \"white\", \"linecolor\": \"white\", \"ticks\": \"\"}, \"baxis\": {\"gridcolor\": \"white\", \"linecolor\": \"white\", \"ticks\": \"\"}, \"bgcolor\": \"#E5ECF6\", \"caxis\": {\"gridcolor\": \"white\", \"linecolor\": \"white\", \"ticks\": \"\"}}, \"title\": {\"x\": 0.05}, \"xaxis\": {\"automargin\": true, \"gridcolor\": \"white\", \"linecolor\": \"white\", \"ticks\": \"\", \"title\": {\"standoff\": 15}, \"zerolinecolor\": \"white\", \"zerolinewidth\": 2}, \"yaxis\": {\"automargin\": true, \"gridcolor\": \"white\", \"linecolor\": \"white\", \"ticks\": \"\", \"title\": {\"standoff\": 15}, \"zerolinecolor\": \"white\", \"zerolinewidth\": 2}}}, \"title\": {\"font\": {\"color\": \"#4D5663\"}}, \"xaxis\": {\"gridcolor\": \"#E1E5ED\", \"showgrid\": true, \"tickfont\": {\"color\": \"#4D5663\"}, \"title\": {\"font\": {\"color\": \"#4D5663\"}, \"text\": \"\"}, \"zerolinecolor\": \"#E1E5ED\"}, \"yaxis\": {\"gridcolor\": \"#E1E5ED\", \"showgrid\": true, \"tickfont\": {\"color\": \"#4D5663\"}, \"title\": {\"font\": {\"color\": \"#4D5663\"}, \"text\": \"\"}, \"zerolinecolor\": \"#E1E5ED\"}},\n",
       "                        {\"showLink\": true, \"linkText\": \"Export to plot.ly\", \"plotlyServerURL\": \"https://plot.ly\", \"responsive\": true}\n",
       "                    ).then(function(){\n",
       "                            \n",
       "var gd = document.getElementById('240bf1af-038d-4e75-ab04-8f09e77ac0bf');\n",
       "var x = new MutationObserver(function (mutations, observer) {{\n",
       "        var display = window.getComputedStyle(gd).display;\n",
       "        if (!display || display === 'none') {{\n",
       "            console.log([gd, 'removed!']);\n",
       "            Plotly.purge(gd);\n",
       "            observer.disconnect();\n",
       "        }}\n",
       "}});\n",
       "\n",
       "// Listen for the removal of the full notebook cells\n",
       "var notebookContainer = gd.closest('#notebook-container');\n",
       "if (notebookContainer) {{\n",
       "    x.observe(notebookContainer, {childList: true});\n",
       "}}\n",
       "\n",
       "// Listen for the clearing of the current output cell\n",
       "var outputEl = gd.closest('.output');\n",
       "if (outputEl) {{\n",
       "    x.observe(outputEl, {childList: true});\n",
       "}}\n",
       "\n",
       "                        })\n",
       "                };\n",
       "                });\n",
       "            </script>\n",
       "        </div>"
      ]
     },
     "metadata": {},
     "output_type": "display_data"
    },
    {
     "data": {
      "text/html": [
       "<div>\n",
       "<style scoped>\n",
       "    .dataframe tbody tr th:only-of-type {\n",
       "        vertical-align: middle;\n",
       "    }\n",
       "\n",
       "    .dataframe tbody tr th {\n",
       "        vertical-align: top;\n",
       "    }\n",
       "\n",
       "    .dataframe thead th {\n",
       "        text-align: right;\n",
       "    }\n",
       "</style>\n",
       "<table border=\"1\" class=\"dataframe\">\n",
       "  <thead>\n",
       "    <tr style=\"text-align: right;\">\n",
       "      <th>Geschlecht</th>\n",
       "      <th>divers</th>\n",
       "      <th>männlich</th>\n",
       "      <th>weiblich</th>\n",
       "    </tr>\n",
       "    <tr>\n",
       "      <th>Schulstufe</th>\n",
       "      <th></th>\n",
       "      <th></th>\n",
       "      <th></th>\n",
       "    </tr>\n",
       "  </thead>\n",
       "  <tbody>\n",
       "    <tr>\n",
       "      <th>9.Schulstufe</th>\n",
       "      <td>NaN</td>\n",
       "      <td>91.0</td>\n",
       "      <td>21.0</td>\n",
       "    </tr>\n",
       "    <tr>\n",
       "      <th>10.Schulstufe</th>\n",
       "      <td>NaN</td>\n",
       "      <td>68.0</td>\n",
       "      <td>26.0</td>\n",
       "    </tr>\n",
       "    <tr>\n",
       "      <th>11.Schulstufe</th>\n",
       "      <td>NaN</td>\n",
       "      <td>149.0</td>\n",
       "      <td>38.0</td>\n",
       "    </tr>\n",
       "    <tr>\n",
       "      <th>12.Schulstufe</th>\n",
       "      <td>NaN</td>\n",
       "      <td>40.0</td>\n",
       "      <td>31.0</td>\n",
       "    </tr>\n",
       "    <tr>\n",
       "      <th>13.Schulstufe</th>\n",
       "      <td>NaN</td>\n",
       "      <td>12.0</td>\n",
       "      <td>4.0</td>\n",
       "    </tr>\n",
       "    <tr>\n",
       "      <th>höher</th>\n",
       "      <td>5.0</td>\n",
       "      <td>90.0</td>\n",
       "      <td>56.0</td>\n",
       "    </tr>\n",
       "  </tbody>\n",
       "</table>\n",
       "</div>"
      ],
      "text/plain": [
       "Geschlecht     divers  männlich  weiblich\n",
       "Schulstufe                               \n",
       "9.Schulstufe      NaN      91.0      21.0\n",
       "10.Schulstufe     NaN      68.0      26.0\n",
       "11.Schulstufe     NaN     149.0      38.0\n",
       "12.Schulstufe     NaN      40.0      31.0\n",
       "13.Schulstufe     NaN      12.0       4.0\n",
       "höher             5.0      90.0      56.0"
      ]
     },
     "execution_count": 122,
     "metadata": {},
     "output_type": "execute_result"
    }
   ],
   "source": [
    "d=df[[\"Schulstufe\", \"Geschlecht\", \"ID\"]]\n",
    "d=d.groupby([\"Schulstufe\", \"Geschlecht\"]).count().unstack()\n",
    "d=d.ID\n",
    "#d.reset_index(inplace=True)\n",
    "d=d.rename(index={\"9\": \"9.Schulstufe\", \"10\":\"10.Schulstufe\", \"11\":\"11.Schulstufe\", \"12\":\"12.Schulstufe\", \"13\":\"13.Schulstufe\", \">13\":\"höher\"})\n",
    "d=d.reindex(index=[\"9.Schulstufe\", \"10.Schulstufe\", \"11.Schulstufe\", \"12.Schulstufe\", \"13.Schulstufe\", \"höher\"])\n",
    "#d.set_index(\"Schulstufe\", inplace=True)\n",
    "d.iplot(kind='bar')\n",
    "d"
   ]
  },
  {
   "cell_type": "code",
   "execution_count": null,
   "metadata": {},
   "outputs": [],
   "source": []
  }
 ],
 "metadata": {
  "kernelspec": {
   "display_name": "Python 3",
   "language": "python",
   "name": "python3"
  },
  "language_info": {
   "codemirror_mode": {
    "name": "ipython",
    "version": 3
   },
   "file_extension": ".py",
   "mimetype": "text/x-python",
   "name": "python",
   "nbconvert_exporter": "python",
   "pygments_lexer": "ipython3",
   "version": "3.8.5"
  }
 },
 "nbformat": 4,
 "nbformat_minor": 4
}
