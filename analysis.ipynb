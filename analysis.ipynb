{
 "cells": [
  {
   "cell_type": "code",
   "execution_count": 1,
   "metadata": {},
   "outputs": [
    {
     "data": {
      "text/html": [
       "        <script type=\"text/javascript\">\n",
       "        window.PlotlyConfig = {MathJaxConfig: 'local'};\n",
       "        if (window.MathJax) {MathJax.Hub.Config({SVG: {font: \"STIX-Web\"}});}\n",
       "        if (typeof require !== 'undefined') {\n",
       "        require.undef(\"plotly\");\n",
       "        requirejs.config({\n",
       "            paths: {\n",
       "                'plotly': ['https://cdn.plot.ly/plotly-latest.min']\n",
       "            }\n",
       "        });\n",
       "        require(['plotly'], function(Plotly) {\n",
       "            window._Plotly = Plotly;\n",
       "        });\n",
       "        }\n",
       "        </script>\n",
       "        "
      ]
     },
     "metadata": {},
     "output_type": "display_data"
    },
    {
     "data": {
      "text/html": [
       "        <script type=\"text/javascript\">\n",
       "        window.PlotlyConfig = {MathJaxConfig: 'local'};\n",
       "        if (window.MathJax) {MathJax.Hub.Config({SVG: {font: \"STIX-Web\"}});}\n",
       "        if (typeof require !== 'undefined') {\n",
       "        require.undef(\"plotly\");\n",
       "        requirejs.config({\n",
       "            paths: {\n",
       "                'plotly': ['https://cdn.plot.ly/plotly-latest.min']\n",
       "            }\n",
       "        });\n",
       "        require(['plotly'], function(Plotly) {\n",
       "            window._Plotly = Plotly;\n",
       "        });\n",
       "        }\n",
       "        </script>\n",
       "        "
      ]
     },
     "metadata": {},
     "output_type": "display_data"
    },
    {
     "data": {
      "application/javascript": [
       "\n",
       "(function(root) {\n",
       "  function now() {\n",
       "    return new Date();\n",
       "  }\n",
       "\n",
       "  var force = true;\n",
       "\n",
       "  if (typeof root._bokeh_onload_callbacks === \"undefined\" || force === true) {\n",
       "    root._bokeh_onload_callbacks = [];\n",
       "    root._bokeh_is_loading = undefined;\n",
       "  }\n",
       "\n",
       "  var JS_MIME_TYPE = 'application/javascript';\n",
       "  var HTML_MIME_TYPE = 'text/html';\n",
       "  var EXEC_MIME_TYPE = 'application/vnd.bokehjs_exec.v0+json';\n",
       "  var CLASS_NAME = 'output_bokeh rendered_html';\n",
       "\n",
       "  /**\n",
       "   * Render data to the DOM node\n",
       "   */\n",
       "  function render(props, node) {\n",
       "    var script = document.createElement(\"script\");\n",
       "    node.appendChild(script);\n",
       "  }\n",
       "\n",
       "  /**\n",
       "   * Handle when an output is cleared or removed\n",
       "   */\n",
       "  function handleClearOutput(event, handle) {\n",
       "    var cell = handle.cell;\n",
       "\n",
       "    var id = cell.output_area._bokeh_element_id;\n",
       "    var server_id = cell.output_area._bokeh_server_id;\n",
       "    // Clean up Bokeh references\n",
       "    if (id != null && id in Bokeh.index) {\n",
       "      Bokeh.index[id].model.document.clear();\n",
       "      delete Bokeh.index[id];\n",
       "    }\n",
       "\n",
       "    if (server_id !== undefined) {\n",
       "      // Clean up Bokeh references\n",
       "      var cmd = \"from bokeh.io.state import curstate; print(curstate().uuid_to_server['\" + server_id + \"'].get_sessions()[0].document.roots[0]._id)\";\n",
       "      cell.notebook.kernel.execute(cmd, {\n",
       "        iopub: {\n",
       "          output: function(msg) {\n",
       "            var id = msg.content.text.trim();\n",
       "            if (id in Bokeh.index) {\n",
       "              Bokeh.index[id].model.document.clear();\n",
       "              delete Bokeh.index[id];\n",
       "            }\n",
       "          }\n",
       "        }\n",
       "      });\n",
       "      // Destroy server and session\n",
       "      var cmd = \"import bokeh.io.notebook as ion; ion.destroy_server('\" + server_id + \"')\";\n",
       "      cell.notebook.kernel.execute(cmd);\n",
       "    }\n",
       "  }\n",
       "\n",
       "  /**\n",
       "   * Handle when a new output is added\n",
       "   */\n",
       "  function handleAddOutput(event, handle) {\n",
       "    var output_area = handle.output_area;\n",
       "    var output = handle.output;\n",
       "\n",
       "    // limit handleAddOutput to display_data with EXEC_MIME_TYPE content only\n",
       "    if ((output.output_type != \"display_data\") || (!output.data.hasOwnProperty(EXEC_MIME_TYPE))) {\n",
       "      return\n",
       "    }\n",
       "\n",
       "    var toinsert = output_area.element.find(\".\" + CLASS_NAME.split(' ')[0]);\n",
       "\n",
       "    if (output.metadata[EXEC_MIME_TYPE][\"id\"] !== undefined) {\n",
       "      toinsert[toinsert.length - 1].firstChild.textContent = output.data[JS_MIME_TYPE];\n",
       "      // store reference to embed id on output_area\n",
       "      output_area._bokeh_element_id = output.metadata[EXEC_MIME_TYPE][\"id\"];\n",
       "    }\n",
       "    if (output.metadata[EXEC_MIME_TYPE][\"server_id\"] !== undefined) {\n",
       "      var bk_div = document.createElement(\"div\");\n",
       "      bk_div.innerHTML = output.data[HTML_MIME_TYPE];\n",
       "      var script_attrs = bk_div.children[0].attributes;\n",
       "      for (var i = 0; i < script_attrs.length; i++) {\n",
       "        toinsert[toinsert.length - 1].firstChild.setAttribute(script_attrs[i].name, script_attrs[i].value);\n",
       "        toinsert[toinsert.length - 1].firstChild.textContent = bk_div.children[0].textContent\n",
       "      }\n",
       "      // store reference to server id on output_area\n",
       "      output_area._bokeh_server_id = output.metadata[EXEC_MIME_TYPE][\"server_id\"];\n",
       "    }\n",
       "  }\n",
       "\n",
       "  function register_renderer(events, OutputArea) {\n",
       "\n",
       "    function append_mime(data, metadata, element) {\n",
       "      // create a DOM node to render to\n",
       "      var toinsert = this.create_output_subarea(\n",
       "        metadata,\n",
       "        CLASS_NAME,\n",
       "        EXEC_MIME_TYPE\n",
       "      );\n",
       "      this.keyboard_manager.register_events(toinsert);\n",
       "      // Render to node\n",
       "      var props = {data: data, metadata: metadata[EXEC_MIME_TYPE]};\n",
       "      render(props, toinsert[toinsert.length - 1]);\n",
       "      element.append(toinsert);\n",
       "      return toinsert\n",
       "    }\n",
       "\n",
       "    /* Handle when an output is cleared or removed */\n",
       "    events.on('clear_output.CodeCell', handleClearOutput);\n",
       "    events.on('delete.Cell', handleClearOutput);\n",
       "\n",
       "    /* Handle when a new output is added */\n",
       "    events.on('output_added.OutputArea', handleAddOutput);\n",
       "\n",
       "    /**\n",
       "     * Register the mime type and append_mime function with output_area\n",
       "     */\n",
       "    OutputArea.prototype.register_mime_type(EXEC_MIME_TYPE, append_mime, {\n",
       "      /* Is output safe? */\n",
       "      safe: true,\n",
       "      /* Index of renderer in `output_area.display_order` */\n",
       "      index: 0\n",
       "    });\n",
       "  }\n",
       "\n",
       "  // register the mime type if in Jupyter Notebook environment and previously unregistered\n",
       "  if (root.Jupyter !== undefined) {\n",
       "    var events = require('base/js/events');\n",
       "    var OutputArea = require('notebook/js/outputarea').OutputArea;\n",
       "\n",
       "    if (OutputArea.prototype.mime_types().indexOf(EXEC_MIME_TYPE) == -1) {\n",
       "      register_renderer(events, OutputArea);\n",
       "    }\n",
       "  }\n",
       "\n",
       "  \n",
       "  if (typeof (root._bokeh_timeout) === \"undefined\" || force === true) {\n",
       "    root._bokeh_timeout = Date.now() + 5000;\n",
       "    root._bokeh_failed_load = false;\n",
       "  }\n",
       "\n",
       "  var NB_LOAD_WARNING = {'data': {'text/html':\n",
       "     \"<div style='background-color: #fdd'>\\n\"+\n",
       "     \"<p>\\n\"+\n",
       "     \"BokehJS does not appear to have successfully loaded. If loading BokehJS from CDN, this \\n\"+\n",
       "     \"may be due to a slow or bad network connection. Possible fixes:\\n\"+\n",
       "     \"</p>\\n\"+\n",
       "     \"<ul>\\n\"+\n",
       "     \"<li>re-rerun `output_notebook()` to attempt to load from CDN again, or</li>\\n\"+\n",
       "     \"<li>use INLINE resources instead, as so:</li>\\n\"+\n",
       "     \"</ul>\\n\"+\n",
       "     \"<code>\\n\"+\n",
       "     \"from bokeh.resources import INLINE\\n\"+\n",
       "     \"output_notebook(resources=INLINE)\\n\"+\n",
       "     \"</code>\\n\"+\n",
       "     \"</div>\"}};\n",
       "\n",
       "  function display_loaded() {\n",
       "    var el = document.getElementById(null);\n",
       "    if (el != null) {\n",
       "      el.textContent = \"BokehJS is loading...\";\n",
       "    }\n",
       "    if (root.Bokeh !== undefined) {\n",
       "      if (el != null) {\n",
       "        el.textContent = \"BokehJS \" + root.Bokeh.version + \" successfully loaded.\";\n",
       "      }\n",
       "    } else if (Date.now() < root._bokeh_timeout) {\n",
       "      setTimeout(display_loaded, 100)\n",
       "    }\n",
       "  }\n",
       "\n",
       "\n",
       "  function run_callbacks() {\n",
       "    try {\n",
       "      root._bokeh_onload_callbacks.forEach(function(callback) {\n",
       "        if (callback != null)\n",
       "          callback();\n",
       "      });\n",
       "    } finally {\n",
       "      delete root._bokeh_onload_callbacks\n",
       "    }\n",
       "    console.debug(\"Bokeh: all callbacks have finished\");\n",
       "  }\n",
       "\n",
       "  function load_libs(css_urls, js_urls, callback) {\n",
       "    if (css_urls == null) css_urls = [];\n",
       "    if (js_urls == null) js_urls = [];\n",
       "\n",
       "    root._bokeh_onload_callbacks.push(callback);\n",
       "    if (root._bokeh_is_loading > 0) {\n",
       "      console.debug(\"Bokeh: BokehJS is being loaded, scheduling callback at\", now());\n",
       "      return null;\n",
       "    }\n",
       "    if (js_urls == null || js_urls.length === 0) {\n",
       "      run_callbacks();\n",
       "      return null;\n",
       "    }\n",
       "    console.debug(\"Bokeh: BokehJS not loaded, scheduling load and callback at\", now());\n",
       "    root._bokeh_is_loading = css_urls.length + js_urls.length;\n",
       "\n",
       "    function on_load() {\n",
       "      root._bokeh_is_loading--;\n",
       "      if (root._bokeh_is_loading === 0) {\n",
       "        console.debug(\"Bokeh: all BokehJS libraries/stylesheets loaded\");\n",
       "        run_callbacks()\n",
       "      }\n",
       "    }\n",
       "\n",
       "    function on_error() {\n",
       "      console.error(\"failed to load \" + url);\n",
       "    }\n",
       "\n",
       "    for (var i = 0; i < css_urls.length; i++) {\n",
       "      var url = css_urls[i];\n",
       "      const element = document.createElement(\"link\");\n",
       "      element.onload = on_load;\n",
       "      element.onerror = on_error;\n",
       "      element.rel = \"stylesheet\";\n",
       "      element.type = \"text/css\";\n",
       "      element.href = url;\n",
       "      console.debug(\"Bokeh: injecting link tag for BokehJS stylesheet: \", url);\n",
       "      document.body.appendChild(element);\n",
       "    }\n",
       "\n",
       "    const hashes = {\"https://cdn.bokeh.org/bokeh/release/bokeh-2.0.2.min.js\": \"ufR9RFnRs6lniiaFvtJziE0YeidtAgBRH6ux2oUItHw5WTvE1zuk9uzhUU/FJXDp\", \"https://cdn.bokeh.org/bokeh/release/bokeh-widgets-2.0.2.min.js\": \"8QM/PGWBT+IssZuRcDcjzwIh1mkOmJSoNMmyYDZbCfXJg3Ap1lEvdVgFuSAwhb/J\", \"https://cdn.bokeh.org/bokeh/release/bokeh-tables-2.0.2.min.js\": \"Jm8cH3Rg0P6UeZhVY5cLy1WzKajUT9KImCY+76hEqrcJt59/d8GPvFHjCkYgnSIn\", \"https://cdn.bokeh.org/bokeh/release/bokeh-gl-2.0.2.min.js\": \"Ozhzj+SI7ywm74aOI/UajcWz+C0NjsPunEVyVIrxzYkB+jA+2tUw8x5xJCbVtK5I\"};\n",
       "\n",
       "    for (var i = 0; i < js_urls.length; i++) {\n",
       "      var url = js_urls[i];\n",
       "      var element = document.createElement('script');\n",
       "      element.onload = on_load;\n",
       "      element.onerror = on_error;\n",
       "      element.async = false;\n",
       "      element.src = url;\n",
       "      if (url in hashes) {\n",
       "        element.crossOrigin = \"anonymous\";\n",
       "        element.integrity = \"sha384-\" + hashes[url];\n",
       "      }\n",
       "      console.debug(\"Bokeh: injecting script tag for BokehJS library: \", url);\n",
       "      document.head.appendChild(element);\n",
       "    }\n",
       "  };\n",
       "\n",
       "  function inject_raw_css(css) {\n",
       "    const element = document.createElement(\"style\");\n",
       "    element.appendChild(document.createTextNode(css));\n",
       "    document.body.appendChild(element);\n",
       "  }\n",
       "\n",
       "  \n",
       "  var js_urls = [\"https://cdn.bokeh.org/bokeh/release/bokeh-2.0.2.min.js\", \"https://cdn.bokeh.org/bokeh/release/bokeh-widgets-2.0.2.min.js\", \"https://cdn.bokeh.org/bokeh/release/bokeh-tables-2.0.2.min.js\", \"https://cdn.bokeh.org/bokeh/release/bokeh-gl-2.0.2.min.js\"];\n",
       "  var css_urls = [];\n",
       "  \n",
       "\n",
       "  var inline_js = [\n",
       "    function(Bokeh) {\n",
       "      Bokeh.set_log_level(\"info\");\n",
       "    },\n",
       "    function(Bokeh) {\n",
       "    \n",
       "    \n",
       "    }\n",
       "  ];\n",
       "\n",
       "  function run_inline_js() {\n",
       "    \n",
       "    if (root.Bokeh !== undefined || force === true) {\n",
       "      \n",
       "    for (var i = 0; i < inline_js.length; i++) {\n",
       "      inline_js[i].call(root, root.Bokeh);\n",
       "    }\n",
       "    } else if (Date.now() < root._bokeh_timeout) {\n",
       "      setTimeout(run_inline_js, 100);\n",
       "    } else if (!root._bokeh_failed_load) {\n",
       "      console.log(\"Bokeh: BokehJS failed to load within specified timeout.\");\n",
       "      root._bokeh_failed_load = true;\n",
       "    } else if (force !== true) {\n",
       "      var cell = $(document.getElementById(null)).parents('.cell').data().cell;\n",
       "      cell.output_area.append_execute_result(NB_LOAD_WARNING)\n",
       "    }\n",
       "\n",
       "  }\n",
       "\n",
       "  if (root._bokeh_is_loading === 0) {\n",
       "    console.debug(\"Bokeh: BokehJS loaded, going straight to plotting\");\n",
       "    run_inline_js();\n",
       "  } else {\n",
       "    load_libs(css_urls, js_urls, function() {\n",
       "      console.debug(\"Bokeh: BokehJS plotting callback run at\", now());\n",
       "      run_inline_js();\n",
       "    });\n",
       "  }\n",
       "}(window));"
      ],
      "application/vnd.bokehjs_load.v0+json": "\n(function(root) {\n  function now() {\n    return new Date();\n  }\n\n  var force = true;\n\n  if (typeof root._bokeh_onload_callbacks === \"undefined\" || force === true) {\n    root._bokeh_onload_callbacks = [];\n    root._bokeh_is_loading = undefined;\n  }\n\n  \n\n  \n  if (typeof (root._bokeh_timeout) === \"undefined\" || force === true) {\n    root._bokeh_timeout = Date.now() + 5000;\n    root._bokeh_failed_load = false;\n  }\n\n  var NB_LOAD_WARNING = {'data': {'text/html':\n     \"<div style='background-color: #fdd'>\\n\"+\n     \"<p>\\n\"+\n     \"BokehJS does not appear to have successfully loaded. If loading BokehJS from CDN, this \\n\"+\n     \"may be due to a slow or bad network connection. Possible fixes:\\n\"+\n     \"</p>\\n\"+\n     \"<ul>\\n\"+\n     \"<li>re-rerun `output_notebook()` to attempt to load from CDN again, or</li>\\n\"+\n     \"<li>use INLINE resources instead, as so:</li>\\n\"+\n     \"</ul>\\n\"+\n     \"<code>\\n\"+\n     \"from bokeh.resources import INLINE\\n\"+\n     \"output_notebook(resources=INLINE)\\n\"+\n     \"</code>\\n\"+\n     \"</div>\"}};\n\n  function display_loaded() {\n    var el = document.getElementById(null);\n    if (el != null) {\n      el.textContent = \"BokehJS is loading...\";\n    }\n    if (root.Bokeh !== undefined) {\n      if (el != null) {\n        el.textContent = \"BokehJS \" + root.Bokeh.version + \" successfully loaded.\";\n      }\n    } else if (Date.now() < root._bokeh_timeout) {\n      setTimeout(display_loaded, 100)\n    }\n  }\n\n\n  function run_callbacks() {\n    try {\n      root._bokeh_onload_callbacks.forEach(function(callback) {\n        if (callback != null)\n          callback();\n      });\n    } finally {\n      delete root._bokeh_onload_callbacks\n    }\n    console.debug(\"Bokeh: all callbacks have finished\");\n  }\n\n  function load_libs(css_urls, js_urls, callback) {\n    if (css_urls == null) css_urls = [];\n    if (js_urls == null) js_urls = [];\n\n    root._bokeh_onload_callbacks.push(callback);\n    if (root._bokeh_is_loading > 0) {\n      console.debug(\"Bokeh: BokehJS is being loaded, scheduling callback at\", now());\n      return null;\n    }\n    if (js_urls == null || js_urls.length === 0) {\n      run_callbacks();\n      return null;\n    }\n    console.debug(\"Bokeh: BokehJS not loaded, scheduling load and callback at\", now());\n    root._bokeh_is_loading = css_urls.length + js_urls.length;\n\n    function on_load() {\n      root._bokeh_is_loading--;\n      if (root._bokeh_is_loading === 0) {\n        console.debug(\"Bokeh: all BokehJS libraries/stylesheets loaded\");\n        run_callbacks()\n      }\n    }\n\n    function on_error() {\n      console.error(\"failed to load \" + url);\n    }\n\n    for (var i = 0; i < css_urls.length; i++) {\n      var url = css_urls[i];\n      const element = document.createElement(\"link\");\n      element.onload = on_load;\n      element.onerror = on_error;\n      element.rel = \"stylesheet\";\n      element.type = \"text/css\";\n      element.href = url;\n      console.debug(\"Bokeh: injecting link tag for BokehJS stylesheet: \", url);\n      document.body.appendChild(element);\n    }\n\n    const hashes = {\"https://cdn.bokeh.org/bokeh/release/bokeh-2.0.2.min.js\": \"ufR9RFnRs6lniiaFvtJziE0YeidtAgBRH6ux2oUItHw5WTvE1zuk9uzhUU/FJXDp\", \"https://cdn.bokeh.org/bokeh/release/bokeh-widgets-2.0.2.min.js\": \"8QM/PGWBT+IssZuRcDcjzwIh1mkOmJSoNMmyYDZbCfXJg3Ap1lEvdVgFuSAwhb/J\", \"https://cdn.bokeh.org/bokeh/release/bokeh-tables-2.0.2.min.js\": \"Jm8cH3Rg0P6UeZhVY5cLy1WzKajUT9KImCY+76hEqrcJt59/d8GPvFHjCkYgnSIn\", \"https://cdn.bokeh.org/bokeh/release/bokeh-gl-2.0.2.min.js\": \"Ozhzj+SI7ywm74aOI/UajcWz+C0NjsPunEVyVIrxzYkB+jA+2tUw8x5xJCbVtK5I\"};\n\n    for (var i = 0; i < js_urls.length; i++) {\n      var url = js_urls[i];\n      var element = document.createElement('script');\n      element.onload = on_load;\n      element.onerror = on_error;\n      element.async = false;\n      element.src = url;\n      if (url in hashes) {\n        element.crossOrigin = \"anonymous\";\n        element.integrity = \"sha384-\" + hashes[url];\n      }\n      console.debug(\"Bokeh: injecting script tag for BokehJS library: \", url);\n      document.head.appendChild(element);\n    }\n  };\n\n  function inject_raw_css(css) {\n    const element = document.createElement(\"style\");\n    element.appendChild(document.createTextNode(css));\n    document.body.appendChild(element);\n  }\n\n  \n  var js_urls = [\"https://cdn.bokeh.org/bokeh/release/bokeh-2.0.2.min.js\", \"https://cdn.bokeh.org/bokeh/release/bokeh-widgets-2.0.2.min.js\", \"https://cdn.bokeh.org/bokeh/release/bokeh-tables-2.0.2.min.js\", \"https://cdn.bokeh.org/bokeh/release/bokeh-gl-2.0.2.min.js\"];\n  var css_urls = [];\n  \n\n  var inline_js = [\n    function(Bokeh) {\n      Bokeh.set_log_level(\"info\");\n    },\n    function(Bokeh) {\n    \n    \n    }\n  ];\n\n  function run_inline_js() {\n    \n    if (root.Bokeh !== undefined || force === true) {\n      \n    for (var i = 0; i < inline_js.length; i++) {\n      inline_js[i].call(root, root.Bokeh);\n    }\n    } else if (Date.now() < root._bokeh_timeout) {\n      setTimeout(run_inline_js, 100);\n    } else if (!root._bokeh_failed_load) {\n      console.log(\"Bokeh: BokehJS failed to load within specified timeout.\");\n      root._bokeh_failed_load = true;\n    } else if (force !== true) {\n      var cell = $(document.getElementById(null)).parents('.cell').data().cell;\n      cell.output_area.append_execute_result(NB_LOAD_WARNING)\n    }\n\n  }\n\n  if (root._bokeh_is_loading === 0) {\n    console.debug(\"Bokeh: BokehJS loaded, going straight to plotting\");\n    run_inline_js();\n  } else {\n    load_libs(css_urls, js_urls, function() {\n      console.debug(\"Bokeh: BokehJS plotting callback run at\", now());\n      run_inline_js();\n    });\n  }\n}(window));"
     },
     "metadata": {},
     "output_type": "display_data"
    }
   ],
   "source": [
    "import numpy as np\n",
    "import pandas as pd\n",
    "import cufflinks as cf\n",
    "import plotly\n",
    "from plotly.offline import iplot, init_notebook_mode\n",
    "cf.go_offline(connected=True)\n",
    "init_notebook_mode(connected=True)\n",
    "from ipywidgets import interact, interact_manual\n",
    "from dataprep.eda import plot\n",
    "import datetime\n",
    "import ipywidgets as widgets\n",
    "from tqdm import tqdm\n",
    "import plotly.express as px"
   ]
  },
  {
   "cell_type": "code",
   "execution_count": 2,
   "metadata": {},
   "outputs": [],
   "source": [
    "df = pd.read_csv(\"motivation.csv\").drop([\"Unnamed: 0\"], axis=1)"
   ]
  },
  {
   "cell_type": "code",
   "execution_count": 3,
   "metadata": {},
   "outputs": [
    {
     "data": {
      "text/html": [
       "<div>\n",
       "<style scoped>\n",
       "    .dataframe tbody tr th:only-of-type {\n",
       "        vertical-align: middle;\n",
       "    }\n",
       "\n",
       "    .dataframe tbody tr th {\n",
       "        vertical-align: top;\n",
       "    }\n",
       "\n",
       "    .dataframe thead th {\n",
       "        text-align: right;\n",
       "    }\n",
       "</style>\n",
       "<table border=\"1\" class=\"dataframe\">\n",
       "  <thead>\n",
       "    <tr style=\"text-align: right;\">\n",
       "      <th></th>\n",
       "      <th>index</th>\n",
       "      <th>ID</th>\n",
       "      <th>Ich finde Onlineunterricht (alle Schüler/innen/Studierende sind zuhause) im Allgemeinen genauso gut wie normalen Unterricht (Präsenzunterricht). 5 Sterne = trifft voll zu</th>\n",
       "      <th>Gib an, wie gut deine Bedingungen zum Onlinelernen zuhause sind (Computer, Internet, angenehmer Arbeitsplatz). 5 Sterne = sehr gut</th>\n",
       "      <th>Ich nehme am Onlineunterricht normalerweise über einen Laptop von zuhause aus teil. (5 trifft voll zu)</th>\n",
       "      <th>Gib an, ob der Onlineunterricht für dich im Allgemeinen anstrengender ist als Präsenzunterricht (5 Sterne = trifft voll zu)</th>\n",
       "      <th>Gib an, ob die Arbeitsbelastung für die Schule durch den Onlineunterricht im Allgemeinen  zunimmt (5 Sterne = sehr stark)</th>\n",
       "      <th>Hast du den Eindruck, dass  ältere Lehrkräfte (&gt;35 Jahre) im Allgemeinen schlechter mit der Gestaltung des  Onlineunterrichts zurecht kommen tun als jüngere Lehrkräfte? (5 Sterne= trifft voll zu)</th>\n",
       "      <th>Ich fände es gut, wenn auch in Zukunft ein Teil des Unterrichts online stattfindet (5 Sterne = trifft voll zu)</th>\n",
       "    </tr>\n",
       "  </thead>\n",
       "  <tbody>\n",
       "    <tr>\n",
       "      <th>count</th>\n",
       "      <td>640.000000</td>\n",
       "      <td>640.000000</td>\n",
       "      <td>637.000000</td>\n",
       "      <td>637.000000</td>\n",
       "      <td>638.000000</td>\n",
       "      <td>639.000000</td>\n",
       "      <td>633.000000</td>\n",
       "      <td>629.000000</td>\n",
       "      <td>621.000000</td>\n",
       "    </tr>\n",
       "    <tr>\n",
       "      <th>mean</th>\n",
       "      <td>22.542188</td>\n",
       "      <td>22.846875</td>\n",
       "      <td>3.015699</td>\n",
       "      <td>4.095761</td>\n",
       "      <td>4.355799</td>\n",
       "      <td>3.189358</td>\n",
       "      <td>3.475513</td>\n",
       "      <td>2.823529</td>\n",
       "      <td>3.191626</td>\n",
       "    </tr>\n",
       "    <tr>\n",
       "      <th>std</th>\n",
       "      <td>17.648226</td>\n",
       "      <td>17.846283</td>\n",
       "      <td>1.312640</td>\n",
       "      <td>1.025737</td>\n",
       "      <td>1.231605</td>\n",
       "      <td>1.335603</td>\n",
       "      <td>1.212977</td>\n",
       "      <td>1.269066</td>\n",
       "      <td>1.586331</td>\n",
       "    </tr>\n",
       "    <tr>\n",
       "      <th>min</th>\n",
       "      <td>0.000000</td>\n",
       "      <td>1.000000</td>\n",
       "      <td>1.000000</td>\n",
       "      <td>1.000000</td>\n",
       "      <td>1.000000</td>\n",
       "      <td>1.000000</td>\n",
       "      <td>1.000000</td>\n",
       "      <td>1.000000</td>\n",
       "      <td>1.000000</td>\n",
       "    </tr>\n",
       "    <tr>\n",
       "      <th>25%</th>\n",
       "      <td>8.000000</td>\n",
       "      <td>8.000000</td>\n",
       "      <td>2.000000</td>\n",
       "      <td>3.000000</td>\n",
       "      <td>4.000000</td>\n",
       "      <td>2.000000</td>\n",
       "      <td>3.000000</td>\n",
       "      <td>2.000000</td>\n",
       "      <td>2.000000</td>\n",
       "    </tr>\n",
       "    <tr>\n",
       "      <th>50%</th>\n",
       "      <td>19.000000</td>\n",
       "      <td>18.000000</td>\n",
       "      <td>3.000000</td>\n",
       "      <td>4.000000</td>\n",
       "      <td>5.000000</td>\n",
       "      <td>3.000000</td>\n",
       "      <td>4.000000</td>\n",
       "      <td>3.000000</td>\n",
       "      <td>3.000000</td>\n",
       "    </tr>\n",
       "    <tr>\n",
       "      <th>75%</th>\n",
       "      <td>33.250000</td>\n",
       "      <td>34.000000</td>\n",
       "      <td>4.000000</td>\n",
       "      <td>5.000000</td>\n",
       "      <td>5.000000</td>\n",
       "      <td>4.000000</td>\n",
       "      <td>4.000000</td>\n",
       "      <td>4.000000</td>\n",
       "      <td>5.000000</td>\n",
       "    </tr>\n",
       "    <tr>\n",
       "      <th>max</th>\n",
       "      <td>80.000000</td>\n",
       "      <td>81.000000</td>\n",
       "      <td>5.000000</td>\n",
       "      <td>5.000000</td>\n",
       "      <td>5.000000</td>\n",
       "      <td>5.000000</td>\n",
       "      <td>5.000000</td>\n",
       "      <td>5.000000</td>\n",
       "      <td>5.000000</td>\n",
       "    </tr>\n",
       "  </tbody>\n",
       "</table>\n",
       "</div>"
      ],
      "text/plain": [
       "            index          ID  \\\n",
       "count  640.000000  640.000000   \n",
       "mean    22.542188   22.846875   \n",
       "std     17.648226   17.846283   \n",
       "min      0.000000    1.000000   \n",
       "25%      8.000000    8.000000   \n",
       "50%     19.000000   18.000000   \n",
       "75%     33.250000   34.000000   \n",
       "max     80.000000   81.000000   \n",
       "\n",
       "       Ich finde Onlineunterricht (alle Schüler/innen/Studierende sind zuhause) im Allgemeinen genauso gut wie normalen Unterricht (Präsenzunterricht). 5 Sterne = trifft voll zu  \\\n",
       "count                                         637.000000                                                                                                                            \n",
       "mean                                            3.015699                                                                                                                            \n",
       "std                                             1.312640                                                                                                                            \n",
       "min                                             1.000000                                                                                                                            \n",
       "25%                                             2.000000                                                                                                                            \n",
       "50%                                             3.000000                                                                                                                            \n",
       "75%                                             4.000000                                                                                                                            \n",
       "max                                             5.000000                                                                                                                            \n",
       "\n",
       "       Gib an, wie gut deine Bedingungen zum Onlinelernen zuhause sind (Computer, Internet, angenehmer Arbeitsplatz). 5 Sterne = sehr gut  \\\n",
       "count                                         637.000000                                                                                    \n",
       "mean                                            4.095761                                                                                    \n",
       "std                                             1.025737                                                                                    \n",
       "min                                             1.000000                                                                                    \n",
       "25%                                             3.000000                                                                                    \n",
       "50%                                             4.000000                                                                                    \n",
       "75%                                             5.000000                                                                                    \n",
       "max                                             5.000000                                                                                    \n",
       "\n",
       "       Ich nehme am Onlineunterricht normalerweise über einen Laptop von zuhause aus teil. (5 trifft voll zu)  \\\n",
       "count                                         638.000000                                                        \n",
       "mean                                            4.355799                                                        \n",
       "std                                             1.231605                                                        \n",
       "min                                             1.000000                                                        \n",
       "25%                                             4.000000                                                        \n",
       "50%                                             5.000000                                                        \n",
       "75%                                             5.000000                                                        \n",
       "max                                             5.000000                                                        \n",
       "\n",
       "       Gib an, ob der Onlineunterricht für dich im Allgemeinen anstrengender ist als Präsenzunterricht (5 Sterne = trifft voll zu)  \\\n",
       "count                                         639.000000                                                                             \n",
       "mean                                            3.189358                                                                             \n",
       "std                                             1.335603                                                                             \n",
       "min                                             1.000000                                                                             \n",
       "25%                                             2.000000                                                                             \n",
       "50%                                             3.000000                                                                             \n",
       "75%                                             4.000000                                                                             \n",
       "max                                             5.000000                                                                             \n",
       "\n",
       "       Gib an, ob die Arbeitsbelastung für die Schule durch den Onlineunterricht im Allgemeinen  zunimmt (5 Sterne = sehr stark)  \\\n",
       "count                                         633.000000                                                                           \n",
       "mean                                            3.475513                                                                           \n",
       "std                                             1.212977                                                                           \n",
       "min                                             1.000000                                                                           \n",
       "25%                                             3.000000                                                                           \n",
       "50%                                             4.000000                                                                           \n",
       "75%                                             4.000000                                                                           \n",
       "max                                             5.000000                                                                           \n",
       "\n",
       "       Hast du den Eindruck, dass  ältere Lehrkräfte (>35 Jahre) im Allgemeinen schlechter mit der Gestaltung des  Onlineunterrichts zurecht kommen tun als jüngere Lehrkräfte? (5 Sterne= trifft voll zu)  \\\n",
       "count                                         629.000000                                                                                                                                                     \n",
       "mean                                            2.823529                                                                                                                                                     \n",
       "std                                             1.269066                                                                                                                                                     \n",
       "min                                             1.000000                                                                                                                                                     \n",
       "25%                                             2.000000                                                                                                                                                     \n",
       "50%                                             3.000000                                                                                                                                                     \n",
       "75%                                             4.000000                                                                                                                                                     \n",
       "max                                             5.000000                                                                                                                                                     \n",
       "\n",
       "       Ich fände es gut, wenn auch in Zukunft ein Teil des Unterrichts online stattfindet (5 Sterne = trifft voll zu)  \n",
       "count                                         621.000000                                                               \n",
       "mean                                            3.191626                                                               \n",
       "std                                             1.586331                                                               \n",
       "min                                             1.000000                                                               \n",
       "25%                                             2.000000                                                               \n",
       "50%                                             3.000000                                                               \n",
       "75%                                             5.000000                                                               \n",
       "max                                             5.000000                                                               "
      ]
     },
     "execution_count": 3,
     "metadata": {},
     "output_type": "execute_result"
    }
   ],
   "source": [
    "df.describe()"
   ]
  },
  {
   "cell_type": "code",
   "execution_count": 4,
   "metadata": {},
   "outputs": [
    {
     "name": "stdout",
     "output_type": "stream",
     "text": [
      "<class 'pandas.core.frame.DataFrame'>\n",
      "RangeIndex: 640 entries, 0 to 639\n",
      "Data columns (total 36 columns):\n",
      " #   Column                                                                                                                                                                                               Non-Null Count  Dtype  \n",
      "---  ------                                                                                                                                                                                               --------------  -----  \n",
      " 0   index                                                                                                                                                                                                640 non-null    int64  \n",
      " 1   ID                                                                                                                                                                                                   640 non-null    int64  \n",
      " 2   Startzeit                                                                                                                                                                                            640 non-null    object \n",
      " 3   Fertigstellungszeit                                                                                                                                                                                  640 non-null    object \n",
      " 4   E-Mail                                                                                                                                                                                               640 non-null    object \n",
      " 5   Name                                                                                                                                                                                                 36 non-null     object \n",
      " 6   Schulform                                                                                                                                                                                            640 non-null    object \n",
      " 7   Alter                                                                                                                                                                                                639 non-null    object \n",
      " 8   Schulstufe (1. Jg HTL oder Fachschule = 9. Schulstufe, 4. Jg = 12. Schulstufe); für Kolleg bzw. Tageskolleg bitte >13 wählen                                                                         638 non-null    object \n",
      " 9   Geschlecht                                                                                                                                                                                           633 non-null    object \n",
      " 10  Ich finde Onlineunterricht (alle Schüler/innen/Studierende sind zuhause) im Allgemeinen genauso gut wie normalen Unterricht (Präsenzunterricht). 5 Sterne = trifft voll zu                           637 non-null    float64\n",
      " 11  Gib an, wie gut deine Bedingungen zum Onlinelernen zuhause sind (Computer, Internet, angenehmer Arbeitsplatz). 5 Sterne = sehr gut                                                                   637 non-null    float64\n",
      " 12  Ich nehme am Onlineunterricht normalerweise über einen Laptop von zuhause aus teil. (5 trifft voll zu)                                                                                               638 non-null    float64\n",
      " 13  Gib an, ob der Onlineunterricht für dich im Allgemeinen anstrengender ist als Präsenzunterricht (5 Sterne = trifft voll zu)                                                                          639 non-null    float64\n",
      " 14  Gib an, ob die Arbeitsbelastung für die Schule durch den Onlineunterricht im Allgemeinen  zunimmt (5 Sterne = sehr stark)                                                                            633 non-null    float64\n",
      " 15  dass er nicht zeitig in der Früh ist                                                                                                                                                                 638 non-null    object \n",
      " 16  dass ich zuhause Ruhe habe                                                                                                                                                                           625 non-null    object \n",
      " 17  dass oft genug eine Pause eingelegt wird                                                                                                                                                             623 non-null    object \n",
      " 18  dass der Unterricht gut strukturiert ist                                                                                                                                                             635 non-null    object \n",
      " 19  dass Onlineübungen eingebunden sind, die nicht bewertet sind, z.B. ein paar Fragen, wo man erfährt, ob sie stimmen, oder nicht, die aber nicht bewertet werden                                       629 non-null    object \n",
      " 20  dass Spiele in den Unterricht eingebunden werden                                                                                                                                                     626 non-null    object \n",
      " 21  dass es Arbeitsaufträge gibt, bei denen ich mit einem oder mehreren meiner Mitschüler/innen zusammenarbeite                                                                                          626 non-null    object \n",
      " 22  dass klar ist, welche Leistungen zu erbringen sind                                                                                                                                                   626 non-null    object \n",
      " 23  Wenn ich etwas Privates vom Lehrer/der Lehrerin mitbekomme (z.B. Kinder, Haustiere im Hintergrund etc.)                                                                                              631 non-null    object \n",
      " 24  wenn ich im Onlineunterricht namentlich angesprochen werden                                                                                                                                          627 non-null    object \n",
      " 25  wenn der Lehrer/die Lehrerin zeigt bzw. zugibt, dass sie sich irgendwo nicht auskennt                                                                                                                626 non-null    object \n",
      " 26  wenn ich im Unterricht gelobt werde                                                                                                                                                                  626 non-null    object \n",
      " 27  wenn andere im Onlineunterricht gelobt werden                                                                                                                                                        627 non-null    object \n",
      " 28  Ergänze hier Faktoren, die deine Freude am Onlineunterricht erhöhen, die bei Frage 12 nicht genannt sind.                                                                                            245 non-null    object \n",
      " 29  Kreuze an, welche Vorteile der Unterricht im Klassenzimmer gegenüber dem Onlineunterricht hat.                                                                                                       615 non-null    object \n",
      " 30  Wenn du bei Frage 14 \"Sonstige\" angekreuzt hast, gib an, was du dabei gemeint hast.                                                                                                                  126 non-null    object \n",
      " 31  Hast du den Eindruck, dass  ältere Lehrkräfte (>35 Jahre) im Allgemeinen schlechter mit der Gestaltung des  Onlineunterrichts zurecht kommen tun als jüngere Lehrkräfte? (5 Sterne= trifft voll zu)  629 non-null    float64\n",
      " 32  Ich fände es gut, wenn auch in Zukunft ein Teil des Unterrichts online stattfindet (5 Sterne = trifft voll zu)                                                                                       621 non-null    float64\n",
      " 33  Kommentare                                                                                                                                                                                           148 non-null    object \n",
      " 34  Schule                                                                                                                                                                                               582 non-null    object \n",
      " 35  Klasse                                                                                                                                                                                               451 non-null    object \n",
      "dtypes: float64(7), int64(2), object(27)\n",
      "memory usage: 180.1+ KB\n"
     ]
    }
   ],
   "source": [
    "df.info()"
   ]
  },
  {
   "cell_type": "markdown",
   "metadata": {},
   "source": [
    "Frage Symbole:\n",
    "F5-9, 16 ,17   s   Stars 1-5\n",
    "F10-12         w   wichtig 'sehr wichtig', 'wichtig', 'egal', 'nicht wichtig', 'gar nicht wichtig'\n",
    "F13, 15, Kom.  t   text\n",
    "F14            m   multiple choice"
   ]
  },
  {
   "cell_type": "code",
   "execution_count": 5,
   "metadata": {},
   "outputs": [],
   "source": [
    "df_columns=df.columns.tolist()\n",
    "new_columns=['index', 'ID', 'Startzeit', 'Fertigstellungszeit', 'E-Mail', 'Name', 'Schulform', 'Alter', 'Schulstufe', 'Geschlecht', 'F5', 'F6', 'F7', 'F8', 'F9', 'F10a', 'F10b', 'F10c', 'F11a',\n",
    " 'F11b', 'F11c', 'F11d', 'F11e', 'F12a', 'F12b', 'F12c', 'F12d', 'F12e', 'F13', 'F14', 'F15', 'F16', 'F17', 'Kommentare', 'Schule', 'Klasse']\n",
    "df.columns = new_columns"
   ]
  },
  {
   "cell_type": "code",
   "execution_count": 6,
   "metadata": {},
   "outputs": [],
   "source": [
    "known_schools=['HTL Spengergasse', 'bautechnikum', 'HTL Rennweg', 'TGM', 'hblva17']\n",
    "df.Schule[df.Schule=='l2']=\"Andere\"\n",
    "df.Schule[df.Schule.isnull()]=\"Andere\""
   ]
  },
  {
   "cell_type": "code",
   "execution_count": 7,
   "metadata": {},
   "outputs": [
    {
     "data": {
      "text/html": [
       "\n",
       "\n",
       "\n",
       "    \n",
       "    \n",
       "        \n",
       "        \n",
       "        \n",
       "            <div class=\"bk-root\" id=\"c5912f3d-9c5a-4038-8c58-7c2ff6eae5a1\" data-root-id=\"1919\"></div>\n",
       "        \n",
       "        \n",
       "    \n",
       "    \n",
       "    \n",
       "        <script type=\"application/json\" id=\"3570\">\n",
       "          {\"6b210af6-c2a7-435a-8620-8e66480ffa2b\":{\"roots\":{\"references\":[{\"attributes\":{\"source\":{\"id\":\"1467\"}},\"id\":\"1472\",\"type\":\"CDSView\"},{\"attributes\":{\"axis_label\":\"Count\",\"formatter\":{\"id\":\"1876\"},\"major_label_text_font_size\":\"0pt\",\"major_tick_line_color\":null,\"minor_tick_line_color\":\"white\",\"ticker\":{\"id\":\"1577\"}},\"id\":\"1576\",\"type\":\"LinearAxis\"},{\"attributes\":{\"bottom\":{\"value\":0.01},\"fill_alpha\":{\"value\":0.1},\"fill_color\":{\"value\":\"#1f77b4\"},\"line_alpha\":{\"value\":0.1},\"line_color\":{\"value\":\"#1f77b4\"},\"top\":{\"field\":\"Schulform\"},\"width\":{\"value\":0.9},\"x\":{\"field\":\"index\"}},\"id\":\"1025\",\"type\":\"VBar\"},{\"attributes\":{\"factors\":[\"sehr wichtig\",\"wichtig\",\"egal\",\"gar nicht wichtig\",\"nicht wichtig\"]},\"id\":\"1478\",\"type\":\"FactorRange\"},{\"attributes\":{\"below\":[{\"id\":\"1602\"}],\"center\":[{\"id\":\"1604\"},{\"id\":\"1608\"}],\"left\":[{\"id\":\"1605\"}],\"plot_height\":300,\"plot_width\":324,\"renderers\":[{\"id\":\"1616\"}],\"title\":{\"id\":\"1592\"},\"toolbar\":{\"id\":\"1610\"},\"toolbar_location\":null,\"x_range\":{\"id\":\"1594\"},\"x_scale\":{\"id\":\"1598\"},\"y_range\":{\"id\":\"1596\"},\"y_scale\":{\"id\":\"1600\"}},\"id\":\"1591\",\"subtype\":\"Figure\",\"type\":\"Plot\"},{\"attributes\":{\"axis\":{\"id\":\"1015\"},\"dimension\":1,\"grid_line_color\":null,\"ticker\":null},\"id\":\"1018\",\"type\":\"Grid\"},{\"attributes\":{\"axis\":{\"id\":\"1486\"},\"grid_line_color\":null,\"ticker\":null},\"id\":\"1488\",\"type\":\"Grid\"},{\"attributes\":{\"text\":\"F12d (2.2% missing)\",\"text_font_size\":{\"value\":\"10pt\"}},\"id\":\"1592\",\"type\":\"Title\"},{\"attributes\":{},\"id\":\"1016\",\"type\":\"BasicTicker\"},{\"attributes\":{\"active_drag\":\"auto\",\"active_inspect\":\"auto\",\"active_multi\":null,\"active_scroll\":\"auto\",\"active_tap\":\"auto\",\"tools\":[{\"id\":\"1580\"}]},\"id\":\"1581\",\"type\":\"Toolbar\"},{\"attributes\":{\"axis_label\":\"Count\",\"formatter\":{\"id\":\"1743\"},\"major_label_text_font_size\":\"0pt\",\"major_tick_line_color\":null,\"minor_tick_line_color\":\"white\",\"ticker\":{\"id\":\"1016\"}},\"id\":\"1015\",\"type\":\"LinearAxis\"},{\"attributes\":{\"axis\":{\"id\":\"1012\"},\"grid_line_color\":null,\"ticker\":null},\"id\":\"1014\",\"type\":\"Grid\"},{\"attributes\":{\"axis_label\":\"Count\",\"formatter\":{\"id\":\"1855\"},\"major_label_text_font_size\":\"0pt\",\"major_tick_line_color\":null,\"minor_tick_line_color\":\"white\",\"ticker\":{\"id\":\"1490\"}},\"id\":\"1489\",\"type\":\"LinearAxis\"},{\"attributes\":{},\"id\":\"1013\",\"type\":\"CategoricalTicker\"},{\"attributes\":{},\"id\":\"1008\",\"type\":\"CategoricalScale\"},{\"attributes\":{},\"id\":\"1010\",\"type\":\"LinearScale\"},{\"attributes\":{\"callback\":null,\"tooltips\":[[\"Schulform\",\"@index\"],[\"Count\",\"@Schulform\"],[\"Percent\",\"@pct{0.2f}%\"]]},\"id\":\"1019\",\"type\":\"HoverTool\"},{\"attributes\":{\"data\":{\"F12d\":[234,211,123,34,24],\"index\":[\"egal\",\"wichtig\",\"sehr wichtig\",\"nicht wichtig\",\"gar nicht wichtig\"],\"pct\":{\"__ndarray__\":\"AAAAAABIQkAAAAAAAHxAQAAAAAAAODNAAAAAAABAFUAAAAAAAAAOQA==\",\"dtype\":\"float64\",\"shape\":[5]}},\"selected\":{\"id\":\"1886\"},\"selection_policy\":{\"id\":\"1885\"}},\"id\":\"1612\",\"type\":\"ColumnDataSource\"},{\"attributes\":{\"formatter\":{\"id\":\"1028\"},\"major_label_orientation\":1.0471975511965976,\"major_label_text_font_size\":\"9pt\",\"minor_tick_line_color\":\"white\",\"ticker\":{\"id\":\"1013\"}},\"id\":\"1012\",\"type\":\"CategoricalAxis\"},{\"attributes\":{},\"id\":\"1482\",\"type\":\"CategoricalScale\"},{\"attributes\":{\"data\":{\"F10c\":[245,245,117,13,3],\"index\":[\"sehr wichtig\",\"wichtig\",\"egal\",\"nicht wichtig\",\"gar nicht wichtig\"],\"pct\":{\"__ndarray__\":\"AAAAAAAkQ0AAAAAAACRDQAAAAAAASDJAAAAAAABAAEAAAAAAAADePw==\",\"dtype\":\"float64\",\"shape\":[5]}},\"selected\":{\"id\":\"1823\"},\"selection_policy\":{\"id\":\"1822\"}},\"id\":\"1351\",\"type\":\"ColumnDataSource\"},{\"attributes\":{\"below\":[{\"id\":\"1486\"}],\"center\":[{\"id\":\"1488\"},{\"id\":\"1492\"}],\"left\":[{\"id\":\"1489\"}],\"plot_height\":300,\"plot_width\":324,\"renderers\":[{\"id\":\"1500\"}],\"title\":{\"id\":\"1476\"},\"toolbar\":{\"id\":\"1494\"},\"toolbar_location\":null,\"x_range\":{\"id\":\"1478\"},\"x_scale\":{\"id\":\"1482\"},\"y_range\":{\"id\":\"1480\"},\"y_scale\":{\"id\":\"1484\"}},\"id\":\"1475\",\"subtype\":\"Figure\",\"type\":\"Plot\"},{\"attributes\":{\"factors\":[\"HTL\",\"Fachschule\",\"Tageskolleg\",\"Abendkolleg\"]},\"id\":\"1004\",\"type\":\"FactorRange\"},{\"attributes\":{\"axis\":{\"id\":\"1573\"},\"grid_line_color\":null,\"ticker\":null},\"id\":\"1575\",\"type\":\"Grid\"},{\"attributes\":{\"source\":{\"id\":\"1137\"}},\"id\":\"1142\",\"type\":\"CDSView\"},{\"attributes\":{\"data_source\":{\"id\":\"1022\"},\"glyph\":{\"id\":\"1024\"},\"hover_glyph\":null,\"muted_glyph\":null,\"nonselection_glyph\":{\"id\":\"1025\"},\"selection_glyph\":null,\"view\":{\"id\":\"1027\"}},\"id\":\"1026\",\"type\":\"GlyphRenderer\"},{\"attributes\":{},\"id\":\"1006\",\"type\":\"DataRange1d\"},{\"attributes\":{\"text\":\"F12a (1.4% missing)\",\"text_font_size\":{\"value\":\"10pt\"}},\"id\":\"1505\",\"type\":\"Title\"},{\"attributes\":{\"text\":\"Schulform\",\"text_font_size\":{\"value\":\"10pt\"}},\"id\":\"1002\",\"type\":\"Title\"},{\"attributes\":{},\"id\":\"1484\",\"type\":\"LinearScale\"},{\"attributes\":{\"bottom\":{\"value\":0.01},\"fill_color\":{\"value\":\"#1f77b4\"},\"line_color\":{\"value\":\"#1f77b4\"},\"top\":{\"field\":\"Schulform\"},\"width\":{\"value\":0.9},\"x\":{\"field\":\"index\"}},\"id\":\"1024\",\"type\":\"VBar\"},{\"attributes\":{},\"id\":\"1598\",\"type\":\"CategoricalScale\"},{\"attributes\":{},\"id\":\"1480\",\"type\":\"DataRange1d\"},{\"attributes\":{\"bottom\":{\"value\":0.01},\"fill_alpha\":{\"value\":0.1},\"fill_color\":{\"value\":\"#1f77b4\"},\"line_alpha\":{\"value\":0.1},\"line_color\":{\"value\":\"#1f77b4\"},\"top\":{\"field\":\"F11d\"},\"width\":{\"value\":0.9},\"x\":{\"field\":\"index\"}},\"id\":\"1470\",\"type\":\"VBar\"},{\"attributes\":{\"data_source\":{\"id\":\"1137\"},\"glyph\":{\"id\":\"1139\"},\"hover_glyph\":null,\"muted_glyph\":null,\"nonselection_glyph\":{\"id\":\"1140\"},\"selection_glyph\":null,\"view\":{\"id\":\"1142\"}},\"id\":\"1141\",\"type\":\"GlyphRenderer\"},{\"attributes\":{\"formatter\":{\"id\":\"1502\"},\"major_label_orientation\":1.0471975511965976,\"major_label_text_font_size\":\"9pt\",\"minor_tick_line_color\":\"white\",\"ticker\":{\"id\":\"1487\"}},\"id\":\"1486\",\"type\":\"CategoricalAxis\"},{\"attributes\":{},\"id\":\"1596\",\"type\":\"DataRange1d\"},{\"attributes\":{\"bottom\":{\"value\":0.01},\"fill_color\":{\"value\":\"#1f77b4\"},\"line_color\":{\"value\":\"#1f77b4\"},\"top\":{\"field\":\"F11e\"},\"width\":{\"value\":0.9},\"x\":{\"field\":\"index\"}},\"id\":\"1498\",\"type\":\"VBar\"},{\"attributes\":{\"bottom\":{\"value\":0.01},\"fill_color\":{\"value\":\"#1f77b4\"},\"line_color\":{\"value\":\"#1f77b4\"},\"top\":{\"field\":\"F10c\"},\"width\":{\"value\":0.9},\"x\":{\"field\":\"index\"}},\"id\":\"1353\",\"type\":\"VBar\"},{\"attributes\":{\"text\":\"F11e (2.2% missing)\",\"text_font_size\":{\"value\":\"10pt\"}},\"id\":\"1476\",\"type\":\"Title\"},{\"attributes\":{\"data_source\":{\"id\":\"1467\"},\"glyph\":{\"id\":\"1469\"},\"hover_glyph\":null,\"muted_glyph\":null,\"nonselection_glyph\":{\"id\":\"1470\"},\"selection_glyph\":null,\"view\":{\"id\":\"1472\"}},\"id\":\"1471\",\"type\":\"GlyphRenderer\"},{\"attributes\":{\"bottom\":{\"value\":0},\"fill_alpha\":{\"value\":0.1},\"fill_color\":{\"value\":\"#6baed6\"},\"left\":{\"field\":\"left\"},\"line_alpha\":{\"value\":0.1},\"line_color\":{\"value\":\"#1f77b4\"},\"right\":{\"field\":\"right\"},\"top\":{\"field\":\"freq\"}},\"id\":\"1140\",\"type\":\"Quad\"},{\"attributes\":{\"below\":[{\"id\":\"1341\"}],\"center\":[{\"id\":\"1343\"},{\"id\":\"1347\"}],\"left\":[{\"id\":\"1344\"}],\"plot_height\":300,\"plot_width\":324,\"renderers\":[{\"id\":\"1355\"}],\"title\":{\"id\":\"1331\"},\"toolbar\":{\"id\":\"1349\"},\"toolbar_location\":null,\"x_range\":{\"id\":\"1333\"},\"x_scale\":{\"id\":\"1337\"},\"y_range\":{\"id\":\"1335\"},\"y_scale\":{\"id\":\"1339\"}},\"id\":\"1330\",\"subtype\":\"Figure\",\"type\":\"Plot\"},{\"attributes\":{\"axis\":{\"id\":\"1576\"},\"dimension\":1,\"grid_line_color\":null,\"ticker\":null},\"id\":\"1579\",\"type\":\"Grid\"},{\"attributes\":{\"code\":\"\\n            if (tick.length &gt; 15) return tick.substring(0, 15-2) + '...';\\n            else return tick;\\n        \"},\"id\":\"1415\",\"type\":\"FuncTickFormatter\"},{\"attributes\":{\"axis_label\":\"Frequency\",\"formatter\":{\"id\":\"1771\"},\"major_label_text_font_size\":\"0pt\",\"major_tick_line_color\":null,\"minor_tick_line_color\":\"white\",\"ticker\":{\"id\":\"1133\"}},\"id\":\"1132\",\"type\":\"LinearAxis\"},{\"attributes\":{\"code\":\"\\n            if (tick.length &gt; 15) return tick.substring(0, 15-2) + '...';\\n            else return tick;\\n        \"},\"id\":\"1473\",\"type\":\"FuncTickFormatter\"},{\"attributes\":{\"axis\":{\"id\":\"1132\"},\"dimension\":1,\"grid_line_color\":null,\"ticker\":null},\"id\":\"1135\",\"type\":\"Grid\"},{\"attributes\":{\"below\":[{\"id\":\"1515\"}],\"center\":[{\"id\":\"1517\"},{\"id\":\"1521\"}],\"left\":[{\"id\":\"1518\"}],\"plot_height\":300,\"plot_width\":324,\"renderers\":[{\"id\":\"1529\"}],\"title\":{\"id\":\"1505\"},\"toolbar\":{\"id\":\"1523\"},\"toolbar_location\":null,\"x_range\":{\"id\":\"1507\"},\"x_scale\":{\"id\":\"1511\"},\"y_range\":{\"id\":\"1509\"},\"y_scale\":{\"id\":\"1513\"}},\"id\":\"1504\",\"subtype\":\"Figure\",\"type\":\"Plot\"},{\"attributes\":{\"bottom\":{\"value\":0},\"fill_alpha\":{\"value\":0.5},\"fill_color\":{\"value\":\"#6baed6\"},\"left\":{\"field\":\"left\"},\"line_alpha\":{\"value\":0.5},\"line_color\":{\"value\":\"#1f77b4\"},\"right\":{\"field\":\"right\"},\"top\":{\"field\":\"freq\"}},\"id\":\"1139\",\"type\":\"Quad\"},{\"attributes\":{\"text\":\"F10c (2.7% missing)\",\"text_font_size\":{\"value\":\"10pt\"}},\"id\":\"1331\",\"type\":\"Title\"},{\"attributes\":{\"data\":{\"F11e\":[415,185,21,3,2],\"index\":[\"sehr wichtig\",\"wichtig\",\"egal\",\"gar nicht wichtig\",\"nicht wichtig\"],\"pct\":{\"__ndarray__\":\"AAAAAAA2UEAAAAAAAOg8QAAAAAAAQApAAAAAAAAA3j8AAAAAAADUPw==\",\"dtype\":\"float64\",\"shape\":[5]}},\"selected\":{\"id\":\"1858\"},\"selection_policy\":{\"id\":\"1857\"}},\"id\":\"1496\",\"type\":\"ColumnDataSource\"},{\"attributes\":{\"bottom\":{\"value\":0.01},\"fill_color\":{\"value\":\"#1f77b4\"},\"line_color\":{\"value\":\"#1f77b4\"},\"top\":{\"field\":\"F12d\"},\"width\":{\"value\":0.9},\"x\":{\"field\":\"index\"}},\"id\":\"1614\",\"type\":\"VBar\"},{\"attributes\":{},\"id\":\"1487\",\"type\":\"CategoricalTicker\"},{\"attributes\":{},\"id\":\"1133\",\"type\":\"BasicTicker\"},{\"attributes\":{},\"id\":\"1490\",\"type\":\"BasicTicker\"},{\"attributes\":{},\"id\":\"1577\",\"type\":\"BasicTicker\"},{\"attributes\":{},\"id\":\"1151\",\"type\":\"DataRange1d\"},{\"attributes\":{\"bottom\":{\"value\":0.01},\"fill_color\":{\"value\":\"#1f77b4\"},\"line_color\":{\"value\":\"#1f77b4\"},\"top\":{\"field\":\"F12a\"},\"width\":{\"value\":0.9},\"x\":{\"field\":\"index\"}},\"id\":\"1527\",\"type\":\"VBar\"},{\"attributes\":{},\"id\":\"1600\",\"type\":\"LinearScale\"},{\"attributes\":{\"factors\":[\"egal\",\"wichtig\",\"sehr wichtig\",\"nicht wichtig\",\"gar nicht wichtig\"]},\"id\":\"1594\",\"type\":\"FactorRange\"},{\"attributes\":{\"ticks\":[1,1.9,2.8,3.7,4.6]},\"id\":\"1145\",\"type\":\"FixedTicker\"},{\"attributes\":{\"active_drag\":\"auto\",\"active_inspect\":\"auto\",\"active_multi\":null,\"active_scroll\":\"auto\",\"active_tap\":\"auto\",\"tools\":[{\"id\":\"1143\"}]},\"id\":\"1136\",\"type\":\"Toolbar\"},{\"attributes\":{\"data\":{\"Alter\":[255,148,124,112],\"index\":[\"16-17\",\"18-20\",\"14-15\",\"&gt;20\"],\"pct\":{\"__ndarray__\":\"AAAAAADsQ0AAAAAAACA3QAAAAAAAYDNAAAAAAACAMUA=\",\"dtype\":\"float64\",\"shape\":[4]}},\"selected\":{\"id\":\"1753\"},\"selection_policy\":{\"id\":\"1752\"}},\"id\":\"1051\",\"type\":\"ColumnDataSource\"},{\"attributes\":{\"ticks\":[1,1.9,2.8,3.7,4.6]},\"id\":\"1146\",\"type\":\"FixedTicker\"},{\"attributes\":{\"below\":[{\"id\":\"1041\"}],\"center\":[{\"id\":\"1043\"},{\"id\":\"1047\"}],\"left\":[{\"id\":\"1044\"}],\"plot_height\":300,\"plot_width\":324,\"renderers\":[{\"id\":\"1055\"}],\"title\":{\"id\":\"1031\"},\"toolbar\":{\"id\":\"1049\"},\"toolbar_location\":null,\"x_range\":{\"id\":\"1033\"},\"x_scale\":{\"id\":\"1037\"},\"y_range\":{\"id\":\"1035\"},\"y_scale\":{\"id\":\"1039\"}},\"id\":\"1030\",\"subtype\":\"Figure\",\"type\":\"Plot\"},{\"attributes\":{\"callback\":null,\"mode\":\"vline\",\"tooltips\":[[\"Bin\",\"@intvl\"],[\"Frequency\",\"@freq\"],[\"Percent\",\"@pct{0.2f}%\"]]},\"id\":\"1143\",\"type\":\"HoverTool\"},{\"attributes\":{\"text\":\"Alter (0.2% missing)\",\"text_font_size\":{\"value\":\"10pt\"}},\"id\":\"1031\",\"type\":\"Title\"},{\"attributes\":{\"axis\":{\"id\":\"1489\"},\"dimension\":1,\"grid_line_color\":null,\"ticker\":null},\"id\":\"1492\",\"type\":\"Grid\"},{\"attributes\":{\"data\":{\"F12a\":[313,121,82,76,39],\"index\":[\"egal\",\"gar nicht wichtig\",\"nicht wichtig\",\"wichtig\",\"sehr wichtig\"],\"pct\":{\"__ndarray__\":\"AAAAAAB0SEAAAAAAAOgyQP//////nylAAAAAAADAJ0AAAAAAAGAYQA==\",\"dtype\":\"float64\",\"shape\":[5]}},\"selected\":{\"id\":\"1865\"},\"selection_policy\":{\"id\":\"1864\"}},\"id\":\"1525\",\"type\":\"ColumnDataSource\"},{\"attributes\":{\"callback\":null,\"tooltips\":[[\"F12c\",\"@index\"],[\"Count\",\"@F12c\"],[\"Percent\",\"@pct{0.2f}%\"]]},\"id\":\"1580\",\"type\":\"HoverTool\"},{\"attributes\":{},\"id\":\"1403\",\"type\":\"BasicTicker\"},{\"attributes\":{},\"id\":\"1397\",\"type\":\"LinearScale\"},{\"attributes\":{},\"id\":\"1716\",\"type\":\"DataRange1d\"},{\"attributes\":{},\"id\":\"1771\",\"type\":\"BasicTickFormatter\"},{\"attributes\":{\"data\":{\"Schule\":[176,161,99,81,71,52],\"index\":[\"bautechnikum\",\"HTL Spengergasse\",\"TGM\",\"hblva17\",\"Andere\",\"HTL Rennweg\"],\"pct\":{\"__ndarray__\":\"AQAAAACAO0ABAAAAACg5QAAAAAAA8C5AAAAAAABQKUAAAAAAADAmQAAAAAAAQCBA\",\"dtype\":\"float64\",\"shape\":[6]}},\"selected\":{\"id\":\"1914\"},\"selection_policy\":{\"id\":\"1913\"}},\"id\":\"1732\",\"type\":\"ColumnDataSource\"},{\"attributes\":{\"text\":\"F11c (2.2% missing)\",\"text_font_size\":{\"value\":\"10pt\"}},\"id\":\"1418\",\"type\":\"Title\"},{\"attributes\":{},\"id\":\"1652\",\"type\":\"DataRange1d\"},{\"attributes\":{\"bottom\":{\"value\":0.01},\"fill_color\":{\"value\":\"#1f77b4\"},\"line_color\":{\"value\":\"#1f77b4\"},\"top\":{\"field\":\"Schule\"},\"width\":{\"value\":0.9},\"x\":{\"field\":\"index\"}},\"id\":\"1734\",\"type\":\"VBar\"},{\"attributes\":{\"text\":\"F11b (1.7% missing)\",\"text_font_size\":{\"value\":\"10pt\"}},\"id\":\"1389\",\"type\":\"Title\"},{\"attributes\":{\"factors\":[\"egal\",\"wichtig\",\"sehr wichtig\",\"gar nicht wichtig\",\"nicht wichtig\"]},\"id\":\"1275\",\"type\":\"FactorRange\"},{\"attributes\":{\"bottom\":{\"value\":0.01},\"fill_alpha\":{\"value\":0.1},\"fill_color\":{\"value\":\"#1f77b4\"},\"line_alpha\":{\"value\":0.1},\"line_color\":{\"value\":\"#1f77b4\"},\"top\":{\"field\":\"F11a\"},\"width\":{\"value\":0.9},\"x\":{\"field\":\"index\"}},\"id\":\"1383\",\"type\":\"VBar\"},{\"attributes\":{\"bottom\":{\"value\":0.01},\"fill_color\":{\"value\":\"#1f77b4\"},\"line_color\":{\"value\":\"#1f77b4\"},\"top\":{\"field\":\"F11b\"},\"width\":{\"value\":0.9},\"x\":{\"field\":\"index\"}},\"id\":\"1411\",\"type\":\"VBar\"},{\"attributes\":{\"text\":\"F16 (1.7% missing)\",\"text_font_size\":{\"value\":\"10pt\"}},\"id\":\"1650\",\"type\":\"Title\"},{\"attributes\":{},\"id\":\"1813\",\"type\":\"BasicTickFormatter\"},{\"attributes\":{},\"id\":\"1876\",\"type\":\"BasicTickFormatter\"},{\"attributes\":{},\"id\":\"1718\",\"type\":\"CategoricalScale\"},{\"attributes\":{\"source\":{\"id\":\"1380\"}},\"id\":\"1385\",\"type\":\"CDSView\"},{\"attributes\":{},\"id\":\"1656\",\"type\":\"LinearScale\"},{\"attributes\":{\"code\":\"\\n            if (tick.length &gt; 15) return tick.substring(0, 15-2) + '...';\\n            else return tick;\\n        \"},\"id\":\"1386\",\"type\":\"FuncTickFormatter\"},{\"attributes\":{},\"id\":\"1843\",\"type\":\"UnionRenderers\"},{\"attributes\":{\"factors\":[\"wichtig\",\"egal\",\"sehr wichtig\",\"nicht wichtig\",\"gar nicht wichtig\"]},\"id\":\"1391\",\"type\":\"FactorRange\"},{\"attributes\":{},\"id\":\"1844\",\"type\":\"Selection\"},{\"attributes\":{},\"id\":\"1654\",\"type\":\"DataRange1d\"},{\"attributes\":{\"data_source\":{\"id\":\"1641\"},\"glyph\":{\"id\":\"1643\"},\"hover_glyph\":null,\"muted_glyph\":null,\"nonselection_glyph\":{\"id\":\"1644\"},\"selection_glyph\":null,\"view\":{\"id\":\"1646\"}},\"id\":\"1645\",\"type\":\"GlyphRenderer\"},{\"attributes\":{\"data\":{\"freq\":[47,0,29,0,0,41,0,54,0,467],\"index\":[0,1,2,3,4,5,6,7,8,9],\"intvl\":[\"[1, 1.4)\",\"[1.4, 1.8)\",\"[1.8, 2.2)\",\"[2.2, 2.6)\",\"[2.6, 3)\",\"[3, 3.4)\",\"[3.4, 3.8)\",\"[3.8, 4.2)\",\"[4.2, 4.6)\",\"[4.6,5]\"],\"left\":{\"__ndarray__\":\"AAAAAAAA8D9mZmZmZmb2P83MzMzMzPw/mpmZmZmZAUDNzMzMzMwEQAAAAAAAAAhANDMzMzMzC0BnZmZmZmYOQM3MzMzMzBBAZmZmZmZmEkA=\",\"dtype\":\"float64\",\"shape\":[10]},\"pct\":{\"__ndarray__\":\"AAAAAABgHUAAAAAAAAAAAAAAAAAAIBJAAAAAAAAAAAAAAAAAAAAAAP//////nxlAAAAAAAAAAAAAAAAAAOAgQAAAAAAAAAAAAAAAAAA+UkA=\",\"dtype\":\"float64\",\"shape\":[10]},\"right\":{\"__ndarray__\":\"ZmZmZmZm9j/NzMzMzMz8P5qZmZmZmQFAzczMzMzMBEAAAAAAAAAIQDQzMzMzMwtAZ2ZmZmZmDkDNzMzMzMwQQGZmZmZmZhJAAAAAAAAAFEA=\",\"dtype\":\"float64\",\"shape\":[10]}},\"selected\":{\"id\":\"1788\"},\"selection_policy\":{\"id\":\"1787\"}},\"id\":\"1199\",\"type\":\"ColumnDataSource\"},{\"attributes\":{\"below\":[{\"id\":\"1660\"}],\"center\":[{\"id\":\"1663\"},{\"id\":\"1667\"}],\"left\":[{\"id\":\"1664\"}],\"plot_height\":300,\"plot_width\":324,\"renderers\":[{\"id\":\"1673\"}],\"title\":{\"id\":\"1650\"},\"toolbar\":{\"id\":\"1668\"},\"toolbar_location\":null,\"x_range\":{\"id\":\"1652\"},\"x_scale\":{\"id\":\"1656\"},\"y_range\":{\"id\":\"1654\"},\"y_scale\":{\"id\":\"1658\"}},\"id\":\"1649\",\"subtype\":\"Figure\",\"type\":\"Plot\"},{\"attributes\":{\"source\":{\"id\":\"1641\"}},\"id\":\"1646\",\"type\":\"CDSView\"},{\"attributes\":{\"data_source\":{\"id\":\"1380\"},\"glyph\":{\"id\":\"1382\"},\"hover_glyph\":null,\"muted_glyph\":null,\"nonselection_glyph\":{\"id\":\"1383\"},\"selection_glyph\":null,\"view\":{\"id\":\"1385\"}},\"id\":\"1384\",\"type\":\"GlyphRenderer\"},{\"attributes\":{\"code\":\"\\n            if (tick.length &gt; 15) return tick.substring(0, 15-2) + '...';\\n            else return tick;\\n        \"},\"id\":\"1647\",\"type\":\"FuncTickFormatter\"},{\"attributes\":{\"bottom\":{\"value\":0.01},\"fill_alpha\":{\"value\":0.1},\"fill_color\":{\"value\":\"#1f77b4\"},\"line_alpha\":{\"value\":0.1},\"line_color\":{\"value\":\"#1f77b4\"},\"top\":{\"field\":\"F12e\"},\"width\":{\"value\":0.9},\"x\":{\"field\":\"index\"}},\"id\":\"1644\",\"type\":\"VBar\"},{\"attributes\":{\"formatter\":{\"id\":\"1896\"},\"major_label_overrides\":{\"1\":\"1\",\"1.9\":\"1.9\",\"2.8\":\"2.8\",\"3.7\":\"3.7\",\"4.6\":\"4.6\"},\"major_label_standoff\":7,\"major_label_text_font_size\":\"10pt\",\"major_tick_line_color\":null,\"minor_tick_line_color\":\"white\",\"ticker\":{\"id\":\"1678\"}},\"id\":\"1660\",\"type\":\"LinearAxis\"},{\"attributes\":{},\"id\":\"1906\",\"type\":\"UnionRenderers\"},{\"attributes\":{\"code\":\"\\n            if (tick.length &gt; 15) return tick.substring(0, 15-2) + '...';\\n            else return tick;\\n        \"},\"id\":\"1115\",\"type\":\"FuncTickFormatter\"},{\"attributes\":{\"text\":\"Schule\",\"text_font_size\":{\"value\":\"10pt\"}},\"id\":\"1712\",\"type\":\"Title\"},{\"attributes\":{\"bottom\":{\"value\":0.01},\"fill_alpha\":{\"value\":0.1},\"fill_color\":{\"value\":\"#1f77b4\"},\"line_alpha\":{\"value\":0.1},\"line_color\":{\"value\":\"#1f77b4\"},\"top\":{\"field\":\"Geschlecht\"},\"width\":{\"value\":0.9},\"x\":{\"field\":\"index\"}},\"id\":\"1112\",\"type\":\"VBar\"},{\"attributes\":{},\"id\":\"1907\",\"type\":\"Selection\"},{\"attributes\":{\"data\":{\"freq\":[15,0,36,0,0,109,0,190,0,287],\"index\":[0,1,2,3,4,5,6,7,8,9],\"intvl\":[\"[1, 1.4)\",\"[1.4, 1.8)\",\"[1.8, 2.2)\",\"[2.2, 2.6)\",\"[2.6, 3)\",\"[3, 3.4)\",\"[3.4, 3.8)\",\"[3.8, 4.2)\",\"[4.2, 4.6)\",\"[4.6,5]\"],\"left\":{\"__ndarray__\":\"AAAAAAAA8D9mZmZmZmb2P83MzMzMzPw/mpmZmZmZAUDNzMzMzMwEQAAAAAAAAAhANDMzMzMzC0BnZmZmZmYOQM3MzMzMzBBAZmZmZmZmEkA=\",\"dtype\":\"float64\",\"shape\":[10]},\"pct\":{\"__ndarray__\":\"AAAAAADAAkAAAAAAAAAAAAAAAAAAgBZAAAAAAAAAAAAAAAAAAAAAAAAAAAAACDFAAAAAAAAAAAAAAAAAALA9QAAAAAAAAAAAAAAAAABsRkA=\",\"dtype\":\"float64\",\"shape\":[10]},\"right\":{\"__ndarray__\":\"ZmZmZmZm9j/NzMzMzMz8P5qZmZmZmQFAzczMzMzMBEAAAAAAAAAIQDQzMzMzMwtAZ2ZmZmZmDkDNzMzMzMwQQGZmZmZmZhJAAAAAAAAAFEA=\",\"dtype\":\"float64\",\"shape\":[10]}},\"selected\":{\"id\":\"1781\"},\"selection_policy\":{\"id\":\"1780\"}},\"id\":\"1168\",\"type\":\"ColumnDataSource\"},{\"attributes\":{\"bottom\":{\"value\":0},\"fill_alpha\":{\"value\":0.5},\"fill_color\":{\"value\":\"#6baed6\"},\"left\":{\"field\":\"left\"},\"line_alpha\":{\"value\":0.5},\"line_color\":{\"value\":\"#1f77b4\"},\"right\":{\"field\":\"right\"},\"top\":{\"field\":\"freq\"}},\"id\":\"1671\",\"type\":\"Quad\"},{\"attributes\":{\"axis\":{\"id\":\"1660\"},\"grid_line_color\":null,\"ticker\":{\"id\":\"1677\"}},\"id\":\"1663\",\"type\":\"Grid\"},{\"attributes\":{\"below\":[{\"id\":\"1159\"}],\"center\":[{\"id\":\"1162\"},{\"id\":\"1166\"}],\"left\":[{\"id\":\"1163\"}],\"plot_height\":300,\"plot_width\":324,\"renderers\":[{\"id\":\"1172\"}],\"title\":{\"id\":\"1149\"},\"toolbar\":{\"id\":\"1167\"},\"toolbar_location\":null,\"x_range\":{\"id\":\"1151\"},\"x_scale\":{\"id\":\"1155\"},\"y_range\":{\"id\":\"1153\"},\"y_scale\":{\"id\":\"1157\"}},\"id\":\"1148\",\"subtype\":\"Figure\",\"type\":\"Plot\"},{\"attributes\":{},\"id\":\"1658\",\"type\":\"LinearScale\"},{\"attributes\":{},\"id\":\"1773\",\"type\":\"UnionRenderers\"},{\"attributes\":{},\"id\":\"1400\",\"type\":\"CategoricalTicker\"},{\"attributes\":{\"data\":{\"F11b\":[241,171,169,34,14],\"index\":[\"wichtig\",\"egal\",\"sehr wichtig\",\"nicht wichtig\",\"gar nicht wichtig\"],\"pct\":{\"__ndarray__\":\"AAAAAADUQkABAAAAALg6QP//////ZzpAAAAAAABAFUAAAAAAAIABQA==\",\"dtype\":\"float64\",\"shape\":[5]}},\"selected\":{\"id\":\"1837\"},\"selection_policy\":{\"id\":\"1836\"}},\"id\":\"1409\",\"type\":\"ColumnDataSource\"},{\"attributes\":{},\"id\":\"1774\",\"type\":\"Selection\"},{\"attributes\":{\"below\":[{\"id\":\"1221\"}],\"center\":[{\"id\":\"1224\"},{\"id\":\"1228\"}],\"left\":[{\"id\":\"1225\"}],\"plot_height\":300,\"plot_width\":324,\"renderers\":[{\"id\":\"1234\"}],\"title\":{\"id\":\"1211\"},\"toolbar\":{\"id\":\"1229\"},\"toolbar_location\":null,\"x_range\":{\"id\":\"1213\"},\"x_scale\":{\"id\":\"1217\"},\"y_range\":{\"id\":\"1215\"},\"y_scale\":{\"id\":\"1219\"}},\"id\":\"1210\",\"subtype\":\"Figure\",\"type\":\"Plot\"},{\"attributes\":{\"formatter\":{\"id\":\"1415\"},\"major_label_orientation\":1.0471975511965976,\"major_label_text_font_size\":\"9pt\",\"minor_tick_line_color\":\"white\",\"ticker\":{\"id\":\"1400\"}},\"id\":\"1399\",\"type\":\"CategoricalAxis\"},{\"attributes\":{},\"id\":\"1848\",\"type\":\"BasicTickFormatter\"},{\"attributes\":{\"data\":{\"freq\":[150,0,79,0,0,97,0,92,0,203],\"index\":[0,1,2,3,4,5,6,7,8,9],\"intvl\":[\"[1, 1.4)\",\"[1.4, 1.8)\",\"[1.8, 2.2)\",\"[2.2, 2.6)\",\"[2.6, 3)\",\"[3, 3.4)\",\"[3.4, 3.8)\",\"[3.8, 4.2)\",\"[4.2, 4.6)\",\"[4.6,5]\"],\"left\":{\"__ndarray__\":\"AAAAAAAA8D9mZmZmZmb2P83MzMzMzPw/mpmZmZmZAUDNzMzMzMwEQAAAAAAAAAhANDMzMzMzC0BnZmZmZmYOQM3MzMzMzBBAZmZmZmZmEkA=\",\"dtype\":\"float64\",\"shape\":[10]},\"pct\":{\"__ndarray__\":\"AAAAAABwN0AAAAAAAAAAAAAAAAAAsChAAAAAAAAAAAAAAAAAAAAAAP//////Ty5AAAAAAAAAAAD//////78sQAAAAAAAAAAAAAAAAAC4P0A=\",\"dtype\":\"float64\",\"shape\":[10]},\"right\":{\"__ndarray__\":\"ZmZmZmZm9j/NzMzMzMz8P5qZmZmZmQFAzczMzMzMBEAAAAAAAAAIQDQzMzMzMwtAZ2ZmZmZmDkDNzMzMzMwQQGZmZmZmZhJAAAAAAAAAFEA=\",\"dtype\":\"float64\",\"shape\":[10]}},\"selected\":{\"id\":\"1907\"},\"selection_policy\":{\"id\":\"1906\"}},\"id\":\"1700\",\"type\":\"ColumnDataSource\"},{\"attributes\":{\"data\":{\"freq\":[125,0,126,0,0,183,0,125,0,70],\"index\":[0,1,2,3,4,5,6,7,8,9],\"intvl\":[\"[1, 1.4)\",\"[1.4, 1.8)\",\"[1.8, 2.2)\",\"[2.2, 2.6)\",\"[2.6, 3)\",\"[3, 3.4)\",\"[3.4, 3.8)\",\"[3.8, 4.2)\",\"[4.2, 4.6)\",\"[4.6,5]\"],\"left\":{\"__ndarray__\":\"AAAAAAAA8D9mZmZmZmb2P83MzMzMzPw/mpmZmZmZAUDNzMzMzMwEQAAAAAAAAAhANDMzMzMzC0BnZmZmZmYOQM3MzMzMzBBAZmZmZmZmEkA=\",\"dtype\":\"float64\",\"shape\":[10]},\"pct\":{\"__ndarray__\":\"AAAAAACIM0AAAAAAAAAAAAAAAAAAsDNAAAAAAAAAAAAAAAAAAAAAAAAAAAAAmDxAAAAAAAAAAAAAAAAAAIgzQAAAAAAAAAAAAAAAAADgJUA=\",\"dtype\":\"float64\",\"shape\":[10]},\"right\":{\"__ndarray__\":\"ZmZmZmZm9j/NzMzMzMz8P5qZmZmZmQFAzczMzMzMBEAAAAAAAAAIQDQzMzMzMwtAZ2ZmZmZmDkDNzMzMzMwQQGZmZmZmZhJAAAAAAAAAFEA=\",\"dtype\":\"float64\",\"shape\":[10]}},\"selected\":{\"id\":\"1900\"},\"selection_policy\":{\"id\":\"1899\"}},\"id\":\"1669\",\"type\":\"ColumnDataSource\"},{\"attributes\":{\"axis_label\":\"Count\",\"formatter\":{\"id\":\"1834\"},\"major_label_text_font_size\":\"0pt\",\"major_tick_line_color\":null,\"minor_tick_line_color\":\"white\",\"ticker\":{\"id\":\"1403\"}},\"id\":\"1402\",\"type\":\"LinearAxis\"},{\"attributes\":{\"axis\":{\"id\":\"1399\"},\"grid_line_color\":null,\"ticker\":null},\"id\":\"1401\",\"type\":\"Grid\"},{\"attributes\":{},\"id\":\"1815\",\"type\":\"UnionRenderers\"},{\"attributes\":{},\"id\":\"1878\",\"type\":\"UnionRenderers\"},{\"attributes\":{\"active_drag\":\"auto\",\"active_inspect\":\"auto\",\"active_multi\":null,\"active_scroll\":\"auto\",\"active_tap\":\"auto\",\"tools\":[{\"id\":\"1406\"}]},\"id\":\"1407\",\"type\":\"Toolbar\"},{\"attributes\":{},\"id\":\"1816\",\"type\":\"Selection\"},{\"attributes\":{},\"id\":\"1879\",\"type\":\"Selection\"},{\"attributes\":{\"below\":[{\"id\":\"1722\"}],\"center\":[{\"id\":\"1724\"},{\"id\":\"1728\"}],\"left\":[{\"id\":\"1725\"}],\"plot_height\":300,\"plot_width\":324,\"renderers\":[{\"id\":\"1736\"}],\"title\":{\"id\":\"1712\"},\"toolbar\":{\"id\":\"1730\"},\"toolbar_location\":null,\"x_range\":{\"id\":\"1714\"},\"x_scale\":{\"id\":\"1718\"},\"y_range\":{\"id\":\"1716\"},\"y_scale\":{\"id\":\"1720\"}},\"id\":\"1711\",\"subtype\":\"Figure\",\"type\":\"Plot\"},{\"attributes\":{\"source\":{\"id\":\"1109\"}},\"id\":\"1114\",\"type\":\"CDSView\"},{\"attributes\":{},\"id\":\"1777\",\"type\":\"BasicTickFormatter\"},{\"attributes\":{},\"id\":\"1911\",\"type\":\"BasicTickFormatter\"},{\"attributes\":{\"below\":[{\"id\":\"1691\"}],\"center\":[{\"id\":\"1694\"},{\"id\":\"1698\"}],\"left\":[{\"id\":\"1695\"}],\"plot_height\":300,\"plot_width\":324,\"renderers\":[{\"id\":\"1704\"}],\"title\":{\"id\":\"1681\"},\"toolbar\":{\"id\":\"1699\"},\"toolbar_location\":null,\"x_range\":{\"id\":\"1683\"},\"x_scale\":{\"id\":\"1687\"},\"y_range\":{\"id\":\"1685\"},\"y_scale\":{\"id\":\"1689\"}},\"id\":\"1680\",\"subtype\":\"Figure\",\"type\":\"Plot\"},{\"attributes\":{\"data\":{\"F11c\":[247,115,110,90,64],\"index\":[\"egal\",\"nicht wichtig\",\"wichtig\",\"sehr wichtig\",\"gar nicht wichtig\"],\"pct\":{\"__ndarray__\":\"AAAAAABMQ0AAAAAAAPgxQAAAAAAAMDFAAAAAAAAgLEAAAAAAAAAkQA==\",\"dtype\":\"float64\",\"shape\":[5]}},\"selected\":{\"id\":\"1844\"},\"selection_policy\":{\"id\":\"1843\"}},\"id\":\"1438\",\"type\":\"ColumnDataSource\"},{\"attributes\":{},\"id\":\"1720\",\"type\":\"LinearScale\"},{\"attributes\":{\"data_source\":{\"id\":\"1109\"},\"glyph\":{\"id\":\"1111\"},\"hover_glyph\":null,\"muted_glyph\":null,\"nonselection_glyph\":{\"id\":\"1112\"},\"selection_glyph\":null,\"view\":{\"id\":\"1114\"}},\"id\":\"1113\",\"type\":\"GlyphRenderer\"},{\"attributes\":{},\"id\":\"1683\",\"type\":\"DataRange1d\"},{\"attributes\":{},\"id\":\"1393\",\"type\":\"DataRange1d\"},{\"attributes\":{},\"id\":\"1395\",\"type\":\"CategoricalScale\"},{\"attributes\":{\"axis_label\":\"Frequency\",\"formatter\":{\"id\":\"1897\"},\"major_label_text_font_size\":\"0pt\",\"major_tick_line_color\":null,\"minor_tick_line_color\":\"white\",\"ticker\":{\"id\":\"1665\"}},\"id\":\"1664\",\"type\":\"LinearAxis\"},{\"attributes\":{},\"id\":\"1665\",\"type\":\"BasicTicker\"},{\"attributes\":{\"below\":[{\"id\":\"1428\"}],\"center\":[{\"id\":\"1430\"},{\"id\":\"1434\"}],\"left\":[{\"id\":\"1431\"}],\"plot_height\":300,\"plot_width\":324,\"renderers\":[{\"id\":\"1442\"}],\"title\":{\"id\":\"1418\"},\"toolbar\":{\"id\":\"1436\"},\"toolbar_location\":null,\"x_range\":{\"id\":\"1420\"},\"x_scale\":{\"id\":\"1424\"},\"y_range\":{\"id\":\"1422\"},\"y_scale\":{\"id\":\"1426\"}},\"id\":\"1417\",\"subtype\":\"Figure\",\"type\":\"Plot\"},{\"attributes\":{\"axis\":{\"id\":\"1664\"},\"dimension\":1,\"grid_line_color\":null,\"ticker\":null},\"id\":\"1667\",\"type\":\"Grid\"},{\"attributes\":{},\"id\":\"1820\",\"type\":\"BasicTickFormatter\"},{\"attributes\":{},\"id\":\"1883\",\"type\":\"BasicTickFormatter\"},{\"attributes\":{\"axis\":{\"id\":\"1402\"},\"dimension\":1,\"grid_line_color\":null,\"ticker\":null},\"id\":\"1405\",\"type\":\"Grid\"},{\"attributes\":{\"callback\":null,\"tooltips\":[[\"F11b\",\"@index\"],[\"Count\",\"@F11b\"],[\"Percent\",\"@pct{0.2f}%\"]]},\"id\":\"1406\",\"type\":\"HoverTool\"},{\"attributes\":{\"below\":[{\"id\":\"1128\"}],\"center\":[{\"id\":\"1131\"},{\"id\":\"1135\"}],\"left\":[{\"id\":\"1132\"}],\"plot_height\":300,\"plot_width\":324,\"renderers\":[{\"id\":\"1141\"}],\"title\":{\"id\":\"1118\"},\"toolbar\":{\"id\":\"1136\"},\"toolbar_location\":null,\"x_range\":{\"id\":\"1120\"},\"x_scale\":{\"id\":\"1124\"},\"y_range\":{\"id\":\"1122\"},\"y_scale\":{\"id\":\"1126\"}},\"id\":\"1117\",\"subtype\":\"Figure\",\"type\":\"Plot\"},{\"attributes\":{\"active_drag\":\"auto\",\"active_inspect\":\"auto\",\"active_multi\":null,\"active_scroll\":\"auto\",\"active_tap\":\"auto\",\"tools\":[{\"id\":\"1675\"}]},\"id\":\"1668\",\"type\":\"Toolbar\"},{\"attributes\":{\"ticks\":[1,1.9,2.8,3.7,4.6]},\"id\":\"1678\",\"type\":\"FixedTicker\"},{\"attributes\":{\"text\":\"F17 (3.0% missing)\",\"text_font_size\":{\"value\":\"10pt\"}},\"id\":\"1681\",\"type\":\"Title\"},{\"attributes\":{},\"id\":\"1850\",\"type\":\"UnionRenderers\"},{\"attributes\":{\"below\":[{\"id\":\"1399\"}],\"center\":[{\"id\":\"1401\"},{\"id\":\"1405\"}],\"left\":[{\"id\":\"1402\"}],\"plot_height\":300,\"plot_width\":324,\"renderers\":[{\"id\":\"1413\"}],\"title\":{\"id\":\"1389\"},\"toolbar\":{\"id\":\"1407\"},\"toolbar_location\":null,\"x_range\":{\"id\":\"1391\"},\"x_scale\":{\"id\":\"1395\"},\"y_range\":{\"id\":\"1393\"},\"y_scale\":{\"id\":\"1397\"}},\"id\":\"1388\",\"subtype\":\"Figure\",\"type\":\"Plot\"},{\"attributes\":{},\"id\":\"1685\",\"type\":\"DataRange1d\"},{\"attributes\":{},\"id\":\"1851\",\"type\":\"Selection\"},{\"attributes\":{\"axis\":{\"id\":\"1070\"},\"grid_line_color\":null,\"ticker\":null},\"id\":\"1072\",\"type\":\"Grid\"},{\"attributes\":{\"axis\":{\"id\":\"1256\"},\"dimension\":1,\"grid_line_color\":null,\"ticker\":null},\"id\":\"1259\",\"type\":\"Grid\"},{\"attributes\":{},\"id\":\"1257\",\"type\":\"BasicTicker\"},{\"attributes\":{},\"id\":\"1780\",\"type\":\"UnionRenderers\"},{\"attributes\":{\"below\":[{\"id\":\"1312\"}],\"center\":[{\"id\":\"1314\"},{\"id\":\"1318\"}],\"left\":[{\"id\":\"1315\"}],\"plot_height\":300,\"plot_width\":324,\"renderers\":[{\"id\":\"1326\"}],\"title\":{\"id\":\"1302\"},\"toolbar\":{\"id\":\"1320\"},\"toolbar_location\":null,\"x_range\":{\"id\":\"1304\"},\"x_scale\":{\"id\":\"1308\"},\"y_range\":{\"id\":\"1306\"},\"y_scale\":{\"id\":\"1310\"}},\"id\":\"1301\",\"subtype\":\"Figure\",\"type\":\"Plot\"},{\"attributes\":{},\"id\":\"1781\",\"type\":\"Selection\"},{\"attributes\":{\"bottom\":{\"value\":0},\"fill_alpha\":{\"value\":0.1},\"fill_color\":{\"value\":\"#6baed6\"},\"left\":{\"field\":\"left\"},\"line_alpha\":{\"value\":0.1},\"line_color\":{\"value\":\"#1f77b4\"},\"right\":{\"field\":\"right\"},\"top\":{\"field\":\"freq\"}},\"id\":\"1171\",\"type\":\"Quad\"},{\"attributes\":{\"bottom\":{\"value\":0.01},\"fill_color\":{\"value\":\"#1f77b4\"},\"line_color\":{\"value\":\"#1f77b4\"},\"top\":{\"field\":\"F11a\"},\"width\":{\"value\":0.9},\"x\":{\"field\":\"index\"}},\"id\":\"1382\",\"type\":\"VBar\"},{\"attributes\":{},\"id\":\"1896\",\"type\":\"BasicTickFormatter\"},{\"attributes\":{\"bottom\":{\"value\":0.01},\"fill_alpha\":{\"value\":0.1},\"fill_color\":{\"value\":\"#1f77b4\"},\"line_alpha\":{\"value\":0.1},\"line_color\":{\"value\":\"#1f77b4\"},\"top\":{\"field\":\"F10c\"},\"width\":{\"value\":0.9},\"x\":{\"field\":\"index\"}},\"id\":\"1354\",\"type\":\"VBar\"},{\"attributes\":{\"axis\":{\"id\":\"1073\"},\"dimension\":1,\"grid_line_color\":null,\"ticker\":null},\"id\":\"1076\",\"type\":\"Grid\"},{\"attributes\":{\"active_drag\":\"auto\",\"active_inspect\":\"auto\",\"active_multi\":null,\"active_scroll\":\"auto\",\"active_tap\":\"auto\",\"tools\":[{\"id\":\"1348\"}]},\"id\":\"1349\",\"type\":\"Toolbar\"},{\"attributes\":{},\"id\":\"1897\",\"type\":\"BasicTickFormatter\"},{\"attributes\":{},\"id\":\"1784\",\"type\":\"BasicTickFormatter\"},{\"attributes\":{\"text\":\"F10b (2.3% missing)\",\"text_font_size\":{\"value\":\"10pt\"}},\"id\":\"1302\",\"type\":\"Title\"},{\"attributes\":{\"bottom\":{\"value\":0.01},\"fill_color\":{\"value\":\"#1f77b4\"},\"line_color\":{\"value\":\"#1f77b4\"},\"top\":{\"field\":\"Schulstufe\"},\"width\":{\"value\":0.9},\"x\":{\"field\":\"index\"}},\"id\":\"1082\",\"type\":\"VBar\"},{\"attributes\":{\"factors\":[\"sehr wichtig\",\"wichtig\",\"egal\",\"nicht wichtig\",\"gar nicht wichtig\"]},\"id\":\"1333\",\"type\":\"FactorRange\"},{\"attributes\":{},\"id\":\"1785\",\"type\":\"BasicTickFormatter\"},{\"attributes\":{},\"id\":\"1337\",\"type\":\"CategoricalScale\"},{\"attributes\":{\"code\":\"\\n            if (tick.length &gt; 15) return tick.substring(0, 15-2) + '...';\\n            else return tick;\\n        \"},\"id\":\"1357\",\"type\":\"FuncTickFormatter\"},{\"attributes\":{\"text\":\"Schulstufe (0.3% missing)\",\"text_font_size\":{\"value\":\"10pt\"}},\"id\":\"1060\",\"type\":\"Title\"},{\"attributes\":{\"below\":[{\"id\":\"1370\"}],\"center\":[{\"id\":\"1372\"},{\"id\":\"1376\"}],\"left\":[{\"id\":\"1373\"}],\"plot_height\":300,\"plot_width\":324,\"renderers\":[{\"id\":\"1384\"}],\"title\":{\"id\":\"1360\"},\"toolbar\":{\"id\":\"1378\"},\"toolbar_location\":null,\"x_range\":{\"id\":\"1362\"},\"x_scale\":{\"id\":\"1366\"},\"y_range\":{\"id\":\"1364\"},\"y_scale\":{\"id\":\"1368\"}},\"id\":\"1359\",\"subtype\":\"Figure\",\"type\":\"Plot\"},{\"attributes\":{\"axis_label\":\"Count\",\"formatter\":{\"id\":\"1757\"},\"major_label_text_font_size\":\"0pt\",\"major_tick_line_color\":null,\"minor_tick_line_color\":\"white\",\"ticker\":{\"id\":\"1074\"}},\"id\":\"1073\",\"type\":\"LinearAxis\"},{\"attributes\":{},\"id\":\"1316\",\"type\":\"BasicTicker\"},{\"attributes\":{\"data\":{\"F11a\":[298,288,40,6,3],\"index\":[\"wichtig\",\"sehr wichtig\",\"egal\",\"nicht wichtig\",\"gar nicht wichtig\"],\"pct\":{\"__ndarray__\":\"AAAAAABIR0AAAAAAAIBGQAAAAAAAABlAAAAAAAAA7j8AAAAAAADePw==\",\"dtype\":\"float64\",\"shape\":[5]}},\"selected\":{\"id\":\"1830\"},\"selection_policy\":{\"id\":\"1829\"}},\"id\":\"1380\",\"type\":\"ColumnDataSource\"},{\"attributes\":{\"active_drag\":\"auto\",\"active_inspect\":\"auto\",\"active_multi\":null,\"active_scroll\":\"auto\",\"active_tap\":\"auto\",\"tools\":[{\"id\":\"1077\"}]},\"id\":\"1078\",\"type\":\"Toolbar\"},{\"attributes\":{\"text\":\"F11a (0.8% missing)\",\"text_font_size\":{\"value\":\"10pt\"}},\"id\":\"1360\",\"type\":\"Title\"},{\"attributes\":{},\"id\":\"1074\",\"type\":\"BasicTicker\"},{\"attributes\":{\"formatter\":{\"id\":\"1531\"},\"major_label_orientation\":1.0471975511965976,\"major_label_text_font_size\":\"9pt\",\"minor_tick_line_color\":\"white\",\"ticker\":{\"id\":\"1516\"}},\"id\":\"1515\",\"type\":\"CategoricalAxis\"},{\"attributes\":{},\"id\":\"1513\",\"type\":\"LinearScale\"},{\"attributes\":{},\"id\":\"1516\",\"type\":\"CategoricalTicker\"},{\"attributes\":{\"data\":{\"Schulform\":[386,110,107,37],\"index\":[\"HTL\",\"Fachschule\",\"Tageskolleg\",\"Abendkolleg\"],\"pct\":{\"__ndarray__\":\"AAAAAAAoTkAAAAAAADAxQAAAAAAAuDBAAAAAAAAgF0A=\",\"dtype\":\"float64\",\"shape\":[4]}},\"selected\":{\"id\":\"1746\"},\"selection_policy\":{\"id\":\"1745\"}},\"id\":\"1022\",\"type\":\"ColumnDataSource\"},{\"attributes\":{},\"id\":\"1308\",\"type\":\"CategoricalScale\"},{\"attributes\":{\"data\":{\"Schulstufe\":[187,157,112,95,71,16],\"index\":[\"11\",\"&gt;13\",\"9\",\"10\",\"12\",\"13\"],\"pct\":{\"__ndarray__\":\"AAAAAAA4PUAAAAAAAIg4QAAAAAAAgDFAAAAAAACwLUAAAAAAADAmQAAAAAAAAARA\",\"dtype\":\"float64\",\"shape\":[6]}},\"selected\":{\"id\":\"1760\"},\"selection_policy\":{\"id\":\"1759\"}},\"id\":\"1080\",\"type\":\"ColumnDataSource\"},{\"attributes\":{\"bottom\":{\"value\":0.01},\"fill_alpha\":{\"value\":0.1},\"fill_color\":{\"value\":\"#1f77b4\"},\"line_alpha\":{\"value\":0.1},\"line_color\":{\"value\":\"#1f77b4\"},\"top\":{\"field\":\"Alter\"},\"width\":{\"value\":0.9},\"x\":{\"field\":\"index\"}},\"id\":\"1054\",\"type\":\"VBar\"},{\"attributes\":{\"formatter\":{\"id\":\"1086\"},\"major_label_orientation\":1.0471975511965976,\"major_label_text_font_size\":\"9pt\",\"minor_tick_line_color\":\"white\",\"ticker\":{\"id\":\"1071\"}},\"id\":\"1070\",\"type\":\"CategoricalAxis\"},{\"attributes\":{\"axis_label\":\"Frequency\",\"formatter\":{\"id\":\"1799\"},\"major_label_text_font_size\":\"0pt\",\"major_tick_line_color\":null,\"minor_tick_line_color\":\"white\",\"ticker\":{\"id\":\"1257\"}},\"id\":\"1256\",\"type\":\"LinearAxis\"},{\"attributes\":{\"below\":[{\"id\":\"1070\"}],\"center\":[{\"id\":\"1072\"},{\"id\":\"1076\"}],\"left\":[{\"id\":\"1073\"}],\"plot_height\":300,\"plot_width\":324,\"renderers\":[{\"id\":\"1084\"}],\"title\":{\"id\":\"1060\"},\"toolbar\":{\"id\":\"1078\"},\"toolbar_location\":null,\"x_range\":{\"id\":\"1062\"},\"x_scale\":{\"id\":\"1066\"},\"y_range\":{\"id\":\"1064\"},\"y_scale\":{\"id\":\"1068\"}},\"id\":\"1059\",\"subtype\":\"Figure\",\"type\":\"Plot\"},{\"attributes\":{\"source\":{\"id\":\"1351\"}},\"id\":\"1356\",\"type\":\"CDSView\"},{\"attributes\":{},\"id\":\"1899\",\"type\":\"UnionRenderers\"},{\"attributes\":{},\"id\":\"1277\",\"type\":\"DataRange1d\"},{\"attributes\":{\"axis\":{\"id\":\"1315\"},\"dimension\":1,\"grid_line_color\":null,\"ticker\":null},\"id\":\"1318\",\"type\":\"Grid\"},{\"attributes\":{\"axis\":{\"id\":\"1252\"},\"grid_line_color\":null,\"ticker\":{\"id\":\"1269\"}},\"id\":\"1255\",\"type\":\"Grid\"},{\"attributes\":{},\"id\":\"1900\",\"type\":\"Selection\"},{\"attributes\":{},\"id\":\"1064\",\"type\":\"DataRange1d\"},{\"attributes\":{\"callback\":null,\"tooltips\":[[\"Schulstufe\",\"@index\"],[\"Count\",\"@Schulstufe\"],[\"Percent\",\"@pct{0.2f}%\"]]},\"id\":\"1077\",\"type\":\"HoverTool\"},{\"attributes\":{},\"id\":\"1306\",\"type\":\"DataRange1d\"},{\"attributes\":{},\"id\":\"1066\",\"type\":\"CategoricalScale\"},{\"attributes\":{\"factors\":[\"sehr wichtig\",\"wichtig\",\"egal\",\"nicht wichtig\",\"gar nicht wichtig\"]},\"id\":\"1304\",\"type\":\"FactorRange\"},{\"attributes\":{},\"id\":\"1071\",\"type\":\"CategoricalTicker\"},{\"attributes\":{},\"id\":\"1068\",\"type\":\"LinearScale\"},{\"attributes\":{},\"id\":\"1313\",\"type\":\"CategoricalTicker\"},{\"attributes\":{},\"id\":\"1787\",\"type\":\"UnionRenderers\"},{\"attributes\":{\"factors\":[\"11\",\"&gt;13\",\"9\",\"10\",\"12\",\"13\"]},\"id\":\"1062\",\"type\":\"FactorRange\"},{\"attributes\":{\"factors\":[\"egal\",\"gar nicht wichtig\",\"nicht wichtig\",\"wichtig\",\"sehr wichtig\"]},\"id\":\"1507\",\"type\":\"FactorRange\"},{\"attributes\":{\"data_source\":{\"id\":\"1051\"},\"glyph\":{\"id\":\"1053\"},\"hover_glyph\":null,\"muted_glyph\":null,\"nonselection_glyph\":{\"id\":\"1054\"},\"selection_glyph\":null,\"view\":{\"id\":\"1056\"}},\"id\":\"1055\",\"type\":\"GlyphRenderer\"},{\"attributes\":{\"active_drag\":\"auto\",\"active_inspect\":\"auto\",\"active_multi\":null,\"active_scroll\":\"auto\",\"active_tap\":\"auto\",\"tools\":[{\"id\":\"1267\"}]},\"id\":\"1260\",\"type\":\"Toolbar\"},{\"attributes\":{},\"id\":\"1788\",\"type\":\"Selection\"},{\"attributes\":{\"formatter\":{\"id\":\"1328\"},\"major_label_orientation\":1.0471975511965976,\"major_label_text_font_size\":\"9pt\",\"minor_tick_line_color\":\"white\",\"ticker\":{\"id\":\"1313\"}},\"id\":\"1312\",\"type\":\"CategoricalAxis\"},{\"attributes\":{},\"id\":\"1310\",\"type\":\"LinearScale\"},{\"attributes\":{\"code\":\"\\n            if (tick.length &gt; 15) return tick.substring(0, 15-2) + '...';\\n            else return tick;\\n        \"},\"id\":\"1057\",\"type\":\"FuncTickFormatter\"},{\"attributes\":{\"data\":{\"F10a\":[234,172,126,56,50],\"index\":[\"egal\",\"wichtig\",\"sehr wichtig\",\"gar nicht wichtig\",\"nicht wichtig\"],\"pct\":{\"__ndarray__\":\"AAAAAABIQkAAAAAAAOA6QAAAAAAAsDNAAAAAAACAIUAAAAAAAEAfQA==\",\"dtype\":\"float64\",\"shape\":[5]}},\"selected\":{\"id\":\"1809\"},\"selection_policy\":{\"id\":\"1808\"}},\"id\":\"1293\",\"type\":\"ColumnDataSource\"},{\"attributes\":{},\"id\":\"1511\",\"type\":\"CategoricalScale\"},{\"attributes\":{\"data_source\":{\"id\":\"1351\"},\"glyph\":{\"id\":\"1353\"},\"hover_glyph\":null,\"muted_glyph\":null,\"nonselection_glyph\":{\"id\":\"1354\"},\"selection_glyph\":null,\"view\":{\"id\":\"1356\"}},\"id\":\"1355\",\"type\":\"GlyphRenderer\"},{\"attributes\":{},\"id\":\"1903\",\"type\":\"BasicTickFormatter\"},{\"attributes\":{},\"id\":\"1509\",\"type\":\"DataRange1d\"},{\"attributes\":{\"bottom\":{\"value\":0},\"fill_alpha\":{\"value\":0.5},\"fill_color\":{\"value\":\"#6baed6\"},\"left\":{\"field\":\"left\"},\"line_alpha\":{\"value\":0.5},\"line_color\":{\"value\":\"#1f77b4\"},\"right\":{\"field\":\"right\"},\"top\":{\"field\":\"freq\"}},\"id\":\"1263\",\"type\":\"Quad\"},{\"attributes\":{\"axis\":{\"id\":\"1312\"},\"grid_line_color\":null,\"ticker\":null},\"id\":\"1314\",\"type\":\"Grid\"},{\"attributes\":{},\"id\":\"1335\",\"type\":\"DataRange1d\"},{\"attributes\":{\"source\":{\"id\":\"1051\"}},\"id\":\"1056\",\"type\":\"CDSView\"},{\"attributes\":{\"callback\":null,\"tooltips\":[[\"F10b\",\"@index\"],[\"Count\",\"@F10b\"],[\"Percent\",\"@pct{0.2f}%\"]]},\"id\":\"1319\",\"type\":\"HoverTool\"},{\"attributes\":{\"below\":[{\"id\":\"1012\"}],\"center\":[{\"id\":\"1014\"},{\"id\":\"1018\"}],\"left\":[{\"id\":\"1015\"}],\"plot_height\":300,\"plot_width\":324,\"renderers\":[{\"id\":\"1026\"}],\"title\":{\"id\":\"1002\"},\"toolbar\":{\"id\":\"1020\"},\"toolbar_location\":null,\"x_range\":{\"id\":\"1004\"},\"x_scale\":{\"id\":\"1008\"},\"y_range\":{\"id\":\"1006\"},\"y_scale\":{\"id\":\"1010\"}},\"id\":\"1001\",\"subtype\":\"Figure\",\"type\":\"Plot\"},{\"attributes\":{\"button_type\":\"primary\",\"icon\":null,\"js_event_callbacks\":{\"button_click\":[{\"id\":\"1918\"}]},\"label\":\"Show Stats Info\",\"width\":972},\"id\":\"1917\",\"type\":\"Button\"},{\"attributes\":{\"data_source\":{\"id\":\"1168\"},\"glyph\":{\"id\":\"1170\"},\"hover_glyph\":null,\"muted_glyph\":null,\"nonselection_glyph\":{\"id\":\"1171\"},\"selection_glyph\":null,\"view\":{\"id\":\"1173\"}},\"id\":\"1172\",\"type\":\"GlyphRenderer\"},{\"attributes\":{\"axis_label\":\"Count\",\"formatter\":{\"id\":\"1813\"},\"major_label_text_font_size\":\"0pt\",\"major_tick_line_color\":null,\"minor_tick_line_color\":\"white\",\"ticker\":{\"id\":\"1316\"}},\"id\":\"1315\",\"type\":\"LinearAxis\"},{\"attributes\":{},\"id\":\"1904\",\"type\":\"BasicTickFormatter\"},{\"attributes\":{},\"id\":\"1461\",\"type\":\"BasicTicker\"},{\"attributes\":{\"axis\":{\"id\":\"1515\"},\"grid_line_color\":null,\"ticker\":null},\"id\":\"1517\",\"type\":\"Grid\"},{\"attributes\":{},\"id\":\"1453\",\"type\":\"CategoricalScale\"},{\"attributes\":{\"bottom\":{\"value\":0.01},\"fill_alpha\":{\"value\":0.1},\"fill_color\":{\"value\":\"#1f77b4\"},\"line_alpha\":{\"value\":0.1},\"line_color\":{\"value\":\"#1f77b4\"},\"top\":{\"field\":\"F10a\"},\"width\":{\"value\":0.9},\"x\":{\"field\":\"index\"}},\"id\":\"1296\",\"type\":\"VBar\"},{\"attributes\":{\"active_drag\":\"auto\",\"active_inspect\":\"auto\",\"active_multi\":null,\"active_scroll\":\"auto\",\"active_tap\":\"auto\",\"tools\":[{\"id\":\"1464\"}]},\"id\":\"1465\",\"type\":\"Toolbar\"},{\"attributes\":{\"source\":{\"id\":\"1409\"}},\"id\":\"1414\",\"type\":\"CDSView\"},{\"attributes\":{},\"id\":\"1519\",\"type\":\"BasicTicker\"},{\"attributes\":{\"axis_label\":\"Count\",\"formatter\":{\"id\":\"1862\"},\"major_label_text_font_size\":\"0pt\",\"major_tick_line_color\":null,\"minor_tick_line_color\":\"white\",\"ticker\":{\"id\":\"1519\"}},\"id\":\"1518\",\"type\":\"LinearAxis\"},{\"attributes\":{\"code\":\"\\n            if (tick.length &gt; 15) return tick.substring(0, 15-2) + '...';\\n            else return tick;\\n        \"},\"id\":\"1328\",\"type\":\"FuncTickFormatter\"},{\"attributes\":{\"callback\":null,\"tooltips\":[[\"F11d\",\"@index\"],[\"Count\",\"@F11d\"],[\"Percent\",\"@pct{0.2f}%\"]]},\"id\":\"1464\",\"type\":\"HoverTool\"},{\"attributes\":{\"bottom\":{\"value\":0.01},\"fill_alpha\":{\"value\":0.1},\"fill_color\":{\"value\":\"#1f77b4\"},\"line_alpha\":{\"value\":0.1},\"line_color\":{\"value\":\"#1f77b4\"},\"top\":{\"field\":\"F11b\"},\"width\":{\"value\":0.9},\"x\":{\"field\":\"index\"}},\"id\":\"1412\",\"type\":\"VBar\"},{\"attributes\":{},\"id\":\"1458\",\"type\":\"CategoricalTicker\"},{\"attributes\":{\"source\":{\"id\":\"1293\"}},\"id\":\"1298\",\"type\":\"CDSView\"},{\"attributes\":{\"code\":\"\\n            if (tick.length &gt; 15) return tick.substring(0, 15-2) + '...';\\n            else return tick;\\n        \"},\"id\":\"1299\",\"type\":\"FuncTickFormatter\"},{\"attributes\":{\"data_source\":{\"id\":\"1293\"},\"glyph\":{\"id\":\"1295\"},\"hover_glyph\":null,\"muted_glyph\":null,\"nonselection_glyph\":{\"id\":\"1296\"},\"selection_glyph\":null,\"view\":{\"id\":\"1298\"}},\"id\":\"1297\",\"type\":\"GlyphRenderer\"},{\"attributes\":{\"factors\":[\"wichtig\",\"egal\",\"sehr wichtig\",\"nicht wichtig\",\"gar nicht wichtig\"]},\"id\":\"1449\",\"type\":\"FactorRange\"},{\"attributes\":{},\"id\":\"1451\",\"type\":\"DataRange1d\"},{\"attributes\":{\"text\":\"F11d (2.2% missing)\",\"text_font_size\":{\"value\":\"10pt\"}},\"id\":\"1447\",\"type\":\"Title\"},{\"attributes\":{},\"id\":\"1455\",\"type\":\"LinearScale\"},{\"attributes\":{\"below\":[{\"id\":\"1457\"}],\"center\":[{\"id\":\"1459\"},{\"id\":\"1463\"}],\"left\":[{\"id\":\"1460\"}],\"plot_height\":300,\"plot_width\":324,\"renderers\":[{\"id\":\"1471\"}],\"title\":{\"id\":\"1447\"},\"toolbar\":{\"id\":\"1465\"},\"toolbar_location\":null,\"x_range\":{\"id\":\"1449\"},\"x_scale\":{\"id\":\"1453\"},\"y_range\":{\"id\":\"1451\"},\"y_scale\":{\"id\":\"1455\"}},\"id\":\"1446\",\"subtype\":\"Figure\",\"type\":\"Plot\"},{\"attributes\":{\"axis_label\":\"Count\",\"formatter\":{\"id\":\"1848\"},\"major_label_text_font_size\":\"0pt\",\"major_tick_line_color\":null,\"minor_tick_line_color\":\"white\",\"ticker\":{\"id\":\"1461\"}},\"id\":\"1460\",\"type\":\"LinearAxis\"},{\"attributes\":{\"data_source\":{\"id\":\"1409\"},\"glyph\":{\"id\":\"1411\"},\"hover_glyph\":null,\"muted_glyph\":null,\"nonselection_glyph\":{\"id\":\"1412\"},\"selection_glyph\":null,\"view\":{\"id\":\"1414\"}},\"id\":\"1413\",\"type\":\"GlyphRenderer\"},{\"attributes\":{\"data_source\":{\"id\":\"1438\"},\"glyph\":{\"id\":\"1440\"},\"hover_glyph\":null,\"muted_glyph\":null,\"nonselection_glyph\":{\"id\":\"1441\"},\"selection_glyph\":null,\"view\":{\"id\":\"1443\"}},\"id\":\"1442\",\"type\":\"GlyphRenderer\"},{\"attributes\":{\"axis\":{\"id\":\"1457\"},\"grid_line_color\":null,\"ticker\":null},\"id\":\"1459\",\"type\":\"Grid\"},{\"attributes\":{\"axis\":{\"id\":\"1518\"},\"dimension\":1,\"grid_line_color\":null,\"ticker\":null},\"id\":\"1521\",\"type\":\"Grid\"},{\"attributes\":{\"formatter\":{\"id\":\"1473\"},\"major_label_orientation\":1.0471975511965976,\"major_label_text_font_size\":\"9pt\",\"minor_tick_line_color\":\"white\",\"ticker\":{\"id\":\"1458\"}},\"id\":\"1457\",\"type\":\"CategoricalAxis\"},{\"attributes\":{\"data\":{\"F10b\":[292,252,71,9,1],\"index\":[\"sehr wichtig\",\"wichtig\",\"egal\",\"nicht wichtig\",\"gar nicht wichtig\"],\"pct\":{\"__ndarray__\":\"AAAAAADQRkAAAAAAALBDQAAAAAAAMCZAAAAAAACA9j8AAAAAAADEPw==\",\"dtype\":\"float64\",\"shape\":[5]}},\"selected\":{\"id\":\"1816\"},\"selection_policy\":{\"id\":\"1815\"}},\"id\":\"1322\",\"type\":\"ColumnDataSource\"},{\"attributes\":{\"bottom\":{\"value\":0.01},\"fill_color\":{\"value\":\"#1f77b4\"},\"line_color\":{\"value\":\"#1f77b4\"},\"top\":{\"field\":\"F11d\"},\"width\":{\"value\":0.9},\"x\":{\"field\":\"index\"}},\"id\":\"1469\",\"type\":\"VBar\"},{\"attributes\":{\"source\":{\"id\":\"1438\"}},\"id\":\"1443\",\"type\":\"CDSView\"},{\"attributes\":{\"data\":{\"F11d\":[182,162,141,74,67],\"index\":[\"wichtig\",\"egal\",\"sehr wichtig\",\"nicht wichtig\",\"gar nicht wichtig\"],\"pct\":{\"__ndarray__\":\"AAAAAABwPEAAAAAAAFA5QAAAAAAACDZAAAAAAAAgJ0AAAAAAAPAkQA==\",\"dtype\":\"float64\",\"shape\":[5]}},\"selected\":{\"id\":\"1851\"},\"selection_policy\":{\"id\":\"1850\"}},\"id\":\"1467\",\"type\":\"ColumnDataSource\"},{\"attributes\":{\"axis\":{\"id\":\"1460\"},\"dimension\":1,\"grid_line_color\":null,\"ticker\":null},\"id\":\"1463\",\"type\":\"Grid\"},{\"attributes\":{\"bottom\":{\"value\":0.01},\"fill_alpha\":{\"value\":0.1},\"fill_color\":{\"value\":\"#1f77b4\"},\"line_alpha\":{\"value\":0.1},\"line_color\":{\"value\":\"#1f77b4\"},\"top\":{\"field\":\"F11c\"},\"width\":{\"value\":0.9},\"x\":{\"field\":\"index\"}},\"id\":\"1441\",\"type\":\"VBar\"},{\"attributes\":{\"code\":\"\\n            if (tick.length &gt; 15) return tick.substring(0, 15-2) + '...';\\n            else return tick;\\n        \"},\"id\":\"1444\",\"type\":\"FuncTickFormatter\"},{\"attributes\":{\"source\":{\"id\":\"1322\"}},\"id\":\"1327\",\"type\":\"CDSView\"},{\"attributes\":{\"axis\":{\"id\":\"1722\"},\"grid_line_color\":null,\"ticker\":null},\"id\":\"1724\",\"type\":\"Grid\"},{\"attributes\":{},\"id\":\"1281\",\"type\":\"LinearScale\"},{\"attributes\":{\"formatter\":{\"id\":\"1738\"},\"major_label_orientation\":1.0471975511965976,\"major_label_text_font_size\":\"9pt\",\"minor_tick_line_color\":\"white\",\"ticker\":{\"id\":\"1723\"}},\"id\":\"1722\",\"type\":\"CategoricalAxis\"},{\"attributes\":{\"bottom\":{\"value\":0},\"fill_alpha\":{\"value\":0.5},\"fill_color\":{\"value\":\"#6baed6\"},\"left\":{\"field\":\"left\"},\"line_alpha\":{\"value\":0.5},\"line_color\":{\"value\":\"#1f77b4\"},\"right\":{\"field\":\"right\"},\"top\":{\"field\":\"freq\"}},\"id\":\"1170\",\"type\":\"Quad\"},{\"attributes\":{\"bottom\":{\"value\":0.01},\"fill_alpha\":{\"value\":0.1},\"fill_color\":{\"value\":\"#1f77b4\"},\"line_alpha\":{\"value\":0.1},\"line_color\":{\"value\":\"#1f77b4\"},\"top\":{\"field\":\"F12d\"},\"width\":{\"value\":0.9},\"x\":{\"field\":\"index\"}},\"id\":\"1615\",\"type\":\"VBar\"},{\"attributes\":{\"callback\":null,\"tooltips\":[[\"F12b\",\"@index\"],[\"Count\",\"@F12b\"],[\"Percent\",\"@pct{0.2f}%\"]]},\"id\":\"1551\",\"type\":\"HoverTool\"},{\"attributes\":{\"bottom\":{\"value\":0.01},\"fill_alpha\":{\"value\":0.1},\"fill_color\":{\"value\":\"#1f77b4\"},\"line_alpha\":{\"value\":0.1},\"line_color\":{\"value\":\"#1f77b4\"},\"top\":{\"field\":\"F12a\"},\"width\":{\"value\":0.9},\"x\":{\"field\":\"index\"}},\"id\":\"1528\",\"type\":\"VBar\"},{\"attributes\":{\"ticks\":[1,1.9,2.8,3.7,4.6]},\"id\":\"1708\",\"type\":\"FixedTicker\"},{\"attributes\":{},\"id\":\"1548\",\"type\":\"BasicTicker\"},{\"attributes\":{\"axis_label\":\"Count\",\"formatter\":{\"id\":\"1911\"},\"major_label_text_font_size\":\"0pt\",\"major_tick_line_color\":null,\"minor_tick_line_color\":\"white\",\"ticker\":{\"id\":\"1726\"}},\"id\":\"1725\",\"type\":\"LinearAxis\"},{\"attributes\":{},\"id\":\"1250\",\"type\":\"LinearScale\"},{\"attributes\":{\"source\":{\"id\":\"1080\"}},\"id\":\"1085\",\"type\":\"CDSView\"},{\"attributes\":{\"callback\":null,\"tooltips\":[[\"F12d\",\"@index\"],[\"Count\",\"@F12d\"],[\"Percent\",\"@pct{0.2f}%\"]]},\"id\":\"1609\",\"type\":\"HoverTool\"},{\"attributes\":{},\"id\":\"1217\",\"type\":\"LinearScale\"},{\"attributes\":{\"axis\":{\"id\":\"1547\"},\"dimension\":1,\"grid_line_color\":null,\"ticker\":null},\"id\":\"1550\",\"type\":\"Grid\"},{\"attributes\":{\"ticks\":[1,1.9,2.8,3.7,4.6]},\"id\":\"1677\",\"type\":\"FixedTicker\"},{\"attributes\":{\"data\":{\"freq\":[90,0,113,0,0,159,0,140,0,137],\"index\":[0,1,2,3,4,5,6,7,8,9],\"intvl\":[\"[1, 1.4)\",\"[1.4, 1.8)\",\"[1.8, 2.2)\",\"[2.2, 2.6)\",\"[2.6, 3)\",\"[3, 3.4)\",\"[3.4, 3.8)\",\"[3.8, 4.2)\",\"[4.2, 4.6)\",\"[4.6,5]\"],\"left\":{\"__ndarray__\":\"AAAAAAAA8D9mZmZmZmb2P83MzMzMzPw/mpmZmZmZAUDNzMzMzMwEQAAAAAAAAAhANDMzMzMzC0BnZmZmZmYOQM3MzMzMzBBAZmZmZmZmEkA=\",\"dtype\":\"float64\",\"shape\":[10]},\"pct\":{\"__ndarray__\":\"AAAAAAAgLEAAAAAAAAAAAAAAAAAAqDFAAAAAAAAAAAAAAAAAAAAAAAAAAAAA2DhAAAAAAAAAAAAAAAAAAOA1QAAAAAAAAAAAAAAAAABoNUA=\",\"dtype\":\"float64\",\"shape\":[10]},\"right\":{\"__ndarray__\":\"ZmZmZmZm9j/NzMzMzMz8P5qZmZmZmQFAzczMzMzMBEAAAAAAAAAIQDQzMzMzMwtAZ2ZmZmZmDkDNzMzMzMwQQGZmZmZmZhJAAAAAAAAAFEA=\",\"dtype\":\"float64\",\"shape\":[10]}},\"selected\":{\"id\":\"1795\"},\"selection_policy\":{\"id\":\"1794\"}},\"id\":\"1230\",\"type\":\"ColumnDataSource\"},{\"attributes\":{\"source\":{\"id\":\"1261\"}},\"id\":\"1266\",\"type\":\"CDSView\"},{\"attributes\":{\"callback\":null,\"tooltips\":[[\"Schule\",\"@index\"],[\"Count\",\"@Schule\"],[\"Percent\",\"@pct{0.2f}%\"]]},\"id\":\"1729\",\"type\":\"HoverTool\"},{\"attributes\":{\"formatter\":{\"id\":\"1770\"},\"major_label_overrides\":{\"1\":\"1\",\"1.9\":\"1.9\",\"2.8\":\"2.8\",\"3.7\":\"3.7\",\"4.6\":\"4.6\"},\"major_label_standoff\":7,\"major_label_text_font_size\":\"10pt\",\"major_tick_line_color\":null,\"minor_tick_line_color\":\"white\",\"ticker\":{\"id\":\"1146\"}},\"id\":\"1128\",\"type\":\"LinearAxis\"},{\"attributes\":{},\"id\":\"1279\",\"type\":\"CategoricalScale\"},{\"attributes\":{\"ticks\":[1,1.9,2.8,3.7,4.6]},\"id\":\"1709\",\"type\":\"FixedTicker\"},{\"attributes\":{},\"id\":\"1745\",\"type\":\"UnionRenderers\"},{\"attributes\":{\"source\":{\"id\":\"1230\"}},\"id\":\"1235\",\"type\":\"CDSView\"},{\"attributes\":{},\"id\":\"1723\",\"type\":\"CategoricalTicker\"},{\"attributes\":{},\"id\":\"1726\",\"type\":\"BasicTicker\"},{\"attributes\":{},\"id\":\"1746\",\"type\":\"Selection\"},{\"attributes\":{\"axis\":{\"id\":\"1725\"},\"dimension\":1,\"grid_line_color\":null,\"ticker\":null},\"id\":\"1728\",\"type\":\"Grid\"},{\"attributes\":{\"ticks\":[1,1.9,2.8,3.7,4.6]},\"id\":\"1270\",\"type\":\"FixedTicker\"},{\"attributes\":{\"source\":{\"id\":\"1199\"}},\"id\":\"1204\",\"type\":\"CDSView\"},{\"attributes\":{\"bottom\":{\"value\":0.01},\"fill_color\":{\"value\":\"#1f77b4\"},\"line_color\":{\"value\":\"#1f77b4\"},\"top\":{\"field\":\"Geschlecht\"},\"width\":{\"value\":0.9},\"x\":{\"field\":\"index\"}},\"id\":\"1111\",\"type\":\"VBar\"},{\"attributes\":{\"ticks\":[1,1.9,2.8,3.7,4.6]},\"id\":\"1269\",\"type\":\"FixedTicker\"},{\"attributes\":{\"bottom\":{\"value\":0.01},\"fill_alpha\":{\"value\":0.1},\"fill_color\":{\"value\":\"#1f77b4\"},\"line_alpha\":{\"value\":0.1},\"line_color\":{\"value\":\"#1f77b4\"},\"top\":{\"field\":\"Schulstufe\"},\"width\":{\"value\":0.9},\"x\":{\"field\":\"index\"}},\"id\":\"1083\",\"type\":\"VBar\"},{\"attributes\":{\"bottom\":{\"value\":0},\"fill_alpha\":{\"value\":0.5},\"fill_color\":{\"value\":\"#6baed6\"},\"left\":{\"field\":\"left\"},\"line_alpha\":{\"value\":0.5},\"line_color\":{\"value\":\"#1f77b4\"},\"right\":{\"field\":\"right\"},\"top\":{\"field\":\"freq\"}},\"id\":\"1232\",\"type\":\"Quad\"},{\"attributes\":{\"active_drag\":\"auto\",\"active_inspect\":\"auto\",\"active_multi\":null,\"active_scroll\":\"auto\",\"active_tap\":\"auto\",\"tools\":[{\"id\":\"1174\"}]},\"id\":\"1167\",\"type\":\"Toolbar\"},{\"attributes\":{\"source\":{\"id\":\"1732\"}},\"id\":\"1737\",\"type\":\"CDSView\"},{\"attributes\":{\"factors\":[\"m\\u00e4nnlich\",\"weiblich\",\"divers\"]},\"id\":\"1091\",\"type\":\"FactorRange\"},{\"attributes\":{\"axis\":{\"id\":\"1225\"},\"dimension\":1,\"grid_line_color\":null,\"ticker\":null},\"id\":\"1228\",\"type\":\"Grid\"},{\"attributes\":{\"axis_label\":\"Count\",\"formatter\":{\"id\":\"1806\"},\"major_label_text_font_size\":\"0pt\",\"major_tick_line_color\":null,\"minor_tick_line_color\":\"white\",\"ticker\":{\"id\":\"1287\"}},\"id\":\"1286\",\"type\":\"LinearAxis\"},{\"attributes\":{\"text\":\"F6 (0.5% missing)\",\"text_font_size\":{\"value\":\"10pt\"}},\"id\":\"1149\",\"type\":\"Title\"},{\"attributes\":{},\"id\":\"1542\",\"type\":\"LinearScale\"},{\"attributes\":{\"active_drag\":\"auto\",\"active_inspect\":\"auto\",\"active_multi\":null,\"active_scroll\":\"auto\",\"active_tap\":\"auto\",\"tools\":[{\"id\":\"1729\"}]},\"id\":\"1730\",\"type\":\"Toolbar\"},{\"attributes\":{},\"id\":\"1126\",\"type\":\"LinearScale\"},{\"attributes\":{\"ticks\":[1,1.9,2.8,3.7,4.6]},\"id\":\"1238\",\"type\":\"FixedTicker\"},{\"attributes\":{},\"id\":\"1834\",\"type\":\"BasicTickFormatter\"},{\"attributes\":{},\"id\":\"1244\",\"type\":\"DataRange1d\"},{\"attributes\":{\"below\":[{\"id\":\"1544\"}],\"center\":[{\"id\":\"1546\"},{\"id\":\"1550\"}],\"left\":[{\"id\":\"1547\"}],\"plot_height\":300,\"plot_width\":324,\"renderers\":[{\"id\":\"1558\"}],\"title\":{\"id\":\"1534\"},\"toolbar\":{\"id\":\"1552\"},\"toolbar_location\":null,\"x_range\":{\"id\":\"1536\"},\"x_scale\":{\"id\":\"1540\"},\"y_range\":{\"id\":\"1538\"},\"y_scale\":{\"id\":\"1542\"}},\"id\":\"1533\",\"subtype\":\"Figure\",\"type\":\"Plot\"},{\"attributes\":{\"data_source\":{\"id\":\"1199\"},\"glyph\":{\"id\":\"1201\"},\"hover_glyph\":null,\"muted_glyph\":null,\"nonselection_glyph\":{\"id\":\"1202\"},\"selection_glyph\":null,\"view\":{\"id\":\"1204\"}},\"id\":\"1203\",\"type\":\"GlyphRenderer\"},{\"attributes\":{\"code\":\"\\n            if (tick.length &gt; 15) return tick.substring(0, 15-2) + '...';\\n            else return tick;\\n        \"},\"id\":\"1086\",\"type\":\"FuncTickFormatter\"},{\"attributes\":{\"bottom\":{\"value\":0},\"fill_alpha\":{\"value\":0.5},\"fill_color\":{\"value\":\"#6baed6\"},\"left\":{\"field\":\"left\"},\"line_alpha\":{\"value\":0.5},\"line_color\":{\"value\":\"#1f77b4\"},\"right\":{\"field\":\"right\"},\"top\":{\"field\":\"freq\"}},\"id\":\"1201\",\"type\":\"Quad\"},{\"attributes\":{},\"id\":\"1801\",\"type\":\"UnionRenderers\"},{\"attributes\":{},\"id\":\"1864\",\"type\":\"UnionRenderers\"},{\"attributes\":{\"bottom\":{\"value\":0},\"fill_alpha\":{\"value\":0.1},\"fill_color\":{\"value\":\"#6baed6\"},\"left\":{\"field\":\"left\"},\"line_alpha\":{\"value\":0.1},\"line_color\":{\"value\":\"#1f77b4\"},\"right\":{\"field\":\"right\"},\"top\":{\"field\":\"freq\"}},\"id\":\"1202\",\"type\":\"Quad\"},{\"attributes\":{\"text\":\"F8 (0.2% missing)\",\"text_font_size\":{\"value\":\"10pt\"}},\"id\":\"1211\",\"type\":\"Title\"},{\"attributes\":{},\"id\":\"1802\",\"type\":\"Selection\"},{\"attributes\":{},\"id\":\"1865\",\"type\":\"Selection\"},{\"attributes\":{},\"id\":\"1248\",\"type\":\"LinearScale\"},{\"attributes\":{\"formatter\":{\"id\":\"1357\"},\"major_label_orientation\":1.0471975511965976,\"major_label_text_font_size\":\"9pt\",\"minor_tick_line_color\":\"white\",\"ticker\":{\"id\":\"1342\"}},\"id\":\"1341\",\"type\":\"CategoricalAxis\"},{\"attributes\":{\"data_source\":{\"id\":\"1612\"},\"glyph\":{\"id\":\"1614\"},\"hover_glyph\":null,\"muted_glyph\":null,\"nonselection_glyph\":{\"id\":\"1615\"},\"selection_glyph\":null,\"view\":{\"id\":\"1617\"}},\"id\":\"1616\",\"type\":\"GlyphRenderer\"},{\"attributes\":{},\"id\":\"1246\",\"type\":\"DataRange1d\"},{\"attributes\":{},\"id\":\"1750\",\"type\":\"BasicTickFormatter\"},{\"attributes\":{\"data\":{\"Geschlecht\":[452,176,5],\"index\":[\"m\\u00e4nnlich\",\"weiblich\",\"divers\"],\"pct\":{\"__ndarray__\":\"AAAAAACoUUABAAAAAIA7QAAAAAAAAOk/\",\"dtype\":\"float64\",\"shape\":[3]}},\"selected\":{\"id\":\"1767\"},\"selection_policy\":{\"id\":\"1766\"}},\"id\":\"1109\",\"type\":\"ColumnDataSource\"},{\"attributes\":{\"axis\":{\"id\":\"1102\"},\"dimension\":1,\"grid_line_color\":null,\"ticker\":null},\"id\":\"1105\",\"type\":\"Grid\"},{\"attributes\":{\"active_drag\":\"auto\",\"active_inspect\":\"auto\",\"active_multi\":null,\"active_scroll\":\"auto\",\"active_tap\":\"auto\",\"tools\":[{\"id\":\"1205\"}]},\"id\":\"1198\",\"type\":\"Toolbar\"},{\"attributes\":{\"bottom\":{\"value\":0.01},\"fill_color\":{\"value\":\"#1f77b4\"},\"line_color\":{\"value\":\"#1f77b4\"},\"top\":{\"field\":\"F10a\"},\"width\":{\"value\":0.9},\"x\":{\"field\":\"index\"}},\"id\":\"1295\",\"type\":\"VBar\"},{\"attributes\":{\"axis\":{\"id\":\"1159\"},\"grid_line_color\":null,\"ticker\":{\"id\":\"1176\"}},\"id\":\"1162\",\"type\":\"Grid\"},{\"attributes\":{\"callback\":null,\"mode\":\"vline\",\"tooltips\":[[\"Bin\",\"@intvl\"],[\"Frequency\",\"@freq\"],[\"Percent\",\"@pct{0.2f}%\"]]},\"id\":\"1205\",\"type\":\"HoverTool\"},{\"attributes\":{\"ticks\":[1,1.9,2.8,3.7,4.6]},\"id\":\"1239\",\"type\":\"FixedTicker\"},{\"attributes\":{\"source\":{\"id\":\"1525\"}},\"id\":\"1530\",\"type\":\"CDSView\"},{\"attributes\":{\"axis\":{\"id\":\"1194\"},\"dimension\":1,\"grid_line_color\":null,\"ticker\":null},\"id\":\"1197\",\"type\":\"Grid\"},{\"attributes\":{\"data_source\":{\"id\":\"1261\"},\"glyph\":{\"id\":\"1263\"},\"hover_glyph\":null,\"muted_glyph\":null,\"nonselection_glyph\":{\"id\":\"1264\"},\"selection_glyph\":null,\"view\":{\"id\":\"1266\"}},\"id\":\"1265\",\"type\":\"GlyphRenderer\"},{\"attributes\":{\"text\":\"F5 (0.5% missing)\",\"text_font_size\":{\"value\":\"10pt\"}},\"id\":\"1118\",\"type\":\"Title\"},{\"attributes\":{},\"id\":\"1752\",\"type\":\"UnionRenderers\"},{\"attributes\":{\"active_drag\":\"auto\",\"active_inspect\":\"auto\",\"active_multi\":null,\"active_scroll\":\"auto\",\"active_tap\":\"auto\",\"tools\":[{\"id\":\"1106\"}]},\"id\":\"1107\",\"type\":\"Toolbar\"},{\"attributes\":{\"axis_label\":\"Frequency\",\"formatter\":{\"id\":\"1792\"},\"major_label_text_font_size\":\"0pt\",\"major_tick_line_color\":null,\"minor_tick_line_color\":\"white\",\"ticker\":{\"id\":\"1226\"}},\"id\":\"1225\",\"type\":\"LinearAxis\"},{\"attributes\":{\"formatter\":{\"id\":\"1777\"},\"major_label_overrides\":{\"1\":\"1\",\"1.9\":\"1.9\",\"2.8\":\"2.8\",\"3.7\":\"3.7\",\"4.6\":\"4.6\"},\"major_label_standoff\":7,\"major_label_text_font_size\":\"10pt\",\"major_tick_line_color\":null,\"minor_tick_line_color\":\"white\",\"ticker\":{\"id\":\"1177\"}},\"id\":\"1159\",\"type\":\"LinearAxis\"},{\"attributes\":{},\"id\":\"1753\",\"type\":\"Selection\"},{\"attributes\":{\"axis_label\":\"Count\",\"formatter\":{\"id\":\"1820\"},\"major_label_text_font_size\":\"0pt\",\"major_tick_line_color\":null,\"minor_tick_line_color\":\"white\",\"ticker\":{\"id\":\"1345\"}},\"id\":\"1344\",\"type\":\"LinearAxis\"},{\"attributes\":{\"axis_label\":\"Frequency\",\"formatter\":{\"id\":\"1778\"},\"major_label_text_font_size\":\"0pt\",\"major_tick_line_color\":null,\"minor_tick_line_color\":\"white\",\"ticker\":{\"id\":\"1164\"}},\"id\":\"1163\",\"type\":\"LinearAxis\"},{\"attributes\":{\"code\":\"\\n            if (tick.length &gt; 15) return tick.substring(0, 15-2) + '...';\\n            else return tick;\\n        \"},\"id\":\"1618\",\"type\":\"FuncTickFormatter\"},{\"attributes\":{},\"id\":\"1120\",\"type\":\"DataRange1d\"},{\"attributes\":{\"bottom\":{\"value\":0.01},\"fill_color\":{\"value\":\"#1f77b4\"},\"line_color\":{\"value\":\"#1f77b4\"},\"top\":{\"field\":\"F12e\"},\"width\":{\"value\":0.9},\"x\":{\"field\":\"index\"}},\"id\":\"1643\",\"type\":\"VBar\"},{\"attributes\":{\"active_drag\":\"auto\",\"active_inspect\":\"auto\",\"active_multi\":null,\"active_scroll\":\"auto\",\"active_tap\":\"auto\",\"tools\":[{\"id\":\"1609\"}]},\"id\":\"1610\",\"type\":\"Toolbar\"},{\"attributes\":{\"code\":\"\\n            if (tick.length &gt; 15) return tick.substring(0, 15-2) + '...';\\n            else return tick;\\n        \"},\"id\":\"1738\",\"type\":\"FuncTickFormatter\"},{\"attributes\":{\"active_drag\":\"auto\",\"active_inspect\":\"auto\",\"active_multi\":null,\"active_scroll\":\"auto\",\"active_tap\":\"auto\",\"tools\":[{\"id\":\"1522\"}]},\"id\":\"1523\",\"type\":\"Toolbar\"},{\"attributes\":{},\"id\":\"1097\",\"type\":\"LinearScale\"},{\"attributes\":{},\"id\":\"1157\",\"type\":\"LinearScale\"},{\"attributes\":{\"active_drag\":\"auto\",\"active_inspect\":\"auto\",\"active_multi\":null,\"active_scroll\":\"auto\",\"active_tap\":\"auto\",\"tools\":[{\"id\":\"1236\"}]},\"id\":\"1229\",\"type\":\"Toolbar\"},{\"attributes\":{\"text\":\"F12b (2.0% missing)\",\"text_font_size\":{\"value\":\"10pt\"}},\"id\":\"1534\",\"type\":\"Title\"},{\"attributes\":{},\"id\":\"1545\",\"type\":\"CategoricalTicker\"},{\"attributes\":{\"axis\":{\"id\":\"1190\"},\"grid_line_color\":null,\"ticker\":{\"id\":\"1207\"}},\"id\":\"1193\",\"type\":\"Grid\"},{\"attributes\":{\"text\":\"F10a (0.3% missing)\",\"text_font_size\":{\"value\":\"10pt\"}},\"id\":\"1273\",\"type\":\"Title\"},{\"attributes\":{\"code\":\"\\n            if (tick.length &gt; 15) return tick.substring(0, 15-2) + '...';\\n            else return tick;\\n        \"},\"id\":\"1531\",\"type\":\"FuncTickFormatter\"},{\"attributes\":{\"height\":280,\"style\":{\"width\":\"100%\"},\"text\":\"\\n    &lt;div style=\\\"display: flex;\\\"&gt;\\n        \\n    &lt;div style=\\\"flex: 50%; margin-right: 6px;\\\"&gt;\\n        &lt;table style=\\\"width: 100%; table-layout: auto;\\\"&gt;\\n            &lt;tbody&gt;&lt;h3 style=\\\"text-align:center;\\\"&gt;Dataset Statistics&lt;/h3&gt;\\n    &lt;tr style=\\\"border-bottom: 1px solid;\\\"&gt;\\n        &lt;th style=\\\"text-align: left\\\"&gt;Number of Variables&lt;/th&gt;\\n        &lt;td style=\\\"text-align: left\\\"&gt;25&lt;/td&gt;\\n    &lt;/tr&gt;\\n    \\n    &lt;tr style=\\\"border-bottom: 1px solid;\\\"&gt;\\n        &lt;th style=\\\"text-align: left\\\"&gt;Number of Observations&lt;/th&gt;\\n        &lt;td style=\\\"text-align: left\\\"&gt;640&lt;/td&gt;\\n    &lt;/tr&gt;\\n    \\n    &lt;tr style=\\\"border-bottom: 1px solid;\\\"&gt;\\n        &lt;th style=\\\"text-align: left\\\"&gt;Missing Cells&lt;/th&gt;\\n        &lt;td style=\\\"text-align: left\\\"&gt;211&lt;/td&gt;\\n    &lt;/tr&gt;\\n    \\n    &lt;tr style=\\\"border-bottom: 1px solid;\\\"&gt;\\n        &lt;th style=\\\"text-align: left\\\"&gt;Missing Cells (%)&lt;/th&gt;\\n        &lt;td style=\\\"text-align: left\\\"&gt;1.3%&lt;/td&gt;\\n    &lt;/tr&gt;\\n    \\n    &lt;tr style=\\\"border-bottom: 1px solid;\\\"&gt;\\n        &lt;th style=\\\"text-align: left\\\"&gt;Duplicate Rows&lt;/th&gt;\\n        &lt;td style=\\\"text-align: left\\\"&gt;18&lt;/td&gt;\\n    &lt;/tr&gt;\\n    \\n    &lt;tr style=\\\"border-bottom: 1px solid;\\\"&gt;\\n        &lt;th style=\\\"text-align: left\\\"&gt;Duplicate Rows (%)&lt;/th&gt;\\n        &lt;td style=\\\"text-align: left\\\"&gt;2.8%&lt;/td&gt;\\n    &lt;/tr&gt;\\n    \\n    &lt;tr style=\\\"border-bottom: 1px solid;\\\"&gt;\\n        &lt;th style=\\\"text-align: left\\\"&gt;Total Size in Memory&lt;/th&gt;\\n        &lt;td style=\\\"text-align: left\\\"&gt;775.2 KB&lt;/td&gt;\\n    &lt;/tr&gt;\\n    \\n    &lt;tr style=\\\"border-bottom: 1px solid;\\\"&gt;\\n        &lt;th style=\\\"text-align: left\\\"&gt;Average Record Size in Memory&lt;/th&gt;\\n        &lt;td style=\\\"text-align: left\\\"&gt;1.2 KB&lt;/td&gt;\\n    &lt;/tr&gt;\\n    &lt;/tbody&gt;\\n        &lt;/table&gt;\\n    &lt;/div&gt;\\n    \\n        \\n    &lt;div style=\\\"flex: 50%; margin-right: 6px;\\\"&gt;\\n        &lt;table style=\\\"width: 100%; table-layout: auto;\\\"&gt;\\n            &lt;tbody&gt;&lt;h3 style=\\\"text-align:center;\\\"&gt;Variable Types&lt;/h3&gt;\\n    &lt;tr style=\\\"border-bottom: 1px solid;\\\"&gt;\\n        &lt;th style=\\\"text-align: left\\\"&gt;Categorical&lt;/th&gt;\\n        &lt;td style=\\\"text-align: left\\\"&gt;18&lt;/td&gt;\\n    &lt;/tr&gt;\\n    \\n    &lt;tr style=\\\"border-bottom: 1px solid;\\\"&gt;\\n        &lt;th style=\\\"text-align: left\\\"&gt;Numerical&lt;/th&gt;\\n        &lt;td style=\\\"text-align: left\\\"&gt;7&lt;/td&gt;\\n    &lt;/tr&gt;\\n    &lt;/tbody&gt;\\n        &lt;/table&gt;\\n    &lt;/div&gt;\\n    \\n    &lt;/div&gt;\\n    \",\"visible\":false,\"width\":972},\"id\":\"1740\",\"type\":\"Div\"},{\"attributes\":{},\"id\":\"1153\",\"type\":\"DataRange1d\"},{\"attributes\":{},\"id\":\"1806\",\"type\":\"BasicTickFormatter\"},{\"attributes\":{\"callback\":null,\"mode\":\"vline\",\"tooltips\":[[\"Bin\",\"@intvl\"],[\"Frequency\",\"@freq\"],[\"Percent\",\"@pct{0.2f}%\"]]},\"id\":\"1267\",\"type\":\"HoverTool\"},{\"attributes\":{\"callback\":null,\"tooltips\":[[\"F11e\",\"@index\"],[\"Count\",\"@F11e\"],[\"Percent\",\"@pct{0.2f}%\"]]},\"id\":\"1493\",\"type\":\"HoverTool\"},{\"attributes\":{},\"id\":\"1869\",\"type\":\"BasicTickFormatter\"},{\"attributes\":{\"data_source\":{\"id\":\"1732\"},\"glyph\":{\"id\":\"1734\"},\"hover_glyph\":null,\"muted_glyph\":null,\"nonselection_glyph\":{\"id\":\"1735\"},\"selection_glyph\":null,\"view\":{\"id\":\"1737\"}},\"id\":\"1736\",\"type\":\"GlyphRenderer\"},{\"attributes\":{\"bottom\":{\"value\":0},\"fill_alpha\":{\"value\":0.1},\"fill_color\":{\"value\":\"#6baed6\"},\"left\":{\"field\":\"left\"},\"line_alpha\":{\"value\":0.1},\"line_color\":{\"value\":\"#1f77b4\"},\"right\":{\"field\":\"right\"},\"top\":{\"field\":\"freq\"}},\"id\":\"1264\",\"type\":\"Quad\"},{\"attributes\":{\"bottom\":{\"value\":0.01},\"fill_alpha\":{\"value\":0.1},\"fill_color\":{\"value\":\"#1f77b4\"},\"line_alpha\":{\"value\":0.1},\"line_color\":{\"value\":\"#1f77b4\"},\"top\":{\"field\":\"Schule\"},\"width\":{\"value\":0.9},\"x\":{\"field\":\"index\"}},\"id\":\"1735\",\"type\":\"VBar\"},{\"attributes\":{\"formatter\":{\"id\":\"1791\"},\"major_label_overrides\":{\"1\":\"1\",\"1.9\":\"1.9\",\"2.8\":\"2.8\",\"3.7\":\"3.7\",\"4.6\":\"4.6\"},\"major_label_standoff\":7,\"major_label_text_font_size\":\"10pt\",\"major_tick_line_color\":null,\"minor_tick_line_color\":\"white\",\"ticker\":{\"id\":\"1239\"}},\"id\":\"1221\",\"type\":\"LinearAxis\"},{\"attributes\":{},\"id\":\"1342\",\"type\":\"CategoricalTicker\"},{\"attributes\":{\"bottom\":{\"value\":0},\"fill_alpha\":{\"value\":0.1},\"fill_color\":{\"value\":\"#6baed6\"},\"left\":{\"field\":\"left\"},\"line_alpha\":{\"value\":0.1},\"line_color\":{\"value\":\"#1f77b4\"},\"right\":{\"field\":\"right\"},\"top\":{\"field\":\"freq\"}},\"id\":\"1233\",\"type\":\"Quad\"},{\"attributes\":{\"args\":{\"button\":{\"id\":\"1917\"},\"div\":{\"id\":\"1740\"}},\"code\":\"\\n        let buttonLabel = button.label;\\n        let isDivVisible = div.visible;\\n        div.visible = isDivVisible ? false : true;\\n        button.label = (buttonLabel === 'Show Stats Info') ? 'Hide Stats Info' : 'Show Stats Info';\\n    \"},\"id\":\"1918\",\"type\":\"CustomJS\"},{\"attributes\":{\"axis_label\":\"Frequency\",\"formatter\":{\"id\":\"1785\"},\"major_label_text_font_size\":\"0pt\",\"major_tick_line_color\":null,\"minor_tick_line_color\":\"white\",\"ticker\":{\"id\":\"1195\"}},\"id\":\"1194\",\"type\":\"LinearAxis\"},{\"attributes\":{\"axis\":{\"id\":\"1544\"},\"grid_line_color\":null,\"ticker\":null},\"id\":\"1546\",\"type\":\"Grid\"},{\"attributes\":{\"axis\":{\"id\":\"1341\"},\"grid_line_color\":null,\"ticker\":null},\"id\":\"1343\",\"type\":\"Grid\"},{\"attributes\":{},\"id\":\"1164\",\"type\":\"BasicTicker\"},{\"attributes\":{},\"id\":\"1836\",\"type\":\"UnionRenderers\"},{\"attributes\":{\"axis\":{\"id\":\"1344\"},\"dimension\":1,\"grid_line_color\":null,\"ticker\":null},\"id\":\"1347\",\"type\":\"Grid\"},{\"attributes\":{},\"id\":\"1837\",\"type\":\"Selection\"},{\"attributes\":{\"axis_label\":\"Count\",\"formatter\":{\"id\":\"1869\"},\"major_label_text_font_size\":\"0pt\",\"major_tick_line_color\":null,\"minor_tick_line_color\":\"white\",\"ticker\":{\"id\":\"1548\"}},\"id\":\"1547\",\"type\":\"LinearAxis\"},{\"attributes\":{},\"id\":\"1195\",\"type\":\"BasicTicker\"},{\"attributes\":{},\"id\":\"1339\",\"type\":\"LinearScale\"},{\"attributes\":{},\"id\":\"1155\",\"type\":\"LinearScale\"},{\"attributes\":{},\"id\":\"1757\",\"type\":\"BasicTickFormatter\"},{\"attributes\":{},\"id\":\"1095\",\"type\":\"CategoricalScale\"},{\"attributes\":{\"data_source\":{\"id\":\"1230\"},\"glyph\":{\"id\":\"1232\"},\"hover_glyph\":null,\"muted_glyph\":null,\"nonselection_glyph\":{\"id\":\"1233\"},\"selection_glyph\":null,\"view\":{\"id\":\"1235\"}},\"id\":\"1234\",\"type\":\"GlyphRenderer\"},{\"attributes\":{\"axis\":{\"id\":\"1283\"},\"grid_line_color\":null,\"ticker\":null},\"id\":\"1285\",\"type\":\"Grid\"},{\"attributes\":{\"formatter\":{\"id\":\"1299\"},\"major_label_orientation\":1.0471975511965976,\"major_label_text_font_size\":\"9pt\",\"minor_tick_line_color\":\"white\",\"ticker\":{\"id\":\"1284\"}},\"id\":\"1283\",\"type\":\"CategoricalAxis\"},{\"attributes\":{},\"id\":\"1226\",\"type\":\"BasicTicker\"},{\"attributes\":{\"data\":{\"F12e\":[255,200,96,40,36],\"index\":[\"egal\",\"wichtig\",\"sehr wichtig\",\"gar nicht wichtig\",\"nicht wichtig\"],\"pct\":{\"__ndarray__\":\"AAAAAADsQ0AAAAAAAEA/QAAAAAAAAC5AAAAAAAAAGUAAAAAAAIAWQA==\",\"dtype\":\"float64\",\"shape\":[5]}},\"selected\":{\"id\":\"1893\"},\"selection_policy\":{\"id\":\"1892\"}},\"id\":\"1641\",\"type\":\"ColumnDataSource\"},{\"attributes\":{\"below\":[{\"id\":\"1099\"}],\"center\":[{\"id\":\"1101\"},{\"id\":\"1105\"}],\"left\":[{\"id\":\"1102\"}],\"plot_height\":300,\"plot_width\":324,\"renderers\":[{\"id\":\"1113\"}],\"title\":{\"id\":\"1089\"},\"toolbar\":{\"id\":\"1107\"},\"toolbar_location\":null,\"x_range\":{\"id\":\"1091\"},\"x_scale\":{\"id\":\"1095\"},\"y_range\":{\"id\":\"1093\"},\"y_scale\":{\"id\":\"1097\"}},\"id\":\"1088\",\"subtype\":\"Figure\",\"type\":\"Plot\"},{\"attributes\":{\"text\":\"F9 (1.1% missing)\",\"text_font_size\":{\"value\":\"10pt\"}},\"id\":\"1242\",\"type\":\"Title\"},{\"attributes\":{\"formatter\":{\"id\":\"1560\"},\"major_label_orientation\":1.0471975511965976,\"major_label_text_font_size\":\"9pt\",\"minor_tick_line_color\":\"white\",\"ticker\":{\"id\":\"1545\"}},\"id\":\"1544\",\"type\":\"CategoricalAxis\"},{\"attributes\":{},\"id\":\"1122\",\"type\":\"DataRange1d\"},{\"attributes\":{\"factors\":[\"egal\",\"wichtig\",\"nicht wichtig\",\"gar nicht wichtig\",\"sehr wichtig\"]},\"id\":\"1536\",\"type\":\"FactorRange\"},{\"attributes\":{\"data_source\":{\"id\":\"1322\"},\"glyph\":{\"id\":\"1324\"},\"hover_glyph\":null,\"muted_glyph\":null,\"nonselection_glyph\":{\"id\":\"1325\"},\"selection_glyph\":null,\"view\":{\"id\":\"1327\"}},\"id\":\"1326\",\"type\":\"GlyphRenderer\"},{\"attributes\":{},\"id\":\"1538\",\"type\":\"DataRange1d\"},{\"attributes\":{\"bottom\":{\"value\":0},\"fill_alpha\":{\"value\":0.1},\"fill_color\":{\"value\":\"#6baed6\"},\"left\":{\"field\":\"left\"},\"line_alpha\":{\"value\":0.1},\"line_color\":{\"value\":\"#1f77b4\"},\"right\":{\"field\":\"right\"},\"top\":{\"field\":\"freq\"}},\"id\":\"1703\",\"type\":\"Quad\"},{\"attributes\":{},\"id\":\"1743\",\"type\":\"BasicTickFormatter\"},{\"attributes\":{\"callback\":null,\"mode\":\"vline\",\"tooltips\":[[\"Bin\",\"@intvl\"],[\"Frequency\",\"@freq\"],[\"Percent\",\"@pct{0.2f}%\"]]},\"id\":\"1236\",\"type\":\"HoverTool\"},{\"attributes\":{\"formatter\":{\"id\":\"1115\"},\"major_label_orientation\":1.0471975511965976,\"major_label_text_font_size\":\"9pt\",\"minor_tick_line_color\":\"white\",\"ticker\":{\"id\":\"1100\"}},\"id\":\"1099\",\"type\":\"CategoricalAxis\"},{\"attributes\":{},\"id\":\"1215\",\"type\":\"DataRange1d\"},{\"attributes\":{\"bottom\":{\"value\":0.01},\"fill_color\":{\"value\":\"#1f77b4\"},\"line_color\":{\"value\":\"#1f77b4\"},\"top\":{\"field\":\"F12b\"},\"width\":{\"value\":0.9},\"x\":{\"field\":\"index\"}},\"id\":\"1556\",\"type\":\"VBar\"},{\"attributes\":{},\"id\":\"1093\",\"type\":\"DataRange1d\"},{\"attributes\":{},\"id\":\"1287\",\"type\":\"BasicTicker\"},{\"attributes\":{\"data\":{\"F12b\":[262,144,84,73,64],\"index\":[\"egal\",\"wichtig\",\"nicht wichtig\",\"gar nicht wichtig\",\"sehr wichtig\"],\"pct\":{\"__ndarray__\":\"AAAAAAB4REAAAAAAAIA2QAAAAAAAQCpAAAAAAADQJkAAAAAAAAAkQA==\",\"dtype\":\"float64\",\"shape\":[5]}},\"selected\":{\"id\":\"1872\"},\"selection_policy\":{\"id\":\"1871\"}},\"id\":\"1554\",\"type\":\"ColumnDataSource\"},{\"attributes\":{\"data\":{\"freq\":[104,0,125,0,0,171,0,131,0,106],\"index\":[0,1,2,3,4,5,6,7,8,9],\"intvl\":[\"[1, 1.4)\",\"[1.4, 1.8)\",\"[1.8, 2.2)\",\"[2.2, 2.6)\",\"[2.6, 3)\",\"[3, 3.4)\",\"[3.4, 3.8)\",\"[3.8, 4.2)\",\"[4.2, 4.6)\",\"[4.6,5]\"],\"left\":{\"__ndarray__\":\"AAAAAAAA8D9mZmZmZmb2P83MzMzMzPw/mpmZmZmZAUDNzMzMzMwEQAAAAAAAAAhANDMzMzMzC0BnZmZmZmYOQM3MzMzMzBBAZmZmZmZmEkA=\",\"dtype\":\"float64\",\"shape\":[10]},\"pct\":{\"__ndarray__\":\"AAAAAABAMEAAAAAAAAAAAAAAAAAAiDNAAAAAAAAAAAAAAAAAAAAAAAEAAAAAuDpAAAAAAAAAAAAAAAAAAHg0QAAAAAAAAAAAAAAAAACQMEA=\",\"dtype\":\"float64\",\"shape\":[10]},\"right\":{\"__ndarray__\":\"ZmZmZmZm9j/NzMzMzMz8P5qZmZmZmQFAzczMzMzMBEAAAAAAAAAIQDQzMzMzMwtAZ2ZmZmZmDkDNzMzMzMwQQGZmZmZmZhJAAAAAAAAAFEA=\",\"dtype\":\"float64\",\"shape\":[10]}},\"selected\":{\"id\":\"1774\"},\"selection_policy\":{\"id\":\"1773\"}},\"id\":\"1137\",\"type\":\"ColumnDataSource\"},{\"attributes\":{\"ticks\":[1,1.9,2.8,3.7,4.6]},\"id\":\"1207\",\"type\":\"FixedTicker\"},{\"attributes\":{\"axis\":{\"id\":\"1128\"},\"grid_line_color\":null,\"ticker\":{\"id\":\"1145\"}},\"id\":\"1131\",\"type\":\"Grid\"},{\"attributes\":{\"axis\":{\"id\":\"1286\"},\"dimension\":1,\"grid_line_color\":null,\"ticker\":null},\"id\":\"1289\",\"type\":\"Grid\"},{\"attributes\":{},\"id\":\"1284\",\"type\":\"CategoricalTicker\"},{\"attributes\":{\"axis\":{\"id\":\"1099\"},\"grid_line_color\":null,\"ticker\":null},\"id\":\"1101\",\"type\":\"Grid\"},{\"attributes\":{},\"id\":\"1213\",\"type\":\"DataRange1d\"},{\"attributes\":{\"active_drag\":\"auto\",\"active_inspect\":\"auto\",\"active_multi\":null,\"active_scroll\":\"auto\",\"active_tap\":\"auto\",\"tools\":[{\"id\":\"1290\"}]},\"id\":\"1291\",\"type\":\"Toolbar\"},{\"attributes\":{\"data\":{\"freq\":[53,0,73,0,0,181,0,172,0,154],\"index\":[0,1,2,3,4,5,6,7,8,9],\"intvl\":[\"[1, 1.4)\",\"[1.4, 1.8)\",\"[1.8, 2.2)\",\"[2.2, 2.6)\",\"[2.6, 3)\",\"[3, 3.4)\",\"[3.4, 3.8)\",\"[3.8, 4.2)\",\"[4.2, 4.6)\",\"[4.6,5]\"],\"left\":{\"__ndarray__\":\"AAAAAAAA8D9mZmZmZmb2P83MzMzMzPw/mpmZmZmZAUDNzMzMzMwEQAAAAAAAAAhANDMzMzMzC0BnZmZmZmYOQM3MzMzMzBBAZmZmZmZmEkA=\",\"dtype\":\"float64\",\"shape\":[10]},\"pct\":{\"__ndarray__\":\"AAAAAACQIEAAAAAAAAAAAAAAAAAA0CZAAAAAAAAAAAAAAAAAAAAAAAEAAAAASDxAAAAAAAAAAAAAAAAAAOA6QAAAAAAAAAAAAAAAAAAQOEA=\",\"dtype\":\"float64\",\"shape\":[10]},\"right\":{\"__ndarray__\":\"ZmZmZmZm9j/NzMzMzMz8P5qZmZmZmQFAzczMzMzMBEAAAAAAAAAIQDQzMzMzMwtAZ2ZmZmZmDkDNzMzMzMwQQGZmZmZmZhJAAAAAAAAAFEA=\",\"dtype\":\"float64\",\"shape\":[10]}},\"selected\":{\"id\":\"1802\"},\"selection_policy\":{\"id\":\"1801\"}},\"id\":\"1261\",\"type\":\"ColumnDataSource\"},{\"attributes\":{\"callback\":null,\"tooltips\":[[\"F10a\",\"@index\"],[\"Count\",\"@F10a\"],[\"Percent\",\"@pct{0.2f}%\"]]},\"id\":\"1290\",\"type\":\"HoverTool\"},{\"attributes\":{\"below\":[{\"id\":\"1190\"}],\"center\":[{\"id\":\"1193\"},{\"id\":\"1197\"}],\"left\":[{\"id\":\"1194\"}],\"plot_height\":300,\"plot_width\":324,\"renderers\":[{\"id\":\"1203\"}],\"title\":{\"id\":\"1180\"},\"toolbar\":{\"id\":\"1198\"},\"toolbar_location\":null,\"x_range\":{\"id\":\"1182\"},\"x_scale\":{\"id\":\"1186\"},\"y_range\":{\"id\":\"1184\"},\"y_scale\":{\"id\":\"1188\"}},\"id\":\"1179\",\"subtype\":\"Figure\",\"type\":\"Plot\"},{\"attributes\":{\"data_source\":{\"id\":\"1080\"},\"glyph\":{\"id\":\"1082\"},\"hover_glyph\":null,\"muted_glyph\":null,\"nonselection_glyph\":{\"id\":\"1083\"},\"selection_glyph\":null,\"view\":{\"id\":\"1085\"}},\"id\":\"1084\",\"type\":\"GlyphRenderer\"},{\"attributes\":{\"formatter\":{\"id\":\"1798\"},\"major_label_overrides\":{\"1\":\"1\",\"1.9\":\"1.9\",\"2.8\":\"2.8\",\"3.7\":\"3.7\",\"4.6\":\"4.6\"},\"major_label_standoff\":7,\"major_label_text_font_size\":\"10pt\",\"major_tick_line_color\":null,\"minor_tick_line_color\":\"white\",\"ticker\":{\"id\":\"1270\"}},\"id\":\"1252\",\"type\":\"LinearAxis\"},{\"attributes\":{\"below\":[{\"id\":\"1631\"}],\"center\":[{\"id\":\"1633\"},{\"id\":\"1637\"}],\"left\":[{\"id\":\"1634\"}],\"plot_height\":300,\"plot_width\":324,\"renderers\":[{\"id\":\"1645\"}],\"title\":{\"id\":\"1621\"},\"toolbar\":{\"id\":\"1639\"},\"toolbar_location\":null,\"x_range\":{\"id\":\"1623\"},\"x_scale\":{\"id\":\"1627\"},\"y_range\":{\"id\":\"1625\"},\"y_scale\":{\"id\":\"1629\"}},\"id\":\"1620\",\"subtype\":\"Figure\",\"type\":\"Plot\"},{\"attributes\":{},\"id\":\"1124\",\"type\":\"LinearScale\"},{\"attributes\":{\"axis\":{\"id\":\"1221\"},\"grid_line_color\":null,\"ticker\":{\"id\":\"1238\"}},\"id\":\"1224\",\"type\":\"Grid\"},{\"attributes\":{},\"id\":\"1219\",\"type\":\"LinearScale\"},{\"attributes\":{\"text\":\"F12e (2.0% missing)\",\"text_font_size\":{\"value\":\"10pt\"}},\"id\":\"1621\",\"type\":\"Title\"},{\"attributes\":{},\"id\":\"1103\",\"type\":\"BasicTicker\"},{\"attributes\":{\"axis_label\":\"Count\",\"formatter\":{\"id\":\"1764\"},\"major_label_text_font_size\":\"0pt\",\"major_tick_line_color\":null,\"minor_tick_line_color\":\"white\",\"ticker\":{\"id\":\"1103\"}},\"id\":\"1102\",\"type\":\"LinearAxis\"},{\"attributes\":{},\"id\":\"1841\",\"type\":\"BasicTickFormatter\"},{\"attributes\":{\"callback\":null,\"tooltips\":[[\"Geschlecht\",\"@index\"],[\"Count\",\"@Geschlecht\"],[\"Percent\",\"@pct{0.2f}%\"]]},\"id\":\"1106\",\"type\":\"HoverTool\"},{\"attributes\":{},\"id\":\"1345\",\"type\":\"BasicTicker\"},{\"attributes\":{\"axis\":{\"id\":\"1163\"},\"dimension\":1,\"grid_line_color\":null,\"ticker\":null},\"id\":\"1166\",\"type\":\"Grid\"},{\"attributes\":{},\"id\":\"1540\",\"type\":\"CategoricalScale\"},{\"attributes\":{},\"id\":\"1808\",\"type\":\"UnionRenderers\"},{\"attributes\":{},\"id\":\"1871\",\"type\":\"UnionRenderers\"},{\"attributes\":{\"text\":\"Geschlecht (1.1% missing)\",\"text_font_size\":{\"value\":\"10pt\"}},\"id\":\"1089\",\"type\":\"Title\"},{\"attributes\":{\"ticks\":[1,1.9,2.8,3.7,4.6]},\"id\":\"1208\",\"type\":\"FixedTicker\"},{\"attributes\":{\"data_source\":{\"id\":\"1525\"},\"glyph\":{\"id\":\"1527\"},\"hover_glyph\":null,\"muted_glyph\":null,\"nonselection_glyph\":{\"id\":\"1528\"},\"selection_glyph\":null,\"view\":{\"id\":\"1530\"}},\"id\":\"1529\",\"type\":\"GlyphRenderer\"},{\"attributes\":{},\"id\":\"1100\",\"type\":\"CategoricalTicker\"},{\"attributes\":{\"source\":{\"id\":\"1612\"}},\"id\":\"1617\",\"type\":\"CDSView\"},{\"attributes\":{},\"id\":\"1809\",\"type\":\"Selection\"},{\"attributes\":{},\"id\":\"1872\",\"type\":\"Selection\"},{\"attributes\":{},\"id\":\"1184\",\"type\":\"DataRange1d\"},{\"attributes\":{\"text\":\"F7 (0.3% missing)\",\"text_font_size\":{\"value\":\"10pt\"}},\"id\":\"1180\",\"type\":\"Title\"},{\"attributes\":{\"callback\":null,\"mode\":\"vline\",\"tooltips\":[[\"Bin\",\"@intvl\"],[\"Frequency\",\"@freq\"],[\"Percent\",\"@pct{0.2f}%\"]]},\"id\":\"1174\",\"type\":\"HoverTool\"},{\"attributes\":{\"below\":[{\"id\":\"1252\"}],\"center\":[{\"id\":\"1255\"},{\"id\":\"1259\"}],\"left\":[{\"id\":\"1256\"}],\"plot_height\":300,\"plot_width\":324,\"renderers\":[{\"id\":\"1265\"}],\"title\":{\"id\":\"1242\"},\"toolbar\":{\"id\":\"1260\"},\"toolbar_location\":null,\"x_range\":{\"id\":\"1244\"},\"x_scale\":{\"id\":\"1248\"},\"y_range\":{\"id\":\"1246\"},\"y_scale\":{\"id\":\"1250\"}},\"id\":\"1241\",\"subtype\":\"Figure\",\"type\":\"Plot\"},{\"attributes\":{},\"id\":\"1759\",\"type\":\"UnionRenderers\"},{\"attributes\":{},\"id\":\"1188\",\"type\":\"LinearScale\"},{\"attributes\":{},\"id\":\"1760\",\"type\":\"Selection\"},{\"attributes\":{},\"id\":\"1186\",\"type\":\"LinearScale\"},{\"attributes\":{\"ticks\":[1,1.9,2.8,3.7,4.6]},\"id\":\"1176\",\"type\":\"FixedTicker\"},{\"attributes\":{\"ticks\":[1,1.9,2.8,3.7,4.6]},\"id\":\"1177\",\"type\":\"FixedTicker\"},{\"attributes\":{\"below\":[{\"id\":\"1283\"}],\"center\":[{\"id\":\"1285\"},{\"id\":\"1289\"}],\"left\":[{\"id\":\"1286\"}],\"plot_height\":300,\"plot_width\":324,\"renderers\":[{\"id\":\"1297\"}],\"title\":{\"id\":\"1273\"},\"toolbar\":{\"id\":\"1291\"},\"toolbar_location\":null,\"x_range\":{\"id\":\"1275\"},\"x_scale\":{\"id\":\"1279\"},\"y_range\":{\"id\":\"1277\"},\"y_scale\":{\"id\":\"1281\"}},\"id\":\"1272\",\"subtype\":\"Figure\",\"type\":\"Plot\"},{\"attributes\":{\"source\":{\"id\":\"1168\"}},\"id\":\"1173\",\"type\":\"CDSView\"},{\"attributes\":{\"formatter\":{\"id\":\"1784\"},\"major_label_overrides\":{\"1\":\"1\",\"1.9\":\"1.9\",\"2.8\":\"2.8\",\"3.7\":\"3.7\",\"4.6\":\"4.6\"},\"major_label_standoff\":7,\"major_label_text_font_size\":\"10pt\",\"major_tick_line_color\":null,\"minor_tick_line_color\":\"white\",\"ticker\":{\"id\":\"1208\"}},\"id\":\"1190\",\"type\":\"LinearAxis\"},{\"attributes\":{},\"id\":\"1182\",\"type\":\"DataRange1d\"},{\"attributes\":{},\"id\":\"1892\",\"type\":\"UnionRenderers\"},{\"attributes\":{},\"id\":\"1764\",\"type\":\"BasicTickFormatter\"},{\"attributes\":{},\"id\":\"1893\",\"type\":\"Selection\"},{\"attributes\":{},\"id\":\"1766\",\"type\":\"UnionRenderers\"},{\"attributes\":{},\"id\":\"1767\",\"type\":\"Selection\"},{\"attributes\":{},\"id\":\"1770\",\"type\":\"BasicTickFormatter\"},{\"attributes\":{},\"id\":\"1791\",\"type\":\"BasicTickFormatter\"},{\"attributes\":{\"axis_label\":\"Count\",\"formatter\":{\"id\":\"1890\"},\"major_label_text_font_size\":\"0pt\",\"major_tick_line_color\":null,\"minor_tick_line_color\":\"white\",\"ticker\":{\"id\":\"1635\"}},\"id\":\"1634\",\"type\":\"LinearAxis\"},{\"attributes\":{\"source\":{\"id\":\"1583\"}},\"id\":\"1588\",\"type\":\"CDSView\"},{\"attributes\":{\"code\":\"\\n            if (tick.length &gt; 15) return tick.substring(0, 15-2) + '...';\\n            else return tick;\\n        \"},\"id\":\"1589\",\"type\":\"FuncTickFormatter\"},{\"attributes\":{},\"id\":\"1792\",\"type\":\"BasicTickFormatter\"},{\"attributes\":{},\"id\":\"1635\",\"type\":\"BasicTicker\"},{\"attributes\":{\"axis\":{\"id\":\"1695\"},\"dimension\":1,\"grid_line_color\":null,\"ticker\":null},\"id\":\"1698\",\"type\":\"Grid\"},{\"attributes\":{\"active_drag\":\"auto\",\"active_inspect\":\"auto\",\"active_multi\":null,\"active_scroll\":\"auto\",\"active_tap\":\"auto\",\"tools\":[{\"id\":\"1493\"}]},\"id\":\"1494\",\"type\":\"Toolbar\"},{\"attributes\":{\"bottom\":{\"value\":0},\"fill_alpha\":{\"value\":0.1},\"fill_color\":{\"value\":\"#6baed6\"},\"left\":{\"field\":\"left\"},\"line_alpha\":{\"value\":0.1},\"line_color\":{\"value\":\"#1f77b4\"},\"right\":{\"field\":\"right\"},\"top\":{\"field\":\"freq\"}},\"id\":\"1672\",\"type\":\"Quad\"},{\"attributes\":{\"axis\":{\"id\":\"1631\"},\"grid_line_color\":null,\"ticker\":null},\"id\":\"1633\",\"type\":\"Grid\"},{\"attributes\":{\"source\":{\"id\":\"1669\"}},\"id\":\"1674\",\"type\":\"CDSView\"},{\"attributes\":{\"formatter\":{\"id\":\"1903\"},\"major_label_overrides\":{\"1\":\"1\",\"1.9\":\"1.9\",\"2.8\":\"2.8\",\"3.7\":\"3.7\",\"4.6\":\"4.6\"},\"major_label_standoff\":7,\"major_label_text_font_size\":\"10pt\",\"major_tick_line_color\":null,\"minor_tick_line_color\":\"white\",\"ticker\":{\"id\":\"1709\"}},\"id\":\"1691\",\"type\":\"LinearAxis\"},{\"attributes\":{\"active_drag\":\"auto\",\"active_inspect\":\"auto\",\"active_multi\":null,\"active_scroll\":\"auto\",\"active_tap\":\"auto\",\"tools\":[{\"id\":\"1706\"}]},\"id\":\"1699\",\"type\":\"Toolbar\"},{\"attributes\":{},\"id\":\"1855\",\"type\":\"BasicTickFormatter\"},{\"attributes\":{\"data_source\":{\"id\":\"1583\"},\"glyph\":{\"id\":\"1585\"},\"hover_glyph\":null,\"muted_glyph\":null,\"nonselection_glyph\":{\"id\":\"1586\"},\"selection_glyph\":null,\"view\":{\"id\":\"1588\"}},\"id\":\"1587\",\"type\":\"GlyphRenderer\"},{\"attributes\":{},\"id\":\"1822\",\"type\":\"UnionRenderers\"},{\"attributes\":{\"callback\":null,\"tooltips\":[[\"F12e\",\"@index\"],[\"Count\",\"@F12e\"],[\"Percent\",\"@pct{0.2f}%\"]]},\"id\":\"1638\",\"type\":\"HoverTool\"},{\"attributes\":{},\"id\":\"1823\",\"type\":\"Selection\"},{\"attributes\":{},\"id\":\"1625\",\"type\":\"DataRange1d\"},{\"attributes\":{},\"id\":\"1687\",\"type\":\"LinearScale\"},{\"attributes\":{\"bottom\":{\"value\":0},\"fill_alpha\":{\"value\":0.5},\"fill_color\":{\"value\":\"#6baed6\"},\"left\":{\"field\":\"left\"},\"line_alpha\":{\"value\":0.5},\"line_color\":{\"value\":\"#1f77b4\"},\"right\":{\"field\":\"right\"},\"top\":{\"field\":\"freq\"}},\"id\":\"1702\",\"type\":\"Quad\"},{\"attributes\":{\"callback\":null,\"mode\":\"vline\",\"tooltips\":[[\"Bin\",\"@intvl\"],[\"Frequency\",\"@freq\"],[\"Percent\",\"@pct{0.2f}%\"]]},\"id\":\"1706\",\"type\":\"HoverTool\"},{\"attributes\":{},\"id\":\"1629\",\"type\":\"LinearScale\"},{\"attributes\":{\"callback\":null,\"mode\":\"vline\",\"tooltips\":[[\"Bin\",\"@intvl\"],[\"Frequency\",\"@freq\"],[\"Percent\",\"@pct{0.2f}%\"]]},\"id\":\"1675\",\"type\":\"HoverTool\"},{\"attributes\":{\"source\":{\"id\":\"1700\"}},\"id\":\"1705\",\"type\":\"CDSView\"},{\"attributes\":{\"bottom\":{\"value\":0.01},\"fill_alpha\":{\"value\":0.1},\"fill_color\":{\"value\":\"#1f77b4\"},\"line_alpha\":{\"value\":0.1},\"line_color\":{\"value\":\"#1f77b4\"},\"top\":{\"field\":\"F12c\"},\"width\":{\"value\":0.9},\"x\":{\"field\":\"index\"}},\"id\":\"1586\",\"type\":\"VBar\"},{\"attributes\":{\"axis_label\":\"Frequency\",\"formatter\":{\"id\":\"1904\"},\"major_label_text_font_size\":\"0pt\",\"major_tick_line_color\":null,\"minor_tick_line_color\":\"white\",\"ticker\":{\"id\":\"1696\"}},\"id\":\"1695\",\"type\":\"LinearAxis\"},{\"attributes\":{\"factors\":[\"egal\",\"wichtig\",\"sehr wichtig\",\"gar nicht wichtig\",\"nicht wichtig\"]},\"id\":\"1623\",\"type\":\"FactorRange\"},{\"attributes\":{},\"id\":\"1696\",\"type\":\"BasicTicker\"},{\"attributes\":{},\"id\":\"1794\",\"type\":\"UnionRenderers\"},{\"attributes\":{\"axis\":{\"id\":\"1691\"},\"grid_line_color\":null,\"ticker\":{\"id\":\"1708\"}},\"id\":\"1694\",\"type\":\"Grid\"},{\"attributes\":{},\"id\":\"1827\",\"type\":\"BasicTickFormatter\"},{\"attributes\":{},\"id\":\"1689\",\"type\":\"LinearScale\"},{\"attributes\":{},\"id\":\"1795\",\"type\":\"Selection\"},{\"attributes\":{},\"id\":\"1632\",\"type\":\"CategoricalTicker\"},{\"attributes\":{\"axis\":{\"id\":\"1634\"},\"dimension\":1,\"grid_line_color\":null,\"ticker\":null},\"id\":\"1637\",\"type\":\"Grid\"},{\"attributes\":{},\"id\":\"1857\",\"type\":\"UnionRenderers\"},{\"attributes\":{},\"id\":\"1858\",\"type\":\"Selection\"},{\"attributes\":{},\"id\":\"1627\",\"type\":\"CategoricalScale\"},{\"attributes\":{\"factors\":[\"bautechnikum\",\"HTL Spengergasse\",\"TGM\",\"hblva17\",\"Andere\",\"HTL Rennweg\"]},\"id\":\"1714\",\"type\":\"FactorRange\"},{\"attributes\":{},\"id\":\"1798\",\"type\":\"BasicTickFormatter\"},{\"attributes\":{\"formatter\":{\"id\":\"1647\"},\"major_label_orientation\":1.0471975511965976,\"major_label_text_font_size\":\"9pt\",\"minor_tick_line_color\":\"white\",\"ticker\":{\"id\":\"1632\"}},\"id\":\"1631\",\"type\":\"CategoricalAxis\"},{\"attributes\":{\"data_source\":{\"id\":\"1496\"},\"glyph\":{\"id\":\"1498\"},\"hover_glyph\":null,\"muted_glyph\":null,\"nonselection_glyph\":{\"id\":\"1499\"},\"selection_glyph\":null,\"view\":{\"id\":\"1501\"}},\"id\":\"1500\",\"type\":\"GlyphRenderer\"},{\"attributes\":{},\"id\":\"1799\",\"type\":\"BasicTickFormatter\"},{\"attributes\":{\"source\":{\"id\":\"1496\"}},\"id\":\"1501\",\"type\":\"CDSView\"},{\"attributes\":{\"code\":\"\\n            if (tick.length &gt; 15) return tick.substring(0, 15-2) + '...';\\n            else return tick;\\n        \"},\"id\":\"1502\",\"type\":\"FuncTickFormatter\"},{\"attributes\":{\"callback\":null,\"tooltips\":[[\"F12a\",\"@index\"],[\"Count\",\"@F12a\"],[\"Percent\",\"@pct{0.2f}%\"]]},\"id\":\"1522\",\"type\":\"HoverTool\"},{\"attributes\":{\"bottom\":{\"value\":0.01},\"fill_alpha\":{\"value\":0.1},\"fill_color\":{\"value\":\"#1f77b4\"},\"line_alpha\":{\"value\":0.1},\"line_color\":{\"value\":\"#1f77b4\"},\"top\":{\"field\":\"F11e\"},\"width\":{\"value\":0.9},\"x\":{\"field\":\"index\"}},\"id\":\"1499\",\"type\":\"VBar\"},{\"attributes\":{},\"id\":\"1862\",\"type\":\"BasicTickFormatter\"},{\"attributes\":{\"active_drag\":\"auto\",\"active_inspect\":\"auto\",\"active_multi\":null,\"active_scroll\":\"auto\",\"active_tap\":\"auto\",\"tools\":[{\"id\":\"1638\"}]},\"id\":\"1639\",\"type\":\"Toolbar\"},{\"attributes\":{\"data_source\":{\"id\":\"1669\"},\"glyph\":{\"id\":\"1671\"},\"hover_glyph\":null,\"muted_glyph\":null,\"nonselection_glyph\":{\"id\":\"1672\"},\"selection_glyph\":null,\"view\":{\"id\":\"1674\"}},\"id\":\"1673\",\"type\":\"GlyphRenderer\"},{\"attributes\":{},\"id\":\"1829\",\"type\":\"UnionRenderers\"},{\"attributes\":{\"data_source\":{\"id\":\"1700\"},\"glyph\":{\"id\":\"1702\"},\"hover_glyph\":null,\"muted_glyph\":null,\"nonselection_glyph\":{\"id\":\"1703\"},\"selection_glyph\":null,\"view\":{\"id\":\"1705\"}},\"id\":\"1704\",\"type\":\"GlyphRenderer\"},{\"attributes\":{},\"id\":\"1830\",\"type\":\"Selection\"},{\"attributes\":{\"factors\":[\"wichtig\",\"sehr wichtig\",\"egal\",\"nicht wichtig\",\"gar nicht wichtig\"]},\"id\":\"1362\",\"type\":\"FactorRange\"},{\"attributes\":{},\"id\":\"1574\",\"type\":\"CategoricalTicker\"},{\"attributes\":{\"active_drag\":\"auto\",\"active_inspect\":\"auto\",\"active_multi\":null,\"active_scroll\":\"auto\",\"active_tap\":\"auto\",\"tools\":[{\"id\":\"1319\"}]},\"id\":\"1320\",\"type\":\"Toolbar\"},{\"attributes\":{\"bottom\":{\"value\":0.01},\"fill_color\":{\"value\":\"#1f77b4\"},\"line_color\":{\"value\":\"#1f77b4\"},\"top\":{\"field\":\"Alter\"},\"width\":{\"value\":0.9},\"x\":{\"field\":\"index\"}},\"id\":\"1053\",\"type\":\"VBar\"},{\"attributes\":{},\"id\":\"1039\",\"type\":\"LinearScale\"},{\"attributes\":{},\"id\":\"1913\",\"type\":\"UnionRenderers\"},{\"attributes\":{\"children\":[[{\"id\":\"1001\"},0,0],[{\"id\":\"1030\"},0,1],[{\"id\":\"1059\"},0,2],[{\"id\":\"1088\"},1,0],[{\"id\":\"1117\"},1,1],[{\"id\":\"1148\"},1,2],[{\"id\":\"1179\"},2,0],[{\"id\":\"1210\"},2,1],[{\"id\":\"1241\"},2,2],[{\"id\":\"1272\"},3,0],[{\"id\":\"1301\"},3,1],[{\"id\":\"1330\"},3,2],[{\"id\":\"1359\"},4,0],[{\"id\":\"1388\"},4,1],[{\"id\":\"1417\"},4,2],[{\"id\":\"1446\"},5,0],[{\"id\":\"1475\"},5,1],[{\"id\":\"1504\"},5,2],[{\"id\":\"1533\"},6,0],[{\"id\":\"1562\"},6,1],[{\"id\":\"1591\"},6,2],[{\"id\":\"1620\"},7,0],[{\"id\":\"1649\"},7,1],[{\"id\":\"1680\"},7,2],[{\"id\":\"1711\"},8,0]]},\"id\":\"1916\",\"type\":\"GridBox\"},{\"attributes\":{},\"id\":\"1914\",\"type\":\"Selection\"},{\"attributes\":{\"axis_label\":\"Count\",\"formatter\":{\"id\":\"1827\"},\"major_label_text_font_size\":\"0pt\",\"major_tick_line_color\":null,\"minor_tick_line_color\":\"white\",\"ticker\":{\"id\":\"1374\"}},\"id\":\"1373\",\"type\":\"LinearAxis\"},{\"attributes\":{\"code\":\"\\n            if (tick.length &gt; 15) return tick.substring(0, 15-2) + '...';\\n            else return tick;\\n        \"},\"id\":\"1028\",\"type\":\"FuncTickFormatter\"},{\"attributes\":{},\"id\":\"1366\",\"type\":\"CategoricalScale\"},{\"attributes\":{\"active_drag\":\"auto\",\"active_inspect\":\"auto\",\"active_multi\":null,\"active_scroll\":\"auto\",\"active_tap\":\"auto\",\"tools\":[{\"id\":\"1551\"}]},\"id\":\"1552\",\"type\":\"Toolbar\"},{\"attributes\":{},\"id\":\"1045\",\"type\":\"BasicTicker\"},{\"attributes\":{\"axis_label\":\"Count\",\"formatter\":{\"id\":\"1750\"},\"major_label_text_font_size\":\"0pt\",\"major_tick_line_color\":null,\"minor_tick_line_color\":\"white\",\"ticker\":{\"id\":\"1045\"}},\"id\":\"1044\",\"type\":\"LinearAxis\"},{\"attributes\":{\"active_drag\":\"auto\",\"active_inspect\":\"auto\",\"active_multi\":null,\"active_scroll\":\"auto\",\"active_tap\":\"auto\",\"tools\":[{\"id\":\"1377\"}]},\"id\":\"1378\",\"type\":\"Toolbar\"},{\"attributes\":{},\"id\":\"1422\",\"type\":\"DataRange1d\"},{\"attributes\":{\"source\":{\"id\":\"1022\"}},\"id\":\"1027\",\"type\":\"CDSView\"},{\"attributes\":{\"callback\":null,\"tooltips\":[[\"F11a\",\"@index\"],[\"Count\",\"@F11a\"],[\"Percent\",\"@pct{0.2f}%\"]]},\"id\":\"1377\",\"type\":\"HoverTool\"},{\"attributes\":{},\"id\":\"1885\",\"type\":\"UnionRenderers\"},{\"attributes\":{\"children\":[{\"id\":\"1917\"},{\"id\":\"1740\"},{\"id\":\"1916\"}]},\"id\":\"1919\",\"type\":\"Column\"},{\"attributes\":{},\"id\":\"1886\",\"type\":\"Selection\"},{\"attributes\":{},\"id\":\"1042\",\"type\":\"CategoricalTicker\"},{\"attributes\":{\"source\":{\"id\":\"1554\"}},\"id\":\"1559\",\"type\":\"CDSView\"},{\"attributes\":{\"factors\":[\"16-17\",\"18-20\",\"14-15\",\"&gt;20\"]},\"id\":\"1033\",\"type\":\"FactorRange\"},{\"attributes\":{\"axis\":{\"id\":\"1370\"},\"grid_line_color\":null,\"ticker\":null},\"id\":\"1372\",\"type\":\"Grid\"},{\"attributes\":{},\"id\":\"1424\",\"type\":\"CategoricalScale\"},{\"attributes\":{},\"id\":\"1603\",\"type\":\"CategoricalTicker\"},{\"attributes\":{\"active_drag\":\"auto\",\"active_inspect\":\"auto\",\"active_multi\":null,\"active_scroll\":\"auto\",\"active_tap\":\"auto\",\"tools\":[{\"id\":\"1435\"}]},\"id\":\"1436\",\"type\":\"Toolbar\"},{\"attributes\":{\"formatter\":{\"id\":\"1386\"},\"major_label_orientation\":1.0471975511965976,\"major_label_text_font_size\":\"9pt\",\"minor_tick_line_color\":\"white\",\"ticker\":{\"id\":\"1371\"}},\"id\":\"1370\",\"type\":\"CategoricalAxis\"},{\"attributes\":{\"axis\":{\"id\":\"1041\"},\"grid_line_color\":null,\"ticker\":null},\"id\":\"1043\",\"type\":\"Grid\"},{\"attributes\":{},\"id\":\"1368\",\"type\":\"LinearScale\"},{\"attributes\":{\"callback\":null,\"tooltips\":[[\"Alter\",\"@index\"],[\"Count\",\"@Alter\"],[\"Percent\",\"@pct{0.2f}%\"]]},\"id\":\"1048\",\"type\":\"HoverTool\"},{\"attributes\":{\"formatter\":{\"id\":\"1057\"},\"major_label_orientation\":1.0471975511965976,\"major_label_text_font_size\":\"9pt\",\"minor_tick_line_color\":\"white\",\"ticker\":{\"id\":\"1042\"}},\"id\":\"1041\",\"type\":\"CategoricalAxis\"},{\"attributes\":{\"callback\":null,\"tooltips\":[[\"F10c\",\"@index\"],[\"Count\",\"@F10c\"],[\"Percent\",\"@pct{0.2f}%\"]]},\"id\":\"1348\",\"type\":\"HoverTool\"},{\"attributes\":{\"bottom\":{\"value\":0.01},\"fill_color\":{\"value\":\"#1f77b4\"},\"line_color\":{\"value\":\"#1f77b4\"},\"top\":{\"field\":\"F10b\"},\"width\":{\"value\":0.9},\"x\":{\"field\":\"index\"}},\"id\":\"1324\",\"type\":\"VBar\"},{\"attributes\":{},\"id\":\"1890\",\"type\":\"BasicTickFormatter\"},{\"attributes\":{},\"id\":\"1571\",\"type\":\"LinearScale\"},{\"attributes\":{},\"id\":\"1432\",\"type\":\"BasicTicker\"},{\"attributes\":{},\"id\":\"1037\",\"type\":\"CategoricalScale\"},{\"attributes\":{\"formatter\":{\"id\":\"1589\"},\"major_label_orientation\":1.0471975511965976,\"major_label_text_font_size\":\"9pt\",\"minor_tick_line_color\":\"white\",\"ticker\":{\"id\":\"1574\"}},\"id\":\"1573\",\"type\":\"CategoricalAxis\"},{\"attributes\":{},\"id\":\"1035\",\"type\":\"DataRange1d\"},{\"attributes\":{\"code\":\"\\n            if (tick.length &gt; 15) return tick.substring(0, 15-2) + '...';\\n            else return tick;\\n        \"},\"id\":\"1560\",\"type\":\"FuncTickFormatter\"},{\"attributes\":{\"bottom\":{\"value\":0.01},\"fill_color\":{\"value\":\"#1f77b4\"},\"line_color\":{\"value\":\"#1f77b4\"},\"top\":{\"field\":\"F12c\"},\"width\":{\"value\":0.9},\"x\":{\"field\":\"index\"}},\"id\":\"1585\",\"type\":\"VBar\"},{\"attributes\":{\"axis\":{\"id\":\"1605\"},\"dimension\":1,\"grid_line_color\":null,\"ticker\":null},\"id\":\"1608\",\"type\":\"Grid\"},{\"attributes\":{},\"id\":\"1371\",\"type\":\"CategoricalTicker\"},{\"attributes\":{\"text\":\"F12c (2.2% missing)\",\"text_font_size\":{\"value\":\"10pt\"}},\"id\":\"1563\",\"type\":\"Title\"},{\"attributes\":{\"bottom\":{\"value\":0.01},\"fill_color\":{\"value\":\"#1f77b4\"},\"line_color\":{\"value\":\"#1f77b4\"},\"top\":{\"field\":\"F11c\"},\"width\":{\"value\":0.9},\"x\":{\"field\":\"index\"}},\"id\":\"1440\",\"type\":\"VBar\"},{\"attributes\":{},\"id\":\"1606\",\"type\":\"BasicTicker\"},{\"attributes\":{\"axis\":{\"id\":\"1428\"},\"grid_line_color\":null,\"ticker\":null},\"id\":\"1430\",\"type\":\"Grid\"},{\"attributes\":{\"factors\":[\"egal\",\"wichtig\",\"sehr wichtig\",\"nicht wichtig\",\"gar nicht wichtig\"]},\"id\":\"1565\",\"type\":\"FactorRange\"},{\"attributes\":{\"data_source\":{\"id\":\"1554\"},\"glyph\":{\"id\":\"1556\"},\"hover_glyph\":null,\"muted_glyph\":null,\"nonselection_glyph\":{\"id\":\"1557\"},\"selection_glyph\":null,\"view\":{\"id\":\"1559\"}},\"id\":\"1558\",\"type\":\"GlyphRenderer\"},{\"attributes\":{},\"id\":\"1374\",\"type\":\"BasicTicker\"},{\"attributes\":{\"bottom\":{\"value\":0.01},\"fill_alpha\":{\"value\":0.1},\"fill_color\":{\"value\":\"#1f77b4\"},\"line_alpha\":{\"value\":0.1},\"line_color\":{\"value\":\"#1f77b4\"},\"top\":{\"field\":\"F10b\"},\"width\":{\"value\":0.9},\"x\":{\"field\":\"index\"}},\"id\":\"1325\",\"type\":\"VBar\"},{\"attributes\":{\"data\":{\"F12c\":[218,194,141,41,32],\"index\":[\"egal\",\"wichtig\",\"sehr wichtig\",\"nicht wichtig\",\"gar nicht wichtig\"],\"pct\":{\"__ndarray__\":\"AAAAAAAIQUD//////08+QAAAAAAACDZA//////+fGUAAAAAAAAAUQA==\",\"dtype\":\"float64\",\"shape\":[5]}},\"selected\":{\"id\":\"1879\"},\"selection_policy\":{\"id\":\"1878\"}},\"id\":\"1583\",\"type\":\"ColumnDataSource\"},{\"attributes\":{},\"id\":\"1364\",\"type\":\"DataRange1d\"},{\"attributes\":{\"axis_label\":\"Count\",\"formatter\":{\"id\":\"1841\"},\"major_label_text_font_size\":\"0pt\",\"major_tick_line_color\":null,\"minor_tick_line_color\":\"white\",\"ticker\":{\"id\":\"1432\"}},\"id\":\"1431\",\"type\":\"LinearAxis\"},{\"attributes\":{\"axis\":{\"id\":\"1602\"},\"grid_line_color\":null,\"ticker\":null},\"id\":\"1604\",\"type\":\"Grid\"},{\"attributes\":{},\"id\":\"1778\",\"type\":\"BasicTickFormatter\"},{\"attributes\":{},\"id\":\"1567\",\"type\":\"DataRange1d\"},{\"attributes\":{\"active_drag\":\"auto\",\"active_inspect\":\"auto\",\"active_multi\":null,\"active_scroll\":\"auto\",\"active_tap\":\"auto\",\"tools\":[{\"id\":\"1019\"}]},\"id\":\"1020\",\"type\":\"Toolbar\"},{\"attributes\":{\"factors\":[\"egal\",\"nicht wichtig\",\"wichtig\",\"sehr wichtig\",\"gar nicht wichtig\"]},\"id\":\"1420\",\"type\":\"FactorRange\"},{\"attributes\":{\"bottom\":{\"value\":0.01},\"fill_alpha\":{\"value\":0.1},\"fill_color\":{\"value\":\"#1f77b4\"},\"line_alpha\":{\"value\":0.1},\"line_color\":{\"value\":\"#1f77b4\"},\"top\":{\"field\":\"F12b\"},\"width\":{\"value\":0.9},\"x\":{\"field\":\"index\"}},\"id\":\"1557\",\"type\":\"VBar\"},{\"attributes\":{\"axis\":{\"id\":\"1431\"},\"dimension\":1,\"grid_line_color\":null,\"ticker\":null},\"id\":\"1434\",\"type\":\"Grid\"},{\"attributes\":{\"formatter\":{\"id\":\"1618\"},\"major_label_orientation\":1.0471975511965976,\"major_label_text_font_size\":\"9pt\",\"minor_tick_line_color\":\"white\",\"ticker\":{\"id\":\"1603\"}},\"id\":\"1602\",\"type\":\"CategoricalAxis\"},{\"attributes\":{\"active_drag\":\"auto\",\"active_inspect\":\"auto\",\"active_multi\":null,\"active_scroll\":\"auto\",\"active_tap\":\"auto\",\"tools\":[{\"id\":\"1048\"}]},\"id\":\"1049\",\"type\":\"Toolbar\"},{\"attributes\":{\"axis_label\":\"Count\",\"formatter\":{\"id\":\"1883\"},\"major_label_text_font_size\":\"0pt\",\"major_tick_line_color\":null,\"minor_tick_line_color\":\"white\",\"ticker\":{\"id\":\"1606\"}},\"id\":\"1605\",\"type\":\"LinearAxis\"},{\"attributes\":{\"below\":[{\"id\":\"1573\"}],\"center\":[{\"id\":\"1575\"},{\"id\":\"1579\"}],\"left\":[{\"id\":\"1576\"}],\"plot_height\":300,\"plot_width\":324,\"renderers\":[{\"id\":\"1587\"}],\"title\":{\"id\":\"1563\"},\"toolbar\":{\"id\":\"1581\"},\"toolbar_location\":null,\"x_range\":{\"id\":\"1565\"},\"x_scale\":{\"id\":\"1569\"},\"y_range\":{\"id\":\"1567\"},\"y_scale\":{\"id\":\"1571\"}},\"id\":\"1562\",\"subtype\":\"Figure\",\"type\":\"Plot\"},{\"attributes\":{},\"id\":\"1569\",\"type\":\"CategoricalScale\"},{\"attributes\":{},\"id\":\"1429\",\"type\":\"CategoricalTicker\"},{\"attributes\":{},\"id\":\"1426\",\"type\":\"LinearScale\"},{\"attributes\":{\"formatter\":{\"id\":\"1444\"},\"major_label_orientation\":1.0471975511965976,\"major_label_text_font_size\":\"9pt\",\"minor_tick_line_color\":\"white\",\"ticker\":{\"id\":\"1429\"}},\"id\":\"1428\",\"type\":\"CategoricalAxis\"},{\"attributes\":{\"callback\":null,\"tooltips\":[[\"F11c\",\"@index\"],[\"Count\",\"@F11c\"],[\"Percent\",\"@pct{0.2f}%\"]]},\"id\":\"1435\",\"type\":\"HoverTool\"},{\"attributes\":{\"axis\":{\"id\":\"1373\"},\"dimension\":1,\"grid_line_color\":null,\"ticker\":null},\"id\":\"1376\",\"type\":\"Grid\"},{\"attributes\":{\"axis\":{\"id\":\"1044\"},\"dimension\":1,\"grid_line_color\":null,\"ticker\":null},\"id\":\"1047\",\"type\":\"Grid\"}],\"root_ids\":[\"1919\"]},\"title\":\"Bokeh Application\",\"version\":\"2.0.2\"}}\n",
       "        </script>\n",
       "        <script type=\"text/javascript\">\n",
       "          (function() {\n",
       "            var fn = function() {\n",
       "              var __dataprep_bokeh_fix = (f) => document.Bokeh === undefined ? setTimeout(f, 1000) : f(); __dataprep_bokeh_fix(function() {\n",
       "                (function(root) {\n",
       "                  function embed_document(root) {\n",
       "                    \n",
       "                  var docs_json = document.getElementById('3570').textContent;\n",
       "                  var render_items = [{\"docid\":\"6b210af6-c2a7-435a-8620-8e66480ffa2b\",\"root_ids\":[\"1919\"],\"roots\":{\"1919\":\"c5912f3d-9c5a-4038-8c58-7c2ff6eae5a1\"}}];\n",
       "                  root.Bokeh.embed.embed_items(docs_json, render_items);\n",
       "                \n",
       "                  }\n",
       "                  if (root.Bokeh !== undefined) {\n",
       "                    embed_document(root);\n",
       "                  } else {\n",
       "                    var attempts = 0;\n",
       "                    var timer = setInterval(function(root) {\n",
       "                      if (root.Bokeh !== undefined) {\n",
       "                        clearInterval(timer);\n",
       "                        embed_document(root);\n",
       "                      } else {\n",
       "                        attempts++;\n",
       "                        if (attempts > 100) {\n",
       "                          clearInterval(timer);\n",
       "                          console.log(\"Bokeh: ERROR: Unable to run BokehJS code because BokehJS library is missing\");\n",
       "                        }\n",
       "                      }\n",
       "                    }, 10, root)\n",
       "                  }\n",
       "                })(window);\n",
       "              });\n",
       "            };\n",
       "            if (document.readyState != \"loading\") fn();\n",
       "            else document.addEventListener(\"DOMContentLoaded\", fn);\n",
       "          })();\n",
       "        </script>\n"
      ],
      "text/plain": [
       "<dataprep.eda.report.Report at 0x2d451ad7520>"
      ]
     },
     "execution_count": 7,
     "metadata": {},
     "output_type": "execute_result"
    }
   ],
   "source": [
    "plot(df.drop(['index', 'ID', 'Startzeit', 'Fertigstellungszeit', 'E-Mail', 'Name', 'F13', 'F14', 'F15', 'Kommentare', 'Klasse'], axis=1))"
   ]
  },
  {
   "cell_type": "markdown",
   "metadata": {},
   "source": [
    "## TODO\n",
    "* Pie Charts\n",
    "    * Alter\n",
    "    * Schulstufe\n",
    "    * Schulform\n",
    "    * Geschlecht\n",
    "    * Schule\n",
    "* Box Plot (Groub by Alter, Schulform, Geschlecht, Schule)\n",
    "    * F5-9,16-17 (7)\n",
    "    * F10 (3)\n",
    "    * F11 (5)\n",
    "    * F12 (5)\n",
    "* Bar Chart\n",
    "    * F14\n",
    "* Freitext\n",
    "    * F13,15,18"
   ]
  },
  {
   "cell_type": "code",
   "execution_count": 8,
   "metadata": {},
   "outputs": [
    {
     "data": {
      "application/vnd.plotly.v1+json": {
       "config": {
        "linkText": "Export to plot.ly",
        "plotlyServerURL": "https://plot.ly",
        "showLink": true
       },
       "data": [
        {
         "marker": {
          "color": "rgba(255, 153, 51, 0.6)",
          "line": {
           "color": "rgba(255, 153, 51, 1.0)",
           "width": 1
          }
         },
         "name": "divers",
         "orientation": "v",
         "text": "",
         "type": "bar",
         "x": [
          "14-15",
          "16-17",
          "18-20",
          ">20"
         ],
         "y": [
          "",
          "",
          1,
          4
         ]
        },
        {
         "marker": {
          "color": "rgba(55, 128, 191, 0.6)",
          "line": {
           "color": "rgba(55, 128, 191, 1.0)",
           "width": 1
          }
         },
         "name": "männlich",
         "orientation": "v",
         "text": "",
         "type": "bar",
         "x": [
          "14-15",
          "16-17",
          "18-20",
          ">20"
         ],
         "y": [
          97,
          191,
          98,
          65
         ]
        },
        {
         "marker": {
          "color": "rgba(50, 171, 96, 0.6)",
          "line": {
           "color": "rgba(50, 171, 96, 1.0)",
           "width": 1
          }
         },
         "name": "weiblich",
         "orientation": "v",
         "text": "",
         "type": "bar",
         "x": [
          "14-15",
          "16-17",
          "18-20",
          ">20"
         ],
         "y": [
          27,
          63,
          46,
          40
         ]
        }
       ],
       "layout": {
        "autosize": true,
        "legend": {
         "bgcolor": "#F5F6F9",
         "font": {
          "color": "#4D5663"
         }
        },
        "paper_bgcolor": "#F5F6F9",
        "plot_bgcolor": "#F5F6F9",
        "template": {
         "data": {
          "bar": [
           {
            "error_x": {
             "color": "#2a3f5f"
            },
            "error_y": {
             "color": "#2a3f5f"
            },
            "marker": {
             "line": {
              "color": "#E5ECF6",
              "width": 0.5
             }
            },
            "type": "bar"
           }
          ],
          "barpolar": [
           {
            "marker": {
             "line": {
              "color": "#E5ECF6",
              "width": 0.5
             }
            },
            "type": "barpolar"
           }
          ],
          "carpet": [
           {
            "aaxis": {
             "endlinecolor": "#2a3f5f",
             "gridcolor": "white",
             "linecolor": "white",
             "minorgridcolor": "white",
             "startlinecolor": "#2a3f5f"
            },
            "baxis": {
             "endlinecolor": "#2a3f5f",
             "gridcolor": "white",
             "linecolor": "white",
             "minorgridcolor": "white",
             "startlinecolor": "#2a3f5f"
            },
            "type": "carpet"
           }
          ],
          "choropleth": [
           {
            "colorbar": {
             "outlinewidth": 0,
             "ticks": ""
            },
            "type": "choropleth"
           }
          ],
          "contour": [
           {
            "colorbar": {
             "outlinewidth": 0,
             "ticks": ""
            },
            "colorscale": [
             [
              0,
              "#0d0887"
             ],
             [
              0.1111111111111111,
              "#46039f"
             ],
             [
              0.2222222222222222,
              "#7201a8"
             ],
             [
              0.3333333333333333,
              "#9c179e"
             ],
             [
              0.4444444444444444,
              "#bd3786"
             ],
             [
              0.5555555555555556,
              "#d8576b"
             ],
             [
              0.6666666666666666,
              "#ed7953"
             ],
             [
              0.7777777777777778,
              "#fb9f3a"
             ],
             [
              0.8888888888888888,
              "#fdca26"
             ],
             [
              1,
              "#f0f921"
             ]
            ],
            "type": "contour"
           }
          ],
          "contourcarpet": [
           {
            "colorbar": {
             "outlinewidth": 0,
             "ticks": ""
            },
            "type": "contourcarpet"
           }
          ],
          "heatmap": [
           {
            "colorbar": {
             "outlinewidth": 0,
             "ticks": ""
            },
            "colorscale": [
             [
              0,
              "#0d0887"
             ],
             [
              0.1111111111111111,
              "#46039f"
             ],
             [
              0.2222222222222222,
              "#7201a8"
             ],
             [
              0.3333333333333333,
              "#9c179e"
             ],
             [
              0.4444444444444444,
              "#bd3786"
             ],
             [
              0.5555555555555556,
              "#d8576b"
             ],
             [
              0.6666666666666666,
              "#ed7953"
             ],
             [
              0.7777777777777778,
              "#fb9f3a"
             ],
             [
              0.8888888888888888,
              "#fdca26"
             ],
             [
              1,
              "#f0f921"
             ]
            ],
            "type": "heatmap"
           }
          ],
          "heatmapgl": [
           {
            "colorbar": {
             "outlinewidth": 0,
             "ticks": ""
            },
            "colorscale": [
             [
              0,
              "#0d0887"
             ],
             [
              0.1111111111111111,
              "#46039f"
             ],
             [
              0.2222222222222222,
              "#7201a8"
             ],
             [
              0.3333333333333333,
              "#9c179e"
             ],
             [
              0.4444444444444444,
              "#bd3786"
             ],
             [
              0.5555555555555556,
              "#d8576b"
             ],
             [
              0.6666666666666666,
              "#ed7953"
             ],
             [
              0.7777777777777778,
              "#fb9f3a"
             ],
             [
              0.8888888888888888,
              "#fdca26"
             ],
             [
              1,
              "#f0f921"
             ]
            ],
            "type": "heatmapgl"
           }
          ],
          "histogram": [
           {
            "marker": {
             "colorbar": {
              "outlinewidth": 0,
              "ticks": ""
             }
            },
            "type": "histogram"
           }
          ],
          "histogram2d": [
           {
            "colorbar": {
             "outlinewidth": 0,
             "ticks": ""
            },
            "colorscale": [
             [
              0,
              "#0d0887"
             ],
             [
              0.1111111111111111,
              "#46039f"
             ],
             [
              0.2222222222222222,
              "#7201a8"
             ],
             [
              0.3333333333333333,
              "#9c179e"
             ],
             [
              0.4444444444444444,
              "#bd3786"
             ],
             [
              0.5555555555555556,
              "#d8576b"
             ],
             [
              0.6666666666666666,
              "#ed7953"
             ],
             [
              0.7777777777777778,
              "#fb9f3a"
             ],
             [
              0.8888888888888888,
              "#fdca26"
             ],
             [
              1,
              "#f0f921"
             ]
            ],
            "type": "histogram2d"
           }
          ],
          "histogram2dcontour": [
           {
            "colorbar": {
             "outlinewidth": 0,
             "ticks": ""
            },
            "colorscale": [
             [
              0,
              "#0d0887"
             ],
             [
              0.1111111111111111,
              "#46039f"
             ],
             [
              0.2222222222222222,
              "#7201a8"
             ],
             [
              0.3333333333333333,
              "#9c179e"
             ],
             [
              0.4444444444444444,
              "#bd3786"
             ],
             [
              0.5555555555555556,
              "#d8576b"
             ],
             [
              0.6666666666666666,
              "#ed7953"
             ],
             [
              0.7777777777777778,
              "#fb9f3a"
             ],
             [
              0.8888888888888888,
              "#fdca26"
             ],
             [
              1,
              "#f0f921"
             ]
            ],
            "type": "histogram2dcontour"
           }
          ],
          "mesh3d": [
           {
            "colorbar": {
             "outlinewidth": 0,
             "ticks": ""
            },
            "type": "mesh3d"
           }
          ],
          "parcoords": [
           {
            "line": {
             "colorbar": {
              "outlinewidth": 0,
              "ticks": ""
             }
            },
            "type": "parcoords"
           }
          ],
          "pie": [
           {
            "automargin": true,
            "type": "pie"
           }
          ],
          "scatter": [
           {
            "marker": {
             "colorbar": {
              "outlinewidth": 0,
              "ticks": ""
             }
            },
            "type": "scatter"
           }
          ],
          "scatter3d": [
           {
            "line": {
             "colorbar": {
              "outlinewidth": 0,
              "ticks": ""
             }
            },
            "marker": {
             "colorbar": {
              "outlinewidth": 0,
              "ticks": ""
             }
            },
            "type": "scatter3d"
           }
          ],
          "scattercarpet": [
           {
            "marker": {
             "colorbar": {
              "outlinewidth": 0,
              "ticks": ""
             }
            },
            "type": "scattercarpet"
           }
          ],
          "scattergeo": [
           {
            "marker": {
             "colorbar": {
              "outlinewidth": 0,
              "ticks": ""
             }
            },
            "type": "scattergeo"
           }
          ],
          "scattergl": [
           {
            "marker": {
             "colorbar": {
              "outlinewidth": 0,
              "ticks": ""
             }
            },
            "type": "scattergl"
           }
          ],
          "scattermapbox": [
           {
            "marker": {
             "colorbar": {
              "outlinewidth": 0,
              "ticks": ""
             }
            },
            "type": "scattermapbox"
           }
          ],
          "scatterpolar": [
           {
            "marker": {
             "colorbar": {
              "outlinewidth": 0,
              "ticks": ""
             }
            },
            "type": "scatterpolar"
           }
          ],
          "scatterpolargl": [
           {
            "marker": {
             "colorbar": {
              "outlinewidth": 0,
              "ticks": ""
             }
            },
            "type": "scatterpolargl"
           }
          ],
          "scatterternary": [
           {
            "marker": {
             "colorbar": {
              "outlinewidth": 0,
              "ticks": ""
             }
            },
            "type": "scatterternary"
           }
          ],
          "surface": [
           {
            "colorbar": {
             "outlinewidth": 0,
             "ticks": ""
            },
            "colorscale": [
             [
              0,
              "#0d0887"
             ],
             [
              0.1111111111111111,
              "#46039f"
             ],
             [
              0.2222222222222222,
              "#7201a8"
             ],
             [
              0.3333333333333333,
              "#9c179e"
             ],
             [
              0.4444444444444444,
              "#bd3786"
             ],
             [
              0.5555555555555556,
              "#d8576b"
             ],
             [
              0.6666666666666666,
              "#ed7953"
             ],
             [
              0.7777777777777778,
              "#fb9f3a"
             ],
             [
              0.8888888888888888,
              "#fdca26"
             ],
             [
              1,
              "#f0f921"
             ]
            ],
            "type": "surface"
           }
          ],
          "table": [
           {
            "cells": {
             "fill": {
              "color": "#EBF0F8"
             },
             "line": {
              "color": "white"
             }
            },
            "header": {
             "fill": {
              "color": "#C8D4E3"
             },
             "line": {
              "color": "white"
             }
            },
            "type": "table"
           }
          ]
         },
         "layout": {
          "annotationdefaults": {
           "arrowcolor": "#2a3f5f",
           "arrowhead": 0,
           "arrowwidth": 1
          },
          "coloraxis": {
           "colorbar": {
            "outlinewidth": 0,
            "ticks": ""
           }
          },
          "colorscale": {
           "diverging": [
            [
             0,
             "#8e0152"
            ],
            [
             0.1,
             "#c51b7d"
            ],
            [
             0.2,
             "#de77ae"
            ],
            [
             0.3,
             "#f1b6da"
            ],
            [
             0.4,
             "#fde0ef"
            ],
            [
             0.5,
             "#f7f7f7"
            ],
            [
             0.6,
             "#e6f5d0"
            ],
            [
             0.7,
             "#b8e186"
            ],
            [
             0.8,
             "#7fbc41"
            ],
            [
             0.9,
             "#4d9221"
            ],
            [
             1,
             "#276419"
            ]
           ],
           "sequential": [
            [
             0,
             "#0d0887"
            ],
            [
             0.1111111111111111,
             "#46039f"
            ],
            [
             0.2222222222222222,
             "#7201a8"
            ],
            [
             0.3333333333333333,
             "#9c179e"
            ],
            [
             0.4444444444444444,
             "#bd3786"
            ],
            [
             0.5555555555555556,
             "#d8576b"
            ],
            [
             0.6666666666666666,
             "#ed7953"
            ],
            [
             0.7777777777777778,
             "#fb9f3a"
            ],
            [
             0.8888888888888888,
             "#fdca26"
            ],
            [
             1,
             "#f0f921"
            ]
           ],
           "sequentialminus": [
            [
             0,
             "#0d0887"
            ],
            [
             0.1111111111111111,
             "#46039f"
            ],
            [
             0.2222222222222222,
             "#7201a8"
            ],
            [
             0.3333333333333333,
             "#9c179e"
            ],
            [
             0.4444444444444444,
             "#bd3786"
            ],
            [
             0.5555555555555556,
             "#d8576b"
            ],
            [
             0.6666666666666666,
             "#ed7953"
            ],
            [
             0.7777777777777778,
             "#fb9f3a"
            ],
            [
             0.8888888888888888,
             "#fdca26"
            ],
            [
             1,
             "#f0f921"
            ]
           ]
          },
          "colorway": [
           "#636efa",
           "#EF553B",
           "#00cc96",
           "#ab63fa",
           "#FFA15A",
           "#19d3f3",
           "#FF6692",
           "#B6E880",
           "#FF97FF",
           "#FECB52"
          ],
          "font": {
           "color": "#2a3f5f"
          },
          "geo": {
           "bgcolor": "white",
           "lakecolor": "white",
           "landcolor": "#E5ECF6",
           "showlakes": true,
           "showland": true,
           "subunitcolor": "white"
          },
          "hoverlabel": {
           "align": "left"
          },
          "hovermode": "closest",
          "mapbox": {
           "style": "light"
          },
          "paper_bgcolor": "white",
          "plot_bgcolor": "#E5ECF6",
          "polar": {
           "angularaxis": {
            "gridcolor": "white",
            "linecolor": "white",
            "ticks": ""
           },
           "bgcolor": "#E5ECF6",
           "radialaxis": {
            "gridcolor": "white",
            "linecolor": "white",
            "ticks": ""
           }
          },
          "scene": {
           "xaxis": {
            "backgroundcolor": "#E5ECF6",
            "gridcolor": "white",
            "gridwidth": 2,
            "linecolor": "white",
            "showbackground": true,
            "ticks": "",
            "zerolinecolor": "white"
           },
           "yaxis": {
            "backgroundcolor": "#E5ECF6",
            "gridcolor": "white",
            "gridwidth": 2,
            "linecolor": "white",
            "showbackground": true,
            "ticks": "",
            "zerolinecolor": "white"
           },
           "zaxis": {
            "backgroundcolor": "#E5ECF6",
            "gridcolor": "white",
            "gridwidth": 2,
            "linecolor": "white",
            "showbackground": true,
            "ticks": "",
            "zerolinecolor": "white"
           }
          },
          "shapedefaults": {
           "line": {
            "color": "#2a3f5f"
           }
          },
          "ternary": {
           "aaxis": {
            "gridcolor": "white",
            "linecolor": "white",
            "ticks": ""
           },
           "baxis": {
            "gridcolor": "white",
            "linecolor": "white",
            "ticks": ""
           },
           "bgcolor": "#E5ECF6",
           "caxis": {
            "gridcolor": "white",
            "linecolor": "white",
            "ticks": ""
           }
          },
          "title": {
           "x": 0.05
          },
          "xaxis": {
           "automargin": true,
           "gridcolor": "white",
           "linecolor": "white",
           "ticks": "",
           "title": {
            "standoff": 15
           },
           "zerolinecolor": "white",
           "zerolinewidth": 2
          },
          "yaxis": {
           "automargin": true,
           "gridcolor": "white",
           "linecolor": "white",
           "ticks": "",
           "title": {
            "standoff": 15
           },
           "zerolinecolor": "white",
           "zerolinewidth": 2
          }
         }
        },
        "title": {
         "font": {
          "color": "#4D5663"
         }
        },
        "xaxis": {
         "autorange": true,
         "gridcolor": "#E1E5ED",
         "range": [
          -0.5,
          3.5
         ],
         "showgrid": true,
         "tickfont": {
          "color": "#4D5663"
         },
         "title": {
          "font": {
           "color": "#4D5663"
          },
          "text": ""
         },
         "type": "category",
         "zerolinecolor": "#E1E5ED"
        },
        "yaxis": {
         "autorange": true,
         "gridcolor": "#E1E5ED",
         "range": [
          0,
          201.05263157894737
         ],
         "showgrid": true,
         "tickfont": {
          "color": "#4D5663"
         },
         "title": {
          "font": {
           "color": "#4D5663"
          },
          "text": ""
         },
         "type": "linear",
         "zerolinecolor": "#E1E5ED"
        }
       }
      },
      "image/png": "[encoded data removed]",
      "text/html": [
       "<div>\n",
       "        \n",
       "        \n",
       "            <div id=\"f94e5851-40c7-4576-bc8f-1de23693228e\" class=\"plotly-graph-div\" style=\"height:525px; width:100%;\"></div>\n",
       "            <script type=\"text/javascript\">\n",
       "                require([\"plotly\"], function(Plotly) {\n",
       "                    window.PLOTLYENV=window.PLOTLYENV || {};\n",
       "                    window.PLOTLYENV.BASE_URL='https://plot.ly';\n",
       "                    \n",
       "                if (document.getElementById(\"f94e5851-40c7-4576-bc8f-1de23693228e\")) {\n",
       "                    Plotly.newPlot(\n",
       "                        'f94e5851-40c7-4576-bc8f-1de23693228e',\n",
       "                        [{\"marker\": {\"color\": \"rgba(255, 153, 51, 0.6)\", \"line\": {\"color\": \"rgba(255, 153, 51, 1.0)\", \"width\": 1}}, \"name\": \"divers\", \"orientation\": \"v\", \"text\": \"\", \"type\": \"bar\", \"x\": [\"14-15\", \"16-17\", \"18-20\", \">20\"], \"y\": [\"\", \"\", 1.0, 4.0]}, {\"marker\": {\"color\": \"rgba(55, 128, 191, 0.6)\", \"line\": {\"color\": \"rgba(55, 128, 191, 1.0)\", \"width\": 1}}, \"name\": \"m\\u00e4nnlich\", \"orientation\": \"v\", \"text\": \"\", \"type\": \"bar\", \"x\": [\"14-15\", \"16-17\", \"18-20\", \">20\"], \"y\": [97.0, 191.0, 98.0, 65.0]}, {\"marker\": {\"color\": \"rgba(50, 171, 96, 0.6)\", \"line\": {\"color\": \"rgba(50, 171, 96, 1.0)\", \"width\": 1}}, \"name\": \"weiblich\", \"orientation\": \"v\", \"text\": \"\", \"type\": \"bar\", \"x\": [\"14-15\", \"16-17\", \"18-20\", \">20\"], \"y\": [27.0, 63.0, 46.0, 40.0]}],\n",
       "                        {\"legend\": {\"bgcolor\": \"#F5F6F9\", \"font\": {\"color\": \"#4D5663\"}}, \"paper_bgcolor\": \"#F5F6F9\", \"plot_bgcolor\": \"#F5F6F9\", \"template\": {\"data\": {\"bar\": [{\"error_x\": {\"color\": \"#2a3f5f\"}, \"error_y\": {\"color\": \"#2a3f5f\"}, \"marker\": {\"line\": {\"color\": \"#E5ECF6\", \"width\": 0.5}}, \"type\": \"bar\"}], \"barpolar\": [{\"marker\": {\"line\": {\"color\": \"#E5ECF6\", \"width\": 0.5}}, \"type\": \"barpolar\"}], \"carpet\": [{\"aaxis\": {\"endlinecolor\": \"#2a3f5f\", \"gridcolor\": \"white\", \"linecolor\": \"white\", \"minorgridcolor\": \"white\", \"startlinecolor\": \"#2a3f5f\"}, \"baxis\": {\"endlinecolor\": \"#2a3f5f\", \"gridcolor\": \"white\", \"linecolor\": \"white\", \"minorgridcolor\": \"white\", \"startlinecolor\": \"#2a3f5f\"}, \"type\": \"carpet\"}], \"choropleth\": [{\"colorbar\": {\"outlinewidth\": 0, \"ticks\": \"\"}, \"type\": \"choropleth\"}], \"contour\": [{\"colorbar\": {\"outlinewidth\": 0, \"ticks\": \"\"}, \"colorscale\": [[0.0, \"#0d0887\"], [0.1111111111111111, \"#46039f\"], [0.2222222222222222, \"#7201a8\"], [0.3333333333333333, \"#9c179e\"], [0.4444444444444444, \"#bd3786\"], [0.5555555555555556, \"#d8576b\"], [0.6666666666666666, \"#ed7953\"], [0.7777777777777778, \"#fb9f3a\"], [0.8888888888888888, \"#fdca26\"], [1.0, \"#f0f921\"]], \"type\": \"contour\"}], \"contourcarpet\": [{\"colorbar\": {\"outlinewidth\": 0, \"ticks\": \"\"}, \"type\": \"contourcarpet\"}], \"heatmap\": [{\"colorbar\": {\"outlinewidth\": 0, \"ticks\": \"\"}, \"colorscale\": [[0.0, \"#0d0887\"], [0.1111111111111111, \"#46039f\"], [0.2222222222222222, \"#7201a8\"], [0.3333333333333333, \"#9c179e\"], [0.4444444444444444, \"#bd3786\"], [0.5555555555555556, \"#d8576b\"], [0.6666666666666666, \"#ed7953\"], [0.7777777777777778, \"#fb9f3a\"], [0.8888888888888888, \"#fdca26\"], [1.0, \"#f0f921\"]], \"type\": \"heatmap\"}], \"heatmapgl\": [{\"colorbar\": {\"outlinewidth\": 0, \"ticks\": \"\"}, \"colorscale\": [[0.0, \"#0d0887\"], [0.1111111111111111, \"#46039f\"], [0.2222222222222222, \"#7201a8\"], [0.3333333333333333, \"#9c179e\"], [0.4444444444444444, \"#bd3786\"], [0.5555555555555556, \"#d8576b\"], [0.6666666666666666, \"#ed7953\"], [0.7777777777777778, \"#fb9f3a\"], [0.8888888888888888, \"#fdca26\"], [1.0, \"#f0f921\"]], \"type\": \"heatmapgl\"}], \"histogram\": [{\"marker\": {\"colorbar\": {\"outlinewidth\": 0, \"ticks\": \"\"}}, \"type\": \"histogram\"}], \"histogram2d\": [{\"colorbar\": {\"outlinewidth\": 0, \"ticks\": \"\"}, \"colorscale\": [[0.0, \"#0d0887\"], [0.1111111111111111, \"#46039f\"], [0.2222222222222222, \"#7201a8\"], [0.3333333333333333, \"#9c179e\"], [0.4444444444444444, \"#bd3786\"], [0.5555555555555556, \"#d8576b\"], [0.6666666666666666, \"#ed7953\"], [0.7777777777777778, \"#fb9f3a\"], [0.8888888888888888, \"#fdca26\"], [1.0, \"#f0f921\"]], \"type\": \"histogram2d\"}], \"histogram2dcontour\": [{\"colorbar\": {\"outlinewidth\": 0, \"ticks\": \"\"}, \"colorscale\": [[0.0, \"#0d0887\"], [0.1111111111111111, \"#46039f\"], [0.2222222222222222, \"#7201a8\"], [0.3333333333333333, \"#9c179e\"], [0.4444444444444444, \"#bd3786\"], [0.5555555555555556, \"#d8576b\"], [0.6666666666666666, \"#ed7953\"], [0.7777777777777778, \"#fb9f3a\"], [0.8888888888888888, \"#fdca26\"], [1.0, \"#f0f921\"]], \"type\": \"histogram2dcontour\"}], \"mesh3d\": [{\"colorbar\": {\"outlinewidth\": 0, \"ticks\": \"\"}, \"type\": \"mesh3d\"}], \"parcoords\": [{\"line\": {\"colorbar\": {\"outlinewidth\": 0, \"ticks\": \"\"}}, \"type\": \"parcoords\"}], \"pie\": [{\"automargin\": true, \"type\": \"pie\"}], \"scatter\": [{\"marker\": {\"colorbar\": {\"outlinewidth\": 0, \"ticks\": \"\"}}, \"type\": \"scatter\"}], \"scatter3d\": [{\"line\": {\"colorbar\": {\"outlinewidth\": 0, \"ticks\": \"\"}}, \"marker\": {\"colorbar\": {\"outlinewidth\": 0, \"ticks\": \"\"}}, \"type\": \"scatter3d\"}], \"scattercarpet\": [{\"marker\": {\"colorbar\": {\"outlinewidth\": 0, \"ticks\": \"\"}}, \"type\": \"scattercarpet\"}], \"scattergeo\": [{\"marker\": {\"colorbar\": {\"outlinewidth\": 0, \"ticks\": \"\"}}, \"type\": \"scattergeo\"}], \"scattergl\": [{\"marker\": {\"colorbar\": {\"outlinewidth\": 0, \"ticks\": \"\"}}, \"type\": \"scattergl\"}], \"scattermapbox\": [{\"marker\": {\"colorbar\": {\"outlinewidth\": 0, \"ticks\": \"\"}}, \"type\": \"scattermapbox\"}], \"scatterpolar\": [{\"marker\": {\"colorbar\": {\"outlinewidth\": 0, \"ticks\": \"\"}}, \"type\": \"scatterpolar\"}], \"scatterpolargl\": [{\"marker\": {\"colorbar\": {\"outlinewidth\": 0, \"ticks\": \"\"}}, \"type\": \"scatterpolargl\"}], \"scatterternary\": [{\"marker\": {\"colorbar\": {\"outlinewidth\": 0, \"ticks\": \"\"}}, \"type\": \"scatterternary\"}], \"surface\": [{\"colorbar\": {\"outlinewidth\": 0, \"ticks\": \"\"}, \"colorscale\": [[0.0, \"#0d0887\"], [0.1111111111111111, \"#46039f\"], [0.2222222222222222, \"#7201a8\"], [0.3333333333333333, \"#9c179e\"], [0.4444444444444444, \"#bd3786\"], [0.5555555555555556, \"#d8576b\"], [0.6666666666666666, \"#ed7953\"], [0.7777777777777778, \"#fb9f3a\"], [0.8888888888888888, \"#fdca26\"], [1.0, \"#f0f921\"]], \"type\": \"surface\"}], \"table\": [{\"cells\": {\"fill\": {\"color\": \"#EBF0F8\"}, \"line\": {\"color\": \"white\"}}, \"header\": {\"fill\": {\"color\": \"#C8D4E3\"}, \"line\": {\"color\": \"white\"}}, \"type\": \"table\"}]}, \"layout\": {\"annotationdefaults\": {\"arrowcolor\": \"#2a3f5f\", \"arrowhead\": 0, \"arrowwidth\": 1}, \"coloraxis\": {\"colorbar\": {\"outlinewidth\": 0, \"ticks\": \"\"}}, \"colorscale\": {\"diverging\": [[0, \"#8e0152\"], [0.1, \"#c51b7d\"], [0.2, \"#de77ae\"], [0.3, \"#f1b6da\"], [0.4, \"#fde0ef\"], [0.5, \"#f7f7f7\"], [0.6, \"#e6f5d0\"], [0.7, \"#b8e186\"], [0.8, \"#7fbc41\"], [0.9, \"#4d9221\"], [1, \"#276419\"]], \"sequential\": [[0.0, \"#0d0887\"], [0.1111111111111111, \"#46039f\"], [0.2222222222222222, \"#7201a8\"], [0.3333333333333333, \"#9c179e\"], [0.4444444444444444, \"#bd3786\"], [0.5555555555555556, \"#d8576b\"], [0.6666666666666666, \"#ed7953\"], [0.7777777777777778, \"#fb9f3a\"], [0.8888888888888888, \"#fdca26\"], [1.0, \"#f0f921\"]], \"sequentialminus\": [[0.0, \"#0d0887\"], [0.1111111111111111, \"#46039f\"], [0.2222222222222222, \"#7201a8\"], [0.3333333333333333, \"#9c179e\"], [0.4444444444444444, \"#bd3786\"], [0.5555555555555556, \"#d8576b\"], [0.6666666666666666, \"#ed7953\"], [0.7777777777777778, \"#fb9f3a\"], [0.8888888888888888, \"#fdca26\"], [1.0, \"#f0f921\"]]}, \"colorway\": [\"#636efa\", \"#EF553B\", \"#00cc96\", \"#ab63fa\", \"#FFA15A\", \"#19d3f3\", \"#FF6692\", \"#B6E880\", \"#FF97FF\", \"#FECB52\"], \"font\": {\"color\": \"#2a3f5f\"}, \"geo\": {\"bgcolor\": \"white\", \"lakecolor\": \"white\", \"landcolor\": \"#E5ECF6\", \"showlakes\": true, \"showland\": true, \"subunitcolor\": \"white\"}, \"hoverlabel\": {\"align\": \"left\"}, \"hovermode\": \"closest\", \"mapbox\": {\"style\": \"light\"}, \"paper_bgcolor\": \"white\", \"plot_bgcolor\": \"#E5ECF6\", \"polar\": {\"angularaxis\": {\"gridcolor\": \"white\", \"linecolor\": \"white\", \"ticks\": \"\"}, \"bgcolor\": \"#E5ECF6\", \"radialaxis\": {\"gridcolor\": \"white\", \"linecolor\": \"white\", \"ticks\": \"\"}}, \"scene\": {\"xaxis\": {\"backgroundcolor\": \"#E5ECF6\", \"gridcolor\": \"white\", \"gridwidth\": 2, \"linecolor\": \"white\", \"showbackground\": true, \"ticks\": \"\", \"zerolinecolor\": \"white\"}, \"yaxis\": {\"backgroundcolor\": \"#E5ECF6\", \"gridcolor\": \"white\", \"gridwidth\": 2, \"linecolor\": \"white\", \"showbackground\": true, \"ticks\": \"\", \"zerolinecolor\": \"white\"}, \"zaxis\": {\"backgroundcolor\": \"#E5ECF6\", \"gridcolor\": \"white\", \"gridwidth\": 2, \"linecolor\": \"white\", \"showbackground\": true, \"ticks\": \"\", \"zerolinecolor\": \"white\"}}, \"shapedefaults\": {\"line\": {\"color\": \"#2a3f5f\"}}, \"ternary\": {\"aaxis\": {\"gridcolor\": \"white\", \"linecolor\": \"white\", \"ticks\": \"\"}, \"baxis\": {\"gridcolor\": \"white\", \"linecolor\": \"white\", \"ticks\": \"\"}, \"bgcolor\": \"#E5ECF6\", \"caxis\": {\"gridcolor\": \"white\", \"linecolor\": \"white\", \"ticks\": \"\"}}, \"title\": {\"x\": 0.05}, \"xaxis\": {\"automargin\": true, \"gridcolor\": \"white\", \"linecolor\": \"white\", \"ticks\": \"\", \"title\": {\"standoff\": 15}, \"zerolinecolor\": \"white\", \"zerolinewidth\": 2}, \"yaxis\": {\"automargin\": true, \"gridcolor\": \"white\", \"linecolor\": \"white\", \"ticks\": \"\", \"title\": {\"standoff\": 15}, \"zerolinecolor\": \"white\", \"zerolinewidth\": 2}}}, \"title\": {\"font\": {\"color\": \"#4D5663\"}}, \"xaxis\": {\"gridcolor\": \"#E1E5ED\", \"showgrid\": true, \"tickfont\": {\"color\": \"#4D5663\"}, \"title\": {\"font\": {\"color\": \"#4D5663\"}, \"text\": \"\"}, \"zerolinecolor\": \"#E1E5ED\"}, \"yaxis\": {\"gridcolor\": \"#E1E5ED\", \"showgrid\": true, \"tickfont\": {\"color\": \"#4D5663\"}, \"title\": {\"font\": {\"color\": \"#4D5663\"}, \"text\": \"\"}, \"zerolinecolor\": \"#E1E5ED\"}},\n",
       "                        {\"showLink\": true, \"linkText\": \"Export to plot.ly\", \"plotlyServerURL\": \"https://plot.ly\", \"responsive\": true}\n",
       "                    ).then(function(){\n",
       "                            \n",
       "var gd = document.getElementById('f94e5851-40c7-4576-bc8f-1de23693228e');\n",
       "var x = new MutationObserver(function (mutations, observer) {{\n",
       "        var display = window.getComputedStyle(gd).display;\n",
       "        if (!display || display === 'none') {{\n",
       "            console.log([gd, 'removed!']);\n",
       "            Plotly.purge(gd);\n",
       "            observer.disconnect();\n",
       "        }}\n",
       "}});\n",
       "\n",
       "// Listen for the removal of the full notebook cells\n",
       "var notebookContainer = gd.closest('#notebook-container');\n",
       "if (notebookContainer) {{\n",
       "    x.observe(notebookContainer, {childList: true});\n",
       "}}\n",
       "\n",
       "// Listen for the clearing of the current output cell\n",
       "var outputEl = gd.closest('.output');\n",
       "if (outputEl) {{\n",
       "    x.observe(outputEl, {childList: true});\n",
       "}}\n",
       "\n",
       "                        })\n",
       "                };\n",
       "                });\n",
       "            </script>\n",
       "        </div>"
      ]
     },
     "metadata": {},
     "output_type": "display_data"
    },
    {
     "data": {
      "text/html": [
       "<div>\n",
       "<style scoped>\n",
       "    .dataframe tbody tr th:only-of-type {\n",
       "        vertical-align: middle;\n",
       "    }\n",
       "\n",
       "    .dataframe tbody tr th {\n",
       "        vertical-align: top;\n",
       "    }\n",
       "\n",
       "    .dataframe thead th {\n",
       "        text-align: right;\n",
       "    }\n",
       "</style>\n",
       "<table border=\"1\" class=\"dataframe\">\n",
       "  <thead>\n",
       "    <tr style=\"text-align: right;\">\n",
       "      <th>Geschlecht</th>\n",
       "      <th>divers</th>\n",
       "      <th>männlich</th>\n",
       "      <th>weiblich</th>\n",
       "    </tr>\n",
       "    <tr>\n",
       "      <th>Alter</th>\n",
       "      <th></th>\n",
       "      <th></th>\n",
       "      <th></th>\n",
       "    </tr>\n",
       "  </thead>\n",
       "  <tbody>\n",
       "    <tr>\n",
       "      <th>14-15</th>\n",
       "      <td>NaN</td>\n",
       "      <td>97.0</td>\n",
       "      <td>27.0</td>\n",
       "    </tr>\n",
       "    <tr>\n",
       "      <th>16-17</th>\n",
       "      <td>NaN</td>\n",
       "      <td>191.0</td>\n",
       "      <td>63.0</td>\n",
       "    </tr>\n",
       "    <tr>\n",
       "      <th>18-20</th>\n",
       "      <td>1.0</td>\n",
       "      <td>98.0</td>\n",
       "      <td>46.0</td>\n",
       "    </tr>\n",
       "    <tr>\n",
       "      <th>&gt;20</th>\n",
       "      <td>4.0</td>\n",
       "      <td>65.0</td>\n",
       "      <td>40.0</td>\n",
       "    </tr>\n",
       "  </tbody>\n",
       "</table>\n",
       "</div>"
      ],
      "text/plain": [
       "Geschlecht  divers  männlich  weiblich\n",
       "Alter                                 \n",
       "14-15          NaN      97.0      27.0\n",
       "16-17          NaN     191.0      63.0\n",
       "18-20          1.0      98.0      46.0\n",
       ">20            4.0      65.0      40.0"
      ]
     },
     "execution_count": 8,
     "metadata": {},
     "output_type": "execute_result"
    }
   ],
   "source": [
    "d=df[[\"Alter\", \"Geschlecht\", \"ID\"]]\n",
    "d=d.groupby([\"Alter\", \"Geschlecht\"]).count().unstack()\n",
    "d.ID.iplot(kind='bar')\n",
    "d.ID"
   ]
  },
  {
   "cell_type": "code",
   "execution_count": 9,
   "metadata": {},
   "outputs": [
    {
     "data": {
      "application/vnd.plotly.v1+json": {
       "config": {
        "linkText": "Export to plot.ly",
        "plotlyServerURL": "https://plot.ly",
        "showLink": true
       },
       "data": [
        {
         "marker": {
          "color": "rgba(255, 153, 51, 0.6)",
          "line": {
           "color": "rgba(255, 153, 51, 1.0)",
           "width": 1
          }
         },
         "name": "divers",
         "orientation": "v",
         "text": "",
         "type": "bar",
         "x": [
          "9.Schulstufe",
          "10.Schulstufe",
          "11.Schulstufe",
          "12.Schulstufe",
          "13.Schulstufe",
          "höher"
         ],
         "y": [
          "",
          "",
          "",
          "",
          "",
          5
         ]
        },
        {
         "marker": {
          "color": "rgba(55, 128, 191, 0.6)",
          "line": {
           "color": "rgba(55, 128, 191, 1.0)",
           "width": 1
          }
         },
         "name": "männlich",
         "orientation": "v",
         "text": "",
         "type": "bar",
         "x": [
          "9.Schulstufe",
          "10.Schulstufe",
          "11.Schulstufe",
          "12.Schulstufe",
          "13.Schulstufe",
          "höher"
         ],
         "y": [
          91,
          68,
          149,
          40,
          12,
          90
         ]
        },
        {
         "marker": {
          "color": "rgba(50, 171, 96, 0.6)",
          "line": {
           "color": "rgba(50, 171, 96, 1.0)",
           "width": 1
          }
         },
         "name": "weiblich",
         "orientation": "v",
         "text": "",
         "type": "bar",
         "x": [
          "9.Schulstufe",
          "10.Schulstufe",
          "11.Schulstufe",
          "12.Schulstufe",
          "13.Schulstufe",
          "höher"
         ],
         "y": [
          21,
          26,
          38,
          31,
          4,
          56
         ]
        }
       ],
       "layout": {
        "autosize": true,
        "legend": {
         "bgcolor": "#F5F6F9",
         "font": {
          "color": "#4D5663"
         }
        },
        "paper_bgcolor": "#F5F6F9",
        "plot_bgcolor": "#F5F6F9",
        "template": {
         "data": {
          "bar": [
           {
            "error_x": {
             "color": "#2a3f5f"
            },
            "error_y": {
             "color": "#2a3f5f"
            },
            "marker": {
             "line": {
              "color": "#E5ECF6",
              "width": 0.5
             }
            },
            "type": "bar"
           }
          ],
          "barpolar": [
           {
            "marker": {
             "line": {
              "color": "#E5ECF6",
              "width": 0.5
             }
            },
            "type": "barpolar"
           }
          ],
          "carpet": [
           {
            "aaxis": {
             "endlinecolor": "#2a3f5f",
             "gridcolor": "white",
             "linecolor": "white",
             "minorgridcolor": "white",
             "startlinecolor": "#2a3f5f"
            },
            "baxis": {
             "endlinecolor": "#2a3f5f",
             "gridcolor": "white",
             "linecolor": "white",
             "minorgridcolor": "white",
             "startlinecolor": "#2a3f5f"
            },
            "type": "carpet"
           }
          ],
          "choropleth": [
           {
            "colorbar": {
             "outlinewidth": 0,
             "ticks": ""
            },
            "type": "choropleth"
           }
          ],
          "contour": [
           {
            "colorbar": {
             "outlinewidth": 0,
             "ticks": ""
            },
            "colorscale": [
             [
              0,
              "#0d0887"
             ],
             [
              0.1111111111111111,
              "#46039f"
             ],
             [
              0.2222222222222222,
              "#7201a8"
             ],
             [
              0.3333333333333333,
              "#9c179e"
             ],
             [
              0.4444444444444444,
              "#bd3786"
             ],
             [
              0.5555555555555556,
              "#d8576b"
             ],
             [
              0.6666666666666666,
              "#ed7953"
             ],
             [
              0.7777777777777778,
              "#fb9f3a"
             ],
             [
              0.8888888888888888,
              "#fdca26"
             ],
             [
              1,
              "#f0f921"
             ]
            ],
            "type": "contour"
           }
          ],
          "contourcarpet": [
           {
            "colorbar": {
             "outlinewidth": 0,
             "ticks": ""
            },
            "type": "contourcarpet"
           }
          ],
          "heatmap": [
           {
            "colorbar": {
             "outlinewidth": 0,
             "ticks": ""
            },
            "colorscale": [
             [
              0,
              "#0d0887"
             ],
             [
              0.1111111111111111,
              "#46039f"
             ],
             [
              0.2222222222222222,
              "#7201a8"
             ],
             [
              0.3333333333333333,
              "#9c179e"
             ],
             [
              0.4444444444444444,
              "#bd3786"
             ],
             [
              0.5555555555555556,
              "#d8576b"
             ],
             [
              0.6666666666666666,
              "#ed7953"
             ],
             [
              0.7777777777777778,
              "#fb9f3a"
             ],
             [
              0.8888888888888888,
              "#fdca26"
             ],
             [
              1,
              "#f0f921"
             ]
            ],
            "type": "heatmap"
           }
          ],
          "heatmapgl": [
           {
            "colorbar": {
             "outlinewidth": 0,
             "ticks": ""
            },
            "colorscale": [
             [
              0,
              "#0d0887"
             ],
             [
              0.1111111111111111,
              "#46039f"
             ],
             [
              0.2222222222222222,
              "#7201a8"
             ],
             [
              0.3333333333333333,
              "#9c179e"
             ],
             [
              0.4444444444444444,
              "#bd3786"
             ],
             [
              0.5555555555555556,
              "#d8576b"
             ],
             [
              0.6666666666666666,
              "#ed7953"
             ],
             [
              0.7777777777777778,
              "#fb9f3a"
             ],
             [
              0.8888888888888888,
              "#fdca26"
             ],
             [
              1,
              "#f0f921"
             ]
            ],
            "type": "heatmapgl"
           }
          ],
          "histogram": [
           {
            "marker": {
             "colorbar": {
              "outlinewidth": 0,
              "ticks": ""
             }
            },
            "type": "histogram"
           }
          ],
          "histogram2d": [
           {
            "colorbar": {
             "outlinewidth": 0,
             "ticks": ""
            },
            "colorscale": [
             [
              0,
              "#0d0887"
             ],
             [
              0.1111111111111111,
              "#46039f"
             ],
             [
              0.2222222222222222,
              "#7201a8"
             ],
             [
              0.3333333333333333,
              "#9c179e"
             ],
             [
              0.4444444444444444,
              "#bd3786"
             ],
             [
              0.5555555555555556,
              "#d8576b"
             ],
             [
              0.6666666666666666,
              "#ed7953"
             ],
             [
              0.7777777777777778,
              "#fb9f3a"
             ],
             [
              0.8888888888888888,
              "#fdca26"
             ],
             [
              1,
              "#f0f921"
             ]
            ],
            "type": "histogram2d"
           }
          ],
          "histogram2dcontour": [
           {
            "colorbar": {
             "outlinewidth": 0,
             "ticks": ""
            },
            "colorscale": [
             [
              0,
              "#0d0887"
             ],
             [
              0.1111111111111111,
              "#46039f"
             ],
             [
              0.2222222222222222,
              "#7201a8"
             ],
             [
              0.3333333333333333,
              "#9c179e"
             ],
             [
              0.4444444444444444,
              "#bd3786"
             ],
             [
              0.5555555555555556,
              "#d8576b"
             ],
             [
              0.6666666666666666,
              "#ed7953"
             ],
             [
              0.7777777777777778,
              "#fb9f3a"
             ],
             [
              0.8888888888888888,
              "#fdca26"
             ],
             [
              1,
              "#f0f921"
             ]
            ],
            "type": "histogram2dcontour"
           }
          ],
          "mesh3d": [
           {
            "colorbar": {
             "outlinewidth": 0,
             "ticks": ""
            },
            "type": "mesh3d"
           }
          ],
          "parcoords": [
           {
            "line": {
             "colorbar": {
              "outlinewidth": 0,
              "ticks": ""
             }
            },
            "type": "parcoords"
           }
          ],
          "pie": [
           {
            "automargin": true,
            "type": "pie"
           }
          ],
          "scatter": [
           {
            "marker": {
             "colorbar": {
              "outlinewidth": 0,
              "ticks": ""
             }
            },
            "type": "scatter"
           }
          ],
          "scatter3d": [
           {
            "line": {
             "colorbar": {
              "outlinewidth": 0,
              "ticks": ""
             }
            },
            "marker": {
             "colorbar": {
              "outlinewidth": 0,
              "ticks": ""
             }
            },
            "type": "scatter3d"
           }
          ],
          "scattercarpet": [
           {
            "marker": {
             "colorbar": {
              "outlinewidth": 0,
              "ticks": ""
             }
            },
            "type": "scattercarpet"
           }
          ],
          "scattergeo": [
           {
            "marker": {
             "colorbar": {
              "outlinewidth": 0,
              "ticks": ""
             }
            },
            "type": "scattergeo"
           }
          ],
          "scattergl": [
           {
            "marker": {
             "colorbar": {
              "outlinewidth": 0,
              "ticks": ""
             }
            },
            "type": "scattergl"
           }
          ],
          "scattermapbox": [
           {
            "marker": {
             "colorbar": {
              "outlinewidth": 0,
              "ticks": ""
             }
            },
            "type": "scattermapbox"
           }
          ],
          "scatterpolar": [
           {
            "marker": {
             "colorbar": {
              "outlinewidth": 0,
              "ticks": ""
             }
            },
            "type": "scatterpolar"
           }
          ],
          "scatterpolargl": [
           {
            "marker": {
             "colorbar": {
              "outlinewidth": 0,
              "ticks": ""
             }
            },
            "type": "scatterpolargl"
           }
          ],
          "scatterternary": [
           {
            "marker": {
             "colorbar": {
              "outlinewidth": 0,
              "ticks": ""
             }
            },
            "type": "scatterternary"
           }
          ],
          "surface": [
           {
            "colorbar": {
             "outlinewidth": 0,
             "ticks": ""
            },
            "colorscale": [
             [
              0,
              "#0d0887"
             ],
             [
              0.1111111111111111,
              "#46039f"
             ],
             [
              0.2222222222222222,
              "#7201a8"
             ],
             [
              0.3333333333333333,
              "#9c179e"
             ],
             [
              0.4444444444444444,
              "#bd3786"
             ],
             [
              0.5555555555555556,
              "#d8576b"
             ],
             [
              0.6666666666666666,
              "#ed7953"
             ],
             [
              0.7777777777777778,
              "#fb9f3a"
             ],
             [
              0.8888888888888888,
              "#fdca26"
             ],
             [
              1,
              "#f0f921"
             ]
            ],
            "type": "surface"
           }
          ],
          "table": [
           {
            "cells": {
             "fill": {
              "color": "#EBF0F8"
             },
             "line": {
              "color": "white"
             }
            },
            "header": {
             "fill": {
              "color": "#C8D4E3"
             },
             "line": {
              "color": "white"
             }
            },
            "type": "table"
           }
          ]
         },
         "layout": {
          "annotationdefaults": {
           "arrowcolor": "#2a3f5f",
           "arrowhead": 0,
           "arrowwidth": 1
          },
          "coloraxis": {
           "colorbar": {
            "outlinewidth": 0,
            "ticks": ""
           }
          },
          "colorscale": {
           "diverging": [
            [
             0,
             "#8e0152"
            ],
            [
             0.1,
             "#c51b7d"
            ],
            [
             0.2,
             "#de77ae"
            ],
            [
             0.3,
             "#f1b6da"
            ],
            [
             0.4,
             "#fde0ef"
            ],
            [
             0.5,
             "#f7f7f7"
            ],
            [
             0.6,
             "#e6f5d0"
            ],
            [
             0.7,
             "#b8e186"
            ],
            [
             0.8,
             "#7fbc41"
            ],
            [
             0.9,
             "#4d9221"
            ],
            [
             1,
             "#276419"
            ]
           ],
           "sequential": [
            [
             0,
             "#0d0887"
            ],
            [
             0.1111111111111111,
             "#46039f"
            ],
            [
             0.2222222222222222,
             "#7201a8"
            ],
            [
             0.3333333333333333,
             "#9c179e"
            ],
            [
             0.4444444444444444,
             "#bd3786"
            ],
            [
             0.5555555555555556,
             "#d8576b"
            ],
            [
             0.6666666666666666,
             "#ed7953"
            ],
            [
             0.7777777777777778,
             "#fb9f3a"
            ],
            [
             0.8888888888888888,
             "#fdca26"
            ],
            [
             1,
             "#f0f921"
            ]
           ],
           "sequentialminus": [
            [
             0,
             "#0d0887"
            ],
            [
             0.1111111111111111,
             "#46039f"
            ],
            [
             0.2222222222222222,
             "#7201a8"
            ],
            [
             0.3333333333333333,
             "#9c179e"
            ],
            [
             0.4444444444444444,
             "#bd3786"
            ],
            [
             0.5555555555555556,
             "#d8576b"
            ],
            [
             0.6666666666666666,
             "#ed7953"
            ],
            [
             0.7777777777777778,
             "#fb9f3a"
            ],
            [
             0.8888888888888888,
             "#fdca26"
            ],
            [
             1,
             "#f0f921"
            ]
           ]
          },
          "colorway": [
           "#636efa",
           "#EF553B",
           "#00cc96",
           "#ab63fa",
           "#FFA15A",
           "#19d3f3",
           "#FF6692",
           "#B6E880",
           "#FF97FF",
           "#FECB52"
          ],
          "font": {
           "color": "#2a3f5f"
          },
          "geo": {
           "bgcolor": "white",
           "lakecolor": "white",
           "landcolor": "#E5ECF6",
           "showlakes": true,
           "showland": true,
           "subunitcolor": "white"
          },
          "hoverlabel": {
           "align": "left"
          },
          "hovermode": "closest",
          "mapbox": {
           "style": "light"
          },
          "paper_bgcolor": "white",
          "plot_bgcolor": "#E5ECF6",
          "polar": {
           "angularaxis": {
            "gridcolor": "white",
            "linecolor": "white",
            "ticks": ""
           },
           "bgcolor": "#E5ECF6",
           "radialaxis": {
            "gridcolor": "white",
            "linecolor": "white",
            "ticks": ""
           }
          },
          "scene": {
           "xaxis": {
            "backgroundcolor": "#E5ECF6",
            "gridcolor": "white",
            "gridwidth": 2,
            "linecolor": "white",
            "showbackground": true,
            "ticks": "",
            "zerolinecolor": "white"
           },
           "yaxis": {
            "backgroundcolor": "#E5ECF6",
            "gridcolor": "white",
            "gridwidth": 2,
            "linecolor": "white",
            "showbackground": true,
            "ticks": "",
            "zerolinecolor": "white"
           },
           "zaxis": {
            "backgroundcolor": "#E5ECF6",
            "gridcolor": "white",
            "gridwidth": 2,
            "linecolor": "white",
            "showbackground": true,
            "ticks": "",
            "zerolinecolor": "white"
           }
          },
          "shapedefaults": {
           "line": {
            "color": "#2a3f5f"
           }
          },
          "ternary": {
           "aaxis": {
            "gridcolor": "white",
            "linecolor": "white",
            "ticks": ""
           },
           "baxis": {
            "gridcolor": "white",
            "linecolor": "white",
            "ticks": ""
           },
           "bgcolor": "#E5ECF6",
           "caxis": {
            "gridcolor": "white",
            "linecolor": "white",
            "ticks": ""
           }
          },
          "title": {
           "x": 0.05
          },
          "xaxis": {
           "automargin": true,
           "gridcolor": "white",
           "linecolor": "white",
           "ticks": "",
           "title": {
            "standoff": 15
           },
           "zerolinecolor": "white",
           "zerolinewidth": 2
          },
          "yaxis": {
           "automargin": true,
           "gridcolor": "white",
           "linecolor": "white",
           "ticks": "",
           "title": {
            "standoff": 15
           },
           "zerolinecolor": "white",
           "zerolinewidth": 2
          }
         }
        },
        "title": {
         "font": {
          "color": "#4D5663"
         }
        },
        "xaxis": {
         "autorange": true,
         "gridcolor": "#E1E5ED",
         "range": [
          -0.5,
          5.5
         ],
         "showgrid": true,
         "tickfont": {
          "color": "#4D5663"
         },
         "title": {
          "font": {
           "color": "#4D5663"
          },
          "text": ""
         },
         "type": "category",
         "zerolinecolor": "#E1E5ED"
        },
        "yaxis": {
         "autorange": true,
         "gridcolor": "#E1E5ED",
         "range": [
          0,
          156.8421052631579
         ],
         "showgrid": true,
         "tickfont": {
          "color": "#4D5663"
         },
         "title": {
          "font": {
           "color": "#4D5663"
          },
          "text": ""
         },
         "type": "linear",
         "zerolinecolor": "#E1E5ED"
        }
       }
      },
      "image/png": "[encoded data removed]",
      "text/html": [
       "<div>\n",
       "        \n",
       "        \n",
       "            <div id=\"7566cfde-3a46-48d5-8ebf-58e3ef289048\" class=\"plotly-graph-div\" style=\"height:525px; width:100%;\"></div>\n",
       "            <script type=\"text/javascript\">\n",
       "                require([\"plotly\"], function(Plotly) {\n",
       "                    window.PLOTLYENV=window.PLOTLYENV || {};\n",
       "                    window.PLOTLYENV.BASE_URL='https://plot.ly';\n",
       "                    \n",
       "                if (document.getElementById(\"7566cfde-3a46-48d5-8ebf-58e3ef289048\")) {\n",
       "                    Plotly.newPlot(\n",
       "                        '7566cfde-3a46-48d5-8ebf-58e3ef289048',\n",
       "                        [{\"marker\": {\"color\": \"rgba(255, 153, 51, 0.6)\", \"line\": {\"color\": \"rgba(255, 153, 51, 1.0)\", \"width\": 1}}, \"name\": \"divers\", \"orientation\": \"v\", \"text\": \"\", \"type\": \"bar\", \"x\": [\"9.Schulstufe\", \"10.Schulstufe\", \"11.Schulstufe\", \"12.Schulstufe\", \"13.Schulstufe\", \"h\\u00f6her\"], \"y\": [\"\", \"\", \"\", \"\", \"\", 5.0]}, {\"marker\": {\"color\": \"rgba(55, 128, 191, 0.6)\", \"line\": {\"color\": \"rgba(55, 128, 191, 1.0)\", \"width\": 1}}, \"name\": \"m\\u00e4nnlich\", \"orientation\": \"v\", \"text\": \"\", \"type\": \"bar\", \"x\": [\"9.Schulstufe\", \"10.Schulstufe\", \"11.Schulstufe\", \"12.Schulstufe\", \"13.Schulstufe\", \"h\\u00f6her\"], \"y\": [91.0, 68.0, 149.0, 40.0, 12.0, 90.0]}, {\"marker\": {\"color\": \"rgba(50, 171, 96, 0.6)\", \"line\": {\"color\": \"rgba(50, 171, 96, 1.0)\", \"width\": 1}}, \"name\": \"weiblich\", \"orientation\": \"v\", \"text\": \"\", \"type\": \"bar\", \"x\": [\"9.Schulstufe\", \"10.Schulstufe\", \"11.Schulstufe\", \"12.Schulstufe\", \"13.Schulstufe\", \"h\\u00f6her\"], \"y\": [21.0, 26.0, 38.0, 31.0, 4.0, 56.0]}],\n",
       "                        {\"legend\": {\"bgcolor\": \"#F5F6F9\", \"font\": {\"color\": \"#4D5663\"}}, \"paper_bgcolor\": \"#F5F6F9\", \"plot_bgcolor\": \"#F5F6F9\", \"template\": {\"data\": {\"bar\": [{\"error_x\": {\"color\": \"#2a3f5f\"}, \"error_y\": {\"color\": \"#2a3f5f\"}, \"marker\": {\"line\": {\"color\": \"#E5ECF6\", \"width\": 0.5}}, \"type\": \"bar\"}], \"barpolar\": [{\"marker\": {\"line\": {\"color\": \"#E5ECF6\", \"width\": 0.5}}, \"type\": \"barpolar\"}], \"carpet\": [{\"aaxis\": {\"endlinecolor\": \"#2a3f5f\", \"gridcolor\": \"white\", \"linecolor\": \"white\", \"minorgridcolor\": \"white\", \"startlinecolor\": \"#2a3f5f\"}, \"baxis\": {\"endlinecolor\": \"#2a3f5f\", \"gridcolor\": \"white\", \"linecolor\": \"white\", \"minorgridcolor\": \"white\", \"startlinecolor\": \"#2a3f5f\"}, \"type\": \"carpet\"}], \"choropleth\": [{\"colorbar\": {\"outlinewidth\": 0, \"ticks\": \"\"}, \"type\": \"choropleth\"}], \"contour\": [{\"colorbar\": {\"outlinewidth\": 0, \"ticks\": \"\"}, \"colorscale\": [[0.0, \"#0d0887\"], [0.1111111111111111, \"#46039f\"], [0.2222222222222222, \"#7201a8\"], [0.3333333333333333, \"#9c179e\"], [0.4444444444444444, \"#bd3786\"], [0.5555555555555556, \"#d8576b\"], [0.6666666666666666, \"#ed7953\"], [0.7777777777777778, \"#fb9f3a\"], [0.8888888888888888, \"#fdca26\"], [1.0, \"#f0f921\"]], \"type\": \"contour\"}], \"contourcarpet\": [{\"colorbar\": {\"outlinewidth\": 0, \"ticks\": \"\"}, \"type\": \"contourcarpet\"}], \"heatmap\": [{\"colorbar\": {\"outlinewidth\": 0, \"ticks\": \"\"}, \"colorscale\": [[0.0, \"#0d0887\"], [0.1111111111111111, \"#46039f\"], [0.2222222222222222, \"#7201a8\"], [0.3333333333333333, \"#9c179e\"], [0.4444444444444444, \"#bd3786\"], [0.5555555555555556, \"#d8576b\"], [0.6666666666666666, \"#ed7953\"], [0.7777777777777778, \"#fb9f3a\"], [0.8888888888888888, \"#fdca26\"], [1.0, \"#f0f921\"]], \"type\": \"heatmap\"}], \"heatmapgl\": [{\"colorbar\": {\"outlinewidth\": 0, \"ticks\": \"\"}, \"colorscale\": [[0.0, \"#0d0887\"], [0.1111111111111111, \"#46039f\"], [0.2222222222222222, \"#7201a8\"], [0.3333333333333333, \"#9c179e\"], [0.4444444444444444, \"#bd3786\"], [0.5555555555555556, \"#d8576b\"], [0.6666666666666666, \"#ed7953\"], [0.7777777777777778, \"#fb9f3a\"], [0.8888888888888888, \"#fdca26\"], [1.0, \"#f0f921\"]], \"type\": \"heatmapgl\"}], \"histogram\": [{\"marker\": {\"colorbar\": {\"outlinewidth\": 0, \"ticks\": \"\"}}, \"type\": \"histogram\"}], \"histogram2d\": [{\"colorbar\": {\"outlinewidth\": 0, \"ticks\": \"\"}, \"colorscale\": [[0.0, \"#0d0887\"], [0.1111111111111111, \"#46039f\"], [0.2222222222222222, \"#7201a8\"], [0.3333333333333333, \"#9c179e\"], [0.4444444444444444, \"#bd3786\"], [0.5555555555555556, \"#d8576b\"], [0.6666666666666666, \"#ed7953\"], [0.7777777777777778, \"#fb9f3a\"], [0.8888888888888888, \"#fdca26\"], [1.0, \"#f0f921\"]], \"type\": \"histogram2d\"}], \"histogram2dcontour\": [{\"colorbar\": {\"outlinewidth\": 0, \"ticks\": \"\"}, \"colorscale\": [[0.0, \"#0d0887\"], [0.1111111111111111, \"#46039f\"], [0.2222222222222222, \"#7201a8\"], [0.3333333333333333, \"#9c179e\"], [0.4444444444444444, \"#bd3786\"], [0.5555555555555556, \"#d8576b\"], [0.6666666666666666, \"#ed7953\"], [0.7777777777777778, \"#fb9f3a\"], [0.8888888888888888, \"#fdca26\"], [1.0, \"#f0f921\"]], \"type\": \"histogram2dcontour\"}], \"mesh3d\": [{\"colorbar\": {\"outlinewidth\": 0, \"ticks\": \"\"}, \"type\": \"mesh3d\"}], \"parcoords\": [{\"line\": {\"colorbar\": {\"outlinewidth\": 0, \"ticks\": \"\"}}, \"type\": \"parcoords\"}], \"pie\": [{\"automargin\": true, \"type\": \"pie\"}], \"scatter\": [{\"marker\": {\"colorbar\": {\"outlinewidth\": 0, \"ticks\": \"\"}}, \"type\": \"scatter\"}], \"scatter3d\": [{\"line\": {\"colorbar\": {\"outlinewidth\": 0, \"ticks\": \"\"}}, \"marker\": {\"colorbar\": {\"outlinewidth\": 0, \"ticks\": \"\"}}, \"type\": \"scatter3d\"}], \"scattercarpet\": [{\"marker\": {\"colorbar\": {\"outlinewidth\": 0, \"ticks\": \"\"}}, \"type\": \"scattercarpet\"}], \"scattergeo\": [{\"marker\": {\"colorbar\": {\"outlinewidth\": 0, \"ticks\": \"\"}}, \"type\": \"scattergeo\"}], \"scattergl\": [{\"marker\": {\"colorbar\": {\"outlinewidth\": 0, \"ticks\": \"\"}}, \"type\": \"scattergl\"}], \"scattermapbox\": [{\"marker\": {\"colorbar\": {\"outlinewidth\": 0, \"ticks\": \"\"}}, \"type\": \"scattermapbox\"}], \"scatterpolar\": [{\"marker\": {\"colorbar\": {\"outlinewidth\": 0, \"ticks\": \"\"}}, \"type\": \"scatterpolar\"}], \"scatterpolargl\": [{\"marker\": {\"colorbar\": {\"outlinewidth\": 0, \"ticks\": \"\"}}, \"type\": \"scatterpolargl\"}], \"scatterternary\": [{\"marker\": {\"colorbar\": {\"outlinewidth\": 0, \"ticks\": \"\"}}, \"type\": \"scatterternary\"}], \"surface\": [{\"colorbar\": {\"outlinewidth\": 0, \"ticks\": \"\"}, \"colorscale\": [[0.0, \"#0d0887\"], [0.1111111111111111, \"#46039f\"], [0.2222222222222222, \"#7201a8\"], [0.3333333333333333, \"#9c179e\"], [0.4444444444444444, \"#bd3786\"], [0.5555555555555556, \"#d8576b\"], [0.6666666666666666, \"#ed7953\"], [0.7777777777777778, \"#fb9f3a\"], [0.8888888888888888, \"#fdca26\"], [1.0, \"#f0f921\"]], \"type\": \"surface\"}], \"table\": [{\"cells\": {\"fill\": {\"color\": \"#EBF0F8\"}, \"line\": {\"color\": \"white\"}}, \"header\": {\"fill\": {\"color\": \"#C8D4E3\"}, \"line\": {\"color\": \"white\"}}, \"type\": \"table\"}]}, \"layout\": {\"annotationdefaults\": {\"arrowcolor\": \"#2a3f5f\", \"arrowhead\": 0, \"arrowwidth\": 1}, \"coloraxis\": {\"colorbar\": {\"outlinewidth\": 0, \"ticks\": \"\"}}, \"colorscale\": {\"diverging\": [[0, \"#8e0152\"], [0.1, \"#c51b7d\"], [0.2, \"#de77ae\"], [0.3, \"#f1b6da\"], [0.4, \"#fde0ef\"], [0.5, \"#f7f7f7\"], [0.6, \"#e6f5d0\"], [0.7, \"#b8e186\"], [0.8, \"#7fbc41\"], [0.9, \"#4d9221\"], [1, \"#276419\"]], \"sequential\": [[0.0, \"#0d0887\"], [0.1111111111111111, \"#46039f\"], [0.2222222222222222, \"#7201a8\"], [0.3333333333333333, \"#9c179e\"], [0.4444444444444444, \"#bd3786\"], [0.5555555555555556, \"#d8576b\"], [0.6666666666666666, \"#ed7953\"], [0.7777777777777778, \"#fb9f3a\"], [0.8888888888888888, \"#fdca26\"], [1.0, \"#f0f921\"]], \"sequentialminus\": [[0.0, \"#0d0887\"], [0.1111111111111111, \"#46039f\"], [0.2222222222222222, \"#7201a8\"], [0.3333333333333333, \"#9c179e\"], [0.4444444444444444, \"#bd3786\"], [0.5555555555555556, \"#d8576b\"], [0.6666666666666666, \"#ed7953\"], [0.7777777777777778, \"#fb9f3a\"], [0.8888888888888888, \"#fdca26\"], [1.0, \"#f0f921\"]]}, \"colorway\": [\"#636efa\", \"#EF553B\", \"#00cc96\", \"#ab63fa\", \"#FFA15A\", \"#19d3f3\", \"#FF6692\", \"#B6E880\", \"#FF97FF\", \"#FECB52\"], \"font\": {\"color\": \"#2a3f5f\"}, \"geo\": {\"bgcolor\": \"white\", \"lakecolor\": \"white\", \"landcolor\": \"#E5ECF6\", \"showlakes\": true, \"showland\": true, \"subunitcolor\": \"white\"}, \"hoverlabel\": {\"align\": \"left\"}, \"hovermode\": \"closest\", \"mapbox\": {\"style\": \"light\"}, \"paper_bgcolor\": \"white\", \"plot_bgcolor\": \"#E5ECF6\", \"polar\": {\"angularaxis\": {\"gridcolor\": \"white\", \"linecolor\": \"white\", \"ticks\": \"\"}, \"bgcolor\": \"#E5ECF6\", \"radialaxis\": {\"gridcolor\": \"white\", \"linecolor\": \"white\", \"ticks\": \"\"}}, \"scene\": {\"xaxis\": {\"backgroundcolor\": \"#E5ECF6\", \"gridcolor\": \"white\", \"gridwidth\": 2, \"linecolor\": \"white\", \"showbackground\": true, \"ticks\": \"\", \"zerolinecolor\": \"white\"}, \"yaxis\": {\"backgroundcolor\": \"#E5ECF6\", \"gridcolor\": \"white\", \"gridwidth\": 2, \"linecolor\": \"white\", \"showbackground\": true, \"ticks\": \"\", \"zerolinecolor\": \"white\"}, \"zaxis\": {\"backgroundcolor\": \"#E5ECF6\", \"gridcolor\": \"white\", \"gridwidth\": 2, \"linecolor\": \"white\", \"showbackground\": true, \"ticks\": \"\", \"zerolinecolor\": \"white\"}}, \"shapedefaults\": {\"line\": {\"color\": \"#2a3f5f\"}}, \"ternary\": {\"aaxis\": {\"gridcolor\": \"white\", \"linecolor\": \"white\", \"ticks\": \"\"}, \"baxis\": {\"gridcolor\": \"white\", \"linecolor\": \"white\", \"ticks\": \"\"}, \"bgcolor\": \"#E5ECF6\", \"caxis\": {\"gridcolor\": \"white\", \"linecolor\": \"white\", \"ticks\": \"\"}}, \"title\": {\"x\": 0.05}, \"xaxis\": {\"automargin\": true, \"gridcolor\": \"white\", \"linecolor\": \"white\", \"ticks\": \"\", \"title\": {\"standoff\": 15}, \"zerolinecolor\": \"white\", \"zerolinewidth\": 2}, \"yaxis\": {\"automargin\": true, \"gridcolor\": \"white\", \"linecolor\": \"white\", \"ticks\": \"\", \"title\": {\"standoff\": 15}, \"zerolinecolor\": \"white\", \"zerolinewidth\": 2}}}, \"title\": {\"font\": {\"color\": \"#4D5663\"}}, \"xaxis\": {\"gridcolor\": \"#E1E5ED\", \"showgrid\": true, \"tickfont\": {\"color\": \"#4D5663\"}, \"title\": {\"font\": {\"color\": \"#4D5663\"}, \"text\": \"\"}, \"zerolinecolor\": \"#E1E5ED\"}, \"yaxis\": {\"gridcolor\": \"#E1E5ED\", \"showgrid\": true, \"tickfont\": {\"color\": \"#4D5663\"}, \"title\": {\"font\": {\"color\": \"#4D5663\"}, \"text\": \"\"}, \"zerolinecolor\": \"#E1E5ED\"}},\n",
       "                        {\"showLink\": true, \"linkText\": \"Export to plot.ly\", \"plotlyServerURL\": \"https://plot.ly\", \"responsive\": true}\n",
       "                    ).then(function(){\n",
       "                            \n",
       "var gd = document.getElementById('7566cfde-3a46-48d5-8ebf-58e3ef289048');\n",
       "var x = new MutationObserver(function (mutations, observer) {{\n",
       "        var display = window.getComputedStyle(gd).display;\n",
       "        if (!display || display === 'none') {{\n",
       "            console.log([gd, 'removed!']);\n",
       "            Plotly.purge(gd);\n",
       "            observer.disconnect();\n",
       "        }}\n",
       "}});\n",
       "\n",
       "// Listen for the removal of the full notebook cells\n",
       "var notebookContainer = gd.closest('#notebook-container');\n",
       "if (notebookContainer) {{\n",
       "    x.observe(notebookContainer, {childList: true});\n",
       "}}\n",
       "\n",
       "// Listen for the clearing of the current output cell\n",
       "var outputEl = gd.closest('.output');\n",
       "if (outputEl) {{\n",
       "    x.observe(outputEl, {childList: true});\n",
       "}}\n",
       "\n",
       "                        })\n",
       "                };\n",
       "                });\n",
       "            </script>\n",
       "        </div>"
      ]
     },
     "metadata": {},
     "output_type": "display_data"
    },
    {
     "data": {
      "text/html": [
       "<div>\n",
       "<style scoped>\n",
       "    .dataframe tbody tr th:only-of-type {\n",
       "        vertical-align: middle;\n",
       "    }\n",
       "\n",
       "    .dataframe tbody tr th {\n",
       "        vertical-align: top;\n",
       "    }\n",
       "\n",
       "    .dataframe thead th {\n",
       "        text-align: right;\n",
       "    }\n",
       "</style>\n",
       "<table border=\"1\" class=\"dataframe\">\n",
       "  <thead>\n",
       "    <tr style=\"text-align: right;\">\n",
       "      <th>Geschlecht</th>\n",
       "      <th>divers</th>\n",
       "      <th>männlich</th>\n",
       "      <th>weiblich</th>\n",
       "    </tr>\n",
       "    <tr>\n",
       "      <th>Schulstufe</th>\n",
       "      <th></th>\n",
       "      <th></th>\n",
       "      <th></th>\n",
       "    </tr>\n",
       "  </thead>\n",
       "  <tbody>\n",
       "    <tr>\n",
       "      <th>9.Schulstufe</th>\n",
       "      <td>NaN</td>\n",
       "      <td>91.0</td>\n",
       "      <td>21.0</td>\n",
       "    </tr>\n",
       "    <tr>\n",
       "      <th>10.Schulstufe</th>\n",
       "      <td>NaN</td>\n",
       "      <td>68.0</td>\n",
       "      <td>26.0</td>\n",
       "    </tr>\n",
       "    <tr>\n",
       "      <th>11.Schulstufe</th>\n",
       "      <td>NaN</td>\n",
       "      <td>149.0</td>\n",
       "      <td>38.0</td>\n",
       "    </tr>\n",
       "    <tr>\n",
       "      <th>12.Schulstufe</th>\n",
       "      <td>NaN</td>\n",
       "      <td>40.0</td>\n",
       "      <td>31.0</td>\n",
       "    </tr>\n",
       "    <tr>\n",
       "      <th>13.Schulstufe</th>\n",
       "      <td>NaN</td>\n",
       "      <td>12.0</td>\n",
       "      <td>4.0</td>\n",
       "    </tr>\n",
       "    <tr>\n",
       "      <th>höher</th>\n",
       "      <td>5.0</td>\n",
       "      <td>90.0</td>\n",
       "      <td>56.0</td>\n",
       "    </tr>\n",
       "  </tbody>\n",
       "</table>\n",
       "</div>"
      ],
      "text/plain": [
       "Geschlecht     divers  männlich  weiblich\n",
       "Schulstufe                               \n",
       "9.Schulstufe      NaN      91.0      21.0\n",
       "10.Schulstufe     NaN      68.0      26.0\n",
       "11.Schulstufe     NaN     149.0      38.0\n",
       "12.Schulstufe     NaN      40.0      31.0\n",
       "13.Schulstufe     NaN      12.0       4.0\n",
       "höher             5.0      90.0      56.0"
      ]
     },
     "execution_count": 9,
     "metadata": {},
     "output_type": "execute_result"
    }
   ],
   "source": [
    "d=df[[\"Schulstufe\", \"Geschlecht\", \"ID\"]]\n",
    "d=d.groupby([\"Schulstufe\", \"Geschlecht\"]).count().unstack()\n",
    "d=d.ID\n",
    "#d.reset_index(inplace=True)\n",
    "d=d.rename(index={\"9\": \"9.Schulstufe\", \"10\":\"10.Schulstufe\", \"11\":\"11.Schulstufe\", \"12\":\"12.Schulstufe\", \"13\":\"13.Schulstufe\", \">13\":\"höher\"})\n",
    "d=d.reindex(index=[\"9.Schulstufe\", \"10.Schulstufe\", \"11.Schulstufe\", \"12.Schulstufe\", \"13.Schulstufe\", \"höher\"])\n",
    "#d.set_index(\"Schulstufe\", inplace=True)\n",
    "d.iplot(kind='bar')\n",
    "d"
   ]
  },
  {
   "cell_type": "code",
   "execution_count": 41,
   "metadata": {},
   "outputs": [
    {
     "data": {
      "application/vnd.plotly.v1+json": {
       "config": {
        "plotlyServerURL": "https://plot.ly"
       },
       "data": [
        {
         "domain": {
          "x": [
           0,
           1
          ],
          "y": [
           0,
           1
          ]
         },
         "hovertemplate": "Geschlecht=%{label}<br>Anzahl=%{value}<extra></extra>",
         "labels": [
          "divers",
          "männlich",
          "weiblich"
         ],
         "legendgroup": "",
         "name": "",
         "showlegend": true,
         "type": "pie",
         "values": [
          5,
          452,
          176
         ]
        }
       ],
       "layout": {
        "autosize": true,
        "legend": {
         "tracegroupgap": 0
        },
        "margin": {
         "t": 60
        },
        "template": {
         "data": {
          "bar": [
           {
            "error_x": {
             "color": "#2a3f5f"
            },
            "error_y": {
             "color": "#2a3f5f"
            },
            "marker": {
             "line": {
              "color": "#E5ECF6",
              "width": 0.5
             }
            },
            "type": "bar"
           }
          ],
          "barpolar": [
           {
            "marker": {
             "line": {
              "color": "#E5ECF6",
              "width": 0.5
             }
            },
            "type": "barpolar"
           }
          ],
          "carpet": [
           {
            "aaxis": {
             "endlinecolor": "#2a3f5f",
             "gridcolor": "white",
             "linecolor": "white",
             "minorgridcolor": "white",
             "startlinecolor": "#2a3f5f"
            },
            "baxis": {
             "endlinecolor": "#2a3f5f",
             "gridcolor": "white",
             "linecolor": "white",
             "minorgridcolor": "white",
             "startlinecolor": "#2a3f5f"
            },
            "type": "carpet"
           }
          ],
          "choropleth": [
           {
            "colorbar": {
             "outlinewidth": 0,
             "ticks": ""
            },
            "type": "choropleth"
           }
          ],
          "contour": [
           {
            "colorbar": {
             "outlinewidth": 0,
             "ticks": ""
            },
            "colorscale": [
             [
              0,
              "#0d0887"
             ],
             [
              0.1111111111111111,
              "#46039f"
             ],
             [
              0.2222222222222222,
              "#7201a8"
             ],
             [
              0.3333333333333333,
              "#9c179e"
             ],
             [
              0.4444444444444444,
              "#bd3786"
             ],
             [
              0.5555555555555556,
              "#d8576b"
             ],
             [
              0.6666666666666666,
              "#ed7953"
             ],
             [
              0.7777777777777778,
              "#fb9f3a"
             ],
             [
              0.8888888888888888,
              "#fdca26"
             ],
             [
              1,
              "#f0f921"
             ]
            ],
            "type": "contour"
           }
          ],
          "contourcarpet": [
           {
            "colorbar": {
             "outlinewidth": 0,
             "ticks": ""
            },
            "type": "contourcarpet"
           }
          ],
          "heatmap": [
           {
            "colorbar": {
             "outlinewidth": 0,
             "ticks": ""
            },
            "colorscale": [
             [
              0,
              "#0d0887"
             ],
             [
              0.1111111111111111,
              "#46039f"
             ],
             [
              0.2222222222222222,
              "#7201a8"
             ],
             [
              0.3333333333333333,
              "#9c179e"
             ],
             [
              0.4444444444444444,
              "#bd3786"
             ],
             [
              0.5555555555555556,
              "#d8576b"
             ],
             [
              0.6666666666666666,
              "#ed7953"
             ],
             [
              0.7777777777777778,
              "#fb9f3a"
             ],
             [
              0.8888888888888888,
              "#fdca26"
             ],
             [
              1,
              "#f0f921"
             ]
            ],
            "type": "heatmap"
           }
          ],
          "heatmapgl": [
           {
            "colorbar": {
             "outlinewidth": 0,
             "ticks": ""
            },
            "colorscale": [
             [
              0,
              "#0d0887"
             ],
             [
              0.1111111111111111,
              "#46039f"
             ],
             [
              0.2222222222222222,
              "#7201a8"
             ],
             [
              0.3333333333333333,
              "#9c179e"
             ],
             [
              0.4444444444444444,
              "#bd3786"
             ],
             [
              0.5555555555555556,
              "#d8576b"
             ],
             [
              0.6666666666666666,
              "#ed7953"
             ],
             [
              0.7777777777777778,
              "#fb9f3a"
             ],
             [
              0.8888888888888888,
              "#fdca26"
             ],
             [
              1,
              "#f0f921"
             ]
            ],
            "type": "heatmapgl"
           }
          ],
          "histogram": [
           {
            "marker": {
             "colorbar": {
              "outlinewidth": 0,
              "ticks": ""
             }
            },
            "type": "histogram"
           }
          ],
          "histogram2d": [
           {
            "colorbar": {
             "outlinewidth": 0,
             "ticks": ""
            },
            "colorscale": [
             [
              0,
              "#0d0887"
             ],
             [
              0.1111111111111111,
              "#46039f"
             ],
             [
              0.2222222222222222,
              "#7201a8"
             ],
             [
              0.3333333333333333,
              "#9c179e"
             ],
             [
              0.4444444444444444,
              "#bd3786"
             ],
             [
              0.5555555555555556,
              "#d8576b"
             ],
             [
              0.6666666666666666,
              "#ed7953"
             ],
             [
              0.7777777777777778,
              "#fb9f3a"
             ],
             [
              0.8888888888888888,
              "#fdca26"
             ],
             [
              1,
              "#f0f921"
             ]
            ],
            "type": "histogram2d"
           }
          ],
          "histogram2dcontour": [
           {
            "colorbar": {
             "outlinewidth": 0,
             "ticks": ""
            },
            "colorscale": [
             [
              0,
              "#0d0887"
             ],
             [
              0.1111111111111111,
              "#46039f"
             ],
             [
              0.2222222222222222,
              "#7201a8"
             ],
             [
              0.3333333333333333,
              "#9c179e"
             ],
             [
              0.4444444444444444,
              "#bd3786"
             ],
             [
              0.5555555555555556,
              "#d8576b"
             ],
             [
              0.6666666666666666,
              "#ed7953"
             ],
             [
              0.7777777777777778,
              "#fb9f3a"
             ],
             [
              0.8888888888888888,
              "#fdca26"
             ],
             [
              1,
              "#f0f921"
             ]
            ],
            "type": "histogram2dcontour"
           }
          ],
          "mesh3d": [
           {
            "colorbar": {
             "outlinewidth": 0,
             "ticks": ""
            },
            "type": "mesh3d"
           }
          ],
          "parcoords": [
           {
            "line": {
             "colorbar": {
              "outlinewidth": 0,
              "ticks": ""
             }
            },
            "type": "parcoords"
           }
          ],
          "pie": [
           {
            "automargin": true,
            "type": "pie"
           }
          ],
          "scatter": [
           {
            "marker": {
             "colorbar": {
              "outlinewidth": 0,
              "ticks": ""
             }
            },
            "type": "scatter"
           }
          ],
          "scatter3d": [
           {
            "line": {
             "colorbar": {
              "outlinewidth": 0,
              "ticks": ""
             }
            },
            "marker": {
             "colorbar": {
              "outlinewidth": 0,
              "ticks": ""
             }
            },
            "type": "scatter3d"
           }
          ],
          "scattercarpet": [
           {
            "marker": {
             "colorbar": {
              "outlinewidth": 0,
              "ticks": ""
             }
            },
            "type": "scattercarpet"
           }
          ],
          "scattergeo": [
           {
            "marker": {
             "colorbar": {
              "outlinewidth": 0,
              "ticks": ""
             }
            },
            "type": "scattergeo"
           }
          ],
          "scattergl": [
           {
            "marker": {
             "colorbar": {
              "outlinewidth": 0,
              "ticks": ""
             }
            },
            "type": "scattergl"
           }
          ],
          "scattermapbox": [
           {
            "marker": {
             "colorbar": {
              "outlinewidth": 0,
              "ticks": ""
             }
            },
            "type": "scattermapbox"
           }
          ],
          "scatterpolar": [
           {
            "marker": {
             "colorbar": {
              "outlinewidth": 0,
              "ticks": ""
             }
            },
            "type": "scatterpolar"
           }
          ],
          "scatterpolargl": [
           {
            "marker": {
             "colorbar": {
              "outlinewidth": 0,
              "ticks": ""
             }
            },
            "type": "scatterpolargl"
           }
          ],
          "scatterternary": [
           {
            "marker": {
             "colorbar": {
              "outlinewidth": 0,
              "ticks": ""
             }
            },
            "type": "scatterternary"
           }
          ],
          "surface": [
           {
            "colorbar": {
             "outlinewidth": 0,
             "ticks": ""
            },
            "colorscale": [
             [
              0,
              "#0d0887"
             ],
             [
              0.1111111111111111,
              "#46039f"
             ],
             [
              0.2222222222222222,
              "#7201a8"
             ],
             [
              0.3333333333333333,
              "#9c179e"
             ],
             [
              0.4444444444444444,
              "#bd3786"
             ],
             [
              0.5555555555555556,
              "#d8576b"
             ],
             [
              0.6666666666666666,
              "#ed7953"
             ],
             [
              0.7777777777777778,
              "#fb9f3a"
             ],
             [
              0.8888888888888888,
              "#fdca26"
             ],
             [
              1,
              "#f0f921"
             ]
            ],
            "type": "surface"
           }
          ],
          "table": [
           {
            "cells": {
             "fill": {
              "color": "#EBF0F8"
             },
             "line": {
              "color": "white"
             }
            },
            "header": {
             "fill": {
              "color": "#C8D4E3"
             },
             "line": {
              "color": "white"
             }
            },
            "type": "table"
           }
          ]
         },
         "layout": {
          "annotationdefaults": {
           "arrowcolor": "#2a3f5f",
           "arrowhead": 0,
           "arrowwidth": 1
          },
          "coloraxis": {
           "colorbar": {
            "outlinewidth": 0,
            "ticks": ""
           }
          },
          "colorscale": {
           "diverging": [
            [
             0,
             "#8e0152"
            ],
            [
             0.1,
             "#c51b7d"
            ],
            [
             0.2,
             "#de77ae"
            ],
            [
             0.3,
             "#f1b6da"
            ],
            [
             0.4,
             "#fde0ef"
            ],
            [
             0.5,
             "#f7f7f7"
            ],
            [
             0.6,
             "#e6f5d0"
            ],
            [
             0.7,
             "#b8e186"
            ],
            [
             0.8,
             "#7fbc41"
            ],
            [
             0.9,
             "#4d9221"
            ],
            [
             1,
             "#276419"
            ]
           ],
           "sequential": [
            [
             0,
             "#0d0887"
            ],
            [
             0.1111111111111111,
             "#46039f"
            ],
            [
             0.2222222222222222,
             "#7201a8"
            ],
            [
             0.3333333333333333,
             "#9c179e"
            ],
            [
             0.4444444444444444,
             "#bd3786"
            ],
            [
             0.5555555555555556,
             "#d8576b"
            ],
            [
             0.6666666666666666,
             "#ed7953"
            ],
            [
             0.7777777777777778,
             "#fb9f3a"
            ],
            [
             0.8888888888888888,
             "#fdca26"
            ],
            [
             1,
             "#f0f921"
            ]
           ],
           "sequentialminus": [
            [
             0,
             "#0d0887"
            ],
            [
             0.1111111111111111,
             "#46039f"
            ],
            [
             0.2222222222222222,
             "#7201a8"
            ],
            [
             0.3333333333333333,
             "#9c179e"
            ],
            [
             0.4444444444444444,
             "#bd3786"
            ],
            [
             0.5555555555555556,
             "#d8576b"
            ],
            [
             0.6666666666666666,
             "#ed7953"
            ],
            [
             0.7777777777777778,
             "#fb9f3a"
            ],
            [
             0.8888888888888888,
             "#fdca26"
            ],
            [
             1,
             "#f0f921"
            ]
           ]
          },
          "colorway": [
           "#636efa",
           "#EF553B",
           "#00cc96",
           "#ab63fa",
           "#FFA15A",
           "#19d3f3",
           "#FF6692",
           "#B6E880",
           "#FF97FF",
           "#FECB52"
          ],
          "font": {
           "color": "#2a3f5f"
          },
          "geo": {
           "bgcolor": "white",
           "lakecolor": "white",
           "landcolor": "#E5ECF6",
           "showlakes": true,
           "showland": true,
           "subunitcolor": "white"
          },
          "hoverlabel": {
           "align": "left"
          },
          "hovermode": "closest",
          "mapbox": {
           "style": "light"
          },
          "paper_bgcolor": "white",
          "plot_bgcolor": "#E5ECF6",
          "polar": {
           "angularaxis": {
            "gridcolor": "white",
            "linecolor": "white",
            "ticks": ""
           },
           "bgcolor": "#E5ECF6",
           "radialaxis": {
            "gridcolor": "white",
            "linecolor": "white",
            "ticks": ""
           }
          },
          "scene": {
           "xaxis": {
            "backgroundcolor": "#E5ECF6",
            "gridcolor": "white",
            "gridwidth": 2,
            "linecolor": "white",
            "showbackground": true,
            "ticks": "",
            "zerolinecolor": "white"
           },
           "yaxis": {
            "backgroundcolor": "#E5ECF6",
            "gridcolor": "white",
            "gridwidth": 2,
            "linecolor": "white",
            "showbackground": true,
            "ticks": "",
            "zerolinecolor": "white"
           },
           "zaxis": {
            "backgroundcolor": "#E5ECF6",
            "gridcolor": "white",
            "gridwidth": 2,
            "linecolor": "white",
            "showbackground": true,
            "ticks": "",
            "zerolinecolor": "white"
           }
          },
          "shapedefaults": {
           "line": {
            "color": "#2a3f5f"
           }
          },
          "ternary": {
           "aaxis": {
            "gridcolor": "white",
            "linecolor": "white",
            "ticks": ""
           },
           "baxis": {
            "gridcolor": "white",
            "linecolor": "white",
            "ticks": ""
           },
           "bgcolor": "#E5ECF6",
           "caxis": {
            "gridcolor": "white",
            "linecolor": "white",
            "ticks": ""
           }
          },
          "title": {
           "x": 0.05
          },
          "xaxis": {
           "automargin": true,
           "gridcolor": "white",
           "linecolor": "white",
           "ticks": "",
           "title": {
            "standoff": 15
           },
           "zerolinecolor": "white",
           "zerolinewidth": 2
          },
          "yaxis": {
           "automargin": true,
           "gridcolor": "white",
           "linecolor": "white",
           "ticks": "",
           "title": {
            "standoff": 15
           },
           "zerolinecolor": "white",
           "zerolinewidth": 2
          }
         }
        }
       }
      },
      "image/png": "[encoded data removed]",
      "text/html": [
       "<div>\n",
       "        \n",
       "        \n",
       "            <div id=\"eead13e8-7ba9-49ee-837c-b69ebecd7b01\" class=\"plotly-graph-div\" style=\"height:525px; width:100%;\"></div>\n",
       "            <script type=\"text/javascript\">\n",
       "                require([\"plotly\"], function(Plotly) {\n",
       "                    window.PLOTLYENV=window.PLOTLYENV || {};\n",
       "                    \n",
       "                if (document.getElementById(\"eead13e8-7ba9-49ee-837c-b69ebecd7b01\")) {\n",
       "                    Plotly.newPlot(\n",
       "                        'eead13e8-7ba9-49ee-837c-b69ebecd7b01',\n",
       "                        [{\"domain\": {\"x\": [0.0, 1.0], \"y\": [0.0, 1.0]}, \"hovertemplate\": \"Geschlecht=%{label}<br>Anzahl=%{value}<extra></extra>\", \"labels\": [\"divers\", \"m\\u00e4nnlich\", \"weiblich\"], \"legendgroup\": \"\", \"name\": \"\", \"showlegend\": true, \"type\": \"pie\", \"values\": [5, 452, 176]}],\n",
       "                        {\"legend\": {\"tracegroupgap\": 0}, \"margin\": {\"t\": 60}, \"template\": {\"data\": {\"bar\": [{\"error_x\": {\"color\": \"#2a3f5f\"}, \"error_y\": {\"color\": \"#2a3f5f\"}, \"marker\": {\"line\": {\"color\": \"#E5ECF6\", \"width\": 0.5}}, \"type\": \"bar\"}], \"barpolar\": [{\"marker\": {\"line\": {\"color\": \"#E5ECF6\", \"width\": 0.5}}, \"type\": \"barpolar\"}], \"carpet\": [{\"aaxis\": {\"endlinecolor\": \"#2a3f5f\", \"gridcolor\": \"white\", \"linecolor\": \"white\", \"minorgridcolor\": \"white\", \"startlinecolor\": \"#2a3f5f\"}, \"baxis\": {\"endlinecolor\": \"#2a3f5f\", \"gridcolor\": \"white\", \"linecolor\": \"white\", \"minorgridcolor\": \"white\", \"startlinecolor\": \"#2a3f5f\"}, \"type\": \"carpet\"}], \"choropleth\": [{\"colorbar\": {\"outlinewidth\": 0, \"ticks\": \"\"}, \"type\": \"choropleth\"}], \"contour\": [{\"colorbar\": {\"outlinewidth\": 0, \"ticks\": \"\"}, \"colorscale\": [[0.0, \"#0d0887\"], [0.1111111111111111, \"#46039f\"], [0.2222222222222222, \"#7201a8\"], [0.3333333333333333, \"#9c179e\"], [0.4444444444444444, \"#bd3786\"], [0.5555555555555556, \"#d8576b\"], [0.6666666666666666, \"#ed7953\"], [0.7777777777777778, \"#fb9f3a\"], [0.8888888888888888, \"#fdca26\"], [1.0, \"#f0f921\"]], \"type\": \"contour\"}], \"contourcarpet\": [{\"colorbar\": {\"outlinewidth\": 0, \"ticks\": \"\"}, \"type\": \"contourcarpet\"}], \"heatmap\": [{\"colorbar\": {\"outlinewidth\": 0, \"ticks\": \"\"}, \"colorscale\": [[0.0, \"#0d0887\"], [0.1111111111111111, \"#46039f\"], [0.2222222222222222, \"#7201a8\"], [0.3333333333333333, \"#9c179e\"], [0.4444444444444444, \"#bd3786\"], [0.5555555555555556, \"#d8576b\"], [0.6666666666666666, \"#ed7953\"], [0.7777777777777778, \"#fb9f3a\"], [0.8888888888888888, \"#fdca26\"], [1.0, \"#f0f921\"]], \"type\": \"heatmap\"}], \"heatmapgl\": [{\"colorbar\": {\"outlinewidth\": 0, \"ticks\": \"\"}, \"colorscale\": [[0.0, \"#0d0887\"], [0.1111111111111111, \"#46039f\"], [0.2222222222222222, \"#7201a8\"], [0.3333333333333333, \"#9c179e\"], [0.4444444444444444, \"#bd3786\"], [0.5555555555555556, \"#d8576b\"], [0.6666666666666666, \"#ed7953\"], [0.7777777777777778, \"#fb9f3a\"], [0.8888888888888888, \"#fdca26\"], [1.0, \"#f0f921\"]], \"type\": \"heatmapgl\"}], \"histogram\": [{\"marker\": {\"colorbar\": {\"outlinewidth\": 0, \"ticks\": \"\"}}, \"type\": \"histogram\"}], \"histogram2d\": [{\"colorbar\": {\"outlinewidth\": 0, \"ticks\": \"\"}, \"colorscale\": [[0.0, \"#0d0887\"], [0.1111111111111111, \"#46039f\"], [0.2222222222222222, \"#7201a8\"], [0.3333333333333333, \"#9c179e\"], [0.4444444444444444, \"#bd3786\"], [0.5555555555555556, \"#d8576b\"], [0.6666666666666666, \"#ed7953\"], [0.7777777777777778, \"#fb9f3a\"], [0.8888888888888888, \"#fdca26\"], [1.0, \"#f0f921\"]], \"type\": \"histogram2d\"}], \"histogram2dcontour\": [{\"colorbar\": {\"outlinewidth\": 0, \"ticks\": \"\"}, \"colorscale\": [[0.0, \"#0d0887\"], [0.1111111111111111, \"#46039f\"], [0.2222222222222222, \"#7201a8\"], [0.3333333333333333, \"#9c179e\"], [0.4444444444444444, \"#bd3786\"], [0.5555555555555556, \"#d8576b\"], [0.6666666666666666, \"#ed7953\"], [0.7777777777777778, \"#fb9f3a\"], [0.8888888888888888, \"#fdca26\"], [1.0, \"#f0f921\"]], \"type\": \"histogram2dcontour\"}], \"mesh3d\": [{\"colorbar\": {\"outlinewidth\": 0, \"ticks\": \"\"}, \"type\": \"mesh3d\"}], \"parcoords\": [{\"line\": {\"colorbar\": {\"outlinewidth\": 0, \"ticks\": \"\"}}, \"type\": \"parcoords\"}], \"pie\": [{\"automargin\": true, \"type\": \"pie\"}], \"scatter\": [{\"marker\": {\"colorbar\": {\"outlinewidth\": 0, \"ticks\": \"\"}}, \"type\": \"scatter\"}], \"scatter3d\": [{\"line\": {\"colorbar\": {\"outlinewidth\": 0, \"ticks\": \"\"}}, \"marker\": {\"colorbar\": {\"outlinewidth\": 0, \"ticks\": \"\"}}, \"type\": \"scatter3d\"}], \"scattercarpet\": [{\"marker\": {\"colorbar\": {\"outlinewidth\": 0, \"ticks\": \"\"}}, \"type\": \"scattercarpet\"}], \"scattergeo\": [{\"marker\": {\"colorbar\": {\"outlinewidth\": 0, \"ticks\": \"\"}}, \"type\": \"scattergeo\"}], \"scattergl\": [{\"marker\": {\"colorbar\": {\"outlinewidth\": 0, \"ticks\": \"\"}}, \"type\": \"scattergl\"}], \"scattermapbox\": [{\"marker\": {\"colorbar\": {\"outlinewidth\": 0, \"ticks\": \"\"}}, \"type\": \"scattermapbox\"}], \"scatterpolar\": [{\"marker\": {\"colorbar\": {\"outlinewidth\": 0, \"ticks\": \"\"}}, \"type\": \"scatterpolar\"}], \"scatterpolargl\": [{\"marker\": {\"colorbar\": {\"outlinewidth\": 0, \"ticks\": \"\"}}, \"type\": \"scatterpolargl\"}], \"scatterternary\": [{\"marker\": {\"colorbar\": {\"outlinewidth\": 0, \"ticks\": \"\"}}, \"type\": \"scatterternary\"}], \"surface\": [{\"colorbar\": {\"outlinewidth\": 0, \"ticks\": \"\"}, \"colorscale\": [[0.0, \"#0d0887\"], [0.1111111111111111, \"#46039f\"], [0.2222222222222222, \"#7201a8\"], [0.3333333333333333, \"#9c179e\"], [0.4444444444444444, \"#bd3786\"], [0.5555555555555556, \"#d8576b\"], [0.6666666666666666, \"#ed7953\"], [0.7777777777777778, \"#fb9f3a\"], [0.8888888888888888, \"#fdca26\"], [1.0, \"#f0f921\"]], \"type\": \"surface\"}], \"table\": [{\"cells\": {\"fill\": {\"color\": \"#EBF0F8\"}, \"line\": {\"color\": \"white\"}}, \"header\": {\"fill\": {\"color\": \"#C8D4E3\"}, \"line\": {\"color\": \"white\"}}, \"type\": \"table\"}]}, \"layout\": {\"annotationdefaults\": {\"arrowcolor\": \"#2a3f5f\", \"arrowhead\": 0, \"arrowwidth\": 1}, \"coloraxis\": {\"colorbar\": {\"outlinewidth\": 0, \"ticks\": \"\"}}, \"colorscale\": {\"diverging\": [[0, \"#8e0152\"], [0.1, \"#c51b7d\"], [0.2, \"#de77ae\"], [0.3, \"#f1b6da\"], [0.4, \"#fde0ef\"], [0.5, \"#f7f7f7\"], [0.6, \"#e6f5d0\"], [0.7, \"#b8e186\"], [0.8, \"#7fbc41\"], [0.9, \"#4d9221\"], [1, \"#276419\"]], \"sequential\": [[0.0, \"#0d0887\"], [0.1111111111111111, \"#46039f\"], [0.2222222222222222, \"#7201a8\"], [0.3333333333333333, \"#9c179e\"], [0.4444444444444444, \"#bd3786\"], [0.5555555555555556, \"#d8576b\"], [0.6666666666666666, \"#ed7953\"], [0.7777777777777778, \"#fb9f3a\"], [0.8888888888888888, \"#fdca26\"], [1.0, \"#f0f921\"]], \"sequentialminus\": [[0.0, \"#0d0887\"], [0.1111111111111111, \"#46039f\"], [0.2222222222222222, \"#7201a8\"], [0.3333333333333333, \"#9c179e\"], [0.4444444444444444, \"#bd3786\"], [0.5555555555555556, \"#d8576b\"], [0.6666666666666666, \"#ed7953\"], [0.7777777777777778, \"#fb9f3a\"], [0.8888888888888888, \"#fdca26\"], [1.0, \"#f0f921\"]]}, \"colorway\": [\"#636efa\", \"#EF553B\", \"#00cc96\", \"#ab63fa\", \"#FFA15A\", \"#19d3f3\", \"#FF6692\", \"#B6E880\", \"#FF97FF\", \"#FECB52\"], \"font\": {\"color\": \"#2a3f5f\"}, \"geo\": {\"bgcolor\": \"white\", \"lakecolor\": \"white\", \"landcolor\": \"#E5ECF6\", \"showlakes\": true, \"showland\": true, \"subunitcolor\": \"white\"}, \"hoverlabel\": {\"align\": \"left\"}, \"hovermode\": \"closest\", \"mapbox\": {\"style\": \"light\"}, \"paper_bgcolor\": \"white\", \"plot_bgcolor\": \"#E5ECF6\", \"polar\": {\"angularaxis\": {\"gridcolor\": \"white\", \"linecolor\": \"white\", \"ticks\": \"\"}, \"bgcolor\": \"#E5ECF6\", \"radialaxis\": {\"gridcolor\": \"white\", \"linecolor\": \"white\", \"ticks\": \"\"}}, \"scene\": {\"xaxis\": {\"backgroundcolor\": \"#E5ECF6\", \"gridcolor\": \"white\", \"gridwidth\": 2, \"linecolor\": \"white\", \"showbackground\": true, \"ticks\": \"\", \"zerolinecolor\": \"white\"}, \"yaxis\": {\"backgroundcolor\": \"#E5ECF6\", \"gridcolor\": \"white\", \"gridwidth\": 2, \"linecolor\": \"white\", \"showbackground\": true, \"ticks\": \"\", \"zerolinecolor\": \"white\"}, \"zaxis\": {\"backgroundcolor\": \"#E5ECF6\", \"gridcolor\": \"white\", \"gridwidth\": 2, \"linecolor\": \"white\", \"showbackground\": true, \"ticks\": \"\", \"zerolinecolor\": \"white\"}}, \"shapedefaults\": {\"line\": {\"color\": \"#2a3f5f\"}}, \"ternary\": {\"aaxis\": {\"gridcolor\": \"white\", \"linecolor\": \"white\", \"ticks\": \"\"}, \"baxis\": {\"gridcolor\": \"white\", \"linecolor\": \"white\", \"ticks\": \"\"}, \"bgcolor\": \"#E5ECF6\", \"caxis\": {\"gridcolor\": \"white\", \"linecolor\": \"white\", \"ticks\": \"\"}}, \"title\": {\"x\": 0.05}, \"xaxis\": {\"automargin\": true, \"gridcolor\": \"white\", \"linecolor\": \"white\", \"ticks\": \"\", \"title\": {\"standoff\": 15}, \"zerolinecolor\": \"white\", \"zerolinewidth\": 2}, \"yaxis\": {\"automargin\": true, \"gridcolor\": \"white\", \"linecolor\": \"white\", \"ticks\": \"\", \"title\": {\"standoff\": 15}, \"zerolinecolor\": \"white\", \"zerolinewidth\": 2}}}},\n",
       "                        {\"responsive\": true}\n",
       "                    ).then(function(){\n",
       "                            \n",
       "var gd = document.getElementById('eead13e8-7ba9-49ee-837c-b69ebecd7b01');\n",
       "var x = new MutationObserver(function (mutations, observer) {{\n",
       "        var display = window.getComputedStyle(gd).display;\n",
       "        if (!display || display === 'none') {{\n",
       "            console.log([gd, 'removed!']);\n",
       "            Plotly.purge(gd);\n",
       "            observer.disconnect();\n",
       "        }}\n",
       "}});\n",
       "\n",
       "// Listen for the removal of the full notebook cells\n",
       "var notebookContainer = gd.closest('#notebook-container');\n",
       "if (notebookContainer) {{\n",
       "    x.observe(notebookContainer, {childList: true});\n",
       "}}\n",
       "\n",
       "// Listen for the clearing of the current output cell\n",
       "var outputEl = gd.closest('.output');\n",
       "if (outputEl) {{\n",
       "    x.observe(outputEl, {childList: true});\n",
       "}}\n",
       "\n",
       "                        })\n",
       "                };\n",
       "                });\n",
       "            </script>\n",
       "        </div>"
      ]
     },
     "metadata": {},
     "output_type": "display_data"
    },
    {
     "data": {
      "text/html": [
       "<div>\n",
       "<style scoped>\n",
       "    .dataframe tbody tr th:only-of-type {\n",
       "        vertical-align: middle;\n",
       "    }\n",
       "\n",
       "    .dataframe tbody tr th {\n",
       "        vertical-align: top;\n",
       "    }\n",
       "\n",
       "    .dataframe thead th {\n",
       "        text-align: right;\n",
       "    }\n",
       "</style>\n",
       "<table border=\"1\" class=\"dataframe\">\n",
       "  <thead>\n",
       "    <tr style=\"text-align: right;\">\n",
       "      <th></th>\n",
       "      <th>Anzahl</th>\n",
       "    </tr>\n",
       "    <tr>\n",
       "      <th>Geschlecht</th>\n",
       "      <th></th>\n",
       "    </tr>\n",
       "  </thead>\n",
       "  <tbody>\n",
       "    <tr>\n",
       "      <th>divers</th>\n",
       "      <td>5</td>\n",
       "    </tr>\n",
       "    <tr>\n",
       "      <th>männlich</th>\n",
       "      <td>452</td>\n",
       "    </tr>\n",
       "    <tr>\n",
       "      <th>weiblich</th>\n",
       "      <td>176</td>\n",
       "    </tr>\n",
       "  </tbody>\n",
       "</table>\n",
       "</div>"
      ],
      "text/plain": [
       "            Anzahl\n",
       "Geschlecht        \n",
       "divers           5\n",
       "männlich       452\n",
       "weiblich       176"
      ]
     },
     "execution_count": 41,
     "metadata": {},
     "output_type": "execute_result"
    }
   ],
   "source": [
    "d=df[['Geschlecht', 'ID']]\n",
    "d=d.groupby(['Geschlecht']).count()\n",
    "d=d.rename(columns={'ID':'Anzahl'})\n",
    "fig=px.pie(d, values='Anzahl', names=d.index)\n",
    "fig.show()\n",
    "d"
   ]
  },
  {
   "cell_type": "code",
   "execution_count": 94,
   "metadata": {},
   "outputs": [
    {
     "data": {
      "application/vnd.plotly.v1+json": {
       "config": {
        "plotlyServerURL": "https://plot.ly"
       },
       "data": [
        {
         "alignmentgroup": "True",
         "hovertemplate": "Legende=14-15<br>Merkmal=%{x}<br>Anzahl=%{y}<br>Prozent=%{text}<extra></extra>",
         "legendgroup": "14-15",
         "marker": {
          "color": "#636efa"
         },
         "name": "14-15",
         "offsetgroup": "14-15",
         "orientation": "v",
         "showlegend": true,
         "text": [
          0.19405320813771518
         ],
         "textposition": "auto",
         "texttemplate": "%{text:.3p}",
         "type": "bar",
         "x": [
          "Alter"
         ],
         "xaxis": "x",
         "y": [
          124
         ],
         "yaxis": "y"
        },
        {
         "alignmentgroup": "True",
         "hovertemplate": "Legende=16-17<br>Merkmal=%{x}<br>Anzahl=%{y}<br>Prozent=%{text}<extra></extra>",
         "legendgroup": "16-17",
         "marker": {
          "color": "#EF553B"
         },
         "name": "16-17",
         "offsetgroup": "16-17",
         "orientation": "v",
         "showlegend": true,
         "text": [
          0.39906103286384975
         ],
         "textposition": "auto",
         "texttemplate": "%{text:.3p}",
         "type": "bar",
         "x": [
          "Alter"
         ],
         "xaxis": "x",
         "y": [
          255
         ],
         "yaxis": "y"
        },
        {
         "alignmentgroup": "True",
         "hovertemplate": "Legende=18-20<br>Merkmal=%{x}<br>Anzahl=%{y}<br>Prozent=%{text}<extra></extra>",
         "legendgroup": "18-20",
         "marker": {
          "color": "#00cc96"
         },
         "name": "18-20",
         "offsetgroup": "18-20",
         "orientation": "v",
         "showlegend": true,
         "text": [
          0.23161189358372458
         ],
         "textposition": "auto",
         "texttemplate": "%{text:.3p}",
         "type": "bar",
         "x": [
          "Alter"
         ],
         "xaxis": "x",
         "y": [
          148
         ],
         "yaxis": "y"
        },
        {
         "alignmentgroup": "True",
         "hovertemplate": "Legende=>20<br>Merkmal=%{x}<br>Anzahl=%{y}<br>Prozent=%{text}<extra></extra>",
         "legendgroup": ">20",
         "marker": {
          "color": "#ab63fa"
         },
         "name": ">20",
         "offsetgroup": ">20",
         "orientation": "v",
         "showlegend": true,
         "text": [
          0.1752738654147105
         ],
         "textposition": "auto",
         "texttemplate": "%{text:.3p}",
         "type": "bar",
         "x": [
          "Alter"
         ],
         "xaxis": "x",
         "y": [
          112
         ],
         "yaxis": "y"
        },
        {
         "alignmentgroup": "True",
         "hovertemplate": "Legende=9<br>Merkmal=%{x}<br>Anzahl=%{y}<br>Prozent=%{text}<extra></extra>",
         "legendgroup": "9",
         "marker": {
          "color": "#FFA15A"
         },
         "name": "9",
         "offsetgroup": "9",
         "orientation": "v",
         "showlegend": true,
         "text": [
          0.1755485893416928
         ],
         "textposition": "auto",
         "texttemplate": "%{text:.3p}",
         "type": "bar",
         "x": [
          "Schulstufe"
         ],
         "xaxis": "x",
         "y": [
          112
         ],
         "yaxis": "y"
        },
        {
         "alignmentgroup": "True",
         "hovertemplate": "Legende=10<br>Merkmal=%{x}<br>Anzahl=%{y}<br>Prozent=%{text}<extra></extra>",
         "legendgroup": "10",
         "marker": {
          "color": "#19d3f3"
         },
         "name": "10",
         "offsetgroup": "10",
         "orientation": "v",
         "showlegend": true,
         "text": [
          0.14890282131661442
         ],
         "textposition": "auto",
         "texttemplate": "%{text:.3p}",
         "type": "bar",
         "x": [
          "Schulstufe"
         ],
         "xaxis": "x",
         "y": [
          95
         ],
         "yaxis": "y"
        },
        {
         "alignmentgroup": "True",
         "hovertemplate": "Legende=11<br>Merkmal=%{x}<br>Anzahl=%{y}<br>Prozent=%{text}<extra></extra>",
         "legendgroup": "11",
         "marker": {
          "color": "#FF6692"
         },
         "name": "11",
         "offsetgroup": "11",
         "orientation": "v",
         "showlegend": true,
         "text": [
          0.29310344827586204
         ],
         "textposition": "auto",
         "texttemplate": "%{text:.3p}",
         "type": "bar",
         "x": [
          "Schulstufe"
         ],
         "xaxis": "x",
         "y": [
          187
         ],
         "yaxis": "y"
        },
        {
         "alignmentgroup": "True",
         "hovertemplate": "Legende=12<br>Merkmal=%{x}<br>Anzahl=%{y}<br>Prozent=%{text}<extra></extra>",
         "legendgroup": "12",
         "marker": {
          "color": "#B6E880"
         },
         "name": "12",
         "offsetgroup": "12",
         "orientation": "v",
         "showlegend": true,
         "text": [
          0.11128526645768025
         ],
         "textposition": "auto",
         "texttemplate": "%{text:.3p}",
         "type": "bar",
         "x": [
          "Schulstufe"
         ],
         "xaxis": "x",
         "y": [
          71
         ],
         "yaxis": "y"
        },
        {
         "alignmentgroup": "True",
         "hovertemplate": "Legende=13<br>Merkmal=%{x}<br>Anzahl=%{y}<br>Prozent=%{text}<extra></extra>",
         "legendgroup": "13",
         "marker": {
          "color": "#FF97FF"
         },
         "name": "13",
         "offsetgroup": "13",
         "orientation": "v",
         "showlegend": true,
         "text": [
          0.025078369905956112
         ],
         "textposition": "auto",
         "texttemplate": "%{text:.3p}",
         "type": "bar",
         "x": [
          "Schulstufe"
         ],
         "xaxis": "x",
         "y": [
          16
         ],
         "yaxis": "y"
        },
        {
         "alignmentgroup": "True",
         "hovertemplate": "Legende=>13<br>Merkmal=%{x}<br>Anzahl=%{y}<br>Prozent=%{text}<extra></extra>",
         "legendgroup": ">13",
         "marker": {
          "color": "#FECB52"
         },
         "name": ">13",
         "offsetgroup": ">13",
         "orientation": "v",
         "showlegend": true,
         "text": [
          0.24608150470219436
         ],
         "textposition": "auto",
         "texttemplate": "%{text:.3p}",
         "type": "bar",
         "x": [
          "Schulstufe"
         ],
         "xaxis": "x",
         "y": [
          157
         ],
         "yaxis": "y"
        },
        {
         "alignmentgroup": "True",
         "hovertemplate": "Legende=Andere<br>Merkmal=%{x}<br>Anzahl=%{y}<br>Prozent=%{text}<extra></extra>",
         "legendgroup": "Andere",
         "marker": {
          "color": "#636efa"
         },
         "name": "Andere",
         "offsetgroup": "Andere",
         "orientation": "v",
         "showlegend": true,
         "text": [
          0.1109375
         ],
         "textposition": "auto",
         "texttemplate": "%{text:.3p}",
         "type": "bar",
         "x": [
          "Schule"
         ],
         "xaxis": "x",
         "y": [
          71
         ],
         "yaxis": "y"
        },
        {
         "alignmentgroup": "True",
         "hovertemplate": "Legende=HTL Rennweg<br>Merkmal=%{x}<br>Anzahl=%{y}<br>Prozent=%{text}<extra></extra>",
         "legendgroup": "HTL Rennweg",
         "marker": {
          "color": "#EF553B"
         },
         "name": "HTL Rennweg",
         "offsetgroup": "HTL Rennweg",
         "orientation": "v",
         "showlegend": true,
         "text": [
          0.08125
         ],
         "textposition": "auto",
         "texttemplate": "%{text:.3p}",
         "type": "bar",
         "x": [
          "Schule"
         ],
         "xaxis": "x",
         "y": [
          52
         ],
         "yaxis": "y"
        },
        {
         "alignmentgroup": "True",
         "hovertemplate": "Legende=HTL Spengergasse<br>Merkmal=%{x}<br>Anzahl=%{y}<br>Prozent=%{text}<extra></extra>",
         "legendgroup": "HTL Spengergasse",
         "marker": {
          "color": "#00cc96"
         },
         "name": "HTL Spengergasse",
         "offsetgroup": "HTL Spengergasse",
         "orientation": "v",
         "showlegend": true,
         "text": [
          0.2515625
         ],
         "textposition": "auto",
         "texttemplate": "%{text:.3p}",
         "type": "bar",
         "x": [
          "Schule"
         ],
         "xaxis": "x",
         "y": [
          161
         ],
         "yaxis": "y"
        },
        {
         "alignmentgroup": "True",
         "hovertemplate": "Legende=TGM<br>Merkmal=%{x}<br>Anzahl=%{y}<br>Prozent=%{text}<extra></extra>",
         "legendgroup": "TGM",
         "marker": {
          "color": "#ab63fa"
         },
         "name": "TGM",
         "offsetgroup": "TGM",
         "orientation": "v",
         "showlegend": true,
         "text": [
          0.1546875
         ],
         "textposition": "auto",
         "texttemplate": "%{text:.3p}",
         "type": "bar",
         "x": [
          "Schule"
         ],
         "xaxis": "x",
         "y": [
          99
         ],
         "yaxis": "y"
        },
        {
         "alignmentgroup": "True",
         "hovertemplate": "Legende=bautechnikum<br>Merkmal=%{x}<br>Anzahl=%{y}<br>Prozent=%{text}<extra></extra>",
         "legendgroup": "bautechnikum",
         "marker": {
          "color": "#FFA15A"
         },
         "name": "bautechnikum",
         "offsetgroup": "bautechnikum",
         "orientation": "v",
         "showlegend": true,
         "text": [
          0.275
         ],
         "textposition": "auto",
         "texttemplate": "%{text:.3p}",
         "type": "bar",
         "x": [
          "Schule"
         ],
         "xaxis": "x",
         "y": [
          176
         ],
         "yaxis": "y"
        },
        {
         "alignmentgroup": "True",
         "hovertemplate": "Legende=hblva17<br>Merkmal=%{x}<br>Anzahl=%{y}<br>Prozent=%{text}<extra></extra>",
         "legendgroup": "hblva17",
         "marker": {
          "color": "#19d3f3"
         },
         "name": "hblva17",
         "offsetgroup": "hblva17",
         "orientation": "v",
         "showlegend": true,
         "text": [
          0.1265625
         ],
         "textposition": "auto",
         "texttemplate": "%{text:.3p}",
         "type": "bar",
         "x": [
          "Schule"
         ],
         "xaxis": "x",
         "y": [
          81
         ],
         "yaxis": "y"
        },
        {
         "alignmentgroup": "True",
         "hovertemplate": "Legende=Abendkolleg<br>Merkmal=%{x}<br>Anzahl=%{y}<br>Prozent=%{text}<extra></extra>",
         "legendgroup": "Abendkolleg",
         "marker": {
          "color": "#FF6692"
         },
         "name": "Abendkolleg",
         "offsetgroup": "Abendkolleg",
         "orientation": "v",
         "showlegend": true,
         "text": [
          0.0578125
         ],
         "textposition": "auto",
         "texttemplate": "%{text:.3p}",
         "type": "bar",
         "x": [
          "Schulform"
         ],
         "xaxis": "x",
         "y": [
          37
         ],
         "yaxis": "y"
        },
        {
         "alignmentgroup": "True",
         "hovertemplate": "Legende=Fachschule<br>Merkmal=%{x}<br>Anzahl=%{y}<br>Prozent=%{text}<extra></extra>",
         "legendgroup": "Fachschule",
         "marker": {
          "color": "#B6E880"
         },
         "name": "Fachschule",
         "offsetgroup": "Fachschule",
         "orientation": "v",
         "showlegend": true,
         "text": [
          0.171875
         ],
         "textposition": "auto",
         "texttemplate": "%{text:.3p}",
         "type": "bar",
         "x": [
          "Schulform"
         ],
         "xaxis": "x",
         "y": [
          110
         ],
         "yaxis": "y"
        },
        {
         "alignmentgroup": "True",
         "hovertemplate": "Legende=HTL<br>Merkmal=%{x}<br>Anzahl=%{y}<br>Prozent=%{text}<extra></extra>",
         "legendgroup": "HTL",
         "marker": {
          "color": "#FF97FF"
         },
         "name": "HTL",
         "offsetgroup": "HTL",
         "orientation": "v",
         "showlegend": true,
         "text": [
          0.603125
         ],
         "textposition": "auto",
         "texttemplate": "%{text:.3p}",
         "type": "bar",
         "x": [
          "Schulform"
         ],
         "xaxis": "x",
         "y": [
          386
         ],
         "yaxis": "y"
        },
        {
         "alignmentgroup": "True",
         "hovertemplate": "Legende=Tageskolleg<br>Merkmal=%{x}<br>Anzahl=%{y}<br>Prozent=%{text}<extra></extra>",
         "legendgroup": "Tageskolleg",
         "marker": {
          "color": "#FECB52"
         },
         "name": "Tageskolleg",
         "offsetgroup": "Tageskolleg",
         "orientation": "v",
         "showlegend": true,
         "text": [
          0.1671875
         ],
         "textposition": "auto",
         "texttemplate": "%{text:.3p}",
         "type": "bar",
         "x": [
          "Schulform"
         ],
         "xaxis": "x",
         "y": [
          107
         ],
         "yaxis": "y"
        },
        {
         "alignmentgroup": "True",
         "hovertemplate": "Legende=divers<br>Merkmal=%{x}<br>Anzahl=%{y}<br>Prozent=%{text}<extra></extra>",
         "legendgroup": "divers",
         "marker": {
          "color": "#636efa"
         },
         "name": "divers",
         "offsetgroup": "divers",
         "orientation": "v",
         "showlegend": true,
         "text": [
          0.007898894154818325
         ],
         "textposition": "auto",
         "texttemplate": "%{text:.3p}",
         "type": "bar",
         "x": [
          "Geschlecht"
         ],
         "xaxis": "x",
         "y": [
          5
         ],
         "yaxis": "y"
        },
        {
         "alignmentgroup": "True",
         "hovertemplate": "Legende=männlich<br>Merkmal=%{x}<br>Anzahl=%{y}<br>Prozent=%{text}<extra></extra>",
         "legendgroup": "männlich",
         "marker": {
          "color": "#EF553B"
         },
         "name": "männlich",
         "offsetgroup": "männlich",
         "orientation": "v",
         "showlegend": true,
         "text": [
          0.7140600315955766
         ],
         "textposition": "auto",
         "texttemplate": "%{text:.3p}",
         "type": "bar",
         "x": [
          "Geschlecht"
         ],
         "xaxis": "x",
         "y": [
          452
         ],
         "yaxis": "y"
        },
        {
         "alignmentgroup": "True",
         "hovertemplate": "Legende=weiblich<br>Merkmal=%{x}<br>Anzahl=%{y}<br>Prozent=%{text}<extra></extra>",
         "legendgroup": "weiblich",
         "marker": {
          "color": "#00cc96"
         },
         "name": "weiblich",
         "offsetgroup": "weiblich",
         "orientation": "v",
         "showlegend": true,
         "text": [
          0.27804107424960506
         ],
         "textposition": "auto",
         "texttemplate": "%{text:.3p}",
         "type": "bar",
         "x": [
          "Geschlecht"
         ],
         "xaxis": "x",
         "y": [
          176
         ],
         "yaxis": "y"
        }
       ],
       "layout": {
        "barmode": "relative",
        "height": 700,
        "legend": {
         "title": {
          "text": "Legende"
         },
         "tracegroupgap": 0
        },
        "template": {
         "data": {
          "bar": [
           {
            "error_x": {
             "color": "#2a3f5f"
            },
            "error_y": {
             "color": "#2a3f5f"
            },
            "marker": {
             "line": {
              "color": "#E5ECF6",
              "width": 0.5
             }
            },
            "type": "bar"
           }
          ],
          "barpolar": [
           {
            "marker": {
             "line": {
              "color": "#E5ECF6",
              "width": 0.5
             }
            },
            "type": "barpolar"
           }
          ],
          "carpet": [
           {
            "aaxis": {
             "endlinecolor": "#2a3f5f",
             "gridcolor": "white",
             "linecolor": "white",
             "minorgridcolor": "white",
             "startlinecolor": "#2a3f5f"
            },
            "baxis": {
             "endlinecolor": "#2a3f5f",
             "gridcolor": "white",
             "linecolor": "white",
             "minorgridcolor": "white",
             "startlinecolor": "#2a3f5f"
            },
            "type": "carpet"
           }
          ],
          "choropleth": [
           {
            "colorbar": {
             "outlinewidth": 0,
             "ticks": ""
            },
            "type": "choropleth"
           }
          ],
          "contour": [
           {
            "colorbar": {
             "outlinewidth": 0,
             "ticks": ""
            },
            "colorscale": [
             [
              0,
              "#0d0887"
             ],
             [
              0.1111111111111111,
              "#46039f"
             ],
             [
              0.2222222222222222,
              "#7201a8"
             ],
             [
              0.3333333333333333,
              "#9c179e"
             ],
             [
              0.4444444444444444,
              "#bd3786"
             ],
             [
              0.5555555555555556,
              "#d8576b"
             ],
             [
              0.6666666666666666,
              "#ed7953"
             ],
             [
              0.7777777777777778,
              "#fb9f3a"
             ],
             [
              0.8888888888888888,
              "#fdca26"
             ],
             [
              1,
              "#f0f921"
             ]
            ],
            "type": "contour"
           }
          ],
          "contourcarpet": [
           {
            "colorbar": {
             "outlinewidth": 0,
             "ticks": ""
            },
            "type": "contourcarpet"
           }
          ],
          "heatmap": [
           {
            "colorbar": {
             "outlinewidth": 0,
             "ticks": ""
            },
            "colorscale": [
             [
              0,
              "#0d0887"
             ],
             [
              0.1111111111111111,
              "#46039f"
             ],
             [
              0.2222222222222222,
              "#7201a8"
             ],
             [
              0.3333333333333333,
              "#9c179e"
             ],
             [
              0.4444444444444444,
              "#bd3786"
             ],
             [
              0.5555555555555556,
              "#d8576b"
             ],
             [
              0.6666666666666666,
              "#ed7953"
             ],
             [
              0.7777777777777778,
              "#fb9f3a"
             ],
             [
              0.8888888888888888,
              "#fdca26"
             ],
             [
              1,
              "#f0f921"
             ]
            ],
            "type": "heatmap"
           }
          ],
          "heatmapgl": [
           {
            "colorbar": {
             "outlinewidth": 0,
             "ticks": ""
            },
            "colorscale": [
             [
              0,
              "#0d0887"
             ],
             [
              0.1111111111111111,
              "#46039f"
             ],
             [
              0.2222222222222222,
              "#7201a8"
             ],
             [
              0.3333333333333333,
              "#9c179e"
             ],
             [
              0.4444444444444444,
              "#bd3786"
             ],
             [
              0.5555555555555556,
              "#d8576b"
             ],
             [
              0.6666666666666666,
              "#ed7953"
             ],
             [
              0.7777777777777778,
              "#fb9f3a"
             ],
             [
              0.8888888888888888,
              "#fdca26"
             ],
             [
              1,
              "#f0f921"
             ]
            ],
            "type": "heatmapgl"
           }
          ],
          "histogram": [
           {
            "marker": {
             "colorbar": {
              "outlinewidth": 0,
              "ticks": ""
             }
            },
            "type": "histogram"
           }
          ],
          "histogram2d": [
           {
            "colorbar": {
             "outlinewidth": 0,
             "ticks": ""
            },
            "colorscale": [
             [
              0,
              "#0d0887"
             ],
             [
              0.1111111111111111,
              "#46039f"
             ],
             [
              0.2222222222222222,
              "#7201a8"
             ],
             [
              0.3333333333333333,
              "#9c179e"
             ],
             [
              0.4444444444444444,
              "#bd3786"
             ],
             [
              0.5555555555555556,
              "#d8576b"
             ],
             [
              0.6666666666666666,
              "#ed7953"
             ],
             [
              0.7777777777777778,
              "#fb9f3a"
             ],
             [
              0.8888888888888888,
              "#fdca26"
             ],
             [
              1,
              "#f0f921"
             ]
            ],
            "type": "histogram2d"
           }
          ],
          "histogram2dcontour": [
           {
            "colorbar": {
             "outlinewidth": 0,
             "ticks": ""
            },
            "colorscale": [
             [
              0,
              "#0d0887"
             ],
             [
              0.1111111111111111,
              "#46039f"
             ],
             [
              0.2222222222222222,
              "#7201a8"
             ],
             [
              0.3333333333333333,
              "#9c179e"
             ],
             [
              0.4444444444444444,
              "#bd3786"
             ],
             [
              0.5555555555555556,
              "#d8576b"
             ],
             [
              0.6666666666666666,
              "#ed7953"
             ],
             [
              0.7777777777777778,
              "#fb9f3a"
             ],
             [
              0.8888888888888888,
              "#fdca26"
             ],
             [
              1,
              "#f0f921"
             ]
            ],
            "type": "histogram2dcontour"
           }
          ],
          "mesh3d": [
           {
            "colorbar": {
             "outlinewidth": 0,
             "ticks": ""
            },
            "type": "mesh3d"
           }
          ],
          "parcoords": [
           {
            "line": {
             "colorbar": {
              "outlinewidth": 0,
              "ticks": ""
             }
            },
            "type": "parcoords"
           }
          ],
          "pie": [
           {
            "automargin": true,
            "type": "pie"
           }
          ],
          "scatter": [
           {
            "marker": {
             "colorbar": {
              "outlinewidth": 0,
              "ticks": ""
             }
            },
            "type": "scatter"
           }
          ],
          "scatter3d": [
           {
            "line": {
             "colorbar": {
              "outlinewidth": 0,
              "ticks": ""
             }
            },
            "marker": {
             "colorbar": {
              "outlinewidth": 0,
              "ticks": ""
             }
            },
            "type": "scatter3d"
           }
          ],
          "scattercarpet": [
           {
            "marker": {
             "colorbar": {
              "outlinewidth": 0,
              "ticks": ""
             }
            },
            "type": "scattercarpet"
           }
          ],
          "scattergeo": [
           {
            "marker": {
             "colorbar": {
              "outlinewidth": 0,
              "ticks": ""
             }
            },
            "type": "scattergeo"
           }
          ],
          "scattergl": [
           {
            "marker": {
             "colorbar": {
              "outlinewidth": 0,
              "ticks": ""
             }
            },
            "type": "scattergl"
           }
          ],
          "scattermapbox": [
           {
            "marker": {
             "colorbar": {
              "outlinewidth": 0,
              "ticks": ""
             }
            },
            "type": "scattermapbox"
           }
          ],
          "scatterpolar": [
           {
            "marker": {
             "colorbar": {
              "outlinewidth": 0,
              "ticks": ""
             }
            },
            "type": "scatterpolar"
           }
          ],
          "scatterpolargl": [
           {
            "marker": {
             "colorbar": {
              "outlinewidth": 0,
              "ticks": ""
             }
            },
            "type": "scatterpolargl"
           }
          ],
          "scatterternary": [
           {
            "marker": {
             "colorbar": {
              "outlinewidth": 0,
              "ticks": ""
             }
            },
            "type": "scatterternary"
           }
          ],
          "surface": [
           {
            "colorbar": {
             "outlinewidth": 0,
             "ticks": ""
            },
            "colorscale": [
             [
              0,
              "#0d0887"
             ],
             [
              0.1111111111111111,
              "#46039f"
             ],
             [
              0.2222222222222222,
              "#7201a8"
             ],
             [
              0.3333333333333333,
              "#9c179e"
             ],
             [
              0.4444444444444444,
              "#bd3786"
             ],
             [
              0.5555555555555556,
              "#d8576b"
             ],
             [
              0.6666666666666666,
              "#ed7953"
             ],
             [
              0.7777777777777778,
              "#fb9f3a"
             ],
             [
              0.8888888888888888,
              "#fdca26"
             ],
             [
              1,
              "#f0f921"
             ]
            ],
            "type": "surface"
           }
          ],
          "table": [
           {
            "cells": {
             "fill": {
              "color": "#EBF0F8"
             },
             "line": {
              "color": "white"
             }
            },
            "header": {
             "fill": {
              "color": "#C8D4E3"
             },
             "line": {
              "color": "white"
             }
            },
            "type": "table"
           }
          ]
         },
         "layout": {
          "annotationdefaults": {
           "arrowcolor": "#2a3f5f",
           "arrowhead": 0,
           "arrowwidth": 1
          },
          "coloraxis": {
           "colorbar": {
            "outlinewidth": 0,
            "ticks": ""
           }
          },
          "colorscale": {
           "diverging": [
            [
             0,
             "#8e0152"
            ],
            [
             0.1,
             "#c51b7d"
            ],
            [
             0.2,
             "#de77ae"
            ],
            [
             0.3,
             "#f1b6da"
            ],
            [
             0.4,
             "#fde0ef"
            ],
            [
             0.5,
             "#f7f7f7"
            ],
            [
             0.6,
             "#e6f5d0"
            ],
            [
             0.7,
             "#b8e186"
            ],
            [
             0.8,
             "#7fbc41"
            ],
            [
             0.9,
             "#4d9221"
            ],
            [
             1,
             "#276419"
            ]
           ],
           "sequential": [
            [
             0,
             "#0d0887"
            ],
            [
             0.1111111111111111,
             "#46039f"
            ],
            [
             0.2222222222222222,
             "#7201a8"
            ],
            [
             0.3333333333333333,
             "#9c179e"
            ],
            [
             0.4444444444444444,
             "#bd3786"
            ],
            [
             0.5555555555555556,
             "#d8576b"
            ],
            [
             0.6666666666666666,
             "#ed7953"
            ],
            [
             0.7777777777777778,
             "#fb9f3a"
            ],
            [
             0.8888888888888888,
             "#fdca26"
            ],
            [
             1,
             "#f0f921"
            ]
           ],
           "sequentialminus": [
            [
             0,
             "#0d0887"
            ],
            [
             0.1111111111111111,
             "#46039f"
            ],
            [
             0.2222222222222222,
             "#7201a8"
            ],
            [
             0.3333333333333333,
             "#9c179e"
            ],
            [
             0.4444444444444444,
             "#bd3786"
            ],
            [
             0.5555555555555556,
             "#d8576b"
            ],
            [
             0.6666666666666666,
             "#ed7953"
            ],
            [
             0.7777777777777778,
             "#fb9f3a"
            ],
            [
             0.8888888888888888,
             "#fdca26"
            ],
            [
             1,
             "#f0f921"
            ]
           ]
          },
          "colorway": [
           "#636efa",
           "#EF553B",
           "#00cc96",
           "#ab63fa",
           "#FFA15A",
           "#19d3f3",
           "#FF6692",
           "#B6E880",
           "#FF97FF",
           "#FECB52"
          ],
          "font": {
           "color": "#2a3f5f"
          },
          "geo": {
           "bgcolor": "white",
           "lakecolor": "white",
           "landcolor": "#E5ECF6",
           "showlakes": true,
           "showland": true,
           "subunitcolor": "white"
          },
          "hoverlabel": {
           "align": "left"
          },
          "hovermode": "closest",
          "mapbox": {
           "style": "light"
          },
          "paper_bgcolor": "white",
          "plot_bgcolor": "#E5ECF6",
          "polar": {
           "angularaxis": {
            "gridcolor": "white",
            "linecolor": "white",
            "ticks": ""
           },
           "bgcolor": "#E5ECF6",
           "radialaxis": {
            "gridcolor": "white",
            "linecolor": "white",
            "ticks": ""
           }
          },
          "scene": {
           "xaxis": {
            "backgroundcolor": "#E5ECF6",
            "gridcolor": "white",
            "gridwidth": 2,
            "linecolor": "white",
            "showbackground": true,
            "ticks": "",
            "zerolinecolor": "white"
           },
           "yaxis": {
            "backgroundcolor": "#E5ECF6",
            "gridcolor": "white",
            "gridwidth": 2,
            "linecolor": "white",
            "showbackground": true,
            "ticks": "",
            "zerolinecolor": "white"
           },
           "zaxis": {
            "backgroundcolor": "#E5ECF6",
            "gridcolor": "white",
            "gridwidth": 2,
            "linecolor": "white",
            "showbackground": true,
            "ticks": "",
            "zerolinecolor": "white"
           }
          },
          "shapedefaults": {
           "line": {
            "color": "#2a3f5f"
           }
          },
          "ternary": {
           "aaxis": {
            "gridcolor": "white",
            "linecolor": "white",
            "ticks": ""
           },
           "baxis": {
            "gridcolor": "white",
            "linecolor": "white",
            "ticks": ""
           },
           "bgcolor": "#E5ECF6",
           "caxis": {
            "gridcolor": "white",
            "linecolor": "white",
            "ticks": ""
           }
          },
          "title": {
           "x": 0.05
          },
          "xaxis": {
           "automargin": true,
           "gridcolor": "white",
           "linecolor": "white",
           "ticks": "",
           "title": {
            "standoff": 15
           },
           "zerolinecolor": "white",
           "zerolinewidth": 2
          },
          "yaxis": {
           "automargin": true,
           "gridcolor": "white",
           "linecolor": "white",
           "ticks": "",
           "title": {
            "standoff": 15
           },
           "zerolinecolor": "white",
           "zerolinewidth": 2
          }
         }
        },
        "title": {
         "text": "Teilnehmer"
        },
        "width": 700,
        "xaxis": {
         "anchor": "y",
         "autorange": true,
         "domain": [
          0,
          1
         ],
         "range": [
          -0.5,
          4.5
         ],
         "title": {
          "text": "Merkmal"
         },
         "type": "category"
        },
        "yaxis": {
         "anchor": "x",
         "autorange": true,
         "domain": [
          0,
          1
         ],
         "range": [
          0,
          673.6842105263158
         ],
         "title": {
          "text": "Anzahl"
         },
         "type": "linear"
        }
       }
      },
      "image/png": "[encoded data removed]",
      "text/html": [
       "<div>\n",
       "        \n",
       "        \n",
       "            <div id=\"f0ab24e0-d60f-48e8-94ba-af52008d0102\" class=\"plotly-graph-div\" style=\"height:700px; width:700px;\"></div>\n",
       "            <script type=\"text/javascript\">\n",
       "                require([\"plotly\"], function(Plotly) {\n",
       "                    window.PLOTLYENV=window.PLOTLYENV || {};\n",
       "                    \n",
       "                if (document.getElementById(\"f0ab24e0-d60f-48e8-94ba-af52008d0102\")) {\n",
       "                    Plotly.newPlot(\n",
       "                        'f0ab24e0-d60f-48e8-94ba-af52008d0102',\n",
       "                        [{\"alignmentgroup\": \"True\", \"hovertemplate\": \"Legende=14-15<br>Merkmal=%{x}<br>Anzahl=%{y}<br>Prozent=%{text}<extra></extra>\", \"legendgroup\": \"14-15\", \"marker\": {\"color\": \"#636efa\"}, \"name\": \"14-15\", \"offsetgroup\": \"14-15\", \"orientation\": \"v\", \"showlegend\": true, \"text\": [0.19405320813771518], \"textposition\": \"auto\", \"texttemplate\": \"%{text:.3p}\", \"type\": \"bar\", \"x\": [\"Alter\"], \"xaxis\": \"x\", \"y\": [124], \"yaxis\": \"y\"}, {\"alignmentgroup\": \"True\", \"hovertemplate\": \"Legende=16-17<br>Merkmal=%{x}<br>Anzahl=%{y}<br>Prozent=%{text}<extra></extra>\", \"legendgroup\": \"16-17\", \"marker\": {\"color\": \"#EF553B\"}, \"name\": \"16-17\", \"offsetgroup\": \"16-17\", \"orientation\": \"v\", \"showlegend\": true, \"text\": [0.39906103286384975], \"textposition\": \"auto\", \"texttemplate\": \"%{text:.3p}\", \"type\": \"bar\", \"x\": [\"Alter\"], \"xaxis\": \"x\", \"y\": [255], \"yaxis\": \"y\"}, {\"alignmentgroup\": \"True\", \"hovertemplate\": \"Legende=18-20<br>Merkmal=%{x}<br>Anzahl=%{y}<br>Prozent=%{text}<extra></extra>\", \"legendgroup\": \"18-20\", \"marker\": {\"color\": \"#00cc96\"}, \"name\": \"18-20\", \"offsetgroup\": \"18-20\", \"orientation\": \"v\", \"showlegend\": true, \"text\": [0.23161189358372458], \"textposition\": \"auto\", \"texttemplate\": \"%{text:.3p}\", \"type\": \"bar\", \"x\": [\"Alter\"], \"xaxis\": \"x\", \"y\": [148], \"yaxis\": \"y\"}, {\"alignmentgroup\": \"True\", \"hovertemplate\": \"Legende=>20<br>Merkmal=%{x}<br>Anzahl=%{y}<br>Prozent=%{text}<extra></extra>\", \"legendgroup\": \">20\", \"marker\": {\"color\": \"#ab63fa\"}, \"name\": \">20\", \"offsetgroup\": \">20\", \"orientation\": \"v\", \"showlegend\": true, \"text\": [0.1752738654147105], \"textposition\": \"auto\", \"texttemplate\": \"%{text:.3p}\", \"type\": \"bar\", \"x\": [\"Alter\"], \"xaxis\": \"x\", \"y\": [112], \"yaxis\": \"y\"}, {\"alignmentgroup\": \"True\", \"hovertemplate\": \"Legende=9<br>Merkmal=%{x}<br>Anzahl=%{y}<br>Prozent=%{text}<extra></extra>\", \"legendgroup\": \"9\", \"marker\": {\"color\": \"#FFA15A\"}, \"name\": \"9\", \"offsetgroup\": \"9\", \"orientation\": \"v\", \"showlegend\": true, \"text\": [0.1755485893416928], \"textposition\": \"auto\", \"texttemplate\": \"%{text:.3p}\", \"type\": \"bar\", \"x\": [\"Schulstufe\"], \"xaxis\": \"x\", \"y\": [112], \"yaxis\": \"y\"}, {\"alignmentgroup\": \"True\", \"hovertemplate\": \"Legende=10<br>Merkmal=%{x}<br>Anzahl=%{y}<br>Prozent=%{text}<extra></extra>\", \"legendgroup\": \"10\", \"marker\": {\"color\": \"#19d3f3\"}, \"name\": \"10\", \"offsetgroup\": \"10\", \"orientation\": \"v\", \"showlegend\": true, \"text\": [0.14890282131661442], \"textposition\": \"auto\", \"texttemplate\": \"%{text:.3p}\", \"type\": \"bar\", \"x\": [\"Schulstufe\"], \"xaxis\": \"x\", \"y\": [95], \"yaxis\": \"y\"}, {\"alignmentgroup\": \"True\", \"hovertemplate\": \"Legende=11<br>Merkmal=%{x}<br>Anzahl=%{y}<br>Prozent=%{text}<extra></extra>\", \"legendgroup\": \"11\", \"marker\": {\"color\": \"#FF6692\"}, \"name\": \"11\", \"offsetgroup\": \"11\", \"orientation\": \"v\", \"showlegend\": true, \"text\": [0.29310344827586204], \"textposition\": \"auto\", \"texttemplate\": \"%{text:.3p}\", \"type\": \"bar\", \"x\": [\"Schulstufe\"], \"xaxis\": \"x\", \"y\": [187], \"yaxis\": \"y\"}, {\"alignmentgroup\": \"True\", \"hovertemplate\": \"Legende=12<br>Merkmal=%{x}<br>Anzahl=%{y}<br>Prozent=%{text}<extra></extra>\", \"legendgroup\": \"12\", \"marker\": {\"color\": \"#B6E880\"}, \"name\": \"12\", \"offsetgroup\": \"12\", \"orientation\": \"v\", \"showlegend\": true, \"text\": [0.11128526645768025], \"textposition\": \"auto\", \"texttemplate\": \"%{text:.3p}\", \"type\": \"bar\", \"x\": [\"Schulstufe\"], \"xaxis\": \"x\", \"y\": [71], \"yaxis\": \"y\"}, {\"alignmentgroup\": \"True\", \"hovertemplate\": \"Legende=13<br>Merkmal=%{x}<br>Anzahl=%{y}<br>Prozent=%{text}<extra></extra>\", \"legendgroup\": \"13\", \"marker\": {\"color\": \"#FF97FF\"}, \"name\": \"13\", \"offsetgroup\": \"13\", \"orientation\": \"v\", \"showlegend\": true, \"text\": [0.025078369905956112], \"textposition\": \"auto\", \"texttemplate\": \"%{text:.3p}\", \"type\": \"bar\", \"x\": [\"Schulstufe\"], \"xaxis\": \"x\", \"y\": [16], \"yaxis\": \"y\"}, {\"alignmentgroup\": \"True\", \"hovertemplate\": \"Legende=>13<br>Merkmal=%{x}<br>Anzahl=%{y}<br>Prozent=%{text}<extra></extra>\", \"legendgroup\": \">13\", \"marker\": {\"color\": \"#FECB52\"}, \"name\": \">13\", \"offsetgroup\": \">13\", \"orientation\": \"v\", \"showlegend\": true, \"text\": [0.24608150470219436], \"textposition\": \"auto\", \"texttemplate\": \"%{text:.3p}\", \"type\": \"bar\", \"x\": [\"Schulstufe\"], \"xaxis\": \"x\", \"y\": [157], \"yaxis\": \"y\"}, {\"alignmentgroup\": \"True\", \"hovertemplate\": \"Legende=Andere<br>Merkmal=%{x}<br>Anzahl=%{y}<br>Prozent=%{text}<extra></extra>\", \"legendgroup\": \"Andere\", \"marker\": {\"color\": \"#636efa\"}, \"name\": \"Andere\", \"offsetgroup\": \"Andere\", \"orientation\": \"v\", \"showlegend\": true, \"text\": [0.1109375], \"textposition\": \"auto\", \"texttemplate\": \"%{text:.3p}\", \"type\": \"bar\", \"x\": [\"Schule\"], \"xaxis\": \"x\", \"y\": [71], \"yaxis\": \"y\"}, {\"alignmentgroup\": \"True\", \"hovertemplate\": \"Legende=HTL Rennweg<br>Merkmal=%{x}<br>Anzahl=%{y}<br>Prozent=%{text}<extra></extra>\", \"legendgroup\": \"HTL Rennweg\", \"marker\": {\"color\": \"#EF553B\"}, \"name\": \"HTL Rennweg\", \"offsetgroup\": \"HTL Rennweg\", \"orientation\": \"v\", \"showlegend\": true, \"text\": [0.08125], \"textposition\": \"auto\", \"texttemplate\": \"%{text:.3p}\", \"type\": \"bar\", \"x\": [\"Schule\"], \"xaxis\": \"x\", \"y\": [52], \"yaxis\": \"y\"}, {\"alignmentgroup\": \"True\", \"hovertemplate\": \"Legende=HTL Spengergasse<br>Merkmal=%{x}<br>Anzahl=%{y}<br>Prozent=%{text}<extra></extra>\", \"legendgroup\": \"HTL Spengergasse\", \"marker\": {\"color\": \"#00cc96\"}, \"name\": \"HTL Spengergasse\", \"offsetgroup\": \"HTL Spengergasse\", \"orientation\": \"v\", \"showlegend\": true, \"text\": [0.2515625], \"textposition\": \"auto\", \"texttemplate\": \"%{text:.3p}\", \"type\": \"bar\", \"x\": [\"Schule\"], \"xaxis\": \"x\", \"y\": [161], \"yaxis\": \"y\"}, {\"alignmentgroup\": \"True\", \"hovertemplate\": \"Legende=TGM<br>Merkmal=%{x}<br>Anzahl=%{y}<br>Prozent=%{text}<extra></extra>\", \"legendgroup\": \"TGM\", \"marker\": {\"color\": \"#ab63fa\"}, \"name\": \"TGM\", \"offsetgroup\": \"TGM\", \"orientation\": \"v\", \"showlegend\": true, \"text\": [0.1546875], \"textposition\": \"auto\", \"texttemplate\": \"%{text:.3p}\", \"type\": \"bar\", \"x\": [\"Schule\"], \"xaxis\": \"x\", \"y\": [99], \"yaxis\": \"y\"}, {\"alignmentgroup\": \"True\", \"hovertemplate\": \"Legende=bautechnikum<br>Merkmal=%{x}<br>Anzahl=%{y}<br>Prozent=%{text}<extra></extra>\", \"legendgroup\": \"bautechnikum\", \"marker\": {\"color\": \"#FFA15A\"}, \"name\": \"bautechnikum\", \"offsetgroup\": \"bautechnikum\", \"orientation\": \"v\", \"showlegend\": true, \"text\": [0.275], \"textposition\": \"auto\", \"texttemplate\": \"%{text:.3p}\", \"type\": \"bar\", \"x\": [\"Schule\"], \"xaxis\": \"x\", \"y\": [176], \"yaxis\": \"y\"}, {\"alignmentgroup\": \"True\", \"hovertemplate\": \"Legende=hblva17<br>Merkmal=%{x}<br>Anzahl=%{y}<br>Prozent=%{text}<extra></extra>\", \"legendgroup\": \"hblva17\", \"marker\": {\"color\": \"#19d3f3\"}, \"name\": \"hblva17\", \"offsetgroup\": \"hblva17\", \"orientation\": \"v\", \"showlegend\": true, \"text\": [0.1265625], \"textposition\": \"auto\", \"texttemplate\": \"%{text:.3p}\", \"type\": \"bar\", \"x\": [\"Schule\"], \"xaxis\": \"x\", \"y\": [81], \"yaxis\": \"y\"}, {\"alignmentgroup\": \"True\", \"hovertemplate\": \"Legende=Abendkolleg<br>Merkmal=%{x}<br>Anzahl=%{y}<br>Prozent=%{text}<extra></extra>\", \"legendgroup\": \"Abendkolleg\", \"marker\": {\"color\": \"#FF6692\"}, \"name\": \"Abendkolleg\", \"offsetgroup\": \"Abendkolleg\", \"orientation\": \"v\", \"showlegend\": true, \"text\": [0.0578125], \"textposition\": \"auto\", \"texttemplate\": \"%{text:.3p}\", \"type\": \"bar\", \"x\": [\"Schulform\"], \"xaxis\": \"x\", \"y\": [37], \"yaxis\": \"y\"}, {\"alignmentgroup\": \"True\", \"hovertemplate\": \"Legende=Fachschule<br>Merkmal=%{x}<br>Anzahl=%{y}<br>Prozent=%{text}<extra></extra>\", \"legendgroup\": \"Fachschule\", \"marker\": {\"color\": \"#B6E880\"}, \"name\": \"Fachschule\", \"offsetgroup\": \"Fachschule\", \"orientation\": \"v\", \"showlegend\": true, \"text\": [0.171875], \"textposition\": \"auto\", \"texttemplate\": \"%{text:.3p}\", \"type\": \"bar\", \"x\": [\"Schulform\"], \"xaxis\": \"x\", \"y\": [110], \"yaxis\": \"y\"}, {\"alignmentgroup\": \"True\", \"hovertemplate\": \"Legende=HTL<br>Merkmal=%{x}<br>Anzahl=%{y}<br>Prozent=%{text}<extra></extra>\", \"legendgroup\": \"HTL\", \"marker\": {\"color\": \"#FF97FF\"}, \"name\": \"HTL\", \"offsetgroup\": \"HTL\", \"orientation\": \"v\", \"showlegend\": true, \"text\": [0.603125], \"textposition\": \"auto\", \"texttemplate\": \"%{text:.3p}\", \"type\": \"bar\", \"x\": [\"Schulform\"], \"xaxis\": \"x\", \"y\": [386], \"yaxis\": \"y\"}, {\"alignmentgroup\": \"True\", \"hovertemplate\": \"Legende=Tageskolleg<br>Merkmal=%{x}<br>Anzahl=%{y}<br>Prozent=%{text}<extra></extra>\", \"legendgroup\": \"Tageskolleg\", \"marker\": {\"color\": \"#FECB52\"}, \"name\": \"Tageskolleg\", \"offsetgroup\": \"Tageskolleg\", \"orientation\": \"v\", \"showlegend\": true, \"text\": [0.1671875], \"textposition\": \"auto\", \"texttemplate\": \"%{text:.3p}\", \"type\": \"bar\", \"x\": [\"Schulform\"], \"xaxis\": \"x\", \"y\": [107], \"yaxis\": \"y\"}, {\"alignmentgroup\": \"True\", \"hovertemplate\": \"Legende=divers<br>Merkmal=%{x}<br>Anzahl=%{y}<br>Prozent=%{text}<extra></extra>\", \"legendgroup\": \"divers\", \"marker\": {\"color\": \"#636efa\"}, \"name\": \"divers\", \"offsetgroup\": \"divers\", \"orientation\": \"v\", \"showlegend\": true, \"text\": [0.007898894154818325], \"textposition\": \"auto\", \"texttemplate\": \"%{text:.3p}\", \"type\": \"bar\", \"x\": [\"Geschlecht\"], \"xaxis\": \"x\", \"y\": [5], \"yaxis\": \"y\"}, {\"alignmentgroup\": \"True\", \"hovertemplate\": \"Legende=m\\u00e4nnlich<br>Merkmal=%{x}<br>Anzahl=%{y}<br>Prozent=%{text}<extra></extra>\", \"legendgroup\": \"m\\u00e4nnlich\", \"marker\": {\"color\": \"#EF553B\"}, \"name\": \"m\\u00e4nnlich\", \"offsetgroup\": \"m\\u00e4nnlich\", \"orientation\": \"v\", \"showlegend\": true, \"text\": [0.7140600315955766], \"textposition\": \"auto\", \"texttemplate\": \"%{text:.3p}\", \"type\": \"bar\", \"x\": [\"Geschlecht\"], \"xaxis\": \"x\", \"y\": [452], \"yaxis\": \"y\"}, {\"alignmentgroup\": \"True\", \"hovertemplate\": \"Legende=weiblich<br>Merkmal=%{x}<br>Anzahl=%{y}<br>Prozent=%{text}<extra></extra>\", \"legendgroup\": \"weiblich\", \"marker\": {\"color\": \"#00cc96\"}, \"name\": \"weiblich\", \"offsetgroup\": \"weiblich\", \"orientation\": \"v\", \"showlegend\": true, \"text\": [0.27804107424960506], \"textposition\": \"auto\", \"texttemplate\": \"%{text:.3p}\", \"type\": \"bar\", \"x\": [\"Geschlecht\"], \"xaxis\": \"x\", \"y\": [176], \"yaxis\": \"y\"}],\n",
       "                        {\"barmode\": \"relative\", \"height\": 700, \"legend\": {\"title\": {\"text\": \"Legende\"}, \"tracegroupgap\": 0}, \"template\": {\"data\": {\"bar\": [{\"error_x\": {\"color\": \"#2a3f5f\"}, \"error_y\": {\"color\": \"#2a3f5f\"}, \"marker\": {\"line\": {\"color\": \"#E5ECF6\", \"width\": 0.5}}, \"type\": \"bar\"}], \"barpolar\": [{\"marker\": {\"line\": {\"color\": \"#E5ECF6\", \"width\": 0.5}}, \"type\": \"barpolar\"}], \"carpet\": [{\"aaxis\": {\"endlinecolor\": \"#2a3f5f\", \"gridcolor\": \"white\", \"linecolor\": \"white\", \"minorgridcolor\": \"white\", \"startlinecolor\": \"#2a3f5f\"}, \"baxis\": {\"endlinecolor\": \"#2a3f5f\", \"gridcolor\": \"white\", \"linecolor\": \"white\", \"minorgridcolor\": \"white\", \"startlinecolor\": \"#2a3f5f\"}, \"type\": \"carpet\"}], \"choropleth\": [{\"colorbar\": {\"outlinewidth\": 0, \"ticks\": \"\"}, \"type\": \"choropleth\"}], \"contour\": [{\"colorbar\": {\"outlinewidth\": 0, \"ticks\": \"\"}, \"colorscale\": [[0.0, \"#0d0887\"], [0.1111111111111111, \"#46039f\"], [0.2222222222222222, \"#7201a8\"], [0.3333333333333333, \"#9c179e\"], [0.4444444444444444, \"#bd3786\"], [0.5555555555555556, \"#d8576b\"], [0.6666666666666666, \"#ed7953\"], [0.7777777777777778, \"#fb9f3a\"], [0.8888888888888888, \"#fdca26\"], [1.0, \"#f0f921\"]], \"type\": \"contour\"}], \"contourcarpet\": [{\"colorbar\": {\"outlinewidth\": 0, \"ticks\": \"\"}, \"type\": \"contourcarpet\"}], \"heatmap\": [{\"colorbar\": {\"outlinewidth\": 0, \"ticks\": \"\"}, \"colorscale\": [[0.0, \"#0d0887\"], [0.1111111111111111, \"#46039f\"], [0.2222222222222222, \"#7201a8\"], [0.3333333333333333, \"#9c179e\"], [0.4444444444444444, \"#bd3786\"], [0.5555555555555556, \"#d8576b\"], [0.6666666666666666, \"#ed7953\"], [0.7777777777777778, \"#fb9f3a\"], [0.8888888888888888, \"#fdca26\"], [1.0, \"#f0f921\"]], \"type\": \"heatmap\"}], \"heatmapgl\": [{\"colorbar\": {\"outlinewidth\": 0, \"ticks\": \"\"}, \"colorscale\": [[0.0, \"#0d0887\"], [0.1111111111111111, \"#46039f\"], [0.2222222222222222, \"#7201a8\"], [0.3333333333333333, \"#9c179e\"], [0.4444444444444444, \"#bd3786\"], [0.5555555555555556, \"#d8576b\"], [0.6666666666666666, \"#ed7953\"], [0.7777777777777778, \"#fb9f3a\"], [0.8888888888888888, \"#fdca26\"], [1.0, \"#f0f921\"]], \"type\": \"heatmapgl\"}], \"histogram\": [{\"marker\": {\"colorbar\": {\"outlinewidth\": 0, \"ticks\": \"\"}}, \"type\": \"histogram\"}], \"histogram2d\": [{\"colorbar\": {\"outlinewidth\": 0, \"ticks\": \"\"}, \"colorscale\": [[0.0, \"#0d0887\"], [0.1111111111111111, \"#46039f\"], [0.2222222222222222, \"#7201a8\"], [0.3333333333333333, \"#9c179e\"], [0.4444444444444444, \"#bd3786\"], [0.5555555555555556, \"#d8576b\"], [0.6666666666666666, \"#ed7953\"], [0.7777777777777778, \"#fb9f3a\"], [0.8888888888888888, \"#fdca26\"], [1.0, \"#f0f921\"]], \"type\": \"histogram2d\"}], \"histogram2dcontour\": [{\"colorbar\": {\"outlinewidth\": 0, \"ticks\": \"\"}, \"colorscale\": [[0.0, \"#0d0887\"], [0.1111111111111111, \"#46039f\"], [0.2222222222222222, \"#7201a8\"], [0.3333333333333333, \"#9c179e\"], [0.4444444444444444, \"#bd3786\"], [0.5555555555555556, \"#d8576b\"], [0.6666666666666666, \"#ed7953\"], [0.7777777777777778, \"#fb9f3a\"], [0.8888888888888888, \"#fdca26\"], [1.0, \"#f0f921\"]], \"type\": \"histogram2dcontour\"}], \"mesh3d\": [{\"colorbar\": {\"outlinewidth\": 0, \"ticks\": \"\"}, \"type\": \"mesh3d\"}], \"parcoords\": [{\"line\": {\"colorbar\": {\"outlinewidth\": 0, \"ticks\": \"\"}}, \"type\": \"parcoords\"}], \"pie\": [{\"automargin\": true, \"type\": \"pie\"}], \"scatter\": [{\"marker\": {\"colorbar\": {\"outlinewidth\": 0, \"ticks\": \"\"}}, \"type\": \"scatter\"}], \"scatter3d\": [{\"line\": {\"colorbar\": {\"outlinewidth\": 0, \"ticks\": \"\"}}, \"marker\": {\"colorbar\": {\"outlinewidth\": 0, \"ticks\": \"\"}}, \"type\": \"scatter3d\"}], \"scattercarpet\": [{\"marker\": {\"colorbar\": {\"outlinewidth\": 0, \"ticks\": \"\"}}, \"type\": \"scattercarpet\"}], \"scattergeo\": [{\"marker\": {\"colorbar\": {\"outlinewidth\": 0, \"ticks\": \"\"}}, \"type\": \"scattergeo\"}], \"scattergl\": [{\"marker\": {\"colorbar\": {\"outlinewidth\": 0, \"ticks\": \"\"}}, \"type\": \"scattergl\"}], \"scattermapbox\": [{\"marker\": {\"colorbar\": {\"outlinewidth\": 0, \"ticks\": \"\"}}, \"type\": \"scattermapbox\"}], \"scatterpolar\": [{\"marker\": {\"colorbar\": {\"outlinewidth\": 0, \"ticks\": \"\"}}, \"type\": \"scatterpolar\"}], \"scatterpolargl\": [{\"marker\": {\"colorbar\": {\"outlinewidth\": 0, \"ticks\": \"\"}}, \"type\": \"scatterpolargl\"}], \"scatterternary\": [{\"marker\": {\"colorbar\": {\"outlinewidth\": 0, \"ticks\": \"\"}}, \"type\": \"scatterternary\"}], \"surface\": [{\"colorbar\": {\"outlinewidth\": 0, \"ticks\": \"\"}, \"colorscale\": [[0.0, \"#0d0887\"], [0.1111111111111111, \"#46039f\"], [0.2222222222222222, \"#7201a8\"], [0.3333333333333333, \"#9c179e\"], [0.4444444444444444, \"#bd3786\"], [0.5555555555555556, \"#d8576b\"], [0.6666666666666666, \"#ed7953\"], [0.7777777777777778, \"#fb9f3a\"], [0.8888888888888888, \"#fdca26\"], [1.0, \"#f0f921\"]], \"type\": \"surface\"}], \"table\": [{\"cells\": {\"fill\": {\"color\": \"#EBF0F8\"}, \"line\": {\"color\": \"white\"}}, \"header\": {\"fill\": {\"color\": \"#C8D4E3\"}, \"line\": {\"color\": \"white\"}}, \"type\": \"table\"}]}, \"layout\": {\"annotationdefaults\": {\"arrowcolor\": \"#2a3f5f\", \"arrowhead\": 0, \"arrowwidth\": 1}, \"coloraxis\": {\"colorbar\": {\"outlinewidth\": 0, \"ticks\": \"\"}}, \"colorscale\": {\"diverging\": [[0, \"#8e0152\"], [0.1, \"#c51b7d\"], [0.2, \"#de77ae\"], [0.3, \"#f1b6da\"], [0.4, \"#fde0ef\"], [0.5, \"#f7f7f7\"], [0.6, \"#e6f5d0\"], [0.7, \"#b8e186\"], [0.8, \"#7fbc41\"], [0.9, \"#4d9221\"], [1, \"#276419\"]], \"sequential\": [[0.0, \"#0d0887\"], [0.1111111111111111, \"#46039f\"], [0.2222222222222222, \"#7201a8\"], [0.3333333333333333, \"#9c179e\"], [0.4444444444444444, \"#bd3786\"], [0.5555555555555556, \"#d8576b\"], [0.6666666666666666, \"#ed7953\"], [0.7777777777777778, \"#fb9f3a\"], [0.8888888888888888, \"#fdca26\"], [1.0, \"#f0f921\"]], \"sequentialminus\": [[0.0, \"#0d0887\"], [0.1111111111111111, \"#46039f\"], [0.2222222222222222, \"#7201a8\"], [0.3333333333333333, \"#9c179e\"], [0.4444444444444444, \"#bd3786\"], [0.5555555555555556, \"#d8576b\"], [0.6666666666666666, \"#ed7953\"], [0.7777777777777778, \"#fb9f3a\"], [0.8888888888888888, \"#fdca26\"], [1.0, \"#f0f921\"]]}, \"colorway\": [\"#636efa\", \"#EF553B\", \"#00cc96\", \"#ab63fa\", \"#FFA15A\", \"#19d3f3\", \"#FF6692\", \"#B6E880\", \"#FF97FF\", \"#FECB52\"], \"font\": {\"color\": \"#2a3f5f\"}, \"geo\": {\"bgcolor\": \"white\", \"lakecolor\": \"white\", \"landcolor\": \"#E5ECF6\", \"showlakes\": true, \"showland\": true, \"subunitcolor\": \"white\"}, \"hoverlabel\": {\"align\": \"left\"}, \"hovermode\": \"closest\", \"mapbox\": {\"style\": \"light\"}, \"paper_bgcolor\": \"white\", \"plot_bgcolor\": \"#E5ECF6\", \"polar\": {\"angularaxis\": {\"gridcolor\": \"white\", \"linecolor\": \"white\", \"ticks\": \"\"}, \"bgcolor\": \"#E5ECF6\", \"radialaxis\": {\"gridcolor\": \"white\", \"linecolor\": \"white\", \"ticks\": \"\"}}, \"scene\": {\"xaxis\": {\"backgroundcolor\": \"#E5ECF6\", \"gridcolor\": \"white\", \"gridwidth\": 2, \"linecolor\": \"white\", \"showbackground\": true, \"ticks\": \"\", \"zerolinecolor\": \"white\"}, \"yaxis\": {\"backgroundcolor\": \"#E5ECF6\", \"gridcolor\": \"white\", \"gridwidth\": 2, \"linecolor\": \"white\", \"showbackground\": true, \"ticks\": \"\", \"zerolinecolor\": \"white\"}, \"zaxis\": {\"backgroundcolor\": \"#E5ECF6\", \"gridcolor\": \"white\", \"gridwidth\": 2, \"linecolor\": \"white\", \"showbackground\": true, \"ticks\": \"\", \"zerolinecolor\": \"white\"}}, \"shapedefaults\": {\"line\": {\"color\": \"#2a3f5f\"}}, \"ternary\": {\"aaxis\": {\"gridcolor\": \"white\", \"linecolor\": \"white\", \"ticks\": \"\"}, \"baxis\": {\"gridcolor\": \"white\", \"linecolor\": \"white\", \"ticks\": \"\"}, \"bgcolor\": \"#E5ECF6\", \"caxis\": {\"gridcolor\": \"white\", \"linecolor\": \"white\", \"ticks\": \"\"}}, \"title\": {\"x\": 0.05}, \"xaxis\": {\"automargin\": true, \"gridcolor\": \"white\", \"linecolor\": \"white\", \"ticks\": \"\", \"title\": {\"standoff\": 15}, \"zerolinecolor\": \"white\", \"zerolinewidth\": 2}, \"yaxis\": {\"automargin\": true, \"gridcolor\": \"white\", \"linecolor\": \"white\", \"ticks\": \"\", \"title\": {\"standoff\": 15}, \"zerolinecolor\": \"white\", \"zerolinewidth\": 2}}}, \"title\": {\"text\": \"Teilnehmer\"}, \"width\": 700, \"xaxis\": {\"anchor\": \"y\", \"domain\": [0.0, 1.0], \"title\": {\"text\": \"Merkmal\"}}, \"yaxis\": {\"anchor\": \"x\", \"domain\": [0.0, 1.0], \"title\": {\"text\": \"Anzahl\"}}},\n",
       "                        {\"responsive\": true}\n",
       "                    ).then(function(){\n",
       "                            \n",
       "var gd = document.getElementById('f0ab24e0-d60f-48e8-94ba-af52008d0102');\n",
       "var x = new MutationObserver(function (mutations, observer) {{\n",
       "        var display = window.getComputedStyle(gd).display;\n",
       "        if (!display || display === 'none') {{\n",
       "            console.log([gd, 'removed!']);\n",
       "            Plotly.purge(gd);\n",
       "            observer.disconnect();\n",
       "        }}\n",
       "}});\n",
       "\n",
       "// Listen for the removal of the full notebook cells\n",
       "var notebookContainer = gd.closest('#notebook-container');\n",
       "if (notebookContainer) {{\n",
       "    x.observe(notebookContainer, {childList: true});\n",
       "}}\n",
       "\n",
       "// Listen for the clearing of the current output cell\n",
       "var outputEl = gd.closest('.output');\n",
       "if (outputEl) {{\n",
       "    x.observe(outputEl, {childList: true});\n",
       "}}\n",
       "\n",
       "                        })\n",
       "                };\n",
       "                });\n",
       "            </script>\n",
       "        </div>"
      ]
     },
     "metadata": {},
     "output_type": "display_data"
    },
    {
     "data": {
      "text/html": [
       "<div>\n",
       "<style scoped>\n",
       "    .dataframe tbody tr th:only-of-type {\n",
       "        vertical-align: middle;\n",
       "    }\n",
       "\n",
       "    .dataframe tbody tr th {\n",
       "        vertical-align: top;\n",
       "    }\n",
       "\n",
       "    .dataframe thead th {\n",
       "        text-align: right;\n",
       "    }\n",
       "</style>\n",
       "<table border=\"1\" class=\"dataframe\">\n",
       "  <thead>\n",
       "    <tr style=\"text-align: right;\">\n",
       "      <th></th>\n",
       "      <th>Merkmal</th>\n",
       "      <th>Legende</th>\n",
       "      <th>Anzahl</th>\n",
       "      <th>Prozent</th>\n",
       "    </tr>\n",
       "  </thead>\n",
       "  <tbody>\n",
       "    <tr>\n",
       "      <th>0</th>\n",
       "      <td>Alter</td>\n",
       "      <td>14-15</td>\n",
       "      <td>124</td>\n",
       "      <td>0.194053</td>\n",
       "    </tr>\n",
       "    <tr>\n",
       "      <th>1</th>\n",
       "      <td>Alter</td>\n",
       "      <td>16-17</td>\n",
       "      <td>255</td>\n",
       "      <td>0.399061</td>\n",
       "    </tr>\n",
       "    <tr>\n",
       "      <th>2</th>\n",
       "      <td>Alter</td>\n",
       "      <td>18-20</td>\n",
       "      <td>148</td>\n",
       "      <td>0.231612</td>\n",
       "    </tr>\n",
       "    <tr>\n",
       "      <th>3</th>\n",
       "      <td>Alter</td>\n",
       "      <td>&gt;20</td>\n",
       "      <td>112</td>\n",
       "      <td>0.175274</td>\n",
       "    </tr>\n",
       "    <tr>\n",
       "      <th>4</th>\n",
       "      <td>Schulstufe</td>\n",
       "      <td>9</td>\n",
       "      <td>112</td>\n",
       "      <td>0.175549</td>\n",
       "    </tr>\n",
       "    <tr>\n",
       "      <th>0</th>\n",
       "      <td>Schulstufe</td>\n",
       "      <td>10</td>\n",
       "      <td>95</td>\n",
       "      <td>0.148903</td>\n",
       "    </tr>\n",
       "    <tr>\n",
       "      <th>1</th>\n",
       "      <td>Schulstufe</td>\n",
       "      <td>11</td>\n",
       "      <td>187</td>\n",
       "      <td>0.293103</td>\n",
       "    </tr>\n",
       "    <tr>\n",
       "      <th>2</th>\n",
       "      <td>Schulstufe</td>\n",
       "      <td>12</td>\n",
       "      <td>71</td>\n",
       "      <td>0.111285</td>\n",
       "    </tr>\n",
       "    <tr>\n",
       "      <th>3</th>\n",
       "      <td>Schulstufe</td>\n",
       "      <td>13</td>\n",
       "      <td>16</td>\n",
       "      <td>0.025078</td>\n",
       "    </tr>\n",
       "    <tr>\n",
       "      <th>5</th>\n",
       "      <td>Schulstufe</td>\n",
       "      <td>&gt;13</td>\n",
       "      <td>157</td>\n",
       "      <td>0.246082</td>\n",
       "    </tr>\n",
       "    <tr>\n",
       "      <th>0</th>\n",
       "      <td>Schule</td>\n",
       "      <td>Andere</td>\n",
       "      <td>71</td>\n",
       "      <td>0.110937</td>\n",
       "    </tr>\n",
       "    <tr>\n",
       "      <th>1</th>\n",
       "      <td>Schule</td>\n",
       "      <td>HTL Rennweg</td>\n",
       "      <td>52</td>\n",
       "      <td>0.081250</td>\n",
       "    </tr>\n",
       "    <tr>\n",
       "      <th>2</th>\n",
       "      <td>Schule</td>\n",
       "      <td>HTL Spengergasse</td>\n",
       "      <td>161</td>\n",
       "      <td>0.251563</td>\n",
       "    </tr>\n",
       "    <tr>\n",
       "      <th>3</th>\n",
       "      <td>Schule</td>\n",
       "      <td>TGM</td>\n",
       "      <td>99</td>\n",
       "      <td>0.154688</td>\n",
       "    </tr>\n",
       "    <tr>\n",
       "      <th>4</th>\n",
       "      <td>Schule</td>\n",
       "      <td>bautechnikum</td>\n",
       "      <td>176</td>\n",
       "      <td>0.275000</td>\n",
       "    </tr>\n",
       "    <tr>\n",
       "      <th>5</th>\n",
       "      <td>Schule</td>\n",
       "      <td>hblva17</td>\n",
       "      <td>81</td>\n",
       "      <td>0.126562</td>\n",
       "    </tr>\n",
       "    <tr>\n",
       "      <th>0</th>\n",
       "      <td>Schulform</td>\n",
       "      <td>Abendkolleg</td>\n",
       "      <td>37</td>\n",
       "      <td>0.057813</td>\n",
       "    </tr>\n",
       "    <tr>\n",
       "      <th>1</th>\n",
       "      <td>Schulform</td>\n",
       "      <td>Fachschule</td>\n",
       "      <td>110</td>\n",
       "      <td>0.171875</td>\n",
       "    </tr>\n",
       "    <tr>\n",
       "      <th>2</th>\n",
       "      <td>Schulform</td>\n",
       "      <td>HTL</td>\n",
       "      <td>386</td>\n",
       "      <td>0.603125</td>\n",
       "    </tr>\n",
       "    <tr>\n",
       "      <th>3</th>\n",
       "      <td>Schulform</td>\n",
       "      <td>Tageskolleg</td>\n",
       "      <td>107</td>\n",
       "      <td>0.167187</td>\n",
       "    </tr>\n",
       "    <tr>\n",
       "      <th>0</th>\n",
       "      <td>Geschlecht</td>\n",
       "      <td>divers</td>\n",
       "      <td>5</td>\n",
       "      <td>0.007899</td>\n",
       "    </tr>\n",
       "    <tr>\n",
       "      <th>1</th>\n",
       "      <td>Geschlecht</td>\n",
       "      <td>männlich</td>\n",
       "      <td>452</td>\n",
       "      <td>0.714060</td>\n",
       "    </tr>\n",
       "    <tr>\n",
       "      <th>2</th>\n",
       "      <td>Geschlecht</td>\n",
       "      <td>weiblich</td>\n",
       "      <td>176</td>\n",
       "      <td>0.278041</td>\n",
       "    </tr>\n",
       "  </tbody>\n",
       "</table>\n",
       "</div>"
      ],
      "text/plain": [
       "      Merkmal           Legende  Anzahl   Prozent\n",
       "0       Alter             14-15     124  0.194053\n",
       "1       Alter             16-17     255  0.399061\n",
       "2       Alter             18-20     148  0.231612\n",
       "3       Alter               >20     112  0.175274\n",
       "4  Schulstufe                 9     112  0.175549\n",
       "0  Schulstufe                10      95  0.148903\n",
       "1  Schulstufe                11     187  0.293103\n",
       "2  Schulstufe                12      71  0.111285\n",
       "3  Schulstufe                13      16  0.025078\n",
       "5  Schulstufe               >13     157  0.246082\n",
       "0      Schule            Andere      71  0.110937\n",
       "1      Schule       HTL Rennweg      52  0.081250\n",
       "2      Schule  HTL Spengergasse     161  0.251563\n",
       "3      Schule               TGM      99  0.154688\n",
       "4      Schule      bautechnikum     176  0.275000\n",
       "5      Schule           hblva17      81  0.126562\n",
       "0   Schulform       Abendkolleg      37  0.057813\n",
       "1   Schulform        Fachschule     110  0.171875\n",
       "2   Schulform               HTL     386  0.603125\n",
       "3   Schulform       Tageskolleg     107  0.167187\n",
       "0  Geschlecht            divers       5  0.007899\n",
       "1  Geschlecht          männlich     452  0.714060\n",
       "2  Geschlecht          weiblich     176  0.278041"
      ]
     },
     "execution_count": 94,
     "metadata": {},
     "output_type": "execute_result"
    }
   ],
   "source": [
    "d=df[['ID', 'Alter', 'Schulstufe', 'Schulform', 'Geschlecht', 'Schule']]\n",
    "d1=d[['ID', 'Alter']].groupby(['Alter']).count().reset_index().rename(columns={'Alter':'Legende'})\n",
    "d1['Merkmal']='Alter'\n",
    "d1['Prozent']=d1.ID/d1.ID.sum()\n",
    "\n",
    "d2=d[['ID', 'Schulstufe']].groupby(['Schulstufe']).count().reset_index().rename(columns={'Schulstufe':'Legende'})\n",
    "d2['Merkmal']='Schulstufe'\n",
    "d2['Legende'] = pd.Categorical(d2['Legende'], [\"9\", \"10\", \"11\", \"12\", \"13\", \">13\"])\n",
    "d2=d2.sort_values(\"Legende\")\n",
    "d2['Prozent']=d2.ID/d2.ID.sum()\n",
    "\n",
    "d3=d[['ID', 'Schule']].groupby(['Schule']).count().reset_index().rename(columns={'Schule':'Legende'})\n",
    "d3['Merkmal']='Schule'\n",
    "d3['Prozent']=d3.ID/d3.ID.sum()\n",
    "\n",
    "d4=d[['ID', 'Schulform']].groupby(['Schulform']).count().reset_index().rename(columns={'Schulform':'Legende'})\n",
    "d4['Merkmal']='Schulform'\n",
    "d4['Prozent']=d4.ID/d4.ID.sum()\n",
    "\n",
    "d5=d[['ID', 'Geschlecht']].groupby(['Geschlecht']).count().reset_index().rename(columns={'Geschlecht':'Legende'})\n",
    "d5['Merkmal']='Geschlecht'\n",
    "d5['Prozent']=d5.ID/d5.ID.sum()\n",
    "\n",
    "\n",
    "d=pd.concat([d1, d2, d3, d4, d5]).rename(columns={'ID':'Anzahl'})\n",
    "fig = px.bar(d, x=\"Merkmal\", y=\"Anzahl\", color=\"Legende\", title=\"Teilnehmer\", text='Prozent', width=700, height=700)\n",
    "fig.update_traces(texttemplate='%{text:.3p}')\n",
    "fig.show()\n",
    "d[['Merkmal', 'Legende', 'Anzahl', 'Prozent']]"
   ]
  },
  {
   "cell_type": "code",
   "execution_count": 108,
   "metadata": {},
   "outputs": [
    {
     "data": {
      "application/vnd.plotly.v1+json": {
       "config": {
        "linkText": "Export to plot.ly",
        "plotlyServerURL": "https://plot.ly",
        "showLink": true
       },
       "data": [
        {
         "boxpoints": false,
         "line": {
          "width": 1.3
         },
         "marker": {
          "color": "rgba(255, 153, 51, 1.0)"
         },
         "name": "F5",
         "orientation": "v",
         "type": "box",
         "y": [
          3,
          3,
          3,
          3,
          2,
          2,
          3,
          2,
          2,
          1,
          3,
          5,
          4,
          5,
          5,
          3,
          3,
          2,
          5,
          2,
          5,
          5,
          2,
          4,
          2,
          5,
          5,
          1,
          3,
          3,
          2,
          5,
          3,
          5,
          5,
          3,
          5,
          3,
          5,
          4,
          3,
          1,
          3,
          2,
          4,
          5,
          4,
          4,
          2,
          4,
          5,
          3,
          4,
          4,
          4,
          4,
          5,
          5,
          5,
          3,
          5,
          5,
          4,
          3,
          2,
          1,
          4,
          5,
          1,
          5,
          3,
          3,
          2,
          2,
          1,
          4,
          1,
          2,
          1,
          1,
          null,
          4,
          3,
          1,
          1,
          2,
          5,
          5,
          5,
          5,
          5,
          3,
          5,
          3,
          2,
          5,
          4,
          3,
          2,
          4,
          3,
          1,
          3,
          3,
          3,
          1,
          3,
          5,
          2,
          4,
          5,
          1,
          5,
          5,
          3,
          2,
          5,
          4,
          5,
          5,
          5,
          3,
          3,
          4,
          5,
          3,
          5,
          5,
          5,
          2,
          4,
          4,
          5,
          4,
          2,
          3,
          3,
          2,
          3,
          1,
          4,
          4,
          3,
          3,
          4,
          3,
          3,
          1,
          4,
          5,
          2,
          2,
          2,
          2,
          4,
          2,
          4,
          4,
          4,
          4,
          3,
          4,
          2,
          4,
          3,
          5,
          5,
          5,
          1,
          3,
          3,
          4,
          3,
          2,
          3,
          3,
          3,
          4,
          1,
          1,
          2,
          2,
          2,
          2,
          4,
          4,
          4,
          1,
          1,
          3,
          2,
          2,
          1,
          2,
          3,
          2,
          4,
          3,
          1,
          3,
          1,
          2,
          3,
          1,
          2,
          4,
          1,
          4,
          3,
          4,
          2,
          2,
          1,
          1,
          2,
          2,
          1,
          2,
          2,
          3,
          1,
          1,
          1,
          3,
          2,
          1,
          3,
          5,
          3,
          3,
          4,
          3,
          1,
          5,
          3,
          5,
          5,
          3,
          3,
          4,
          4,
          2,
          2,
          1,
          4,
          5,
          2,
          4,
          3,
          4,
          3,
          4,
          4,
          2,
          3,
          5,
          3,
          4,
          1,
          4,
          3,
          4,
          3,
          3,
          5,
          1,
          4,
          5,
          5,
          5,
          3,
          4,
          2,
          1,
          5,
          4,
          4,
          4,
          2,
          5,
          4,
          4,
          4,
          3,
          1,
          5,
          2,
          1,
          4,
          2,
          1,
          3,
          1,
          1,
          4,
          1,
          2,
          5,
          3,
          2,
          4,
          2,
          4,
          4,
          3,
          1,
          3,
          1,
          5,
          1,
          5,
          2,
          3,
          2,
          3,
          3,
          4,
          2,
          1,
          1,
          3,
          2,
          4,
          3,
          1,
          2,
          5,
          4,
          4,
          4,
          3,
          4,
          5,
          3,
          5,
          5,
          4,
          5,
          4,
          4,
          3,
          5,
          5,
          3,
          5,
          3,
          4,
          2,
          4,
          1,
          3,
          1,
          3,
          5,
          2,
          4,
          2,
          4,
          4,
          3,
          5,
          3,
          3,
          5,
          3,
          5,
          5,
          2,
          5,
          1,
          1,
          1,
          4,
          1,
          1,
          3,
          1,
          4,
          3,
          2,
          3,
          3,
          4,
          1,
          2,
          3,
          1,
          5,
          1,
          1,
          2,
          3,
          4,
          1,
          1,
          4,
          5,
          3,
          4,
          5,
          2,
          2,
          4,
          2,
          2,
          3,
          3,
          4,
          4,
          1,
          4,
          2,
          3,
          1,
          2,
          1,
          5,
          1,
          3,
          3,
          3,
          5,
          3,
          4,
          2,
          4,
          3,
          1,
          3,
          3,
          2,
          4,
          4,
          4,
          4,
          4,
          5,
          4,
          1,
          5,
          1,
          3,
          4,
          2,
          5,
          3,
          4,
          5,
          1,
          3,
          null,
          3,
          4,
          4,
          2,
          2,
          1,
          4,
          1,
          5,
          3,
          4,
          4,
          4,
          3,
          1,
          1,
          2,
          1,
          2,
          1,
          1,
          2,
          4,
          1,
          3,
          2,
          3,
          3,
          2,
          5,
          3,
          5,
          4,
          3,
          4,
          4,
          4,
          4,
          2,
          3,
          2,
          1,
          1,
          2,
          4,
          2,
          5,
          3,
          2,
          4,
          1,
          1,
          5,
          1,
          2,
          2,
          1,
          2,
          1,
          1,
          4,
          3,
          5,
          2,
          3,
          3,
          1,
          3,
          5,
          3,
          4,
          3,
          2,
          1,
          4,
          3,
          5,
          3,
          4,
          3,
          3,
          4,
          2,
          4,
          3,
          5,
          4,
          3,
          2,
          2,
          2,
          2,
          4,
          3,
          3,
          2,
          2,
          4,
          3,
          2,
          1,
          3,
          5,
          5,
          3,
          5,
          1,
          5,
          5,
          5,
          3,
          3,
          2,
          2,
          2,
          3,
          3,
          2,
          4,
          3,
          5,
          5,
          2,
          3,
          3,
          4,
          1,
          2,
          3,
          3,
          3,
          1,
          3,
          1,
          3,
          2,
          null,
          3,
          2,
          2,
          5,
          5,
          2,
          3,
          3,
          2,
          1,
          3,
          2,
          2,
          3,
          3,
          1,
          3,
          2,
          1,
          3,
          5,
          3,
          3,
          4,
          2,
          4,
          3,
          1,
          2,
          5,
          3,
          3,
          2,
          3,
          1,
          4,
          3,
          1,
          3,
          4,
          2,
          1,
          3,
          1,
          4,
          3,
          2,
          3,
          3,
          2,
          1,
          2
         ]
        },
        {
         "boxpoints": false,
         "line": {
          "width": 1.3
         },
         "marker": {
          "color": "rgba(55, 128, 191, 1.0)"
         },
         "name": "F6",
         "orientation": "v",
         "type": "box",
         "y": [
          3,
          5,
          5,
          4,
          5,
          5,
          5,
          5,
          3,
          4,
          3,
          5,
          5,
          5,
          5,
          4,
          5,
          5,
          5,
          3,
          5,
          5,
          5,
          5,
          5,
          5,
          5,
          5,
          5,
          4,
          4,
          5,
          5,
          3,
          5,
          5,
          5,
          3,
          5,
          5,
          5,
          4,
          5,
          2,
          5,
          5,
          2,
          5,
          1,
          4,
          5,
          5,
          5,
          5,
          4,
          4,
          5,
          5,
          5,
          3,
          5,
          5,
          5,
          3,
          5,
          1,
          5,
          5,
          5,
          4,
          5,
          4,
          3,
          2,
          3,
          5,
          5,
          5,
          4,
          3,
          3,
          4,
          2,
          3,
          3,
          4,
          5,
          5,
          5,
          5,
          5,
          5,
          5,
          3,
          5,
          5,
          4,
          4,
          4,
          4,
          2,
          3,
          4,
          2,
          2,
          5,
          5,
          4,
          1,
          4,
          5,
          5,
          5,
          5,
          5,
          5,
          5,
          5,
          4,
          4,
          4,
          5,
          5,
          5,
          5,
          5,
          5,
          5,
          5,
          3,
          4,
          5,
          5,
          4,
          3,
          3,
          2,
          5,
          5,
          4,
          5,
          4,
          4,
          5,
          5,
          5,
          4,
          5,
          5,
          1,
          3,
          5,
          5,
          2,
          5,
          4,
          4,
          4,
          5,
          3,
          3,
          5,
          3,
          5,
          3,
          4,
          5,
          4,
          3,
          5,
          5,
          5,
          4,
          3,
          4,
          5,
          5,
          5,
          5,
          3,
          5,
          3,
          5,
          3,
          5,
          4,
          4,
          3,
          3,
          5,
          5,
          4,
          4,
          4,
          3,
          3,
          4,
          4,
          5,
          3,
          1,
          2,
          4,
          5,
          4,
          5,
          2,
          5,
          4,
          5,
          4,
          5,
          5,
          5,
          5,
          4,
          4,
          5,
          4,
          3,
          3,
          3,
          4,
          5,
          2,
          1,
          3,
          4,
          4,
          null,
          5,
          4,
          5,
          5,
          5,
          4,
          5,
          4,
          5,
          4,
          4,
          4,
          4,
          5,
          5,
          4,
          5,
          4,
          4,
          4,
          2,
          5,
          5,
          4,
          3,
          5,
          5,
          5,
          4,
          4,
          5,
          5,
          2,
          5,
          4,
          5,
          5,
          5,
          5,
          4,
          4,
          4,
          4,
          5,
          4,
          4,
          4,
          5,
          4,
          5,
          5,
          4,
          5,
          5,
          5,
          5,
          3,
          4,
          3,
          5,
          4,
          5,
          3,
          5,
          5,
          2,
          1,
          5,
          5,
          4,
          3,
          4,
          4,
          5,
          2,
          3,
          5,
          3,
          5,
          3,
          5,
          4,
          5,
          4,
          5,
          4,
          5,
          4,
          4,
          1,
          4,
          5,
          4,
          5,
          3,
          4,
          5,
          4,
          4,
          5,
          5,
          3,
          5,
          3,
          4,
          5,
          5,
          5,
          5,
          4,
          5,
          5,
          5,
          5,
          5,
          2,
          5,
          5,
          5,
          3,
          4,
          5,
          3,
          5,
          3,
          3,
          2,
          4,
          5,
          4,
          2,
          5,
          4,
          3,
          5,
          5,
          5,
          5,
          4,
          4,
          1,
          4,
          4,
          5,
          4,
          3,
          1,
          4,
          5,
          4,
          5,
          5,
          3,
          4,
          3,
          2,
          3,
          4,
          3,
          4,
          4,
          4,
          5,
          4,
          5,
          3,
          4,
          4,
          5,
          5,
          3,
          3,
          4,
          3,
          5,
          4,
          5,
          5,
          4,
          5,
          5,
          4,
          5,
          3,
          2,
          2,
          3,
          3,
          3,
          4,
          5,
          4,
          4,
          5,
          5,
          5,
          5,
          5,
          4,
          4,
          3,
          5,
          5,
          5,
          5,
          5,
          4,
          5,
          4,
          5,
          3,
          5,
          4,
          4,
          3,
          3,
          5,
          5,
          4,
          4,
          null,
          4,
          4,
          4,
          5,
          5,
          3,
          5,
          1,
          5,
          2,
          4,
          5,
          4,
          4,
          2,
          5,
          3,
          3,
          5,
          3,
          2,
          4,
          5,
          1,
          3,
          3,
          2,
          5,
          5,
          5,
          5,
          4,
          5,
          2,
          4,
          3,
          3,
          5,
          5,
          3,
          5,
          4,
          5,
          5,
          2,
          3,
          4,
          5,
          3,
          5,
          1,
          5,
          5,
          4,
          5,
          5,
          4,
          3,
          3,
          2,
          4,
          5,
          5,
          5,
          4,
          5,
          4,
          5,
          4,
          4,
          5,
          3,
          4,
          4,
          5,
          3,
          4,
          5,
          5,
          5,
          5,
          5,
          4,
          null,
          3,
          5,
          5,
          5,
          4,
          4,
          4,
          5,
          5,
          4,
          4,
          4,
          4,
          5,
          5,
          4,
          5,
          5,
          5,
          3,
          4,
          5,
          2,
          5,
          2,
          5,
          4,
          5,
          5,
          2,
          5,
          4,
          5,
          4,
          4,
          3,
          5,
          5,
          5,
          4,
          3,
          4,
          4,
          4,
          3,
          3,
          5,
          3,
          5,
          2,
          5,
          4,
          3,
          4,
          3,
          4,
          4,
          3,
          3,
          4,
          3,
          2,
          3,
          3,
          4,
          2,
          3,
          5,
          3,
          3,
          2,
          1,
          4,
          5,
          4,
          3,
          5,
          3,
          5,
          3,
          5,
          4,
          4,
          5,
          4,
          4,
          4,
          5,
          4,
          3,
          4,
          4,
          5,
          4,
          5,
          3,
          5,
          4,
          1,
          3,
          5,
          4,
          4,
          4,
          4
         ]
        },
        {
         "boxpoints": false,
         "line": {
          "width": 1.3
         },
         "marker": {
          "color": "rgba(50, 171, 96, 1.0)"
         },
         "name": "F7",
         "orientation": "v",
         "type": "box",
         "y": [
          5,
          5,
          5,
          5,
          5,
          5,
          2,
          5,
          5,
          5,
          5,
          4,
          4,
          5,
          5,
          5,
          5,
          5,
          5,
          2,
          5,
          5,
          5,
          5,
          1,
          3,
          5,
          5,
          1,
          5,
          5,
          5,
          5,
          4,
          5,
          5,
          5,
          4,
          5,
          5,
          5,
          5,
          3,
          5,
          5,
          5,
          4,
          2,
          5,
          5,
          5,
          5,
          5,
          5,
          4,
          4,
          5,
          5,
          5,
          5,
          5,
          5,
          5,
          5,
          1,
          1,
          5,
          5,
          2,
          5,
          5,
          5,
          5,
          5,
          5,
          1,
          5,
          5,
          4,
          5,
          5,
          4,
          4,
          5,
          5,
          5,
          5,
          1,
          2,
          5,
          5,
          1,
          1,
          1,
          4,
          2,
          5,
          5,
          5,
          5,
          5,
          4,
          5,
          5,
          5,
          5,
          5,
          5,
          5,
          5,
          5,
          5,
          5,
          5,
          5,
          5,
          5,
          5,
          5,
          5,
          5,
          3,
          1,
          1,
          3,
          5,
          5,
          5,
          5,
          5,
          5,
          5,
          5,
          3,
          5,
          5,
          5,
          4,
          2,
          5,
          5,
          5,
          5,
          5,
          5,
          5,
          5,
          5,
          5,
          2,
          5,
          5,
          1,
          4,
          5,
          5,
          5,
          1,
          5,
          5,
          5,
          5,
          5,
          5,
          5,
          5,
          5,
          5,
          5,
          2,
          5,
          5,
          3,
          5,
          3,
          5,
          4,
          5,
          5,
          4,
          5,
          5,
          4,
          5,
          5,
          5,
          5,
          3,
          5,
          5,
          2,
          5,
          5,
          5,
          2,
          5,
          2,
          5,
          5,
          5,
          1,
          5,
          5,
          5,
          2,
          5,
          5,
          3,
          5,
          5,
          3,
          2,
          5,
          5,
          2,
          5,
          5,
          5,
          3,
          5,
          5,
          5,
          3,
          5,
          null,
          1,
          5,
          5,
          5,
          2,
          5,
          5,
          5,
          5,
          4,
          5,
          5,
          1,
          5,
          1,
          3,
          3,
          5,
          5,
          3,
          1,
          5,
          5,
          2,
          1,
          2,
          5,
          3,
          5,
          2,
          5,
          5,
          5,
          5,
          5,
          5,
          5,
          5,
          5,
          5,
          5,
          5,
          5,
          5,
          5,
          1,
          1,
          3,
          5,
          1,
          5,
          1,
          5,
          5,
          5,
          5,
          5,
          5,
          5,
          5,
          5,
          5,
          5,
          5,
          4,
          3,
          5,
          5,
          5,
          5,
          5,
          5,
          5,
          5,
          4,
          5,
          5,
          5,
          5,
          5,
          4,
          5,
          5,
          5,
          5,
          5,
          3,
          5,
          5,
          5,
          5,
          5,
          5,
          5,
          5,
          5,
          5,
          4,
          5,
          5,
          5,
          1,
          5,
          5,
          1,
          5,
          5,
          5,
          5,
          5,
          5,
          5,
          5,
          5,
          5,
          5,
          1,
          5,
          5,
          5,
          4,
          4,
          4,
          4,
          1,
          1,
          1,
          2,
          5,
          1,
          1,
          5,
          5,
          5,
          5,
          5,
          5,
          1,
          5,
          1,
          4,
          5,
          1,
          5,
          1,
          2,
          5,
          5,
          5,
          5,
          5,
          1,
          5,
          5,
          5,
          3,
          4,
          5,
          5,
          5,
          2,
          5,
          5,
          5,
          5,
          5,
          5,
          5,
          3,
          5,
          5,
          5,
          5,
          5,
          5,
          5,
          5,
          4,
          5,
          4,
          2,
          5,
          5,
          5,
          5,
          5,
          2,
          5,
          4,
          5,
          5,
          5,
          5,
          5,
          5,
          5,
          5,
          5,
          5,
          3,
          5,
          5,
          5,
          3,
          5,
          5,
          1,
          5,
          5,
          5,
          5,
          5,
          1,
          5,
          5,
          5,
          5,
          5,
          3,
          4,
          5,
          5,
          5,
          5,
          5,
          null,
          5,
          5,
          5,
          5,
          5,
          5,
          5,
          5,
          4,
          1,
          1,
          5,
          5,
          5,
          5,
          5,
          3,
          5,
          5,
          5,
          1,
          1,
          4,
          5,
          5,
          5,
          5,
          5,
          5,
          3,
          5,
          3,
          5,
          4,
          5,
          5,
          2,
          5,
          5,
          5,
          4,
          5,
          5,
          5,
          4,
          5,
          5,
          5,
          4,
          4,
          1,
          4,
          5,
          5,
          5,
          5,
          5,
          5,
          5,
          3,
          3,
          5,
          2,
          4,
          4,
          5,
          4,
          5,
          5,
          5,
          5,
          5,
          3,
          5,
          5,
          5,
          5,
          4,
          5,
          5,
          5,
          5,
          5,
          5,
          5,
          5,
          5,
          5,
          5,
          4,
          5,
          5,
          5,
          2,
          5,
          5,
          5,
          5,
          5,
          5,
          5,
          5,
          1,
          5,
          5,
          5,
          4,
          4,
          5,
          5,
          5,
          4,
          5,
          4,
          5,
          5,
          5,
          4,
          5,
          3,
          1,
          5,
          5,
          1,
          3,
          4,
          4,
          5,
          5,
          5,
          2,
          3,
          5,
          3,
          5,
          5,
          3,
          5,
          5,
          5,
          3,
          5,
          5,
          5,
          5,
          4,
          5,
          2,
          5,
          5,
          5,
          3,
          3,
          5,
          5,
          3,
          5,
          5,
          5,
          3,
          5,
          5,
          5,
          5,
          5,
          5,
          1,
          4,
          5,
          5,
          5,
          5,
          5,
          5,
          5,
          3,
          5,
          5,
          5,
          5,
          5,
          5,
          5,
          5,
          5,
          5,
          5,
          5,
          5
         ]
        },
        {
         "boxpoints": false,
         "line": {
          "width": 1.3
         },
         "marker": {
          "color": "rgba(128, 0, 128, 1.0)"
         },
         "name": "F8",
         "orientation": "v",
         "type": "box",
         "y": [
          3,
          1,
          2,
          4,
          3,
          4,
          3,
          1,
          3,
          5,
          3,
          1,
          3,
          1,
          2,
          5,
          2,
          4,
          2,
          4,
          2,
          2,
          2,
          4,
          4,
          1,
          1,
          4,
          2,
          3,
          4,
          3,
          2,
          1,
          1,
          2,
          1,
          4,
          3,
          3,
          3,
          3,
          2,
          5,
          3,
          5,
          4,
          3,
          5,
          3,
          2,
          3,
          2,
          2,
          3,
          3,
          1,
          1,
          1,
          5,
          1,
          1,
          3,
          3,
          2,
          5,
          1,
          1,
          5,
          3,
          4,
          4,
          4,
          5,
          5,
          2,
          3,
          3,
          5,
          5,
          5,
          2,
          4,
          5,
          3,
          2,
          1,
          1,
          1,
          1,
          1,
          3,
          3,
          3,
          4,
          3,
          2,
          3,
          5,
          1,
          4,
          4,
          2,
          2,
          3,
          4,
          3,
          1,
          5,
          3,
          1,
          4,
          2,
          1,
          2,
          4,
          1,
          4,
          3,
          1,
          1,
          3,
          1,
          2,
          1,
          2,
          2,
          1,
          1,
          5,
          3,
          1,
          1,
          3,
          4,
          4,
          3,
          4,
          3,
          5,
          2,
          4,
          3,
          1,
          4,
          3,
          3,
          4,
          3,
          4,
          4,
          5,
          4,
          2,
          3,
          4,
          3,
          5,
          1,
          2,
          3,
          3,
          5,
          3,
          2,
          1,
          1,
          1,
          2,
          4,
          2,
          3,
          2,
          2,
          4,
          3,
          5,
          2,
          5,
          5,
          5,
          2,
          4,
          4,
          3,
          3,
          2,
          5,
          4,
          4,
          5,
          3,
          4,
          4,
          4,
          4,
          2,
          4,
          5,
          5,
          1,
          5,
          5,
          4,
          4,
          2,
          5,
          5,
          4,
          4,
          5,
          5,
          1,
          5,
          5,
          4,
          5,
          5,
          5,
          2,
          5,
          5,
          5,
          2,
          5,
          5,
          3,
          1,
          4,
          3,
          2,
          3,
          2,
          3,
          4,
          1,
          4,
          2,
          2,
          3,
          3,
          5,
          5,
          3,
          3,
          1,
          3,
          2,
          4,
          3,
          2,
          4,
          2,
          4,
          2,
          3,
          3,
          4,
          5,
          3,
          2,
          2,
          3,
          2,
          1,
          5,
          2,
          1,
          3,
          1,
          2,
          3,
          5,
          3,
          1,
          2,
          3,
          4,
          4,
          3,
          4,
          3,
          2,
          2,
          5,
          4,
          4,
          5,
          3,
          5,
          5,
          4,
          4,
          5,
          3,
          5,
          5,
          5,
          4,
          5,
          5,
          5,
          5,
          4,
          3,
          5,
          5,
          5,
          5,
          5,
          5,
          5,
          3,
          4,
          3,
          4,
          3,
          4,
          1,
          5,
          2,
          4,
          2,
          3,
          1,
          5,
          1,
          4,
          3,
          4,
          2,
          2,
          2,
          3,
          1,
          3,
          1,
          1,
          4,
          2,
          3,
          1,
          3,
          4,
          2,
          4,
          3,
          2,
          2,
          3,
          2,
          5,
          4,
          2,
          3,
          1,
          4,
          4,
          5,
          3,
          2,
          4,
          3,
          2,
          2,
          1,
          2,
          3,
          1,
          5,
          5,
          4,
          3,
          1,
          4,
          4,
          5,
          3,
          3,
          3,
          5,
          5,
          3,
          5,
          3,
          3,
          4,
          1,
          4,
          5,
          4,
          3,
          2,
          5,
          5,
          3,
          2,
          3,
          1,
          1,
          4,
          4,
          4,
          4,
          3,
          2,
          1,
          5,
          5,
          5,
          3,
          2,
          5,
          4,
          5,
          3,
          3,
          5,
          3,
          3,
          3,
          1,
          3,
          2,
          4,
          3,
          3,
          1,
          3,
          2,
          5,
          2,
          1,
          3,
          1,
          3,
          1,
          4,
          5,
          5,
          5,
          4,
          2,
          4,
          2,
          3,
          1,
          1,
          4,
          5,
          null,
          3,
          3,
          2,
          4,
          2,
          5,
          2,
          5,
          2,
          3,
          3,
          2,
          2,
          2,
          1,
          2,
          3,
          5,
          3,
          5,
          5,
          2,
          4,
          5,
          5,
          4,
          4,
          2,
          3,
          1,
          4,
          2,
          1,
          5,
          1,
          4,
          2,
          2,
          4,
          4,
          4,
          5,
          4,
          1,
          4,
          2,
          3,
          2,
          5,
          2,
          5,
          3,
          5,
          5,
          3,
          4,
          4,
          3,
          5,
          4,
          3,
          4,
          1,
          3,
          5,
          3,
          5,
          2,
          2,
          2,
          2,
          2,
          5,
          5,
          3,
          4,
          1,
          4,
          4,
          1,
          3,
          3,
          5,
          2,
          1,
          3,
          3,
          3,
          4,
          4,
          5,
          4,
          1,
          4,
          4,
          5,
          3,
          1,
          1,
          4,
          4,
          2,
          2,
          3,
          1,
          1,
          5,
          3,
          1,
          1,
          3,
          3,
          3,
          5,
          5,
          3,
          2,
          4,
          3,
          3,
          4,
          2,
          3,
          3,
          5,
          3,
          5,
          5,
          4,
          3,
          3,
          5,
          4,
          4,
          3,
          2,
          5,
          2,
          4,
          4,
          2,
          2,
          5,
          3,
          5,
          5,
          4,
          5,
          5,
          5,
          5,
          5,
          5,
          5,
          4,
          2,
          4,
          1,
          3,
          4,
          4,
          4,
          1,
          3,
          5,
          4,
          1,
          4,
          1,
          4,
          3,
          4,
          4,
          4,
          5,
          4,
          3,
          5,
          3,
          3,
          4,
          5,
          4,
          5,
          3,
          2,
          3,
          3,
          4
         ]
        },
        {
         "boxpoints": false,
         "line": {
          "width": 1.3
         },
         "marker": {
          "color": "rgba(219, 64, 82, 1.0)"
         },
         "name": "F9",
         "orientation": "v",
         "type": "box",
         "y": [
          4,
          5,
          3,
          4,
          4,
          5,
          5,
          4,
          3,
          4,
          3,
          5,
          5,
          3,
          3,
          4,
          3,
          4,
          3,
          5,
          3,
          3,
          4,
          2,
          3,
          4,
          5,
          4,
          3,
          3,
          4,
          4,
          4,
          3,
          5,
          4,
          4,
          5,
          5,
          3,
          3,
          5,
          4,
          4,
          5,
          3,
          5,
          2,
          3,
          3,
          4,
          4,
          3,
          2,
          4,
          4,
          2,
          2,
          2,
          5,
          1,
          1,
          2,
          4,
          3,
          3,
          5,
          1,
          4,
          3,
          4,
          3,
          3,
          5,
          5,
          2,
          3,
          3,
          5,
          3,
          5,
          3,
          4,
          5,
          3,
          2,
          1,
          1,
          3,
          1,
          3,
          1,
          1,
          3,
          4,
          1,
          2,
          2,
          5,
          3,
          4,
          4,
          3,
          3,
          2,
          5,
          2,
          3,
          5,
          3,
          2,
          3,
          2,
          2,
          2,
          3,
          4,
          4,
          5,
          3,
          3,
          4,
          2,
          3,
          1,
          4,
          2,
          1,
          4,
          4,
          4,
          5,
          5,
          5,
          4,
          3,
          5,
          5,
          4,
          5,
          1,
          4,
          3,
          1,
          3,
          3,
          4,
          4,
          4,
          3,
          3,
          5,
          5,
          4,
          3,
          4,
          3,
          5,
          3,
          2,
          4,
          3,
          5,
          4,
          4,
          4,
          1,
          1,
          3,
          4,
          4,
          1,
          3,
          3,
          4,
          4,
          5,
          4,
          5,
          5,
          5,
          4,
          5,
          5,
          4,
          5,
          3,
          4,
          5,
          3,
          5,
          5,
          5,
          4,
          4,
          3,
          3,
          2,
          3,
          5,
          5,
          4,
          4,
          4,
          5,
          3,
          1,
          5,
          5,
          3,
          5,
          5,
          5,
          5,
          2,
          5,
          5,
          5,
          3,
          5,
          5,
          5,
          5,
          2,
          5,
          5,
          3,
          2,
          2,
          3,
          3,
          3,
          5,
          3,
          5,
          1,
          4,
          3,
          4,
          3,
          2,
          4,
          5,
          4,
          1,
          1,
          3,
          3,
          4,
          3,
          5,
          2,
          1,
          3,
          2,
          3,
          2,
          5,
          5,
          2,
          2,
          3,
          4,
          4,
          1,
          5,
          3,
          1,
          3,
          1,
          3,
          3,
          4,
          4,
          1,
          3,
          3,
          2,
          3,
          3,
          5,
          2,
          3,
          4,
          5,
          4,
          5,
          4,
          3,
          5,
          5,
          5,
          4,
          5,
          3,
          5,
          4,
          5,
          4,
          4,
          3,
          5,
          5,
          4,
          4,
          5,
          4,
          5,
          5,
          5,
          5,
          5,
          4,
          4,
          4,
          3,
          5,
          4,
          5,
          5,
          3,
          5,
          4,
          4,
          1,
          5,
          2,
          2,
          3,
          2,
          5,
          4,
          1,
          2,
          1,
          4,
          1,
          1,
          4,
          4,
          3,
          1,
          2,
          2,
          2,
          4,
          3,
          1,
          4,
          2,
          3,
          5,
          4,
          1,
          2,
          4,
          4,
          5,
          4,
          2,
          5,
          3,
          3,
          4,
          3,
          2,
          2,
          3,
          1,
          3,
          5,
          4,
          1,
          5,
          3,
          2,
          5,
          4,
          2,
          3,
          5,
          4,
          4,
          5,
          4,
          3,
          4,
          2,
          4,
          4,
          4,
          4,
          3,
          3,
          5,
          4,
          null,
          4,
          3,
          5,
          5,
          5,
          4,
          3,
          4,
          3,
          3,
          5,
          3,
          3,
          2,
          3,
          5,
          3,
          5,
          4,
          null,
          5,
          4,
          3,
          4,
          5,
          3,
          2,
          4,
          2,
          3,
          5,
          3,
          3,
          5,
          1,
          1,
          5,
          1,
          3,
          3,
          2,
          5,
          5,
          3,
          4,
          4,
          5,
          3,
          2,
          1,
          1,
          3,
          4,
          null,
          3,
          5,
          3,
          4,
          1,
          4,
          1,
          4,
          3,
          2,
          3,
          null,
          1,
          3,
          4,
          2,
          4,
          4,
          1,
          4,
          5,
          1,
          3,
          5,
          4,
          3,
          4,
          2,
          3,
          null,
          4,
          null,
          3,
          5,
          3,
          2,
          3,
          3,
          5,
          3,
          3,
          4,
          3,
          4,
          5,
          5,
          3,
          4,
          5,
          3,
          5,
          5,
          5,
          3,
          3,
          4,
          4,
          3,
          1,
          5,
          4,
          4,
          1,
          4,
          2,
          4,
          5,
          1,
          3,
          3,
          3,
          4,
          4,
          5,
          2,
          4,
          3,
          5,
          2,
          1,
          2,
          3,
          5,
          2,
          3,
          1,
          3,
          3,
          4,
          3,
          3,
          2,
          3,
          3,
          3,
          4,
          4,
          2,
          2,
          3,
          5,
          3,
          1,
          5,
          2,
          3,
          5,
          3,
          2,
          1,
          3,
          3,
          4,
          5,
          3,
          4,
          3,
          4,
          4,
          3,
          3,
          2,
          3,
          5,
          4,
          3,
          5,
          4,
          3,
          4,
          2,
          4,
          5,
          4,
          4,
          3,
          5,
          1,
          3,
          3,
          2,
          2,
          4,
          5,
          5,
          4,
          3,
          5,
          3,
          4,
          3,
          4,
          3,
          5,
          3,
          4,
          5,
          3,
          5,
          4,
          4,
          5,
          4,
          4,
          5,
          3,
          5,
          5,
          4,
          4,
          4,
          2,
          3,
          5,
          4,
          null,
          3,
          4,
          4,
          5,
          4,
          3,
          5,
          4,
          5,
          4,
          4,
          2,
          4
         ]
        },
        {
         "boxpoints": false,
         "line": {
          "width": 1.3
         },
         "marker": {
          "color": "rgba(0, 128, 128, 1.0)"
         },
         "name": "F16",
         "orientation": "v",
         "type": "box",
         "y": [
          3,
          4,
          2,
          2,
          4,
          4,
          5,
          3,
          4,
          4,
          5,
          5,
          5,
          2,
          2,
          2,
          3,
          4,
          5,
          5,
          3,
          1,
          2,
          4,
          1,
          4,
          3,
          3,
          3,
          3,
          4,
          3,
          4,
          5,
          1,
          5,
          5,
          3,
          3,
          5,
          2,
          4,
          2,
          3,
          3,
          3,
          4,
          1,
          1,
          3,
          1,
          3,
          3,
          3,
          4,
          4,
          3,
          2,
          3,
          3,
          4,
          4,
          3,
          3,
          1,
          4,
          2,
          3,
          3,
          1,
          4,
          4,
          2,
          5,
          4,
          4,
          3,
          3,
          1,
          3,
          3,
          3,
          3,
          4,
          3,
          4,
          1,
          1,
          4,
          5,
          2,
          1,
          2,
          2,
          5,
          4,
          2,
          2,
          5,
          1,
          5,
          3,
          3,
          2,
          2,
          3,
          2,
          3,
          1,
          3,
          1,
          2,
          4,
          3,
          4,
          4,
          5,
          1,
          2,
          5,
          5,
          5,
          4,
          5,
          3,
          1,
          3,
          1,
          4,
          2,
          1,
          3,
          1,
          2,
          4,
          4,
          4,
          4,
          2,
          2,
          1,
          2,
          3,
          2,
          5,
          4,
          2,
          2,
          4,
          1,
          2,
          3,
          5,
          3,
          4,
          2,
          2,
          4,
          1,
          2,
          4,
          2,
          3,
          4,
          3,
          3,
          2,
          2,
          3,
          4,
          5,
          3,
          3,
          4,
          1,
          1,
          3,
          3,
          4,
          1,
          2,
          2,
          5,
          3,
          2,
          3,
          3,
          1,
          4,
          3,
          3,
          1,
          3,
          4,
          5,
          1,
          4,
          3,
          3,
          4,
          1,
          3,
          2,
          3,
          1,
          2,
          3,
          1,
          4,
          1,
          1,
          1,
          3,
          1,
          2,
          2,
          2,
          4,
          2,
          4,
          4,
          1,
          2,
          3,
          1,
          3,
          2,
          2,
          5,
          3,
          5,
          3,
          4,
          4,
          4,
          null,
          1,
          3,
          1,
          4,
          2,
          1,
          3,
          5,
          2,
          1,
          4,
          4,
          3,
          3,
          5,
          2,
          2,
          5,
          2,
          3,
          2,
          1,
          4,
          3,
          3,
          3,
          2,
          1,
          3,
          1,
          3,
          1,
          4,
          null,
          3,
          4,
          1,
          5,
          1,
          4,
          3,
          2,
          5,
          3,
          1,
          3,
          3,
          1,
          1,
          3,
          5,
          3,
          5,
          4,
          3,
          4,
          1,
          3,
          3,
          2,
          5,
          null,
          2,
          2,
          1,
          2,
          1,
          2,
          4,
          2,
          1,
          2,
          3,
          3,
          5,
          4,
          4,
          2,
          3,
          4,
          3,
          4,
          1,
          5,
          2,
          1,
          3,
          2,
          5,
          2,
          3,
          2,
          3,
          4,
          2,
          2,
          null,
          1,
          1,
          3,
          4,
          1,
          3,
          2,
          3,
          3,
          1,
          2,
          3,
          4,
          4,
          3,
          1,
          4,
          4,
          5,
          4,
          1,
          5,
          3,
          3,
          4,
          1,
          4,
          4,
          3,
          4,
          4,
          4,
          4,
          2,
          2,
          2,
          2,
          3,
          3,
          1,
          1,
          1,
          2,
          2,
          3,
          5,
          3,
          5,
          5,
          4,
          3,
          4,
          4,
          1,
          2,
          2,
          3,
          3,
          4,
          2,
          1,
          5,
          4,
          3,
          3,
          5,
          2,
          3,
          1,
          4,
          3,
          3,
          5,
          4,
          1,
          3,
          1,
          2,
          2,
          5,
          5,
          5,
          3,
          1,
          2,
          3,
          2,
          3,
          1,
          2,
          null,
          4,
          2,
          2,
          1,
          3,
          4,
          3,
          1,
          3,
          3,
          1,
          4,
          4,
          4,
          4,
          2,
          1,
          4,
          2,
          2,
          1,
          1,
          3,
          1,
          3,
          4,
          null,
          3,
          4,
          4,
          4,
          2,
          3,
          5,
          1,
          4,
          2,
          1,
          3,
          1,
          1,
          2,
          2,
          2,
          1,
          3,
          2,
          5,
          1,
          1,
          1,
          2,
          3,
          3,
          4,
          1,
          1,
          4,
          5,
          4,
          1,
          4,
          2,
          3,
          1,
          5,
          3,
          2,
          2,
          3,
          4,
          3,
          3,
          5,
          3,
          3,
          2,
          null,
          5,
          5,
          1,
          4,
          3,
          1,
          3,
          5,
          3,
          1,
          3,
          1,
          2,
          2,
          1,
          1,
          3,
          1,
          3,
          1,
          3,
          3,
          1,
          1,
          3,
          2,
          1,
          4,
          1,
          2,
          1,
          3,
          3,
          1,
          2,
          3,
          3,
          4,
          4,
          2,
          2,
          1,
          3,
          1,
          5,
          3,
          2,
          2,
          4,
          1,
          3,
          4,
          4,
          null,
          null,
          3,
          3,
          1,
          2,
          5,
          3,
          3,
          1,
          1,
          4,
          1,
          2,
          1,
          3,
          4,
          3,
          5,
          5,
          3,
          4,
          2,
          5,
          2,
          2,
          1,
          5,
          2,
          4,
          1,
          1,
          5,
          5,
          3,
          4,
          2,
          3,
          4,
          2,
          3,
          3,
          1,
          4,
          3,
          null,
          4,
          2,
          null,
          2,
          3,
          1,
          1,
          3,
          5,
          2,
          4,
          3,
          2,
          3,
          3,
          3,
          1,
          3,
          3,
          3,
          3,
          5,
          4,
          5,
          4,
          3,
          3,
          3,
          3,
          5,
          1,
          1,
          5,
          3,
          3,
          2,
          4,
          1,
          2
         ]
        },
        {
         "boxpoints": false,
         "line": {
          "width": 1.3
         },
         "marker": {
          "color": "rgba(255, 255, 51, 1.0)"
         },
         "name": "F17",
         "orientation": "v",
         "type": "box",
         "y": [
          5,
          5,
          2,
          2,
          5,
          2,
          4,
          1,
          3,
          2,
          3,
          5,
          4,
          5,
          5,
          3,
          5,
          1,
          5,
          5,
          5,
          5,
          2,
          5,
          2,
          5,
          5,
          1,
          5,
          3,
          1,
          4,
          4,
          5,
          5,
          4,
          5,
          3,
          3,
          3,
          4,
          1,
          5,
          2,
          5,
          5,
          3,
          5,
          5,
          4,
          5,
          4,
          3,
          1,
          4,
          4,
          5,
          5,
          5,
          2,
          5,
          5,
          5,
          5,
          3,
          1,
          5,
          3,
          1,
          4,
          5,
          4,
          1,
          2,
          2,
          3,
          2,
          2,
          1,
          2,
          null,
          1,
          2,
          1,
          2,
          3,
          5,
          5,
          5,
          5,
          5,
          5,
          5,
          5,
          5,
          5,
          1,
          4,
          1,
          1,
          1,
          4,
          2,
          2,
          3,
          2,
          3,
          5,
          5,
          4,
          5,
          null,
          5,
          5,
          4,
          1,
          5,
          3,
          5,
          5,
          5,
          3,
          5,
          4,
          5,
          5,
          5,
          5,
          4,
          2,
          5,
          5,
          5,
          3,
          1,
          3,
          5,
          1,
          5,
          2,
          5,
          4,
          5,
          1,
          1,
          4,
          4,
          1,
          5,
          5,
          2,
          5,
          5,
          4,
          3,
          2,
          3,
          2,
          5,
          3,
          1,
          4,
          2,
          4,
          3,
          5,
          5,
          5,
          4,
          4,
          4,
          4,
          4,
          2,
          3,
          3,
          4,
          4,
          1,
          1,
          3,
          2,
          3,
          3,
          3,
          5,
          5,
          1,
          1,
          4,
          1,
          4,
          1,
          2,
          2,
          1,
          4,
          5,
          2,
          5,
          1,
          5,
          1,
          2,
          2,
          4,
          1,
          5,
          2,
          2,
          2,
          5,
          1,
          1,
          3,
          1,
          1,
          1,
          1,
          4,
          1,
          1,
          1,
          4,
          2,
          1,
          null,
          5,
          null,
          null,
          null,
          null,
          null,
          5,
          5,
          null,
          3,
          1,
          4,
          5,
          1,
          3,
          3,
          2,
          3,
          5,
          2,
          5,
          4,
          5,
          5,
          5,
          5,
          3,
          4,
          5,
          3,
          3,
          5,
          4,
          2,
          4,
          4,
          5,
          5,
          1,
          5,
          5,
          5,
          null,
          1,
          5,
          3,
          2,
          5,
          5,
          5,
          5,
          3,
          5,
          3,
          4,
          4,
          5,
          1,
          1,
          4,
          1,
          3,
          4,
          2,
          5,
          1,
          1,
          5,
          5,
          5,
          null,
          1,
          1,
          1,
          2,
          1,
          4,
          5,
          1,
          2,
          1,
          5,
          1,
          1,
          2,
          3,
          1,
          3,
          1,
          5,
          4,
          1,
          1,
          3,
          2,
          1,
          3,
          5,
          1,
          5,
          3,
          2,
          5,
          4,
          5,
          4,
          5,
          5,
          5,
          5,
          5,
          5,
          4,
          1,
          5,
          3,
          4,
          5,
          2,
          3,
          5,
          5,
          3,
          1,
          3,
          1,
          5,
          4,
          3,
          5,
          5,
          4,
          2,
          5,
          2,
          5,
          5,
          5,
          5,
          5,
          5,
          5,
          1,
          3,
          1,
          4,
          1,
          1,
          2,
          null,
          3,
          1,
          4,
          3,
          5,
          4,
          1,
          2,
          3,
          2,
          5,
          1,
          1,
          1,
          3,
          3,
          1,
          3,
          4,
          5,
          3,
          1,
          1,
          3,
          1,
          4,
          1,
          2,
          5,
          1,
          1,
          1,
          1,
          5,
          1,
          5,
          1,
          3,
          1,
          3,
          1,
          3,
          1,
          4,
          3,
          4,
          5,
          3,
          5,
          5,
          1,
          3,
          4,
          2,
          5,
          5,
          5,
          5,
          3,
          5,
          4,
          1,
          5,
          1,
          4,
          5,
          2,
          5,
          5,
          5,
          5,
          1,
          1,
          null,
          2,
          4,
          4,
          3,
          1,
          1,
          5,
          1,
          5,
          3,
          4,
          4,
          5,
          2,
          4,
          1,
          1,
          1,
          3,
          2,
          2,
          4,
          3,
          1,
          3,
          3,
          5,
          4,
          3,
          5,
          2,
          5,
          5,
          3,
          4,
          4,
          5,
          5,
          2,
          2,
          3,
          1,
          1,
          1,
          3,
          1,
          2,
          1,
          2,
          4,
          null,
          2,
          3,
          1,
          5,
          3,
          1,
          1,
          5,
          2,
          5,
          1,
          5,
          1,
          1,
          3,
          1,
          4,
          5,
          2,
          5,
          3,
          1,
          1,
          3,
          4,
          5,
          3,
          3,
          1,
          5,
          5,
          1,
          5,
          3,
          5,
          4,
          4,
          1,
          1,
          2,
          3,
          2,
          5,
          5,
          2,
          1,
          5,
          2,
          3,
          3,
          1,
          4,
          5,
          null,
          null,
          1,
          4,
          5,
          5,
          3,
          4,
          4,
          1,
          3,
          5,
          5,
          5,
          5,
          3,
          5,
          5,
          3,
          5,
          3,
          4,
          1,
          5,
          1,
          2,
          4,
          1,
          2,
          1,
          1,
          2,
          1,
          5,
          1,
          2,
          5,
          5,
          4,
          1,
          5,
          1,
          1,
          4,
          2,
          null,
          1,
          1,
          null,
          4,
          1,
          1,
          5,
          4,
          5,
          5,
          5,
          3,
          5,
          3,
          1,
          1,
          5,
          1,
          1,
          2,
          4,
          1,
          1,
          3,
          1,
          5,
          5,
          2,
          2,
          5,
          2,
          1,
          4,
          1,
          5,
          4,
          1,
          null,
          3
         ]
        }
       ],
       "layout": {
        "height": 400,
        "legend": {
         "bgcolor": "#F5F6F9",
         "font": {
          "color": "#4D5663"
         }
        },
        "paper_bgcolor": "#F5F6F9",
        "plot_bgcolor": "#F5F6F9",
        "template": {
         "data": {
          "bar": [
           {
            "error_x": {
             "color": "#2a3f5f"
            },
            "error_y": {
             "color": "#2a3f5f"
            },
            "marker": {
             "line": {
              "color": "#E5ECF6",
              "width": 0.5
             }
            },
            "type": "bar"
           }
          ],
          "barpolar": [
           {
            "marker": {
             "line": {
              "color": "#E5ECF6",
              "width": 0.5
             }
            },
            "type": "barpolar"
           }
          ],
          "carpet": [
           {
            "aaxis": {
             "endlinecolor": "#2a3f5f",
             "gridcolor": "white",
             "linecolor": "white",
             "minorgridcolor": "white",
             "startlinecolor": "#2a3f5f"
            },
            "baxis": {
             "endlinecolor": "#2a3f5f",
             "gridcolor": "white",
             "linecolor": "white",
             "minorgridcolor": "white",
             "startlinecolor": "#2a3f5f"
            },
            "type": "carpet"
           }
          ],
          "choropleth": [
           {
            "colorbar": {
             "outlinewidth": 0,
             "ticks": ""
            },
            "type": "choropleth"
           }
          ],
          "contour": [
           {
            "colorbar": {
             "outlinewidth": 0,
             "ticks": ""
            },
            "colorscale": [
             [
              0,
              "#0d0887"
             ],
             [
              0.1111111111111111,
              "#46039f"
             ],
             [
              0.2222222222222222,
              "#7201a8"
             ],
             [
              0.3333333333333333,
              "#9c179e"
             ],
             [
              0.4444444444444444,
              "#bd3786"
             ],
             [
              0.5555555555555556,
              "#d8576b"
             ],
             [
              0.6666666666666666,
              "#ed7953"
             ],
             [
              0.7777777777777778,
              "#fb9f3a"
             ],
             [
              0.8888888888888888,
              "#fdca26"
             ],
             [
              1,
              "#f0f921"
             ]
            ],
            "type": "contour"
           }
          ],
          "contourcarpet": [
           {
            "colorbar": {
             "outlinewidth": 0,
             "ticks": ""
            },
            "type": "contourcarpet"
           }
          ],
          "heatmap": [
           {
            "colorbar": {
             "outlinewidth": 0,
             "ticks": ""
            },
            "colorscale": [
             [
              0,
              "#0d0887"
             ],
             [
              0.1111111111111111,
              "#46039f"
             ],
             [
              0.2222222222222222,
              "#7201a8"
             ],
             [
              0.3333333333333333,
              "#9c179e"
             ],
             [
              0.4444444444444444,
              "#bd3786"
             ],
             [
              0.5555555555555556,
              "#d8576b"
             ],
             [
              0.6666666666666666,
              "#ed7953"
             ],
             [
              0.7777777777777778,
              "#fb9f3a"
             ],
             [
              0.8888888888888888,
              "#fdca26"
             ],
             [
              1,
              "#f0f921"
             ]
            ],
            "type": "heatmap"
           }
          ],
          "heatmapgl": [
           {
            "colorbar": {
             "outlinewidth": 0,
             "ticks": ""
            },
            "colorscale": [
             [
              0,
              "#0d0887"
             ],
             [
              0.1111111111111111,
              "#46039f"
             ],
             [
              0.2222222222222222,
              "#7201a8"
             ],
             [
              0.3333333333333333,
              "#9c179e"
             ],
             [
              0.4444444444444444,
              "#bd3786"
             ],
             [
              0.5555555555555556,
              "#d8576b"
             ],
             [
              0.6666666666666666,
              "#ed7953"
             ],
             [
              0.7777777777777778,
              "#fb9f3a"
             ],
             [
              0.8888888888888888,
              "#fdca26"
             ],
             [
              1,
              "#f0f921"
             ]
            ],
            "type": "heatmapgl"
           }
          ],
          "histogram": [
           {
            "marker": {
             "colorbar": {
              "outlinewidth": 0,
              "ticks": ""
             }
            },
            "type": "histogram"
           }
          ],
          "histogram2d": [
           {
            "colorbar": {
             "outlinewidth": 0,
             "ticks": ""
            },
            "colorscale": [
             [
              0,
              "#0d0887"
             ],
             [
              0.1111111111111111,
              "#46039f"
             ],
             [
              0.2222222222222222,
              "#7201a8"
             ],
             [
              0.3333333333333333,
              "#9c179e"
             ],
             [
              0.4444444444444444,
              "#bd3786"
             ],
             [
              0.5555555555555556,
              "#d8576b"
             ],
             [
              0.6666666666666666,
              "#ed7953"
             ],
             [
              0.7777777777777778,
              "#fb9f3a"
             ],
             [
              0.8888888888888888,
              "#fdca26"
             ],
             [
              1,
              "#f0f921"
             ]
            ],
            "type": "histogram2d"
           }
          ],
          "histogram2dcontour": [
           {
            "colorbar": {
             "outlinewidth": 0,
             "ticks": ""
            },
            "colorscale": [
             [
              0,
              "#0d0887"
             ],
             [
              0.1111111111111111,
              "#46039f"
             ],
             [
              0.2222222222222222,
              "#7201a8"
             ],
             [
              0.3333333333333333,
              "#9c179e"
             ],
             [
              0.4444444444444444,
              "#bd3786"
             ],
             [
              0.5555555555555556,
              "#d8576b"
             ],
             [
              0.6666666666666666,
              "#ed7953"
             ],
             [
              0.7777777777777778,
              "#fb9f3a"
             ],
             [
              0.8888888888888888,
              "#fdca26"
             ],
             [
              1,
              "#f0f921"
             ]
            ],
            "type": "histogram2dcontour"
           }
          ],
          "mesh3d": [
           {
            "colorbar": {
             "outlinewidth": 0,
             "ticks": ""
            },
            "type": "mesh3d"
           }
          ],
          "parcoords": [
           {
            "line": {
             "colorbar": {
              "outlinewidth": 0,
              "ticks": ""
             }
            },
            "type": "parcoords"
           }
          ],
          "pie": [
           {
            "automargin": true,
            "type": "pie"
           }
          ],
          "scatter": [
           {
            "marker": {
             "colorbar": {
              "outlinewidth": 0,
              "ticks": ""
             }
            },
            "type": "scatter"
           }
          ],
          "scatter3d": [
           {
            "line": {
             "colorbar": {
              "outlinewidth": 0,
              "ticks": ""
             }
            },
            "marker": {
             "colorbar": {
              "outlinewidth": 0,
              "ticks": ""
             }
            },
            "type": "scatter3d"
           }
          ],
          "scattercarpet": [
           {
            "marker": {
             "colorbar": {
              "outlinewidth": 0,
              "ticks": ""
             }
            },
            "type": "scattercarpet"
           }
          ],
          "scattergeo": [
           {
            "marker": {
             "colorbar": {
              "outlinewidth": 0,
              "ticks": ""
             }
            },
            "type": "scattergeo"
           }
          ],
          "scattergl": [
           {
            "marker": {
             "colorbar": {
              "outlinewidth": 0,
              "ticks": ""
             }
            },
            "type": "scattergl"
           }
          ],
          "scattermapbox": [
           {
            "marker": {
             "colorbar": {
              "outlinewidth": 0,
              "ticks": ""
             }
            },
            "type": "scattermapbox"
           }
          ],
          "scatterpolar": [
           {
            "marker": {
             "colorbar": {
              "outlinewidth": 0,
              "ticks": ""
             }
            },
            "type": "scatterpolar"
           }
          ],
          "scatterpolargl": [
           {
            "marker": {
             "colorbar": {
              "outlinewidth": 0,
              "ticks": ""
             }
            },
            "type": "scatterpolargl"
           }
          ],
          "scatterternary": [
           {
            "marker": {
             "colorbar": {
              "outlinewidth": 0,
              "ticks": ""
             }
            },
            "type": "scatterternary"
           }
          ],
          "surface": [
           {
            "colorbar": {
             "outlinewidth": 0,
             "ticks": ""
            },
            "colorscale": [
             [
              0,
              "#0d0887"
             ],
             [
              0.1111111111111111,
              "#46039f"
             ],
             [
              0.2222222222222222,
              "#7201a8"
             ],
             [
              0.3333333333333333,
              "#9c179e"
             ],
             [
              0.4444444444444444,
              "#bd3786"
             ],
             [
              0.5555555555555556,
              "#d8576b"
             ],
             [
              0.6666666666666666,
              "#ed7953"
             ],
             [
              0.7777777777777778,
              "#fb9f3a"
             ],
             [
              0.8888888888888888,
              "#fdca26"
             ],
             [
              1,
              "#f0f921"
             ]
            ],
            "type": "surface"
           }
          ],
          "table": [
           {
            "cells": {
             "fill": {
              "color": "#EBF0F8"
             },
             "line": {
              "color": "white"
             }
            },
            "header": {
             "fill": {
              "color": "#C8D4E3"
             },
             "line": {
              "color": "white"
             }
            },
            "type": "table"
           }
          ]
         },
         "layout": {
          "annotationdefaults": {
           "arrowcolor": "#2a3f5f",
           "arrowhead": 0,
           "arrowwidth": 1
          },
          "coloraxis": {
           "colorbar": {
            "outlinewidth": 0,
            "ticks": ""
           }
          },
          "colorscale": {
           "diverging": [
            [
             0,
             "#8e0152"
            ],
            [
             0.1,
             "#c51b7d"
            ],
            [
             0.2,
             "#de77ae"
            ],
            [
             0.3,
             "#f1b6da"
            ],
            [
             0.4,
             "#fde0ef"
            ],
            [
             0.5,
             "#f7f7f7"
            ],
            [
             0.6,
             "#e6f5d0"
            ],
            [
             0.7,
             "#b8e186"
            ],
            [
             0.8,
             "#7fbc41"
            ],
            [
             0.9,
             "#4d9221"
            ],
            [
             1,
             "#276419"
            ]
           ],
           "sequential": [
            [
             0,
             "#0d0887"
            ],
            [
             0.1111111111111111,
             "#46039f"
            ],
            [
             0.2222222222222222,
             "#7201a8"
            ],
            [
             0.3333333333333333,
             "#9c179e"
            ],
            [
             0.4444444444444444,
             "#bd3786"
            ],
            [
             0.5555555555555556,
             "#d8576b"
            ],
            [
             0.6666666666666666,
             "#ed7953"
            ],
            [
             0.7777777777777778,
             "#fb9f3a"
            ],
            [
             0.8888888888888888,
             "#fdca26"
            ],
            [
             1,
             "#f0f921"
            ]
           ],
           "sequentialminus": [
            [
             0,
             "#0d0887"
            ],
            [
             0.1111111111111111,
             "#46039f"
            ],
            [
             0.2222222222222222,
             "#7201a8"
            ],
            [
             0.3333333333333333,
             "#9c179e"
            ],
            [
             0.4444444444444444,
             "#bd3786"
            ],
            [
             0.5555555555555556,
             "#d8576b"
            ],
            [
             0.6666666666666666,
             "#ed7953"
            ],
            [
             0.7777777777777778,
             "#fb9f3a"
            ],
            [
             0.8888888888888888,
             "#fdca26"
            ],
            [
             1,
             "#f0f921"
            ]
           ]
          },
          "colorway": [
           "#636efa",
           "#EF553B",
           "#00cc96",
           "#ab63fa",
           "#FFA15A",
           "#19d3f3",
           "#FF6692",
           "#B6E880",
           "#FF97FF",
           "#FECB52"
          ],
          "font": {
           "color": "#2a3f5f"
          },
          "geo": {
           "bgcolor": "white",
           "lakecolor": "white",
           "landcolor": "#E5ECF6",
           "showlakes": true,
           "showland": true,
           "subunitcolor": "white"
          },
          "hoverlabel": {
           "align": "left"
          },
          "hovermode": "closest",
          "mapbox": {
           "style": "light"
          },
          "paper_bgcolor": "white",
          "plot_bgcolor": "#E5ECF6",
          "polar": {
           "angularaxis": {
            "gridcolor": "white",
            "linecolor": "white",
            "ticks": ""
           },
           "bgcolor": "#E5ECF6",
           "radialaxis": {
            "gridcolor": "white",
            "linecolor": "white",
            "ticks": ""
           }
          },
          "scene": {
           "xaxis": {
            "backgroundcolor": "#E5ECF6",
            "gridcolor": "white",
            "gridwidth": 2,
            "linecolor": "white",
            "showbackground": true,
            "ticks": "",
            "zerolinecolor": "white"
           },
           "yaxis": {
            "backgroundcolor": "#E5ECF6",
            "gridcolor": "white",
            "gridwidth": 2,
            "linecolor": "white",
            "showbackground": true,
            "ticks": "",
            "zerolinecolor": "white"
           },
           "zaxis": {
            "backgroundcolor": "#E5ECF6",
            "gridcolor": "white",
            "gridwidth": 2,
            "linecolor": "white",
            "showbackground": true,
            "ticks": "",
            "zerolinecolor": "white"
           }
          },
          "shapedefaults": {
           "line": {
            "color": "#2a3f5f"
           }
          },
          "ternary": {
           "aaxis": {
            "gridcolor": "white",
            "linecolor": "white",
            "ticks": ""
           },
           "baxis": {
            "gridcolor": "white",
            "linecolor": "white",
            "ticks": ""
           },
           "bgcolor": "#E5ECF6",
           "caxis": {
            "gridcolor": "white",
            "linecolor": "white",
            "ticks": ""
           }
          },
          "title": {
           "x": 0.05
          },
          "xaxis": {
           "automargin": true,
           "gridcolor": "white",
           "linecolor": "white",
           "ticks": "",
           "title": {
            "standoff": 15
           },
           "zerolinecolor": "white",
           "zerolinewidth": 2
          },
          "yaxis": {
           "automargin": true,
           "gridcolor": "white",
           "linecolor": "white",
           "ticks": "",
           "title": {
            "standoff": 15
           },
           "zerolinecolor": "white",
           "zerolinewidth": 2
          }
         }
        },
        "title": {
         "font": {
          "color": "#4D5663"
         },
         "text": "Fragen 5, 6, 7, 8, 9, 16, 17 (5 Sterne = trifft voll zu)"
        },
        "width": 700,
        "xaxis": {
         "autorange": true,
         "gridcolor": "#E1E5ED",
         "range": [
          -0.5,
          6.5
         ],
         "showgrid": true,
         "tickfont": {
          "color": "#4D5663"
         },
         "title": {
          "font": {
           "color": "#4D5663"
          },
          "text": ""
         },
         "type": "category",
         "zerolinecolor": "#E1E5ED"
        },
        "yaxis": {
         "autorange": true,
         "gridcolor": "#E1E5ED",
         "range": [
          0.7777777777777778,
          5.222222222222222
         ],
         "showgrid": true,
         "tickfont": {
          "color": "#4D5663"
         },
         "title": {
          "font": {
           "color": "#4D5663"
          },
          "text": ""
         },
         "type": "linear",
         "zerolinecolor": "#E1E5ED"
        }
       }
      },
      "image/png": "[encoded data removed]",
      "text/html": [
       "<div>\n",
       "        \n",
       "        \n",
       "            <div id=\"b14ced4f-e5b7-4ccb-89ad-3569516fd17b\" class=\"plotly-graph-div\" style=\"height:400px; width:700px;\"></div>\n",
       "            <script type=\"text/javascript\">\n",
       "                require([\"plotly\"], function(Plotly) {\n",
       "                    window.PLOTLYENV=window.PLOTLYENV || {};\n",
       "                    window.PLOTLYENV.BASE_URL='https://plot.ly';\n",
       "                    \n",
       "                if (document.getElementById(\"b14ced4f-e5b7-4ccb-89ad-3569516fd17b\")) {\n",
       "                    Plotly.newPlot(\n",
       "                        'b14ced4f-e5b7-4ccb-89ad-3569516fd17b',\n",
       "                        [{\"boxpoints\": false, \"line\": {\"width\": 1.3}, \"marker\": {\"color\": \"rgba(255, 153, 51, 1.0)\"}, \"name\": \"F5\", \"orientation\": \"v\", \"type\": \"box\", \"y\": [3.0, 3.0, 3.0, 3.0, 2.0, 2.0, 3.0, 2.0, 2.0, 1.0, 3.0, 5.0, 4.0, 5.0, 5.0, 3.0, 3.0, 2.0, 5.0, 2.0, 5.0, 5.0, 2.0, 4.0, 2.0, 5.0, 5.0, 1.0, 3.0, 3.0, 2.0, 5.0, 3.0, 5.0, 5.0, 3.0, 5.0, 3.0, 5.0, 4.0, 3.0, 1.0, 3.0, 2.0, 4.0, 5.0, 4.0, 4.0, 2.0, 4.0, 5.0, 3.0, 4.0, 4.0, 4.0, 4.0, 5.0, 5.0, 5.0, 3.0, 5.0, 5.0, 4.0, 3.0, 2.0, 1.0, 4.0, 5.0, 1.0, 5.0, 3.0, 3.0, 2.0, 2.0, 1.0, 4.0, 1.0, 2.0, 1.0, 1.0, null, 4.0, 3.0, 1.0, 1.0, 2.0, 5.0, 5.0, 5.0, 5.0, 5.0, 3.0, 5.0, 3.0, 2.0, 5.0, 4.0, 3.0, 2.0, 4.0, 3.0, 1.0, 3.0, 3.0, 3.0, 1.0, 3.0, 5.0, 2.0, 4.0, 5.0, 1.0, 5.0, 5.0, 3.0, 2.0, 5.0, 4.0, 5.0, 5.0, 5.0, 3.0, 3.0, 4.0, 5.0, 3.0, 5.0, 5.0, 5.0, 2.0, 4.0, 4.0, 5.0, 4.0, 2.0, 3.0, 3.0, 2.0, 3.0, 1.0, 4.0, 4.0, 3.0, 3.0, 4.0, 3.0, 3.0, 1.0, 4.0, 5.0, 2.0, 2.0, 2.0, 2.0, 4.0, 2.0, 4.0, 4.0, 4.0, 4.0, 3.0, 4.0, 2.0, 4.0, 3.0, 5.0, 5.0, 5.0, 1.0, 3.0, 3.0, 4.0, 3.0, 2.0, 3.0, 3.0, 3.0, 4.0, 1.0, 1.0, 2.0, 2.0, 2.0, 2.0, 4.0, 4.0, 4.0, 1.0, 1.0, 3.0, 2.0, 2.0, 1.0, 2.0, 3.0, 2.0, 4.0, 3.0, 1.0, 3.0, 1.0, 2.0, 3.0, 1.0, 2.0, 4.0, 1.0, 4.0, 3.0, 4.0, 2.0, 2.0, 1.0, 1.0, 2.0, 2.0, 1.0, 2.0, 2.0, 3.0, 1.0, 1.0, 1.0, 3.0, 2.0, 1.0, 3.0, 5.0, 3.0, 3.0, 4.0, 3.0, 1.0, 5.0, 3.0, 5.0, 5.0, 3.0, 3.0, 4.0, 4.0, 2.0, 2.0, 1.0, 4.0, 5.0, 2.0, 4.0, 3.0, 4.0, 3.0, 4.0, 4.0, 2.0, 3.0, 5.0, 3.0, 4.0, 1.0, 4.0, 3.0, 4.0, 3.0, 3.0, 5.0, 1.0, 4.0, 5.0, 5.0, 5.0, 3.0, 4.0, 2.0, 1.0, 5.0, 4.0, 4.0, 4.0, 2.0, 5.0, 4.0, 4.0, 4.0, 3.0, 1.0, 5.0, 2.0, 1.0, 4.0, 2.0, 1.0, 3.0, 1.0, 1.0, 4.0, 1.0, 2.0, 5.0, 3.0, 2.0, 4.0, 2.0, 4.0, 4.0, 3.0, 1.0, 3.0, 1.0, 5.0, 1.0, 5.0, 2.0, 3.0, 2.0, 3.0, 3.0, 4.0, 2.0, 1.0, 1.0, 3.0, 2.0, 4.0, 3.0, 1.0, 2.0, 5.0, 4.0, 4.0, 4.0, 3.0, 4.0, 5.0, 3.0, 5.0, 5.0, 4.0, 5.0, 4.0, 4.0, 3.0, 5.0, 5.0, 3.0, 5.0, 3.0, 4.0, 2.0, 4.0, 1.0, 3.0, 1.0, 3.0, 5.0, 2.0, 4.0, 2.0, 4.0, 4.0, 3.0, 5.0, 3.0, 3.0, 5.0, 3.0, 5.0, 5.0, 2.0, 5.0, 1.0, 1.0, 1.0, 4.0, 1.0, 1.0, 3.0, 1.0, 4.0, 3.0, 2.0, 3.0, 3.0, 4.0, 1.0, 2.0, 3.0, 1.0, 5.0, 1.0, 1.0, 2.0, 3.0, 4.0, 1.0, 1.0, 4.0, 5.0, 3.0, 4.0, 5.0, 2.0, 2.0, 4.0, 2.0, 2.0, 3.0, 3.0, 4.0, 4.0, 1.0, 4.0, 2.0, 3.0, 1.0, 2.0, 1.0, 5.0, 1.0, 3.0, 3.0, 3.0, 5.0, 3.0, 4.0, 2.0, 4.0, 3.0, 1.0, 3.0, 3.0, 2.0, 4.0, 4.0, 4.0, 4.0, 4.0, 5.0, 4.0, 1.0, 5.0, 1.0, 3.0, 4.0, 2.0, 5.0, 3.0, 4.0, 5.0, 1.0, 3.0, null, 3.0, 4.0, 4.0, 2.0, 2.0, 1.0, 4.0, 1.0, 5.0, 3.0, 4.0, 4.0, 4.0, 3.0, 1.0, 1.0, 2.0, 1.0, 2.0, 1.0, 1.0, 2.0, 4.0, 1.0, 3.0, 2.0, 3.0, 3.0, 2.0, 5.0, 3.0, 5.0, 4.0, 3.0, 4.0, 4.0, 4.0, 4.0, 2.0, 3.0, 2.0, 1.0, 1.0, 2.0, 4.0, 2.0, 5.0, 3.0, 2.0, 4.0, 1.0, 1.0, 5.0, 1.0, 2.0, 2.0, 1.0, 2.0, 1.0, 1.0, 4.0, 3.0, 5.0, 2.0, 3.0, 3.0, 1.0, 3.0, 5.0, 3.0, 4.0, 3.0, 2.0, 1.0, 4.0, 3.0, 5.0, 3.0, 4.0, 3.0, 3.0, 4.0, 2.0, 4.0, 3.0, 5.0, 4.0, 3.0, 2.0, 2.0, 2.0, 2.0, 4.0, 3.0, 3.0, 2.0, 2.0, 4.0, 3.0, 2.0, 1.0, 3.0, 5.0, 5.0, 3.0, 5.0, 1.0, 5.0, 5.0, 5.0, 3.0, 3.0, 2.0, 2.0, 2.0, 3.0, 3.0, 2.0, 4.0, 3.0, 5.0, 5.0, 2.0, 3.0, 3.0, 4.0, 1.0, 2.0, 3.0, 3.0, 3.0, 1.0, 3.0, 1.0, 3.0, 2.0, null, 3.0, 2.0, 2.0, 5.0, 5.0, 2.0, 3.0, 3.0, 2.0, 1.0, 3.0, 2.0, 2.0, 3.0, 3.0, 1.0, 3.0, 2.0, 1.0, 3.0, 5.0, 3.0, 3.0, 4.0, 2.0, 4.0, 3.0, 1.0, 2.0, 5.0, 3.0, 3.0, 2.0, 3.0, 1.0, 4.0, 3.0, 1.0, 3.0, 4.0, 2.0, 1.0, 3.0, 1.0, 4.0, 3.0, 2.0, 3.0, 3.0, 2.0, 1.0, 2.0]}, {\"boxpoints\": false, \"line\": {\"width\": 1.3}, \"marker\": {\"color\": \"rgba(55, 128, 191, 1.0)\"}, \"name\": \"F6\", \"orientation\": \"v\", \"type\": \"box\", \"y\": [3.0, 5.0, 5.0, 4.0, 5.0, 5.0, 5.0, 5.0, 3.0, 4.0, 3.0, 5.0, 5.0, 5.0, 5.0, 4.0, 5.0, 5.0, 5.0, 3.0, 5.0, 5.0, 5.0, 5.0, 5.0, 5.0, 5.0, 5.0, 5.0, 4.0, 4.0, 5.0, 5.0, 3.0, 5.0, 5.0, 5.0, 3.0, 5.0, 5.0, 5.0, 4.0, 5.0, 2.0, 5.0, 5.0, 2.0, 5.0, 1.0, 4.0, 5.0, 5.0, 5.0, 5.0, 4.0, 4.0, 5.0, 5.0, 5.0, 3.0, 5.0, 5.0, 5.0, 3.0, 5.0, 1.0, 5.0, 5.0, 5.0, 4.0, 5.0, 4.0, 3.0, 2.0, 3.0, 5.0, 5.0, 5.0, 4.0, 3.0, 3.0, 4.0, 2.0, 3.0, 3.0, 4.0, 5.0, 5.0, 5.0, 5.0, 5.0, 5.0, 5.0, 3.0, 5.0, 5.0, 4.0, 4.0, 4.0, 4.0, 2.0, 3.0, 4.0, 2.0, 2.0, 5.0, 5.0, 4.0, 1.0, 4.0, 5.0, 5.0, 5.0, 5.0, 5.0, 5.0, 5.0, 5.0, 4.0, 4.0, 4.0, 5.0, 5.0, 5.0, 5.0, 5.0, 5.0, 5.0, 5.0, 3.0, 4.0, 5.0, 5.0, 4.0, 3.0, 3.0, 2.0, 5.0, 5.0, 4.0, 5.0, 4.0, 4.0, 5.0, 5.0, 5.0, 4.0, 5.0, 5.0, 1.0, 3.0, 5.0, 5.0, 2.0, 5.0, 4.0, 4.0, 4.0, 5.0, 3.0, 3.0, 5.0, 3.0, 5.0, 3.0, 4.0, 5.0, 4.0, 3.0, 5.0, 5.0, 5.0, 4.0, 3.0, 4.0, 5.0, 5.0, 5.0, 5.0, 3.0, 5.0, 3.0, 5.0, 3.0, 5.0, 4.0, 4.0, 3.0, 3.0, 5.0, 5.0, 4.0, 4.0, 4.0, 3.0, 3.0, 4.0, 4.0, 5.0, 3.0, 1.0, 2.0, 4.0, 5.0, 4.0, 5.0, 2.0, 5.0, 4.0, 5.0, 4.0, 5.0, 5.0, 5.0, 5.0, 4.0, 4.0, 5.0, 4.0, 3.0, 3.0, 3.0, 4.0, 5.0, 2.0, 1.0, 3.0, 4.0, 4.0, null, 5.0, 4.0, 5.0, 5.0, 5.0, 4.0, 5.0, 4.0, 5.0, 4.0, 4.0, 4.0, 4.0, 5.0, 5.0, 4.0, 5.0, 4.0, 4.0, 4.0, 2.0, 5.0, 5.0, 4.0, 3.0, 5.0, 5.0, 5.0, 4.0, 4.0, 5.0, 5.0, 2.0, 5.0, 4.0, 5.0, 5.0, 5.0, 5.0, 4.0, 4.0, 4.0, 4.0, 5.0, 4.0, 4.0, 4.0, 5.0, 4.0, 5.0, 5.0, 4.0, 5.0, 5.0, 5.0, 5.0, 3.0, 4.0, 3.0, 5.0, 4.0, 5.0, 3.0, 5.0, 5.0, 2.0, 1.0, 5.0, 5.0, 4.0, 3.0, 4.0, 4.0, 5.0, 2.0, 3.0, 5.0, 3.0, 5.0, 3.0, 5.0, 4.0, 5.0, 4.0, 5.0, 4.0, 5.0, 4.0, 4.0, 1.0, 4.0, 5.0, 4.0, 5.0, 3.0, 4.0, 5.0, 4.0, 4.0, 5.0, 5.0, 3.0, 5.0, 3.0, 4.0, 5.0, 5.0, 5.0, 5.0, 4.0, 5.0, 5.0, 5.0, 5.0, 5.0, 2.0, 5.0, 5.0, 5.0, 3.0, 4.0, 5.0, 3.0, 5.0, 3.0, 3.0, 2.0, 4.0, 5.0, 4.0, 2.0, 5.0, 4.0, 3.0, 5.0, 5.0, 5.0, 5.0, 4.0, 4.0, 1.0, 4.0, 4.0, 5.0, 4.0, 3.0, 1.0, 4.0, 5.0, 4.0, 5.0, 5.0, 3.0, 4.0, 3.0, 2.0, 3.0, 4.0, 3.0, 4.0, 4.0, 4.0, 5.0, 4.0, 5.0, 3.0, 4.0, 4.0, 5.0, 5.0, 3.0, 3.0, 4.0, 3.0, 5.0, 4.0, 5.0, 5.0, 4.0, 5.0, 5.0, 4.0, 5.0, 3.0, 2.0, 2.0, 3.0, 3.0, 3.0, 4.0, 5.0, 4.0, 4.0, 5.0, 5.0, 5.0, 5.0, 5.0, 4.0, 4.0, 3.0, 5.0, 5.0, 5.0, 5.0, 5.0, 4.0, 5.0, 4.0, 5.0, 3.0, 5.0, 4.0, 4.0, 3.0, 3.0, 5.0, 5.0, 4.0, 4.0, null, 4.0, 4.0, 4.0, 5.0, 5.0, 3.0, 5.0, 1.0, 5.0, 2.0, 4.0, 5.0, 4.0, 4.0, 2.0, 5.0, 3.0, 3.0, 5.0, 3.0, 2.0, 4.0, 5.0, 1.0, 3.0, 3.0, 2.0, 5.0, 5.0, 5.0, 5.0, 4.0, 5.0, 2.0, 4.0, 3.0, 3.0, 5.0, 5.0, 3.0, 5.0, 4.0, 5.0, 5.0, 2.0, 3.0, 4.0, 5.0, 3.0, 5.0, 1.0, 5.0, 5.0, 4.0, 5.0, 5.0, 4.0, 3.0, 3.0, 2.0, 4.0, 5.0, 5.0, 5.0, 4.0, 5.0, 4.0, 5.0, 4.0, 4.0, 5.0, 3.0, 4.0, 4.0, 5.0, 3.0, 4.0, 5.0, 5.0, 5.0, 5.0, 5.0, 4.0, null, 3.0, 5.0, 5.0, 5.0, 4.0, 4.0, 4.0, 5.0, 5.0, 4.0, 4.0, 4.0, 4.0, 5.0, 5.0, 4.0, 5.0, 5.0, 5.0, 3.0, 4.0, 5.0, 2.0, 5.0, 2.0, 5.0, 4.0, 5.0, 5.0, 2.0, 5.0, 4.0, 5.0, 4.0, 4.0, 3.0, 5.0, 5.0, 5.0, 4.0, 3.0, 4.0, 4.0, 4.0, 3.0, 3.0, 5.0, 3.0, 5.0, 2.0, 5.0, 4.0, 3.0, 4.0, 3.0, 4.0, 4.0, 3.0, 3.0, 4.0, 3.0, 2.0, 3.0, 3.0, 4.0, 2.0, 3.0, 5.0, 3.0, 3.0, 2.0, 1.0, 4.0, 5.0, 4.0, 3.0, 5.0, 3.0, 5.0, 3.0, 5.0, 4.0, 4.0, 5.0, 4.0, 4.0, 4.0, 5.0, 4.0, 3.0, 4.0, 4.0, 5.0, 4.0, 5.0, 3.0, 5.0, 4.0, 1.0, 3.0, 5.0, 4.0, 4.0, 4.0, 4.0]}, {\"boxpoints\": false, \"line\": {\"width\": 1.3}, \"marker\": {\"color\": \"rgba(50, 171, 96, 1.0)\"}, \"name\": \"F7\", \"orientation\": \"v\", \"type\": \"box\", \"y\": [5.0, 5.0, 5.0, 5.0, 5.0, 5.0, 2.0, 5.0, 5.0, 5.0, 5.0, 4.0, 4.0, 5.0, 5.0, 5.0, 5.0, 5.0, 5.0, 2.0, 5.0, 5.0, 5.0, 5.0, 1.0, 3.0, 5.0, 5.0, 1.0, 5.0, 5.0, 5.0, 5.0, 4.0, 5.0, 5.0, 5.0, 4.0, 5.0, 5.0, 5.0, 5.0, 3.0, 5.0, 5.0, 5.0, 4.0, 2.0, 5.0, 5.0, 5.0, 5.0, 5.0, 5.0, 4.0, 4.0, 5.0, 5.0, 5.0, 5.0, 5.0, 5.0, 5.0, 5.0, 1.0, 1.0, 5.0, 5.0, 2.0, 5.0, 5.0, 5.0, 5.0, 5.0, 5.0, 1.0, 5.0, 5.0, 4.0, 5.0, 5.0, 4.0, 4.0, 5.0, 5.0, 5.0, 5.0, 1.0, 2.0, 5.0, 5.0, 1.0, 1.0, 1.0, 4.0, 2.0, 5.0, 5.0, 5.0, 5.0, 5.0, 4.0, 5.0, 5.0, 5.0, 5.0, 5.0, 5.0, 5.0, 5.0, 5.0, 5.0, 5.0, 5.0, 5.0, 5.0, 5.0, 5.0, 5.0, 5.0, 5.0, 3.0, 1.0, 1.0, 3.0, 5.0, 5.0, 5.0, 5.0, 5.0, 5.0, 5.0, 5.0, 3.0, 5.0, 5.0, 5.0, 4.0, 2.0, 5.0, 5.0, 5.0, 5.0, 5.0, 5.0, 5.0, 5.0, 5.0, 5.0, 2.0, 5.0, 5.0, 1.0, 4.0, 5.0, 5.0, 5.0, 1.0, 5.0, 5.0, 5.0, 5.0, 5.0, 5.0, 5.0, 5.0, 5.0, 5.0, 5.0, 2.0, 5.0, 5.0, 3.0, 5.0, 3.0, 5.0, 4.0, 5.0, 5.0, 4.0, 5.0, 5.0, 4.0, 5.0, 5.0, 5.0, 5.0, 3.0, 5.0, 5.0, 2.0, 5.0, 5.0, 5.0, 2.0, 5.0, 2.0, 5.0, 5.0, 5.0, 1.0, 5.0, 5.0, 5.0, 2.0, 5.0, 5.0, 3.0, 5.0, 5.0, 3.0, 2.0, 5.0, 5.0, 2.0, 5.0, 5.0, 5.0, 3.0, 5.0, 5.0, 5.0, 3.0, 5.0, null, 1.0, 5.0, 5.0, 5.0, 2.0, 5.0, 5.0, 5.0, 5.0, 4.0, 5.0, 5.0, 1.0, 5.0, 1.0, 3.0, 3.0, 5.0, 5.0, 3.0, 1.0, 5.0, 5.0, 2.0, 1.0, 2.0, 5.0, 3.0, 5.0, 2.0, 5.0, 5.0, 5.0, 5.0, 5.0, 5.0, 5.0, 5.0, 5.0, 5.0, 5.0, 5.0, 5.0, 5.0, 5.0, 1.0, 1.0, 3.0, 5.0, 1.0, 5.0, 1.0, 5.0, 5.0, 5.0, 5.0, 5.0, 5.0, 5.0, 5.0, 5.0, 5.0, 5.0, 5.0, 4.0, 3.0, 5.0, 5.0, 5.0, 5.0, 5.0, 5.0, 5.0, 5.0, 4.0, 5.0, 5.0, 5.0, 5.0, 5.0, 4.0, 5.0, 5.0, 5.0, 5.0, 5.0, 3.0, 5.0, 5.0, 5.0, 5.0, 5.0, 5.0, 5.0, 5.0, 5.0, 5.0, 4.0, 5.0, 5.0, 5.0, 1.0, 5.0, 5.0, 1.0, 5.0, 5.0, 5.0, 5.0, 5.0, 5.0, 5.0, 5.0, 5.0, 5.0, 5.0, 1.0, 5.0, 5.0, 5.0, 4.0, 4.0, 4.0, 4.0, 1.0, 1.0, 1.0, 2.0, 5.0, 1.0, 1.0, 5.0, 5.0, 5.0, 5.0, 5.0, 5.0, 1.0, 5.0, 1.0, 4.0, 5.0, 1.0, 5.0, 1.0, 2.0, 5.0, 5.0, 5.0, 5.0, 5.0, 1.0, 5.0, 5.0, 5.0, 3.0, 4.0, 5.0, 5.0, 5.0, 2.0, 5.0, 5.0, 5.0, 5.0, 5.0, 5.0, 5.0, 3.0, 5.0, 5.0, 5.0, 5.0, 5.0, 5.0, 5.0, 5.0, 4.0, 5.0, 4.0, 2.0, 5.0, 5.0, 5.0, 5.0, 5.0, 2.0, 5.0, 4.0, 5.0, 5.0, 5.0, 5.0, 5.0, 5.0, 5.0, 5.0, 5.0, 5.0, 3.0, 5.0, 5.0, 5.0, 3.0, 5.0, 5.0, 1.0, 5.0, 5.0, 5.0, 5.0, 5.0, 1.0, 5.0, 5.0, 5.0, 5.0, 5.0, 3.0, 4.0, 5.0, 5.0, 5.0, 5.0, 5.0, null, 5.0, 5.0, 5.0, 5.0, 5.0, 5.0, 5.0, 5.0, 4.0, 1.0, 1.0, 5.0, 5.0, 5.0, 5.0, 5.0, 3.0, 5.0, 5.0, 5.0, 1.0, 1.0, 4.0, 5.0, 5.0, 5.0, 5.0, 5.0, 5.0, 3.0, 5.0, 3.0, 5.0, 4.0, 5.0, 5.0, 2.0, 5.0, 5.0, 5.0, 4.0, 5.0, 5.0, 5.0, 4.0, 5.0, 5.0, 5.0, 4.0, 4.0, 1.0, 4.0, 5.0, 5.0, 5.0, 5.0, 5.0, 5.0, 5.0, 3.0, 3.0, 5.0, 2.0, 4.0, 4.0, 5.0, 4.0, 5.0, 5.0, 5.0, 5.0, 5.0, 3.0, 5.0, 5.0, 5.0, 5.0, 4.0, 5.0, 5.0, 5.0, 5.0, 5.0, 5.0, 5.0, 5.0, 5.0, 5.0, 5.0, 4.0, 5.0, 5.0, 5.0, 2.0, 5.0, 5.0, 5.0, 5.0, 5.0, 5.0, 5.0, 5.0, 1.0, 5.0, 5.0, 5.0, 4.0, 4.0, 5.0, 5.0, 5.0, 4.0, 5.0, 4.0, 5.0, 5.0, 5.0, 4.0, 5.0, 3.0, 1.0, 5.0, 5.0, 1.0, 3.0, 4.0, 4.0, 5.0, 5.0, 5.0, 2.0, 3.0, 5.0, 3.0, 5.0, 5.0, 3.0, 5.0, 5.0, 5.0, 3.0, 5.0, 5.0, 5.0, 5.0, 4.0, 5.0, 2.0, 5.0, 5.0, 5.0, 3.0, 3.0, 5.0, 5.0, 3.0, 5.0, 5.0, 5.0, 3.0, 5.0, 5.0, 5.0, 5.0, 5.0, 5.0, 1.0, 4.0, 5.0, 5.0, 5.0, 5.0, 5.0, 5.0, 5.0, 3.0, 5.0, 5.0, 5.0, 5.0, 5.0, 5.0, 5.0, 5.0, 5.0, 5.0, 5.0, 5.0, 5.0]}, {\"boxpoints\": false, \"line\": {\"width\": 1.3}, \"marker\": {\"color\": \"rgba(128, 0, 128, 1.0)\"}, \"name\": \"F8\", \"orientation\": \"v\", \"type\": \"box\", \"y\": [3.0, 1.0, 2.0, 4.0, 3.0, 4.0, 3.0, 1.0, 3.0, 5.0, 3.0, 1.0, 3.0, 1.0, 2.0, 5.0, 2.0, 4.0, 2.0, 4.0, 2.0, 2.0, 2.0, 4.0, 4.0, 1.0, 1.0, 4.0, 2.0, 3.0, 4.0, 3.0, 2.0, 1.0, 1.0, 2.0, 1.0, 4.0, 3.0, 3.0, 3.0, 3.0, 2.0, 5.0, 3.0, 5.0, 4.0, 3.0, 5.0, 3.0, 2.0, 3.0, 2.0, 2.0, 3.0, 3.0, 1.0, 1.0, 1.0, 5.0, 1.0, 1.0, 3.0, 3.0, 2.0, 5.0, 1.0, 1.0, 5.0, 3.0, 4.0, 4.0, 4.0, 5.0, 5.0, 2.0, 3.0, 3.0, 5.0, 5.0, 5.0, 2.0, 4.0, 5.0, 3.0, 2.0, 1.0, 1.0, 1.0, 1.0, 1.0, 3.0, 3.0, 3.0, 4.0, 3.0, 2.0, 3.0, 5.0, 1.0, 4.0, 4.0, 2.0, 2.0, 3.0, 4.0, 3.0, 1.0, 5.0, 3.0, 1.0, 4.0, 2.0, 1.0, 2.0, 4.0, 1.0, 4.0, 3.0, 1.0, 1.0, 3.0, 1.0, 2.0, 1.0, 2.0, 2.0, 1.0, 1.0, 5.0, 3.0, 1.0, 1.0, 3.0, 4.0, 4.0, 3.0, 4.0, 3.0, 5.0, 2.0, 4.0, 3.0, 1.0, 4.0, 3.0, 3.0, 4.0, 3.0, 4.0, 4.0, 5.0, 4.0, 2.0, 3.0, 4.0, 3.0, 5.0, 1.0, 2.0, 3.0, 3.0, 5.0, 3.0, 2.0, 1.0, 1.0, 1.0, 2.0, 4.0, 2.0, 3.0, 2.0, 2.0, 4.0, 3.0, 5.0, 2.0, 5.0, 5.0, 5.0, 2.0, 4.0, 4.0, 3.0, 3.0, 2.0, 5.0, 4.0, 4.0, 5.0, 3.0, 4.0, 4.0, 4.0, 4.0, 2.0, 4.0, 5.0, 5.0, 1.0, 5.0, 5.0, 4.0, 4.0, 2.0, 5.0, 5.0, 4.0, 4.0, 5.0, 5.0, 1.0, 5.0, 5.0, 4.0, 5.0, 5.0, 5.0, 2.0, 5.0, 5.0, 5.0, 2.0, 5.0, 5.0, 3.0, 1.0, 4.0, 3.0, 2.0, 3.0, 2.0, 3.0, 4.0, 1.0, 4.0, 2.0, 2.0, 3.0, 3.0, 5.0, 5.0, 3.0, 3.0, 1.0, 3.0, 2.0, 4.0, 3.0, 2.0, 4.0, 2.0, 4.0, 2.0, 3.0, 3.0, 4.0, 5.0, 3.0, 2.0, 2.0, 3.0, 2.0, 1.0, 5.0, 2.0, 1.0, 3.0, 1.0, 2.0, 3.0, 5.0, 3.0, 1.0, 2.0, 3.0, 4.0, 4.0, 3.0, 4.0, 3.0, 2.0, 2.0, 5.0, 4.0, 4.0, 5.0, 3.0, 5.0, 5.0, 4.0, 4.0, 5.0, 3.0, 5.0, 5.0, 5.0, 4.0, 5.0, 5.0, 5.0, 5.0, 4.0, 3.0, 5.0, 5.0, 5.0, 5.0, 5.0, 5.0, 5.0, 3.0, 4.0, 3.0, 4.0, 3.0, 4.0, 1.0, 5.0, 2.0, 4.0, 2.0, 3.0, 1.0, 5.0, 1.0, 4.0, 3.0, 4.0, 2.0, 2.0, 2.0, 3.0, 1.0, 3.0, 1.0, 1.0, 4.0, 2.0, 3.0, 1.0, 3.0, 4.0, 2.0, 4.0, 3.0, 2.0, 2.0, 3.0, 2.0, 5.0, 4.0, 2.0, 3.0, 1.0, 4.0, 4.0, 5.0, 3.0, 2.0, 4.0, 3.0, 2.0, 2.0, 1.0, 2.0, 3.0, 1.0, 5.0, 5.0, 4.0, 3.0, 1.0, 4.0, 4.0, 5.0, 3.0, 3.0, 3.0, 5.0, 5.0, 3.0, 5.0, 3.0, 3.0, 4.0, 1.0, 4.0, 5.0, 4.0, 3.0, 2.0, 5.0, 5.0, 3.0, 2.0, 3.0, 1.0, 1.0, 4.0, 4.0, 4.0, 4.0, 3.0, 2.0, 1.0, 5.0, 5.0, 5.0, 3.0, 2.0, 5.0, 4.0, 5.0, 3.0, 3.0, 5.0, 3.0, 3.0, 3.0, 1.0, 3.0, 2.0, 4.0, 3.0, 3.0, 1.0, 3.0, 2.0, 5.0, 2.0, 1.0, 3.0, 1.0, 3.0, 1.0, 4.0, 5.0, 5.0, 5.0, 4.0, 2.0, 4.0, 2.0, 3.0, 1.0, 1.0, 4.0, 5.0, null, 3.0, 3.0, 2.0, 4.0, 2.0, 5.0, 2.0, 5.0, 2.0, 3.0, 3.0, 2.0, 2.0, 2.0, 1.0, 2.0, 3.0, 5.0, 3.0, 5.0, 5.0, 2.0, 4.0, 5.0, 5.0, 4.0, 4.0, 2.0, 3.0, 1.0, 4.0, 2.0, 1.0, 5.0, 1.0, 4.0, 2.0, 2.0, 4.0, 4.0, 4.0, 5.0, 4.0, 1.0, 4.0, 2.0, 3.0, 2.0, 5.0, 2.0, 5.0, 3.0, 5.0, 5.0, 3.0, 4.0, 4.0, 3.0, 5.0, 4.0, 3.0, 4.0, 1.0, 3.0, 5.0, 3.0, 5.0, 2.0, 2.0, 2.0, 2.0, 2.0, 5.0, 5.0, 3.0, 4.0, 1.0, 4.0, 4.0, 1.0, 3.0, 3.0, 5.0, 2.0, 1.0, 3.0, 3.0, 3.0, 4.0, 4.0, 5.0, 4.0, 1.0, 4.0, 4.0, 5.0, 3.0, 1.0, 1.0, 4.0, 4.0, 2.0, 2.0, 3.0, 1.0, 1.0, 5.0, 3.0, 1.0, 1.0, 3.0, 3.0, 3.0, 5.0, 5.0, 3.0, 2.0, 4.0, 3.0, 3.0, 4.0, 2.0, 3.0, 3.0, 5.0, 3.0, 5.0, 5.0, 4.0, 3.0, 3.0, 5.0, 4.0, 4.0, 3.0, 2.0, 5.0, 2.0, 4.0, 4.0, 2.0, 2.0, 5.0, 3.0, 5.0, 5.0, 4.0, 5.0, 5.0, 5.0, 5.0, 5.0, 5.0, 5.0, 4.0, 2.0, 4.0, 1.0, 3.0, 4.0, 4.0, 4.0, 1.0, 3.0, 5.0, 4.0, 1.0, 4.0, 1.0, 4.0, 3.0, 4.0, 4.0, 4.0, 5.0, 4.0, 3.0, 5.0, 3.0, 3.0, 4.0, 5.0, 4.0, 5.0, 3.0, 2.0, 3.0, 3.0, 4.0]}, {\"boxpoints\": false, \"line\": {\"width\": 1.3}, \"marker\": {\"color\": \"rgba(219, 64, 82, 1.0)\"}, \"name\": \"F9\", \"orientation\": \"v\", \"type\": \"box\", \"y\": [4.0, 5.0, 3.0, 4.0, 4.0, 5.0, 5.0, 4.0, 3.0, 4.0, 3.0, 5.0, 5.0, 3.0, 3.0, 4.0, 3.0, 4.0, 3.0, 5.0, 3.0, 3.0, 4.0, 2.0, 3.0, 4.0, 5.0, 4.0, 3.0, 3.0, 4.0, 4.0, 4.0, 3.0, 5.0, 4.0, 4.0, 5.0, 5.0, 3.0, 3.0, 5.0, 4.0, 4.0, 5.0, 3.0, 5.0, 2.0, 3.0, 3.0, 4.0, 4.0, 3.0, 2.0, 4.0, 4.0, 2.0, 2.0, 2.0, 5.0, 1.0, 1.0, 2.0, 4.0, 3.0, 3.0, 5.0, 1.0, 4.0, 3.0, 4.0, 3.0, 3.0, 5.0, 5.0, 2.0, 3.0, 3.0, 5.0, 3.0, 5.0, 3.0, 4.0, 5.0, 3.0, 2.0, 1.0, 1.0, 3.0, 1.0, 3.0, 1.0, 1.0, 3.0, 4.0, 1.0, 2.0, 2.0, 5.0, 3.0, 4.0, 4.0, 3.0, 3.0, 2.0, 5.0, 2.0, 3.0, 5.0, 3.0, 2.0, 3.0, 2.0, 2.0, 2.0, 3.0, 4.0, 4.0, 5.0, 3.0, 3.0, 4.0, 2.0, 3.0, 1.0, 4.0, 2.0, 1.0, 4.0, 4.0, 4.0, 5.0, 5.0, 5.0, 4.0, 3.0, 5.0, 5.0, 4.0, 5.0, 1.0, 4.0, 3.0, 1.0, 3.0, 3.0, 4.0, 4.0, 4.0, 3.0, 3.0, 5.0, 5.0, 4.0, 3.0, 4.0, 3.0, 5.0, 3.0, 2.0, 4.0, 3.0, 5.0, 4.0, 4.0, 4.0, 1.0, 1.0, 3.0, 4.0, 4.0, 1.0, 3.0, 3.0, 4.0, 4.0, 5.0, 4.0, 5.0, 5.0, 5.0, 4.0, 5.0, 5.0, 4.0, 5.0, 3.0, 4.0, 5.0, 3.0, 5.0, 5.0, 5.0, 4.0, 4.0, 3.0, 3.0, 2.0, 3.0, 5.0, 5.0, 4.0, 4.0, 4.0, 5.0, 3.0, 1.0, 5.0, 5.0, 3.0, 5.0, 5.0, 5.0, 5.0, 2.0, 5.0, 5.0, 5.0, 3.0, 5.0, 5.0, 5.0, 5.0, 2.0, 5.0, 5.0, 3.0, 2.0, 2.0, 3.0, 3.0, 3.0, 5.0, 3.0, 5.0, 1.0, 4.0, 3.0, 4.0, 3.0, 2.0, 4.0, 5.0, 4.0, 1.0, 1.0, 3.0, 3.0, 4.0, 3.0, 5.0, 2.0, 1.0, 3.0, 2.0, 3.0, 2.0, 5.0, 5.0, 2.0, 2.0, 3.0, 4.0, 4.0, 1.0, 5.0, 3.0, 1.0, 3.0, 1.0, 3.0, 3.0, 4.0, 4.0, 1.0, 3.0, 3.0, 2.0, 3.0, 3.0, 5.0, 2.0, 3.0, 4.0, 5.0, 4.0, 5.0, 4.0, 3.0, 5.0, 5.0, 5.0, 4.0, 5.0, 3.0, 5.0, 4.0, 5.0, 4.0, 4.0, 3.0, 5.0, 5.0, 4.0, 4.0, 5.0, 4.0, 5.0, 5.0, 5.0, 5.0, 5.0, 4.0, 4.0, 4.0, 3.0, 5.0, 4.0, 5.0, 5.0, 3.0, 5.0, 4.0, 4.0, 1.0, 5.0, 2.0, 2.0, 3.0, 2.0, 5.0, 4.0, 1.0, 2.0, 1.0, 4.0, 1.0, 1.0, 4.0, 4.0, 3.0, 1.0, 2.0, 2.0, 2.0, 4.0, 3.0, 1.0, 4.0, 2.0, 3.0, 5.0, 4.0, 1.0, 2.0, 4.0, 4.0, 5.0, 4.0, 2.0, 5.0, 3.0, 3.0, 4.0, 3.0, 2.0, 2.0, 3.0, 1.0, 3.0, 5.0, 4.0, 1.0, 5.0, 3.0, 2.0, 5.0, 4.0, 2.0, 3.0, 5.0, 4.0, 4.0, 5.0, 4.0, 3.0, 4.0, 2.0, 4.0, 4.0, 4.0, 4.0, 3.0, 3.0, 5.0, 4.0, null, 4.0, 3.0, 5.0, 5.0, 5.0, 4.0, 3.0, 4.0, 3.0, 3.0, 5.0, 3.0, 3.0, 2.0, 3.0, 5.0, 3.0, 5.0, 4.0, null, 5.0, 4.0, 3.0, 4.0, 5.0, 3.0, 2.0, 4.0, 2.0, 3.0, 5.0, 3.0, 3.0, 5.0, 1.0, 1.0, 5.0, 1.0, 3.0, 3.0, 2.0, 5.0, 5.0, 3.0, 4.0, 4.0, 5.0, 3.0, 2.0, 1.0, 1.0, 3.0, 4.0, null, 3.0, 5.0, 3.0, 4.0, 1.0, 4.0, 1.0, 4.0, 3.0, 2.0, 3.0, null, 1.0, 3.0, 4.0, 2.0, 4.0, 4.0, 1.0, 4.0, 5.0, 1.0, 3.0, 5.0, 4.0, 3.0, 4.0, 2.0, 3.0, null, 4.0, null, 3.0, 5.0, 3.0, 2.0, 3.0, 3.0, 5.0, 3.0, 3.0, 4.0, 3.0, 4.0, 5.0, 5.0, 3.0, 4.0, 5.0, 3.0, 5.0, 5.0, 5.0, 3.0, 3.0, 4.0, 4.0, 3.0, 1.0, 5.0, 4.0, 4.0, 1.0, 4.0, 2.0, 4.0, 5.0, 1.0, 3.0, 3.0, 3.0, 4.0, 4.0, 5.0, 2.0, 4.0, 3.0, 5.0, 2.0, 1.0, 2.0, 3.0, 5.0, 2.0, 3.0, 1.0, 3.0, 3.0, 4.0, 3.0, 3.0, 2.0, 3.0, 3.0, 3.0, 4.0, 4.0, 2.0, 2.0, 3.0, 5.0, 3.0, 1.0, 5.0, 2.0, 3.0, 5.0, 3.0, 2.0, 1.0, 3.0, 3.0, 4.0, 5.0, 3.0, 4.0, 3.0, 4.0, 4.0, 3.0, 3.0, 2.0, 3.0, 5.0, 4.0, 3.0, 5.0, 4.0, 3.0, 4.0, 2.0, 4.0, 5.0, 4.0, 4.0, 3.0, 5.0, 1.0, 3.0, 3.0, 2.0, 2.0, 4.0, 5.0, 5.0, 4.0, 3.0, 5.0, 3.0, 4.0, 3.0, 4.0, 3.0, 5.0, 3.0, 4.0, 5.0, 3.0, 5.0, 4.0, 4.0, 5.0, 4.0, 4.0, 5.0, 3.0, 5.0, 5.0, 4.0, 4.0, 4.0, 2.0, 3.0, 5.0, 4.0, null, 3.0, 4.0, 4.0, 5.0, 4.0, 3.0, 5.0, 4.0, 5.0, 4.0, 4.0, 2.0, 4.0]}, {\"boxpoints\": false, \"line\": {\"width\": 1.3}, \"marker\": {\"color\": \"rgba(0, 128, 128, 1.0)\"}, \"name\": \"F16\", \"orientation\": \"v\", \"type\": \"box\", \"y\": [3.0, 4.0, 2.0, 2.0, 4.0, 4.0, 5.0, 3.0, 4.0, 4.0, 5.0, 5.0, 5.0, 2.0, 2.0, 2.0, 3.0, 4.0, 5.0, 5.0, 3.0, 1.0, 2.0, 4.0, 1.0, 4.0, 3.0, 3.0, 3.0, 3.0, 4.0, 3.0, 4.0, 5.0, 1.0, 5.0, 5.0, 3.0, 3.0, 5.0, 2.0, 4.0, 2.0, 3.0, 3.0, 3.0, 4.0, 1.0, 1.0, 3.0, 1.0, 3.0, 3.0, 3.0, 4.0, 4.0, 3.0, 2.0, 3.0, 3.0, 4.0, 4.0, 3.0, 3.0, 1.0, 4.0, 2.0, 3.0, 3.0, 1.0, 4.0, 4.0, 2.0, 5.0, 4.0, 4.0, 3.0, 3.0, 1.0, 3.0, 3.0, 3.0, 3.0, 4.0, 3.0, 4.0, 1.0, 1.0, 4.0, 5.0, 2.0, 1.0, 2.0, 2.0, 5.0, 4.0, 2.0, 2.0, 5.0, 1.0, 5.0, 3.0, 3.0, 2.0, 2.0, 3.0, 2.0, 3.0, 1.0, 3.0, 1.0, 2.0, 4.0, 3.0, 4.0, 4.0, 5.0, 1.0, 2.0, 5.0, 5.0, 5.0, 4.0, 5.0, 3.0, 1.0, 3.0, 1.0, 4.0, 2.0, 1.0, 3.0, 1.0, 2.0, 4.0, 4.0, 4.0, 4.0, 2.0, 2.0, 1.0, 2.0, 3.0, 2.0, 5.0, 4.0, 2.0, 2.0, 4.0, 1.0, 2.0, 3.0, 5.0, 3.0, 4.0, 2.0, 2.0, 4.0, 1.0, 2.0, 4.0, 2.0, 3.0, 4.0, 3.0, 3.0, 2.0, 2.0, 3.0, 4.0, 5.0, 3.0, 3.0, 4.0, 1.0, 1.0, 3.0, 3.0, 4.0, 1.0, 2.0, 2.0, 5.0, 3.0, 2.0, 3.0, 3.0, 1.0, 4.0, 3.0, 3.0, 1.0, 3.0, 4.0, 5.0, 1.0, 4.0, 3.0, 3.0, 4.0, 1.0, 3.0, 2.0, 3.0, 1.0, 2.0, 3.0, 1.0, 4.0, 1.0, 1.0, 1.0, 3.0, 1.0, 2.0, 2.0, 2.0, 4.0, 2.0, 4.0, 4.0, 1.0, 2.0, 3.0, 1.0, 3.0, 2.0, 2.0, 5.0, 3.0, 5.0, 3.0, 4.0, 4.0, 4.0, null, 1.0, 3.0, 1.0, 4.0, 2.0, 1.0, 3.0, 5.0, 2.0, 1.0, 4.0, 4.0, 3.0, 3.0, 5.0, 2.0, 2.0, 5.0, 2.0, 3.0, 2.0, 1.0, 4.0, 3.0, 3.0, 3.0, 2.0, 1.0, 3.0, 1.0, 3.0, 1.0, 4.0, null, 3.0, 4.0, 1.0, 5.0, 1.0, 4.0, 3.0, 2.0, 5.0, 3.0, 1.0, 3.0, 3.0, 1.0, 1.0, 3.0, 5.0, 3.0, 5.0, 4.0, 3.0, 4.0, 1.0, 3.0, 3.0, 2.0, 5.0, null, 2.0, 2.0, 1.0, 2.0, 1.0, 2.0, 4.0, 2.0, 1.0, 2.0, 3.0, 3.0, 5.0, 4.0, 4.0, 2.0, 3.0, 4.0, 3.0, 4.0, 1.0, 5.0, 2.0, 1.0, 3.0, 2.0, 5.0, 2.0, 3.0, 2.0, 3.0, 4.0, 2.0, 2.0, null, 1.0, 1.0, 3.0, 4.0, 1.0, 3.0, 2.0, 3.0, 3.0, 1.0, 2.0, 3.0, 4.0, 4.0, 3.0, 1.0, 4.0, 4.0, 5.0, 4.0, 1.0, 5.0, 3.0, 3.0, 4.0, 1.0, 4.0, 4.0, 3.0, 4.0, 4.0, 4.0, 4.0, 2.0, 2.0, 2.0, 2.0, 3.0, 3.0, 1.0, 1.0, 1.0, 2.0, 2.0, 3.0, 5.0, 3.0, 5.0, 5.0, 4.0, 3.0, 4.0, 4.0, 1.0, 2.0, 2.0, 3.0, 3.0, 4.0, 2.0, 1.0, 5.0, 4.0, 3.0, 3.0, 5.0, 2.0, 3.0, 1.0, 4.0, 3.0, 3.0, 5.0, 4.0, 1.0, 3.0, 1.0, 2.0, 2.0, 5.0, 5.0, 5.0, 3.0, 1.0, 2.0, 3.0, 2.0, 3.0, 1.0, 2.0, null, 4.0, 2.0, 2.0, 1.0, 3.0, 4.0, 3.0, 1.0, 3.0, 3.0, 1.0, 4.0, 4.0, 4.0, 4.0, 2.0, 1.0, 4.0, 2.0, 2.0, 1.0, 1.0, 3.0, 1.0, 3.0, 4.0, null, 3.0, 4.0, 4.0, 4.0, 2.0, 3.0, 5.0, 1.0, 4.0, 2.0, 1.0, 3.0, 1.0, 1.0, 2.0, 2.0, 2.0, 1.0, 3.0, 2.0, 5.0, 1.0, 1.0, 1.0, 2.0, 3.0, 3.0, 4.0, 1.0, 1.0, 4.0, 5.0, 4.0, 1.0, 4.0, 2.0, 3.0, 1.0, 5.0, 3.0, 2.0, 2.0, 3.0, 4.0, 3.0, 3.0, 5.0, 3.0, 3.0, 2.0, null, 5.0, 5.0, 1.0, 4.0, 3.0, 1.0, 3.0, 5.0, 3.0, 1.0, 3.0, 1.0, 2.0, 2.0, 1.0, 1.0, 3.0, 1.0, 3.0, 1.0, 3.0, 3.0, 1.0, 1.0, 3.0, 2.0, 1.0, 4.0, 1.0, 2.0, 1.0, 3.0, 3.0, 1.0, 2.0, 3.0, 3.0, 4.0, 4.0, 2.0, 2.0, 1.0, 3.0, 1.0, 5.0, 3.0, 2.0, 2.0, 4.0, 1.0, 3.0, 4.0, 4.0, null, null, 3.0, 3.0, 1.0, 2.0, 5.0, 3.0, 3.0, 1.0, 1.0, 4.0, 1.0, 2.0, 1.0, 3.0, 4.0, 3.0, 5.0, 5.0, 3.0, 4.0, 2.0, 5.0, 2.0, 2.0, 1.0, 5.0, 2.0, 4.0, 1.0, 1.0, 5.0, 5.0, 3.0, 4.0, 2.0, 3.0, 4.0, 2.0, 3.0, 3.0, 1.0, 4.0, 3.0, null, 4.0, 2.0, null, 2.0, 3.0, 1.0, 1.0, 3.0, 5.0, 2.0, 4.0, 3.0, 2.0, 3.0, 3.0, 3.0, 1.0, 3.0, 3.0, 3.0, 3.0, 5.0, 4.0, 5.0, 4.0, 3.0, 3.0, 3.0, 3.0, 5.0, 1.0, 1.0, 5.0, 3.0, 3.0, 2.0, 4.0, 1.0, 2.0]}, {\"boxpoints\": false, \"line\": {\"width\": 1.3}, \"marker\": {\"color\": \"rgba(255, 255, 51, 1.0)\"}, \"name\": \"F17\", \"orientation\": \"v\", \"type\": \"box\", \"y\": [5.0, 5.0, 2.0, 2.0, 5.0, 2.0, 4.0, 1.0, 3.0, 2.0, 3.0, 5.0, 4.0, 5.0, 5.0, 3.0, 5.0, 1.0, 5.0, 5.0, 5.0, 5.0, 2.0, 5.0, 2.0, 5.0, 5.0, 1.0, 5.0, 3.0, 1.0, 4.0, 4.0, 5.0, 5.0, 4.0, 5.0, 3.0, 3.0, 3.0, 4.0, 1.0, 5.0, 2.0, 5.0, 5.0, 3.0, 5.0, 5.0, 4.0, 5.0, 4.0, 3.0, 1.0, 4.0, 4.0, 5.0, 5.0, 5.0, 2.0, 5.0, 5.0, 5.0, 5.0, 3.0, 1.0, 5.0, 3.0, 1.0, 4.0, 5.0, 4.0, 1.0, 2.0, 2.0, 3.0, 2.0, 2.0, 1.0, 2.0, null, 1.0, 2.0, 1.0, 2.0, 3.0, 5.0, 5.0, 5.0, 5.0, 5.0, 5.0, 5.0, 5.0, 5.0, 5.0, 1.0, 4.0, 1.0, 1.0, 1.0, 4.0, 2.0, 2.0, 3.0, 2.0, 3.0, 5.0, 5.0, 4.0, 5.0, null, 5.0, 5.0, 4.0, 1.0, 5.0, 3.0, 5.0, 5.0, 5.0, 3.0, 5.0, 4.0, 5.0, 5.0, 5.0, 5.0, 4.0, 2.0, 5.0, 5.0, 5.0, 3.0, 1.0, 3.0, 5.0, 1.0, 5.0, 2.0, 5.0, 4.0, 5.0, 1.0, 1.0, 4.0, 4.0, 1.0, 5.0, 5.0, 2.0, 5.0, 5.0, 4.0, 3.0, 2.0, 3.0, 2.0, 5.0, 3.0, 1.0, 4.0, 2.0, 4.0, 3.0, 5.0, 5.0, 5.0, 4.0, 4.0, 4.0, 4.0, 4.0, 2.0, 3.0, 3.0, 4.0, 4.0, 1.0, 1.0, 3.0, 2.0, 3.0, 3.0, 3.0, 5.0, 5.0, 1.0, 1.0, 4.0, 1.0, 4.0, 1.0, 2.0, 2.0, 1.0, 4.0, 5.0, 2.0, 5.0, 1.0, 5.0, 1.0, 2.0, 2.0, 4.0, 1.0, 5.0, 2.0, 2.0, 2.0, 5.0, 1.0, 1.0, 3.0, 1.0, 1.0, 1.0, 1.0, 4.0, 1.0, 1.0, 1.0, 4.0, 2.0, 1.0, null, 5.0, null, null, null, null, null, 5.0, 5.0, null, 3.0, 1.0, 4.0, 5.0, 1.0, 3.0, 3.0, 2.0, 3.0, 5.0, 2.0, 5.0, 4.0, 5.0, 5.0, 5.0, 5.0, 3.0, 4.0, 5.0, 3.0, 3.0, 5.0, 4.0, 2.0, 4.0, 4.0, 5.0, 5.0, 1.0, 5.0, 5.0, 5.0, null, 1.0, 5.0, 3.0, 2.0, 5.0, 5.0, 5.0, 5.0, 3.0, 5.0, 3.0, 4.0, 4.0, 5.0, 1.0, 1.0, 4.0, 1.0, 3.0, 4.0, 2.0, 5.0, 1.0, 1.0, 5.0, 5.0, 5.0, null, 1.0, 1.0, 1.0, 2.0, 1.0, 4.0, 5.0, 1.0, 2.0, 1.0, 5.0, 1.0, 1.0, 2.0, 3.0, 1.0, 3.0, 1.0, 5.0, 4.0, 1.0, 1.0, 3.0, 2.0, 1.0, 3.0, 5.0, 1.0, 5.0, 3.0, 2.0, 5.0, 4.0, 5.0, 4.0, 5.0, 5.0, 5.0, 5.0, 5.0, 5.0, 4.0, 1.0, 5.0, 3.0, 4.0, 5.0, 2.0, 3.0, 5.0, 5.0, 3.0, 1.0, 3.0, 1.0, 5.0, 4.0, 3.0, 5.0, 5.0, 4.0, 2.0, 5.0, 2.0, 5.0, 5.0, 5.0, 5.0, 5.0, 5.0, 5.0, 1.0, 3.0, 1.0, 4.0, 1.0, 1.0, 2.0, null, 3.0, 1.0, 4.0, 3.0, 5.0, 4.0, 1.0, 2.0, 3.0, 2.0, 5.0, 1.0, 1.0, 1.0, 3.0, 3.0, 1.0, 3.0, 4.0, 5.0, 3.0, 1.0, 1.0, 3.0, 1.0, 4.0, 1.0, 2.0, 5.0, 1.0, 1.0, 1.0, 1.0, 5.0, 1.0, 5.0, 1.0, 3.0, 1.0, 3.0, 1.0, 3.0, 1.0, 4.0, 3.0, 4.0, 5.0, 3.0, 5.0, 5.0, 1.0, 3.0, 4.0, 2.0, 5.0, 5.0, 5.0, 5.0, 3.0, 5.0, 4.0, 1.0, 5.0, 1.0, 4.0, 5.0, 2.0, 5.0, 5.0, 5.0, 5.0, 1.0, 1.0, null, 2.0, 4.0, 4.0, 3.0, 1.0, 1.0, 5.0, 1.0, 5.0, 3.0, 4.0, 4.0, 5.0, 2.0, 4.0, 1.0, 1.0, 1.0, 3.0, 2.0, 2.0, 4.0, 3.0, 1.0, 3.0, 3.0, 5.0, 4.0, 3.0, 5.0, 2.0, 5.0, 5.0, 3.0, 4.0, 4.0, 5.0, 5.0, 2.0, 2.0, 3.0, 1.0, 1.0, 1.0, 3.0, 1.0, 2.0, 1.0, 2.0, 4.0, null, 2.0, 3.0, 1.0, 5.0, 3.0, 1.0, 1.0, 5.0, 2.0, 5.0, 1.0, 5.0, 1.0, 1.0, 3.0, 1.0, 4.0, 5.0, 2.0, 5.0, 3.0, 1.0, 1.0, 3.0, 4.0, 5.0, 3.0, 3.0, 1.0, 5.0, 5.0, 1.0, 5.0, 3.0, 5.0, 4.0, 4.0, 1.0, 1.0, 2.0, 3.0, 2.0, 5.0, 5.0, 2.0, 1.0, 5.0, 2.0, 3.0, 3.0, 1.0, 4.0, 5.0, null, null, 1.0, 4.0, 5.0, 5.0, 3.0, 4.0, 4.0, 1.0, 3.0, 5.0, 5.0, 5.0, 5.0, 3.0, 5.0, 5.0, 3.0, 5.0, 3.0, 4.0, 1.0, 5.0, 1.0, 2.0, 4.0, 1.0, 2.0, 1.0, 1.0, 2.0, 1.0, 5.0, 1.0, 2.0, 5.0, 5.0, 4.0, 1.0, 5.0, 1.0, 1.0, 4.0, 2.0, null, 1.0, 1.0, null, 4.0, 1.0, 1.0, 5.0, 4.0, 5.0, 5.0, 5.0, 3.0, 5.0, 3.0, 1.0, 1.0, 5.0, 1.0, 1.0, 2.0, 4.0, 1.0, 1.0, 3.0, 1.0, 5.0, 5.0, 2.0, 2.0, 5.0, 2.0, 1.0, 4.0, 1.0, 5.0, 4.0, 1.0, null, 3.0]}],\n",
       "                        {\"height\": 400, \"legend\": {\"bgcolor\": \"#F5F6F9\", \"font\": {\"color\": \"#4D5663\"}}, \"paper_bgcolor\": \"#F5F6F9\", \"plot_bgcolor\": \"#F5F6F9\", \"template\": {\"data\": {\"bar\": [{\"error_x\": {\"color\": \"#2a3f5f\"}, \"error_y\": {\"color\": \"#2a3f5f\"}, \"marker\": {\"line\": {\"color\": \"#E5ECF6\", \"width\": 0.5}}, \"type\": \"bar\"}], \"barpolar\": [{\"marker\": {\"line\": {\"color\": \"#E5ECF6\", \"width\": 0.5}}, \"type\": \"barpolar\"}], \"carpet\": [{\"aaxis\": {\"endlinecolor\": \"#2a3f5f\", \"gridcolor\": \"white\", \"linecolor\": \"white\", \"minorgridcolor\": \"white\", \"startlinecolor\": \"#2a3f5f\"}, \"baxis\": {\"endlinecolor\": \"#2a3f5f\", \"gridcolor\": \"white\", \"linecolor\": \"white\", \"minorgridcolor\": \"white\", \"startlinecolor\": \"#2a3f5f\"}, \"type\": \"carpet\"}], \"choropleth\": [{\"colorbar\": {\"outlinewidth\": 0, \"ticks\": \"\"}, \"type\": \"choropleth\"}], \"contour\": [{\"colorbar\": {\"outlinewidth\": 0, \"ticks\": \"\"}, \"colorscale\": [[0.0, \"#0d0887\"], [0.1111111111111111, \"#46039f\"], [0.2222222222222222, \"#7201a8\"], [0.3333333333333333, \"#9c179e\"], [0.4444444444444444, \"#bd3786\"], [0.5555555555555556, \"#d8576b\"], [0.6666666666666666, \"#ed7953\"], [0.7777777777777778, \"#fb9f3a\"], [0.8888888888888888, \"#fdca26\"], [1.0, \"#f0f921\"]], \"type\": \"contour\"}], \"contourcarpet\": [{\"colorbar\": {\"outlinewidth\": 0, \"ticks\": \"\"}, \"type\": \"contourcarpet\"}], \"heatmap\": [{\"colorbar\": {\"outlinewidth\": 0, \"ticks\": \"\"}, \"colorscale\": [[0.0, \"#0d0887\"], [0.1111111111111111, \"#46039f\"], [0.2222222222222222, \"#7201a8\"], [0.3333333333333333, \"#9c179e\"], [0.4444444444444444, \"#bd3786\"], [0.5555555555555556, \"#d8576b\"], [0.6666666666666666, \"#ed7953\"], [0.7777777777777778, \"#fb9f3a\"], [0.8888888888888888, \"#fdca26\"], [1.0, \"#f0f921\"]], \"type\": \"heatmap\"}], \"heatmapgl\": [{\"colorbar\": {\"outlinewidth\": 0, \"ticks\": \"\"}, \"colorscale\": [[0.0, \"#0d0887\"], [0.1111111111111111, \"#46039f\"], [0.2222222222222222, \"#7201a8\"], [0.3333333333333333, \"#9c179e\"], [0.4444444444444444, \"#bd3786\"], [0.5555555555555556, \"#d8576b\"], [0.6666666666666666, \"#ed7953\"], [0.7777777777777778, \"#fb9f3a\"], [0.8888888888888888, \"#fdca26\"], [1.0, \"#f0f921\"]], \"type\": \"heatmapgl\"}], \"histogram\": [{\"marker\": {\"colorbar\": {\"outlinewidth\": 0, \"ticks\": \"\"}}, \"type\": \"histogram\"}], \"histogram2d\": [{\"colorbar\": {\"outlinewidth\": 0, \"ticks\": \"\"}, \"colorscale\": [[0.0, \"#0d0887\"], [0.1111111111111111, \"#46039f\"], [0.2222222222222222, \"#7201a8\"], [0.3333333333333333, \"#9c179e\"], [0.4444444444444444, \"#bd3786\"], [0.5555555555555556, \"#d8576b\"], [0.6666666666666666, \"#ed7953\"], [0.7777777777777778, \"#fb9f3a\"], [0.8888888888888888, \"#fdca26\"], [1.0, \"#f0f921\"]], \"type\": \"histogram2d\"}], \"histogram2dcontour\": [{\"colorbar\": {\"outlinewidth\": 0, \"ticks\": \"\"}, \"colorscale\": [[0.0, \"#0d0887\"], [0.1111111111111111, \"#46039f\"], [0.2222222222222222, \"#7201a8\"], [0.3333333333333333, \"#9c179e\"], [0.4444444444444444, \"#bd3786\"], [0.5555555555555556, \"#d8576b\"], [0.6666666666666666, \"#ed7953\"], [0.7777777777777778, \"#fb9f3a\"], [0.8888888888888888, \"#fdca26\"], [1.0, \"#f0f921\"]], \"type\": \"histogram2dcontour\"}], \"mesh3d\": [{\"colorbar\": {\"outlinewidth\": 0, \"ticks\": \"\"}, \"type\": \"mesh3d\"}], \"parcoords\": [{\"line\": {\"colorbar\": {\"outlinewidth\": 0, \"ticks\": \"\"}}, \"type\": \"parcoords\"}], \"pie\": [{\"automargin\": true, \"type\": \"pie\"}], \"scatter\": [{\"marker\": {\"colorbar\": {\"outlinewidth\": 0, \"ticks\": \"\"}}, \"type\": \"scatter\"}], \"scatter3d\": [{\"line\": {\"colorbar\": {\"outlinewidth\": 0, \"ticks\": \"\"}}, \"marker\": {\"colorbar\": {\"outlinewidth\": 0, \"ticks\": \"\"}}, \"type\": \"scatter3d\"}], \"scattercarpet\": [{\"marker\": {\"colorbar\": {\"outlinewidth\": 0, \"ticks\": \"\"}}, \"type\": \"scattercarpet\"}], \"scattergeo\": [{\"marker\": {\"colorbar\": {\"outlinewidth\": 0, \"ticks\": \"\"}}, \"type\": \"scattergeo\"}], \"scattergl\": [{\"marker\": {\"colorbar\": {\"outlinewidth\": 0, \"ticks\": \"\"}}, \"type\": \"scattergl\"}], \"scattermapbox\": [{\"marker\": {\"colorbar\": {\"outlinewidth\": 0, \"ticks\": \"\"}}, \"type\": \"scattermapbox\"}], \"scatterpolar\": [{\"marker\": {\"colorbar\": {\"outlinewidth\": 0, \"ticks\": \"\"}}, \"type\": \"scatterpolar\"}], \"scatterpolargl\": [{\"marker\": {\"colorbar\": {\"outlinewidth\": 0, \"ticks\": \"\"}}, \"type\": \"scatterpolargl\"}], \"scatterternary\": [{\"marker\": {\"colorbar\": {\"outlinewidth\": 0, \"ticks\": \"\"}}, \"type\": \"scatterternary\"}], \"surface\": [{\"colorbar\": {\"outlinewidth\": 0, \"ticks\": \"\"}, \"colorscale\": [[0.0, \"#0d0887\"], [0.1111111111111111, \"#46039f\"], [0.2222222222222222, \"#7201a8\"], [0.3333333333333333, \"#9c179e\"], [0.4444444444444444, \"#bd3786\"], [0.5555555555555556, \"#d8576b\"], [0.6666666666666666, \"#ed7953\"], [0.7777777777777778, \"#fb9f3a\"], [0.8888888888888888, \"#fdca26\"], [1.0, \"#f0f921\"]], \"type\": \"surface\"}], \"table\": [{\"cells\": {\"fill\": {\"color\": \"#EBF0F8\"}, \"line\": {\"color\": \"white\"}}, \"header\": {\"fill\": {\"color\": \"#C8D4E3\"}, \"line\": {\"color\": \"white\"}}, \"type\": \"table\"}]}, \"layout\": {\"annotationdefaults\": {\"arrowcolor\": \"#2a3f5f\", \"arrowhead\": 0, \"arrowwidth\": 1}, \"coloraxis\": {\"colorbar\": {\"outlinewidth\": 0, \"ticks\": \"\"}}, \"colorscale\": {\"diverging\": [[0, \"#8e0152\"], [0.1, \"#c51b7d\"], [0.2, \"#de77ae\"], [0.3, \"#f1b6da\"], [0.4, \"#fde0ef\"], [0.5, \"#f7f7f7\"], [0.6, \"#e6f5d0\"], [0.7, \"#b8e186\"], [0.8, \"#7fbc41\"], [0.9, \"#4d9221\"], [1, \"#276419\"]], \"sequential\": [[0.0, \"#0d0887\"], [0.1111111111111111, \"#46039f\"], [0.2222222222222222, \"#7201a8\"], [0.3333333333333333, \"#9c179e\"], [0.4444444444444444, \"#bd3786\"], [0.5555555555555556, \"#d8576b\"], [0.6666666666666666, \"#ed7953\"], [0.7777777777777778, \"#fb9f3a\"], [0.8888888888888888, \"#fdca26\"], [1.0, \"#f0f921\"]], \"sequentialminus\": [[0.0, \"#0d0887\"], [0.1111111111111111, \"#46039f\"], [0.2222222222222222, \"#7201a8\"], [0.3333333333333333, \"#9c179e\"], [0.4444444444444444, \"#bd3786\"], [0.5555555555555556, \"#d8576b\"], [0.6666666666666666, \"#ed7953\"], [0.7777777777777778, \"#fb9f3a\"], [0.8888888888888888, \"#fdca26\"], [1.0, \"#f0f921\"]]}, \"colorway\": [\"#636efa\", \"#EF553B\", \"#00cc96\", \"#ab63fa\", \"#FFA15A\", \"#19d3f3\", \"#FF6692\", \"#B6E880\", \"#FF97FF\", \"#FECB52\"], \"font\": {\"color\": \"#2a3f5f\"}, \"geo\": {\"bgcolor\": \"white\", \"lakecolor\": \"white\", \"landcolor\": \"#E5ECF6\", \"showlakes\": true, \"showland\": true, \"subunitcolor\": \"white\"}, \"hoverlabel\": {\"align\": \"left\"}, \"hovermode\": \"closest\", \"mapbox\": {\"style\": \"light\"}, \"paper_bgcolor\": \"white\", \"plot_bgcolor\": \"#E5ECF6\", \"polar\": {\"angularaxis\": {\"gridcolor\": \"white\", \"linecolor\": \"white\", \"ticks\": \"\"}, \"bgcolor\": \"#E5ECF6\", \"radialaxis\": {\"gridcolor\": \"white\", \"linecolor\": \"white\", \"ticks\": \"\"}}, \"scene\": {\"xaxis\": {\"backgroundcolor\": \"#E5ECF6\", \"gridcolor\": \"white\", \"gridwidth\": 2, \"linecolor\": \"white\", \"showbackground\": true, \"ticks\": \"\", \"zerolinecolor\": \"white\"}, \"yaxis\": {\"backgroundcolor\": \"#E5ECF6\", \"gridcolor\": \"white\", \"gridwidth\": 2, \"linecolor\": \"white\", \"showbackground\": true, \"ticks\": \"\", \"zerolinecolor\": \"white\"}, \"zaxis\": {\"backgroundcolor\": \"#E5ECF6\", \"gridcolor\": \"white\", \"gridwidth\": 2, \"linecolor\": \"white\", \"showbackground\": true, \"ticks\": \"\", \"zerolinecolor\": \"white\"}}, \"shapedefaults\": {\"line\": {\"color\": \"#2a3f5f\"}}, \"ternary\": {\"aaxis\": {\"gridcolor\": \"white\", \"linecolor\": \"white\", \"ticks\": \"\"}, \"baxis\": {\"gridcolor\": \"white\", \"linecolor\": \"white\", \"ticks\": \"\"}, \"bgcolor\": \"#E5ECF6\", \"caxis\": {\"gridcolor\": \"white\", \"linecolor\": \"white\", \"ticks\": \"\"}}, \"title\": {\"x\": 0.05}, \"xaxis\": {\"automargin\": true, \"gridcolor\": \"white\", \"linecolor\": \"white\", \"ticks\": \"\", \"title\": {\"standoff\": 15}, \"zerolinecolor\": \"white\", \"zerolinewidth\": 2}, \"yaxis\": {\"automargin\": true, \"gridcolor\": \"white\", \"linecolor\": \"white\", \"ticks\": \"\", \"title\": {\"standoff\": 15}, \"zerolinecolor\": \"white\", \"zerolinewidth\": 2}}}, \"title\": {\"font\": {\"color\": \"#4D5663\"}, \"text\": \"Fragen 5, 6, 7, 8, 9, 16, 17 (5 Sterne = trifft voll zu)\"}, \"width\": 700, \"xaxis\": {\"gridcolor\": \"#E1E5ED\", \"showgrid\": true, \"tickfont\": {\"color\": \"#4D5663\"}, \"title\": {\"font\": {\"color\": \"#4D5663\"}, \"text\": \"\"}, \"zerolinecolor\": \"#E1E5ED\"}, \"yaxis\": {\"gridcolor\": \"#E1E5ED\", \"showgrid\": true, \"tickfont\": {\"color\": \"#4D5663\"}, \"title\": {\"font\": {\"color\": \"#4D5663\"}, \"text\": \"\"}, \"zerolinecolor\": \"#E1E5ED\"}},\n",
       "                        {\"showLink\": true, \"linkText\": \"Export to plot.ly\", \"plotlyServerURL\": \"https://plot.ly\", \"responsive\": true}\n",
       "                    ).then(function(){\n",
       "                            \n",
       "var gd = document.getElementById('b14ced4f-e5b7-4ccb-89ad-3569516fd17b');\n",
       "var x = new MutationObserver(function (mutations, observer) {{\n",
       "        var display = window.getComputedStyle(gd).display;\n",
       "        if (!display || display === 'none') {{\n",
       "            console.log([gd, 'removed!']);\n",
       "            Plotly.purge(gd);\n",
       "            observer.disconnect();\n",
       "        }}\n",
       "}});\n",
       "\n",
       "// Listen for the removal of the full notebook cells\n",
       "var notebookContainer = gd.closest('#notebook-container');\n",
       "if (notebookContainer) {{\n",
       "    x.observe(notebookContainer, {childList: true});\n",
       "}}\n",
       "\n",
       "// Listen for the clearing of the current output cell\n",
       "var outputEl = gd.closest('.output');\n",
       "if (outputEl) {{\n",
       "    x.observe(outputEl, {childList: true});\n",
       "}}\n",
       "\n",
       "                        })\n",
       "                };\n",
       "                });\n",
       "            </script>\n",
       "        </div>"
      ]
     },
     "metadata": {},
     "output_type": "display_data"
    }
   ],
   "source": [
    "d=df[['F5', 'F6', 'F7', 'F8', 'F9', 'F16', 'F17']]\n",
    "d.iplot(kind='box', dimensions=(700, 400), title='Fragen 5, 6, 7, 8, 9, 16, 17 (5 Sterne = trifft voll zu)')"
   ]
  },
  {
   "cell_type": "code",
   "execution_count": 166,
   "metadata": {},
   "outputs": [
    {
     "data": {
      "application/vnd.jupyter.widget-view+json": {
       "model_id": "9b32485bbfa9442eb334aff31e39c3db",
       "version_major": 2,
       "version_minor": 0
      },
      "text/plain": [
       "interactive(children=(Dropdown(description='Frage', options=('F5', 'F6', 'F7', 'F8', 'F9', 'F16', 'F17'), valu…"
      ]
     },
     "metadata": {},
     "output_type": "display_data"
    },
    {
     "data": {
      "text/plain": [
       "<function __main__.ploting5_17(Frage='F5', Gruppieren='Geschlecht')>"
      ]
     },
     "execution_count": 166,
     "metadata": {},
     "output_type": "execute_result"
    }
   ],
   "source": [
    "def ploting5_17(Frage='F5', Gruppieren='Geschlecht'):\n",
    "    d=df[[Frage, Gruppieren]].pivot(columns=Gruppieren, values=Frage)\n",
    "    d.drop([np.nan], axis=1, inplace=True, errors='ignore')\n",
    "    title=df_columns[new_columns.index(Frage)]\n",
    "    title=title[:100] + \"-<br>\" + title[100:]\n",
    "    _data=d.iplot(kind='box', dimensions=(700, 400), title=f'{Frage} {title}', xTitle=f'Gruppiert nach {Gruppieren}', asFigure=True)\n",
    "    _data['layout']['title']['font'] = dict(size=12)\n",
    "    _data.iplot()\n",
    "\n",
    "interact(ploting5_17, Frage=['F5', 'F6', 'F7', 'F8', 'F9', 'F16', 'F17'], Gruppieren=['Alter', 'Schulform', 'Geschlecht', 'Schule'])"
   ]
  },
  {
   "cell_type": "code",
   "execution_count": null,
   "metadata": {},
   "outputs": [],
   "source": []
  }
 ],
 "metadata": {
  "kernelspec": {
   "display_name": "Python 3",
   "language": "python",
   "name": "python3"
  },
  "language_info": {
   "codemirror_mode": {
    "name": "ipython",
    "version": 3
   },
   "file_extension": ".py",
   "mimetype": "text/x-python",
   "name": "python",
   "nbconvert_exporter": "python",
   "pygments_lexer": "ipython3",
   "version": "3.8.5"
  }
 },
 "nbformat": 4,
 "nbformat_minor": 4
}
